{
 "cells": [
  {
   "cell_type": "markdown",
   "metadata": {
    "id": "yTMl_zvpvZQ5"
   },
   "source": [
    "# Funciones `lambda`\n",
    "\n"
   ]
  },
  {
   "cell_type": "markdown",
   "metadata": {
    "id": "dOVM-A5-FiFm"
   },
   "source": [
    "## Funciones `lambda`\n",
    "\n",
    "Son un tipo especial de funciones de `Python` que tienen la sintaxis siguiente\n",
    "\n",
    "\n",
    "```\n",
    "lambda parámetros: expresión\n",
    "```\n",
    "\n"
   ]
  },
  {
   "cell_type": "markdown",
   "metadata": {
    "id": "UZF6R7zFvzzK"
   },
   "source": [
    "- Son útiles para ejecutar funciones en una sola línea\n",
    "- Pueden tomar cualquier número de argumentos\n",
    "- Tienen una limitación: solamente pueden contener una expresión\n",
    "\n",
    "Veamos algunos ejemplos\n",
    "\n"
   ]
  },
  {
   "cell_type": "markdown",
   "metadata": {
    "id": "lvnBReyPFltn"
   },
   "source": [
    "---\n",
    "\n",
    "#### Ejemplo 1\n",
    "\n",
    "Función que dado un número, le suma 10 puntos más:"
   ]
  },
  {
   "cell_type": "code",
   "execution_count": 1,
   "metadata": {
    "colab": {
     "base_uri": "https://localhost:8080/"
    },
    "executionInfo": {
     "elapsed": 5,
     "status": "ok",
     "timestamp": 1684014662591,
     "user": {
      "displayName": "Ainara Montoya",
      "userId": "04156984210870783133"
     },
     "user_tz": -120
    },
    "id": "MRnWT4-Dz8yJ",
    "outputId": "91915150-4474-4061-cca2-3a4e1eb3671e"
   },
   "outputs": [
    {
     "data": {
      "text/plain": [
       "15"
      ]
     },
     "execution_count": 1,
     "metadata": {},
     "output_type": "execute_result"
    }
   ],
   "source": [
    "plus10 = lambda x: x + 10\n",
    "plus10(5)"
   ]
  },
  {
   "cell_type": "markdown",
   "metadata": {
    "id": "npUEMWbu0Dd7"
   },
   "source": [
    "---\n",
    "\n",
    "#### Ejemplo 2\n",
    "\n",
    "Función que calcula el producto de dos números:"
   ]
  },
  {
   "cell_type": "code",
   "execution_count": 2,
   "metadata": {
    "id": "EM19vCokv_Lp"
   },
   "outputs": [],
   "source": [
    "prod = lambda x, y: x * y"
   ]
  },
  {
   "cell_type": "code",
   "execution_count": 3,
   "metadata": {
    "colab": {
     "base_uri": "https://localhost:8080/"
    },
    "executionInfo": {
     "elapsed": 254,
     "status": "ok",
     "timestamp": 1684014698121,
     "user": {
      "displayName": "Ainara Montoya",
      "userId": "04156984210870783133"
     },
     "user_tz": -120
    },
    "id": "enxD7WvLwCtl",
    "outputId": "a9a8ea5e-5862-416e-92c1-84bfd12c35f1"
   },
   "outputs": [
    {
     "data": {
      "text/plain": [
       "50"
      ]
     },
     "execution_count": 3,
     "metadata": {},
     "output_type": "execute_result"
    }
   ],
   "source": [
    "prod(5, 10)"
   ]
  },
  {
   "cell_type": "markdown",
   "metadata": {
    "id": "yibBaY-94Mha"
   },
   "source": [
    "---\n",
    "\n",
    "#### Ejemplo 3\n",
    "\n",
    "Función que dados 3 números, calcula el discriminante de la ecuación de segundo grado.\n",
    "\n",
    "Recordemos que dada una ecuación de segundo grado de la forma $$ax^2 + bx + c = 0$$\n",
    "\n",
    "el discriminante es $$\\triangle =  b^2-4ac$$\n",
    "\n",
    "y dependiendo de su signo, nos indica cuantas soluciones reales va a tener la ecuación:\n",
    "\n",
    "- Si $\\triangle > 0$, entonces hay dos soluciones diferentes\n",
    "- Si $\\triangle = 0$, entonces hay dos soluciones que son iguales\n",
    "- Si $\\triangle < 0$, entonces no hay solución"
   ]
  },
  {
   "cell_type": "code",
   "execution_count": 4,
   "metadata": {
    "colab": {
     "base_uri": "https://localhost:8080/"
    },
    "executionInfo": {
     "elapsed": 260,
     "status": "ok",
     "timestamp": 1684014737030,
     "user": {
      "displayName": "Ainara Montoya",
      "userId": "04156984210870783133"
     },
     "user_tz": -120
    },
    "id": "V5DG4CFW41c4",
    "outputId": "67e4abe3-fd34-4f81-c954-caf955c3e926"
   },
   "outputs": [
    {
     "data": {
      "text/plain": [
       "0"
      ]
     },
     "execution_count": 4,
     "metadata": {},
     "output_type": "execute_result"
    }
   ],
   "source": [
    "discriminante = lambda a, b, c: b ** 2 - 4 * a * c\n",
    "discriminante(1, 2, 1) # Se corresponde a la ecuación x^2 + 2x + 1 = 0, cuya única solución es x = -1"
   ]
  },
  {
   "cell_type": "markdown",
   "metadata": {
    "id": "tcWMDcsG5ZN3"
   },
   "source": [
    "---"
   ]
  },
  {
   "cell_type": "markdown",
   "metadata": {
    "id": "xe1Ttp5ZwGKe"
   },
   "source": [
    "## La función `filter()`\n",
    "\n",
    "- Aplica una función a todos los elementos de un objeto iterable\n",
    "- Devuelve un objeto generador, de ahí que usemos la función `list()` para convertirlo a lista\n",
    "- Como output, devuelve los elementos para los cuales el aplicar la función ha devuelto `True`\n",
    "\n",
    "Con la ayuda de las funciones `lambda`, apliquemos `filter()` para quedarnos con los números múltiplos de 7 de la siguiente lista llamada `nums`"
   ]
  },
  {
   "cell_type": "code",
   "execution_count": 5,
   "metadata": {
    "colab": {
     "base_uri": "https://localhost:8080/"
    },
    "executionInfo": {
     "elapsed": 267,
     "status": "ok",
     "timestamp": 1684014873433,
     "user": {
      "displayName": "Ainara Montoya",
      "userId": "04156984210870783133"
     },
     "user_tz": -120
    },
    "id": "T5cjAfOkwizf",
    "outputId": "927c74d0-c665-4c7a-ceb3-09736a93376d"
   },
   "outputs": [
    {
     "data": {
      "text/plain": [
       "[49, 147]"
      ]
     },
     "execution_count": 5,
     "metadata": {},
     "output_type": "execute_result"
    }
   ],
   "source": [
    "nums = [49, 57, 62, 147, 2101, 22]\n",
    "list(filter(lambda x: (x % 7 == 0), nums))"
   ]
  },
  {
   "cell_type": "markdown",
   "metadata": {
    "id": "AeH0WM_666HK"
   },
   "source": [
    "La función proporcionada a `filter()` no tiene por qué ser `lambda`, sino que puede ser una ya existente, o bien una creada por nosotros mismos.\n",
    "\n",
    "Con las siguientes líneas de código vamos a obtener todas las palabras cuya tercera letra sea `s` haciendo uso de `filter()` y la función creada `third_letter_is_s()`:"
   ]
  },
  {
   "cell_type": "code",
   "execution_count": 6,
   "metadata": {
    "id": "AjVNskBe7vAD"
   },
   "outputs": [],
   "source": [
    "def third_letter_is_s(word):\n",
    "  return word[2] == \"s\""
   ]
  },
  {
   "cell_type": "code",
   "execution_count": 7,
   "metadata": {
    "colab": {
     "base_uri": "https://localhost:8080/"
    },
    "executionInfo": {
     "elapsed": 230,
     "status": "ok",
     "timestamp": 1684014933059,
     "user": {
      "displayName": "Ainara Montoya",
      "userId": "04156984210870783133"
     },
     "user_tz": -120
    },
    "id": "k1C7-JWf76Lp",
    "outputId": "521ca2c8-eb89-46d3-8191-ad1d76459534"
   },
   "outputs": [
    {
     "data": {
      "text/plain": [
       "['castaña', 'masa', 'tostada']"
      ]
     },
     "execution_count": 7,
     "metadata": {},
     "output_type": "execute_result"
    }
   ],
   "source": [
    "words = [\"castaña\", \"astronomía\", \"masa\", \"bolígrafo\", \"mando\", \"tostada\"]\n",
    "list(filter(third_letter_is_s, words))"
   ]
  },
  {
   "cell_type": "markdown",
   "metadata": {
    "id": "CyI_nHtLw2Qk"
   },
   "source": [
    "## La función `reduce()`\n",
    "\n",
    "- Aplica continuamente una misma función a los elementos de un objeto iterable\n",
    "\n",
    "    1. Aplica la función a los primeros dos elementos\n",
    "    2. Aplica la función al resultado del paso anterior y el tercer elemento\n",
    "    3. Aplica la función al resultado del paso anterior y el cuarto elemento\n",
    "    4. Sigue así hasta que solo queda un elemento\n",
    "- Devuelve el valor resultante\n",
    "\n",
    "Con la ayuda de las funciones `lambda`, apliquemos `reduce()` para calcular el producto de todos los elementos de una lista"
   ]
  },
  {
   "cell_type": "code",
   "execution_count": 8,
   "metadata": {
    "id": "nOVFz8uuw0UJ"
   },
   "outputs": [],
   "source": [
    "from functools import reduce"
   ]
  },
  {
   "cell_type": "code",
   "execution_count": 9,
   "metadata": {
    "colab": {
     "base_uri": "https://localhost:8080/"
    },
    "id": "W8fGtGNaxj-5",
    "outputId": "18cc4811-f9b5-4c6c-b4dc-175ce8aa215b"
   },
   "outputs": [
    {
     "data": {
      "text/plain": [
       "720"
      ]
     },
     "execution_count": 9,
     "metadata": {},
     "output_type": "execute_result"
    }
   ],
   "source": [
    "nums = [1, 2, 3, 4, 5, 6]\n",
    "reduce(lambda x, y: x * y, nums)"
   ]
  },
  {
   "cell_type": "markdown",
   "metadata": {
    "id": "9u7E8ixv8M02"
   },
   "source": [
    "De nuevo, la función proporcionada a `reduce()` no tiene por qué ser `lambda`, sino que puede ser una ya existente o bien, una creada por nosotros mismos.\n",
    "\n",
    "Con las siguientes líneas de código, vamos a obtener el máximo de una lista dada, haciendo uso de `reduce()` y la función creada `bigger_than()`:"
   ]
  },
  {
   "cell_type": "code",
   "execution_count": 10,
   "metadata": {
    "id": "nfXGOSCA9CAf"
   },
   "outputs": [],
   "source": [
    "def bigger_than(a, b):\n",
    "  if a > b:\n",
    "    return a\n",
    "  return b"
   ]
  },
  {
   "cell_type": "code",
   "execution_count": 11,
   "metadata": {
    "colab": {
     "base_uri": "https://localhost:8080/"
    },
    "executionInfo": {
     "elapsed": 246,
     "status": "ok",
     "timestamp": 1684015062612,
     "user": {
      "displayName": "Ainara Montoya",
      "userId": "04156984210870783133"
     },
     "user_tz": -120
    },
    "id": "vKYBPswJFxWw",
    "outputId": "442fc839-920a-4d85-b3f0-deb40b87a3af"
   },
   "outputs": [
    {
     "data": {
      "text/plain": [
       "14"
      ]
     },
     "execution_count": 11,
     "metadata": {},
     "output_type": "execute_result"
    }
   ],
   "source": [
    "bigger_than(14, 7)"
   ]
  },
  {
   "cell_type": "code",
   "execution_count": 12,
   "metadata": {
    "colab": {
     "base_uri": "https://localhost:8080/"
    },
    "executionInfo": {
     "elapsed": 273,
     "status": "ok",
     "timestamp": 1684015068512,
     "user": {
      "displayName": "Ainara Montoya",
      "userId": "04156984210870783133"
     },
     "user_tz": -120
    },
    "id": "YkR81poo9NEZ",
    "outputId": "cb092ee4-f0e4-486e-f624-7180afa6dcd8"
   },
   "outputs": [
    {
     "data": {
      "text/plain": [
       "33"
      ]
     },
     "execution_count": 12,
     "metadata": {},
     "output_type": "execute_result"
    }
   ],
   "source": [
    "nums = [-10, 5, 7, -3, 16, -30, 2, 33]\n",
    "reduce(bigger_than, nums)"
   ]
  },
  {
   "cell_type": "markdown",
   "metadata": {
    "id": "c0kYiYJ0x0lH"
   },
   "source": [
    "## La función `map()`\n",
    "\n",
    "- Aplica una misma función a todos los elementos de un objeto iterable\n",
    "- Devuelve un objeto generador, de ahí que usemos la función `list()` para convertirlo a lista\n",
    "- Como output, devuelve el resultado de aplicar la función a cada elemento\n",
    "\n",
    "Con la ayuda de las funciones `lambda`, apliquemos `map()` para calcular las longitudes de las siguientes palabras"
   ]
  },
  {
   "cell_type": "code",
   "execution_count": 13,
   "metadata": {
    "colab": {
     "base_uri": "https://localhost:8080/"
    },
    "executionInfo": {
     "elapsed": 228,
     "status": "ok",
     "timestamp": 1684015107071,
     "user": {
      "displayName": "Ainara Montoya",
      "userId": "04156984210870783133"
     },
     "user_tz": -120
    },
    "id": "3D4MNmF9xp_V",
    "outputId": "cd98299a-b94d-4874-8b02-c2572c897633"
   },
   "outputs": [
    {
     "data": {
      "text/plain": [
       "[6, 5, 4, 5, 8, 6]"
      ]
     },
     "execution_count": 13,
     "metadata": {},
     "output_type": "execute_result"
    }
   ],
   "source": [
    "words = [\"zapato\", \"amigo\", \"yoyo\", \"barco\", \"xilófono\", \"césped\"]\n",
    "list(map(lambda w: len(w), words))"
   ]
  },
  {
   "cell_type": "markdown",
   "metadata": {
    "id": "YTk0daHbyWJS"
   },
   "source": [
    "Sin embargo, para este caso en concreto no haría falta usar funciones `lambda`, pues podríamos hacer directamente"
   ]
  },
  {
   "cell_type": "code",
   "execution_count": 14,
   "metadata": {
    "colab": {
     "base_uri": "https://localhost:8080/"
    },
    "executionInfo": {
     "elapsed": 230,
     "status": "ok",
     "timestamp": 1684015114701,
     "user": {
      "displayName": "Ainara Montoya",
      "userId": "04156984210870783133"
     },
     "user_tz": -120
    },
    "id": "aldFAJFkyfCk",
    "outputId": "2ad5882d-b5ca-4652-e1c0-231de69cfba0"
   },
   "outputs": [
    {
     "data": {
      "text/plain": [
       "[6, 5, 4, 5, 8, 6]"
      ]
     },
     "execution_count": 14,
     "metadata": {},
     "output_type": "execute_result"
    }
   ],
   "source": [
    "list(map(len, words))"
   ]
  },
  {
   "cell_type": "markdown",
   "metadata": {
    "id": "BHi1SsQwyjI9"
   },
   "source": [
    "## La función `sorted()`\n",
    "\n",
    "- Ordena los elementos del objeto iterable que indiquemos de acuerdo a la función que pasemos por parámetro\n",
    "- Como output, devuelve una permutación del objeto iterable ordenado según la función indicada\n",
    "\n",
    "Con la ayuda de las funciones `lambda`, apliquemos `sorted()` para ordenar la lista `words` en función de las longitudes de las palabras en orden descendente."
   ]
  },
  {
   "cell_type": "code",
   "execution_count": 15,
   "metadata": {
    "colab": {
     "base_uri": "https://localhost:8080/"
    },
    "id": "nhusSK4hygr1",
    "outputId": "5459e67f-8a9c-4524-8a53-3f4793061038"
   },
   "outputs": [
    {
     "data": {
      "text/plain": [
       "['xilófono', 'zapato', 'césped', 'amigo', 'barco', 'yoyo']"
      ]
     },
     "execution_count": 15,
     "metadata": {},
     "output_type": "execute_result"
    }
   ],
   "source": [
    "words = [\"zapato\", \"amigo\", \"yoyo\", \"barco\", \"xilófono\", \"césped\"]\n",
    "sorted(words, key = lambda x: len(x), reverse = True)"
   ]
  },
  {
   "cell_type": "markdown",
   "metadata": {
    "id": "LxV471EnzGRY"
   },
   "source": [
    "De nuevo, podríamos en este caso evitar el uso de las funciones `lambda` haciendo uso del siguiente código:"
   ]
  },
  {
   "cell_type": "code",
   "execution_count": 16,
   "metadata": {
    "colab": {
     "base_uri": "https://localhost:8080/"
    },
    "executionInfo": {
     "elapsed": 259,
     "status": "ok",
     "timestamp": 1684015205948,
     "user": {
      "displayName": "Ainara Montoya",
      "userId": "04156984210870783133"
     },
     "user_tz": -120
    },
    "id": "BRhVg0lNzC-c",
    "outputId": "6c7aee38-3ee8-43f4-b358-3773dff0ee59"
   },
   "outputs": [
    {
     "data": {
      "text/plain": [
       "['xilófono', 'zapato', 'césped', 'amigo', 'barco', 'yoyo']"
      ]
     },
     "execution_count": 16,
     "metadata": {},
     "output_type": "execute_result"
    }
   ],
   "source": [
    "sorted(words, key = len, reverse = True)"
   ]
  },
  {
   "cell_type": "markdown",
   "metadata": {
    "id": "QvgnMCWhzPzp"
   },
   "source": [
    "**Observación.** Si quisiésemos ordenar en orden ascendente, simplemente tendríamos que indicar `reverse = False`, que al ser el valor por defecto, bastaría con omitir dicho parámetro.\n",
    "\n",
    "**Observación.** Si el tipo de objeto a ser ordenado es un string y no indicamos parámetro `key`, entonces se ordenan por defecto: orden alfabético ascendente."
   ]
  },
  {
   "cell_type": "code",
   "execution_count": 17,
   "metadata": {
    "colab": {
     "base_uri": "https://localhost:8080/"
    },
    "executionInfo": {
     "elapsed": 244,
     "status": "ok",
     "timestamp": 1684015265083,
     "user": {
      "displayName": "Ainara Montoya",
      "userId": "04156984210870783133"
     },
     "user_tz": -120
    },
    "id": "_lLiSMQYtNJi",
    "outputId": "c6499606-d6ad-4b77-92b9-228390b5abe4"
   },
   "outputs": [
    {
     "data": {
      "text/plain": [
       "['yoyo', 'amigo', 'barco', 'zapato', 'césped', 'xilófono']"
      ]
     },
     "execution_count": 17,
     "metadata": {},
     "output_type": "execute_result"
    }
   ],
   "source": [
    "sorted(words, key = len)"
   ]
  },
  {
   "cell_type": "code",
   "execution_count": 18,
   "metadata": {
    "colab": {
     "base_uri": "https://localhost:8080/"
    },
    "executionInfo": {
     "elapsed": 3,
     "status": "ok",
     "timestamp": 1684015266111,
     "user": {
      "displayName": "Ainara Montoya",
      "userId": "04156984210870783133"
     },
     "user_tz": -120
    },
    "id": "_W_nZHZqIXbh",
    "outputId": "193198e7-2e4b-4246-a3c2-f77de28ab786"
   },
   "outputs": [
    {
     "data": {
      "text/plain": [
       "['amigo', 'barco', 'césped', 'xilófono', 'yoyo', 'zapato']"
      ]
     },
     "execution_count": 18,
     "metadata": {},
     "output_type": "execute_result"
    }
   ],
   "source": [
    "sorted(words)"
   ]
  }
 ],
 "metadata": {
  "colab": {
   "provenance": []
  },
  "kernelspec": {
   "display_name": "Python 3 (ipykernel)",
   "language": "python",
   "name": "python3"
  },
  "language_info": {
   "codemirror_mode": {
    "name": "ipython",
    "version": 3
   },
   "file_extension": ".py",
   "mimetype": "text/x-python",
   "name": "python",
   "nbconvert_exporter": "python",
   "pygments_lexer": "ipython3",
   "version": "3.10.9"
  }
 },
 "nbformat": 4,
 "nbformat_minor": 1
}

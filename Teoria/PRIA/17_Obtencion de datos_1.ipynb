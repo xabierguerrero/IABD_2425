{
 "cells": [
  {
   "cell_type": "markdown",
   "metadata": {
    "id": "Iwkm1yiXOYNB"
   },
   "source": [
    "# Obtención de datos"
   ]
  },
  {
   "cell_type": "markdown",
   "metadata": {
    "id": "VGK36_cZoY4U"
   },
   "source": [
    "## Instalación e importación de librerías necesarias"
   ]
  },
  {
   "cell_type": "code",
   "execution_count": 34,
   "metadata": {
    "id": "WzdGV0SfNZcx"
   },
   "outputs": [
    {
     "name": "stdout",
     "output_type": "stream",
     "text": [
      "Requirement already satisfied: Faker in /Users/ainara/anaconda3/lib/python3.10/site-packages (18.10.1)\n",
      "Requirement already satisfied: python-dateutil>=2.4 in /Users/ainara/anaconda3/lib/python3.10/site-packages (from Faker) (2.8.2)\n",
      "Requirement already satisfied: six>=1.5 in /Users/ainara/anaconda3/lib/python3.10/site-packages (from python-dateutil>=2.4->Faker) (1.16.0)\n",
      "Requirement already satisfied: PyMySQL in /Users/ainara/anaconda3/lib/python3.10/site-packages (1.0.3)\n"
     ]
    }
   ],
   "source": [
    "!pip install Faker #es una herramienta para generar datos falsos de forma automática dentro de una aplicación\n",
    "!pip install PyMySQL #permite la interacción con bases de datos MySQL"
   ]
  },
  {
   "cell_type": "code",
   "execution_count": 35,
   "metadata": {
    "id": "_HQ6q-XS5_88"
   },
   "outputs": [],
   "source": [
    "import codecs\n",
    "from datetime import date\n",
    "from datetime import datetime\n",
    "from faker import Faker\n",
    "import pymysql\n",
    "import random\n",
    "import requests\n",
    "import csv\n",
    "import pandas as pd\n",
    "from sqlalchemy import create_engine"
   ]
  },
  {
   "cell_type": "markdown",
   "metadata": {
    "id": "sYck_vDDLl8b"
   },
   "source": [
    "## Inicialización de MySQL con datos de prueba"
   ]
  },
  {
   "cell_type": "markdown",
   "metadata": {
    "id": "XovNpWcBTuMI"
   },
   "source": [
    "Constantes utilizadas durante la construcción del dataset:"
   ]
  },
  {
   "cell_type": "code",
   "execution_count": 36,
   "metadata": {
    "id": "jIcjQcdoTyAm"
   },
   "outputs": [],
   "source": [
    "NUMERO_CLIENTES = 500\n",
    "NUMERO_PROVEEDORES = 10\n",
    "SEMILLA_ALEATORIA_GENERADOR = 10\n",
    "SEMILLA_ALEATORIA_RANDOM = 1"
   ]
  },
  {
   "cell_type": "markdown",
   "metadata": {
    "id": "d-UQcOi1XM0b"
   },
   "source": [
    "Inicializamos generador de contenido ficticio en español y semillas aleatorias para que el dataset generado sea siempre el mismo:"
   ]
  },
  {
   "cell_type": "code",
   "execution_count": 37,
   "metadata": {
    "id": "2A0wn6JlXL_N"
   },
   "outputs": [],
   "source": [
    "Faker.seed(SEMILLA_ALEATORIA_GENERADOR)\n",
    "random.seed(SEMILLA_ALEATORIA_RANDOM)\n",
    "fake = Faker(['es_ES'])"
   ]
  },
  {
   "cell_type": "markdown",
   "metadata": {
    "id": "L6vS_cRdX_Az"
   },
   "source": [
    "Funciones para la generación del conjunto de datos:"
   ]
  },
  {
   "cell_type": "code",
   "execution_count": 38,
   "metadata": {
    "id": "KI3AXb22IxvZ"
   },
   "outputs": [],
   "source": [
    "def build_providers_dataset(number):\n",
    "  providers = []\n",
    "  for i in range(1, number+1):\n",
    "    providers.append({\n",
    "      \"provider_id\": i,\n",
    "      \"name\": fake.company(),\n",
    "      \"email\": fake.company_email(),\n",
    "      \"webpage\": fake.domain_name()\n",
    "    })\n",
    "\n",
    "  return {\n",
    "      \"providers\": providers\n",
    "  }\n"
   ]
  },
  {
   "cell_type": "code",
   "execution_count": 39,
   "metadata": {
    "id": "xIgbOs6Tyr95"
   },
   "outputs": [],
   "source": [
    "def build_products_dataset(providers_info):\n",
    "  products = []\n",
    "  url = 'https://drive.google.com/uc?export=view&id=1D9MY0au4b7SXwhUdm6TNfsKfYzdkbAh_'\n",
    "  content = requests.get(url)\n",
    "  text = codecs.iterdecode(content.iter_lines(), 'utf-8')\n",
    "  reader = csv.DictReader(text, delimiter=',', quotechar='\"')\n",
    "  for row in reader:\n",
    "    products.append(row)\n",
    "\n",
    "  categories = sorted(set([product['category'] for product in products]))\n",
    "  categories = [{\"category_id\": i+1, \"name\": category} for (i, category) in enumerate(categories)]\n",
    "  categories_by_name = {category[\"name\"]: category[\"category_id\"] for category in categories}\n",
    "  products = [{\"product_id\": i+1, \n",
    "              \"name\": product[\"name\"], \n",
    "              \"price\": float(product[\"price\"]), \n",
    "              \"category_id\": categories_by_name[product[\"category\"]],\n",
    "              \"provider_id\": random.choice(providers_info)[\"provider_id\"]} \n",
    "              for (i, product) in enumerate(products)]\n",
    "  return {\n",
    "      'products': products,\n",
    "      'categories': categories\n",
    "  }"
   ]
  },
  {
   "cell_type": "code",
   "execution_count": 40,
   "metadata": {
    "id": "EgNdIKzJFUcY"
   },
   "outputs": [],
   "source": [
    "def build_people_dataset(number):\n",
    "\n",
    "  people = []\n",
    "  addresses = []\n",
    "  payment_info = []\n",
    "  address_id = 0\n",
    "  payment_id = 0\n",
    "\n",
    "  for i in range(1, number+1):\n",
    "    # Person data\n",
    "    people.append({\n",
    "      \"person_id\": i,\n",
    "      \"first_name\": fake.first_name(),\n",
    "      \"last_name\": fake.last_name(),\n",
    "      \"birth_date\": fake.date_between_dates(datetime(1960, 1, 1), datetime(2002, 6, 1)),\n",
    "      \"email\": fake.email(),\n",
    "      \"phone\": fake.phone_number(),\n",
    "      \"username\": fake.user_name(),\n",
    "      \"password\": fake.sha256(),\n",
    "      \"job\": fake.job()\n",
    "    })\n",
    "\n",
    "    # Payment information\n",
    "    if random.choice([False]*1 + [True]*2):\n",
    "      payment_id += 1\n",
    "      payment_info.append({\n",
    "          \"payment_id\": payment_id,\n",
    "          \"person_id\": i,\n",
    "          \"expiration\": fake.credit_card_expire(),\n",
    "          \"number\": fake.credit_card_number(),\n",
    "          \"provider\": fake.credit_card_provider(),\n",
    "          \"security_code\": fake.credit_card_security_code()\n",
    "      })\n",
    "\n",
    "    # Registered addresses\n",
    "    for j in range(random.choice([1]*43 + [2]*6 + [3])):\n",
    "      address_id+=1\n",
    "      addresses.append(\n",
    "      {\n",
    "        \"address_id\": address_id,\n",
    "        \"person_id\": i,\n",
    "        \"city\": fake.city(),\n",
    "        \"number\": fake.building_number(),\n",
    "        \"country\": \"España\",\n",
    "        \"zipcode\": fake.postcode(),\n",
    "        \"street\": fake.street_name()\n",
    "      })\n",
    "\n",
    "  return {\n",
    "      \"people\": people,\n",
    "      \"addresses\": addresses,\n",
    "      \"payment_information\": payment_info,\n",
    "  }\n"
   ]
  },
  {
   "cell_type": "code",
   "execution_count": 41,
   "metadata": {
    "id": "WHvXGVVsY69S"
   },
   "outputs": [],
   "source": [
    "def build_network_dataset(people_info):\n",
    "\n",
    "  WEB_PAGES = [fake.uri_path() for i in range(0,100)]\n",
    "  ACCESS_METHOD_PROPORTION = ['GET'] * 10 + ['POST'] \n",
    "  pages = []\n",
    "  accesses = []\n",
    "  access_id = 0\n",
    "\n",
    "  for i in range(0, len(WEB_PAGES)):\n",
    "    pages.append({\n",
    "        \"page_id\": i+1,\n",
    "        \"path\": WEB_PAGES[i]\n",
    "    })\n",
    "\n",
    "  for person in people_info:\n",
    "    # Access to webpages\n",
    "    for j in range(int(random.gauss(60, 40))):\n",
    "      access_id += 1\n",
    "      accesses.append({\n",
    "          \"access_id\": access_id,\n",
    "          \"person_id\": person[\"person_id\"],\n",
    "          \"method\": random.choice(ACCESS_METHOD_PROPORTION),\n",
    "          \"ip\": fake.ipv4_public(),\n",
    "          \"date\": fake.date_time_between(datetime(2020,1,1,0,0,0), datetime(2020,9,1,23,59,59)),\n",
    "          \"page_id\": random.randint(1, len(WEB_PAGES)-1)\n",
    "      })\n",
    "\n",
    "  # Anonymous access\n",
    "  for i in range(int(random.gauss(1000, 100))):\n",
    "    access_id += 1\n",
    "    accesses.append({\n",
    "        \"access_id\": access_id,\n",
    "        \"person_id\": None,\n",
    "        \"method\": random.choice(ACCESS_METHOD_PROPORTION),\n",
    "        \"ip\": fake.ipv4_public(),\n",
    "        \"date\": fake.date_time_between(datetime(2020,1,1,0,0,0), datetime(2020,9,1,23,59,59)),\n",
    "        \"page_id\": random.randint(1, len(WEB_PAGES)-1)\n",
    "    })\n",
    "\n",
    "  return {\n",
    "    \"web_pages\":  pages,\n",
    "    \"accesses\": accesses\n",
    "  }\n"
   ]
  },
  {
   "cell_type": "code",
   "execution_count": 42,
   "metadata": {
    "id": "Jxy8j3vRhav_"
   },
   "outputs": [],
   "source": [
    "def build_shopping_dataset(people, products, people_addresses):\n",
    "\n",
    "  shopping_carts = []\n",
    "  shopping_cart_products = []\n",
    "  orders = []\n",
    "  order_products = []\n",
    "  invoices = []\n",
    "  cart_id = 0\n",
    "  shopping_cart_id = 0\n",
    "  order_id = 0\n",
    "  order_product_id = 0\n",
    "  invoice_id = 0\n",
    "\n",
    "  PRODUCTS_PROBABILITY = [1]*2 + [2] * 3 + [3] * 3 + [4]*2 + [5]\n",
    "  ORDER_PROBABILITY = [0]+[1]*7+[2]*3+[3]*3+[4]*2+[5]\n",
    "  QUANTITY_PROBABILITY = [1]*5 +[2]*2 +[3]\n",
    "  RATING_PROBABILITY = [1]+[2]+[3]*2+[4]*4+[5]*3\n",
    "\n",
    "  for person in people:\n",
    "    # Build shopping cart\n",
    "    if random.choice([False * 9] + [True]):\n",
    "      cart_id += 1\n",
    "      shopping_carts.append({\n",
    "          \"cart_id\": cart_id,\n",
    "          \"person_id\": person[\"person_id\"],\n",
    "          \"date\": fake.date_time_between(datetime(2020,1,1,0,0,0), datetime(2020,9,1,23,59,59)),\n",
    "      })\n",
    "\n",
    "      chosen = random.sample(products, k = random.choice(PRODUCTS_PROBABILITY))\n",
    "      for product in chosen:\n",
    "        shopping_cart_id += 1\n",
    "        shopping_cart_products.append({\n",
    "            \"cart_id\": cart_id,\n",
    "            \"product_id\": product[\"product_id\"],\n",
    "            \"quantity\": random.choice(QUANTITY_PROBABILITY)\n",
    "        })\n",
    "    \n",
    "    # Build orders\n",
    "    for i in range(0, random.choice(ORDER_PROBABILITY)):\n",
    "      order_id += 1\n",
    "      order_price = 0\n",
    "      chosen = random.sample(products, k = random.choice(PRODUCTS_PROBABILITY))\n",
    "      for product in chosen:\n",
    "        order_product_id += 1\n",
    "        quantity = random.choice(QUANTITY_PROBABILITY)\n",
    "        order_products.append({\n",
    "            \"order_id\": order_id,\n",
    "            \"product_id\": product[\"product_id\"],\n",
    "            \"quantity\": quantity\n",
    "        })\n",
    "        order_price += quantity * product['price']\n",
    "\n",
    "      person_addresses = [address for address in people_addresses if address[\"person_id\"] == person[\"person_id\"]]\n",
    "      delivery_address = random.choice(person_addresses)\n",
    "      billing_address = random.choice(person_addresses)\n",
    "      orders.append({\n",
    "          \"order_id\": order_id,\n",
    "          \"person_id\": person[\"person_id\"],\n",
    "          \"date\": fake.date_time_between(datetime(2020,1,1,0,0,0), datetime(2020,9,1,23,59,59)),\n",
    "          # Purposely left wrong\n",
    "          \"delivery_address\": delivery_address['address_id'],\n",
    "          \"billing_address\": billing_address['address_id'],\n",
    "          \"price\": order_price\n",
    "      })\n",
    "\n",
    "  # Build invoices\n",
    "  for order in random.choices(orders, k = int(len(orders) * 0.8)):\n",
    "    invoice_id += 1\n",
    "    invoices.append({\n",
    "      \"invoice_id\": invoice_id,\n",
    "      \"order_id\": order[\"order_id\"],\n",
    "      \"date\": fake.date_time_between(order[\"date\"], datetime(2020,9,1,23,59,59)),\n",
    "      \"rating\": random.choice(RATING_PROBABILITY)\n",
    "    })\n",
    "\n",
    "  return {\n",
    "      'carts': shopping_carts,\n",
    "      'cart_product': shopping_cart_products,\n",
    "      'orders': orders,\n",
    "      'order_product': order_products,\n",
    "      'invoices': invoices    \n",
    "  }"
   ]
  },
  {
   "cell_type": "markdown",
   "metadata": {
    "id": "aF-l7KwBcBfz"
   },
   "source": [
    "Construcción incremental del dateset:"
   ]
  },
  {
   "cell_type": "code",
   "execution_count": 43,
   "metadata": {
    "id": "BTEzbXygzF_J"
   },
   "outputs": [],
   "source": [
    "dataset = {}\n",
    "dataset.update(build_providers_dataset(NUMERO_PROVEEDORES))\n",
    "dataset.update(build_products_dataset(dataset['providers']))\n",
    "dataset.update(build_people_dataset(NUMERO_CLIENTES))\n",
    "dataset.update(build_network_dataset(dataset['people']))\n",
    "dataset.update(build_shopping_dataset(dataset['people'], dataset['products'], dataset['addresses']))"
   ]
  },
  {
   "cell_type": "markdown",
   "metadata": {
    "id": "P-K3yxnTrbOr"
   },
   "source": [
    "### Carga de dataset en MySQL"
   ]
  },
  {
   "cell_type": "markdown",
   "metadata": {
    "id": "nmtI1eAHrbOv"
   },
   "source": [
    "#### Creación de la base de datos"
   ]
  },
  {
   "cell_type": "markdown",
   "metadata": {
    "id": "8rvF5SVGrbOv"
   },
   "source": [
    "Script para la creación de la base de datos en mysql"
   ]
  },
  {
   "cell_type": "markdown",
   "metadata": {
    "id": "0vQFpBVXrbOv"
   },
   "source": [
    "```\n",
    "DROP SCHEMA IF EXISTS shop;\n",
    "CREATE SCHEMA shop CHARACTER SET utf8mb4 COLLATE utf8mb4_unicode_ci;\n",
    "USE shop;\n",
    "\n",
    "DROP TABLE IF EXISTS accesses;\n",
    "CREATE TABLE accesses (\n",
    "    access_id INT,\n",
    "    person_id INT NULL DEFAULT NULL,\n",
    "    date DATETIME,\n",
    "    ip VARCHAR(20),\n",
    "    method VARCHAR(10),\n",
    "    page_id INT,\n",
    "    PRIMARY KEY(access_id)\n",
    ")\n",
    "CHARACTER SET utf8mb4 COLLATE utf8mb4_unicode_ci;\n",
    "\n",
    "DROP TABLE IF EXISTS web_pages;\n",
    "CREATE TABLE web_pages (\n",
    "    page_id INT,\n",
    "    path VARCHAR(250),\n",
    "    PRIMARY KEY(page_id)\n",
    ")\n",
    "CHARACTER SET utf8mb4 COLLATE utf8mb4_unicode_ci;\n",
    "\n",
    "DROP TABLE IF EXISTS carts;\n",
    "CREATE TABLE carts (\n",
    "    cart_id INT,\n",
    "    person_id INT,\n",
    "    date DATETIME,\n",
    "    PRIMARY KEY(cart_id)\n",
    ")\n",
    "CHARACTER SET utf8mb4 COLLATE utf8mb4_unicode_ci;\n",
    "\n",
    "DROP TABLE IF EXISTS cart_product;\n",
    "CREATE TABLE cart_product (\n",
    "    cart_id INT,\n",
    "    product_id INT,\n",
    "    quantity INT,\n",
    "    PRIMARY KEY(cart_id, product_id)\n",
    ")\n",
    "CHARACTER SET utf8mb4 COLLATE utf8mb4_unicode_ci;\n",
    "\n",
    "DROP TABLE IF EXISTS categories;\n",
    "CREATE TABLE categories (\n",
    "    category_id INT,\n",
    "    name VARCHAR(100),\n",
    "    PRIMARY KEY(category_id)\n",
    ")\n",
    "CHARACTER SET utf8mb4 COLLATE utf8mb4_unicode_ci;\n",
    "\n",
    "DROP TABLE IF EXISTS invoices;\n",
    "CREATE TABLE invoices (\n",
    "    invoice_id INT,\n",
    "    order_id INT,\n",
    "    date DATETIME,\n",
    "    rating INT,\n",
    "    PRIMARY KEY(invoice_id)\n",
    ")\n",
    "CHARACTER SET utf8mb4 COLLATE utf8mb4_unicode_ci;\n",
    "\n",
    "DROP TABLE IF EXISTS orders;\n",
    "CREATE TABLE orders (\n",
    "    order_id INT,\n",
    "    person_id INT,\n",
    "    date DATETIME,\n",
    "    billing_address INT,\n",
    "    delivery_address INT,\n",
    "    price DECIMAL(18,6),\n",
    "    PRIMARY KEY(order_id)\n",
    ")\n",
    "CHARACTER SET utf8mb4 COLLATE utf8mb4_unicode_ci;\n",
    "\n",
    "DROP TABLE IF EXISTS order_product;\n",
    "CREATE TABLE order_product (\n",
    "    order_id INT,\n",
    "    product_id INT,\n",
    "    quantity INT,\n",
    "    PRIMARY KEY(order_id, product_id)\n",
    ")\n",
    "CHARACTER SET utf8mb4 COLLATE utf8mb4_unicode_ci;\n",
    "\n",
    "DROP TABLE IF EXISTS payment_information;\n",
    "CREATE TABLE payment_information (\n",
    "    payment_id INT,\n",
    "    person_id INT,\n",
    "    number VARCHAR(30),\n",
    "    provider VARCHAR(200),\n",
    "    security_code VARCHAR(10),\n",
    "    expiration VARCHAR(5),\n",
    "    PRIMARY KEY(payment_id)\n",
    ")\n",
    "CHARACTER SET utf8mb4 COLLATE utf8mb4_unicode_ci;\n",
    "\n",
    "DROP TABLE IF EXISTS people;\n",
    "CREATE TABLE people (\n",
    "    person_id INT,\n",
    "    birth_date DATETIME,\n",
    "    first_name VARCHAR(50),\n",
    "    last_name VARCHAR(50),\n",
    "    email VARCHAR(150),\n",
    "    job VARCHAR(100),\n",
    "    phone VARCHAR(20),\n",
    "    username VARCHAR(50),\n",
    "    password VARCHAR(100),\n",
    "    PRIMARY KEY(person_id)\n",
    ")\n",
    "CHARACTER SET utf8mb4 COLLATE utf8mb4_unicode_ci;\n",
    "\n",
    "DROP TABLE IF EXISTS addresses;\n",
    "CREATE TABLE addresses (\n",
    "    address_id INT,\n",
    "    person_id INT,\n",
    "    city VARCHAR(30),\n",
    "    country VARCHAR(20),\n",
    "    number INT,\n",
    "    street VARCHAR(100),\n",
    "    zipcode INT,\n",
    "    PRIMARY KEY(address_id)\n",
    ")\n",
    "CHARACTER SET utf8mb4 COLLATE utf8mb4_unicode_ci;\n",
    "\n",
    "DROP TABLE IF EXISTS products;\n",
    "CREATE TABLE products (\n",
    "    product_id INT,\n",
    "    category_id INT NULL DEFAULT NULL,\n",
    "    provider_id INT NULL DEFAULT NULL,\n",
    "    name VARCHAR(200),\n",
    "    price DECIMAL(10,4),\n",
    "    PRIMARY KEY(product_id)\n",
    ")\n",
    "CHARACTER SET utf8mb4 COLLATE utf8mb4_unicode_ci;\n",
    "\n",
    "DROP TABLE IF EXISTS providers;\n",
    "CREATE TABLE providers (\n",
    "    provider_id INT,\n",
    "    name VARCHAR(50),\n",
    "    email VARCHAR(100),\n",
    "    webpage VARCHAR(100),\n",
    "    PRIMARY KEY(provider_id)\n",
    ")\n",
    "CHARACTER SET utf8mb4 COLLATE utf8mb4_unicode_ci;\n",
    "\n",
    "COMMIT;\n",
    "```"
   ]
  },
  {
   "cell_type": "markdown",
   "metadata": {},
   "source": [
    "Cargamos los datos del dataset en la base de datos"
   ]
  },
  {
   "cell_type": "code",
   "execution_count": null,
   "metadata": {
    "id": "koZeJYWrrbOw"
   },
   "outputs": [],
   "source": [
    "con = pymysql.connect(host='localhost', user='admin',password='Password0', database='shop')\n",
    "try:\n",
    "    for table in dataset:\n",
    "      first_time = True\n",
    "      sql = \"\"\n",
    "      with con.cursor() as cur:        \n",
    "        for entity in dataset[table]:\n",
    "          if (first_time):\n",
    "            first_time = False\n",
    "            str_columns = \",\".join(entity.keys())\n",
    "            str_values = \",\".join([\"%s\"] * len(entity.keys()))\n",
    "            sql = f\"INSERT INTO {table} ({str_columns}) VALUES ({str_values})\"\n",
    "          cur.execute(sql, tuple(entity.values()))\n",
    "        con.commit()\n",
    "finally:\n",
    "    con.close()"
   ]
  },
  {
   "cell_type": "markdown",
   "metadata": {},
   "source": [
    "Script para las restriciones de foreign key de la base de datos"
   ]
  },
  {
   "cell_type": "markdown",
   "metadata": {
    "id": "Crysr4UarbOw"
   },
   "source": [
    "```\n",
    "ALTER TABLE products ADD CONSTRAINT FK_product_category_id\n",
    "FOREIGN KEY(category_id) REFERENCES categories(category_id)\n",
    "ON DELETE SET NULL\n",
    "ON UPDATE CASCADE;\n",
    "\n",
    "ALTER TABLE products ADD CONSTRAINT FK_product_provider_id\n",
    "FOREIGN KEY(provider_id) REFERENCES providers(provider_id)\n",
    "ON DELETE SET NULL\n",
    "ON UPDATE CASCADE;\n",
    "\n",
    "ALTER TABLE addresses ADD CONSTRAINT FK_addresses_person_id\n",
    "FOREIGN KEY(person_id) REFERENCES people(person_id)\n",
    "ON DELETE CASCADE\n",
    "ON UPDATE CASCADE;\n",
    "\n",
    "ALTER TABLE payment_information ADD CONSTRAINT FK_payment_information_person_id\n",
    "FOREIGN KEY(person_id) REFERENCES people(person_id)\n",
    "ON DELETE CASCADE\n",
    "ON UPDATE CASCADE;\n",
    "\n",
    "ALTER TABLE order_product ADD CONSTRAINT FK_order_product_order_id\n",
    "FOREIGN KEY(order_id) REFERENCES orders(order_id)\n",
    "ON DELETE CASCADE\n",
    "ON UPDATE CASCADE;\n",
    "\n",
    "ALTER TABLE order_product ADD CONSTRAINT FK_order_product_product_id\n",
    "FOREIGN KEY(product_id) REFERENCES products(product_id)\n",
    "ON DELETE RESTRICT\n",
    "ON UPDATE CASCADE;\n",
    "\n",
    "ALTER TABLE orders ADD CONSTRAINT FK_orders_person_id\n",
    "FOREIGN KEY(person_id) REFERENCES people(person_id)\n",
    "ON DELETE RESTRICT\n",
    "ON UPDATE CASCADE;\n",
    "\n",
    "ALTER TABLE orders ADD CONSTRAINT FK_orders_billing_address_id\n",
    "FOREIGN KEY(billing_address) REFERENCES addresses(address_id)\n",
    "ON DELETE RESTRICT\n",
    "ON UPDATE CASCADE;\n",
    "\n",
    "ALTER TABLE orders ADD CONSTRAINT FK_orders_delivery_address_id\n",
    "FOREIGN KEY(delivery_address) REFERENCES addresses(address_id)\n",
    "ON DELETE RESTRICT\n",
    "ON UPDATE CASCADE;\n",
    "\n",
    "ALTER TABLE accesses ADD CONSTRAINT FK_accesses_person_id \n",
    "FOREIGN KEY(person_id) REFERENCES people(person_id)\n",
    "ON DELETE SET NULL\n",
    "ON UPDATE CASCADE;\n",
    "\n",
    "ALTER TABLE accesses ADD CONSTRAINT FK_accesses_page_id\n",
    "FOREIGN KEY(page_id) REFERENCES web_pages(page_id)\n",
    "ON DELETE CASCADE\n",
    "ON UPDATE CASCADE;\n",
    "\n",
    "ALTER TABLE carts ADD CONSTRAINT FK_carts_person_id \n",
    "FOREIGN KEY(person_id) REFERENCES people(person_id)\n",
    "ON DELETE CASCADE\n",
    "ON UPDATE CASCADE; \n",
    "\n",
    "ALTER TABLE cart_product ADD CONSTRAINT FK_cart_product_cart_id\n",
    "FOREIGN KEY(cart_id) REFERENCES carts(cart_id)\n",
    "ON DELETE CASCADE\n",
    "ON UPDATE CASCADE;\n",
    "\n",
    "ALTER TABLE cart_product ADD CONSTRAINT FK_cart_product_product_id\n",
    "FOREIGN KEY(product_id) REFERENCES products(product_id)\n",
    "ON DELETE RESTRICT\n",
    "ON UPDATE CASCADE;\n",
    "\n",
    "ALTER TABLE invoices ADD CONSTRAINT FK_invoices_order_id\n",
    "FOREIGN KEY(order_id) REFERENCES orders(order_id)\n",
    "ON DELETE RESTRICT\n",
    "ON UPDATE RESTRICT;\n",
    "```"
   ]
  },
  {
   "cell_type": "markdown",
   "metadata": {
    "id": "dq03QUOZokdD"
   },
   "source": [
    "# Extracción de datos"
   ]
  },
  {
   "cell_type": "markdown",
   "metadata": {
    "id": "KZfaRdknVV7v"
   },
   "source": [
    "La **extracción de datos** es una etapa esencial en Ciencia de Datos, que proporciona al científico de datos el material necesario para la generación de conocimiento."
   ]
  },
  {
   "cell_type": "markdown",
   "metadata": {
    "id": "onlJt2he7Q0P"
   },
   "source": [
    "Cuando nos enfrentamos a la extracción de datos, nos encontraremos con fuentes de datos en los más diversos formatos. En esta sesión estudiaremos los formatos más populares y la forma en la que podemos utilizar las librerías ofrecidas por Python para inicializar un `DataFrame` en `pandas`. El `DataFrame` es una estructura de datos tabular, flexible y eficiente implementada por `pandas` mediante la que podremos integrar, transformar y analizar conjuntos de datos provenientes de diferentes orígenes."
   ]
  },
  {
   "cell_type": "markdown",
   "metadata": {
    "id": "Yjx4Ul3EqA7x"
   },
   "source": [
    "## Lectura de datos de bases de datos relacionales"
   ]
  },
  {
   "cell_type": "markdown",
   "metadata": {
    "id": "Y8iN4T9ht_wF"
   },
   "source": [
    "Es muy frecuente cuando nos embarcamos en un proyecto de Ciencia de Datos que tengamos que acceder a un **sistema de información transaccional**, donde son registrados y manipulados los datos necesarios para el funcionamiento normal de una empresa. Las **bases de datos relacionales** son los sistemas transaccionales más [comunes](https://db-engines.com/en/ranking)."
   ]
  },
  {
   "cell_type": "markdown",
   "metadata": {
    "id": "5wadwLXPwPfY"
   },
   "source": [
    "Si tenemos conocimientos en el desarrollo de consultas SQL, la carga de datos a partir de una base de datos relacional es un proceso sencillo. Simplemente invocaremos el método `read_sql_query` de la librería `pandas` con la consulta que recuperará los datos deseados. Este método transformará automáticamente el resultado de la consulta en un `DataFrame`. "
   ]
  },
  {
   "cell_type": "markdown",
   "metadata": {
    "id": "7FW0PN7h08d6"
   },
   "source": [
    "Lo primero que tendremos que hacer será inicializar la librería [`SQLAlchemy`](https://www.sqlalchemy.org/) con los datos de conexión a la base de datos que hemos desplegado. Esta librería nos proporciona una potente abstracción a la hora de acceder a una base de datos:"
   ]
  },
  {
   "cell_type": "code",
   "execution_count": 46,
   "metadata": {
    "id": "hOzXwAHs1dde"
   },
   "outputs": [],
   "source": [
    "USER = \"admin\"\n",
    "PASSWORD = \"Password0\"\n",
    "HOST = \"localhost\"\n",
    "DATABASE = \"shop\"\n",
    "conn = create_engine(f'mysql+pymysql://{USER}:{PASSWORD}@{HOST}/{DATABASE}')"
   ]
  },
  {
   "cell_type": "markdown",
   "metadata": {
    "id": "PD8yTQfMxusK"
   },
   "source": [
    "La base de datos desplegada cuenta con una tabla `products` con información de los productos de una tienda online ficticia. Si quisiéramos cargar en un `DataFrame` los datos de 3 productos cualesquiera escribiríamos lo siguiente:"
   ]
  },
  {
   "cell_type": "code",
   "execution_count": 47,
   "metadata": {
    "id": "ob2k9VJPx2H4"
   },
   "outputs": [
    {
     "data": {
      "text/html": [
       "<div>\n",
       "<style scoped>\n",
       "    .dataframe tbody tr th:only-of-type {\n",
       "        vertical-align: middle;\n",
       "    }\n",
       "\n",
       "    .dataframe tbody tr th {\n",
       "        vertical-align: top;\n",
       "    }\n",
       "\n",
       "    .dataframe thead th {\n",
       "        text-align: right;\n",
       "    }\n",
       "</style>\n",
       "<table border=\"1\" class=\"dataframe\">\n",
       "  <thead>\n",
       "    <tr style=\"text-align: right;\">\n",
       "      <th></th>\n",
       "      <th>product_id</th>\n",
       "      <th>category_id</th>\n",
       "      <th>provider_id</th>\n",
       "      <th>name</th>\n",
       "      <th>price</th>\n",
       "    </tr>\n",
       "  </thead>\n",
       "  <tbody>\n",
       "    <tr>\n",
       "      <th>0</th>\n",
       "      <td>1</td>\n",
       "      <td>2</td>\n",
       "      <td>3</td>\n",
       "      <td>Fregadero ROMERO 74x50 Urdaplast.</td>\n",
       "      <td>265.0</td>\n",
       "    </tr>\n",
       "    <tr>\n",
       "      <th>1</th>\n",
       "      <td>2</td>\n",
       "      <td>3</td>\n",
       "      <td>10</td>\n",
       "      <td>Grifo de Cocina SYRA Ref: A5A842AC00. Roca</td>\n",
       "      <td>272.5</td>\n",
       "    </tr>\n",
       "    <tr>\n",
       "      <th>2</th>\n",
       "      <td>3</td>\n",
       "      <td>2</td>\n",
       "      <td>2</td>\n",
       "      <td>Fregadero Acero Inoxidable J-90 EI Roca Ref: A...</td>\n",
       "      <td>153.5</td>\n",
       "    </tr>\n",
       "  </tbody>\n",
       "</table>\n",
       "</div>"
      ],
      "text/plain": [
       "   product_id  category_id  provider_id  \\\n",
       "0           1            2            3   \n",
       "1           2            3           10   \n",
       "2           3            2            2   \n",
       "\n",
       "                                                name  price  \n",
       "0                  Fregadero ROMERO 74x50 Urdaplast.  265.0  \n",
       "1         Grifo de Cocina SYRA Ref: A5A842AC00. Roca  272.5  \n",
       "2  Fregadero Acero Inoxidable J-90 EI Roca Ref: A...  153.5  "
      ]
     },
     "execution_count": 47,
     "metadata": {},
     "output_type": "execute_result"
    }
   ],
   "source": [
    "pd.read_sql_query(\"SELECT * FROM products LIMIT 3\", conn)"
   ]
  },
  {
   "cell_type": "markdown",
   "metadata": {
    "id": "DkTPrJ3s2tuT"
   },
   "source": [
    "Esta base de datos también contiene una tabla `categories`, con información de las categorías que contiene cada producto. Podemos utilizar la tabla `categories` y `products` para conseguir un `DataFrame` un poco más elaborado, con el número de productos por categoría:"
   ]
  },
  {
   "cell_type": "code",
   "execution_count": 48,
   "metadata": {
    "id": "iFKr4Bml2_P-"
   },
   "outputs": [
    {
     "data": {
      "text/html": [
       "<div>\n",
       "<style scoped>\n",
       "    .dataframe tbody tr th:only-of-type {\n",
       "        vertical-align: middle;\n",
       "    }\n",
       "\n",
       "    .dataframe tbody tr th {\n",
       "        vertical-align: top;\n",
       "    }\n",
       "\n",
       "    .dataframe thead th {\n",
       "        text-align: right;\n",
       "    }\n",
       "</style>\n",
       "<table border=\"1\" class=\"dataframe\">\n",
       "  <thead>\n",
       "    <tr style=\"text-align: right;\">\n",
       "      <th></th>\n",
       "      <th>category_id</th>\n",
       "      <th>name</th>\n",
       "      <th>total</th>\n",
       "    </tr>\n",
       "  </thead>\n",
       "  <tbody>\n",
       "    <tr>\n",
       "      <th>0</th>\n",
       "      <td>1</td>\n",
       "      <td>Complementos baño</td>\n",
       "      <td>135</td>\n",
       "    </tr>\n",
       "    <tr>\n",
       "      <th>1</th>\n",
       "      <td>2</td>\n",
       "      <td>Fregaderos</td>\n",
       "      <td>171</td>\n",
       "    </tr>\n",
       "    <tr>\n",
       "      <th>2</th>\n",
       "      <td>3</td>\n",
       "      <td>Grifos Baño y Cocina</td>\n",
       "      <td>117</td>\n",
       "    </tr>\n",
       "    <tr>\n",
       "      <th>3</th>\n",
       "      <td>4</td>\n",
       "      <td>Hidromasaje</td>\n",
       "      <td>90</td>\n",
       "    </tr>\n",
       "    <tr>\n",
       "      <th>4</th>\n",
       "      <td>5</td>\n",
       "      <td>Lavabos de diseño</td>\n",
       "      <td>27</td>\n",
       "    </tr>\n",
       "    <tr>\n",
       "      <th>5</th>\n",
       "      <td>6</td>\n",
       "      <td>Mamparas de ducha</td>\n",
       "      <td>572</td>\n",
       "    </tr>\n",
       "    <tr>\n",
       "      <th>6</th>\n",
       "      <td>7</td>\n",
       "      <td>Muebles de Baño</td>\n",
       "      <td>166</td>\n",
       "    </tr>\n",
       "    <tr>\n",
       "      <th>7</th>\n",
       "      <td>8</td>\n",
       "      <td>Platos de Ducha de Resina</td>\n",
       "      <td>27</td>\n",
       "    </tr>\n",
       "    <tr>\n",
       "      <th>8</th>\n",
       "      <td>9</td>\n",
       "      <td>Sanitarios Roca</td>\n",
       "      <td>100</td>\n",
       "    </tr>\n",
       "    <tr>\n",
       "      <th>9</th>\n",
       "      <td>10</td>\n",
       "      <td>WC Tapas , Asientos.</td>\n",
       "      <td>50</td>\n",
       "    </tr>\n",
       "  </tbody>\n",
       "</table>\n",
       "</div>"
      ],
      "text/plain": [
       "   category_id                       name  total\n",
       "0            1          Complementos baño    135\n",
       "1            2                Fregaderos     171\n",
       "2            3       Grifos Baño y Cocina    117\n",
       "3            4                Hidromasaje     90\n",
       "4            5          Lavabos de diseño     27\n",
       "5            6          Mamparas de ducha    572\n",
       "6            7            Muebles de Baño    166\n",
       "7            8  Platos de Ducha de Resina     27\n",
       "8            9            Sanitarios Roca    100\n",
       "9           10       WC Tapas , Asientos.     50"
      ]
     },
     "execution_count": 48,
     "metadata": {},
     "output_type": "execute_result"
    }
   ],
   "source": [
    "pd.read_sql_query(\"\"\"\n",
    "SELECT c.category_id, c.name, COUNT(*) AS total\n",
    "FROM categories c\n",
    "INNER JOIN products p ON c.category_id = p.category_id\n",
    "GROUP BY c.category_id, c.name\n",
    "\"\"\", conn)"
   ]
  }
 ],
 "metadata": {
  "colab": {
   "collapsed_sections": [
    "Iwkm1yiXOYNB",
    "sYck_vDDLl8b",
    "Os5uizMemtMq"
   ],
   "name": "Copia de cbd-sesion05-obtencion-datos.ipynb",
   "provenance": [
    {
     "file_id": "1AWfARF2ozRkqmYM0UpDnabKEDP21HSfV",
     "timestamp": 1632212173736
    },
    {
     "file_id": "https://github.com/pablodms/cpr-python-nosql/blob/master/curso-big-data/cbd_sesion05_obtencion_datos.ipynb",
     "timestamp": 1631633394139
    }
   ],
   "toc_visible": true
  },
  "kernelspec": {
   "display_name": "Python 3 (ipykernel)",
   "language": "python",
   "name": "python3"
  },
  "language_info": {
   "codemirror_mode": {
    "name": "ipython",
    "version": 3
   },
   "file_extension": ".py",
   "mimetype": "text/x-python",
   "name": "python",
   "nbconvert_exporter": "python",
   "pygments_lexer": "ipython3",
   "version": "3.11.4"
  }
 },
 "nbformat": 4,
 "nbformat_minor": 4
}

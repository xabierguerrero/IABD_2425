{
 "cells": [
  {
   "cell_type": "markdown",
   "metadata": {
    "id": "5_q8Y0GkR2Ht"
   },
   "source": [
    "# Estructuras de datos: Diccionarios\n",
    "\n"
   ]
  },
  {
   "cell_type": "markdown",
   "metadata": {
    "id": "pQO3AMGGEiHy"
   },
   "source": [
    "## Diccionario\n",
    "\n",
    "La segunda estructura de datos que veremos son los **diccionarios**. Estos son un conjunto de elementos escritos entre llaves, `{}`, que constan de claves y valores. \n",
    "\n",
    "Cada conjunto `clave: valor` es separado por comas. Las claves funcionan como identificadores y preceden a `:`. A continuación van los valores, que son elementos (numéricos, booleanos, strings, listas, diccionarios...) asociados a esa clave. \n",
    "\n",
    "Los diccionarios, al igual que las listas, son:\n",
    "- hetereogéneos: los elementos pueden ser de distinto tipo en un mismo diccionario\n",
    "- mutables: los elementos pueden ser modificados\n",
    "\n",
    "Un ejemplo de diccionario sería"
   ]
  },
  {
   "cell_type": "code",
   "execution_count": 1,
   "metadata": {
    "colab": {
     "base_uri": "https://localhost:8080/"
    },
    "executionInfo": {
     "elapsed": 30,
     "status": "ok",
     "timestamp": 1684003645281,
     "user": {
      "displayName": "Ainara Montoya",
      "userId": "04156984210870783133"
     },
     "user_tz": -120
    },
    "id": "A814fbOyRv3o",
    "outputId": "8580b7f7-4782-4a8f-ec29-431be93ed816"
   },
   "outputs": [
    {
     "name": "stdout",
     "output_type": "stream",
     "text": [
      "{'Josu': 32, 'Marina': 21}\n"
     ]
    }
   ],
   "source": [
    "dicc = {\"Josu\": 32, \"Marina\": 21}\n",
    "print(dicc)"
   ]
  },
  {
   "cell_type": "markdown",
   "metadata": {
    "id": "F8Fahrz4Ugt4"
   },
   "source": [
    "**¡Cuidado!** En `Python`, las claves de un diccionario deben ser únicas. Esto es, no puede haber dos claves que sean exactamente iguales. Si se da que hay dos claves iguales, entonces `Python` se queda con el último valor asociado a dicha clave."
   ]
  },
  {
   "cell_type": "code",
   "execution_count": 2,
   "metadata": {
    "colab": {
     "base_uri": "https://localhost:8080/"
    },
    "executionInfo": {
     "elapsed": 333,
     "status": "ok",
     "timestamp": 1684003701800,
     "user": {
      "displayName": "Ainara Montoya",
      "userId": "04156984210870783133"
     },
     "user_tz": -120
    },
    "id": "P-7niN0xUbKq",
    "outputId": "b9094fab-c55b-44b7-bd77-9721a416a3a4"
   },
   "outputs": [
    {
     "name": "stdout",
     "output_type": "stream",
     "text": [
      "{'Josu': 23, 'Marina': 21}\n"
     ]
    }
   ],
   "source": [
    "dicc = {\"Josu\": 32,\n",
    "        \"Marina\": 21,\n",
    "        \"Josu\": 23}\n",
    "print(dicc)"
   ]
  },
  {
   "cell_type": "markdown",
   "metadata": {
    "id": "UoinrSEqUvyi"
   },
   "source": [
    "### Elementos de un diccionario\n",
    "\n",
    "A los elementos se puede acceder por clave y posición, aunque normalmente se suele hacer por clave.\n",
    "\n",
    "La sintaxis es `diccionario[clave]`"
   ]
  },
  {
   "cell_type": "code",
   "execution_count": 3,
   "metadata": {
    "colab": {
     "base_uri": "https://localhost:8080/"
    },
    "executionInfo": {
     "elapsed": 405,
     "status": "ok",
     "timestamp": 1684004387141,
     "user": {
      "displayName": "Ainara Montoya",
      "userId": "04156984210870783133"
     },
     "user_tz": -120
    },
    "id": "765jVesMUgMP",
    "outputId": "380c3dff-53ca-4f72-d9bd-762b7252e354"
   },
   "outputs": [
    {
     "data": {
      "text/plain": [
       "['Ane', 'Miren', 'Alazne']"
      ]
     },
     "execution_count": 3,
     "metadata": {},
     "output_type": "execute_result"
    }
   ],
   "source": [
    "dicc = {\n",
    "    \"names\": [\"Ane\", \"Miren\", \"Alazne\"],\n",
    "    \"ages\" : [31, 25, 16]\n",
    "    }\n",
    "dicc[\"names\"]"
   ]
  },
  {
   "cell_type": "code",
   "execution_count": 4,
   "metadata": {
    "colab": {
     "base_uri": "https://localhost:8080/"
    },
    "executionInfo": {
     "elapsed": 316,
     "status": "ok",
     "timestamp": 1684004392568,
     "user": {
      "displayName": "Ainara Montoya",
      "userId": "04156984210870783133"
     },
     "user_tz": -120
    },
    "id": "Jbw8SL0jVRq1",
    "outputId": "cd2772ca-02c7-4903-f65b-4fabbd422625"
   },
   "outputs": [
    {
     "data": {
      "text/plain": [
       "[31, 25, 16]"
      ]
     },
     "execution_count": 4,
     "metadata": {},
     "output_type": "execute_result"
    }
   ],
   "source": [
    "dicc[\"ages\"]"
   ]
  },
  {
   "cell_type": "markdown",
   "metadata": {
    "id": "gmmJ0X_qVWYJ"
   },
   "source": [
    "Poemos acceder a todas las claves de un diccionario con el método `.keys()`"
   ]
  },
  {
   "cell_type": "code",
   "execution_count": 5,
   "metadata": {
    "colab": {
     "base_uri": "https://localhost:8080/"
    },
    "executionInfo": {
     "elapsed": 528,
     "status": "ok",
     "timestamp": 1684004436100,
     "user": {
      "displayName": "Ainara Montoya",
      "userId": "04156984210870783133"
     },
     "user_tz": -120
    },
    "id": "m1uLVhcuVTQk",
    "outputId": "41f837ee-01c7-4fef-9deb-aedcd21f6b93"
   },
   "outputs": [
    {
     "data": {
      "text/plain": [
       "dict_keys(['names', 'ages'])"
      ]
     },
     "execution_count": 5,
     "metadata": {},
     "output_type": "execute_result"
    }
   ],
   "source": [
    "dicc.keys()"
   ]
  },
  {
   "cell_type": "markdown",
   "metadata": {
    "id": "yrOmHPCIVfqS"
   },
   "source": [
    "También podemos acceder a todos los valores de un diccionario con el método `.values()`"
   ]
  },
  {
   "cell_type": "code",
   "execution_count": 6,
   "metadata": {
    "colab": {
     "base_uri": "https://localhost:8080/"
    },
    "executionInfo": {
     "elapsed": 362,
     "status": "ok",
     "timestamp": 1684004452151,
     "user": {
      "displayName": "Ainara Montoya",
      "userId": "04156984210870783133"
     },
     "user_tz": -120
    },
    "id": "dZqh3tOvVc13",
    "outputId": "f1940895-ac63-469e-c440-064a017eb108"
   },
   "outputs": [
    {
     "data": {
      "text/plain": [
       "dict_values([['Ane', 'Miren', 'Alazne'], [31, 25, 16]])"
      ]
     },
     "execution_count": 6,
     "metadata": {},
     "output_type": "execute_result"
    }
   ],
   "source": [
    "dicc.values()"
   ]
  },
  {
   "cell_type": "markdown",
   "metadata": {
    "id": "B-8ZTLemhlBl"
   },
   "source": [
    "Al ser una estructura mutable, podemos modificar los valores de los diccionarios"
   ]
  },
  {
   "cell_type": "code",
   "execution_count": 8,
   "metadata": {
    "colab": {
     "base_uri": "https://localhost:8080/"
    },
    "executionInfo": {
     "elapsed": 394,
     "status": "ok",
     "timestamp": 1684004622948,
     "user": {
      "displayName": "Ainara Montoya",
      "userId": "04156984210870783133"
     },
     "user_tz": -120
    },
    "id": "7FEAxbDAV959",
    "outputId": "682acafc-124a-4ed2-8ce5-7b2d555bcf40"
   },
   "outputs": [
    {
     "name": "stdout",
     "output_type": "stream",
     "text": [
      "{'names': ['David', 'Urtzi', 'Mikel'], 'ages': [31, 25, 36]}\n"
     ]
    }
   ],
   "source": [
    "dicc = {\"names\": [\"Ane\", \"Miren\", \"Alazne\"],\n",
    "        \"ages\": [31, 25, 16]}\n",
    "dicc[\"names\"] = [\"David\", \"Urtzi\", \"Mikel\"]\n",
    "dicc[\"ages\"][2] = 36\n",
    "print(dicc)"
   ]
  },
  {
   "cell_type": "markdown",
   "metadata": {
    "id": "Rfbmr696Wtqs"
   },
   "source": [
    "También podríamos partir de un diccionario vacío e ir introduciéndole valores asociados a claves. De hecho, podemos hasta pedirle a un usuario que introduzca él los datos."
   ]
  },
  {
   "cell_type": "code",
   "execution_count": 2,
   "metadata": {
    "colab": {
     "base_uri": "https://localhost:8080/"
    },
    "executionInfo": {
     "elapsed": 15942,
     "status": "ok",
     "timestamp": 1684003661659,
     "user": {
      "displayName": "Ainara Montoya",
      "userId": "04156984210870783133"
     },
     "user_tz": -120
    },
    "id": "gfDXCMu1Wf6x",
    "outputId": "7c1b70a5-0a41-4ace-c274-437150507276"
   },
   "outputs": [
    {
     "name": "stdout",
     "output_type": "stream",
     "text": [
      "Introduzca su nombre:\n",
      "Introduzca su edad:\n"
     ]
    },
    {
     "ename": "ValueError",
     "evalue": "invalid literal for int() with base 10: ''",
     "output_type": "error",
     "traceback": [
      "\u001b[1;31m---------------------------------------------------------------------------\u001b[0m",
      "\u001b[1;31mValueError\u001b[0m                                Traceback (most recent call last)",
      "\u001b[1;32mc:\\Users\\icjardin\\OneDrive - HEZKUNTZA\\PRIA\\UD01-Introduccion programacion Python\\0.Apuntes\\07_Diccionarios.ipynb Cell 16\u001b[0m line \u001b[0;36m5\n\u001b[0;32m      <a href='vscode-notebook-cell:/c%3A/Users/icjardin/OneDrive%20-%20HEZKUNTZA/PRIA/UD01-Introduccion%20programacion%20Python/0.Apuntes/07_Diccionarios.ipynb#X21sZmlsZQ%3D%3D?line=2'>3</a>\u001b[0m ficha_usuario[\u001b[39m\"\u001b[39m\u001b[39mname\u001b[39m\u001b[39m\"\u001b[39m] \u001b[39m=\u001b[39m \u001b[39mstr\u001b[39m(\u001b[39minput\u001b[39m())\n\u001b[0;32m      <a href='vscode-notebook-cell:/c%3A/Users/icjardin/OneDrive%20-%20HEZKUNTZA/PRIA/UD01-Introduccion%20programacion%20Python/0.Apuntes/07_Diccionarios.ipynb#X21sZmlsZQ%3D%3D?line=3'>4</a>\u001b[0m \u001b[39mprint\u001b[39m(\u001b[39m\"\u001b[39m\u001b[39mIntroduzca su edad:\u001b[39m\u001b[39m\"\u001b[39m)\n\u001b[1;32m----> <a href='vscode-notebook-cell:/c%3A/Users/icjardin/OneDrive%20-%20HEZKUNTZA/PRIA/UD01-Introduccion%20programacion%20Python/0.Apuntes/07_Diccionarios.ipynb#X21sZmlsZQ%3D%3D?line=4'>5</a>\u001b[0m ficha_usuario[\u001b[39m\"\u001b[39m\u001b[39mage\u001b[39m\u001b[39m\"\u001b[39m] \u001b[39m=\u001b[39m \u001b[39mint\u001b[39;49m(\u001b[39minput\u001b[39;49m())\n\u001b[0;32m      <a href='vscode-notebook-cell:/c%3A/Users/icjardin/OneDrive%20-%20HEZKUNTZA/PRIA/UD01-Introduccion%20programacion%20Python/0.Apuntes/07_Diccionarios.ipynb#X21sZmlsZQ%3D%3D?line=5'>6</a>\u001b[0m \u001b[39mprint\u001b[39m(\u001b[39m\"\u001b[39m\u001b[39m¿Es usted una mujer? Responda f en caso afirmativo y m en caso contrario\u001b[39m\u001b[39m\"\u001b[39m)\n\u001b[0;32m      <a href='vscode-notebook-cell:/c%3A/Users/icjardin/OneDrive%20-%20HEZKUNTZA/PRIA/UD01-Introduccion%20programacion%20Python/0.Apuntes/07_Diccionarios.ipynb#X21sZmlsZQ%3D%3D?line=6'>7</a>\u001b[0m ficha_usuario[\u001b[39m\"\u001b[39m\u001b[39mgender\u001b[39m\u001b[39m\"\u001b[39m] \u001b[39m=\u001b[39m \u001b[39m\"\u001b[39m\u001b[39mfemale\u001b[39m\u001b[39m\"\u001b[39m \u001b[39mif\u001b[39;00m \u001b[39minput\u001b[39m() \u001b[39m==\u001b[39m \u001b[39m\"\u001b[39m\u001b[39mf\u001b[39m\u001b[39m\"\u001b[39m \u001b[39melse\u001b[39;00m \u001b[39m\"\u001b[39m\u001b[39mmale\u001b[39m\u001b[39m\"\u001b[39m\n",
      "\u001b[1;31mValueError\u001b[0m: invalid literal for int() with base 10: ''"
     ]
    }
   ],
   "source": [
    "ficha_usuario = {}\n",
    "print(\"Introduzca su nombre:\")\n",
    "ficha_usuario[\"name\"] = str(input())\n",
    "print(\"Introduzca su edad:\")\n",
    "ficha_usuario[\"age\"] = int(input())\n",
    "print(\"¿Es usted una mujer? Responda f en caso afirmativo y m en caso contrario\")\n",
    "ficha_usuario[\"gender\"] = \"female\" if input() == \"f\" else \"male\"\n",
    "print(ficha_usuario)"
   ]
  },
  {
   "cell_type": "markdown",
   "metadata": {
    "id": "tAtnfqcRfr6_"
   },
   "source": [
    "**Observación.** La función `str()` impone que lo que sea que introduzcamos sea un dato de tipo `string`. Funciona exactamente del mismo modo que lo hacen las funciones `int()` y `float()` introducidas y utilizadas anteriormente."
   ]
  },
  {
   "cell_type": "code",
   "execution_count": null,
   "metadata": {
    "colab": {
     "base_uri": "https://localhost:8080/"
    },
    "executionInfo": {
     "elapsed": 392,
     "status": "ok",
     "timestamp": 1684004736205,
     "user": {
      "displayName": "Ainara Montoya",
      "userId": "04156984210870783133"
     },
     "user_tz": -120
    },
    "id": "nL3gINXcfrYY",
    "outputId": "099dd24c-52ee-4c4e-b2d2-c5f56647165b"
   },
   "outputs": [],
   "source": [
    "value = 0\n",
    "type(value)"
   ]
  },
  {
   "cell_type": "code",
   "execution_count": null,
   "metadata": {
    "colab": {
     "base_uri": "https://localhost:8080/"
    },
    "executionInfo": {
     "elapsed": 25,
     "status": "ok",
     "timestamp": 1684003661660,
     "user": {
      "displayName": "Ainara Montoya",
      "userId": "04156984210870783133"
     },
     "user_tz": -120
    },
    "id": "qefPWfkLYgIg",
    "outputId": "79bf6819-db13-4ca4-f6b8-725394ee08f1"
   },
   "outputs": [],
   "source": [
    "value_string = str(0)\n",
    "type(value_string)"
   ]
  },
  {
   "cell_type": "markdown",
   "metadata": {
    "id": "LjZ5hprxg0MY"
   },
   "source": [
    "### Tamaño de un diccionario\n",
    "\n",
    "Para saber cuántos elementos contiene un diccionario, podemos usar la función `len()`del siguiente modo:"
   ]
  },
  {
   "cell_type": "code",
   "execution_count": null,
   "metadata": {
    "colab": {
     "base_uri": "https://localhost:8080/"
    },
    "executionInfo": {
     "elapsed": 526,
     "status": "ok",
     "timestamp": 1684004777757,
     "user": {
      "displayName": "Ainara Montoya",
      "userId": "04156984210870783133"
     },
     "user_tz": -120
    },
    "id": "OMqs46Dmg8Ik",
    "outputId": "1850811c-d8da-40f5-ee1c-4842383e3ba2"
   },
   "outputs": [],
   "source": [
    "dicc = {\"fruit\": [\"Manzana\", \"Pera\", \"Naranja\"],\n",
    "        \"price\": [2, 1.5, 1],\n",
    "        \"color\": [\"roja\", \"verde\", \"naranja\"]}\n",
    "        \n",
    "print(len(dicc))"
   ]
  },
  {
   "cell_type": "markdown",
   "metadata": {
    "id": "09PvnVakVjBx"
   },
   "source": [
    "## Bucles y diccionarios\n",
    "\n",
    "Para recorrer todo el diccionario, podemos hacer uso de un bucle `for`, pues el diccionario es una estructura iterable:"
   ]
  },
  {
   "cell_type": "code",
   "execution_count": null,
   "metadata": {
    "colab": {
     "base_uri": "https://localhost:8080/"
    },
    "executionInfo": {
     "elapsed": 332,
     "status": "ok",
     "timestamp": 1684004859939,
     "user": {
      "displayName": "Ainara Montoya",
      "userId": "04156984210870783133"
     },
     "user_tz": -120
    },
    "id": "4vvn3rfIiVh6",
    "outputId": "1cba2e7c-1b51-4a78-88b9-e6f984b6a30b"
   },
   "outputs": [],
   "source": [
    "dicc = {\"username\": \"msf\",\n",
    "        \"name\": \"Miren\",\n",
    "        \"age\": 22,\n",
    "        \"city\": \"Granada\"}\n",
    "\n",
    "for key in dicc:\n",
    "  print(key, \":\", dicc[key])"
   ]
  },
  {
   "cell_type": "markdown",
   "metadata": {
    "id": "AAJmz998iVvh"
   },
   "source": [
    "Otra forma de recorrer el diccionario sería obteniendo una lista de tuplas de la forma `(clave, valor)` para cada elemento de un diccionario, que construimos con el método `.items()`. Al ser una lista, sabemos que es iterable y podemos mostrar todas sus entradas haciendo uso de un bucle `for`."
   ]
  },
  {
   "cell_type": "code",
   "execution_count": null,
   "metadata": {
    "colab": {
     "base_uri": "https://localhost:8080/"
    },
    "executionInfo": {
     "elapsed": 407,
     "status": "ok",
     "timestamp": 1684004937854,
     "user": {
      "displayName": "Ainara Montoya",
      "userId": "04156984210870783133"
     },
     "user_tz": -120
    },
    "id": "PbDdjyb1V5gV",
    "outputId": "b7a53c2a-c6a9-4dce-bb41-bab5b95500a8"
   },
   "outputs": [],
   "source": [
    "dicc.items()"
   ]
  },
  {
   "cell_type": "code",
   "execution_count": null,
   "metadata": {
    "colab": {
     "base_uri": "https://localhost:8080/"
    },
    "executionInfo": {
     "elapsed": 421,
     "status": "ok",
     "timestamp": 1684004979737,
     "user": {
      "displayName": "Ainara Montoya",
      "userId": "04156984210870783133"
     },
     "user_tz": -120
    },
    "id": "DRfIFo37V624",
    "outputId": "2d870621-9aba-45aa-c769-42fd7187daa4"
   },
   "outputs": [],
   "source": [
    "for item in dicc.items():\n",
    "  print(item)"
   ]
  },
  {
   "cell_type": "markdown",
   "metadata": {
    "id": "fXMjxa9nV_Mv"
   },
   "source": [
    "**Observación.** Veremos las tuplas, que son otro tipo de Estructuras de datos en `Python`, en futuras secciones.\n",
    "\n",
    "Para tener clave y valor por separado, podemos hacerlo del siguiente modo:"
   ]
  },
  {
   "cell_type": "code",
   "execution_count": null,
   "metadata": {
    "colab": {
     "base_uri": "https://localhost:8080/"
    },
    "executionInfo": {
     "elapsed": 455,
     "status": "ok",
     "timestamp": 1684004977797,
     "user": {
      "displayName": "Ainara Montoya",
      "userId": "04156984210870783133"
     },
     "user_tz": -120
    },
    "id": "R3xNpytlqmSz",
    "outputId": "c128bdc1-8e5c-49d6-910d-1bd32c87588f"
   },
   "outputs": [],
   "source": [
    "for key, value in dicc.items():\n",
    "  print(key, \":\", value)"
   ]
  },
  {
   "cell_type": "markdown",
   "metadata": {
    "id": "ildkak9Cf_tS"
   },
   "source": [
    "## Diccionarios y listas\n",
    "\n",
    "Como se ha mencionado antes, un diccionario puede contener listas u otros diccionarios. Por su parte, una lista también puede contener diccionarios:"
   ]
  },
  {
   "cell_type": "code",
   "execution_count": 4,
   "metadata": {
    "colab": {
     "base_uri": "https://localhost:8080/"
    },
    "executionInfo": {
     "elapsed": 318,
     "status": "ok",
     "timestamp": 1684005022487,
     "user": {
      "displayName": "Ainara Montoya",
      "userId": "04156984210870783133"
     },
     "user_tz": -120
    },
    "id": "qcUY4j5DgVzh",
    "outputId": "1fd3898c-46a7-4210-fe9a-89e02abd25ec"
   },
   "outputs": [
    {
     "name": "stdout",
     "output_type": "stream",
     "text": [
      "{'name': 'Elizabeth', 'age': 30, 'gender': 'female', 'ID': [4, 4, 2, 1, 5, 6, 7, 2, 'L'], 'user&password': {'username': 'eli88', 'password': '1234catsareawesome'}}\n",
      "{'name': 'Henry', 'age': 27, 'gender': 'male', 'ID': [1, 1, 0, 1, 3, 8, 6, 9, 'A'], 'user&password': {'username': 'superhenry', 'password': '1432superme'}}\n"
     ]
    }
   ],
   "source": [
    "dicc_1 = {\"name\": \"Elizabeth\",\n",
    "        \"age\": 30,\n",
    "        \"gender\": \"female\",\n",
    "        \"ID\": [4, 4, 2, 1, 5, 6, 7, 2, \"L\"],\n",
    "        \"user&password\": {\n",
    "            \"username\": \"eli88\",\n",
    "            \"password\": \"1234catsareawesome\"\n",
    "            }\n",
    "          }\n",
    "dicc_2 = {\"name\": \"Henry\",\n",
    "        \"age\": 27,\n",
    "        \"gender\": \"male\",\n",
    "        \"ID\": [1, 1, 0, 1, 3, 8, 6, 9, \"A\"],\n",
    "        \"user&password\": {\n",
    "            \"username\": \"superhenry\",\n",
    "            \"password\": \"1432superme\"\n",
    "            }\n",
    "          }\n",
    "lista = [dicc_1, dicc_2]\n",
    "\n",
    "for item in lista:\n",
    "  print(item)"
   ]
  },
  {
   "cell_type": "markdown",
   "metadata": {
    "id": "cnA6Y7_XlkCI"
   },
   "source": [
    "## Más métodos de diccionarios\n",
    "\n",
    "El método `.clear()` elimina todos los elementos del diccionario dejándolo vacío.\n"
   ]
  },
  {
   "cell_type": "code",
   "execution_count": null,
   "metadata": {
    "colab": {
     "base_uri": "https://localhost:8080/"
    },
    "executionInfo": {
     "elapsed": 17,
     "status": "ok",
     "timestamp": 1684003661663,
     "user": {
      "displayName": "Ainara Montoya",
      "userId": "04156984210870783133"
     },
     "user_tz": -120
    },
    "id": "4mvasP38gr3T",
    "outputId": "ea31e3d2-98ca-4b07-f2dc-b01843542c19"
   },
   "outputs": [],
   "source": [
    "dicc = {\"a\": 4, \"b\": 3, \"c\": 2, \"d\": 1}\n",
    "print(dicc)\n",
    "\n",
    "dicc.clear()\n",
    "print(dicc)"
   ]
  },
  {
   "cell_type": "markdown",
   "metadata": {
    "id": "mZJ5zxIhmOaT"
   },
   "source": [
    "El método `.copy()` devuelve una copia del diccionario original."
   ]
  },
  {
   "cell_type": "code",
   "execution_count": null,
   "metadata": {
    "colab": {
     "base_uri": "https://localhost:8080/"
    },
    "executionInfo": {
     "elapsed": 16,
     "status": "ok",
     "timestamp": 1684003661663,
     "user": {
      "displayName": "Ainara Montoya",
      "userId": "04156984210870783133"
     },
     "user_tz": -120
    },
    "id": "DESfdpizmK0x",
    "outputId": "fa14d2e2-e3a0-4208-fd78-c2b15cbd3041"
   },
   "outputs": [],
   "source": [
    "dicc = {\"a\": 4, \"b\": 3, \"c\": 2, \"d\": 1}\n",
    "dicc_copy = dicc.copy()\n",
    "\n",
    "print(dicc_copy)"
   ]
  },
  {
   "cell_type": "markdown",
   "metadata": {
    "id": "8CW3rO0PnXN4"
   },
   "source": [
    "El método `.get()` recibe como parámetro una clave y devuelve el valor de dicha clave. "
   ]
  },
  {
   "cell_type": "code",
   "execution_count": null,
   "metadata": {
    "colab": {
     "base_uri": "https://localhost:8080/"
    },
    "executionInfo": {
     "elapsed": 459,
     "status": "ok",
     "timestamp": 1684005314637,
     "user": {
      "displayName": "Ainara Montoya",
      "userId": "04156984210870783133"
     },
     "user_tz": -120
    },
    "id": "Vc5p26arnXml",
    "outputId": "57aade87-d416-4953-9213-bee5548eacb3"
   },
   "outputs": [],
   "source": [
    "dicc = {\"a\": 1, \"e\": 2, \"i\": 3, \"o\": 4, \"u\": 5}\n",
    "print(dicc.get(\"a\"))"
   ]
  },
  {
   "cell_type": "markdown",
   "metadata": {
    "id": "6PpJMvjinXxH"
   },
   "source": [
    "**Observación.** Si la clave no se encuentra en el diccionario, el método devuelve un objeto `None`."
   ]
  },
  {
   "cell_type": "code",
   "execution_count": null,
   "metadata": {
    "colab": {
     "base_uri": "https://localhost:8080/"
    },
    "executionInfo": {
     "elapsed": 388,
     "status": "ok",
     "timestamp": 1684005322781,
     "user": {
      "displayName": "Ainara Montoya",
      "userId": "04156984210870783133"
     },
     "user_tz": -120
    },
    "id": "Lgj_Uvv8nX7l",
    "outputId": "f0bb8cd3-801a-41d7-b314-6362e295c6e9"
   },
   "outputs": [],
   "source": [
    "dicc = {\"a\": 1, \"e\": 2, \"i\": 3, \"o\": 4, \"u\": 5}\n",
    "print(dicc.get(\"b\"))"
   ]
  },
  {
   "cell_type": "markdown",
   "metadata": {
    "id": "pYMyp0MJnYFJ"
   },
   "source": [
    "El método `.pop()` recibe como parámetro una clave, la elimina y devuelve su valor. "
   ]
  },
  {
   "cell_type": "code",
   "execution_count": null,
   "metadata": {
    "colab": {
     "base_uri": "https://localhost:8080/"
    },
    "executionInfo": {
     "elapsed": 536,
     "status": "ok",
     "timestamp": 1684005335414,
     "user": {
      "displayName": "Ainara Montoya",
      "userId": "04156984210870783133"
     },
     "user_tz": -120
    },
    "id": "hoqziznFnRba",
    "outputId": "1e4822e9-f860-4cff-b8ce-cafd3fd196b6"
   },
   "outputs": [],
   "source": [
    "dicc = {\"a\": 1, \"e\": 2, \"i\": 3, \"o\": 4, \"u\": 5}\n",
    "print(dicc)\n",
    "\n",
    "print(dicc.pop(\"i\"))\n",
    "print(dicc)"
   ]
  },
  {
   "cell_type": "markdown",
   "metadata": {
    "id": "rznRVMoXn-sI"
   },
   "source": [
    "**Observación.** Si la clave indicada por parámetro no se encuentra en el diccionario, el método devuelve error.\n"
   ]
  },
  {
   "cell_type": "markdown",
   "metadata": {
    "id": "lEwAhWEGoz6Z"
   },
   "source": [
    "El método `.update()` recibe como parámetro otro diccionario. En caso de tener claves iguales, actualiza el valor de la clave repetida. En caso de no haber claves iguales, el par `clave: valor` es agregado al diccionario al que es aplicado el método."
   ]
  },
  {
   "cell_type": "code",
   "execution_count": null,
   "metadata": {
    "colab": {
     "base_uri": "https://localhost:8080/"
    },
    "executionInfo": {
     "elapsed": 431,
     "status": "ok",
     "timestamp": 1684005627450,
     "user": {
      "displayName": "Ainara Montoya",
      "userId": "04156984210870783133"
     },
     "user_tz": -120
    },
    "id": "Mot6r0n6owip",
    "outputId": "5817b82f-e355-4af4-f135-b803273f4281"
   },
   "outputs": [],
   "source": [
    "dicc1 = {\"a\": 1, \"e\": 2, \"i\": 3, \"o\": 4, \"u\": 5}\n",
    "dicc2 = {\"a\": 12, \"b\": 2, \"c\": 3, \"d\": 4, \"e\": 5}\n",
    "dicc1.update(dicc2)\n",
    "\n",
    "print(dicc1)"
   ]
  },
  {
   "cell_type": "markdown",
   "metadata": {
    "id": "C3dWk8F7pz-v"
   },
   "source": [
    "## Construyendo diccionarios con dict()\n",
    "\n",
    "Para convertir un objeto iterable de `Python` a diccionario, hay que usar la función `dict()`"
   ]
  },
  {
   "cell_type": "code",
   "execution_count": null,
   "metadata": {
    "colab": {
     "base_uri": "https://localhost:8080/"
    },
    "executionInfo": {
     "elapsed": 11,
     "status": "ok",
     "timestamp": 1684003662106,
     "user": {
      "displayName": "Ainara Montoya",
      "userId": "04156984210870783133"
     },
     "user_tz": -120
    },
    "id": "Tpvr7-kWqP1u",
    "outputId": "131f469a-46cf-402f-c34d-4f2c1b16136b"
   },
   "outputs": [],
   "source": [
    "l = [[\"x\", 1], [\"y\", 2]]\n",
    "dict(l)"
   ]
  },
  {
   "cell_type": "markdown",
   "metadata": {
    "id": "jR4dHHzQqP-P"
   },
   "source": [
    "Aunque la función `dict()` también sirve para definir diccionarios directamente:"
   ]
  },
  {
   "cell_type": "code",
   "execution_count": null,
   "metadata": {
    "colab": {
     "base_uri": "https://localhost:8080/"
    },
    "executionInfo": {
     "elapsed": 10,
     "status": "ok",
     "timestamp": 1684003662107,
     "user": {
      "displayName": "Ainara Montoya",
      "userId": "04156984210870783133"
     },
     "user_tz": -120
    },
    "id": "UyxEclhdrb4D",
    "outputId": "3156401b-ddb1-4665-b3c2-b957d8fa582d"
   },
   "outputs": [],
   "source": [
    "dicc1 = dict(x = 0, y = 1, z = -1)\n",
    "print(dicc1)"
   ]
  },
  {
   "cell_type": "code",
   "execution_count": null,
   "metadata": {
    "colab": {
     "base_uri": "https://localhost:8080/"
    },
    "executionInfo": {
     "elapsed": 8,
     "status": "ok",
     "timestamp": 1684003662107,
     "user": {
      "displayName": "Ainara Montoya",
      "userId": "04156984210870783133"
     },
     "user_tz": -120
    },
    "id": "uFqpbpiBrgwo",
    "outputId": "07047459-80ec-49d3-bcfe-76669749dc9e"
   },
   "outputs": [],
   "source": [
    "dicc2 = dict({\"x\": 0, \"y\": 1, \"z\": -1})\n",
    "print(dicc2)"
   ]
  },
  {
   "cell_type": "code",
   "execution_count": null,
   "metadata": {
    "colab": {
     "base_uri": "https://localhost:8080/"
    },
    "executionInfo": {
     "elapsed": 7,
     "status": "ok",
     "timestamp": 1684003662107,
     "user": {
      "displayName": "Ainara Montoya",
      "userId": "04156984210870783133"
     },
     "user_tz": -120
    },
    "id": "LurEjQESrnNL",
    "outputId": "ff814a2f-834b-4f79-abcb-28543170fb3a"
   },
   "outputs": [],
   "source": [
    "dicc3 = dict({\"x\": 0}, y = 1, z = -1)\n",
    "print(dicc3)"
   ]
  }
 ],
 "metadata": {
  "colab": {
   "collapsed_sections": [
    "LjZ5hprxg0MY"
   ],
   "provenance": []
  },
  "kernelspec": {
   "display_name": "Python 3 (ipykernel)",
   "language": "python",
   "name": "python3"
  },
  "language_info": {
   "codemirror_mode": {
    "name": "ipython",
    "version": 3
   },
   "file_extension": ".py",
   "mimetype": "text/x-python",
   "name": "python",
   "nbconvert_exporter": "python",
   "pygments_lexer": "ipython3",
   "version": "3.11.4"
  }
 },
 "nbformat": 4,
 "nbformat_minor": 1
}

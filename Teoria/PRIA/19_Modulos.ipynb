{
 "cells": [
  {
   "cell_type": "markdown",
   "metadata": {
    "id": "dT2x6kcV3g8S"
   },
   "source": [
    "# Scripts y Módulos en `Python`"
   ]
  },
  {
   "cell_type": "markdown",
   "metadata": {
    "id": "TMugytgS5V8q"
   },
   "source": [
    "## Scripts\n",
    "\n",
    "**Script.** Es un archivo que contiene líneas de código. En nuestro caso, dichas líneas estarán escritas con el lenguaje de programación `Python`\n",
    "\n",
    "Un script de `Python` tiene la extensión `.py`.\n",
    "\n",
    "Para crear un editor de texto como por ejemplo Text Editor aunque es más cómodo usar un IDE como PyCharm o Visual Studio Code.\n",
    "\n"
   ]
  },
  {
   "cell_type": "markdown",
   "metadata": {
    "id": "fOIMuYWKGYO6"
   },
   "source": [
    "### Creando un script de `Python`\n",
    "\n",
    "Creamos el fichero `my_first_script.py` y escribiremos la siguiente línea de código:\n",
    "\n",
    "\n",
    "```\n",
    "print(\"Mi primer script dice ¡HOLA!\")\n",
    "```\n",
    "\n"
   ]
  },
  {
   "cell_type": "markdown",
   "metadata": {
    "id": "oVxtevRBRyH5"
   },
   "source": [
    "\n",
    "### Importando un script de `Python`\n",
    "\n",
    "Si queremos importar un script de Python en otro script tenemos que importarlo.\n",
    "\n",
    "\n",
    "```\n",
    "import my_first_script\n",
    "```\n",
    "\n"
   ]
  },
  {
   "cell_type": "markdown",
   "metadata": {
    "id": "reK0N9Dj4N9J"
   },
   "source": [
    "## Módulos\n",
    "\n",
    "**Módulo.** Es una librería de código. Es un script que contiene un conjunto de funciones.\n",
    "\n",
    "Un módulo de `Python`, al ser un script, tiene la extensión `.py`."
   ]
  },
  {
   "cell_type": "markdown",
   "metadata": {
    "id": "Q7RdFpCW7CvY"
   },
   "source": [
    "### Creando un módulo\n",
    "\n",
    "Creamos el fichero `my_first_module.py`. \n",
    "\n",
    "En él declararemos las siguientes funciones:\n",
    "\n",
    "```\n",
    "def sum(*numbers):\n",
    "    \"\"\"\n",
    "    Función que suma los elementos que introduzcamos por parámetro\n",
    "    \"\"\"\n",
    "    result = 0\n",
    "    for n in numbers:\n",
    "        result += n\n",
    "  \n",
    "    return result\n",
    "  \n",
    "def prod(*numbers):\n",
    "    \"\"\"\n",
    "    Función que multiplica los elementos que introduzcamos por parámetro\n",
    "    \"\"\"\n",
    "    result = 1\n",
    "    for n in numbers:\n",
    "        result *= n\n",
    "  \n",
    "    return result\n",
    "    \n",
    "def description():\n",
    "    print(\"Este módulo tiene 3 funciones: \")\n",
    "    print(\"\\t- la que muestra la descripción del módulo\")\n",
    "    print(\"\\t- la que suma los números que introduzcamos por parámetro\")\n",
    "    print(\"\\t- la que multiplica los números que introduzcamos por parámetro\")\n",
    "```\n",
    "\n"
   ]
  },
  {
   "cell_type": "markdown",
   "metadata": {
    "id": "o8qwBpcw7LLw"
   },
   "source": [
    "### Importando un módulo de `Python`\n",
    "\n"
   ]
  },
  {
   "cell_type": "markdown",
   "metadata": {
    "id": "aoGojeleksOA"
   },
   "source": [
    "Una vez creado el módulo, lo guardamos y para importar el modulo desde otro script que este en el mismo directorio de trabajo que el módulo sólo tenemos que hacer:\n",
    "\n",
    "\n",
    "```\n",
    "import my_first_module\n",
    "```\n",
    "\n",
    "\n"
   ]
  },
  {
   "cell_type": "markdown",
   "metadata": {
    "id": "0hqsA_9JlD3X"
   },
   "source": [
    "Finalmente, importamos el módulo y accedemos a su función con la siguiente sintaxis:\n",
    "\n",
    "\n",
    "```\n",
    "import my_first_module\n",
    "\n",
    "my_first_module.my_description()\n",
    "total_sum = my_first_module.my_sum(1, 2, 3, 4, 5, 6, 7, 8, 9, 10)\n",
    "total_prod = my_first_module.my_prod(1, 2, 3, 4, 5, 6, 7, 8, 9, 10)\n",
    "\n",
    "print(\"\\nEl resultado de la suma ha sido {} y el del producto, {}\".format(total_sum, total_prod))\n",
    "```\n",
    "\n"
   ]
  },
  {
   "cell_type": "markdown",
   "metadata": {
    "id": "YocwP3O77mSw"
   },
   "source": [
    "#### Renombrando un módulo"
   ]
  },
  {
   "cell_type": "markdown",
   "metadata": {
    "id": "SKawaE_bltOV"
   },
   "source": [
    "Como recordaréis, cuando vimos por primera vez la palabra reservada `import`, si lo combinábamos con la palabra reservada `as`, conseguíamos renombrar el objeto que importábamos. \n",
    "\n",
    "En este caso, `my_first_module` es un nombre muy largo. Podemos renombrarlo a `mfm` con la siguiente línea de código, de modo que a partir de ahora cuando queramos invocar alguna función de nuestro módulo, en vez de preceder a cada función por `my_first_module`, lo haremos por `mfm`\n",
    "\n",
    "```\n",
    "import my_first_module as mfm\n",
    "\n",
    "mfm.my_description()\n",
    "total_sum = mfm.my_sum(1, 2, 3, 4, 5, 6, 7, 8, 9, 10)\n",
    "total_prod = mfm.my_prod(1, 2, 3, 4, 5, 6, 7, 8, 9, 10)\n",
    "\n",
    "print(\"\\nEl resultado de la suma ha sido {} y el del producto, {}\".format(total_sum, total_prod))\n",
    "```\n",
    "\n"
   ]
  },
  {
   "cell_type": "markdown",
   "metadata": {
    "id": "-WKMBwrQ7peQ"
   },
   "source": [
    "#### Variables en un módulo"
   ]
  },
  {
   "cell_type": "markdown",
   "metadata": {
    "id": "otIuy90wmadn"
   },
   "source": [
    "Hasta ahora solo hemos visto como acceder a funciones de un módulo, pero los módulos también pueden contener variables. Añadamos a nuestro módulo las dos siguientes líneas de código:\n",
    "\n",
    "```\n",
    "sum1to10 = my_sum(1, 2, 3, 4, 5, 6, 7, 8, 9, 10)\n",
    "prod1to10 = my_prod(1, 2, 3, 4, 5, 6, 7, 8, 9, 10)\n",
    "```\n",
    "\n"
   ]
  },
  {
   "cell_type": "markdown",
   "metadata": {
    "id": "rkI9oGj2nIhZ"
   },
   "source": [
    "Podemos usar las variables del modulo en otro script si primero importamos el modulo:\n",
    "\n",
    "```\n",
    "import my_first_module as mfm\n",
    "\n",
    "print(\"\\nEl resultado de la suma de los 10 primeros números enteros es {} y su producto, {}\".format(mfm.sum1to10, mfm.prod1to10))\n",
    "```\n",
    "\n"
   ]
  },
  {
   "cell_type": "markdown",
   "metadata": {
    "id": "2iWwjJqdnusY"
   },
   "source": [
    "También se puede hacer del siguiente modo:\n",
    "\n",
    "\n",
    "```\n",
    "from my_first_module import sum1to10, prod1to10\n",
    "print(\"\\nEl resultado de la suma de los 10 primeros números enteros es {} y su producto, {}\".format(sum1to10, prod1to10))\n",
    "```"
   ]
  },
  {
   "cell_type": "markdown",
   "metadata": {
    "id": "wftq4uww7gRi"
   },
   "source": [
    "### La función `dir()`"
   ]
  },
  {
   "cell_type": "markdown",
   "metadata": {
    "id": "F6q54bF-pczl"
   },
   "source": [
    "La función `dir()` aplicada a un script nos devuelve los métodos y las variables que contiene.\n",
    "\n",
    "Si la aplicamos a nuestro módulo, al que recordad habíamos renombrado como `mfm`, lo que obtenemos es la siguiente lista de métodos y variables.\n",
    "\n",
    "```\n",
    "dir(mfm)\n",
    "```\n",
    "\n"
   ]
  },
  {
   "cell_type": "markdown",
   "metadata": {
    "id": "dkTKW3ANps5X"
   },
   "source": [
    "**Observación.** Como resultado no solamente obtenemos los métodos y las variables creados por nosotros, sino que se muestran algunos atributos extras como `.__file__`, que guarda el path donde está guardado el módulo, que son los que se han creado por defecto y a los cuales también podemos acceder:\n",
    "\n",
    "```\n",
    "mfm.__file__\n",
    "```\n",
    "\n"
   ]
  }
 ],
 "metadata": {
  "colab": {
   "provenance": []
  },
  "kernelspec": {
   "display_name": "Python 3 (ipykernel)",
   "language": "python",
   "name": "python3"
  },
  "language_info": {
   "codemirror_mode": {
    "name": "ipython",
    "version": 3
   },
   "file_extension": ".py",
   "mimetype": "text/x-python",
   "name": "python",
   "nbconvert_exporter": "python",
   "pygments_lexer": "ipython3",
   "version": "3.10.9"
  }
 },
 "nbformat": 4,
 "nbformat_minor": 1
}

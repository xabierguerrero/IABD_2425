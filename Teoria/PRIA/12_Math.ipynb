{
 "cells": [
  {
   "cell_type": "markdown",
   "metadata": {
    "id": "zGV54i_GSmVj"
   },
   "source": [
    "# Módulos de `Python`: `math`\n"
   ]
  },
  {
   "cell_type": "markdown",
   "metadata": {
    "id": "nP9iEKPNUnAf"
   },
   "source": [
    "## `math`\n",
    "\n",
    "El módulo `math` nos proporciona funciones matemáticas."
   ]
  },
  {
   "cell_type": "code",
   "execution_count": 2,
   "metadata": {
    "id": "IA-ImNswCuOw"
   },
   "outputs": [],
   "source": [
    "import math"
   ]
  },
  {
   "cell_type": "code",
   "execution_count": 3,
   "metadata": {
    "colab": {
     "base_uri": "https://localhost:8080/"
    },
    "executionInfo": {
     "elapsed": 41,
     "status": "ok",
     "timestamp": 1684089506166,
     "user": {
      "displayName": "Ainara Montoya",
      "userId": "04156984210870783133"
     },
     "user_tz": -120
    },
    "id": "zK2x_OIrC06r",
    "outputId": "e2c3e5be-937c-40ae-f6a3-8e0029a66548"
   },
   "outputs": [
    {
     "data": {
      "text/plain": [
       "['__doc__',\n",
       " '__loader__',\n",
       " '__name__',\n",
       " '__package__',\n",
       " '__spec__',\n",
       " 'acos',\n",
       " 'acosh',\n",
       " 'asin',\n",
       " 'asinh',\n",
       " 'atan',\n",
       " 'atan2',\n",
       " 'atanh',\n",
       " 'cbrt',\n",
       " 'ceil',\n",
       " 'comb',\n",
       " 'copysign',\n",
       " 'cos',\n",
       " 'cosh',\n",
       " 'degrees',\n",
       " 'dist',\n",
       " 'e',\n",
       " 'erf',\n",
       " 'erfc',\n",
       " 'exp',\n",
       " 'exp2',\n",
       " 'expm1',\n",
       " 'fabs',\n",
       " 'factorial',\n",
       " 'floor',\n",
       " 'fmod',\n",
       " 'frexp',\n",
       " 'fsum',\n",
       " 'gamma',\n",
       " 'gcd',\n",
       " 'hypot',\n",
       " 'inf',\n",
       " 'isclose',\n",
       " 'isfinite',\n",
       " 'isinf',\n",
       " 'isnan',\n",
       " 'isqrt',\n",
       " 'lcm',\n",
       " 'ldexp',\n",
       " 'lgamma',\n",
       " 'log',\n",
       " 'log10',\n",
       " 'log1p',\n",
       " 'log2',\n",
       " 'modf',\n",
       " 'nan',\n",
       " 'nextafter',\n",
       " 'perm',\n",
       " 'pi',\n",
       " 'pow',\n",
       " 'prod',\n",
       " 'radians',\n",
       " 'remainder',\n",
       " 'sin',\n",
       " 'sinh',\n",
       " 'sqrt',\n",
       " 'tan',\n",
       " 'tanh',\n",
       " 'tau',\n",
       " 'trunc',\n",
       " 'ulp']"
      ]
     },
     "execution_count": 3,
     "metadata": {},
     "output_type": "execute_result"
    }
   ],
   "source": [
    "dir(math)"
   ]
  },
  {
   "cell_type": "markdown",
   "metadata": {
    "id": "NcJUleSnffr7"
   },
   "source": [
    "### Constantes del módulo `math`"
   ]
  },
  {
   "cell_type": "markdown",
   "metadata": {
    "id": "Gbu5OGFHfsgL"
   },
   "source": [
    "El número $\\pi = 3.141492\\dots$ lo obtenemos como atributo del módulo `math` como"
   ]
  },
  {
   "cell_type": "code",
   "execution_count": 4,
   "metadata": {
    "colab": {
     "base_uri": "https://localhost:8080/"
    },
    "executionInfo": {
     "elapsed": 39,
     "status": "ok",
     "timestamp": 1684089506167,
     "user": {
      "displayName": "Ainara Montoya",
      "userId": "04156984210870783133"
     },
     "user_tz": -120
    },
    "id": "XWnP3fuCf10a",
    "outputId": "ba48396a-f0be-493a-ee7a-285d124105bc"
   },
   "outputs": [
    {
     "data": {
      "text/plain": [
       "3.141592653589793"
      ]
     },
     "execution_count": 4,
     "metadata": {},
     "output_type": "execute_result"
    }
   ],
   "source": [
    "math.pi"
   ]
  },
  {
   "cell_type": "markdown",
   "metadata": {
    "id": "8Q71FoMGf3Yl"
   },
   "source": [
    "El número $e = 2.718281\\dots$ lo botenemos como atributo del módulo `math` como "
   ]
  },
  {
   "cell_type": "code",
   "execution_count": 5,
   "metadata": {
    "colab": {
     "base_uri": "https://localhost:8080/"
    },
    "executionInfo": {
     "elapsed": 36,
     "status": "ok",
     "timestamp": 1684089506167,
     "user": {
      "displayName": "Ainara Montoya",
      "userId": "04156984210870783133"
     },
     "user_tz": -120
    },
    "id": "vZLtHpX-f-hH",
    "outputId": "a56f8106-9927-4f88-d8fb-969b051770b0"
   },
   "outputs": [
    {
     "data": {
      "text/plain": [
       "2.718281828459045"
      ]
     },
     "execution_count": 5,
     "metadata": {},
     "output_type": "execute_result"
    }
   ],
   "source": [
    "math.e"
   ]
  },
  {
   "cell_type": "markdown",
   "metadata": {
    "id": "f9XC7IuZgMN7"
   },
   "source": [
    "El infinito positivo, $\\infty$, lo obtenemos en el módulo `math` como "
   ]
  },
  {
   "cell_type": "code",
   "execution_count": 6,
   "metadata": {
    "colab": {
     "base_uri": "https://localhost:8080/"
    },
    "executionInfo": {
     "elapsed": 33,
     "status": "ok",
     "timestamp": 1684089506167,
     "user": {
      "displayName": "Ainara Montoya",
      "userId": "04156984210870783133"
     },
     "user_tz": -120
    },
    "id": "N4BMgKGogSmh",
    "outputId": "6e69d655-8ecc-4648-aa5d-c40459a607a8"
   },
   "outputs": [
    {
     "data": {
      "text/plain": [
       "inf"
      ]
     },
     "execution_count": 6,
     "metadata": {},
     "output_type": "execute_result"
    }
   ],
   "source": [
    "math.inf"
   ]
  },
  {
   "cell_type": "markdown",
   "metadata": {
    "id": "JfzxZEM9gUp_"
   },
   "source": [
    "**Observación.** El infinito negativo, -$\\infty$, puede obtenerse multiplicando -1 al resultado de `math.inf`"
   ]
  },
  {
   "cell_type": "code",
   "execution_count": 7,
   "metadata": {
    "colab": {
     "base_uri": "https://localhost:8080/"
    },
    "executionInfo": {
     "elapsed": 31,
     "status": "ok",
     "timestamp": 1684089506168,
     "user": {
      "displayName": "Ainara Montoya",
      "userId": "04156984210870783133"
     },
     "user_tz": -120
    },
    "id": "uaTDdHtJga1b",
    "outputId": "fe95138a-3f3f-4688-c3f8-d3af0b5107cb"
   },
   "outputs": [
    {
     "data": {
      "text/plain": [
       "-inf"
      ]
     },
     "execution_count": 7,
     "metadata": {},
     "output_type": "execute_result"
    }
   ],
   "source": [
    "-math.inf"
   ]
  },
  {
   "cell_type": "markdown",
   "metadata": {
    "id": "J-ULZveWgc6B"
   },
   "source": [
    "El último atributo del módulo `math` es `nan` (valor `NaN`, not a number)"
   ]
  },
  {
   "cell_type": "code",
   "execution_count": 8,
   "metadata": {
    "colab": {
     "base_uri": "https://localhost:8080/"
    },
    "executionInfo": {
     "elapsed": 29,
     "status": "ok",
     "timestamp": 1684089506168,
     "user": {
      "displayName": "Ainara Montoya",
      "userId": "04156984210870783133"
     },
     "user_tz": -120
    },
    "id": "C-SIMai6gkFt",
    "outputId": "9e712006-b83b-4246-b197-7c6ce1bfbf2b"
   },
   "outputs": [
    {
     "data": {
      "text/plain": [
       "nan"
      ]
     },
     "execution_count": 8,
     "metadata": {},
     "output_type": "execute_result"
    }
   ],
   "source": [
    "math.nan"
   ]
  },
  {
   "cell_type": "markdown",
   "metadata": {
    "id": "MXJZvu9Ife2B"
   },
   "source": [
    "### Métodos del módulo `math`"
   ]
  },
  {
   "cell_type": "markdown",
   "metadata": {
    "id": "VafHcFaEGZ38"
   },
   "source": [
    "#### Parte entera de un número\n",
    "\n",
    "**Parte entera de $x$.** Dado un número real $x$, se define su parte entera como el mayor número entero menor o igual que $x$.\n",
    "\n",
    "Para obtener la parte entera de un número real, podemos usar el método `.floor()`"
   ]
  },
  {
   "cell_type": "code",
   "execution_count": 9,
   "metadata": {
    "colab": {
     "base_uri": "https://localhost:8080/"
    },
    "executionInfo": {
     "elapsed": 27,
     "status": "ok",
     "timestamp": 1684089506168,
     "user": {
      "displayName": "Ainara Montoya",
      "userId": "04156984210870783133"
     },
     "user_tz": -120
    },
    "id": "DXCofQvHGVKu",
    "outputId": "37e91bc0-1b16-4bcf-d156-46d99b3ed32c"
   },
   "outputs": [
    {
     "data": {
      "text/plain": [
       "2"
      ]
     },
     "execution_count": 9,
     "metadata": {},
     "output_type": "execute_result"
    }
   ],
   "source": [
    "x = 2.75\n",
    "math.floor(x)"
   ]
  },
  {
   "cell_type": "code",
   "execution_count": 10,
   "metadata": {
    "colab": {
     "base_uri": "https://localhost:8080/"
    },
    "executionInfo": {
     "elapsed": 26,
     "status": "ok",
     "timestamp": 1684089506169,
     "user": {
      "displayName": "Ainara Montoya",
      "userId": "04156984210870783133"
     },
     "user_tz": -120
    },
    "id": "sEWJKkIiE5T6",
    "outputId": "8be1c2c5-47c3-448b-8ed1-3be070632ec9"
   },
   "outputs": [
    {
     "data": {
      "text/plain": [
       "-4"
      ]
     },
     "execution_count": 10,
     "metadata": {},
     "output_type": "execute_result"
    }
   ],
   "source": [
    "x = -3.1415\n",
    "math.floor(x)"
   ]
  },
  {
   "cell_type": "markdown",
   "metadata": {
    "id": "Y9-bWS6GGgQL"
   },
   "source": [
    "**Parte entera por exceso de $x$.** Dado un número real $x$, se define su parte entera por exceso como el menor número entero mayor o igual que $x$.\n",
    "\n",
    "Para obtener la parte entera por exceso de un número real, podemos usar el método `.ceil()`"
   ]
  },
  {
   "cell_type": "code",
   "execution_count": 11,
   "metadata": {
    "colab": {
     "base_uri": "https://localhost:8080/"
    },
    "executionInfo": {
     "elapsed": 25,
     "status": "ok",
     "timestamp": 1684089506169,
     "user": {
      "displayName": "Ainara Montoya",
      "userId": "04156984210870783133"
     },
     "user_tz": -120
    },
    "id": "NoHQ75rxGffv",
    "outputId": "3a477af1-e1bc-4cc3-d9cd-3321a64d6f45"
   },
   "outputs": [
    {
     "data": {
      "text/plain": [
       "3"
      ]
     },
     "execution_count": 11,
     "metadata": {},
     "output_type": "execute_result"
    }
   ],
   "source": [
    "x = 2.75\n",
    "math.ceil(x)"
   ]
  },
  {
   "cell_type": "code",
   "execution_count": 12,
   "metadata": {
    "colab": {
     "base_uri": "https://localhost:8080/"
    },
    "executionInfo": {
     "elapsed": 23,
     "status": "ok",
     "timestamp": 1684089506169,
     "user": {
      "displayName": "Ainara Montoya",
      "userId": "04156984210870783133"
     },
     "user_tz": -120
    },
    "id": "DKB_oS9LFVLF",
    "outputId": "de60c83d-1931-447c-f6fc-00e961ba21ef"
   },
   "outputs": [
    {
     "data": {
      "text/plain": [
       "-3"
      ]
     },
     "execution_count": 12,
     "metadata": {},
     "output_type": "execute_result"
    }
   ],
   "source": [
    "x = -3.1415\n",
    "math.ceil(x)"
   ]
  },
  {
   "cell_type": "markdown",
   "metadata": {
    "id": "Sko8uxdtG8vQ"
   },
   "source": [
    "Existen otra función más que dado un número real, nos devuelven su parte entera. Se trata de la función de truncamiento.\n",
    "\n",
    "Para truncar un número, utilizamos el método `.trunc()`"
   ]
  },
  {
   "cell_type": "code",
   "execution_count": 12,
   "metadata": {
    "colab": {
     "base_uri": "https://localhost:8080/"
    },
    "executionInfo": {
     "elapsed": 22,
     "status": "ok",
     "timestamp": 1684089506170,
     "user": {
      "displayName": "Ainara Montoya",
      "userId": "04156984210870783133"
     },
     "user_tz": -120
    },
    "id": "hvog7xshHhRM",
    "outputId": "0b91cf06-c683-4898-e87a-3d5f8ad533d7"
   },
   "outputs": [
    {
     "data": {
      "text/plain": [
       "2"
      ]
     },
     "execution_count": 12,
     "metadata": {},
     "output_type": "execute_result"
    }
   ],
   "source": [
    "x = 2.75\n",
    "math.trunc(x)"
   ]
  },
  {
   "cell_type": "code",
   "execution_count": 13,
   "metadata": {
    "colab": {
     "base_uri": "https://localhost:8080/"
    },
    "executionInfo": {
     "elapsed": 21,
     "status": "ok",
     "timestamp": 1684089506170,
     "user": {
      "displayName": "Ainara Montoya",
      "userId": "04156984210870783133"
     },
     "user_tz": -120
    },
    "id": "4Lt0Cl1gFkac",
    "outputId": "9001d629-843d-488b-e421-0822167732b4"
   },
   "outputs": [
    {
     "data": {
      "text/plain": [
       "-3"
      ]
     },
     "execution_count": 13,
     "metadata": {},
     "output_type": "execute_result"
    }
   ],
   "source": [
    "x = -3.1415\n",
    "math.trunc(x)"
   ]
  },
  {
   "cell_type": "markdown",
   "metadata": {
    "id": "Q0WD3_NcNcmO"
   },
   "source": [
    "#### Aritmética\n",
    "\n",
    "Para calcular el resto de $x$ entre $y$ siendo $x,y$ números reales, se prefiere usar el método `.fmod()` al operador `%`, pues el primero tiene mucha más precisión al tratar con números reales."
   ]
  },
  {
   "cell_type": "code",
   "execution_count": 13,
   "metadata": {
    "colab": {
     "base_uri": "https://localhost:8080/"
    },
    "executionInfo": {
     "elapsed": 19,
     "status": "ok",
     "timestamp": 1684089506170,
     "user": {
      "displayName": "Ainara Montoya",
      "userId": "04156984210870783133"
     },
     "user_tz": -120
    },
    "id": "N0dvGqbcN5Gx",
    "outputId": "a2991ebf-412d-401f-fe38-f0dfca8e7838"
   },
   "outputs": [
    {
     "data": {
      "text/plain": [
       "0.25"
      ]
     },
     "execution_count": 13,
     "metadata": {},
     "output_type": "execute_result"
    }
   ],
   "source": [
    "x = 5.25\n",
    "y = 2.5\n",
    "math.fmod(x, y)"
   ]
  },
  {
   "cell_type": "markdown",
   "metadata": {
    "id": "T670JUaJORje"
   },
   "source": [
    "En este caso, para comprobar nuestros resultados, podríamos hacer lo siguiente"
   ]
  },
  {
   "cell_type": "code",
   "execution_count": 15,
   "metadata": {
    "colab": {
     "base_uri": "https://localhost:8080/"
    },
    "executionInfo": {
     "elapsed": 17,
     "status": "ok",
     "timestamp": 1684089506170,
     "user": {
      "displayName": "Ainara Montoya",
      "userId": "04156984210870783133"
     },
     "user_tz": -120
    },
    "id": "Ra0oOhbXOUj7",
    "outputId": "d544bcf2-6142-465e-92cd-8354ebc4d27f"
   },
   "outputs": [
    {
     "data": {
      "text/plain": [
       "True"
      ]
     },
     "execution_count": 15,
     "metadata": {},
     "output_type": "execute_result"
    }
   ],
   "source": [
    "x == math.floor(x / y) * y + math.fmod(x, y)"
   ]
  },
  {
   "cell_type": "markdown",
   "metadata": {
    "id": "5FH23So2OvBW"
   },
   "source": [
    "Dado un objeto iterable (por ejemplo una lista) de números reales, el método `.fsum()` calcula la suma de todos los elementos de dicho iterable de forma precisa en coma flotante"
   ]
  },
  {
   "cell_type": "code",
   "execution_count": 16,
   "metadata": {
    "colab": {
     "base_uri": "https://localhost:8080/"
    },
    "executionInfo": {
     "elapsed": 17,
     "status": "ok",
     "timestamp": 1684089506171,
     "user": {
      "displayName": "Ainara Montoya",
      "userId": "04156984210870783133"
     },
     "user_tz": -120
    },
    "id": "jCwNJ1E4PDHi",
    "outputId": "036db009-4ae6-4021-d727-8dd19898e2e4"
   },
   "outputs": [
    {
     "name": "stdout",
     "output_type": "stream",
     "text": [
      "El resultado de sum() sería 0.9999999999999999\n",
      "El resultado de math.fsum() sería 1.0\n"
     ]
    }
   ],
   "source": [
    "l = [.1] * 10\n",
    "print(\"El resultado de sum() sería {}\".format(sum(l)))\n",
    "print(\"El resultado de math.fsum() sería {}\".format(math.fsum(l)))"
   ]
  },
  {
   "cell_type": "markdown",
   "metadata": {
    "id": "xRh_Jq1PW48v"
   },
   "source": [
    "Con el método `.modf()` conseguimos la tupla de parte decimal y entera de un número real $x$"
   ]
  },
  {
   "cell_type": "code",
   "execution_count": 17,
   "metadata": {
    "colab": {
     "base_uri": "https://localhost:8080/"
    },
    "executionInfo": {
     "elapsed": 15,
     "status": "ok",
     "timestamp": 1684089506171,
     "user": {
      "displayName": "Ainara Montoya",
      "userId": "04156984210870783133"
     },
     "user_tz": -120
    },
    "id": "Jxf5BlEgXGKu",
    "outputId": "ea99b925-8da2-49b1-8424-72b0e787cb77"
   },
   "outputs": [
    {
     "data": {
      "text/plain": [
       "(0.25, 4.0)"
      ]
     },
     "execution_count": 17,
     "metadata": {},
     "output_type": "execute_result"
    }
   ],
   "source": [
    "math.modf(4.25)"
   ]
  },
  {
   "cell_type": "code",
   "execution_count": 18,
   "metadata": {
    "colab": {
     "base_uri": "https://localhost:8080/"
    },
    "executionInfo": {
     "elapsed": 14,
     "status": "ok",
     "timestamp": 1684089506171,
     "user": {
      "displayName": "Ainara Montoya",
      "userId": "04156984210870783133"
     },
     "user_tz": -120
    },
    "id": "RXym1CCOHTVE",
    "outputId": "5d604c4e-a62d-4b13-ce83-9096148735d9"
   },
   "outputs": [
    {
     "data": {
      "text/plain": [
       "(-0.14150000000000018, -3.0)"
      ]
     },
     "execution_count": 18,
     "metadata": {},
     "output_type": "execute_result"
    }
   ],
   "source": [
    "math.modf(-3.1415)"
   ]
  },
  {
   "cell_type": "markdown",
   "metadata": {
    "id": "-Pgd0B1XUQE7"
   },
   "source": [
    "#### Potencias y logaritmos\n",
    "\n"
   ]
  },
  {
   "cell_type": "markdown",
   "metadata": {
    "id": "9M7nAjZiYAC_"
   },
   "source": [
    "El método `.exp()` nos devuelve el número $e^x$ donde $x$ es el valor indicado por parámetro"
   ]
  },
  {
   "cell_type": "code",
   "execution_count": 19,
   "metadata": {
    "colab": {
     "base_uri": "https://localhost:8080/"
    },
    "executionInfo": {
     "elapsed": 12,
     "status": "ok",
     "timestamp": 1684089506171,
     "user": {
      "displayName": "Ainara Montoya",
      "userId": "04156984210870783133"
     },
     "user_tz": -120
    },
    "id": "EtC8QDs1YIsM",
    "outputId": "3442a7da-1275-448e-e370-9442274afa84"
   },
   "outputs": [
    {
     "data": {
      "text/plain": [
       "7.38905609893065"
      ]
     },
     "execution_count": 19,
     "metadata": {},
     "output_type": "execute_result"
    }
   ],
   "source": [
    "math.exp(2)"
   ]
  },
  {
   "cell_type": "markdown",
   "metadata": {
    "id": "_eYEPKvQYLl6"
   },
   "source": [
    "**Observación.** Por tanto, el número $e$ en `Python` se puede obtener como la función exponencial para $x = 1$. No obstante, recordemos que el módulo  `math` tiene el atributo `e` que es precisamente dicho número"
   ]
  },
  {
   "cell_type": "code",
   "execution_count": 20,
   "metadata": {
    "colab": {
     "base_uri": "https://localhost:8080/"
    },
    "executionInfo": {
     "elapsed": 12,
     "status": "ok",
     "timestamp": 1684089506172,
     "user": {
      "displayName": "Ainara Montoya",
      "userId": "04156984210870783133"
     },
     "user_tz": -120
    },
    "id": "EEa-bD0LYTJ0",
    "outputId": "8b599fa2-14ad-4722-a8b2-27f92d2e1b3d"
   },
   "outputs": [
    {
     "data": {
      "text/plain": [
       "2.718281828459045"
      ]
     },
     "execution_count": 20,
     "metadata": {},
     "output_type": "execute_result"
    }
   ],
   "source": [
    "e = math.exp(1)\n",
    "e"
   ]
  },
  {
   "cell_type": "code",
   "execution_count": 21,
   "metadata": {
    "colab": {
     "base_uri": "https://localhost:8080/"
    },
    "executionInfo": {
     "elapsed": 539,
     "status": "ok",
     "timestamp": 1684089506700,
     "user": {
      "displayName": "Ainara Montoya",
      "userId": "04156984210870783133"
     },
     "user_tz": -120
    },
    "id": "gwGrTmjhY156",
    "outputId": "531be022-6034-480b-fe0b-b2e877c2e05a"
   },
   "outputs": [
    {
     "data": {
      "text/plain": [
       "2.718281828459045"
      ]
     },
     "execution_count": 21,
     "metadata": {},
     "output_type": "execute_result"
    }
   ],
   "source": [
    "math.e"
   ]
  },
  {
   "cell_type": "markdown",
   "metadata": {
    "id": "o7ZVx76OYYaU"
   },
   "source": [
    "Siguiendo con la función exponencial, tenemos el método `.expm1()` que es el resultado de $e^x - 1$ donde $x$ es el número que introducimos por parámetro"
   ]
  },
  {
   "cell_type": "code",
   "execution_count": 22,
   "metadata": {
    "colab": {
     "base_uri": "https://localhost:8080/"
    },
    "executionInfo": {
     "elapsed": 59,
     "status": "ok",
     "timestamp": 1684089506700,
     "user": {
      "displayName": "Ainara Montoya",
      "userId": "04156984210870783133"
     },
     "user_tz": -120
    },
    "id": "BrcjSGB2Yl5H",
    "outputId": "fea86385-486a-4dcf-c672-83971256df52"
   },
   "outputs": [
    {
     "data": {
      "text/plain": [
       "6.38905609893065"
      ]
     },
     "execution_count": 22,
     "metadata": {},
     "output_type": "execute_result"
    }
   ],
   "source": [
    "math.exp(2) - 1 "
   ]
  },
  {
   "cell_type": "code",
   "execution_count": 23,
   "metadata": {
    "colab": {
     "base_uri": "https://localhost:8080/"
    },
    "executionInfo": {
     "elapsed": 56,
     "status": "ok",
     "timestamp": 1684089506700,
     "user": {
      "displayName": "Ainara Montoya",
      "userId": "04156984210870783133"
     },
     "user_tz": -120
    },
    "id": "nnZEa_TzYoPI",
    "outputId": "f09b4b59-8352-4e3d-e946-c53e67d140d2"
   },
   "outputs": [
    {
     "data": {
      "text/plain": [
       "6.38905609893065"
      ]
     },
     "execution_count": 23,
     "metadata": {},
     "output_type": "execute_result"
    }
   ],
   "source": [
    "math.expm1(2)"
   ]
  },
  {
   "cell_type": "markdown",
   "metadata": {
    "id": "89fMBNSiZRqi"
   },
   "source": [
    "**Observación.** La existencia de este método se debe a la gran pérdida de precisión que conlleva restar una unidad directamente. De este modo, el método `.expm1()` ha sido programado de forma que no se pierda tal cantidad de precisión al llevar a cabo dicha operación."
   ]
  },
  {
   "cell_type": "markdown",
   "metadata": {
    "id": "uRjPbGDZZlvr"
   },
   "source": [
    "El método `.log()` nos devuelve resultados diferentes según los argumentos proporcionados:\n",
    "\n",
    "* Si solamente indicamos el número $x$ al que queremos aplicar el logaritmo, entonces se nos devuelve el resultado de calcular el logaritmo neperiano (logaritmo en base $e$) de $x$\n",
    "* Si introducimos dos parámetros, el primero será el número $x$ al que aplicamos el logaritmo, y el segundo, la base."
   ]
  },
  {
   "cell_type": "code",
   "execution_count": 24,
   "metadata": {
    "colab": {
     "base_uri": "https://localhost:8080/"
    },
    "executionInfo": {
     "elapsed": 50,
     "status": "ok",
     "timestamp": 1684089506701,
     "user": {
      "displayName": "Ainara Montoya",
      "userId": "04156984210870783133"
     },
     "user_tz": -120
    },
    "id": "gxbQj5e3Z6qD",
    "outputId": "eb7fb374-c631-4949-bd51-38e295c38728"
   },
   "outputs": [
    {
     "data": {
      "text/plain": [
       "4.007333185232471"
      ]
     },
     "execution_count": 24,
     "metadata": {},
     "output_type": "execute_result"
    }
   ],
   "source": [
    "# Logaritmo neperiano de 55\n",
    "math.log(55)"
   ]
  },
  {
   "cell_type": "code",
   "execution_count": 25,
   "metadata": {
    "colab": {
     "base_uri": "https://localhost:8080/"
    },
    "executionInfo": {
     "elapsed": 49,
     "status": "ok",
     "timestamp": 1684089506702,
     "user": {
      "displayName": "Ainara Montoya",
      "userId": "04156984210870783133"
     },
     "user_tz": -120
    },
    "id": "7pf1R5NaaB1R",
    "outputId": "2842eed5-ba87-4907-8440-0d0242edc32b"
   },
   "outputs": [
    {
     "data": {
      "text/plain": [
       "4.007333185232471"
      ]
     },
     "execution_count": 25,
     "metadata": {},
     "output_type": "execute_result"
    }
   ],
   "source": [
    "# Logaritmo neperiano de 55\n",
    "math.log(55, math.e)"
   ]
  },
  {
   "cell_type": "code",
   "execution_count": 26,
   "metadata": {
    "colab": {
     "base_uri": "https://localhost:8080/"
    },
    "executionInfo": {
     "elapsed": 47,
     "status": "ok",
     "timestamp": 1684089506702,
     "user": {
      "displayName": "Ainara Montoya",
      "userId": "04156984210870783133"
     },
     "user_tz": -120
    },
    "id": "foTNDjxJaCj4",
    "outputId": "7808ac62-680a-4fe8-e86a-8cd1acdc14b1"
   },
   "outputs": [
    {
     "data": {
      "text/plain": [
       "2.0"
      ]
     },
     "execution_count": 26,
     "metadata": {},
     "output_type": "execute_result"
    }
   ],
   "source": [
    "# Logaritmo en base 10 de 100\n",
    "math.log(100, 10)"
   ]
  },
  {
   "cell_type": "markdown",
   "metadata": {
    "id": "X5oeITg2a97O"
   },
   "source": [
    "El método `.log2()` nos devuelve el logaritmo en base 2 de $x$, $\\log_2(x)$, siendo $x$ el número real que introducimos por parámetro"
   ]
  },
  {
   "cell_type": "code",
   "execution_count": 27,
   "metadata": {
    "colab": {
     "base_uri": "https://localhost:8080/"
    },
    "executionInfo": {
     "elapsed": 42,
     "status": "ok",
     "timestamp": 1684089506702,
     "user": {
      "displayName": "Ainara Montoya",
      "userId": "04156984210870783133"
     },
     "user_tz": -120
    },
    "id": "p7OO7TaubIbv",
    "outputId": "ad7aef62-cf3b-4c01-fab5-541d657d3714"
   },
   "outputs": [
    {
     "data": {
      "text/plain": [
       "10.0"
      ]
     },
     "execution_count": 27,
     "metadata": {},
     "output_type": "execute_result"
    }
   ],
   "source": [
    "math.log2(1024)"
   ]
  },
  {
   "cell_type": "code",
   "execution_count": 28,
   "metadata": {
    "colab": {
     "base_uri": "https://localhost:8080/"
    },
    "executionInfo": {
     "elapsed": 42,
     "status": "ok",
     "timestamp": 1684089506703,
     "user": {
      "displayName": "Ainara Montoya",
      "userId": "04156984210870783133"
     },
     "user_tz": -120
    },
    "id": "CToHpt5ebKvB",
    "outputId": "aec8da67-060e-4ef5-c936-239b01f48430"
   },
   "outputs": [
    {
     "data": {
      "text/plain": [
       "10.0"
      ]
     },
     "execution_count": 28,
     "metadata": {},
     "output_type": "execute_result"
    }
   ],
   "source": [
    "math.log(1024, 2)"
   ]
  },
  {
   "cell_type": "markdown",
   "metadata": {
    "id": "6DggAuMCbQ4S"
   },
   "source": [
    "Del mismo modo, existe el método `.log10()` para calcular el logaritmo en base 10 de $x$, $\\log_{10}(x)$"
   ]
  },
  {
   "cell_type": "code",
   "execution_count": 29,
   "metadata": {
    "colab": {
     "base_uri": "https://localhost:8080/"
    },
    "executionInfo": {
     "elapsed": 40,
     "status": "ok",
     "timestamp": 1684089506703,
     "user": {
      "displayName": "Ainara Montoya",
      "userId": "04156984210870783133"
     },
     "user_tz": -120
    },
    "id": "1tAFy__pbZnx",
    "outputId": "e18c069e-78aa-4c0f-d5db-24160b185d89"
   },
   "outputs": [
    {
     "data": {
      "text/plain": [
       "2.0"
      ]
     },
     "execution_count": 29,
     "metadata": {},
     "output_type": "execute_result"
    }
   ],
   "source": [
    "math.log10(100)"
   ]
  },
  {
   "cell_type": "code",
   "execution_count": 30,
   "metadata": {
    "colab": {
     "base_uri": "https://localhost:8080/"
    },
    "executionInfo": {
     "elapsed": 38,
     "status": "ok",
     "timestamp": 1684089506703,
     "user": {
      "displayName": "Ainara Montoya",
      "userId": "04156984210870783133"
     },
     "user_tz": -120
    },
    "id": "qlUNUQDHbZuV",
    "outputId": "1446ffd6-64b1-4ee7-c17e-2e2d5ce5eb70"
   },
   "outputs": [
    {
     "data": {
      "text/plain": [
       "2.0"
      ]
     },
     "execution_count": 30,
     "metadata": {},
     "output_type": "execute_result"
    }
   ],
   "source": [
    "math.log(100, 10)"
   ]
  },
  {
   "cell_type": "markdown",
   "metadata": {
    "id": "5YOpRbk8bYaZ"
   },
   "source": [
    "El método `.pow()` ya lo conocemos. Nos calcula la potencia $x^y$, siendo `x` el primer parámetro indicado e `y` el segundo."
   ]
  },
  {
   "cell_type": "code",
   "execution_count": 31,
   "metadata": {
    "colab": {
     "base_uri": "https://localhost:8080/"
    },
    "executionInfo": {
     "elapsed": 36,
     "status": "ok",
     "timestamp": 1684089506703,
     "user": {
      "displayName": "Ainara Montoya",
      "userId": "04156984210870783133"
     },
     "user_tz": -120
    },
    "id": "O8rdkgWrbq1h",
    "outputId": "3e929985-996f-4c14-ebc1-67f5d7fe4dbd"
   },
   "outputs": [
    {
     "data": {
      "text/plain": [
       "1024.0"
      ]
     },
     "execution_count": 31,
     "metadata": {},
     "output_type": "execute_result"
    }
   ],
   "source": [
    "math.pow(2, 10)"
   ]
  },
  {
   "cell_type": "code",
   "execution_count": 32,
   "metadata": {
    "colab": {
     "base_uri": "https://localhost:8080/"
    },
    "executionInfo": {
     "elapsed": 35,
     "status": "ok",
     "timestamp": 1684089506704,
     "user": {
      "displayName": "Ainara Montoya",
      "userId": "04156984210870783133"
     },
     "user_tz": -120
    },
    "id": "5r3WDhvHbq84",
    "outputId": "055ad3ef-db8e-467c-c977-632319e1c1f9"
   },
   "outputs": [
    {
     "data": {
      "text/plain": [
       "1024"
      ]
     },
     "execution_count": 32,
     "metadata": {},
     "output_type": "execute_result"
    }
   ],
   "source": [
    "2 ** 10"
   ]
  },
  {
   "cell_type": "markdown",
   "metadata": {
    "id": "OFF03FkfTjA_"
   },
   "source": [
    "El método `.sqrt()` aplicado a un número entero $n$ nos devuelve la raíz cuadrada de dicho número entero $n$."
   ]
  },
  {
   "cell_type": "code",
   "execution_count": 33,
   "metadata": {
    "colab": {
     "base_uri": "https://localhost:8080/"
    },
    "executionInfo": {
     "elapsed": 34,
     "status": "ok",
     "timestamp": 1684089506704,
     "user": {
      "displayName": "Ainara Montoya",
      "userId": "04156984210870783133"
     },
     "user_tz": -120
    },
    "id": "MVySlthGT5UB",
    "outputId": "0448da12-05b2-4ed7-e34d-08bd69172878"
   },
   "outputs": [
    {
     "data": {
      "text/plain": [
       "5.0"
      ]
     },
     "execution_count": 33,
     "metadata": {},
     "output_type": "execute_result"
    }
   ],
   "source": [
    "math.sqrt(25)"
   ]
  },
  {
   "cell_type": "code",
   "execution_count": 34,
   "metadata": {
    "colab": {
     "base_uri": "https://localhost:8080/"
    },
    "executionInfo": {
     "elapsed": 32,
     "status": "ok",
     "timestamp": 1684089506704,
     "user": {
      "displayName": "Ainara Montoya",
      "userId": "04156984210870783133"
     },
     "user_tz": -120
    },
    "id": "mtwZfUi_UAMR",
    "outputId": "05b8d007-1883-4481-f1b0-7e1da442aa80"
   },
   "outputs": [
    {
     "data": {
      "text/plain": [
       "8.774964387392123"
      ]
     },
     "execution_count": 34,
     "metadata": {},
     "output_type": "execute_result"
    }
   ],
   "source": [
    "math.sqrt(77)"
   ]
  },
  {
   "cell_type": "markdown",
   "metadata": {
    "id": "3QpYulKSPhnb"
   },
   "source": [
    "#### Máximo común divisor y mínimo común múltiplo\n",
    "\n",
    "Para calcular el máximo común divisor de dos números, usamos el método `.gcd()` (del inglés, greatest common divisor)"
   ]
  },
  {
   "cell_type": "code",
   "execution_count": 35,
   "metadata": {
    "colab": {
     "base_uri": "https://localhost:8080/"
    },
    "executionInfo": {
     "elapsed": 31,
     "status": "ok",
     "timestamp": 1684089506704,
     "user": {
      "displayName": "Ainara Montoya",
      "userId": "04156984210870783133"
     },
     "user_tz": -120
    },
    "id": "Vs-I7N4NP05y",
    "outputId": "f018b07d-d257-41f2-ede0-f14886d91146"
   },
   "outputs": [
    {
     "data": {
      "text/plain": [
       "8"
      ]
     },
     "execution_count": 35,
     "metadata": {},
     "output_type": "execute_result"
    }
   ],
   "source": [
    "math.gcd(16, 8)"
   ]
  },
  {
   "cell_type": "markdown",
   "metadata": {
    "id": "ME5t9oqYQF2N"
   },
   "source": [
    "Para calcular el mínimo común múltiplo de dos números, usamos el método `.lcm()` (del inglés, least common multiple):"
   ]
  },
  {
   "cell_type": "code",
   "execution_count": 36,
   "metadata": {
    "colab": {
     "base_uri": "https://localhost:8080/"
    },
    "executionInfo": {
     "elapsed": 282,
     "status": "ok",
     "timestamp": 1684091484875,
     "user": {
      "displayName": "Ainara Montoya",
      "userId": "04156984210870783133"
     },
     "user_tz": -120
    },
    "id": "caIfGsCsROpr",
    "outputId": "f063220f-32cc-4606-e0c1-358b56558c74"
   },
   "outputs": [
    {
     "data": {
      "text/plain": [
       "16"
      ]
     },
     "execution_count": 36,
     "metadata": {},
     "output_type": "execute_result"
    }
   ],
   "source": [
    "math.lcm(16, 8)"
   ]
  },
  {
   "cell_type": "markdown",
   "metadata": {
    "id": "BACNzbZrHtig"
   },
   "source": [
    "#### Combinatoria\n",
    "\n",
    "**Factorial de $n$.** Dado un número entero positivo $n$, definimos su número factorial como $$n! = n\\cdot (n-1)\\cdot (n-2)\\cdots 2\\cdot 1$$\n",
    "\n",
    "Para calcular el factorial de un número entero, usamos el método `.factorial()`"
   ]
  },
  {
   "cell_type": "code",
   "execution_count": 37,
   "metadata": {
    "colab": {
     "base_uri": "https://localhost:8080/"
    },
    "executionInfo": {
     "elapsed": 29,
     "status": "ok",
     "timestamp": 1684089506705,
     "user": {
      "displayName": "Ainara Montoya",
      "userId": "04156984210870783133"
     },
     "user_tz": -120
    },
    "id": "GdYKbsuNINFd",
    "outputId": "d7a07314-c423-444c-c08e-34fb106b58ae"
   },
   "outputs": [
    {
     "data": {
      "text/plain": [
       "3628800"
      ]
     },
     "execution_count": 37,
     "metadata": {},
     "output_type": "execute_result"
    }
   ],
   "source": [
    "math.factorial(10)"
   ]
  },
  {
   "cell_type": "markdown",
   "metadata": {
    "id": "2GFahBcnKS2H"
   },
   "source": [
    "**Número combinatorio ${n\\choose k}$.** El número de $n$ sobre $k$, siendo $n\\ge k$ ambos números enteros positivos, viene dado por \n",
    "\n",
    "$${n\\choose k} = \\frac{n!}{k!(n-k)!}$$\n",
    "\n",
    "Si queremos calcular un número combinatorio, podemos\n",
    " usar el método `.comb()`."
   ]
  },
  {
   "cell_type": "code",
   "execution_count": 38,
   "metadata": {
    "colab": {
     "base_uri": "https://localhost:8080/"
    },
    "executionInfo": {
     "elapsed": 203,
     "status": "ok",
     "timestamp": 1684091556031,
     "user": {
      "displayName": "Ainara Montoya",
      "userId": "04156984210870783133"
     },
     "user_tz": -120
    },
    "id": "F_DTTS31Mfrl",
    "outputId": "78271b22-de7f-4bca-e799-b9b2e35029ef"
   },
   "outputs": [
    {
     "data": {
      "text/plain": [
       "45"
      ]
     },
     "execution_count": 38,
     "metadata": {},
     "output_type": "execute_result"
    }
   ],
   "source": [
    "math.comb(10, 2)"
   ]
  },
  {
   "cell_type": "markdown",
   "metadata": {
    "id": "r0XKKVz2Jvea"
   },
   "source": [
    "#### Valor absoluto\n",
    "\n",
    "Para calcular el valor absoluto de un número real $x$, utilizamos el método `.fabs()`"
   ]
  },
  {
   "cell_type": "code",
   "execution_count": 39,
   "metadata": {
    "colab": {
     "base_uri": "https://localhost:8080/"
    },
    "executionInfo": {
     "elapsed": 26,
     "status": "ok",
     "timestamp": 1684089506706,
     "user": {
      "displayName": "Ainara Montoya",
      "userId": "04156984210870783133"
     },
     "user_tz": -120
    },
    "id": "aD7Nztx3J4fD",
    "outputId": "a07d5483-bb8b-4339-db67-b282608e8fb5"
   },
   "outputs": [
    {
     "data": {
      "text/plain": [
       "2.36"
      ]
     },
     "execution_count": 39,
     "metadata": {},
     "output_type": "execute_result"
    }
   ],
   "source": [
    "x = -2.36\n",
    "math.fabs(x)"
   ]
  },
  {
   "cell_type": "markdown",
   "metadata": {
    "id": "w8detU-Ab08s"
   },
   "source": [
    "#### Funciones trigonométricas\n",
    "\n",
    "Todas las funciones tringonométricas toman como parámetro radianes o bien, devuelven el resultado en radianes."
   ]
  },
  {
   "cell_type": "markdown",
   "metadata": {
    "id": "5NypAafae7QV"
   },
   "source": [
    "Para convertir de grados a radianes, podemos usar el método `.radians()`"
   ]
  },
  {
   "cell_type": "code",
   "execution_count": 40,
   "metadata": {
    "colab": {
     "base_uri": "https://localhost:8080/"
    },
    "executionInfo": {
     "elapsed": 17,
     "status": "ok",
     "timestamp": 1684089506707,
     "user": {
      "displayName": "Ainara Montoya",
      "userId": "04156984210870783133"
     },
     "user_tz": -120
    },
    "id": "T2cQrJVofA_S",
    "outputId": "f598f942-cdee-4721-8d94-52d9f3371c6d"
   },
   "outputs": [
    {
     "data": {
      "text/plain": [
       "1.5707963267948966"
      ]
     },
     "execution_count": 40,
     "metadata": {},
     "output_type": "execute_result"
    }
   ],
   "source": [
    "math.radians(90)"
   ]
  },
  {
   "cell_type": "markdown",
   "metadata": {
    "id": "ZEGJ5Me5fKwL"
   },
   "source": [
    "Para convertir de radianes a grados, podemos usar el método `.degrees()`"
   ]
  },
  {
   "cell_type": "code",
   "execution_count": 41,
   "metadata": {
    "colab": {
     "base_uri": "https://localhost:8080/"
    },
    "executionInfo": {
     "elapsed": 16,
     "status": "ok",
     "timestamp": 1684089506707,
     "user": {
      "displayName": "Ainara Montoya",
      "userId": "04156984210870783133"
     },
     "user_tz": -120
    },
    "id": "WOj6IccIfGb5",
    "outputId": "a4ff0cae-b49b-4234-ddb7-8b394dad1e5b"
   },
   "outputs": [
    {
     "data": {
      "text/plain": [
       "90.0"
      ]
     },
     "execution_count": 41,
     "metadata": {},
     "output_type": "execute_result"
    }
   ],
   "source": [
    "math.degrees(math.pi/2)"
   ]
  },
  {
   "cell_type": "markdown",
   "metadata": {
    "id": "rPeBaf-tcARM"
   },
   "source": [
    "La función seno se calcula con el método `.sin()`"
   ]
  },
  {
   "cell_type": "code",
   "execution_count": 42,
   "metadata": {
    "colab": {
     "base_uri": "https://localhost:8080/"
    },
    "executionInfo": {
     "elapsed": 14,
     "status": "ok",
     "timestamp": 1684089506707,
     "user": {
      "displayName": "Ainara Montoya",
      "userId": "04156984210870783133"
     },
     "user_tz": -120
    },
    "id": "C-98XYjecEp7",
    "outputId": "29b521cf-5862-45aa-f54e-6118c0c2b934"
   },
   "outputs": [
    {
     "data": {
      "text/plain": [
       "1.0"
      ]
     },
     "execution_count": 42,
     "metadata": {},
     "output_type": "execute_result"
    }
   ],
   "source": [
    "math.sin(math.pi/2)"
   ]
  },
  {
   "cell_type": "markdown",
   "metadata": {
    "id": "5zU1BzEUcW1q"
   },
   "source": [
    "La función coseno se calcula con el método `.cos()`"
   ]
  },
  {
   "cell_type": "code",
   "execution_count": 43,
   "metadata": {
    "colab": {
     "base_uri": "https://localhost:8080/"
    },
    "executionInfo": {
     "elapsed": 432,
     "status": "ok",
     "timestamp": 1684089507126,
     "user": {
      "displayName": "Ainara Montoya",
      "userId": "04156984210870783133"
     },
     "user_tz": -120
    },
    "id": "2KViX5OccYxY",
    "outputId": "4534119a-85f3-4e8e-da6b-18a2d6c89ba2"
   },
   "outputs": [
    {
     "data": {
      "text/plain": [
       "6.123233995736766e-17"
      ]
     },
     "execution_count": 43,
     "metadata": {},
     "output_type": "execute_result"
    }
   ],
   "source": [
    "math.cos(math.pi/2)"
   ]
  },
  {
   "cell_type": "markdown",
   "metadata": {
    "id": "45_2Owv7caQW"
   },
   "source": [
    "La función tangente se calcula con el método `.tan()`"
   ]
  },
  {
   "cell_type": "code",
   "execution_count": 44,
   "metadata": {
    "colab": {
     "base_uri": "https://localhost:8080/"
    },
    "executionInfo": {
     "elapsed": 48,
     "status": "ok",
     "timestamp": 1684089507126,
     "user": {
      "displayName": "Ainara Montoya",
      "userId": "04156984210870783133"
     },
     "user_tz": -120
    },
    "id": "w4h_QP7BccPe",
    "outputId": "f9872238-a634-4696-f377-6fed914dede6"
   },
   "outputs": [
    {
     "data": {
      "text/plain": [
       "0.9999999999999999"
      ]
     },
     "execution_count": 44,
     "metadata": {},
     "output_type": "execute_result"
    }
   ],
   "source": [
    "math.tan(math.pi/4)"
   ]
  },
  {
   "cell_type": "markdown",
   "metadata": {
    "id": "o-SXKMg4RVfq"
   },
   "source": [
    "#### Funciones de clasificación\n",
    "\n",
    "Para comprobar si dos números son cercanos, concepto que dependerá de las tolerancias relativa y absoluta indicadas, usamos el método `isclose()`\n",
    "\n",
    "La tolerancia relativa, `rel_tol`, es la diferencia máxima permitida entre los parámetros `a` y `b`, se encuentra en el intervalo [0, 1]."
   ]
  },
  {
   "cell_type": "code",
   "execution_count": 45,
   "metadata": {
    "colab": {
     "base_uri": "https://localhost:8080/"
    },
    "executionInfo": {
     "elapsed": 240,
     "status": "ok",
     "timestamp": 1684092719156,
     "user": {
      "displayName": "Ainara Montoya",
      "userId": "04156984210870783133"
     },
     "user_tz": -120
    },
    "id": "SHs_1tfeRhl-",
    "outputId": "1a21c996-4b6b-4977-e043-38e3956e6820"
   },
   "outputs": [
    {
     "data": {
      "text/plain": [
       "True"
      ]
     },
     "execution_count": 45,
     "metadata": {},
     "output_type": "execute_result"
    }
   ],
   "source": [
    "math.isclose(4, 4.000000001)"
   ]
  },
  {
   "cell_type": "markdown",
   "metadata": {
    "id": "ifgrEcFNSg5I"
   },
   "source": [
    "El método `.isfinite()` nos devolverá `True` siempre que el parámetro `x` introducido no se trate ni del infinito ni de un valor `NaN`."
   ]
  },
  {
   "cell_type": "code",
   "execution_count": 46,
   "metadata": {
    "colab": {
     "base_uri": "https://localhost:8080/"
    },
    "executionInfo": {
     "elapsed": 27,
     "status": "ok",
     "timestamp": 1684089507130,
     "user": {
      "displayName": "Ainara Montoya",
      "userId": "04156984210870783133"
     },
     "user_tz": -120
    },
    "id": "yv8G6kckSrI_",
    "outputId": "f57496d4-d9fd-4881-ad25-26a5cf5c9387"
   },
   "outputs": [
    {
     "data": {
      "text/plain": [
       "True"
      ]
     },
     "execution_count": 46,
     "metadata": {},
     "output_type": "execute_result"
    }
   ],
   "source": [
    "math.isfinite(2.8)"
   ]
  },
  {
   "cell_type": "code",
   "execution_count": 47,
   "metadata": {
    "colab": {
     "base_uri": "https://localhost:8080/"
    },
    "executionInfo": {
     "elapsed": 25,
     "status": "ok",
     "timestamp": 1684089507130,
     "user": {
      "displayName": "Ainara Montoya",
      "userId": "04156984210870783133"
     },
     "user_tz": -120
    },
    "id": "W76-wPJ4StWz",
    "outputId": "3aa3317d-1e4a-4681-b6de-ca2ae7ed3366"
   },
   "outputs": [
    {
     "data": {
      "text/plain": [
       "False"
      ]
     },
     "execution_count": 47,
     "metadata": {},
     "output_type": "execute_result"
    }
   ],
   "source": [
    "math.isfinite(math.nan)"
   ]
  },
  {
   "cell_type": "code",
   "execution_count": 48,
   "metadata": {
    "colab": {
     "base_uri": "https://localhost:8080/"
    },
    "executionInfo": {
     "elapsed": 24,
     "status": "ok",
     "timestamp": 1684089507130,
     "user": {
      "displayName": "Ainara Montoya",
      "userId": "04156984210870783133"
     },
     "user_tz": -120
    },
    "id": "14jxf9xJZ4Bo",
    "outputId": "21eae98a-2c2e-4ff5-f467-81ecc72ae096"
   },
   "outputs": [
    {
     "data": {
      "text/plain": [
       "False"
      ]
     },
     "execution_count": 48,
     "metadata": {},
     "output_type": "execute_result"
    }
   ],
   "source": [
    "math.isfinite(math.inf)"
   ]
  },
  {
   "cell_type": "markdown",
   "metadata": {
    "id": "bbwKj3VoS2xP"
   },
   "source": [
    "Por el contrario, el método `.isinf()` nos devolverá `True` si el parámetro introducido `x` se trata de un valor infinito."
   ]
  },
  {
   "cell_type": "code",
   "execution_count": 49,
   "metadata": {
    "colab": {
     "base_uri": "https://localhost:8080/"
    },
    "executionInfo": {
     "elapsed": 22,
     "status": "ok",
     "timestamp": 1684089507130,
     "user": {
      "displayName": "Ainara Montoya",
      "userId": "04156984210870783133"
     },
     "user_tz": -120
    },
    "id": "qoFs88ENTBaf",
    "outputId": "cc6df093-0395-4873-887a-ad88b591f6f7"
   },
   "outputs": [
    {
     "data": {
      "text/plain": [
       "False"
      ]
     },
     "execution_count": 49,
     "metadata": {},
     "output_type": "execute_result"
    }
   ],
   "source": [
    "math.isinf(2.8)"
   ]
  },
  {
   "cell_type": "code",
   "execution_count": 50,
   "metadata": {
    "colab": {
     "base_uri": "https://localhost:8080/"
    },
    "executionInfo": {
     "elapsed": 22,
     "status": "ok",
     "timestamp": 1684089507131,
     "user": {
      "displayName": "Ainara Montoya",
      "userId": "04156984210870783133"
     },
     "user_tz": -120
    },
    "id": "TtQZqmD7TDc5",
    "outputId": "0b8bbf66-60be-4480-b469-602f6d181196"
   },
   "outputs": [
    {
     "data": {
      "text/plain": [
       "True"
      ]
     },
     "execution_count": 50,
     "metadata": {},
     "output_type": "execute_result"
    }
   ],
   "source": [
    "math.isinf(math.inf)"
   ]
  },
  {
   "cell_type": "code",
   "execution_count": 51,
   "metadata": {
    "colab": {
     "base_uri": "https://localhost:8080/"
    },
    "executionInfo": {
     "elapsed": 20,
     "status": "ok",
     "timestamp": 1684089507131,
     "user": {
      "displayName": "Ainara Montoya",
      "userId": "04156984210870783133"
     },
     "user_tz": -120
    },
    "id": "tlG9KWF1Zxv9",
    "outputId": "3df2ed8c-f869-4af8-fff0-25e17b593269"
   },
   "outputs": [
    {
     "data": {
      "text/plain": [
       "False"
      ]
     },
     "execution_count": 51,
     "metadata": {},
     "output_type": "execute_result"
    }
   ],
   "source": [
    "math.isinf(math.nan)"
   ]
  },
  {
   "cell_type": "markdown",
   "metadata": {
    "id": "1JoNYq3Yalwc"
   },
   "source": [
    "También tenemos el método `is.nan()` que nos devuelve `True` si el parámetro `x` se trata de un valor `NaN`"
   ]
  },
  {
   "cell_type": "code",
   "execution_count": 52,
   "metadata": {
    "colab": {
     "base_uri": "https://localhost:8080/"
    },
    "executionInfo": {
     "elapsed": 19,
     "status": "ok",
     "timestamp": 1684089507131,
     "user": {
      "displayName": "Ainara Montoya",
      "userId": "04156984210870783133"
     },
     "user_tz": -120
    },
    "id": "lJMrEAtEayy7",
    "outputId": "c11b4500-23e8-4ba6-ac94-d0141ef893a8"
   },
   "outputs": [
    {
     "data": {
      "text/plain": [
       "True"
      ]
     },
     "execution_count": 52,
     "metadata": {},
     "output_type": "execute_result"
    }
   ],
   "source": [
    "math.isnan(math.nan)"
   ]
  }
 ],
 "metadata": {
  "colab": {
   "provenance": [],
   "toc_visible": true
  },
  "kernelspec": {
   "display_name": "Python 3 (ipykernel)",
   "language": "python",
   "name": "python3"
  },
  "language_info": {
   "codemirror_mode": {
    "name": "ipython",
    "version": 3
   },
   "file_extension": ".py",
   "mimetype": "text/x-python",
   "name": "python",
   "nbconvert_exporter": "python",
   "pygments_lexer": "ipython3",
   "version": "3.11.4"
  }
 },
 "nbformat": 4,
 "nbformat_minor": 1
}

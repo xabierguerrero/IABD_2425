{
 "cells": [
  {
   "cell_type": "markdown",
   "metadata": {
    "id": "tFwm2WhMiR7F"
   },
   "source": [
    "# Archivos"
   ]
  },
  {
   "cell_type": "markdown",
   "metadata": {
    "id": "YmXrRVwXkltU"
   },
   "source": [
    "## Leyendo el primer `txt`\n",
    "\n",
    "Vamos a crear un archivo `first_read.txt` con el siguiente texto:\n",
    "\n",
    "\"¡Qué ilusión! Vamos a cargar por primera vez un archivo `txt` con `Python`\"\n",
    "\n",
    "A continuación, vamos a usar la función `open()` y los métodos `.read()` y `.close()`, para abrir, leer y cerrar, respectivamente, el archivo `txt`.\n",
    "\n",
    "**Observación.** Para poder cargar algún archivo que tengamos guardado en Google Drive, habrá que conectar este notebook con Drive."
   ]
  },
  {
   "cell_type": "code",
   "execution_count": 1,
   "metadata": {
    "colab": {
     "base_uri": "https://localhost:8080/"
    },
    "executionInfo": {
     "elapsed": 24054,
     "status": "ok",
     "timestamp": 1684161435288,
     "user": {
      "displayName": "Ainara Montoya",
      "userId": "04156984210870783133"
     },
     "user_tz": -120
    },
    "id": "McGpP0G7bz2R",
    "outputId": "b79135ae-3b42-409f-9ea0-44738f90806f"
   },
   "outputs": [
    {
     "ename": "ModuleNotFoundError",
     "evalue": "No module named 'google'",
     "output_type": "error",
     "traceback": [
      "\u001b[0;31m---------------------------------------------------------------------------\u001b[0m",
      "\u001b[0;31mModuleNotFoundError\u001b[0m                       Traceback (most recent call last)",
      "Cell \u001b[0;32mIn[1], line 1\u001b[0m\n\u001b[0;32m----> 1\u001b[0m \u001b[38;5;28;01mfrom\u001b[39;00m \u001b[38;5;21;01mgoogle\u001b[39;00m\u001b[38;5;21;01m.\u001b[39;00m\u001b[38;5;21;01mcolab\u001b[39;00m \u001b[38;5;28;01mimport\u001b[39;00m drive\n\u001b[1;32m      2\u001b[0m drive\u001b[38;5;241m.\u001b[39mmount(\u001b[38;5;124m'\u001b[39m\u001b[38;5;124m/content/drive\u001b[39m\u001b[38;5;124m'\u001b[39m)\n",
      "\u001b[0;31mModuleNotFoundError\u001b[0m: No module named 'google'"
     ]
    }
   ],
   "source": [
    "from google.colab import drive\n",
    "drive.mount('/content/drive')"
   ]
  },
  {
   "cell_type": "code",
   "execution_count": 2,
   "metadata": {
    "colab": {
     "base_uri": "https://localhost:8080/"
    },
    "executionInfo": {
     "elapsed": 1776,
     "status": "ok",
     "timestamp": 1684161437062,
     "user": {
      "displayName": "Ainara Montoya",
      "userId": "04156984210870783133"
     },
     "user_tz": -120
    },
    "id": "-aIoVSfoiMKP",
    "outputId": "d4e8e7c2-e588-495d-f554-bcdbba0f0b2b"
   },
   "outputs": [
    {
     "name": "stdout",
     "output_type": "stream",
     "text": [
      "\"¡Qué ilusión! Vamos a cargar por primera vez un archivo txt con Python\"\n"
     ]
    }
   ],
   "source": [
    "#f = open(\"/content/drive/MyDrive/Python/Apuntes/Datos/first_read.txt\")\n",
    "f = open(\"Datos/first_read.txt\")\n",
    "\n",
    "print(f.read())\n",
    "f.close()"
   ]
  },
  {
   "cell_type": "markdown",
   "metadata": {
    "id": "1srvprWkpm6_"
   },
   "source": [
    "* La función `open()` abre el archivo indicado y nos permite acceder a él. Como parámetro necesita el path del archivo que queremos abrir.\n",
    "* El método `.read()` lo usamos para leer el contenido del output que nos proporciona la función `open()` al cual hemos llamado `f`\n",
    "* Cuando hayamos acabado de trabajar con el archivo `f`, hay que cerrarlo. Este proceso se lleva a cabo con el método `.close()`\n"
   ]
  },
  {
   "cell_type": "markdown",
   "metadata": {
    "id": "_4HZO2klqoQP"
   },
   "source": [
    "Otra forma de abrir el archivo y guardarlo en la variable `f` sería:"
   ]
  },
  {
   "cell_type": "code",
   "execution_count": 3,
   "metadata": {
    "colab": {
     "base_uri": "https://localhost:8080/"
    },
    "executionInfo": {
     "elapsed": 6,
     "status": "ok",
     "timestamp": 1684161437062,
     "user": {
      "displayName": "Ainara Montoya",
      "userId": "04156984210870783133"
     },
     "user_tz": -120
    },
    "id": "e7gNakACqv_Z",
    "outputId": "dd5c5788-e652-435e-d882-e788b38d741c"
   },
   "outputs": [
    {
     "name": "stdout",
     "output_type": "stream",
     "text": [
      "\"¡Qué ilusión! Vamos a cargar por primera vez un archivo txt con Python\"\n"
     ]
    }
   ],
   "source": [
    "#with open(\"/content/drive/MyDrive/Python/Apuntes/Datos/first_read.txt\") as f:\n",
    "with open(\"Datos/first_read.txt\") as f:\n",
    "  print(f.read())"
   ]
  },
  {
   "cell_type": "markdown",
   "metadata": {
    "id": "joCOZWxaq8HP"
   },
   "source": [
    "**Observación.** Con esta nueva sintaxis ya no es necesario hacer uso del método `.close()` para cerrar el archivo `f`. El comando `with` garantiza que el objeto `file` precedente, `f`, se cerrará automáticamente después de salir del bloque de código."
   ]
  },
  {
   "cell_type": "markdown",
   "metadata": {
    "id": "Xnys_msjrrrn"
   },
   "source": [
    "### Leyendo un archivo línea a línea\n",
    "\n",
    "El método `.readline()` hace que el archivo `f` sea leido línea a línea. \n",
    "\n",
    "* Si solamente llamamos una vez al método `.readline()` leeremos únicamente la primera línea del fichero.\n",
    "* Si llamamos dos veces al método, leeremos las dos primeras líneas del fichero.\n",
    "* Y así sucesivamente.\n",
    "\n",
    "En nuestro caso solo tenemos una línea, de modo que nos sirve una llamada al método `.readline()` para leer todo el fichero. Sin embargo, podemos probar con un archivo con más de una línea como el fichero `first_read_multiline.txt` que tenemos.\n"
   ]
  },
  {
   "cell_type": "code",
   "execution_count": 4,
   "metadata": {
    "colab": {
     "base_uri": "https://localhost:8080/"
    },
    "executionInfo": {
     "elapsed": 355,
     "status": "ok",
     "timestamp": 1684161437415,
     "user": {
      "displayName": "Ainara Montoya",
      "userId": "04156984210870783133"
     },
     "user_tz": -120
    },
    "id": "R6DQWAIMrJfb",
    "outputId": "9ab26be3-97db-49de-b86d-f27665964e50"
   },
   "outputs": [
    {
     "name": "stdout",
     "output_type": "stream",
     "text": [
      "\"¡Qué ilusión!\n",
      "\n",
      "Vamos a cargar por primera vez un archivo txt con Python\n",
      "\n",
      "¡Y encima contiene múltiples líneas! =D\"\n"
     ]
    }
   ],
   "source": [
    "#with open(\"/content/drive/MyDrive/Python/Apuntes/Datos/first_read_multiline.txt\") as f:\n",
    "with open(\"Datos/first_read_multiline.txt\") as f:\n",
    "  print(f.readline())\n",
    "  print(f.readline())\n",
    "  print(f.readline())"
   ]
  },
  {
   "cell_type": "markdown",
   "metadata": {
    "id": "Jsc7y-gosGs1"
   },
   "source": [
    "## Escribiendo un archivo `txt`\n",
    "\n",
    "Podemos crear y escribir un archivo `txt` desde Python. \n",
    "\n",
    "Para ello, volveremos a usar la función `open()`, pero esta vez con un parámetro adicional: `mode = \"w\"`. Este nuevo parámetro nos permitirá acceder al archivo en modo escritura, mientras que si no indicásemos nada, por defecto accederíamos en modo lectura.\n",
    "\n",
    "Para escribir en el fichero, tendremos que usar el método `.write()` e indicarle el string que queremos plasmar en nuestro `txt`.\n",
    "\n",
    "Además, para crear un nuevo archivo `txt`, a la hora de introducir el path (que será el mismo que el del archivo `first_read.txt`), como nombre del archivo indicaremos `first_write.txt`."
   ]
  },
  {
   "cell_type": "code",
   "execution_count": 6,
   "metadata": {
    "executionInfo": {
     "elapsed": 303,
     "status": "ok",
     "timestamp": 1684162207262,
     "user": {
      "displayName": "Ainara Montoya",
      "userId": "04156984210870783133"
     },
     "user_tz": -120
    },
    "id": "cJLnAOpur3DJ"
   },
   "outputs": [],
   "source": [
    "#f = open(\"/content/drive/MyDrive/Python/Apuntes/Datos/first_write.txt\", mode = \"w\")\n",
    "f = open(\"Datos/first_write.txt\", mode = \"w\")\n",
    "f.write(\"Este es el primer archivo txt que escribimos\\ny lo estamos haciendo desde el notebook de Google Colab!\")\n",
    "f.close()"
   ]
  },
  {
   "cell_type": "markdown",
   "metadata": {
    "id": "a6vb53GMziFo"
   },
   "source": [
    "**¡Cuidado!** El archivo que creemos no debe existir. En caso de existir un archivo con el mismo nombre, lo estaríamos sobrescribiendo."
   ]
  },
  {
   "cell_type": "markdown",
   "metadata": {
    "id": "yOpnI4bXtrkX"
   },
   "source": [
    "Comprobamos que se ha guardado el nuevo archivo `txt` llamado `first_write`. \n",
    "\n",
    "Una vez comprobada la existencia de este archivo `txt`, podemos leerlo tal cuál hemos hecho en el apartado anterior"
   ]
  },
  {
   "cell_type": "code",
   "execution_count": 7,
   "metadata": {
    "colab": {
     "base_uri": "https://localhost:8080/"
    },
    "executionInfo": {
     "elapsed": 1190,
     "status": "ok",
     "timestamp": 1684162212903,
     "user": {
      "displayName": "Ainara Montoya",
      "userId": "04156984210870783133"
     },
     "user_tz": -120
    },
    "id": "236zWdeovFin",
    "outputId": "28938d38-ba81-4574-a46b-acb7e948f565"
   },
   "outputs": [
    {
     "name": "stdout",
     "output_type": "stream",
     "text": [
      "Este es el primer archivo txt que escribimos\n",
      "y lo estamos haciendo desde el notebook de Google Colab!\n"
     ]
    }
   ],
   "source": [
    "# Con el método .read()\n",
    "#with open(\"/content/drive/MyDrive/Python/Apuntes/Datos/first_write.txt\") as f:\n",
    "with open(\"Datos/first_write.txt\") as f:\n",
    "  print(f.read())"
   ]
  },
  {
   "cell_type": "code",
   "execution_count": 8,
   "metadata": {
    "colab": {
     "base_uri": "https://localhost:8080/"
    },
    "executionInfo": {
     "elapsed": 507,
     "status": "ok",
     "timestamp": 1684162216535,
     "user": {
      "displayName": "Ainara Montoya",
      "userId": "04156984210870783133"
     },
     "user_tz": -120
    },
    "id": "14t8yagPtqmG",
    "outputId": "6ff48282-f9ca-427e-b0aa-5ec5ba3c3ce2"
   },
   "outputs": [
    {
     "name": "stdout",
     "output_type": "stream",
     "text": [
      "Este es el primer archivo txt que escribimos\n",
      "\n",
      "y lo estamos haciendo desde el notebook de Google Colab!\n"
     ]
    }
   ],
   "source": [
    "# Con el método .readline()\n",
    "#with open(\"/content/drive/MyDrive/Python/Apuntes/Datos/first_write.txt\") as f:\n",
    "with open(\"Datos/first_write.txt\") as f:\n",
    "  print(f.readline())\n",
    "  print(f.readline())"
   ]
  },
  {
   "cell_type": "markdown",
   "metadata": {
    "id": "xEOA6W7QwKKo"
   },
   "source": [
    "Al haber más de una línea, también podemos leer todas ellas con un bucle:"
   ]
  },
  {
   "cell_type": "code",
   "execution_count": 9,
   "metadata": {
    "colab": {
     "base_uri": "https://localhost:8080/"
    },
    "executionInfo": {
     "elapsed": 2,
     "status": "ok",
     "timestamp": 1684162219808,
     "user": {
      "displayName": "Ainara Montoya",
      "userId": "04156984210870783133"
     },
     "user_tz": -120
    },
    "id": "CHPkqkmqwNej",
    "outputId": "36d8fab0-72c3-428b-9ed6-868f05686d14"
   },
   "outputs": [
    {
     "name": "stdout",
     "output_type": "stream",
     "text": [
      "Este es el primer archivo txt que escribimos\n",
      "\n",
      "y lo estamos haciendo desde el notebook de Google Colab!\n"
     ]
    }
   ],
   "source": [
    "#with open(\"/content/drive/MyDrive/Python/Apuntes/Datos/first_write.txt\") as f:\n",
    "with open(\"Datos/first_write.txt\") as f:\n",
    "  for line in f:\n",
    "    print(line)"
   ]
  },
  {
   "cell_type": "markdown",
   "metadata": {
    "id": "Bon87AVIzJiT"
   },
   "source": [
    "### Creando un `txt` vacío\n",
    "\n",
    "Si queremos crear un `txt` vacío, indicamos `mode = \"x\"`.\n",
    "\n",
    "En este caso vamos a crear un `txt` vacío llamado `first_empty`"
   ]
  },
  {
   "cell_type": "code",
   "execution_count": 10,
   "metadata": {
    "executionInfo": {
     "elapsed": 300,
     "status": "ok",
     "timestamp": 1684164772825,
     "user": {
      "displayName": "Ainara Montoya",
      "userId": "04156984210870783133"
     },
     "user_tz": -120
    },
    "id": "6ABkigENzRZE"
   },
   "outputs": [],
   "source": [
    "#f = open(\"/content/drive/MyDrive/Python/Apuntes/Datos/first_empty.txt\", mode = \"x\")\n",
    "f = open(\"Datos/first_empty.txt\", mode = \"x\")\n",
    "f.close()"
   ]
  },
  {
   "cell_type": "markdown",
   "metadata": {
    "id": "m0_Eg1Pfz56c"
   },
   "source": [
    "**¡Cuidado!** El archivo que creemos no debe existir. En caso de existir un archivo con el mismo nombre, nos saltaría error indicando que el archivo en cuestión ya existe."
   ]
  },
  {
   "cell_type": "markdown",
   "metadata": {
    "id": "ctH8rjZ1we5B"
   },
   "source": [
    "## Modificando un archivo `txt` existente\n",
    "\n",
    "Al igual que podemos crear y escribir un archivo `txt` desde 0, podemos modificar un archivo `txt` ya existente.\n",
    "\n",
    "En este caso, el parámetro `mode` debe ser igualado a `\"a\"`.\n",
    "\n",
    "Vamos entonces a modificar el archivo `first_write` y vamos a añadirle al final la siguiente frase:\n",
    "\n",
    "\"\\nY esta última línea se ha añadido posteriormente.\"\n",
    "\n",
    "**Observación.** Añadimos el comando `\\n` al principio de la frase para que ésta se considere una nueva frase tras un salto de línea."
   ]
  },
  {
   "cell_type": "code",
   "execution_count": 11,
   "metadata": {
    "executionInfo": {
     "elapsed": 280,
     "status": "ok",
     "timestamp": 1684162228427,
     "user": {
      "displayName": "Ainara Montoya",
      "userId": "04156984210870783133"
     },
     "user_tz": -120
    },
    "id": "tHgcugydwpCZ"
   },
   "outputs": [],
   "source": [
    "#f = open(\"/content/drive/MyDrive/Python/Apuntes/Datos/first_write.txt\", mode = \"a\")\n",
    "f = open(\"Datos/first_write.txt\", mode = \"a\")\n",
    "f.write(\"\\nY esta última línea se ha añadido posteriormente.\")\n",
    "f.close()"
   ]
  },
  {
   "cell_type": "markdown",
   "metadata": {
    "id": "OYpglQ9fxpaJ"
   },
   "source": [
    "**¡Cuidado!** Cada vez que ejecutéis la celda anterior se añadirá el string indicado. Por tanto, no la ejecutéis más de una vez u os encontraréis con la frase en cuestión repetida múltiples veces!"
   ]
  },
  {
   "cell_type": "code",
   "execution_count": 12,
   "metadata": {
    "colab": {
     "base_uri": "https://localhost:8080/"
    },
    "executionInfo": {
     "elapsed": 2,
     "status": "ok",
     "timestamp": 1684162230117,
     "user": {
      "displayName": "Ainara Montoya",
      "userId": "04156984210870783133"
     },
     "user_tz": -120
    },
    "id": "_4rWBWyGxN8h",
    "outputId": "77152661-018b-4d22-8cf8-eec49fd438a9"
   },
   "outputs": [
    {
     "name": "stdout",
     "output_type": "stream",
     "text": [
      "Este es el primer archivo txt que escribimos\n",
      "\n",
      "y lo estamos haciendo desde el notebook de Google Colab!\n",
      "\n",
      "Y esta última línea se ha añadido posteriormente.\n"
     ]
    }
   ],
   "source": [
    "#with open(\"/content/drive/MyDrive/Python/Apuntes/Datos/first_write.txt\") as f:\n",
    "with open(\"Datos/first_write.txt\") as f:\n",
    "  for line in f:\n",
    "    print(line)"
   ]
  },
  {
   "cell_type": "markdown",
   "metadata": {
    "id": "pu4-EH3Kx-3F"
   },
   "source": [
    "**¡Cuidado!** Si en vez de indicar `mode = \"a\"` indicáis `mode = \"w\"` eliminaréis el contenido del fichero y lo sobrescribiréis por completo por el string que indiquéis al método `.write()`"
   ]
  },
  {
   "cell_type": "code",
   "execution_count": 13,
   "metadata": {
    "executionInfo": {
     "elapsed": 285,
     "status": "ok",
     "timestamp": 1684164680236,
     "user": {
      "displayName": "Ainara Montoya",
      "userId": "04156984210870783133"
     },
     "user_tz": -120
    },
    "id": "5d1LXm_lx95n"
   },
   "outputs": [],
   "source": [
    "#f = open(\"/content/drive/MyDrive/Python/Apuntes/Datos/first_write.txt\", mode = \"w\")\n",
    "f = open(\"Datos/first_write.txt\", mode = \"w\")\n",
    "f.write(\"Ups! Todo lo anterior ha sido borrado!!!\\n\")\n",
    "f.write(\"Hay que ir con cuidado cuando queremos editar un archivo txt...\\n\")\n",
    "f.write(\"Hay que prestar mucha atención al método con el que accedemos al fichero!\")\n",
    "f.close()"
   ]
  },
  {
   "cell_type": "code",
   "execution_count": 14,
   "metadata": {
    "colab": {
     "base_uri": "https://localhost:8080/"
    },
    "executionInfo": {
     "elapsed": 247,
     "status": "ok",
     "timestamp": 1684164684369,
     "user": {
      "displayName": "Ainara Montoya",
      "userId": "04156984210870783133"
     },
     "user_tz": -120
    },
    "id": "jYky7eYQxQfY",
    "outputId": "b52bcc95-ff45-4c09-a205-396bb346679d"
   },
   "outputs": [
    {
     "name": "stdout",
     "output_type": "stream",
     "text": [
      "Ups! Todo lo anterior ha sido borrado!!!\n",
      "\n",
      "Hay que ir con cuidado cuando queremos editar un archivo txt...\n",
      "\n",
      "Hay que prestar mucha atención al método con el que accedemos al fichero!\n"
     ]
    }
   ],
   "source": [
    "#with open(\"/content/drive/MyDrive/Python/Apuntes/Datos/first_write.txt\") as f:\n",
    "with open(\"Datos/first_write.txt\") as f:\n",
    "  for line in f:\n",
    "    print(line)"
   ]
  },
  {
   "cell_type": "markdown",
   "metadata": {
    "id": "jmkn_hic01rq"
   },
   "source": [
    "## Eliminando archivos\n",
    "\n",
    "En este caso vamos a tener que importar el módulo `os`"
   ]
  },
  {
   "cell_type": "code",
   "execution_count": 15,
   "metadata": {
    "executionInfo": {
     "elapsed": 245,
     "status": "ok",
     "timestamp": 1684164691778,
     "user": {
      "displayName": "Ainara Montoya",
      "userId": "04156984210870783133"
     },
     "user_tz": -120
    },
    "id": "V2UwpkF4yXK1"
   },
   "outputs": [],
   "source": [
    "import os"
   ]
  },
  {
   "cell_type": "markdown",
   "metadata": {
    "id": "ousR2pWV08Yj"
   },
   "source": [
    "Para eliminar un archivo usaremos el método `.remove()` al que por parámetro indicaremos el path de dicho archivo."
   ]
  },
  {
   "cell_type": "code",
   "execution_count": 16,
   "metadata": {
    "executionInfo": {
     "elapsed": 288,
     "status": "ok",
     "timestamp": 1684164777204,
     "user": {
      "displayName": "Ainara Montoya",
      "userId": "04156984210870783133"
     },
     "user_tz": -120
    },
    "id": "lmWHNqcN1E_V"
   },
   "outputs": [],
   "source": [
    "#os.remove(\"/content/drive/MyDrive/Python/Apuntes/Datos/first_empty.txt\")\n",
    "os.remove(\"Datos/first_empty.txt\")"
   ]
  },
  {
   "cell_type": "markdown",
   "metadata": {
    "id": "HAkSYkwz1SLi"
   },
   "source": [
    "Podemos comprobar que efectivamente ha dejado de existir el archivo `first_empty`.\n",
    "\n",
    "Para evitar errores, antes de proceder a la eliminación de un archivo, podemos comprobar su existencia con el método `.path.exists()`, al que por parámetro le indicamos el path del archivo en cuestión.\n",
    "\n",
    "Para realizar este ejemplo, vamos a volver a crear el `txt` `first_empty`. Luego comprobaremos su existencia y, de existir, lo eliminaremos. De no existir, lo indicaremos por pantalla."
   ]
  },
  {
   "cell_type": "code",
   "execution_count": 17,
   "metadata": {
    "executionInfo": {
     "elapsed": 245,
     "status": "ok",
     "timestamp": 1684164804466,
     "user": {
      "displayName": "Ainara Montoya",
      "userId": "04156984210870783133"
     },
     "user_tz": -120
    },
    "id": "tDoRyjP_1MKH"
   },
   "outputs": [],
   "source": [
    "#path = \"/content/drive/MyDrive/Python/Apuntes/Datos/first_empty.txt\"\n",
    "path = \"Datos/first_empty.txt\"\n",
    "f = open(path, mode = \"x\")\n",
    "f.close()"
   ]
  },
  {
   "cell_type": "code",
   "execution_count": 18,
   "metadata": {
    "executionInfo": {
     "elapsed": 235,
     "status": "ok",
     "timestamp": 1684164808749,
     "user": {
      "displayName": "Ainara Montoya",
      "userId": "04156984210870783133"
     },
     "user_tz": -120
    },
    "id": "BVxKYJzH1w54"
   },
   "outputs": [],
   "source": [
    "if os.path.exists(path):\n",
    "  os.remove(path)\n",
    "else:\n",
    "  print(\"El archivo que se quiere eliminar no existe\")"
   ]
  },
  {
   "cell_type": "markdown",
   "metadata": {
    "id": "ZPT41iyT1_2s"
   },
   "source": [
    "Si volvemos a ejecutar la celda anterior, puesto que el archivo `first_empty` se habrá eliminado, obtendremos el mensaje `\"El archivo que se quiere eliminar no existe\"`"
   ]
  },
  {
   "cell_type": "code",
   "execution_count": 19,
   "metadata": {
    "colab": {
     "base_uri": "https://localhost:8080/"
    },
    "executionInfo": {
     "elapsed": 13,
     "status": "ok",
     "timestamp": 1684161438522,
     "user": {
      "displayName": "Ainara Montoya",
      "userId": "04156984210870783133"
     },
     "user_tz": -120
    },
    "id": "YRWn4tCV1-Z6",
    "outputId": "0bd6d302-a0b6-4212-d0e3-253663c7da09"
   },
   "outputs": [
    {
     "name": "stdout",
     "output_type": "stream",
     "text": [
      "El archivo que se quiere eliminar no existe\n"
     ]
    }
   ],
   "source": [
    "if os.path.exists(path):\n",
    "  os.remove(path)\n",
    "else:\n",
    "  print(\"El archivo que se quiere eliminar no existe\")"
   ]
  },
  {
   "cell_type": "markdown",
   "metadata": {
    "id": "J7oPjjyA2QBa"
   },
   "source": [
    "## Crear y borrar carpetas\n",
    "\n",
    "Para crear una carpeta, tenemos el método `.makedirs()` al que hay que pasar como argumento el path de la carpeta que se quiere crear.\n",
    "\n",
    "Si se deseara eliminar toda una carpeta, esto sería posible con el método `.rmdir()`.\n",
    "\n",
    "Para ver su funcionamiento, vamos a crear la carpeta `carpeta_temporal` y luego la vamos a borrar. \n",
    "\n",
    "**Observación.** Antes de crear o borrar carpeta sería conveniente probar primero la carpeta existe o no"
   ]
  },
  {
   "cell_type": "code",
   "execution_count": 20,
   "metadata": {
    "executionInfo": {
     "elapsed": 932,
     "status": "ok",
     "timestamp": 1684165269352,
     "user": {
      "displayName": "Ainara Montoya",
      "userId": "04156984210870783133"
     },
     "user_tz": -120
    },
    "id": "FaCEggUn2P3S"
   },
   "outputs": [],
   "source": [
    "path = \"Datos/carpeta_temporal\"\n",
    "os.makedirs(path)"
   ]
  },
  {
   "cell_type": "markdown",
   "metadata": {
    "id": "42iCeoH8Eula"
   },
   "source": [
    "Podemos comprobar que efectivamente, la carpeta `carpeta_temporal` ha sido creada."
   ]
  },
  {
   "cell_type": "code",
   "execution_count": 23,
   "metadata": {
    "executionInfo": {
     "elapsed": 233,
     "status": "ok",
     "timestamp": 1684165265227,
     "user": {
      "displayName": "Ainara Montoya",
      "userId": "04156984210870783133"
     },
     "user_tz": -120
    },
    "id": "lg7m7brWEfhp"
   },
   "outputs": [],
   "source": [
    "os.rmdir(path)"
   ]
  },
  {
   "cell_type": "markdown",
   "metadata": {
    "id": "GzLM_vnm2_eQ"
   },
   "source": [
    "Podemos comprobar que efectivamente, la carpeta  `carpeta_temporal` ha sido eliminada."
   ]
  }
 ],
 "metadata": {
  "colab": {
   "provenance": [],
   "toc_visible": true
  },
  "kernelspec": {
   "display_name": "Python 3 (ipykernel)",
   "language": "python",
   "name": "python3"
  },
  "language_info": {
   "codemirror_mode": {
    "name": "ipython",
    "version": 3
   },
   "file_extension": ".py",
   "mimetype": "text/x-python",
   "name": "python",
   "nbconvert_exporter": "python",
   "pygments_lexer": "ipython3",
   "version": "3.10.9"
  }
 },
 "nbformat": 4,
 "nbformat_minor": 1
}

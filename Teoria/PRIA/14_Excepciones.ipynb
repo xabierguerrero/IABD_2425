{
 "cells": [
  {
   "cell_type": "markdown",
   "metadata": {
    "id": "ukeX6tp_JoXo"
   },
   "source": [
    "# Errores y excepciones"
   ]
  },
  {
   "cell_type": "markdown",
   "metadata": {
    "id": "sKlg1lPdJsCO"
   },
   "source": [
    "Vamos a ver los diferentes tipos de errores y excepciones que existen en `Python`. Tanto los errores como las excepciones saltan cuando el intérprete de `Python` encuentra algún error.\n",
    "\n",
    "Es completamente normal cometer ciertos errores mientras se escribe un programa. Estos fallos conducen a errores cuando tratamos de ejecutar dicho programa. La ejecución termina al instante de encontrar alguno de esos fallos, que pueden ser de dos tipos:\n",
    "\n",
    "1. Error de sintaxis\n",
    "2. Excepción (error de lógica)"
   ]
  },
  {
   "cell_type": "markdown",
   "metadata": {
    "id": "a90lR8YaKeYS"
   },
   "source": [
    "## Errores de sintaxis\n",
    "\n",
    "**Error de sintaxis.** Ocurre cuando no se sigue la sintaxis correcta del lenguaje.\n",
    "\n",
    "Un error de sintaxis ocurre cuando nos dejamos un paréntesis sin cerrar, los dos puntos tras la condición de un operador de decisión o iteración..."
   ]
  },
  {
   "cell_type": "code",
   "execution_count": 1,
   "metadata": {
    "colab": {
     "base_uri": "https://localhost:8080/",
     "height": 133
    },
    "executionInfo": {
     "elapsed": 6,
     "status": "error",
     "timestamp": 1684179509029,
     "user": {
      "displayName": "Ainara Montoya",
      "userId": "04156984210870783133"
     },
     "user_tz": -120
    },
    "id": "b1P7O_6cI31b",
    "outputId": "61324e3c-28f8-4a6b-cdfb-6b78017ad42f"
   },
   "outputs": [
    {
     "ename": "SyntaxError",
     "evalue": "invalid syntax (1708841795.py, line 2)",
     "output_type": "error",
     "traceback": [
      "\u001b[0;36m  Cell \u001b[0;32mIn[1], line 2\u001b[0;36m\u001b[0m\n\u001b[0;31m    if (a > 3 :\u001b[0m\n\u001b[0m              ^\u001b[0m\n\u001b[0;31mSyntaxError\u001b[0m\u001b[0;31m:\u001b[0m invalid syntax\n"
     ]
    }
   ],
   "source": [
    "a = 2\n",
    "if (a > 3 : \n",
    "    print(a)"
   ]
  },
  {
   "cell_type": "markdown",
   "metadata": {
    "id": "1N5GRmOXLMpw"
   },
   "source": [
    "Como podemos observar, ha saltado un error de sintaxis, `SintaxError`, debido a que nos hemos olvidado del paréntesis de cierre. Además, el propio error nos indica a qué es debido y dónde tenemos que modificar el código para corregir el fallo."
   ]
  },
  {
   "cell_type": "markdown",
   "metadata": {
    "id": "AS6Vd1RTLiKp"
   },
   "source": [
    "## Excepciones\n",
    "\n",
    "**Excepción.** Una vez superado el test de sintaxis, si la ejecución del programa es interrumpida, entonces estamos ante una excepción o error de lógica.\n",
    "\n",
    "Una excepción puede deberse a intentar llamar a una variable que no ha sido declarada (`NameError`), intentar abrir un archivo que no se encuentra en la dirección indicada (`FileNotFoundError`), intentar dividir un número entre cero (`ZeroDivisionError`)... Siempre que se da alguna de estas situaciones, `Python` crea un objeto excepción. Si no es manejado correctamente, imprime un rastreo del error junto a algunos detalles sobre qué ha causado dicho error."
   ]
  },
  {
   "cell_type": "code",
   "execution_count": null,
   "metadata": {
    "colab": {
     "base_uri": "https://localhost:8080/",
     "height": 204
    },
    "executionInfo": {
     "elapsed": 204,
     "status": "error",
     "timestamp": 1684179555065,
     "user": {
      "displayName": "Ainara Montoya",
      "userId": "04156984210870783133"
     },
     "user_tz": -120
    },
    "id": "40_Es241LJSF",
    "outputId": "ea6c57ee-b95e-4e33-92cc-c4a776438f8f"
   },
   "outputs": [],
   "source": [
    "a = 2\n",
    "if (b > 3) : \n",
    "    print(b)"
   ]
  },
  {
   "cell_type": "markdown",
   "metadata": {
    "id": "B88PCh4-M5wr"
   },
   "source": [
    "Como podemos observar, ha saltado una excepción, `NameError`, debido a que nos hemos llamado a una variable que no existe. Además, el propio error nos indica a qué es debido y dónde tenemos que modificar el código para corregir el fallo."
   ]
  },
  {
   "cell_type": "markdown",
   "metadata": {
    "id": "n4t4g7_rNHYh"
   },
   "source": [
    "### Excepciones de `Python`\n",
    "\n",
    "Existen múltiples excepciones en `Python` que se nos muestran cuando se dan los errores correspondientes. Podemos mostrar por pantalla todas las excepciones de `Python` usando la función `locals()` tal y como se muestra a continuación"
   ]
  },
  {
   "cell_type": "code",
   "execution_count": null,
   "metadata": {
    "colab": {
     "base_uri": "https://localhost:8080/"
    },
    "executionInfo": {
     "elapsed": 254,
     "status": "ok",
     "timestamp": 1684179588986,
     "user": {
      "displayName": "Ainara Montoya",
      "userId": "04156984210870783133"
     },
     "user_tz": -120
    },
    "id": "C8a5IDhjM3GR",
    "outputId": "34da965f-3a13-4f84-bbdb-748957cef753"
   },
   "outputs": [],
   "source": [
    "for i in dir(locals()['__builtins__']):\n",
    "  print(i)"
   ]
  },
  {
   "cell_type": "markdown",
   "metadata": {
    "id": "68tXszg4NwXL"
   },
   "source": [
    "`locals[\"__builtins__\"]` nos devuelve el módulo con las excepciones, funciones y atributos de `Python`. La función `dir()` nos permite listar todos esos elementos como strings.\n",
    "\n",
    "Algunas de las excepciones de `Python` más comunes al programar son:\n",
    "\n",
    "| Excepción | Causa |\n",
    "| :---: | :--- |\n",
    "| `ArithmeticError` | Cuando falla una operación numérica |\n",
    "| `AssertionError` | Cuando falla una declaración `assert` |\n",
    "| `AtributeError` | Cuando falla una asignación de atributo o referencia |\n",
    "| `EOFError` | Cuando la función `input()` llega a la condición fin de archivo (end-of-file) |\n",
    "| `FloatingPointError` | Cuando falla una operación en coma flotante |\n",
    "| `ImportError` | Cuando un módulo importando no es encontrado |\n",
    "| `IndentationError` | Cuando la indentación no es correcta |\n",
    "| `IndexError` | Cuando el índice de una secuencia se sale del rango |\n",
    "| `KeyError` | Cuando una clave de un diccionario no es encontrada |\n",
    "| `KeyboardInterrupt` | Cuando el usuario pulsa la tecla de interrupción |\n",
    "| `LookupError` | Cuando el error no puede ser encontrado |\n",
    "| `MemoryError` | Cuando una operación se queda sin memoria |\n",
    "| `NameError` | Cuando se llama a una variable que no se encuentra a nivel global ni local |\n",
    "| `NotImplementedError` | Cuando un método abstracto requiere de una clase heredada para sobreescribir el método |\n",
    "| `OverflowError` | Cuando el resultado de una operación aritmética es demasiado grande para ser representado |\n",
    "| `RuntimeError` | Cuando un error no entra dentro de ninguna categoría |\n",
    "| `TabError` | Cuando la indentación consiste de tabulaciones y espacios en blanco inconsistentes |\n",
    "| `TypeError` | Cuando a una función u operación se le suministra un objeto de tipo incorrecto |\n",
    "| `ValueError` | Cuando una función obtiene un argumento del tipo correcto pero de valor incorrecto |\n",
    "| `ZeroDivisionError` | Cuando el divisor de una división es 0 |"
   ]
  },
  {
   "cell_type": "markdown",
   "metadata": {
    "id": "r3Z3jQpARUTD"
   },
   "source": [
    "### Manejo de excepciones\n",
    "\n",
    "Como programadores, necesitamos ser lo más específicos posible. Esto implica ser conscientes de los errores que podrían ocurrir. Por suerte, `Python` permite a los programadores tratar con errores de forma eficiente.\n",
    "\n",
    "Podemos manejar excepciones usando 5 sentencias:\n",
    "\n",
    "1. `try / except`\n",
    "2. `try / finally`\n",
    "3. `assert`\n",
    "4. `raise`\n",
    "5. `with / as`\n",
    " "
   ]
  },
  {
   "cell_type": "markdown",
   "metadata": {
    "id": "6wKPuigWTrns"
   },
   "source": [
    "#### 1. `try / except`\n",
    "\n",
    "* El bloque `try` permite comprobar si hay errores de código.\n",
    "* El bloque `except` permite manejar el error.\n",
    "\n",
    "En el siguiente código, en caso de que ocurra el error, imprimimos un mensaje por pantalla:"
   ]
  },
  {
   "cell_type": "code",
   "execution_count": null,
   "metadata": {
    "colab": {
     "base_uri": "https://localhost:8080/"
    },
    "executionInfo": {
     "elapsed": 222,
     "status": "ok",
     "timestamp": 1684179870345,
     "user": {
      "displayName": "Ainara Montoya",
      "userId": "04156984210870783133"
     },
     "user_tz": -120
    },
    "id": "nF0S2g29NfIN",
    "outputId": "6bf2dfaa-11df-4996-f425-263125a740c9"
   },
   "outputs": [],
   "source": [
    "a, b = 5, 0\n",
    "\n",
    "try:\n",
    "  print(a / b)\n",
    "except ZeroDivisionError:\n",
    "  print(\"¡Has querido dividir entre 0!\")"
   ]
  },
  {
   "cell_type": "markdown",
   "metadata": {
    "id": "hnlfw_CuaRHX"
   },
   "source": [
    "En el siguiente código, en caso de que ocurra el error, imprimimos el mensaje de la excepción correspondiente por pantalla:"
   ]
  },
  {
   "cell_type": "code",
   "execution_count": null,
   "metadata": {
    "colab": {
     "base_uri": "https://localhost:8080/"
    },
    "executionInfo": {
     "elapsed": 235,
     "status": "ok",
     "timestamp": 1684179949704,
     "user": {
      "displayName": "Ainara Montoya",
      "userId": "04156984210870783133"
     },
     "user_tz": -120
    },
    "id": "Ndx1275gUAOy",
    "outputId": "211a1b9e-d725-437d-e3c6-2b9c8ad0603d"
   },
   "outputs": [],
   "source": [
    "a, b = 5, 0\n",
    "\n",
    "try:\n",
    "  print(a / b)\n",
    "except ZeroDivisionError as message:\n",
    "  print(message)"
   ]
  },
  {
   "cell_type": "markdown",
   "metadata": {
    "id": "OXu9RFwQah22"
   },
   "source": [
    "Sin `try /except`, hubiéramos obtenido"
   ]
  },
  {
   "cell_type": "code",
   "execution_count": null,
   "metadata": {
    "colab": {
     "base_uri": "https://localhost:8080/",
     "height": 187
    },
    "executionInfo": {
     "elapsed": 212,
     "status": "error",
     "timestamp": 1684179954045,
     "user": {
      "displayName": "Ainara Montoya",
      "userId": "04156984210870783133"
     },
     "user_tz": -120
    },
    "id": "4d8QwNHKabab",
    "outputId": "d71503d5-333a-4602-bbb4-74854824d12d"
   },
   "outputs": [],
   "source": [
    "a, b = 5, 0\n",
    "print(a / b)"
   ]
  },
  {
   "cell_type": "markdown",
   "metadata": {
    "id": "CCmyhNBjbIIS"
   },
   "source": [
    "Podríamos poner más de un bloque `except`"
   ]
  },
  {
   "cell_type": "code",
   "execution_count": null,
   "metadata": {
    "executionInfo": {
     "elapsed": 4,
     "status": "aborted",
     "timestamp": 1684179870595,
     "user": {
      "displayName": "Ainara Montoya",
      "userId": "04156984210870783133"
     },
     "user_tz": -120
    },
    "id": "wVl_1LkAbNZK"
   },
   "outputs": [],
   "source": [
    "a, b = \"a\", 0\n",
    "\n",
    "try:\n",
    "  print(a / b)\n",
    "except ZeroDivisionError:\n",
    "  print(\"¡Has querido dividir entre 0!\")\n",
    "except:\n",
    "  print(\"Algo más ha salido mal\")"
   ]
  },
  {
   "cell_type": "markdown",
   "metadata": {
    "id": "IyyeNwfbbcTd"
   },
   "source": [
    "En el código anterior hemos intentado dividir un string entre 0. Por tanto, la execpción ya no se debe a intentar dividir entre 0, sino a otro motivo: que un string no puede ser el dividendo de la división.\n",
    "\n",
    "También podemos combinar `try / except` con `else`:"
   ]
  },
  {
   "cell_type": "code",
   "execution_count": null,
   "metadata": {
    "colab": {
     "base_uri": "https://localhost:8080/"
    },
    "executionInfo": {
     "elapsed": 272,
     "status": "ok",
     "timestamp": 1684180045835,
     "user": {
      "displayName": "Ainara Montoya",
      "userId": "04156984210870783133"
     },
     "user_tz": -120
    },
    "id": "irtyJa16kC8o",
    "outputId": "912682f3-0f6b-41ed-dd38-ca6c3ebfcc3d"
   },
   "outputs": [],
   "source": [
    "a, b = 5, 2\n",
    "\n",
    "try:\n",
    "  print(a / b)\n",
    "except ZeroDivisionError:\n",
    "  print(\"¡Has querido dividir entre 0!\")\n",
    "else:\n",
    "  print(\"Nada ha salido mal\")"
   ]
  },
  {
   "cell_type": "markdown",
   "metadata": {
    "id": "xHZcoeitkCX8"
   },
   "source": [
    "El bloque `else` se ejecutará siempre y cuando no haya excepciones, junto al bloque `try`, tal cual ocurre en el ejemplo anterior."
   ]
  },
  {
   "cell_type": "markdown",
   "metadata": {
    "id": "8BRyLExNawBK"
   },
   "source": [
    "#### 2. `try / finally`\n",
    "\n",
    "* El bloque `try` permite comprobar si hay errores de código.\n",
    "* El bloque `finally` permite ejecutar el código a pesar del resultado de los bloques `try` y `except`."
   ]
  },
  {
   "cell_type": "code",
   "execution_count": null,
   "metadata": {
    "colab": {
     "base_uri": "https://localhost:8080/"
    },
    "executionInfo": {
     "elapsed": 703,
     "status": "ok",
     "timestamp": 1684180108788,
     "user": {
      "displayName": "Ainara Montoya",
      "userId": "04156984210870783133"
     },
     "user_tz": -120
    },
    "id": "2M-DO6p3aoxH",
    "outputId": "2e9772f9-429e-404a-caac-b56cd3d9c14c"
   },
   "outputs": [],
   "source": [
    "a, b = 5, 0\n",
    "\n",
    "try:\n",
    "  print(a / b)\n",
    "except:\n",
    "  print(\"Algo ha salido mal\")\n",
    "finally:\n",
    "  print(\"El proceso try / except ha finalizado\")"
   ]
  },
  {
   "cell_type": "code",
   "execution_count": null,
   "metadata": {
    "colab": {
     "base_uri": "https://localhost:8080/"
    },
    "executionInfo": {
     "elapsed": 213,
     "status": "ok",
     "timestamp": 1684180122953,
     "user": {
      "displayName": "Ainara Montoya",
      "userId": "04156984210870783133"
     },
     "user_tz": -120
    },
    "id": "61hdKj0jkkHI",
    "outputId": "40183d2a-b80f-4250-e3c4-4b7b7c765853"
   },
   "outputs": [],
   "source": [
    "a, b = 5, 2\n",
    "\n",
    "try:\n",
    "  print(a / b)\n",
    "except:\n",
    "  print(\"Algo ha salido mal\")\n",
    "finally:\n",
    "  print(\"El proceso try / except ha finalizado\")"
   ]
  },
  {
   "cell_type": "markdown",
   "metadata": {
    "id": "hvmEEv96kp4F"
   },
   "source": [
    "Sea cual sea el caso, el bloque `finally` siempre se ejecuta. \n",
    "\n",
    "El bloque `finally` puede ser útil para cerrar objetos y limpiar recursos."
   ]
  },
  {
   "cell_type": "markdown",
   "metadata": {
    "id": "qIg2D8D1leqc"
   },
   "source": [
    "#### 3. `assert`\n",
    "\n",
    "La palabra reservada `assert` se utiliza para debuguear el código. Nos permite comprobar si una condición en nuestro código devuelve `True`. De lo contrario, el programa nos devolverá un `AssertionError`\n"
   ]
  },
  {
   "cell_type": "code",
   "execution_count": null,
   "metadata": {
    "executionInfo": {
     "elapsed": 203,
     "status": "ok",
     "timestamp": 1684180149688,
     "user": {
      "displayName": "Ainara Montoya",
      "userId": "04156984210870783133"
     },
     "user_tz": -120
    },
    "id": "oEOI3QiZoHlC"
   },
   "outputs": [],
   "source": [
    "x = \"Hola\"\n",
    "\n",
    "# Si la condición devuelve True, no ocurre nada\n",
    "assert x == \"Hola\""
   ]
  },
  {
   "cell_type": "code",
   "execution_count": null,
   "metadata": {
    "colab": {
     "base_uri": "https://localhost:8080/",
     "height": 187
    },
    "executionInfo": {
     "elapsed": 200,
     "status": "error",
     "timestamp": 1684180171871,
     "user": {
      "displayName": "Ainara Montoya",
      "userId": "04156984210870783133"
     },
     "user_tz": -120
    },
    "id": "Pa4XJmrPoUmg",
    "outputId": "f8b41320-8d86-4750-84d6-3814ea254c56"
   },
   "outputs": [],
   "source": [
    "# Si la condición devuelve False, salta un AssertionError\n",
    "assert x == \"Adiós\""
   ]
  },
  {
   "cell_type": "markdown",
   "metadata": {
    "id": "M7Lc_TCYoUB-"
   },
   "source": [
    "En el caso de que la condición devuelva `False`, podríamos indicar un mensaje del siguiente modo:"
   ]
  },
  {
   "cell_type": "code",
   "execution_count": null,
   "metadata": {
    "colab": {
     "base_uri": "https://localhost:8080/",
     "height": 187
    },
    "executionInfo": {
     "elapsed": 223,
     "status": "error",
     "timestamp": 1684180199332,
     "user": {
      "displayName": "Ainara Montoya",
      "userId": "04156984210870783133"
     },
     "user_tz": -120
    },
    "id": "LE3YMIAAoiPp",
    "outputId": "e75d0b36-0328-4e11-fee1-e75fe9552afc"
   },
   "outputs": [],
   "source": [
    "# Si la condición devuelve False, salta un AssertionError\n",
    "assert x == \"Adiós\", \"x debería de contener 'Hola'\""
   ]
  },
  {
   "cell_type": "code",
   "execution_count": null,
   "metadata": {
    "colab": {
     "base_uri": "https://localhost:8080/"
    },
    "executionInfo": {
     "elapsed": 217,
     "status": "ok",
     "timestamp": 1684180216068,
     "user": {
      "displayName": "Ainara Montoya",
      "userId": "04156984210870783133"
     },
     "user_tz": -120
    },
    "id": "EGrIj57SccDk",
    "outputId": "ed5b51fc-c8ef-4ee4-944e-38b8524c892f"
   },
   "outputs": [],
   "source": [
    "import math\n",
    "x = 7.5\n",
    "assert x > 0, \"El valor de x debe ser positivo para calcular un logaritmo\"\n",
    "math.log(x)"
   ]
  },
  {
   "cell_type": "markdown",
   "metadata": {
    "id": "clsssFjyliMl"
   },
   "source": [
    "#### 4. `raise`\n",
    "\n",
    "Como programadores, podemos elegir cuando mostrar una excepción dada una condición. Para mostrar excepciones, usamos la palabra reservada `raise`\n"
   ]
  },
  {
   "cell_type": "code",
   "execution_count": null,
   "metadata": {
    "colab": {
     "base_uri": "https://localhost:8080/",
     "height": 204
    },
    "executionInfo": {
     "elapsed": 210,
     "status": "error",
     "timestamp": 1684180239884,
     "user": {
      "displayName": "Ainara Montoya",
      "userId": "04156984210870783133"
     },
     "user_tz": -120
    },
    "id": "_I5x5jY-mCtV",
    "outputId": "554b6c22-53bd-4c29-e6c5-4c266395dd5e"
   },
   "outputs": [],
   "source": [
    "radius = -7\n",
    "if radius < 0:\n",
    "  raise Exception(\"El radio no puede tomar valores menores a 0\")"
   ]
  },
  {
   "cell_type": "markdown",
   "metadata": {
    "id": "YvxGWK-HmQDx"
   },
   "source": [
    "En el código anterior hemos usado `raise` para mostrar una excepción. No obstante, podemos elegir qué tipo de excepción mostrar y el texto que imprimir al usuario:"
   ]
  },
  {
   "cell_type": "code",
   "execution_count": null,
   "metadata": {
    "colab": {
     "base_uri": "https://localhost:8080/",
     "height": 240
    },
    "executionInfo": {
     "elapsed": 219,
     "status": "error",
     "timestamp": 1684181292626,
     "user": {
      "displayName": "Ainara Montoya",
      "userId": "04156984210870783133"
     },
     "user_tz": -120
    },
    "id": "5mzBJ3D7mcfy",
    "outputId": "2a3be1d5-01e3-41d0-f3f8-d0cb5c24bddb"
   },
   "outputs": [],
   "source": [
    "radius = \"-5\"\n",
    "\n",
    "if not type(radius) is int and not type(radius) is float:\n",
    "  raise TypeError(\"El radio debe ser de tipo numérico (int o float)\")\n",
    "elif radius < 0:\n",
    "  raise Exception(\"El radio no puede tomar valores menores a 0\")"
   ]
  },
  {
   "cell_type": "markdown",
   "metadata": {
    "id": "DNDAQ__Aln7C"
   },
   "source": [
    "#### 5. `with / as`\n",
    "\n",
    "La palabra reservada `with` se utiliza para manejar excepciones y conseguir así un código más limpio y legible. Simplifica el manejo de recursos comunes tales como flujos de archivos.\n",
    "\n",
    "En el siguiente código  no utilizamos la palabra reservada `with`"
   ]
  },
  {
   "cell_type": "code",
   "execution_count": 2,
   "metadata": {
    "executionInfo": {
     "elapsed": 212,
     "status": "ok",
     "timestamp": 1684181379207,
     "user": {
      "displayName": "Ainara Montoya",
      "userId": "04156984210870783133"
     },
     "user_tz": -120
    },
    "id": "c78k4VOYlJSs"
   },
   "outputs": [],
   "source": [
    "file = open(\"path_del_archivo\", \"w\")\n",
    "try: \n",
    "    file.write(\"¡Hola, caracola!\") \n",
    "finally: \n",
    "    file.close() "
   ]
  },
  {
   "cell_type": "markdown",
   "metadata": {
    "id": "TWDtSKxVrV6c"
   },
   "source": [
    "Mientras que en el siguiente sí que utilizamos `with / as` y observamos que el código queda mucho más limpio y legible."
   ]
  },
  {
   "cell_type": "code",
   "execution_count": 3,
   "metadata": {
    "executionInfo": {
     "elapsed": 203,
     "status": "ok",
     "timestamp": 1684181496330,
     "user": {
      "displayName": "Ainara Montoya",
      "userId": "04156984210870783133"
     },
     "user_tz": -120
    },
    "id": "nFH7CE-brJWT"
   },
   "outputs": [],
   "source": [
    "with open(\"path_del_archivo\", \"w\") as file: \n",
    "    file.write(\"¡Hola, caracola!\") "
   ]
  },
  {
   "cell_type": "markdown",
   "metadata": {
    "id": "Bj0tsBPBrrWJ"
   },
   "source": [
    "Ambos trozos de código darían el mismo resultado. No obstante, el segundo tiene menos líneas de código, pues entre otras cosas no le hace falta la línea `file.close()`, tal cual vimos en el tema anterior. \n",
    "\n",
    "La palabra reservada `with` se asegura la adquisición y liberación adecuadas de recursos. "
   ]
  }
 ],
 "metadata": {
  "colab": {
   "collapsed_sections": [
    "6wKPuigWTrns",
    "8BRyLExNawBK",
    "qIg2D8D1leqc",
    "clsssFjyliMl",
    "DNDAQ__Aln7C"
   ],
   "provenance": []
  },
  "kernelspec": {
   "display_name": "Python 3 (ipykernel)",
   "language": "python",
   "name": "python3"
  },
  "language_info": {
   "codemirror_mode": {
    "name": "ipython",
    "version": 3
   },
   "file_extension": ".py",
   "mimetype": "text/x-python",
   "name": "python",
   "nbconvert_exporter": "python",
   "pygments_lexer": "ipython3",
   "version": "3.10.9"
  }
 },
 "nbformat": 4,
 "nbformat_minor": 1
}

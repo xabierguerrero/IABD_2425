{
 "cells": [
  {
   "cell_type": "markdown",
   "metadata": {},
   "source": [
    "## Tiempo con `datetime`\n",
    "\n",
    "Una fecha en `Python` no es un tipo de dato por si mismo, pero podemos trabajar con estos objetos tan peculiares con el módulo `datetime`"
   ]
  },
  {
   "cell_type": "code",
   "execution_count": 1,
   "metadata": {},
   "outputs": [],
   "source": [
    "import datetime as dt"
   ]
  },
  {
   "cell_type": "markdown",
   "metadata": {},
   "source": [
    "Para obtener la fecha y hora actual, podemos usar el método .datetime.now()"
   ]
  },
  {
   "cell_type": "code",
   "execution_count": 2,
   "metadata": {},
   "outputs": [
    {
     "name": "stdout",
     "output_type": "stream",
     "text": [
      "2023-06-22 22:29:08.393026\n"
     ]
    }
   ],
   "source": [
    "today = dt.datetime.now()\n",
    "print(today)"
   ]
  },
  {
   "cell_type": "code",
   "execution_count": 3,
   "metadata": {},
   "outputs": [
    {
     "data": {
      "text/plain": [
       "datetime.datetime"
      ]
     },
     "execution_count": 3,
     "metadata": {},
     "output_type": "execute_result"
    }
   ],
   "source": [
    "type(today)"
   ]
  },
  {
   "cell_type": "markdown",
   "metadata": {},
   "source": [
    "Observación. Dentro del módulo datetime, existe la clase datetime. Para evitar confusiones hemos renombrado al módulo datetime por dt"
   ]
  },
  {
   "cell_type": "markdown",
   "metadata": {},
   "source": [
    "En el resultado anterior vemos que se nos muestra el año, mes, día, hora, minuto, segundo e incluso microsegundo.\n",
    "\n",
    "Podemos acceder a toda esa información con los atributos\n",
    "\n",
    "* `.year`: año\n",
    "* `.month`: mes\n",
    "* `.day`: día\n",
    "* `.hour`: hora\n",
    "* `.minute`: minuto\n",
    "* `.second`: segundo"
   ]
  },
  {
   "cell_type": "code",
   "execution_count": 4,
   "metadata": {},
   "outputs": [
    {
     "name": "stdout",
     "output_type": "stream",
     "text": [
      "Año: 2023\n",
      "Mes: 6\n",
      "Día: 22\n",
      "Hora: 22\n",
      "Minuto: 29\n",
      "Segundo: 8\n",
      "Microsegundo: 393026\n"
     ]
    }
   ],
   "source": [
    "print(\"Año:\", today.year)\n",
    "print(\"Mes:\", today.month)\n",
    "print(\"Día:\", today.day)\n",
    "print(\"Hora:\", today.hour)\n",
    "print(\"Minuto:\", today.minute)\n",
    "print(\"Segundo:\", today.second)\n",
    "print(\"Microsegundo:\", today.microsecond)"
   ]
  },
  {
   "cell_type": "markdown",
   "metadata": {},
   "source": [
    "### Creando objetos `datetime`\n",
    "\n",
    "Para crear objetos `datetime` podemos usar el método `.datetime()`. \n",
    "\n",
    "Este método toma como parámetros el año (`year`), mes (`month`), día (`day`), hora (`hour`), minuto (`minute`), segundo (`second`) y microsegundo (`microsecond`). Los 3 primeros, relacionados con la fecha, son parámetros obligatorios. Los parámetros restantes, los relacionados con el tiempo, son opcionales."
   ]
  },
  {
   "cell_type": "code",
   "execution_count": 5,
   "metadata": {},
   "outputs": [
    {
     "name": "stdout",
     "output_type": "stream",
     "text": [
      "2020-09-22 12:30:00\n"
     ]
    }
   ],
   "source": [
    "d = dt.datetime(2020, 9, 22, 12, 30)\n",
    "print(d)"
   ]
  },
  {
   "cell_type": "markdown",
   "metadata": {},
   "source": [
    "Observación. El método .datetime() toma un parámetro adicional, tzinfo, que también es opcional. A este parámetro se le suministra la zona horaria. Por defecto toma el valor None."
   ]
  },
  {
   "cell_type": "markdown",
   "metadata": {},
   "source": [
    "### Formato\n",
    "\n",
    "El módulo `datetime` ofrece el método `.strftime()` para cambiar el formato en que mostramos la fecha y hora. En el parámetro `format` de este método podemos indicar alguna de las siguientes opciones\n",
    "\n",
    "| Código | Descripción |\n",
    "| :---: | :--- |\n",
    "| `%Y` | Año, versión completa |\n",
    "| `%y` | Año, versión abreviada (sin siglo) |\n",
    "| `%B` | Mes, versión completa (idioma inglés) |\n",
    "| `%b` | Mes, versión abreviada (idioma inglés) |\n",
    "| `%m` | Mes, versión numérica |\n",
    "| `%d` | Día del mes |\n",
    "| `%j` | Día del año, 001-366 |\n",
    "| `%A` | Día de la semana, versión completa (idioma inglés) |\n",
    "| `%a` | Día de la semana, versión abreviada (idioma inglés)|\n",
    "| `%w` | Día de la semana, versión numérica (0 = Domingo, 1 = Lunes, ..., 6 = Sábado) |\n",
    "| `%W` | Semana del año, con lunes como primer día |\n",
    "| `%U` | Semana del año, con domingo como primer día |\n",
    "| `%H` | Hora, 00-23 |\n",
    "| `%I` | Hora, 00-12 |\n",
    "| `%p` | AM / PM |\n",
    "| `%M` | Minuto, 00-59 |\n",
    "| `%S` | Segundo, 00-59 |\n",
    "| `%f` | Microsegundo, 000000-999999 |\n",
    "| `%Z` | Zona horaria |\n",
    "| `%z` | Offset de UTC |\n",
    "| `%c` | Versión local de fecha y hora |\n",
    "| `%x` | Versión local de fecha |\n",
    "| `%X` | Versión local de hora |\n",
    "| `%%` | Caracter `%` |\n",
    "| `%G` | Año ISO 8601 |\n",
    "| `%u` | Día de la semana ISO 8601 |\n",
    "| `%V` | Semana del año ISO 8601 |\n",
    "\n"
   ]
  },
  {
   "cell_type": "markdown",
   "metadata": {},
   "source": [
    "**Observación.** Cuando decimos offset de UTC, nos referimos a la cantidad de horas a las que se encuentra la zona horaria del Tiempo Universal Coordinado (UTC)"
   ]
  },
  {
   "cell_type": "code",
   "execution_count": 6,
   "metadata": {},
   "outputs": [],
   "source": [
    "d = dt.datetime(2020, 9, 22, 12, 30)"
   ]
  },
  {
   "cell_type": "code",
   "execution_count": 7,
   "metadata": {},
   "outputs": [
    {
     "name": "stdout",
     "output_type": "stream",
     "text": [
      "September 22, 2020\n"
     ]
    }
   ],
   "source": [
    "print(d.strftime(\"%B %d, %Y\"))"
   ]
  },
  {
   "cell_type": "code",
   "execution_count": 8,
   "metadata": {},
   "outputs": [
    {
     "name": "stdout",
     "output_type": "stream",
     "text": [
      "22/09/2020\n"
     ]
    }
   ],
   "source": [
    "print(d.strftime(\"%d/%m/%Y\"))"
   ]
  },
  {
   "cell_type": "code",
   "execution_count": 9,
   "metadata": {},
   "outputs": [
    {
     "name": "stdout",
     "output_type": "stream",
     "text": [
      "22 Sep 20\n"
     ]
    }
   ],
   "source": [
    "print(d.strftime(\"%d %b %y\"))"
   ]
  },
  {
   "cell_type": "code",
   "execution_count": 10,
   "metadata": {},
   "outputs": [
    {
     "name": "stdout",
     "output_type": "stream",
     "text": [
      "22-09-2020 12:30:00\n"
     ]
    }
   ],
   "source": [
    "print(d.strftime(\"%d-%m-%Y %H:%M:%S\"))"
   ]
  },
  {
   "cell_type": "code",
   "execution_count": 11,
   "metadata": {},
   "outputs": [
    {
     "name": "stdout",
     "output_type": "stream",
     "text": [
      "22 Sep 2020, 12:30PM\n"
     ]
    }
   ],
   "source": [
    "print(d.strftime(\"%d %b %Y, %I:%M%p\"))"
   ]
  },
  {
   "cell_type": "markdown",
   "metadata": {},
   "source": [
    "Al hablar de formato de fechas, es importante estar familiarizados con el concepto ISO 8601, presente en la tabla anterior. Se trata de un estándar internacional para la representación de fechas y horas.\n",
    "\n",
    "`Python` consta de un método que genera rápidamente una fecha formateada con ISO 8601: el método `.isoformat()`"
   ]
  },
  {
   "cell_type": "code",
   "execution_count": 12,
   "metadata": {},
   "outputs": [
    {
     "data": {
      "text/plain": [
       "'2020-09-22T12:30:00'"
      ]
     },
     "execution_count": 12,
     "metadata": {},
     "output_type": "execute_result"
    }
   ],
   "source": [
    "d.isoformat()"
   ]
  },
  {
   "cell_type": "markdown",
   "metadata": {},
   "source": [
    "Es hora de hablar del método opuesto a .strftime(). Se trata del método .strptime(), que nos permite crear un objeto datetime a partir de un string. No obstante, como el string puede tener cualquier formato, habrá que indicarle por parámetro a .strptime() cuál estamos usando."
   ]
  },
  {
   "cell_type": "code",
   "execution_count": 13,
   "metadata": {},
   "outputs": [
    {
     "data": {
      "text/plain": [
       "datetime.datetime(2020, 9, 22, 0, 0)"
      ]
     },
     "execution_count": 13,
     "metadata": {},
     "output_type": "execute_result"
    }
   ],
   "source": [
    "dt.datetime.strptime(\"September 22, 2020\", \"%B %d, %Y\")"
   ]
  },
  {
   "cell_type": "code",
   "execution_count": 14,
   "metadata": {},
   "outputs": [
    {
     "data": {
      "text/plain": [
       "datetime.datetime(2020, 9, 22, 0, 0)"
      ]
     },
     "execution_count": 14,
     "metadata": {},
     "output_type": "execute_result"
    }
   ],
   "source": [
    "dt.datetime.strptime(\"22/09/2020\", \"%d/%m/%Y\")"
   ]
  },
  {
   "cell_type": "code",
   "execution_count": 15,
   "metadata": {},
   "outputs": [
    {
     "data": {
      "text/plain": [
       "datetime.datetime(2020, 9, 22, 0, 0)"
      ]
     },
     "execution_count": 15,
     "metadata": {},
     "output_type": "execute_result"
    }
   ],
   "source": [
    "dt.datetime.strptime(\"22 Sep 20\", \"%d %b %y\")"
   ]
  },
  {
   "cell_type": "code",
   "execution_count": 16,
   "metadata": {},
   "outputs": [
    {
     "data": {
      "text/plain": [
       "datetime.datetime(2020, 9, 22, 12, 30)"
      ]
     },
     "execution_count": 16,
     "metadata": {},
     "output_type": "execute_result"
    }
   ],
   "source": [
    "dt.datetime.strptime(\"22-09-2020 12:30:00\", \"%d-%m-%Y %H:%M:%S\")"
   ]
  },
  {
   "cell_type": "code",
   "execution_count": 17,
   "metadata": {},
   "outputs": [
    {
     "data": {
      "text/plain": [
       "datetime.datetime(2020, 9, 22, 12, 30)"
      ]
     },
     "execution_count": 17,
     "metadata": {},
     "output_type": "execute_result"
    }
   ],
   "source": [
    "dt.datetime.strptime(\"22 Sep 2020, 12:30PM\", \"%d %b %Y, %I:%M%p\")"
   ]
  },
  {
   "cell_type": "markdown",
   "metadata": {},
   "source": [
    "¡Cuidado! El patrón debe coincidir a la perfección. Eso incluye las comas, los : y los espacios en blanco."
   ]
  },
  {
   "cell_type": "markdown",
   "metadata": {
    "id": "r8Rp6vDQLKNk"
   },
   "source": [
    "## Series temporales"
   ]
  },
  {
   "cell_type": "markdown",
   "metadata": {
    "id": "5Z7ozxA8LKNl"
   },
   "source": [
    "A veces es útil tener índices que son intervalos temporales"
   ]
  },
  {
   "cell_type": "code",
   "execution_count": 20,
   "metadata": {
    "colab": {
     "base_uri": "https://localhost:8080/"
    },
    "id": "NEX0m_DiLKNl",
    "outputId": "0c7d39be-9932-4694-c21e-654b02c4b275"
   },
   "outputs": [
    {
     "name": "stdout",
     "output_type": "stream",
     "text": [
      "DatetimeIndex(['2022-12-30', '2022-12-31', '2023-01-01', '2023-01-02',\n",
      "               '2023-01-03', '2023-01-04', '2023-01-05', '2023-01-06',\n",
      "               '2023-01-07', '2023-01-08', '2023-01-09', '2023-01-10',\n",
      "               '2023-01-11', '2023-01-12', '2023-01-13', '2023-01-14',\n",
      "               '2023-01-15', '2023-01-16', '2023-01-17', '2023-01-18',\n",
      "               '2023-01-19', '2023-01-20', '2023-01-21', '2023-01-22',\n",
      "               '2023-01-23', '2023-01-24', '2023-01-25', '2023-01-26',\n",
      "               '2023-01-27', '2023-01-28', '2023-01-29', '2023-01-30',\n",
      "               '2023-01-31', '2023-02-01', '2023-02-02', '2023-02-03',\n",
      "               '2023-02-04', '2023-02-05', '2023-02-06', '2023-02-07',\n",
      "               '2023-02-08', '2023-02-09', '2023-02-10', '2023-02-11',\n",
      "               '2023-02-12'],\n",
      "              dtype='datetime64[ns]', freq='D')\n"
     ]
    },
    {
     "data": {
      "text/plain": [
       "2022-12-30     8\n",
       "2022-12-31     9\n",
       "2023-01-01     1\n",
       "2023-01-02     9\n",
       "2023-01-03     2\n",
       "2023-01-04    24\n",
       "2023-01-05    29\n",
       "2023-01-06    28\n",
       "2023-01-07     3\n",
       "2023-01-08     0\n",
       "2023-01-09     9\n",
       "2023-01-10    20\n",
       "2023-01-11     4\n",
       "2023-01-12    25\n",
       "2023-01-13     1\n",
       "2023-01-14    23\n",
       "2023-01-15    19\n",
       "2023-01-16    25\n",
       "2023-01-17     2\n",
       "2023-01-18    17\n",
       "2023-01-19    13\n",
       "2023-01-20    17\n",
       "2023-01-21    13\n",
       "2023-01-22     8\n",
       "2023-01-23    24\n",
       "2023-01-24     7\n",
       "2023-01-25    24\n",
       "2023-01-26    21\n",
       "2023-01-27    18\n",
       "2023-01-28    24\n",
       "2023-01-29    28\n",
       "2023-01-30    23\n",
       "2023-01-31    27\n",
       "2023-02-01    22\n",
       "2023-02-02    29\n",
       "2023-02-03    11\n",
       "2023-02-04     8\n",
       "2023-02-05    19\n",
       "2023-02-06    10\n",
       "2023-02-07    18\n",
       "2023-02-08    15\n",
       "2023-02-09    28\n",
       "2023-02-10    11\n",
       "2023-02-11     2\n",
       "2023-02-12     0\n",
       "Freq: D, dtype: int64"
      ]
     },
     "execution_count": 20,
     "metadata": {},
     "output_type": "execute_result"
    }
   ],
   "source": [
    "import numpy as np\n",
    "import pandas as pd\n",
    "from pandas import Series\n",
    "idia = pd.date_range('12/30/2022', periods=45)\n",
    "print(idia)\n",
    "serie = Series(np.random.randint(30,size=45),idia)\n",
    "serie"
   ]
  },
  {
   "cell_type": "markdown",
   "metadata": {
    "id": "LzeU4JmbLKNl"
   },
   "source": [
    "Se puede cambiar la frecuencia:\n",
    "\n",
    "    Alias \tDescription\n",
    "    B \tbusiness day frequency\n",
    "    C \tcustom business day frequency\n",
    "    D \tcalendar day frequency\n",
    "    W \tweekly frequency\n",
    "    M \tmonth end frequency\n",
    "    SM \tsemi-month end frequency (15th and end of month)\n",
    "    BM \tbusiness month end frequency\n",
    "    CBM \tcustom business month end frequency\n",
    "    MS \tmonth start frequency\n",
    "    SMS \tsemi-month start frequency (1st and 15th)\n",
    "    BMS \tbusiness month start frequency\n",
    "    CBMS \tcustom business month start frequency\n",
    "    Q \tquarter end frequency\n",
    "    BQ \tbusiness quarter end frequency\n",
    "    QS \tquarter start frequency\n",
    "    BQS \tbusiness quarter start frequency\n",
    "    A, Y \tyear end frequency\n",
    "    BA, BY \tbusiness year end frequency\n",
    "    AS, YS \tyear start frequency\n",
    "    BAS, BYS \tbusiness year start frequency\n",
    "    BH \tbusiness hour frequency\n",
    "    H \thourly frequency\n",
    "    T, min \tminutely frequency\n",
    "    S \tsecondly frequency\n",
    "    L, ms \tmilliseconds\n",
    "    U, us \tmicroseconds\n",
    "    N \tnanoseconds"
   ]
  },
  {
   "cell_type": "code",
   "execution_count": 21,
   "metadata": {
    "colab": {
     "base_uri": "https://localhost:8080/"
    },
    "id": "DUMBlY01LKNm",
    "outputId": "620d1371-e387-4be8-bcda-b4b27b8ae41e"
   },
   "outputs": [
    {
     "name": "stdout",
     "output_type": "stream",
     "text": [
      "DatetimeIndex(['2019-12-11 16:00:00', '2019-12-11 16:01:00',\n",
      "               '2019-12-11 16:02:00', '2019-12-11 16:03:00',\n",
      "               '2019-12-11 16:04:00', '2019-12-11 16:05:00',\n",
      "               '2019-12-11 16:06:00', '2019-12-11 16:07:00',\n",
      "               '2019-12-11 16:08:00', '2019-12-11 16:09:00',\n",
      "               '2019-12-11 16:10:00', '2019-12-11 16:11:00',\n",
      "               '2019-12-11 16:12:00', '2019-12-11 16:13:00',\n",
      "               '2019-12-11 16:14:00'],\n",
      "              dtype='datetime64[ns]', freq='T')\n"
     ]
    },
    {
     "data": {
      "text/plain": [
       "2019-12-11 16:00:00    26\n",
       "2019-12-11 16:01:00    10\n",
       "2019-12-11 16:02:00    10\n",
       "2019-12-11 16:03:00    23\n",
       "2019-12-11 16:04:00     9\n",
       "2019-12-11 16:05:00     3\n",
       "2019-12-11 16:06:00    16\n",
       "2019-12-11 16:07:00     8\n",
       "2019-12-11 16:08:00     7\n",
       "2019-12-11 16:09:00     9\n",
       "2019-12-11 16:10:00    27\n",
       "2019-12-11 16:11:00     5\n",
       "2019-12-11 16:12:00    28\n",
       "2019-12-11 16:13:00    12\n",
       "2019-12-11 16:14:00     1\n",
       "Freq: T, dtype: int64"
      ]
     },
     "execution_count": 21,
     "metadata": {},
     "output_type": "execute_result"
    }
   ],
   "source": [
    "idia = pd.date_range('12/11/2019 16:00:00', periods=15, freq='T')\n",
    "print(idia)\n",
    "seriea = Series(np.random.randint(30,size=15),idia)\n",
    "seriea"
   ]
  },
  {
   "cell_type": "code",
   "execution_count": 22,
   "metadata": {
    "colab": {
     "base_uri": "https://localhost:8080/"
    },
    "id": "HBCoQDyiLKNm",
    "outputId": "79967912-2b31-41f2-cc98-41cbed7d262a"
   },
   "outputs": [
    {
     "name": "stdout",
     "output_type": "stream",
     "text": [
      "DatetimeIndex(['2019-12-11 16:00:00', '2019-12-11 16:02:00',\n",
      "               '2019-12-11 16:04:00', '2019-12-11 16:06:00',\n",
      "               '2019-12-11 16:08:00', '2019-12-11 16:10:00',\n",
      "               '2019-12-11 16:12:00', '2019-12-11 16:14:00',\n",
      "               '2019-12-11 16:16:00', '2019-12-11 16:18:00',\n",
      "               '2019-12-11 16:20:00', '2019-12-11 16:22:00',\n",
      "               '2019-12-11 16:24:00', '2019-12-11 16:26:00',\n",
      "               '2019-12-11 16:28:00'],\n",
      "              dtype='datetime64[ns]', freq='2T')\n"
     ]
    },
    {
     "data": {
      "text/plain": [
       "2019-12-11 16:00:00     1\n",
       "2019-12-11 16:02:00    16\n",
       "2019-12-11 16:04:00    10\n",
       "2019-12-11 16:06:00     2\n",
       "2019-12-11 16:08:00    27\n",
       "2019-12-11 16:10:00     9\n",
       "2019-12-11 16:12:00     5\n",
       "2019-12-11 16:14:00     4\n",
       "2019-12-11 16:16:00    24\n",
       "2019-12-11 16:18:00     4\n",
       "2019-12-11 16:20:00    18\n",
       "2019-12-11 16:22:00     5\n",
       "2019-12-11 16:24:00    21\n",
       "2019-12-11 16:26:00     4\n",
       "2019-12-11 16:28:00    23\n",
       "Freq: 2T, dtype: int64"
      ]
     },
     "execution_count": 22,
     "metadata": {},
     "output_type": "execute_result"
    }
   ],
   "source": [
    "idib = pd.date_range('12/11/2019 16:00:00', periods=15, freq='2T')\n",
    "print(idib)\n",
    "serieb = Series(np.random.randint(30,size=15),idib)\n",
    "serieb "
   ]
  },
  {
   "cell_type": "code",
   "execution_count": 23,
   "metadata": {
    "colab": {
     "base_uri": "https://localhost:8080/"
    },
    "id": "uEhqAZBcLKNm",
    "outputId": "31029ab3-a702-413c-d95e-d99ab9aee095"
   },
   "outputs": [
    {
     "data": {
      "text/plain": [
       "2019-12-11 16:00:00    27.0\n",
       "2019-12-11 16:01:00     NaN\n",
       "2019-12-11 16:02:00    26.0\n",
       "2019-12-11 16:03:00     NaN\n",
       "2019-12-11 16:04:00    19.0\n",
       "2019-12-11 16:05:00     NaN\n",
       "2019-12-11 16:06:00    18.0\n",
       "2019-12-11 16:07:00     NaN\n",
       "2019-12-11 16:08:00    34.0\n",
       "2019-12-11 16:09:00     NaN\n",
       "2019-12-11 16:10:00    36.0\n",
       "2019-12-11 16:11:00     NaN\n",
       "2019-12-11 16:12:00    33.0\n",
       "2019-12-11 16:13:00     NaN\n",
       "2019-12-11 16:14:00     5.0\n",
       "2019-12-11 16:16:00     NaN\n",
       "2019-12-11 16:18:00     NaN\n",
       "2019-12-11 16:20:00     NaN\n",
       "2019-12-11 16:22:00     NaN\n",
       "2019-12-11 16:24:00     NaN\n",
       "2019-12-11 16:26:00     NaN\n",
       "2019-12-11 16:28:00     NaN\n",
       "dtype: float64"
      ]
     },
     "execution_count": 23,
     "metadata": {},
     "output_type": "execute_result"
    }
   ],
   "source": [
    "seriea+serieb"
   ]
  },
  {
   "cell_type": "code",
   "execution_count": 24,
   "metadata": {
    "colab": {
     "base_uri": "https://localhost:8080/"
    },
    "id": "dCIaYxiALKNm",
    "outputId": "544bae41-6141-4a97-a005-f23237325ebf"
   },
   "outputs": [
    {
     "data": {
      "text/plain": [
       "2019-12-11 16:00:00    26\n",
       "2019-12-11 16:01:00    10\n",
       "2019-12-11 16:02:00    10\n",
       "2019-12-11 16:03:00    23\n",
       "2019-12-11 16:04:00     9\n",
       "2019-12-11 16:05:00     3\n",
       "2019-12-11 16:06:00    16\n",
       "2019-12-11 16:07:00     8\n",
       "2019-12-11 16:08:00     7\n",
       "2019-12-11 16:09:00     9\n",
       "2019-12-11 16:10:00    27\n",
       "2019-12-11 16:11:00     5\n",
       "2019-12-11 16:12:00    28\n",
       "2019-12-11 16:13:00    12\n",
       "2019-12-11 16:14:00     1\n",
       "Freq: T, dtype: int64"
      ]
     },
     "execution_count": 24,
     "metadata": {},
     "output_type": "execute_result"
    }
   ],
   "source": [
    "seriea"
   ]
  },
  {
   "cell_type": "code",
   "execution_count": 25,
   "metadata": {
    "colab": {
     "base_uri": "https://localhost:8080/"
    },
    "id": "qQcOns1nQLpi",
    "outputId": "1c3a334f-8c0b-49f8-bf03-7f1f57eabea3"
   },
   "outputs": [
    {
     "data": {
      "text/plain": [
       "2019-12-11 16:00:00     1\n",
       "2019-12-11 16:02:00    16\n",
       "2019-12-11 16:04:00    10\n",
       "2019-12-11 16:06:00     2\n",
       "2019-12-11 16:08:00    27\n",
       "2019-12-11 16:10:00     9\n",
       "2019-12-11 16:12:00     5\n",
       "2019-12-11 16:14:00     4\n",
       "2019-12-11 16:16:00    24\n",
       "2019-12-11 16:18:00     4\n",
       "2019-12-11 16:20:00    18\n",
       "2019-12-11 16:22:00     5\n",
       "2019-12-11 16:24:00    21\n",
       "2019-12-11 16:26:00     4\n",
       "2019-12-11 16:28:00    23\n",
       "Freq: 2T, dtype: int64"
      ]
     },
     "execution_count": 25,
     "metadata": {},
     "output_type": "execute_result"
    }
   ],
   "source": [
    "serieb"
   ]
  },
  {
   "cell_type": "code",
   "execution_count": 26,
   "metadata": {
    "colab": {
     "base_uri": "https://localhost:8080/"
    },
    "id": "BkaB6_MWQRG0",
    "outputId": "e843f79d-58d0-4f82-961d-2c3610897d24"
   },
   "outputs": [
    {
     "data": {
      "text/plain": [
       "2019-12-11 16:00:00    27.0\n",
       "2019-12-11 16:01:00     NaN\n",
       "2019-12-11 16:02:00    26.0\n",
       "2019-12-11 16:03:00     NaN\n",
       "2019-12-11 16:04:00    19.0\n",
       "2019-12-11 16:05:00     NaN\n",
       "2019-12-11 16:06:00    18.0\n",
       "2019-12-11 16:07:00     NaN\n",
       "2019-12-11 16:08:00    34.0\n",
       "2019-12-11 16:09:00     NaN\n",
       "2019-12-11 16:10:00    36.0\n",
       "2019-12-11 16:11:00     NaN\n",
       "2019-12-11 16:12:00    33.0\n",
       "2019-12-11 16:13:00     NaN\n",
       "2019-12-11 16:14:00     5.0\n",
       "2019-12-11 16:16:00     NaN\n",
       "2019-12-11 16:18:00     NaN\n",
       "2019-12-11 16:20:00     NaN\n",
       "2019-12-11 16:22:00     NaN\n",
       "2019-12-11 16:24:00     NaN\n",
       "2019-12-11 16:26:00     NaN\n",
       "2019-12-11 16:28:00     NaN\n",
       "dtype: float64"
      ]
     },
     "execution_count": 26,
     "metadata": {},
     "output_type": "execute_result"
    }
   ],
   "source": [
    "seriec = seriea+serieb\n",
    "seriec"
   ]
  }
 ],
 "metadata": {
  "colab": {
   "provenance": []
  },
  "kernelspec": {
   "display_name": "Python 3 (ipykernel)",
   "language": "python",
   "name": "python3"
  },
  "language_info": {
   "codemirror_mode": {
    "name": "ipython",
    "version": 3
   },
   "file_extension": ".py",
   "mimetype": "text/x-python",
   "name": "python",
   "nbconvert_exporter": "python",
   "pygments_lexer": "ipython3",
   "version": "3.10.9"
  }
 },
 "nbformat": 4,
 "nbformat_minor": 1
}

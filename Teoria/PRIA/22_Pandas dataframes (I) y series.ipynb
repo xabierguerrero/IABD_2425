{
 "cells": [
  {
   "cell_type": "markdown",
   "metadata": {
    "id": "jRr0Ik-m0vG2"
   },
   "source": [
    "# Dataframes con el módulo `pandas`"
   ]
  },
  {
   "cell_type": "markdown",
   "metadata": {
    "id": "oRm92QuMzLgP"
   },
   "source": [
    "## Introducción\n",
    "\n",
    "**Dataframe.** Es una estructura bidimensional mutable de datos con los ejes etiquetados donde\n",
    "\n",
    "- cada fila representa una observación diferente\n",
    "- cada columna representa una variable diferente\n",
    "\n",
    "En `Python`, para definir un dataframe, en primer lugar necesitamos importar el módulo `pandas`."
   ]
  },
  {
   "cell_type": "code",
   "execution_count": 2,
   "metadata": {
    "executionInfo": {
     "elapsed": 638,
     "status": "ok",
     "timestamp": 1687098347224,
     "user": {
      "displayName": "Ainara Montoya",
      "userId": "04156984210870783133"
     },
     "user_tz": -120
    },
    "id": "vkv8i5UWzObk",
    "tags": []
   },
   "outputs": [],
   "source": [
    "import pandas as pd\n",
    "import numpy as np"
   ]
  },
  {
   "cell_type": "markdown",
   "metadata": {
    "id": "CzE9DYo1z7as"
   },
   "source": [
    "A continuación, si queremos un dataframe de 5 filas y 2 columnas, podemos hacerlo a partir de un diccionario, una lista de listas, una lista de diccionarios, etc.\n",
    "\n"
   ]
  },
  {
   "cell_type": "markdown",
   "metadata": {
    "id": "AvNvzjXMFvZj"
   },
   "source": [
    "---\n",
    "\n",
    "#### Ejemplo 1\n",
    "\n",
    "Vamos a crear un dataframe de 5 filas y 2 columnas a partir de un diccionario.\n",
    "\n",
    "Para ello, primero creamos un diccionario donde las claves serán los nombres de las columnas y los valores serán listas, con tantos elementos como número de filas queramos.\n",
    "\n",
    "Finalmente, convertimos ese diccionario a dataframe con la función `DataFrame()` de `pandas`:"
   ]
  },
  {
   "cell_type": "code",
   "execution_count": 3,
   "metadata": {
    "colab": {
     "base_uri": "https://localhost:8080/"
    },
    "executionInfo": {
     "elapsed": 25,
     "status": "ok",
     "timestamp": 1687098347225,
     "user": {
      "displayName": "Ainara Montoya",
      "userId": "04156984210870783133"
     },
     "user_tz": -120
    },
    "id": "m_EKIBvn0VJY",
    "outputId": "f91228eb-17a6-4c74-8530-e65352e51fce",
    "tags": []
   },
   "outputs": [
    {
     "name": "stdout",
     "output_type": "stream",
     "text": [
      "   x   y\n",
      "0  1   2\n",
      "1  2   4\n",
      "2  3   6\n",
      "3  4   8\n",
      "4  5  10\n"
     ]
    }
   ],
   "source": [
    "data = {\"x\": [1, 2, 3, 4, 5], \"y\": [2, 4, 6, 8, 10]}\n",
    "df1 = pd.DataFrame(data = data)\n",
    "print(df1)"
   ]
  },
  {
   "cell_type": "markdown",
   "metadata": {
    "id": "vDgNHv-x0v_f"
   },
   "source": [
    "Como habíamos dicho, hemos creado un dataframe de 5 filas y dos columnas, llamadas `x` e `y` respectivamente.\n",
    "\n",
    "**Observación.** Como resultado del `print()`, no solamente hemos obtenido las 5 filas y 2 columnas, sino que hay una columna adicional de 5 números ordenados verticalmete del 0 al 4. Se trata simplemente del nombre de cada fila, que por defecto es el índice de cada fila. El 0 indica la primera fila; el 1, la segunda; y así, sucesivamente."
   ]
  },
  {
   "cell_type": "markdown",
   "metadata": {
    "id": "krL33ISC7E6X"
   },
   "source": [
    "---\n",
    "\n",
    "#### Ejemplo 2\n",
    "\n",
    "Vamos a crear el mismo dataframe de 5 filas y 2 columnas, pero esta vez a partir de una lista de listas.\n",
    "\n",
    "En este caso, podemos hacerlo directamente con la función `DataFrame()` de `pandas`, usando los parámetros `data` y `columns`"
   ]
  },
  {
   "cell_type": "code",
   "execution_count": 4,
   "metadata": {
    "colab": {
     "base_uri": "https://localhost:8080/"
    },
    "executionInfo": {
     "elapsed": 24,
     "status": "ok",
     "timestamp": 1687098347225,
     "user": {
      "displayName": "Ainara Montoya",
      "userId": "04156984210870783133"
     },
     "user_tz": -120
    },
    "id": "ABwFzslm8SZz",
    "outputId": "f3295b81-adea-4681-964f-63112b94c09d",
    "tags": []
   },
   "outputs": [
    {
     "name": "stdout",
     "output_type": "stream",
     "text": [
      "   x   y\n",
      "0  1   2\n",
      "1  2   4\n",
      "2  3   6\n",
      "3  4   8\n",
      "4  5  10\n"
     ]
    }
   ],
   "source": [
    "df2 = pd.DataFrame(data = [[1, 2], [2, 4], [3, 6], [4, 8], [5, 10]],\n",
    "                   columns = [\"x\", \"y\"])\n",
    "print(df2)"
   ]
  },
  {
   "cell_type": "markdown",
   "metadata": {
    "id": "Yeh47W6X88em"
   },
   "source": [
    "Al parámetro `data` le hemos proporcionado una lista de 5 listas, donde cada una de las sublistas tiene 2 elementos: el perteneciente a la primera columna en la posición 0, y el perteneciente a la segunda columna en la posición 1.\n",
    "\n",
    "Al parámetro `columns` le hemos proporcionado el nombre de las 2 columnas.\n",
    "\n"
   ]
  },
  {
   "cell_type": "markdown",
   "metadata": {
    "id": "HybHvVmgFyqR"
   },
   "source": [
    "---\n",
    "\n",
    "#### Ejemplo 3\n",
    "\n",
    "Vamos a crear el mismo dataframe de 5 filas y 2 columnas, con la diferencia de que vamos a modificar el nombre de las filas.\n",
    "\n",
    "Lo haremos a partir del diccionario `data` y utilizaremos el parámetro `index` de la función `DataFrame()` de `pandas`"
   ]
  },
  {
   "cell_type": "code",
   "execution_count": 5,
   "metadata": {
    "colab": {
     "base_uri": "https://localhost:8080/"
    },
    "executionInfo": {
     "elapsed": 22,
     "status": "ok",
     "timestamp": 1687098347225,
     "user": {
      "displayName": "Ainara Montoya",
      "userId": "04156984210870783133"
     },
     "user_tz": -120
    },
    "id": "I3oxHYOYGlrp",
    "outputId": "a1349aae-b8f8-476f-8880-485119d8f936",
    "tags": []
   },
   "outputs": [
    {
     "name": "stdout",
     "output_type": "stream",
     "text": [
      "      x   y\n",
      "obs1  1   2\n",
      "obs2  2   4\n",
      "obs3  3   6\n",
      "obs4  4   8\n",
      "obs5  5  10\n"
     ]
    }
   ],
   "source": [
    "df3 = pd.DataFrame(data = data, index = [\"obs1\", \"obs2\", \"obs3\", \"obs4\", \"obs5\"])\n",
    "print(df3)"
   ]
  },
  {
   "cell_type": "markdown",
   "metadata": {
    "id": "d9xyInznHI1z"
   },
   "source": [
    "En este caso, al parámetro `index` le hemos pasado una lista con 5 strings.\n",
    "\n",
    "**¡Cuidado!.** Al construir un dataframe a partir de un diccionario (o cualquier objeto de `Python` que contenga algún diccionario), los nombres de las columnas son las claves del diccionario. Si quisiésemos cambiarlos con el parámetro `columns` directamente, nos pasaría lo siguiente:"
   ]
  },
  {
   "cell_type": "code",
   "execution_count": 6,
   "metadata": {
    "colab": {
     "base_uri": "https://localhost:8080/"
    },
    "executionInfo": {
     "elapsed": 22,
     "status": "ok",
     "timestamp": 1687098347226,
     "user": {
      "displayName": "Ainara Montoya",
      "userId": "04156984210870783133"
     },
     "user_tz": -120
    },
    "id": "6R5KdedOhKl7",
    "outputId": "25130904-304a-498e-abe1-602929071a36",
    "tags": []
   },
   "outputs": [
    {
     "name": "stdout",
     "output_type": "stream",
     "text": [
      "   a  b    c\n",
      "0  1  4  NaN\n",
      "1  2  5  NaN\n",
      "2  3  6  NaN\n"
     ]
    }
   ],
   "source": [
    "d = {\"a\": [1, 2, 3],\n",
    "     \"b\": [4, 5, 6],\n",
    "     \"b1\": [7, 8, 9]}\n",
    "\n",
    "df = pd.DataFrame(d, columns = [\"a\", \"b\", \"c\"])\n",
    "print(df)"
   ]
  },
  {
   "cell_type": "markdown",
   "metadata": {
    "id": "lVjW7VwvdK74"
   },
   "source": [
    "**Observación.** Si queremos crear un dataframe a partir de un diccionario, pero queremos menos columnas que total de claves tiene el diccionario, no hay problema, siempre y cuando los nombres de las columnas indicados coincidan con las claves del diccionario"
   ]
  },
  {
   "cell_type": "code",
   "execution_count": 7,
   "metadata": {
    "colab": {
     "base_uri": "https://localhost:8080/"
    },
    "executionInfo": {
     "elapsed": 20,
     "status": "ok",
     "timestamp": 1687098347226,
     "user": {
      "displayName": "Ainara Montoya",
      "userId": "04156984210870783133"
     },
     "user_tz": -120
    },
    "id": "Dn3BDqaydb49",
    "outputId": "baeac56e-a1a0-4924-8d4a-296ea9110129",
    "tags": []
   },
   "outputs": [
    {
     "name": "stdout",
     "output_type": "stream",
     "text": [
      "   a  b\n",
      "0  1  4\n",
      "1  2  5\n",
      "2  3  6\n"
     ]
    }
   ],
   "source": [
    "# Construimos un dataframe solo con las columnas a y b del diccionario d\n",
    "df = pd.DataFrame(d, columns = [\"a\", \"b\"])\n",
    "print(df)"
   ]
  },
  {
   "cell_type": "markdown",
   "metadata": {
    "id": "GJQ0IW1IHlnY"
   },
   "source": [
    "---\n",
    "\n",
    "#### Ejemplo 4\n",
    "\n",
    "Vamos a crear el mismo dataframe de 5 filas y 2 columnas, esta vez a partir de una lista de diccionarios."
   ]
  },
  {
   "cell_type": "code",
   "execution_count": 8,
   "metadata": {
    "colab": {
     "base_uri": "https://localhost:8080/"
    },
    "executionInfo": {
     "elapsed": 18,
     "status": "ok",
     "timestamp": 1687098347226,
     "user": {
      "displayName": "Ainara Montoya",
      "userId": "04156984210870783133"
     },
     "user_tz": -120
    },
    "id": "ysI7SD72HrtT",
    "outputId": "1d259fdf-48ac-4b26-ebe2-7f678ff5b64c",
    "tags": []
   },
   "outputs": [
    {
     "name": "stdout",
     "output_type": "stream",
     "text": [
      "   x   y\n",
      "0  1   2\n",
      "1  2   4\n",
      "2  3   6\n",
      "3  4   8\n",
      "4  5  10\n"
     ]
    }
   ],
   "source": [
    "data = [{\"x\": 1, \"y\": 2},\n",
    "        {\"x\": 2, \"y\": 4},\n",
    "        {\"x\": 3, \"y\": 6},\n",
    "        {\"x\": 4, \"y\": 8},\n",
    "        {\"x\": 5, \"y\": 10}]\n",
    "df4 = pd.DataFrame(data = data)\n",
    "print(df4)"
   ]
  },
  {
   "cell_type": "markdown",
   "metadata": {
    "id": "NTFXFO9rJAX9"
   },
   "source": [
    "---\n",
    "\n",
    "#### Ejemplo 5\n",
    "\n",
    "Incluso podemos crear un dataframe haciendo uso de la función `zip()`.\n",
    "\n",
    "Para ello, a partir de dos listas, creamos una lista de tuplas, que es la que proporcionamos al parámetro `data` de la función `DataFrame()` para construir el dataframe."
   ]
  },
  {
   "cell_type": "code",
   "execution_count": 9,
   "metadata": {
    "colab": {
     "base_uri": "https://localhost:8080/"
    },
    "executionInfo": {
     "elapsed": 18,
     "status": "ok",
     "timestamp": 1687098347227,
     "user": {
      "displayName": "Ainara Montoya",
      "userId": "04156984210870783133"
     },
     "user_tz": -120
    },
    "id": "jL_afP7TJRC9",
    "outputId": "d8360fc6-f67d-406e-8f42-1db133d3b060",
    "tags": []
   },
   "outputs": [
    {
     "name": "stdout",
     "output_type": "stream",
     "text": [
      "[(1, 2), (2, 4), (3, 6), (4, 8), (5, 10)]\n"
     ]
    }
   ],
   "source": [
    "x = [1, 2, 3, 4, 5]\n",
    "y = [2, 4, 6, 8, 10]\n",
    "\n",
    "data = list(zip(x, y))\n",
    "print(data)"
   ]
  },
  {
   "cell_type": "code",
   "execution_count": 10,
   "metadata": {
    "colab": {
     "base_uri": "https://localhost:8080/"
    },
    "executionInfo": {
     "elapsed": 16,
     "status": "ok",
     "timestamp": 1687098347227,
     "user": {
      "displayName": "Ainara Montoya",
      "userId": "04156984210870783133"
     },
     "user_tz": -120
    },
    "id": "91QYVOZka3mH",
    "outputId": "06a201a7-f23a-496e-898d-c626256c2148",
    "tags": []
   },
   "outputs": [
    {
     "name": "stdout",
     "output_type": "stream",
     "text": [
      "   x   y\n",
      "0  1   2\n",
      "1  2   4\n",
      "2  3   6\n",
      "3  4   8\n",
      "4  5  10\n"
     ]
    }
   ],
   "source": [
    "df5 = pd.DataFrame(data, columns = [\"x\", \"y\"])\n",
    "print(df5)"
   ]
  },
  {
   "cell_type": "markdown",
   "metadata": {
    "id": "3xiB1bfy7D9S"
   },
   "source": [
    "### Dimensiones del dataframe\n",
    "\n",
    "Con el método `.shape` podemos calcular las dimensiones (número de filas y columnas) del dataframe."
   ]
  },
  {
   "cell_type": "code",
   "execution_count": 11,
   "metadata": {
    "colab": {
     "base_uri": "https://localhost:8080/"
    },
    "executionInfo": {
     "elapsed": 12,
     "status": "ok",
     "timestamp": 1687098347228,
     "user": {
      "displayName": "Ainara Montoya",
      "userId": "04156984210870783133"
     },
     "user_tz": -120
    },
    "id": "bwhQk0cg0tcc",
    "outputId": "a23bcf04-2855-43d5-f3c4-1afb2eb7332d",
    "tags": []
   },
   "outputs": [
    {
     "data": {
      "text/plain": [
       "(5, 2)"
      ]
     },
     "execution_count": 11,
     "metadata": {},
     "output_type": "execute_result"
    }
   ],
   "source": [
    "df5.shape"
   ]
  },
  {
   "cell_type": "markdown",
   "metadata": {
    "id": "pFVM6qtl5Kny"
   },
   "source": [
    "Como resultado obtenemos una tupla donde el primer elemento es el número de filas, que en nuestro caso es 5, mientras que el segundo elemento es el número de columnas, que en nuestro ejemplo era 2."
   ]
  },
  {
   "cell_type": "code",
   "execution_count": 12,
   "metadata": {
    "colab": {
     "base_uri": "https://localhost:8080/"
    },
    "executionInfo": {
     "elapsed": 10,
     "status": "ok",
     "timestamp": 1687098347228,
     "user": {
      "displayName": "Ainara Montoya",
      "userId": "04156984210870783133"
     },
     "user_tz": -120
    },
    "id": "XhPq7Rhh5Fa0",
    "outputId": "6793bf84-275b-47ac-ae88-824a4ec8034f",
    "tags": []
   },
   "outputs": [
    {
     "name": "stdout",
     "output_type": "stream",
     "text": [
      "El número de filas de df es 5\n",
      "El número de columnas de df es 2\n"
     ]
    }
   ],
   "source": [
    "nrows = df5.shape[0]\n",
    "ncols = df5.shape[1]\n",
    "print(\"El número de filas de df es\", nrows)\n",
    "print(\"El número de columnas de df es\", ncols)"
   ]
  },
  {
   "cell_type": "markdown",
   "metadata": {
    "id": "0f6xlsMwoRI7"
   },
   "source": [
    "Con el método `.size` calculamos el número total de valores que tienes el dataframe (número de filas por número de columnas)"
   ]
  },
  {
   "cell_type": "code",
   "execution_count": 13,
   "metadata": {
    "colab": {
     "base_uri": "https://localhost:8080/"
    },
    "executionInfo": {
     "elapsed": 9,
     "status": "ok",
     "timestamp": 1687098347228,
     "user": {
      "displayName": "Ainara Montoya",
      "userId": "04156984210870783133"
     },
     "user_tz": -120
    },
    "id": "rRU9BaF3oXWt",
    "outputId": "347669c6-ff82-457a-b352-f1aea9fed2a8",
    "tags": []
   },
   "outputs": [
    {
     "data": {
      "text/plain": [
       "10"
      ]
     },
     "execution_count": 13,
     "metadata": {},
     "output_type": "execute_result"
    }
   ],
   "source": [
    "df5.size"
   ]
  },
  {
   "cell_type": "code",
   "execution_count": 13,
   "metadata": {
    "colab": {
     "base_uri": "https://localhost:8080/"
    },
    "executionInfo": {
     "elapsed": 476,
     "status": "ok",
     "timestamp": 1687098347696,
     "user": {
      "displayName": "Ainara Montoya",
      "userId": "04156984210870783133"
     },
     "user_tz": -120
    },
    "id": "JYXYrdSbocIM",
    "outputId": "08709b0a-e707-42ee-cd70-1ab6efd81b91",
    "tags": []
   },
   "outputs": [
    {
     "data": {
      "text/plain": [
       "True"
      ]
     },
     "execution_count": 13,
     "metadata": {},
     "output_type": "execute_result"
    }
   ],
   "source": [
    "df5.shape[0] * df5.shape[1] == df5.size"
   ]
  },
  {
   "cell_type": "markdown",
   "metadata": {
    "id": "qkBbRgoboq1H"
   },
   "source": [
    "Finalmente, con el método `.ndim` calculamos el número de dimensiones que tiene el dataframe. Éste siempre valdrá 2, pues consta de filas y columnas."
   ]
  },
  {
   "cell_type": "code",
   "execution_count": 14,
   "metadata": {
    "colab": {
     "base_uri": "https://localhost:8080/"
    },
    "executionInfo": {
     "elapsed": 47,
     "status": "ok",
     "timestamp": 1687098347696,
     "user": {
      "displayName": "Ainara Montoya",
      "userId": "04156984210870783133"
     },
     "user_tz": -120
    },
    "id": "fcHRVmduoz5f",
    "outputId": "0fdf7bc1-91aa-4327-ab22-9988b60900db",
    "tags": []
   },
   "outputs": [
    {
     "data": {
      "text/plain": [
       "2"
      ]
     },
     "execution_count": 14,
     "metadata": {},
     "output_type": "execute_result"
    }
   ],
   "source": [
    "df5.ndim"
   ]
  },
  {
   "cell_type": "markdown",
   "metadata": {
    "id": "6DnwlUzv_A_W"
   },
   "source": [
    "## Subdataframes\n",
    "\n",
    "**Subdataframe.** Dado un dataframe, un subdataframe no es más que la selección de unas filas y columnas en particular.\n",
    "\n",
    "\n"
   ]
  },
  {
   "cell_type": "markdown",
   "metadata": {
    "id": "IpLxwABND5ck"
   },
   "source": [
    "### Columnas\n",
    "\n",
    "Dado un dataframe, podemos seleccionar una columna en particular de diversas formas:\n",
    "\n",
    "- Indicando el nombre de la columna entre corchetes, `[]`\n",
    "- Con el método `.columns[]`\n",
    "- Con el método `.loc[]` (por nombre o etiqueta)\n",
    "- Con el método `.iloc[]` (por posición)"
   ]
  },
  {
   "cell_type": "code",
   "execution_count": 14,
   "metadata": {
    "executionInfo": {
     "elapsed": 46,
     "status": "ok",
     "timestamp": 1687098347697,
     "user": {
      "displayName": "Ainara Montoya",
      "userId": "04156984210870783133"
     },
     "user_tz": -120
    },
    "id": "pAbva67f5l8x",
    "tags": []
   },
   "outputs": [],
   "source": [
    "fdata = {\"Name\": [\"Alazne\", \"Bill\", \"Unai\", \"Miren\"],\n",
    "        \"Age\": [22, 28, 19, 34],\n",
    "        \"Pet\": [True, False, False, True],\n",
    "        \"Height\": [157, 190, 175, 164],\n",
    "        \"Birthday\": [\"Mayo\", \"Junio\", \"Agosto\", \"Diciembre\"]}\n",
    "df = pd.DataFrame(data = fdata, index = [\"obs1\", \"obs2\", \"obs3\", \"obs4\"])"
   ]
  },
  {
   "cell_type": "code",
   "execution_count": 15,
   "metadata": {
    "colab": {
     "base_uri": "https://localhost:8080/",
     "height": 175
    },
    "executionInfo": {
     "elapsed": 46,
     "status": "ok",
     "timestamp": 1687098347697,
     "user": {
      "displayName": "Ainara Montoya",
      "userId": "04156984210870783133"
     },
     "user_tz": -120
    },
    "id": "JcS8AClbttzJ",
    "outputId": "4d3afc66-6637-4a40-837c-033cebe02b8d",
    "tags": []
   },
   "outputs": [
    {
     "data": {
      "text/html": [
       "<div>\n",
       "<style scoped>\n",
       "    .dataframe tbody tr th:only-of-type {\n",
       "        vertical-align: middle;\n",
       "    }\n",
       "\n",
       "    .dataframe tbody tr th {\n",
       "        vertical-align: top;\n",
       "    }\n",
       "\n",
       "    .dataframe thead th {\n",
       "        text-align: right;\n",
       "    }\n",
       "</style>\n",
       "<table border=\"1\" class=\"dataframe\">\n",
       "  <thead>\n",
       "    <tr style=\"text-align: right;\">\n",
       "      <th></th>\n",
       "      <th>Name</th>\n",
       "      <th>Age</th>\n",
       "      <th>Pet</th>\n",
       "      <th>Height</th>\n",
       "      <th>Birthday</th>\n",
       "    </tr>\n",
       "  </thead>\n",
       "  <tbody>\n",
       "    <tr>\n",
       "      <th>obs1</th>\n",
       "      <td>Alazne</td>\n",
       "      <td>22</td>\n",
       "      <td>True</td>\n",
       "      <td>157</td>\n",
       "      <td>Mayo</td>\n",
       "    </tr>\n",
       "    <tr>\n",
       "      <th>obs2</th>\n",
       "      <td>Bill</td>\n",
       "      <td>28</td>\n",
       "      <td>False</td>\n",
       "      <td>190</td>\n",
       "      <td>Junio</td>\n",
       "    </tr>\n",
       "    <tr>\n",
       "      <th>obs3</th>\n",
       "      <td>Unai</td>\n",
       "      <td>19</td>\n",
       "      <td>False</td>\n",
       "      <td>175</td>\n",
       "      <td>Agosto</td>\n",
       "    </tr>\n",
       "    <tr>\n",
       "      <th>obs4</th>\n",
       "      <td>Miren</td>\n",
       "      <td>34</td>\n",
       "      <td>True</td>\n",
       "      <td>164</td>\n",
       "      <td>Diciembre</td>\n",
       "    </tr>\n",
       "  </tbody>\n",
       "</table>\n",
       "</div>"
      ],
      "text/plain": [
       "        Name  Age    Pet  Height   Birthday\n",
       "obs1  Alazne   22   True     157       Mayo\n",
       "obs2    Bill   28  False     190      Junio\n",
       "obs3    Unai   19  False     175     Agosto\n",
       "obs4   Miren   34   True     164  Diciembre"
      ]
     },
     "execution_count": 15,
     "metadata": {},
     "output_type": "execute_result"
    }
   ],
   "source": [
    "df"
   ]
  },
  {
   "cell_type": "code",
   "execution_count": 17,
   "metadata": {
    "colab": {
     "base_uri": "https://localhost:8080/"
    },
    "executionInfo": {
     "elapsed": 45,
     "status": "ok",
     "timestamp": 1687098347697,
     "user": {
      "displayName": "Ainara Montoya",
      "userId": "04156984210870783133"
     },
     "user_tz": -120
    },
    "id": "Qr9shpSqBnwl",
    "outputId": "945a93ec-66c7-41a1-c392-55668090e7b9",
    "tags": []
   },
   "outputs": [
    {
     "name": "stdout",
     "output_type": "stream",
     "text": [
      "obs1         Mayo\n",
      "obs2        Junio\n",
      "obs3       Agosto\n",
      "obs4    Diciembre\n",
      "Name: Birthday, dtype: object\n"
     ]
    }
   ],
   "source": [
    "# Seleccionamos la columna Birthday por nombre\n",
    "print(df[\"Birthday\"])"
   ]
  },
  {
   "cell_type": "code",
   "execution_count": 18,
   "metadata": {
    "colab": {
     "base_uri": "https://localhost:8080/"
    },
    "executionInfo": {
     "elapsed": 43,
     "status": "ok",
     "timestamp": 1687098347697,
     "user": {
      "displayName": "Ainara Montoya",
      "userId": "04156984210870783133"
     },
     "user_tz": -120
    },
    "id": "V5MuhltaiUhI",
    "outputId": "1c89864a-b0fc-4630-c1ab-b1ad648dad7e",
    "tags": []
   },
   "outputs": [
    {
     "name": "stdout",
     "output_type": "stream",
     "text": [
      "obs1         Mayo\n",
      "obs2        Junio\n",
      "obs3       Agosto\n",
      "obs4    Diciembre\n",
      "Name: Birthday, dtype: object\n"
     ]
    }
   ],
   "source": [
    "# Seleccionamos la columna Birthday con el método .columns[]\n",
    "print(df[df.columns[4]])"
   ]
  },
  {
   "cell_type": "code",
   "execution_count": 19,
   "metadata": {
    "colab": {
     "base_uri": "https://localhost:8080/"
    },
    "executionInfo": {
     "elapsed": 43,
     "status": "ok",
     "timestamp": 1687098347698,
     "user": {
      "displayName": "Ainara Montoya",
      "userId": "04156984210870783133"
     },
     "user_tz": -120
    },
    "id": "kdxXwOdhin38",
    "outputId": "f07a7eeb-ae51-46e7-c629-c645ce89e560",
    "tags": []
   },
   "outputs": [
    {
     "name": "stdout",
     "output_type": "stream",
     "text": [
      "obs1         Mayo\n",
      "obs2        Junio\n",
      "obs3       Agosto\n",
      "obs4    Diciembre\n",
      "Name: Birthday, dtype: object\n"
     ]
    }
   ],
   "source": [
    "# Seleccionamos la columna Birthday con el método .loc[]\n",
    "print(df.loc[:, \"Birthday\"])"
   ]
  },
  {
   "cell_type": "markdown",
   "metadata": {
    "id": "kVE4Fzt6i0tc"
   },
   "source": [
    "**Observación.** Al método `.loc[]` le hemos indicado que tome todas las filas con `:` en la primera posición y la columna `\"Birthday\"` directamente indicando su nommbre en la segunda posición."
   ]
  },
  {
   "cell_type": "code",
   "execution_count": 20,
   "metadata": {
    "colab": {
     "base_uri": "https://localhost:8080/"
    },
    "executionInfo": {
     "elapsed": 42,
     "status": "ok",
     "timestamp": 1687098347698,
     "user": {
      "displayName": "Ainara Montoya",
      "userId": "04156984210870783133"
     },
     "user_tz": -120
    },
    "id": "b_eJaoFTjcLe",
    "outputId": "af76ae0c-6727-417f-dfb4-686a5c329806",
    "tags": []
   },
   "outputs": [
    {
     "name": "stdout",
     "output_type": "stream",
     "text": [
      "obs1         Mayo\n",
      "obs2        Junio\n",
      "obs3       Agosto\n",
      "obs4    Diciembre\n",
      "Name: Birthday, dtype: object\n"
     ]
    }
   ],
   "source": [
    "# Seleccionamos la columna Birthday con el método .iloc[]\n",
    "print(df.iloc[:, 4])"
   ]
  },
  {
   "cell_type": "markdown",
   "metadata": {
    "id": "2zwhzm14juKv"
   },
   "source": [
    "**Observación.** Al método `.iloc[]` le hemos indicado que tome todas las filas con `:` en la primera posición y la columna `\"Birthday\"` indicando el índice que ocupa como columna."
   ]
  },
  {
   "cell_type": "markdown",
   "metadata": {
    "id": "W3lMDNFZCjJp"
   },
   "source": [
    "Si quisiésemos seleccionar más de una columna, podríamos hacerlo con todas las opciones enumeradas anteriormente, con ligeras modificaciones en algunos casos:"
   ]
  },
  {
   "cell_type": "code",
   "execution_count": 21,
   "metadata": {
    "colab": {
     "base_uri": "https://localhost:8080/"
    },
    "executionInfo": {
     "elapsed": 40,
     "status": "ok",
     "timestamp": 1687098347698,
     "user": {
      "displayName": "Ainara Montoya",
      "userId": "04156984210870783133"
     },
     "user_tz": -120
    },
    "id": "-9TEHYAb__2L",
    "outputId": "c6c8a262-1176-4a5f-a986-5d2bd4de32da",
    "tags": []
   },
   "outputs": [
    {
     "name": "stdout",
     "output_type": "stream",
     "text": [
      "        Name  Age\n",
      "obs1  Alazne   22\n",
      "obs2    Bill   28\n",
      "obs3    Unai   19\n",
      "obs4   Miren   34\n"
     ]
    }
   ],
   "source": [
    "# Seleccionamos las columnas Name y Age por nombre\n",
    "print(df[[\"Name\", \"Age\"]])"
   ]
  },
  {
   "cell_type": "code",
   "execution_count": 22,
   "metadata": {
    "colab": {
     "base_uri": "https://localhost:8080/"
    },
    "executionInfo": {
     "elapsed": 40,
     "status": "ok",
     "timestamp": 1687098347699,
     "user": {
      "displayName": "Ainara Montoya",
      "userId": "04156984210870783133"
     },
     "user_tz": -120
    },
    "id": "ySYYe4Q1kq_c",
    "outputId": "a989ad99-4fc6-4d21-89ff-4f598447ae9f",
    "tags": []
   },
   "outputs": [
    {
     "name": "stdout",
     "output_type": "stream",
     "text": [
      "        Name  Age\n",
      "obs1  Alazne   22\n",
      "obs2    Bill   28\n",
      "obs3    Unai   19\n",
      "obs4   Miren   34\n"
     ]
    }
   ],
   "source": [
    "# Seleccionamos las columnas Name y Age con el método .columns[]\n",
    "print(df[df.columns[[0, 1]]])"
   ]
  },
  {
   "cell_type": "markdown",
   "metadata": {
    "id": "Cgh2YNKx8S86"
   },
   "source": [
    "**Observación.** Además, como estas dos columnas están seguidas en nuestro dataframe, podríamos también usar la sintaxis siguiente no solo en esta opción, sino también en el resto de opciones que hemos visto."
   ]
  },
  {
   "cell_type": "code",
   "execution_count": 23,
   "metadata": {
    "colab": {
     "base_uri": "https://localhost:8080/"
    },
    "executionInfo": {
     "elapsed": 38,
     "status": "ok",
     "timestamp": 1687098347699,
     "user": {
      "displayName": "Ainara Montoya",
      "userId": "04156984210870783133"
     },
     "user_tz": -120
    },
    "id": "WyTEhpVD87UC",
    "outputId": "bd7c4b9e-2347-4622-db7d-f5e0a5bfa11c",
    "tags": []
   },
   "outputs": [
    {
     "name": "stdout",
     "output_type": "stream",
     "text": [
      "        Name  Age\n",
      "obs1  Alazne   22\n",
      "obs2    Bill   28\n",
      "obs3    Unai   19\n",
      "obs4   Miren   34\n"
     ]
    }
   ],
   "source": [
    "print(df[df.columns[0:2]])"
   ]
  },
  {
   "cell_type": "code",
   "execution_count": 24,
   "metadata": {
    "colab": {
     "base_uri": "https://localhost:8080/"
    },
    "executionInfo": {
     "elapsed": 37,
     "status": "ok",
     "timestamp": 1687098347699,
     "user": {
      "displayName": "Ainara Montoya",
      "userId": "04156984210870783133"
     },
     "user_tz": -120
    },
    "id": "HNgNTg3xk3Dm",
    "outputId": "efafde83-5874-4625-9b23-a96098c05f58",
    "tags": []
   },
   "outputs": [
    {
     "name": "stdout",
     "output_type": "stream",
     "text": [
      "        Name  Age\n",
      "obs1  Alazne   22\n",
      "obs2    Bill   28\n",
      "obs3    Unai   19\n",
      "obs4   Miren   34\n"
     ]
    }
   ],
   "source": [
    "# Seleccionamos las columnas Name y Age con el método .loc[]\n",
    "print(df.loc[:, [\"Name\", \"Age\"]])"
   ]
  },
  {
   "cell_type": "code",
   "execution_count": 25,
   "metadata": {
    "colab": {
     "base_uri": "https://localhost:8080/"
    },
    "executionInfo": {
     "elapsed": 35,
     "status": "ok",
     "timestamp": 1687098347699,
     "user": {
      "displayName": "Ainara Montoya",
      "userId": "04156984210870783133"
     },
     "user_tz": -120
    },
    "id": "avF57fxC9Eow",
    "outputId": "9c5e36b8-220c-443b-f3f9-a831c397a2cc",
    "tags": []
   },
   "outputs": [
    {
     "name": "stdout",
     "output_type": "stream",
     "text": [
      "        Name  Age\n",
      "obs1  Alazne   22\n",
      "obs2    Bill   28\n",
      "obs3    Unai   19\n",
      "obs4   Miren   34\n"
     ]
    }
   ],
   "source": [
    "print(df.loc[:, \"Name\":\"Age\"])"
   ]
  },
  {
   "cell_type": "markdown",
   "metadata": {
    "id": "WCb8qdq29Ro0"
   },
   "source": [
    "**¡Cuidado!** Como podemos ver, al usar `:` con strings, el indicado a la derecha sí que es incluido."
   ]
  },
  {
   "cell_type": "code",
   "execution_count": 26,
   "metadata": {
    "colab": {
     "base_uri": "https://localhost:8080/"
    },
    "executionInfo": {
     "elapsed": 35,
     "status": "ok",
     "timestamp": 1687098347700,
     "user": {
      "displayName": "Ainara Montoya",
      "userId": "04156984210870783133"
     },
     "user_tz": -120
    },
    "id": "GZVT0OVJk7oh",
    "outputId": "76e125f6-1cb1-41b6-f67f-3277501434c4",
    "tags": []
   },
   "outputs": [
    {
     "name": "stdout",
     "output_type": "stream",
     "text": [
      "        Name  Age\n",
      "obs1  Alazne   22\n",
      "obs2    Bill   28\n",
      "obs3    Unai   19\n",
      "obs4   Miren   34\n"
     ]
    }
   ],
   "source": [
    "# Seleccionamos las columnas Name y Age con el método .iloc[]\n",
    "print(df.iloc[:, [0, 1]])"
   ]
  },
  {
   "cell_type": "code",
   "execution_count": 27,
   "metadata": {
    "colab": {
     "base_uri": "https://localhost:8080/"
    },
    "executionInfo": {
     "elapsed": 33,
     "status": "ok",
     "timestamp": 1687098347700,
     "user": {
      "displayName": "Ainara Montoya",
      "userId": "04156984210870783133"
     },
     "user_tz": -120
    },
    "id": "PzzCldja9Lem",
    "outputId": "b878ad46-7818-4fb8-92d7-9244bcb51ec1",
    "tags": []
   },
   "outputs": [
    {
     "name": "stdout",
     "output_type": "stream",
     "text": [
      "        Name  Age\n",
      "obs1  Alazne   22\n",
      "obs2    Bill   28\n",
      "obs3    Unai   19\n",
      "obs4   Miren   34\n"
     ]
    }
   ],
   "source": [
    "print(df.iloc[:, 0:2])"
   ]
  },
  {
   "cell_type": "markdown",
   "metadata": {
    "id": "pMs1hrzkAZDy"
   },
   "source": [
    "### Filas\n",
    "\n",
    "Dado un dataframe, podemos seleccionar una fila en particular de diversas formas:\n",
    "\n",
    "- Con el método `.loc[]` (por nombre o etiqueta)\n",
    "- Con el método `.iloc[]` (por posición)\n"
   ]
  },
  {
   "cell_type": "code",
   "execution_count": 28,
   "metadata": {
    "colab": {
     "base_uri": "https://localhost:8080/"
    },
    "executionInfo": {
     "elapsed": 32,
     "status": "ok",
     "timestamp": 1687098347700,
     "user": {
      "displayName": "Ainara Montoya",
      "userId": "04156984210870783133"
     },
     "user_tz": -120
    },
    "id": "fiF6cG_YANvS",
    "outputId": "3f5acf86-8497-4717-c0b2-5a9680b64b85",
    "tags": []
   },
   "outputs": [
    {
     "name": "stdout",
     "output_type": "stream",
     "text": [
      "Name        Alazne\n",
      "Age             22\n",
      "Pet           True\n",
      "Height         157\n",
      "Birthday      Mayo\n",
      "Name: obs1, dtype: object\n"
     ]
    }
   ],
   "source": [
    "# Seleccionamos la primera observación (obs1) con el método .loc[]\n",
    "print(df.loc[\"obs1\"])"
   ]
  },
  {
   "cell_type": "code",
   "execution_count": 29,
   "metadata": {
    "colab": {
     "base_uri": "https://localhost:8080/"
    },
    "executionInfo": {
     "elapsed": 31,
     "status": "ok",
     "timestamp": 1687098347701,
     "user": {
      "displayName": "Ainara Montoya",
      "userId": "04156984210870783133"
     },
     "user_tz": -120
    },
    "id": "y7bMo_h4zXUv",
    "outputId": "69d14afd-6725-4b92-b632-01e46b879238",
    "tags": []
   },
   "outputs": [
    {
     "data": {
      "text/plain": [
       "pandas.core.series.Series"
      ]
     },
     "execution_count": 29,
     "metadata": {},
     "output_type": "execute_result"
    }
   ],
   "source": [
    "type(df.loc[\"obs1\"])"
   ]
  },
  {
   "cell_type": "code",
   "execution_count": 30,
   "metadata": {
    "colab": {
     "base_uri": "https://localhost:8080/"
    },
    "executionInfo": {
     "elapsed": 30,
     "status": "ok",
     "timestamp": 1687098347701,
     "user": {
      "displayName": "Ainara Montoya",
      "userId": "04156984210870783133"
     },
     "user_tz": -120
    },
    "id": "03TdxNIMCjSy",
    "outputId": "09b7f3bb-5b15-4111-982f-29af9d9540ae",
    "tags": []
   },
   "outputs": [
    {
     "name": "stdout",
     "output_type": "stream",
     "text": [
      "Name            Miren\n",
      "Age                34\n",
      "Pet              True\n",
      "Height            164\n",
      "Birthday    Diciembre\n",
      "Name: obs4, dtype: object\n"
     ]
    }
   ],
   "source": [
    "# Seleccionamos la última observación con el método .iloc[]\n",
    "print(df.iloc[-1])"
   ]
  },
  {
   "cell_type": "markdown",
   "metadata": {
    "id": "V5r_-BGvDPON"
   },
   "source": [
    "Si quisiésemos seleccionar más de una fila, podríamos hacerlo con todas las opciones enumeradas anteriormente, con ligeras modificaciones en algunos casos:"
   ]
  },
  {
   "cell_type": "code",
   "execution_count": 31,
   "metadata": {
    "colab": {
     "base_uri": "https://localhost:8080/"
    },
    "executionInfo": {
     "elapsed": 29,
     "status": "ok",
     "timestamp": 1687098347701,
     "user": {
      "displayName": "Ainara Montoya",
      "userId": "04156984210870783133"
     },
     "user_tz": -120
    },
    "id": "F1QV_QGOApNp",
    "outputId": "2664a766-5caf-4c35-cf50-da16fa5872b0",
    "tags": []
   },
   "outputs": [
    {
     "name": "stdout",
     "output_type": "stream",
     "text": [
      "      Name  Age    Pet  Height Birthday\n",
      "obs2  Bill   28  False     190    Junio\n",
      "obs3  Unai   19  False     175   Agosto\n"
     ]
    }
   ],
   "source": [
    "# Seleccionamos la segunda y tercera observación con el método .loc[]\n",
    "print(df.loc[[\"obs2\",\"obs3\"]])"
   ]
  },
  {
   "cell_type": "markdown",
   "metadata": {
    "id": "YGkfAP8dGDm6"
   },
   "source": [
    "**Observación.** Además, como estas dos filas están seguidas en nuestro dataframe, podríamos también usar la sintaxis siguiente no solo en esta opción, sino también en el resto de opciones que hemos visto."
   ]
  },
  {
   "cell_type": "code",
   "execution_count": 32,
   "metadata": {
    "colab": {
     "base_uri": "https://localhost:8080/"
    },
    "executionInfo": {
     "elapsed": 27,
     "status": "ok",
     "timestamp": 1687098347701,
     "user": {
      "displayName": "Ainara Montoya",
      "userId": "04156984210870783133"
     },
     "user_tz": -120
    },
    "id": "R5RuVXu0DJdv",
    "outputId": "bbc4eb3b-a28f-4c9f-cc32-9dd95d8305bb",
    "tags": []
   },
   "outputs": [
    {
     "name": "stdout",
     "output_type": "stream",
     "text": [
      "      Name  Age    Pet  Height Birthday\n",
      "obs2  Bill   28  False     190    Junio\n",
      "obs3  Unai   19  False     175   Agosto\n"
     ]
    }
   ],
   "source": [
    "print(df.loc[\"obs2\":\"obs3\"])"
   ]
  },
  {
   "cell_type": "code",
   "execution_count": 33,
   "metadata": {
    "colab": {
     "base_uri": "https://localhost:8080/"
    },
    "executionInfo": {
     "elapsed": 27,
     "status": "ok",
     "timestamp": 1687098347702,
     "user": {
      "displayName": "Ainara Montoya",
      "userId": "04156984210870783133"
     },
     "user_tz": -120
    },
    "id": "cO2e2wthGHih",
    "outputId": "4228eb2d-c364-41bd-e402-6448a78eb688",
    "tags": []
   },
   "outputs": [
    {
     "name": "stdout",
     "output_type": "stream",
     "text": [
      "      Name  Age    Pet  Height Birthday\n",
      "obs2  Bill   28  False     190    Junio\n",
      "obs3  Unai   19  False     175   Agosto\n"
     ]
    }
   ],
   "source": [
    "# Seleccionamos la segunda y tercera observación con el método .iloc[]\n",
    "print(df.iloc[[1, 2]])"
   ]
  },
  {
   "cell_type": "code",
   "execution_count": 34,
   "metadata": {
    "colab": {
     "base_uri": "https://localhost:8080/"
    },
    "executionInfo": {
     "elapsed": 26,
     "status": "ok",
     "timestamp": 1687098347702,
     "user": {
      "displayName": "Ainara Montoya",
      "userId": "04156984210870783133"
     },
     "user_tz": -120
    },
    "id": "kHYKLgPtGbZ0",
    "outputId": "112e03a2-2f4c-44cf-fc6a-a14066f9f3b5",
    "tags": []
   },
   "outputs": [
    {
     "name": "stdout",
     "output_type": "stream",
     "text": [
      "      Name  Age    Pet  Height Birthday\n",
      "obs2  Bill   28  False     190    Junio\n",
      "obs3  Unai   19  False     175   Agosto\n"
     ]
    }
   ],
   "source": [
    "print(df.iloc[1:3])"
   ]
  },
  {
   "cell_type": "markdown",
   "metadata": {
    "id": "WZUgKnO2GouS"
   },
   "source": [
    "### Filas y columnas\n",
    "\n",
    "Para seleccionar un elemento en concreto, hay que indicar la fila y la columna y lo podemos hacer de dos formas:\n",
    "\n",
    "- Con el método `.loc[]` (por nombre o etiqueta)\n",
    "- Con el método `.iloc[]` (por índice)"
   ]
  },
  {
   "cell_type": "code",
   "execution_count": 35,
   "metadata": {
    "colab": {
     "base_uri": "https://localhost:8080/"
    },
    "executionInfo": {
     "elapsed": 24,
     "status": "ok",
     "timestamp": 1687098347702,
     "user": {
      "displayName": "Ainara Montoya",
      "userId": "04156984210870783133"
     },
     "user_tz": -120
    },
    "id": "9fyuXkNqG7q1",
    "outputId": "16a1c138-2061-41b4-f0f0-5eaa68bef4c6",
    "tags": []
   },
   "outputs": [
    {
     "name": "stdout",
     "output_type": "stream",
     "text": [
      "28\n"
     ]
    }
   ],
   "source": [
    "# Seleccionamos la edad de la segunda observación con el método .loc[]\n",
    "print(df.loc[\"obs2\", \"Age\"])"
   ]
  },
  {
   "cell_type": "code",
   "execution_count": 36,
   "metadata": {
    "colab": {
     "base_uri": "https://localhost:8080/"
    },
    "executionInfo": {
     "elapsed": 24,
     "status": "ok",
     "timestamp": 1687098347703,
     "user": {
      "displayName": "Ainara Montoya",
      "userId": "04156984210870783133"
     },
     "user_tz": -120
    },
    "id": "ygBCSbl8HGXR",
    "outputId": "3b6c95ba-7b0b-4c9e-d8a8-340a47520d34",
    "tags": []
   },
   "outputs": [
    {
     "name": "stdout",
     "output_type": "stream",
     "text": [
      "28\n"
     ]
    }
   ],
   "source": [
    "# Seleccionamos la edad de la segunda observación con el método .iloc[]\n",
    "print(df.iloc[1, 1])"
   ]
  },
  {
   "cell_type": "markdown",
   "metadata": {
    "id": "H0r-SDLNHQEp"
   },
   "source": [
    "Si queremos seleccionar un subconjunto de filas y columnas, podemos utilizar los dos métodos anteriores"
   ]
  },
  {
   "cell_type": "code",
   "execution_count": 37,
   "metadata": {
    "colab": {
     "base_uri": "https://localhost:8080/"
    },
    "executionInfo": {
     "elapsed": 22,
     "status": "ok",
     "timestamp": 1687098347703,
     "user": {
      "displayName": "Ainara Montoya",
      "userId": "04156984210870783133"
     },
     "user_tz": -120
    },
    "id": "XMhhTmUBHV7N",
    "outputId": "29283eb5-c456-4216-a63e-39a6cee312a8",
    "tags": []
   },
   "outputs": [
    {
     "name": "stdout",
     "output_type": "stream",
     "text": [
      "      Name Birthday\n",
      "obs2  Bill    Junio\n",
      "obs3  Unai   Agosto\n"
     ]
    }
   ],
   "source": [
    "# Seleccionamos la segunda y tercera fila y las columnas nombre y cumpleaños\n",
    "# Con el método .loc[]\n",
    "print(df.loc[\"obs2\":\"obs3\", [\"Name\", \"Birthday\"]])"
   ]
  },
  {
   "cell_type": "code",
   "execution_count": 38,
   "metadata": {
    "colab": {
     "base_uri": "https://localhost:8080/"
    },
    "executionInfo": {
     "elapsed": 21,
     "status": "ok",
     "timestamp": 1687098347703,
     "user": {
      "displayName": "Ainara Montoya",
      "userId": "04156984210870783133"
     },
     "user_tz": -120
    },
    "id": "BWnsPa3dHxYE",
    "outputId": "ecf8ab8d-09ab-4c9a-f535-30384e5d0e5a",
    "tags": []
   },
   "outputs": [
    {
     "name": "stdout",
     "output_type": "stream",
     "text": [
      "      Name Birthday\n",
      "obs2  Bill    Junio\n",
      "obs3  Unai   Agosto\n"
     ]
    }
   ],
   "source": [
    "# Con el método .iloc[]\n",
    "print(df.iloc[1:3, [0, 4]])"
   ]
  },
  {
   "cell_type": "markdown",
   "metadata": {
    "id": "TTihV0RoiDGe"
   },
   "source": [
    "## Métodos de dataframes\n",
    "\n",
    "El método `.head()` sirve para visualizar las primeras filas del dataframe. Por defecto, se nos mostrarán las 5 primeras\n",
    "\n"
   ]
  },
  {
   "cell_type": "code",
   "execution_count": 39,
   "metadata": {
    "executionInfo": {
     "elapsed": 20,
     "status": "ok",
     "timestamp": 1687098347703,
     "user": {
      "displayName": "Ainara Montoya",
      "userId": "04156984210870783133"
     },
     "user_tz": -120
    },
    "id": "j-OlV-37uOq2",
    "tags": []
   },
   "outputs": [],
   "source": [
    "d = {\"fruit\": [\"sandía\", \"melón\", \"manzana\", \"cerezas\", \"plátano\", \"pera\", \"melocotón\", \"fresas\"],\n",
    "     \"count\": [1, 1, 6, 10, 3, 6, 4, 10]}\n",
    "\n",
    "df = pd.DataFrame(d)"
   ]
  },
  {
   "cell_type": "code",
   "execution_count": 40,
   "metadata": {
    "colab": {
     "base_uri": "https://localhost:8080/",
     "height": 206
    },
    "executionInfo": {
     "elapsed": 20,
     "status": "ok",
     "timestamp": 1687098347704,
     "user": {
      "displayName": "Ainara Montoya",
      "userId": "04156984210870783133"
     },
     "user_tz": -120
    },
    "id": "FyLoCSgmuRR2",
    "outputId": "70b56b77-c563-4330-f48e-0631f0d9acce",
    "tags": []
   },
   "outputs": [
    {
     "data": {
      "text/html": [
       "<div>\n",
       "<style scoped>\n",
       "    .dataframe tbody tr th:only-of-type {\n",
       "        vertical-align: middle;\n",
       "    }\n",
       "\n",
       "    .dataframe tbody tr th {\n",
       "        vertical-align: top;\n",
       "    }\n",
       "\n",
       "    .dataframe thead th {\n",
       "        text-align: right;\n",
       "    }\n",
       "</style>\n",
       "<table border=\"1\" class=\"dataframe\">\n",
       "  <thead>\n",
       "    <tr style=\"text-align: right;\">\n",
       "      <th></th>\n",
       "      <th>fruit</th>\n",
       "      <th>count</th>\n",
       "    </tr>\n",
       "  </thead>\n",
       "  <tbody>\n",
       "    <tr>\n",
       "      <th>0</th>\n",
       "      <td>sandía</td>\n",
       "      <td>1</td>\n",
       "    </tr>\n",
       "    <tr>\n",
       "      <th>1</th>\n",
       "      <td>melón</td>\n",
       "      <td>1</td>\n",
       "    </tr>\n",
       "    <tr>\n",
       "      <th>2</th>\n",
       "      <td>manzana</td>\n",
       "      <td>6</td>\n",
       "    </tr>\n",
       "    <tr>\n",
       "      <th>3</th>\n",
       "      <td>cerezas</td>\n",
       "      <td>10</td>\n",
       "    </tr>\n",
       "    <tr>\n",
       "      <th>4</th>\n",
       "      <td>plátano</td>\n",
       "      <td>3</td>\n",
       "    </tr>\n",
       "  </tbody>\n",
       "</table>\n",
       "</div>"
      ],
      "text/plain": [
       "     fruit  count\n",
       "0   sandía      1\n",
       "1    melón      1\n",
       "2  manzana      6\n",
       "3  cerezas     10\n",
       "4  plátano      3"
      ]
     },
     "execution_count": 40,
     "metadata": {},
     "output_type": "execute_result"
    }
   ],
   "source": [
    "df.head()"
   ]
  },
  {
   "cell_type": "markdown",
   "metadata": {
    "id": "_ASYV8dcuakX"
   },
   "source": [
    "Si queremos que se nos muestre un número determinado de filas, tenemos que indicarlo por parámetro:"
   ]
  },
  {
   "cell_type": "code",
   "execution_count": 41,
   "metadata": {
    "colab": {
     "base_uri": "https://localhost:8080/",
     "height": 143
    },
    "executionInfo": {
     "elapsed": 20,
     "status": "ok",
     "timestamp": 1687098347704,
     "user": {
      "displayName": "Ainara Montoya",
      "userId": "04156984210870783133"
     },
     "user_tz": -120
    },
    "id": "4UQXfyUXufvw",
    "outputId": "332baace-15df-4f49-9545-6c374beb8ba9",
    "tags": []
   },
   "outputs": [
    {
     "data": {
      "text/html": [
       "<div>\n",
       "<style scoped>\n",
       "    .dataframe tbody tr th:only-of-type {\n",
       "        vertical-align: middle;\n",
       "    }\n",
       "\n",
       "    .dataframe tbody tr th {\n",
       "        vertical-align: top;\n",
       "    }\n",
       "\n",
       "    .dataframe thead th {\n",
       "        text-align: right;\n",
       "    }\n",
       "</style>\n",
       "<table border=\"1\" class=\"dataframe\">\n",
       "  <thead>\n",
       "    <tr style=\"text-align: right;\">\n",
       "      <th></th>\n",
       "      <th>fruit</th>\n",
       "      <th>count</th>\n",
       "    </tr>\n",
       "  </thead>\n",
       "  <tbody>\n",
       "    <tr>\n",
       "      <th>0</th>\n",
       "      <td>sandía</td>\n",
       "      <td>1</td>\n",
       "    </tr>\n",
       "    <tr>\n",
       "      <th>1</th>\n",
       "      <td>melón</td>\n",
       "      <td>1</td>\n",
       "    </tr>\n",
       "    <tr>\n",
       "      <th>2</th>\n",
       "      <td>manzana</td>\n",
       "      <td>6</td>\n",
       "    </tr>\n",
       "  </tbody>\n",
       "</table>\n",
       "</div>"
      ],
      "text/plain": [
       "     fruit  count\n",
       "0   sandía      1\n",
       "1    melón      1\n",
       "2  manzana      6"
      ]
     },
     "execution_count": 41,
     "metadata": {},
     "output_type": "execute_result"
    }
   ],
   "source": [
    "df.head(3)"
   ]
  },
  {
   "cell_type": "code",
   "execution_count": 42,
   "metadata": {
    "colab": {
     "base_uri": "https://localhost:8080/",
     "height": 238
    },
    "executionInfo": {
     "elapsed": 613,
     "status": "ok",
     "timestamp": 1687098348298,
     "user": {
      "displayName": "Ainara Montoya",
      "userId": "04156984210870783133"
     },
     "user_tz": -120
    },
    "id": "LHZTZuZ2vNlf",
    "outputId": "9197454f-2bb9-42e9-fc78-284e51002f50",
    "tags": []
   },
   "outputs": [
    {
     "data": {
      "text/html": [
       "<div>\n",
       "<style scoped>\n",
       "    .dataframe tbody tr th:only-of-type {\n",
       "        vertical-align: middle;\n",
       "    }\n",
       "\n",
       "    .dataframe tbody tr th {\n",
       "        vertical-align: top;\n",
       "    }\n",
       "\n",
       "    .dataframe thead th {\n",
       "        text-align: right;\n",
       "    }\n",
       "</style>\n",
       "<table border=\"1\" class=\"dataframe\">\n",
       "  <thead>\n",
       "    <tr style=\"text-align: right;\">\n",
       "      <th></th>\n",
       "      <th>fruit</th>\n",
       "      <th>count</th>\n",
       "    </tr>\n",
       "  </thead>\n",
       "  <tbody>\n",
       "    <tr>\n",
       "      <th>0</th>\n",
       "      <td>sandía</td>\n",
       "      <td>1</td>\n",
       "    </tr>\n",
       "    <tr>\n",
       "      <th>1</th>\n",
       "      <td>melón</td>\n",
       "      <td>1</td>\n",
       "    </tr>\n",
       "    <tr>\n",
       "      <th>2</th>\n",
       "      <td>manzana</td>\n",
       "      <td>6</td>\n",
       "    </tr>\n",
       "    <tr>\n",
       "      <th>3</th>\n",
       "      <td>cerezas</td>\n",
       "      <td>10</td>\n",
       "    </tr>\n",
       "    <tr>\n",
       "      <th>4</th>\n",
       "      <td>plátano</td>\n",
       "      <td>3</td>\n",
       "    </tr>\n",
       "    <tr>\n",
       "      <th>5</th>\n",
       "      <td>pera</td>\n",
       "      <td>6</td>\n",
       "    </tr>\n",
       "  </tbody>\n",
       "</table>\n",
       "</div>"
      ],
      "text/plain": [
       "     fruit  count\n",
       "0   sandía      1\n",
       "1    melón      1\n",
       "2  manzana      6\n",
       "3  cerezas     10\n",
       "4  plátano      3\n",
       "5     pera      6"
      ]
     },
     "execution_count": 42,
     "metadata": {},
     "output_type": "execute_result"
    }
   ],
   "source": [
    "df.head(6)"
   ]
  },
  {
   "cell_type": "markdown",
   "metadata": {
    "id": "QEVTf0ODvam9"
   },
   "source": [
    "El método `.tail()` sirve para visualizar las últimas filas del dataframe. Por defecto, se nos mostrarán las 5 últimas"
   ]
  },
  {
   "cell_type": "code",
   "execution_count": 43,
   "metadata": {
    "colab": {
     "base_uri": "https://localhost:8080/",
     "height": 206
    },
    "executionInfo": {
     "elapsed": 63,
     "status": "ok",
     "timestamp": 1687098348299,
     "user": {
      "displayName": "Ainara Montoya",
      "userId": "04156984210870783133"
     },
     "user_tz": -120
    },
    "id": "jp2Hit--vePy",
    "outputId": "de89ebbe-b280-4ffd-ed02-7165f67d215c",
    "tags": []
   },
   "outputs": [
    {
     "data": {
      "text/html": [
       "<div>\n",
       "<style scoped>\n",
       "    .dataframe tbody tr th:only-of-type {\n",
       "        vertical-align: middle;\n",
       "    }\n",
       "\n",
       "    .dataframe tbody tr th {\n",
       "        vertical-align: top;\n",
       "    }\n",
       "\n",
       "    .dataframe thead th {\n",
       "        text-align: right;\n",
       "    }\n",
       "</style>\n",
       "<table border=\"1\" class=\"dataframe\">\n",
       "  <thead>\n",
       "    <tr style=\"text-align: right;\">\n",
       "      <th></th>\n",
       "      <th>fruit</th>\n",
       "      <th>count</th>\n",
       "    </tr>\n",
       "  </thead>\n",
       "  <tbody>\n",
       "    <tr>\n",
       "      <th>3</th>\n",
       "      <td>cerezas</td>\n",
       "      <td>10</td>\n",
       "    </tr>\n",
       "    <tr>\n",
       "      <th>4</th>\n",
       "      <td>plátano</td>\n",
       "      <td>3</td>\n",
       "    </tr>\n",
       "    <tr>\n",
       "      <th>5</th>\n",
       "      <td>pera</td>\n",
       "      <td>6</td>\n",
       "    </tr>\n",
       "    <tr>\n",
       "      <th>6</th>\n",
       "      <td>melocotón</td>\n",
       "      <td>4</td>\n",
       "    </tr>\n",
       "    <tr>\n",
       "      <th>7</th>\n",
       "      <td>fresas</td>\n",
       "      <td>10</td>\n",
       "    </tr>\n",
       "  </tbody>\n",
       "</table>\n",
       "</div>"
      ],
      "text/plain": [
       "       fruit  count\n",
       "3    cerezas     10\n",
       "4    plátano      3\n",
       "5       pera      6\n",
       "6  melocotón      4\n",
       "7     fresas     10"
      ]
     },
     "execution_count": 43,
     "metadata": {},
     "output_type": "execute_result"
    }
   ],
   "source": [
    "df.tail()"
   ]
  },
  {
   "cell_type": "markdown",
   "metadata": {
    "id": "agV-B6bOvfjY"
   },
   "source": [
    "Si queremos que se nos muestre un número determinado de filas, tenemos que indicarlo por parámetro:"
   ]
  },
  {
   "cell_type": "code",
   "execution_count": 44,
   "metadata": {
    "colab": {
     "base_uri": "https://localhost:8080/",
     "height": 143
    },
    "executionInfo": {
     "elapsed": 62,
     "status": "ok",
     "timestamp": 1687098348299,
     "user": {
      "displayName": "Ainara Montoya",
      "userId": "04156984210870783133"
     },
     "user_tz": -120
    },
    "id": "gW5hK9RyvjQv",
    "outputId": "05a23f99-f380-4318-ae7c-9ff71cb7c617",
    "tags": []
   },
   "outputs": [
    {
     "data": {
      "text/html": [
       "<div>\n",
       "<style scoped>\n",
       "    .dataframe tbody tr th:only-of-type {\n",
       "        vertical-align: middle;\n",
       "    }\n",
       "\n",
       "    .dataframe tbody tr th {\n",
       "        vertical-align: top;\n",
       "    }\n",
       "\n",
       "    .dataframe thead th {\n",
       "        text-align: right;\n",
       "    }\n",
       "</style>\n",
       "<table border=\"1\" class=\"dataframe\">\n",
       "  <thead>\n",
       "    <tr style=\"text-align: right;\">\n",
       "      <th></th>\n",
       "      <th>fruit</th>\n",
       "      <th>count</th>\n",
       "    </tr>\n",
       "  </thead>\n",
       "  <tbody>\n",
       "    <tr>\n",
       "      <th>5</th>\n",
       "      <td>pera</td>\n",
       "      <td>6</td>\n",
       "    </tr>\n",
       "    <tr>\n",
       "      <th>6</th>\n",
       "      <td>melocotón</td>\n",
       "      <td>4</td>\n",
       "    </tr>\n",
       "    <tr>\n",
       "      <th>7</th>\n",
       "      <td>fresas</td>\n",
       "      <td>10</td>\n",
       "    </tr>\n",
       "  </tbody>\n",
       "</table>\n",
       "</div>"
      ],
      "text/plain": [
       "       fruit  count\n",
       "5       pera      6\n",
       "6  melocotón      4\n",
       "7     fresas     10"
      ]
     },
     "execution_count": 44,
     "metadata": {},
     "output_type": "execute_result"
    }
   ],
   "source": [
    "df.tail(3)"
   ]
  },
  {
   "cell_type": "code",
   "execution_count": 45,
   "metadata": {
    "colab": {
     "base_uri": "https://localhost:8080/",
     "height": 238
    },
    "executionInfo": {
     "elapsed": 61,
     "status": "ok",
     "timestamp": 1687098348299,
     "user": {
      "displayName": "Ainara Montoya",
      "userId": "04156984210870783133"
     },
     "user_tz": -120
    },
    "id": "35TWHRKWvkzJ",
    "outputId": "682306ba-34ec-4164-ba5a-f0f7457ed456",
    "tags": []
   },
   "outputs": [
    {
     "data": {
      "text/html": [
       "<div>\n",
       "<style scoped>\n",
       "    .dataframe tbody tr th:only-of-type {\n",
       "        vertical-align: middle;\n",
       "    }\n",
       "\n",
       "    .dataframe tbody tr th {\n",
       "        vertical-align: top;\n",
       "    }\n",
       "\n",
       "    .dataframe thead th {\n",
       "        text-align: right;\n",
       "    }\n",
       "</style>\n",
       "<table border=\"1\" class=\"dataframe\">\n",
       "  <thead>\n",
       "    <tr style=\"text-align: right;\">\n",
       "      <th></th>\n",
       "      <th>fruit</th>\n",
       "      <th>count</th>\n",
       "    </tr>\n",
       "  </thead>\n",
       "  <tbody>\n",
       "    <tr>\n",
       "      <th>2</th>\n",
       "      <td>manzana</td>\n",
       "      <td>6</td>\n",
       "    </tr>\n",
       "    <tr>\n",
       "      <th>3</th>\n",
       "      <td>cerezas</td>\n",
       "      <td>10</td>\n",
       "    </tr>\n",
       "    <tr>\n",
       "      <th>4</th>\n",
       "      <td>plátano</td>\n",
       "      <td>3</td>\n",
       "    </tr>\n",
       "    <tr>\n",
       "      <th>5</th>\n",
       "      <td>pera</td>\n",
       "      <td>6</td>\n",
       "    </tr>\n",
       "    <tr>\n",
       "      <th>6</th>\n",
       "      <td>melocotón</td>\n",
       "      <td>4</td>\n",
       "    </tr>\n",
       "    <tr>\n",
       "      <th>7</th>\n",
       "      <td>fresas</td>\n",
       "      <td>10</td>\n",
       "    </tr>\n",
       "  </tbody>\n",
       "</table>\n",
       "</div>"
      ],
      "text/plain": [
       "       fruit  count\n",
       "2    manzana      6\n",
       "3    cerezas     10\n",
       "4    plátano      3\n",
       "5       pera      6\n",
       "6  melocotón      4\n",
       "7     fresas     10"
      ]
     },
     "execution_count": 45,
     "metadata": {},
     "output_type": "execute_result"
    }
   ],
   "source": [
    "df.tail(6)"
   ]
  },
  {
   "cell_type": "markdown",
   "metadata": {
    "id": "2OuoALJbtMvd"
   },
   "source": [
    "El método `.copy()` nos sirve para realizar una copia de un dataframe.\n",
    "\n",
    "Si simplemente realizamos"
   ]
  },
  {
   "cell_type": "code",
   "execution_count": 46,
   "metadata": {
    "executionInfo": {
     "elapsed": 62,
     "status": "ok",
     "timestamp": 1687098348300,
     "user": {
      "displayName": "Ainara Montoya",
      "userId": "04156984210870783133"
     },
     "user_tz": -120
    },
    "id": "a6Y_G7IstSsp",
    "tags": []
   },
   "outputs": [],
   "source": [
    "fruits = df"
   ]
  },
  {
   "cell_type": "markdown",
   "metadata": {
    "id": "zE7fCRcptWcg"
   },
   "source": [
    "El dataframe llamado `fruits` es solo una referencia del dataframe original `df` pues si realizamos algún cambio en `fruits`, se realiza también en `df`"
   ]
  },
  {
   "cell_type": "code",
   "execution_count": 47,
   "metadata": {
    "colab": {
     "base_uri": "https://localhost:8080/",
     "height": 300
    },
    "executionInfo": {
     "elapsed": 62,
     "status": "ok",
     "timestamp": 1687098348300,
     "user": {
      "displayName": "Ainara Montoya",
      "userId": "04156984210870783133"
     },
     "user_tz": -120
    },
    "id": "1sjIssb9tVzk",
    "outputId": "14a4619b-fa14-44da-e693-724878d54f0b",
    "tags": []
   },
   "outputs": [
    {
     "data": {
      "text/html": [
       "<div>\n",
       "<style scoped>\n",
       "    .dataframe tbody tr th:only-of-type {\n",
       "        vertical-align: middle;\n",
       "    }\n",
       "\n",
       "    .dataframe tbody tr th {\n",
       "        vertical-align: top;\n",
       "    }\n",
       "\n",
       "    .dataframe thead th {\n",
       "        text-align: right;\n",
       "    }\n",
       "</style>\n",
       "<table border=\"1\" class=\"dataframe\">\n",
       "  <thead>\n",
       "    <tr style=\"text-align: right;\">\n",
       "      <th></th>\n",
       "      <th>fruit</th>\n",
       "      <th>count</th>\n",
       "    </tr>\n",
       "  </thead>\n",
       "  <tbody>\n",
       "    <tr>\n",
       "      <th>0</th>\n",
       "      <td>sandía</td>\n",
       "      <td>1</td>\n",
       "    </tr>\n",
       "    <tr>\n",
       "      <th>1</th>\n",
       "      <td>melón</td>\n",
       "      <td>1</td>\n",
       "    </tr>\n",
       "    <tr>\n",
       "      <th>2</th>\n",
       "      <td>manzana</td>\n",
       "      <td>6</td>\n",
       "    </tr>\n",
       "    <tr>\n",
       "      <th>3</th>\n",
       "      <td>cerezas</td>\n",
       "      <td>10</td>\n",
       "    </tr>\n",
       "    <tr>\n",
       "      <th>4</th>\n",
       "      <td>plátano</td>\n",
       "      <td>3</td>\n",
       "    </tr>\n",
       "    <tr>\n",
       "      <th>5</th>\n",
       "      <td>pera</td>\n",
       "      <td>6</td>\n",
       "    </tr>\n",
       "    <tr>\n",
       "      <th>6</th>\n",
       "      <td>naranja</td>\n",
       "      <td>4</td>\n",
       "    </tr>\n",
       "    <tr>\n",
       "      <th>7</th>\n",
       "      <td>fresas</td>\n",
       "      <td>10</td>\n",
       "    </tr>\n",
       "  </tbody>\n",
       "</table>\n",
       "</div>"
      ],
      "text/plain": [
       "     fruit  count\n",
       "0   sandía      1\n",
       "1    melón      1\n",
       "2  manzana      6\n",
       "3  cerezas     10\n",
       "4  plátano      3\n",
       "5     pera      6\n",
       "6  naranja      4\n",
       "7   fresas     10"
      ]
     },
     "execution_count": 47,
     "metadata": {},
     "output_type": "execute_result"
    }
   ],
   "source": [
    "fruits.iloc[6, 0] = \"naranja\"\n",
    "fruits"
   ]
  },
  {
   "cell_type": "code",
   "execution_count": 48,
   "metadata": {
    "colab": {
     "base_uri": "https://localhost:8080/",
     "height": 300
    },
    "executionInfo": {
     "elapsed": 61,
     "status": "ok",
     "timestamp": 1687098348300,
     "user": {
      "displayName": "Ainara Montoya",
      "userId": "04156984210870783133"
     },
     "user_tz": -120
    },
    "id": "qWhG8llytu7U",
    "outputId": "5c9bba97-0a4a-45a8-8b30-90bb20028e47",
    "tags": []
   },
   "outputs": [
    {
     "data": {
      "text/html": [
       "<div>\n",
       "<style scoped>\n",
       "    .dataframe tbody tr th:only-of-type {\n",
       "        vertical-align: middle;\n",
       "    }\n",
       "\n",
       "    .dataframe tbody tr th {\n",
       "        vertical-align: top;\n",
       "    }\n",
       "\n",
       "    .dataframe thead th {\n",
       "        text-align: right;\n",
       "    }\n",
       "</style>\n",
       "<table border=\"1\" class=\"dataframe\">\n",
       "  <thead>\n",
       "    <tr style=\"text-align: right;\">\n",
       "      <th></th>\n",
       "      <th>fruit</th>\n",
       "      <th>count</th>\n",
       "    </tr>\n",
       "  </thead>\n",
       "  <tbody>\n",
       "    <tr>\n",
       "      <th>0</th>\n",
       "      <td>sandía</td>\n",
       "      <td>1</td>\n",
       "    </tr>\n",
       "    <tr>\n",
       "      <th>1</th>\n",
       "      <td>melón</td>\n",
       "      <td>1</td>\n",
       "    </tr>\n",
       "    <tr>\n",
       "      <th>2</th>\n",
       "      <td>manzana</td>\n",
       "      <td>6</td>\n",
       "    </tr>\n",
       "    <tr>\n",
       "      <th>3</th>\n",
       "      <td>cerezas</td>\n",
       "      <td>10</td>\n",
       "    </tr>\n",
       "    <tr>\n",
       "      <th>4</th>\n",
       "      <td>plátano</td>\n",
       "      <td>3</td>\n",
       "    </tr>\n",
       "    <tr>\n",
       "      <th>5</th>\n",
       "      <td>pera</td>\n",
       "      <td>6</td>\n",
       "    </tr>\n",
       "    <tr>\n",
       "      <th>6</th>\n",
       "      <td>naranja</td>\n",
       "      <td>4</td>\n",
       "    </tr>\n",
       "    <tr>\n",
       "      <th>7</th>\n",
       "      <td>fresas</td>\n",
       "      <td>10</td>\n",
       "    </tr>\n",
       "  </tbody>\n",
       "</table>\n",
       "</div>"
      ],
      "text/plain": [
       "     fruit  count\n",
       "0   sandía      1\n",
       "1    melón      1\n",
       "2  manzana      6\n",
       "3  cerezas     10\n",
       "4  plátano      3\n",
       "5     pera      6\n",
       "6  naranja      4\n",
       "7   fresas     10"
      ]
     },
     "execution_count": 48,
     "metadata": {},
     "output_type": "execute_result"
    }
   ],
   "source": [
    "df"
   ]
  },
  {
   "cell_type": "markdown",
   "metadata": {
    "id": "pupjqFbTt4JP"
   },
   "source": [
    "En cambio, si `fruits` es definido como"
   ]
  },
  {
   "cell_type": "code",
   "execution_count": 49,
   "metadata": {
    "executionInfo": {
     "elapsed": 60,
     "status": "ok",
     "timestamp": 1687098348300,
     "user": {
      "displayName": "Ainara Montoya",
      "userId": "04156984210870783133"
     },
     "user_tz": -120
    },
    "id": "kTCMd_C3t3Ay",
    "tags": []
   },
   "outputs": [],
   "source": [
    "fruits = df.copy()"
   ]
  },
  {
   "cell_type": "markdown",
   "metadata": {
    "id": "cFzqXBlHt_94"
   },
   "source": [
    "entonces ahora sí es una copia independiente del dataframe original y por muchos cambios que hagamos sobre dicha copia, el original se mantiene intacto"
   ]
  },
  {
   "cell_type": "code",
   "execution_count": 50,
   "metadata": {
    "colab": {
     "base_uri": "https://localhost:8080/",
     "height": 300
    },
    "executionInfo": {
     "elapsed": 60,
     "status": "ok",
     "timestamp": 1687098348300,
     "user": {
      "displayName": "Ainara Montoya",
      "userId": "04156984210870783133"
     },
     "user_tz": -120
    },
    "id": "r-PR_s-QuHOz",
    "outputId": "716f7404-493a-4ac5-ef95-d5e609bf3a58",
    "tags": []
   },
   "outputs": [
    {
     "data": {
      "text/html": [
       "<div>\n",
       "<style scoped>\n",
       "    .dataframe tbody tr th:only-of-type {\n",
       "        vertical-align: middle;\n",
       "    }\n",
       "\n",
       "    .dataframe tbody tr th {\n",
       "        vertical-align: top;\n",
       "    }\n",
       "\n",
       "    .dataframe thead th {\n",
       "        text-align: right;\n",
       "    }\n",
       "</style>\n",
       "<table border=\"1\" class=\"dataframe\">\n",
       "  <thead>\n",
       "    <tr style=\"text-align: right;\">\n",
       "      <th></th>\n",
       "      <th>fruit</th>\n",
       "      <th>count</th>\n",
       "    </tr>\n",
       "  </thead>\n",
       "  <tbody>\n",
       "    <tr>\n",
       "      <th>0</th>\n",
       "      <td>sandía</td>\n",
       "      <td>1</td>\n",
       "    </tr>\n",
       "    <tr>\n",
       "      <th>1</th>\n",
       "      <td>melón</td>\n",
       "      <td>1</td>\n",
       "    </tr>\n",
       "    <tr>\n",
       "      <th>2</th>\n",
       "      <td>manzana</td>\n",
       "      <td>6</td>\n",
       "    </tr>\n",
       "    <tr>\n",
       "      <th>3</th>\n",
       "      <td>cerezas</td>\n",
       "      <td>10</td>\n",
       "    </tr>\n",
       "    <tr>\n",
       "      <th>4</th>\n",
       "      <td>plátano</td>\n",
       "      <td>3</td>\n",
       "    </tr>\n",
       "    <tr>\n",
       "      <th>5</th>\n",
       "      <td>pera</td>\n",
       "      <td>6</td>\n",
       "    </tr>\n",
       "    <tr>\n",
       "      <th>6</th>\n",
       "      <td>nectarina</td>\n",
       "      <td>4</td>\n",
       "    </tr>\n",
       "    <tr>\n",
       "      <th>7</th>\n",
       "      <td>fresas</td>\n",
       "      <td>10</td>\n",
       "    </tr>\n",
       "  </tbody>\n",
       "</table>\n",
       "</div>"
      ],
      "text/plain": [
       "       fruit  count\n",
       "0     sandía      1\n",
       "1      melón      1\n",
       "2    manzana      6\n",
       "3    cerezas     10\n",
       "4    plátano      3\n",
       "5       pera      6\n",
       "6  nectarina      4\n",
       "7     fresas     10"
      ]
     },
     "execution_count": 50,
     "metadata": {},
     "output_type": "execute_result"
    }
   ],
   "source": [
    "fruits.iloc[6, 0] = \"nectarina\"\n",
    "fruits"
   ]
  },
  {
   "cell_type": "code",
   "execution_count": 51,
   "metadata": {
    "colab": {
     "base_uri": "https://localhost:8080/",
     "height": 300
    },
    "executionInfo": {
     "elapsed": 61,
     "status": "ok",
     "timestamp": 1687098348301,
     "user": {
      "displayName": "Ainara Montoya",
      "userId": "04156984210870783133"
     },
     "user_tz": -120
    },
    "id": "QfYAVXznuLfn",
    "outputId": "ad027799-efc3-4234-de82-5e1e0cae23cd",
    "tags": []
   },
   "outputs": [
    {
     "data": {
      "text/html": [
       "<div>\n",
       "<style scoped>\n",
       "    .dataframe tbody tr th:only-of-type {\n",
       "        vertical-align: middle;\n",
       "    }\n",
       "\n",
       "    .dataframe tbody tr th {\n",
       "        vertical-align: top;\n",
       "    }\n",
       "\n",
       "    .dataframe thead th {\n",
       "        text-align: right;\n",
       "    }\n",
       "</style>\n",
       "<table border=\"1\" class=\"dataframe\">\n",
       "  <thead>\n",
       "    <tr style=\"text-align: right;\">\n",
       "      <th></th>\n",
       "      <th>fruit</th>\n",
       "      <th>count</th>\n",
       "    </tr>\n",
       "  </thead>\n",
       "  <tbody>\n",
       "    <tr>\n",
       "      <th>0</th>\n",
       "      <td>sandía</td>\n",
       "      <td>1</td>\n",
       "    </tr>\n",
       "    <tr>\n",
       "      <th>1</th>\n",
       "      <td>melón</td>\n",
       "      <td>1</td>\n",
       "    </tr>\n",
       "    <tr>\n",
       "      <th>2</th>\n",
       "      <td>manzana</td>\n",
       "      <td>6</td>\n",
       "    </tr>\n",
       "    <tr>\n",
       "      <th>3</th>\n",
       "      <td>cerezas</td>\n",
       "      <td>10</td>\n",
       "    </tr>\n",
       "    <tr>\n",
       "      <th>4</th>\n",
       "      <td>plátano</td>\n",
       "      <td>3</td>\n",
       "    </tr>\n",
       "    <tr>\n",
       "      <th>5</th>\n",
       "      <td>pera</td>\n",
       "      <td>6</td>\n",
       "    </tr>\n",
       "    <tr>\n",
       "      <th>6</th>\n",
       "      <td>naranja</td>\n",
       "      <td>4</td>\n",
       "    </tr>\n",
       "    <tr>\n",
       "      <th>7</th>\n",
       "      <td>fresas</td>\n",
       "      <td>10</td>\n",
       "    </tr>\n",
       "  </tbody>\n",
       "</table>\n",
       "</div>"
      ],
      "text/plain": [
       "     fruit  count\n",
       "0   sandía      1\n",
       "1    melón      1\n",
       "2  manzana      6\n",
       "3  cerezas     10\n",
       "4  plátano      3\n",
       "5     pera      6\n",
       "6  naranja      4\n",
       "7   fresas     10"
      ]
     },
     "execution_count": 51,
     "metadata": {},
     "output_type": "execute_result"
    }
   ],
   "source": [
    "df"
   ]
  },
  {
   "cell_type": "markdown",
   "metadata": {
    "id": "stf4jgh1f4iq"
   },
   "source": [
    "El método `.rename()` se puede utilizar tanto para cambiar las etiquetas de las filas como los nombres de las columnas.\n",
    "\n",
    "**¡Cuidado!** Para que los cambios se guarden en el dataframe original, necesitamos indicar `inplace = True`, de lo contrario, lo único que estamos haciendo es duplicar el dataframe, cambiando el nombre de las filas o columnas"
   ]
  },
  {
   "cell_type": "code",
   "execution_count": 52,
   "metadata": {
    "colab": {
     "base_uri": "https://localhost:8080/",
     "height": 300
    },
    "executionInfo": {
     "elapsed": 60,
     "status": "ok",
     "timestamp": 1687098348301,
     "user": {
      "displayName": "Ainara Montoya",
      "userId": "04156984210870783133"
     },
     "user_tz": -120
    },
    "id": "ZV8KNFZhfj3S",
    "outputId": "a04e950a-c4b3-4278-d7e4-2350ff8ca3a0",
    "tags": []
   },
   "outputs": [
    {
     "data": {
      "text/html": [
       "<div>\n",
       "<style scoped>\n",
       "    .dataframe tbody tr th:only-of-type {\n",
       "        vertical-align: middle;\n",
       "    }\n",
       "\n",
       "    .dataframe tbody tr th {\n",
       "        vertical-align: top;\n",
       "    }\n",
       "\n",
       "    .dataframe thead th {\n",
       "        text-align: right;\n",
       "    }\n",
       "</style>\n",
       "<table border=\"1\" class=\"dataframe\">\n",
       "  <thead>\n",
       "    <tr style=\"text-align: right;\">\n",
       "      <th></th>\n",
       "      <th>fruit</th>\n",
       "      <th>count</th>\n",
       "    </tr>\n",
       "  </thead>\n",
       "  <tbody>\n",
       "    <tr>\n",
       "      <th>0</th>\n",
       "      <td>sandía</td>\n",
       "      <td>1</td>\n",
       "    </tr>\n",
       "    <tr>\n",
       "      <th>1</th>\n",
       "      <td>melón</td>\n",
       "      <td>1</td>\n",
       "    </tr>\n",
       "    <tr>\n",
       "      <th>2</th>\n",
       "      <td>manzana</td>\n",
       "      <td>6</td>\n",
       "    </tr>\n",
       "    <tr>\n",
       "      <th>3</th>\n",
       "      <td>cerezas</td>\n",
       "      <td>10</td>\n",
       "    </tr>\n",
       "    <tr>\n",
       "      <th>4</th>\n",
       "      <td>plátano</td>\n",
       "      <td>3</td>\n",
       "    </tr>\n",
       "    <tr>\n",
       "      <th>5</th>\n",
       "      <td>pera</td>\n",
       "      <td>6</td>\n",
       "    </tr>\n",
       "    <tr>\n",
       "      <th>6</th>\n",
       "      <td>naranja</td>\n",
       "      <td>4</td>\n",
       "    </tr>\n",
       "    <tr>\n",
       "      <th>7</th>\n",
       "      <td>fresas</td>\n",
       "      <td>10</td>\n",
       "    </tr>\n",
       "  </tbody>\n",
       "</table>\n",
       "</div>"
      ],
      "text/plain": [
       "     fruit  count\n",
       "0   sandía      1\n",
       "1    melón      1\n",
       "2  manzana      6\n",
       "3  cerezas     10\n",
       "4  plátano      3\n",
       "5     pera      6\n",
       "6  naranja      4\n",
       "7   fresas     10"
      ]
     },
     "execution_count": 52,
     "metadata": {},
     "output_type": "execute_result"
    }
   ],
   "source": [
    "df.rename(columns = {\"fruit\": \"fruta\",\n",
    "                     \"count\": \"cantidad\"})\n",
    "df"
   ]
  },
  {
   "cell_type": "code",
   "execution_count": 53,
   "metadata": {
    "colab": {
     "base_uri": "https://localhost:8080/",
     "height": 300
    },
    "executionInfo": {
     "elapsed": 59,
     "status": "ok",
     "timestamp": 1687098348301,
     "user": {
      "displayName": "Ainara Montoya",
      "userId": "04156984210870783133"
     },
     "user_tz": -120
    },
    "id": "NviVtPewhDPk",
    "outputId": "baa3800e-e571-4b72-c41e-085331f1843a",
    "tags": []
   },
   "outputs": [
    {
     "data": {
      "text/html": [
       "<div>\n",
       "<style scoped>\n",
       "    .dataframe tbody tr th:only-of-type {\n",
       "        vertical-align: middle;\n",
       "    }\n",
       "\n",
       "    .dataframe tbody tr th {\n",
       "        vertical-align: top;\n",
       "    }\n",
       "\n",
       "    .dataframe thead th {\n",
       "        text-align: right;\n",
       "    }\n",
       "</style>\n",
       "<table border=\"1\" class=\"dataframe\">\n",
       "  <thead>\n",
       "    <tr style=\"text-align: right;\">\n",
       "      <th></th>\n",
       "      <th>fruta</th>\n",
       "      <th>cantidad</th>\n",
       "    </tr>\n",
       "  </thead>\n",
       "  <tbody>\n",
       "    <tr>\n",
       "      <th>0</th>\n",
       "      <td>sandía</td>\n",
       "      <td>1</td>\n",
       "    </tr>\n",
       "    <tr>\n",
       "      <th>1</th>\n",
       "      <td>melón</td>\n",
       "      <td>1</td>\n",
       "    </tr>\n",
       "    <tr>\n",
       "      <th>2</th>\n",
       "      <td>manzana</td>\n",
       "      <td>6</td>\n",
       "    </tr>\n",
       "    <tr>\n",
       "      <th>3</th>\n",
       "      <td>cerezas</td>\n",
       "      <td>10</td>\n",
       "    </tr>\n",
       "    <tr>\n",
       "      <th>4</th>\n",
       "      <td>plátano</td>\n",
       "      <td>3</td>\n",
       "    </tr>\n",
       "    <tr>\n",
       "      <th>5</th>\n",
       "      <td>pera</td>\n",
       "      <td>6</td>\n",
       "    </tr>\n",
       "    <tr>\n",
       "      <th>6</th>\n",
       "      <td>naranja</td>\n",
       "      <td>4</td>\n",
       "    </tr>\n",
       "    <tr>\n",
       "      <th>7</th>\n",
       "      <td>fresas</td>\n",
       "      <td>10</td>\n",
       "    </tr>\n",
       "  </tbody>\n",
       "</table>\n",
       "</div>"
      ],
      "text/plain": [
       "     fruta  cantidad\n",
       "0   sandía         1\n",
       "1    melón         1\n",
       "2  manzana         6\n",
       "3  cerezas        10\n",
       "4  plátano         3\n",
       "5     pera         6\n",
       "6  naranja         4\n",
       "7   fresas        10"
      ]
     },
     "execution_count": 53,
     "metadata": {},
     "output_type": "execute_result"
    }
   ],
   "source": [
    "# Cambiamos el nombre de las columnas al dataframe original\n",
    "df.rename(columns = {\"fruit\": \"fruta\",\n",
    "                     \"count\": \"cantidad\"},\n",
    "          inplace = True)\n",
    "df"
   ]
  },
  {
   "cell_type": "code",
   "execution_count": 54,
   "metadata": {
    "colab": {
     "base_uri": "https://localhost:8080/",
     "height": 300
    },
    "executionInfo": {
     "elapsed": 59,
     "status": "ok",
     "timestamp": 1687098348301,
     "user": {
      "displayName": "Ainara Montoya",
      "userId": "04156984210870783133"
     },
     "user_tz": -120
    },
    "id": "TVLRAKLrhS7y",
    "outputId": "5456944f-7469-439a-854b-8663979f9c25",
    "tags": []
   },
   "outputs": [
    {
     "data": {
      "text/html": [
       "<div>\n",
       "<style scoped>\n",
       "    .dataframe tbody tr th:only-of-type {\n",
       "        vertical-align: middle;\n",
       "    }\n",
       "\n",
       "    .dataframe tbody tr th {\n",
       "        vertical-align: top;\n",
       "    }\n",
       "\n",
       "    .dataframe thead th {\n",
       "        text-align: right;\n",
       "    }\n",
       "</style>\n",
       "<table border=\"1\" class=\"dataframe\">\n",
       "  <thead>\n",
       "    <tr style=\"text-align: right;\">\n",
       "      <th></th>\n",
       "      <th>fruta</th>\n",
       "      <th>cantidad</th>\n",
       "    </tr>\n",
       "  </thead>\n",
       "  <tbody>\n",
       "    <tr>\n",
       "      <th>0</th>\n",
       "      <td>sandía</td>\n",
       "      <td>1</td>\n",
       "    </tr>\n",
       "    <tr>\n",
       "      <th>1</th>\n",
       "      <td>melón</td>\n",
       "      <td>1</td>\n",
       "    </tr>\n",
       "    <tr>\n",
       "      <th>2</th>\n",
       "      <td>manzana</td>\n",
       "      <td>6</td>\n",
       "    </tr>\n",
       "    <tr>\n",
       "      <th>3</th>\n",
       "      <td>cerezas</td>\n",
       "      <td>10</td>\n",
       "    </tr>\n",
       "    <tr>\n",
       "      <th>4</th>\n",
       "      <td>plátano</td>\n",
       "      <td>3</td>\n",
       "    </tr>\n",
       "    <tr>\n",
       "      <th>5</th>\n",
       "      <td>pera</td>\n",
       "      <td>6</td>\n",
       "    </tr>\n",
       "    <tr>\n",
       "      <th>6</th>\n",
       "      <td>naranja</td>\n",
       "      <td>4</td>\n",
       "    </tr>\n",
       "    <tr>\n",
       "      <th>7</th>\n",
       "      <td>fresas</td>\n",
       "      <td>10</td>\n",
       "    </tr>\n",
       "  </tbody>\n",
       "</table>\n",
       "</div>"
      ],
      "text/plain": [
       "     fruta  cantidad\n",
       "0   sandía         1\n",
       "1    melón         1\n",
       "2  manzana         6\n",
       "3  cerezas        10\n",
       "4  plátano         3\n",
       "5     pera         6\n",
       "6  naranja         4\n",
       "7   fresas        10"
      ]
     },
     "execution_count": 54,
     "metadata": {},
     "output_type": "execute_result"
    }
   ],
   "source": [
    "df.rename(index = {0: \"obs1\",\n",
    "                   1: \"obs2\",\n",
    "                   7: \"obs8\"})\n",
    "df"
   ]
  },
  {
   "cell_type": "code",
   "execution_count": 55,
   "metadata": {
    "colab": {
     "base_uri": "https://localhost:8080/",
     "height": 300
    },
    "executionInfo": {
     "elapsed": 59,
     "status": "ok",
     "timestamp": 1687098348302,
     "user": {
      "displayName": "Ainara Montoya",
      "userId": "04156984210870783133"
     },
     "user_tz": -120
    },
    "id": "KfhHzUdVhgnV",
    "outputId": "3051864d-6c25-4297-e8a5-7693da8771f2",
    "tags": []
   },
   "outputs": [
    {
     "data": {
      "text/html": [
       "<div>\n",
       "<style scoped>\n",
       "    .dataframe tbody tr th:only-of-type {\n",
       "        vertical-align: middle;\n",
       "    }\n",
       "\n",
       "    .dataframe tbody tr th {\n",
       "        vertical-align: top;\n",
       "    }\n",
       "\n",
       "    .dataframe thead th {\n",
       "        text-align: right;\n",
       "    }\n",
       "</style>\n",
       "<table border=\"1\" class=\"dataframe\">\n",
       "  <thead>\n",
       "    <tr style=\"text-align: right;\">\n",
       "      <th></th>\n",
       "      <th>fruta</th>\n",
       "      <th>cantidad</th>\n",
       "    </tr>\n",
       "  </thead>\n",
       "  <tbody>\n",
       "    <tr>\n",
       "      <th>obs1</th>\n",
       "      <td>sandía</td>\n",
       "      <td>1</td>\n",
       "    </tr>\n",
       "    <tr>\n",
       "      <th>obs2</th>\n",
       "      <td>melón</td>\n",
       "      <td>1</td>\n",
       "    </tr>\n",
       "    <tr>\n",
       "      <th>2</th>\n",
       "      <td>manzana</td>\n",
       "      <td>6</td>\n",
       "    </tr>\n",
       "    <tr>\n",
       "      <th>3</th>\n",
       "      <td>cerezas</td>\n",
       "      <td>10</td>\n",
       "    </tr>\n",
       "    <tr>\n",
       "      <th>4</th>\n",
       "      <td>plátano</td>\n",
       "      <td>3</td>\n",
       "    </tr>\n",
       "    <tr>\n",
       "      <th>5</th>\n",
       "      <td>pera</td>\n",
       "      <td>6</td>\n",
       "    </tr>\n",
       "    <tr>\n",
       "      <th>6</th>\n",
       "      <td>naranja</td>\n",
       "      <td>4</td>\n",
       "    </tr>\n",
       "    <tr>\n",
       "      <th>obs8</th>\n",
       "      <td>fresas</td>\n",
       "      <td>10</td>\n",
       "    </tr>\n",
       "  </tbody>\n",
       "</table>\n",
       "</div>"
      ],
      "text/plain": [
       "        fruta  cantidad\n",
       "obs1   sandía         1\n",
       "obs2    melón         1\n",
       "2     manzana         6\n",
       "3     cerezas        10\n",
       "4     plátano         3\n",
       "5        pera         6\n",
       "6     naranja         4\n",
       "obs8   fresas        10"
      ]
     },
     "execution_count": 55,
     "metadata": {},
     "output_type": "execute_result"
    }
   ],
   "source": [
    "# Cambiamos el nombre de las filas al dataframe original\n",
    "df.rename(index = {0: \"obs1\",\n",
    "                   1: \"obs2\",\n",
    "                   7: \"obs8\"},\n",
    "          inplace = True)\n",
    "df"
   ]
  },
  {
   "cell_type": "markdown",
   "metadata": {
    "id": "cpTQqgEhhv0O"
   },
   "source": [
    "Con el método `.columns` también podemos cambiar el nombre de las columnas:"
   ]
  },
  {
   "cell_type": "code",
   "execution_count": 56,
   "metadata": {
    "colab": {
     "base_uri": "https://localhost:8080/"
    },
    "executionInfo": {
     "elapsed": 59,
     "status": "ok",
     "timestamp": 1687098348302,
     "user": {
      "displayName": "Ainara Montoya",
      "userId": "04156984210870783133"
     },
     "user_tz": -120
    },
    "id": "vqnMuDXUdKuX",
    "outputId": "ed60f18c-f7ad-432b-edae-fb7d20a32da5",
    "tags": []
   },
   "outputs": [
    {
     "data": {
      "text/plain": [
       "Index(['fruta', 'cantidad'], dtype='object')"
      ]
     },
     "execution_count": 56,
     "metadata": {},
     "output_type": "execute_result"
    }
   ],
   "source": [
    "df.columns"
   ]
  },
  {
   "cell_type": "code",
   "execution_count": 57,
   "metadata": {
    "colab": {
     "base_uri": "https://localhost:8080/",
     "height": 300
    },
    "executionInfo": {
     "elapsed": 56,
     "status": "ok",
     "timestamp": 1687098348302,
     "user": {
      "displayName": "Ainara Montoya",
      "userId": "04156984210870783133"
     },
     "user_tz": -120
    },
    "id": "Y1qyF18Ph0t8",
    "outputId": "f73943a6-7f77-462a-d1a6-51e43a18dc92",
    "tags": []
   },
   "outputs": [
    {
     "data": {
      "text/html": [
       "<div>\n",
       "<style scoped>\n",
       "    .dataframe tbody tr th:only-of-type {\n",
       "        vertical-align: middle;\n",
       "    }\n",
       "\n",
       "    .dataframe tbody tr th {\n",
       "        vertical-align: top;\n",
       "    }\n",
       "\n",
       "    .dataframe thead th {\n",
       "        text-align: right;\n",
       "    }\n",
       "</style>\n",
       "<table border=\"1\" class=\"dataframe\">\n",
       "  <thead>\n",
       "    <tr style=\"text-align: right;\">\n",
       "      <th></th>\n",
       "      <th>FRUTA</th>\n",
       "      <th>CANTIDAD</th>\n",
       "    </tr>\n",
       "  </thead>\n",
       "  <tbody>\n",
       "    <tr>\n",
       "      <th>obs1</th>\n",
       "      <td>sandía</td>\n",
       "      <td>1</td>\n",
       "    </tr>\n",
       "    <tr>\n",
       "      <th>obs2</th>\n",
       "      <td>melón</td>\n",
       "      <td>1</td>\n",
       "    </tr>\n",
       "    <tr>\n",
       "      <th>2</th>\n",
       "      <td>manzana</td>\n",
       "      <td>6</td>\n",
       "    </tr>\n",
       "    <tr>\n",
       "      <th>3</th>\n",
       "      <td>cerezas</td>\n",
       "      <td>10</td>\n",
       "    </tr>\n",
       "    <tr>\n",
       "      <th>4</th>\n",
       "      <td>plátano</td>\n",
       "      <td>3</td>\n",
       "    </tr>\n",
       "    <tr>\n",
       "      <th>5</th>\n",
       "      <td>pera</td>\n",
       "      <td>6</td>\n",
       "    </tr>\n",
       "    <tr>\n",
       "      <th>6</th>\n",
       "      <td>naranja</td>\n",
       "      <td>4</td>\n",
       "    </tr>\n",
       "    <tr>\n",
       "      <th>obs8</th>\n",
       "      <td>fresas</td>\n",
       "      <td>10</td>\n",
       "    </tr>\n",
       "  </tbody>\n",
       "</table>\n",
       "</div>"
      ],
      "text/plain": [
       "        FRUTA  CANTIDAD\n",
       "obs1   sandía         1\n",
       "obs2    melón         1\n",
       "2     manzana         6\n",
       "3     cerezas        10\n",
       "4     plátano         3\n",
       "5        pera         6\n",
       "6     naranja         4\n",
       "obs8   fresas        10"
      ]
     },
     "execution_count": 57,
     "metadata": {},
     "output_type": "execute_result"
    }
   ],
   "source": [
    "df.columns = [\"FRUTA\", \"CANTIDAD\"]\n",
    "df"
   ]
  },
  {
   "cell_type": "markdown",
   "metadata": {
    "id": "_wSzo6necHGd"
   },
   "source": [
    "El método `.insert()` inserta una nueva columna a un dataframe existente"
   ]
  },
  {
   "cell_type": "code",
   "execution_count": 58,
   "metadata": {
    "colab": {
     "base_uri": "https://localhost:8080/",
     "height": 300
    },
    "executionInfo": {
     "elapsed": 56,
     "status": "ok",
     "timestamp": 1687098348303,
     "user": {
      "displayName": "Ainara Montoya",
      "userId": "04156984210870783133"
     },
     "user_tz": -120
    },
    "id": "a45FeQOjcVYH",
    "outputId": "c4a499b3-9af0-426c-8969-d3af61364953",
    "tags": []
   },
   "outputs": [
    {
     "data": {
      "text/html": [
       "<div>\n",
       "<style scoped>\n",
       "    .dataframe tbody tr th:only-of-type {\n",
       "        vertical-align: middle;\n",
       "    }\n",
       "\n",
       "    .dataframe tbody tr th {\n",
       "        vertical-align: top;\n",
       "    }\n",
       "\n",
       "    .dataframe thead th {\n",
       "        text-align: right;\n",
       "    }\n",
       "</style>\n",
       "<table border=\"1\" class=\"dataframe\">\n",
       "  <thead>\n",
       "    <tr style=\"text-align: right;\">\n",
       "      <th></th>\n",
       "      <th>FRUTA</th>\n",
       "      <th>CANTIDAD</th>\n",
       "      <th>PRECIO</th>\n",
       "    </tr>\n",
       "  </thead>\n",
       "  <tbody>\n",
       "    <tr>\n",
       "      <th>obs1</th>\n",
       "      <td>sandía</td>\n",
       "      <td>1</td>\n",
       "      <td>2.50</td>\n",
       "    </tr>\n",
       "    <tr>\n",
       "      <th>obs2</th>\n",
       "      <td>melón</td>\n",
       "      <td>1</td>\n",
       "      <td>2.00</td>\n",
       "    </tr>\n",
       "    <tr>\n",
       "      <th>2</th>\n",
       "      <td>manzana</td>\n",
       "      <td>6</td>\n",
       "      <td>0.35</td>\n",
       "    </tr>\n",
       "    <tr>\n",
       "      <th>3</th>\n",
       "      <td>cerezas</td>\n",
       "      <td>10</td>\n",
       "      <td>0.10</td>\n",
       "    </tr>\n",
       "    <tr>\n",
       "      <th>4</th>\n",
       "      <td>plátano</td>\n",
       "      <td>3</td>\n",
       "      <td>0.35</td>\n",
       "    </tr>\n",
       "    <tr>\n",
       "      <th>5</th>\n",
       "      <td>pera</td>\n",
       "      <td>6</td>\n",
       "      <td>0.20</td>\n",
       "    </tr>\n",
       "    <tr>\n",
       "      <th>6</th>\n",
       "      <td>naranja</td>\n",
       "      <td>4</td>\n",
       "      <td>0.15</td>\n",
       "    </tr>\n",
       "    <tr>\n",
       "      <th>obs8</th>\n",
       "      <td>fresas</td>\n",
       "      <td>10</td>\n",
       "      <td>0.05</td>\n",
       "    </tr>\n",
       "  </tbody>\n",
       "</table>\n",
       "</div>"
      ],
      "text/plain": [
       "        FRUTA  CANTIDAD  PRECIO\n",
       "obs1   sandía         1    2.50\n",
       "obs2    melón         1    2.00\n",
       "2     manzana         6    0.35\n",
       "3     cerezas        10    0.10\n",
       "4     plátano         3    0.35\n",
       "5        pera         6    0.20\n",
       "6     naranja         4    0.15\n",
       "obs8   fresas        10    0.05"
      ]
     },
     "execution_count": 58,
     "metadata": {},
     "output_type": "execute_result"
    }
   ],
   "source": [
    "df.insert(loc = 2, column = \"PRECIO\", value = [2.50, 2.00, 0.35, 0.10, 0.35, 0.20, 0.15, 0.05])\n",
    "df"
   ]
  },
  {
   "cell_type": "markdown",
   "metadata": {
    "id": "beeiQaxdcutS"
   },
   "source": [
    "Al parámetro `loc` le indicamos el índice que ocupará la nueva columna; al parámetro `column` le pasamos el nombre de la nueva columna; y al parámetro `value`, los valores para cada una de las filas.\n",
    "\n",
    "**Observación.** Si al parámetro `loc` le pasamos un índice ya ocupado por otra columna, se desplazan la columna existente y las de índices superiores un índice a la derecha.\n",
    "\n",
    "**Observación.** Si al parámetro `value` solo le pasamos un valor, éste será el mismo para todas las filas\n"
   ]
  },
  {
   "cell_type": "code",
   "execution_count": 59,
   "metadata": {
    "colab": {
     "base_uri": "https://localhost:8080/",
     "height": 300
    },
    "executionInfo": {
     "elapsed": 55,
     "status": "ok",
     "timestamp": 1687098348303,
     "user": {
      "displayName": "Ainara Montoya",
      "userId": "04156984210870783133"
     },
     "user_tz": -120
    },
    "id": "p6J3DPxEdBXx",
    "outputId": "43c93230-c4ea-4a71-93e0-6e79222f45a7",
    "tags": []
   },
   "outputs": [
    {
     "data": {
      "text/html": [
       "<div>\n",
       "<style scoped>\n",
       "    .dataframe tbody tr th:only-of-type {\n",
       "        vertical-align: middle;\n",
       "    }\n",
       "\n",
       "    .dataframe tbody tr th {\n",
       "        vertical-align: top;\n",
       "    }\n",
       "\n",
       "    .dataframe thead th {\n",
       "        text-align: right;\n",
       "    }\n",
       "</style>\n",
       "<table border=\"1\" class=\"dataframe\">\n",
       "  <thead>\n",
       "    <tr style=\"text-align: right;\">\n",
       "      <th></th>\n",
       "      <th>FRUTA</th>\n",
       "      <th>COLOR</th>\n",
       "      <th>CANTIDAD</th>\n",
       "      <th>PRECIO</th>\n",
       "    </tr>\n",
       "  </thead>\n",
       "  <tbody>\n",
       "    <tr>\n",
       "      <th>obs1</th>\n",
       "      <td>sandía</td>\n",
       "      <td>rojo</td>\n",
       "      <td>1</td>\n",
       "      <td>2.50</td>\n",
       "    </tr>\n",
       "    <tr>\n",
       "      <th>obs2</th>\n",
       "      <td>melón</td>\n",
       "      <td>rojo</td>\n",
       "      <td>1</td>\n",
       "      <td>2.00</td>\n",
       "    </tr>\n",
       "    <tr>\n",
       "      <th>2</th>\n",
       "      <td>manzana</td>\n",
       "      <td>rojo</td>\n",
       "      <td>6</td>\n",
       "      <td>0.35</td>\n",
       "    </tr>\n",
       "    <tr>\n",
       "      <th>3</th>\n",
       "      <td>cerezas</td>\n",
       "      <td>rojo</td>\n",
       "      <td>10</td>\n",
       "      <td>0.10</td>\n",
       "    </tr>\n",
       "    <tr>\n",
       "      <th>4</th>\n",
       "      <td>plátano</td>\n",
       "      <td>rojo</td>\n",
       "      <td>3</td>\n",
       "      <td>0.35</td>\n",
       "    </tr>\n",
       "    <tr>\n",
       "      <th>5</th>\n",
       "      <td>pera</td>\n",
       "      <td>rojo</td>\n",
       "      <td>6</td>\n",
       "      <td>0.20</td>\n",
       "    </tr>\n",
       "    <tr>\n",
       "      <th>6</th>\n",
       "      <td>naranja</td>\n",
       "      <td>rojo</td>\n",
       "      <td>4</td>\n",
       "      <td>0.15</td>\n",
       "    </tr>\n",
       "    <tr>\n",
       "      <th>obs8</th>\n",
       "      <td>fresas</td>\n",
       "      <td>rojo</td>\n",
       "      <td>10</td>\n",
       "      <td>0.05</td>\n",
       "    </tr>\n",
       "  </tbody>\n",
       "</table>\n",
       "</div>"
      ],
      "text/plain": [
       "        FRUTA COLOR  CANTIDAD  PRECIO\n",
       "obs1   sandía  rojo         1    2.50\n",
       "obs2    melón  rojo         1    2.00\n",
       "2     manzana  rojo         6    0.35\n",
       "3     cerezas  rojo        10    0.10\n",
       "4     plátano  rojo         3    0.35\n",
       "5        pera  rojo         6    0.20\n",
       "6     naranja  rojo         4    0.15\n",
       "obs8   fresas  rojo        10    0.05"
      ]
     },
     "execution_count": 59,
     "metadata": {},
     "output_type": "execute_result"
    }
   ],
   "source": [
    "df.insert(1, \"COLOR\", \"rojo\")\n",
    "df"
   ]
  },
  {
   "cell_type": "markdown",
   "metadata": {
    "id": "qyii6EaOi5L2"
   },
   "source": [
    "El método `.drop()` nos permite borrar las filas o columnas que indiquemos\n",
    "\n",
    "**¡Cuidado!** De nuevo, si queremos aplicar directamente los cambios al dataframe original, necesitamos indicar `inplace = True`"
   ]
  },
  {
   "cell_type": "code",
   "execution_count": 60,
   "metadata": {
    "colab": {
     "base_uri": "https://localhost:8080/",
     "height": 238
    },
    "executionInfo": {
     "elapsed": 55,
     "status": "ok",
     "timestamp": 1687098348303,
     "user": {
      "displayName": "Ainara Montoya",
      "userId": "04156984210870783133"
     },
     "user_tz": -120
    },
    "id": "Sqc3fqrEjCdb",
    "outputId": "b9714e36-abb1-4340-a974-451fe32fe28d",
    "tags": []
   },
   "outputs": [
    {
     "data": {
      "text/html": [
       "<div>\n",
       "<style scoped>\n",
       "    .dataframe tbody tr th:only-of-type {\n",
       "        vertical-align: middle;\n",
       "    }\n",
       "\n",
       "    .dataframe tbody tr th {\n",
       "        vertical-align: top;\n",
       "    }\n",
       "\n",
       "    .dataframe thead th {\n",
       "        text-align: right;\n",
       "    }\n",
       "</style>\n",
       "<table border=\"1\" class=\"dataframe\">\n",
       "  <thead>\n",
       "    <tr style=\"text-align: right;\">\n",
       "      <th></th>\n",
       "      <th>FRUTA</th>\n",
       "      <th>COLOR</th>\n",
       "      <th>CANTIDAD</th>\n",
       "      <th>PRECIO</th>\n",
       "    </tr>\n",
       "  </thead>\n",
       "  <tbody>\n",
       "    <tr>\n",
       "      <th>obs2</th>\n",
       "      <td>melón</td>\n",
       "      <td>rojo</td>\n",
       "      <td>1</td>\n",
       "      <td>2.00</td>\n",
       "    </tr>\n",
       "    <tr>\n",
       "      <th>2</th>\n",
       "      <td>manzana</td>\n",
       "      <td>rojo</td>\n",
       "      <td>6</td>\n",
       "      <td>0.35</td>\n",
       "    </tr>\n",
       "    <tr>\n",
       "      <th>3</th>\n",
       "      <td>cerezas</td>\n",
       "      <td>rojo</td>\n",
       "      <td>10</td>\n",
       "      <td>0.10</td>\n",
       "    </tr>\n",
       "    <tr>\n",
       "      <th>5</th>\n",
       "      <td>pera</td>\n",
       "      <td>rojo</td>\n",
       "      <td>6</td>\n",
       "      <td>0.20</td>\n",
       "    </tr>\n",
       "    <tr>\n",
       "      <th>6</th>\n",
       "      <td>naranja</td>\n",
       "      <td>rojo</td>\n",
       "      <td>4</td>\n",
       "      <td>0.15</td>\n",
       "    </tr>\n",
       "    <tr>\n",
       "      <th>obs8</th>\n",
       "      <td>fresas</td>\n",
       "      <td>rojo</td>\n",
       "      <td>10</td>\n",
       "      <td>0.05</td>\n",
       "    </tr>\n",
       "  </tbody>\n",
       "</table>\n",
       "</div>"
      ],
      "text/plain": [
       "        FRUTA COLOR  CANTIDAD  PRECIO\n",
       "obs2    melón  rojo         1    2.00\n",
       "2     manzana  rojo         6    0.35\n",
       "3     cerezas  rojo        10    0.10\n",
       "5        pera  rojo         6    0.20\n",
       "6     naranja  rojo         4    0.15\n",
       "obs8   fresas  rojo        10    0.05"
      ]
     },
     "execution_count": 60,
     "metadata": {},
     "output_type": "execute_result"
    }
   ],
   "source": [
    "# Eliminamos filas (axis = 0) por etiqueta\n",
    "df_dropped = df.drop(labels = [\"obs1\", 4], axis = 0)\n",
    "df_dropped"
   ]
  },
  {
   "cell_type": "code",
   "execution_count": 61,
   "metadata": {
    "colab": {
     "base_uri": "https://localhost:8080/",
     "height": 300
    },
    "executionInfo": {
     "elapsed": 54,
     "status": "ok",
     "timestamp": 1687098348303,
     "user": {
      "displayName": "Ainara Montoya",
      "userId": "04156984210870783133"
     },
     "user_tz": -120
    },
    "id": "_QRk4b9Nj50v",
    "outputId": "7a74cd9e-a8bb-4c98-a815-b50284030117",
    "tags": []
   },
   "outputs": [
    {
     "data": {
      "text/html": [
       "<div>\n",
       "<style scoped>\n",
       "    .dataframe tbody tr th:only-of-type {\n",
       "        vertical-align: middle;\n",
       "    }\n",
       "\n",
       "    .dataframe tbody tr th {\n",
       "        vertical-align: top;\n",
       "    }\n",
       "\n",
       "    .dataframe thead th {\n",
       "        text-align: right;\n",
       "    }\n",
       "</style>\n",
       "<table border=\"1\" class=\"dataframe\">\n",
       "  <thead>\n",
       "    <tr style=\"text-align: right;\">\n",
       "      <th></th>\n",
       "      <th>FRUTA</th>\n",
       "      <th>CANTIDAD</th>\n",
       "    </tr>\n",
       "  </thead>\n",
       "  <tbody>\n",
       "    <tr>\n",
       "      <th>obs1</th>\n",
       "      <td>sandía</td>\n",
       "      <td>1</td>\n",
       "    </tr>\n",
       "    <tr>\n",
       "      <th>obs2</th>\n",
       "      <td>melón</td>\n",
       "      <td>1</td>\n",
       "    </tr>\n",
       "    <tr>\n",
       "      <th>2</th>\n",
       "      <td>manzana</td>\n",
       "      <td>6</td>\n",
       "    </tr>\n",
       "    <tr>\n",
       "      <th>3</th>\n",
       "      <td>cerezas</td>\n",
       "      <td>10</td>\n",
       "    </tr>\n",
       "    <tr>\n",
       "      <th>4</th>\n",
       "      <td>plátano</td>\n",
       "      <td>3</td>\n",
       "    </tr>\n",
       "    <tr>\n",
       "      <th>5</th>\n",
       "      <td>pera</td>\n",
       "      <td>6</td>\n",
       "    </tr>\n",
       "    <tr>\n",
       "      <th>6</th>\n",
       "      <td>naranja</td>\n",
       "      <td>4</td>\n",
       "    </tr>\n",
       "    <tr>\n",
       "      <th>obs8</th>\n",
       "      <td>fresas</td>\n",
       "      <td>10</td>\n",
       "    </tr>\n",
       "  </tbody>\n",
       "</table>\n",
       "</div>"
      ],
      "text/plain": [
       "        FRUTA  CANTIDAD\n",
       "obs1   sandía         1\n",
       "obs2    melón         1\n",
       "2     manzana         6\n",
       "3     cerezas        10\n",
       "4     plátano         3\n",
       "5        pera         6\n",
       "6     naranja         4\n",
       "obs8   fresas        10"
      ]
     },
     "execution_count": 61,
     "metadata": {},
     "output_type": "execute_result"
    }
   ],
   "source": [
    "# Eliminamos columnas (axis = 1) por etiqueta\n",
    "df_dropped = df.drop(labels = [\"COLOR\", \"PRECIO\"], axis = 1)\n",
    "df_dropped"
   ]
  },
  {
   "cell_type": "markdown",
   "metadata": {
    "id": "N0Ml5Wp4k9Up"
   },
   "source": [
    "El método `.pop()` elimina la columna que indiquemos por parámetro"
   ]
  },
  {
   "cell_type": "code",
   "execution_count": 62,
   "metadata": {
    "colab": {
     "base_uri": "https://localhost:8080/",
     "height": 300
    },
    "executionInfo": {
     "elapsed": 55,
     "status": "ok",
     "timestamp": 1687098348304,
     "user": {
      "displayName": "Ainara Montoya",
      "userId": "04156984210870783133"
     },
     "user_tz": -120
    },
    "id": "78bRr9kdk8q9",
    "outputId": "9e30c2b2-377d-4741-a28a-90f7469053df",
    "tags": []
   },
   "outputs": [
    {
     "data": {
      "text/html": [
       "<div>\n",
       "<style scoped>\n",
       "    .dataframe tbody tr th:only-of-type {\n",
       "        vertical-align: middle;\n",
       "    }\n",
       "\n",
       "    .dataframe tbody tr th {\n",
       "        vertical-align: top;\n",
       "    }\n",
       "\n",
       "    .dataframe thead th {\n",
       "        text-align: right;\n",
       "    }\n",
       "</style>\n",
       "<table border=\"1\" class=\"dataframe\">\n",
       "  <thead>\n",
       "    <tr style=\"text-align: right;\">\n",
       "      <th></th>\n",
       "      <th>FRUTA</th>\n",
       "      <th>CANTIDAD</th>\n",
       "      <th>PRECIO</th>\n",
       "    </tr>\n",
       "  </thead>\n",
       "  <tbody>\n",
       "    <tr>\n",
       "      <th>obs1</th>\n",
       "      <td>sandía</td>\n",
       "      <td>1</td>\n",
       "      <td>2.50</td>\n",
       "    </tr>\n",
       "    <tr>\n",
       "      <th>obs2</th>\n",
       "      <td>melón</td>\n",
       "      <td>1</td>\n",
       "      <td>2.00</td>\n",
       "    </tr>\n",
       "    <tr>\n",
       "      <th>2</th>\n",
       "      <td>manzana</td>\n",
       "      <td>6</td>\n",
       "      <td>0.35</td>\n",
       "    </tr>\n",
       "    <tr>\n",
       "      <th>3</th>\n",
       "      <td>cerezas</td>\n",
       "      <td>10</td>\n",
       "      <td>0.10</td>\n",
       "    </tr>\n",
       "    <tr>\n",
       "      <th>4</th>\n",
       "      <td>plátano</td>\n",
       "      <td>3</td>\n",
       "      <td>0.35</td>\n",
       "    </tr>\n",
       "    <tr>\n",
       "      <th>5</th>\n",
       "      <td>pera</td>\n",
       "      <td>6</td>\n",
       "      <td>0.20</td>\n",
       "    </tr>\n",
       "    <tr>\n",
       "      <th>6</th>\n",
       "      <td>naranja</td>\n",
       "      <td>4</td>\n",
       "      <td>0.15</td>\n",
       "    </tr>\n",
       "    <tr>\n",
       "      <th>obs8</th>\n",
       "      <td>fresas</td>\n",
       "      <td>10</td>\n",
       "      <td>0.05</td>\n",
       "    </tr>\n",
       "  </tbody>\n",
       "</table>\n",
       "</div>"
      ],
      "text/plain": [
       "        FRUTA  CANTIDAD  PRECIO\n",
       "obs1   sandía         1    2.50\n",
       "obs2    melón         1    2.00\n",
       "2     manzana         6    0.35\n",
       "3     cerezas        10    0.10\n",
       "4     plátano         3    0.35\n",
       "5        pera         6    0.20\n",
       "6     naranja         4    0.15\n",
       "obs8   fresas        10    0.05"
      ]
     },
     "execution_count": 62,
     "metadata": {},
     "output_type": "execute_result"
    }
   ],
   "source": [
    "column_popped = df.pop(\"COLOR\")\n",
    "df"
   ]
  },
  {
   "cell_type": "code",
   "execution_count": 63,
   "metadata": {
    "colab": {
     "base_uri": "https://localhost:8080/"
    },
    "executionInfo": {
     "elapsed": 54,
     "status": "ok",
     "timestamp": 1687098348304,
     "user": {
      "displayName": "Ainara Montoya",
      "userId": "04156984210870783133"
     },
     "user_tz": -120
    },
    "id": "6UhYBnb5enHN",
    "outputId": "fa25a3a3-bd95-404e-e5fd-b964035dfaee",
    "tags": []
   },
   "outputs": [
    {
     "data": {
      "text/plain": [
       "obs1    rojo\n",
       "obs2    rojo\n",
       "2       rojo\n",
       "3       rojo\n",
       "4       rojo\n",
       "5       rojo\n",
       "6       rojo\n",
       "obs8    rojo\n",
       "Name: COLOR, dtype: object"
      ]
     },
     "execution_count": 63,
     "metadata": {},
     "output_type": "execute_result"
    }
   ],
   "source": [
    "column_popped"
   ]
  },
  {
   "cell_type": "code",
   "execution_count": 64,
   "metadata": {
    "colab": {
     "base_uri": "https://localhost:8080/",
     "height": 300
    },
    "executionInfo": {
     "elapsed": 52,
     "status": "ok",
     "timestamp": 1687098348304,
     "user": {
      "displayName": "Ainara Montoya",
      "userId": "04156984210870783133"
     },
     "user_tz": -120
    },
    "id": "eVdRUCYVlfrS",
    "outputId": "139ab2dd-d819-4867-af02-f8ea78363679",
    "tags": []
   },
   "outputs": [
    {
     "data": {
      "text/html": [
       "<div>\n",
       "<style scoped>\n",
       "    .dataframe tbody tr th:only-of-type {\n",
       "        vertical-align: middle;\n",
       "    }\n",
       "\n",
       "    .dataframe tbody tr th {\n",
       "        vertical-align: top;\n",
       "    }\n",
       "\n",
       "    .dataframe thead th {\n",
       "        text-align: right;\n",
       "    }\n",
       "</style>\n",
       "<table border=\"1\" class=\"dataframe\">\n",
       "  <thead>\n",
       "    <tr style=\"text-align: right;\">\n",
       "      <th></th>\n",
       "      <th>FRUTA</th>\n",
       "      <th>CANTIDAD</th>\n",
       "      <th>PRECIO</th>\n",
       "      <th>COLOR</th>\n",
       "    </tr>\n",
       "  </thead>\n",
       "  <tbody>\n",
       "    <tr>\n",
       "      <th>obs1</th>\n",
       "      <td>sandía</td>\n",
       "      <td>1</td>\n",
       "      <td>2.50</td>\n",
       "      <td>rojo</td>\n",
       "    </tr>\n",
       "    <tr>\n",
       "      <th>obs2</th>\n",
       "      <td>melón</td>\n",
       "      <td>1</td>\n",
       "      <td>2.00</td>\n",
       "      <td>rojo</td>\n",
       "    </tr>\n",
       "    <tr>\n",
       "      <th>2</th>\n",
       "      <td>manzana</td>\n",
       "      <td>6</td>\n",
       "      <td>0.35</td>\n",
       "      <td>rojo</td>\n",
       "    </tr>\n",
       "    <tr>\n",
       "      <th>3</th>\n",
       "      <td>cerezas</td>\n",
       "      <td>10</td>\n",
       "      <td>0.10</td>\n",
       "      <td>rojo</td>\n",
       "    </tr>\n",
       "    <tr>\n",
       "      <th>4</th>\n",
       "      <td>plátano</td>\n",
       "      <td>3</td>\n",
       "      <td>0.35</td>\n",
       "      <td>rojo</td>\n",
       "    </tr>\n",
       "    <tr>\n",
       "      <th>5</th>\n",
       "      <td>pera</td>\n",
       "      <td>6</td>\n",
       "      <td>0.20</td>\n",
       "      <td>rojo</td>\n",
       "    </tr>\n",
       "    <tr>\n",
       "      <th>6</th>\n",
       "      <td>naranja</td>\n",
       "      <td>4</td>\n",
       "      <td>0.15</td>\n",
       "      <td>rojo</td>\n",
       "    </tr>\n",
       "    <tr>\n",
       "      <th>obs8</th>\n",
       "      <td>fresas</td>\n",
       "      <td>10</td>\n",
       "      <td>0.05</td>\n",
       "      <td>rojo</td>\n",
       "    </tr>\n",
       "  </tbody>\n",
       "</table>\n",
       "</div>"
      ],
      "text/plain": [
       "        FRUTA  CANTIDAD  PRECIO COLOR\n",
       "obs1   sandía         1    2.50  rojo\n",
       "obs2    melón         1    2.00  rojo\n",
       "2     manzana         6    0.35  rojo\n",
       "3     cerezas        10    0.10  rojo\n",
       "4     plátano         3    0.35  rojo\n",
       "5        pera         6    0.20  rojo\n",
       "6     naranja         4    0.15  rojo\n",
       "obs8   fresas        10    0.05  rojo"
      ]
     },
     "execution_count": 64,
     "metadata": {},
     "output_type": "execute_result"
    }
   ],
   "source": [
    "# Volvemos a añadir la columna recientemente eliminada al final del dataframe con una sintaxis que no habíamos visto todavía\n",
    "df[\"COLOR\"] = column_popped\n",
    "df"
   ]
  },
  {
   "cell_type": "markdown",
   "metadata": {
    "id": "mXLRTOqcpHRw"
   },
   "source": [
    "El método `.rank()` devuelve un ranking.\n",
    "\n",
    "Si por ejemplo queremos un ranking por fruta, el método `.rank()` nos devolverá una columna de posiciones correspondientes a la posición que ocupa cada fruta si estas son ordenadas alfabéticamente\n",
    "\n",
    "**Observación.** El ranking empieza siempre en 1."
   ]
  },
  {
   "cell_type": "code",
   "execution_count": 65,
   "metadata": {
    "colab": {
     "base_uri": "https://localhost:8080/",
     "height": 300
    },
    "executionInfo": {
     "elapsed": 52,
     "status": "ok",
     "timestamp": 1687098348304,
     "user": {
      "displayName": "Ainara Montoya",
      "userId": "04156984210870783133"
     },
     "user_tz": -120
    },
    "id": "VyBohYxEpc_0",
    "outputId": "c024f013-ec05-41a0-9258-8fcc527e6037",
    "tags": []
   },
   "outputs": [
    {
     "data": {
      "text/html": [
       "<div>\n",
       "<style scoped>\n",
       "    .dataframe tbody tr th:only-of-type {\n",
       "        vertical-align: middle;\n",
       "    }\n",
       "\n",
       "    .dataframe tbody tr th {\n",
       "        vertical-align: top;\n",
       "    }\n",
       "\n",
       "    .dataframe thead th {\n",
       "        text-align: right;\n",
       "    }\n",
       "</style>\n",
       "<table border=\"1\" class=\"dataframe\">\n",
       "  <thead>\n",
       "    <tr style=\"text-align: right;\">\n",
       "      <th></th>\n",
       "      <th>FRUTA</th>\n",
       "      <th>CANTIDAD</th>\n",
       "      <th>PRECIO</th>\n",
       "      <th>COLOR</th>\n",
       "      <th>RANKING_FRUTA</th>\n",
       "    </tr>\n",
       "  </thead>\n",
       "  <tbody>\n",
       "    <tr>\n",
       "      <th>obs1</th>\n",
       "      <td>sandía</td>\n",
       "      <td>1</td>\n",
       "      <td>2.50</td>\n",
       "      <td>rojo</td>\n",
       "      <td>8.0</td>\n",
       "    </tr>\n",
       "    <tr>\n",
       "      <th>obs2</th>\n",
       "      <td>melón</td>\n",
       "      <td>1</td>\n",
       "      <td>2.00</td>\n",
       "      <td>rojo</td>\n",
       "      <td>4.0</td>\n",
       "    </tr>\n",
       "    <tr>\n",
       "      <th>2</th>\n",
       "      <td>manzana</td>\n",
       "      <td>6</td>\n",
       "      <td>0.35</td>\n",
       "      <td>rojo</td>\n",
       "      <td>3.0</td>\n",
       "    </tr>\n",
       "    <tr>\n",
       "      <th>3</th>\n",
       "      <td>cerezas</td>\n",
       "      <td>10</td>\n",
       "      <td>0.10</td>\n",
       "      <td>rojo</td>\n",
       "      <td>1.0</td>\n",
       "    </tr>\n",
       "    <tr>\n",
       "      <th>4</th>\n",
       "      <td>plátano</td>\n",
       "      <td>3</td>\n",
       "      <td>0.35</td>\n",
       "      <td>rojo</td>\n",
       "      <td>7.0</td>\n",
       "    </tr>\n",
       "    <tr>\n",
       "      <th>5</th>\n",
       "      <td>pera</td>\n",
       "      <td>6</td>\n",
       "      <td>0.20</td>\n",
       "      <td>rojo</td>\n",
       "      <td>6.0</td>\n",
       "    </tr>\n",
       "    <tr>\n",
       "      <th>6</th>\n",
       "      <td>naranja</td>\n",
       "      <td>4</td>\n",
       "      <td>0.15</td>\n",
       "      <td>rojo</td>\n",
       "      <td>5.0</td>\n",
       "    </tr>\n",
       "    <tr>\n",
       "      <th>obs8</th>\n",
       "      <td>fresas</td>\n",
       "      <td>10</td>\n",
       "      <td>0.05</td>\n",
       "      <td>rojo</td>\n",
       "      <td>2.0</td>\n",
       "    </tr>\n",
       "  </tbody>\n",
       "</table>\n",
       "</div>"
      ],
      "text/plain": [
       "        FRUTA  CANTIDAD  PRECIO COLOR  RANKING_FRUTA\n",
       "obs1   sandía         1    2.50  rojo            8.0\n",
       "obs2    melón         1    2.00  rojo            4.0\n",
       "2     manzana         6    0.35  rojo            3.0\n",
       "3     cerezas        10    0.10  rojo            1.0\n",
       "4     plátano         3    0.35  rojo            7.0\n",
       "5        pera         6    0.20  rojo            6.0\n",
       "6     naranja         4    0.15  rojo            5.0\n",
       "obs8   fresas        10    0.05  rojo            2.0"
      ]
     },
     "execution_count": 65,
     "metadata": {},
     "output_type": "execute_result"
    }
   ],
   "source": [
    "df[\"RANKING_FRUTA\"] = df[\"FRUTA\"].rank()\n",
    "df"
   ]
  },
  {
   "cell_type": "markdown",
   "metadata": {
    "id": "pyZ1Ufj6pzak"
   },
   "source": [
    "Con el parámetro `ascending`, que por defecto vale `True`, podemos indicar si queremos que el ranking sea en orden ascendente o descendente."
   ]
  },
  {
   "cell_type": "code",
   "execution_count": 66,
   "metadata": {
    "colab": {
     "base_uri": "https://localhost:8080/",
     "height": 300
    },
    "executionInfo": {
     "elapsed": 51,
     "status": "ok",
     "timestamp": 1687098348304,
     "user": {
      "displayName": "Ainara Montoya",
      "userId": "04156984210870783133"
     },
     "user_tz": -120
    },
    "id": "3PiJF7ODp8sb",
    "outputId": "de59153f-77c9-4dfb-dfa3-2788d12496ac",
    "tags": []
   },
   "outputs": [
    {
     "data": {
      "text/html": [
       "<div>\n",
       "<style scoped>\n",
       "    .dataframe tbody tr th:only-of-type {\n",
       "        vertical-align: middle;\n",
       "    }\n",
       "\n",
       "    .dataframe tbody tr th {\n",
       "        vertical-align: top;\n",
       "    }\n",
       "\n",
       "    .dataframe thead th {\n",
       "        text-align: right;\n",
       "    }\n",
       "</style>\n",
       "<table border=\"1\" class=\"dataframe\">\n",
       "  <thead>\n",
       "    <tr style=\"text-align: right;\">\n",
       "      <th></th>\n",
       "      <th>FRUTA</th>\n",
       "      <th>CANTIDAD</th>\n",
       "      <th>PRECIO</th>\n",
       "      <th>COLOR</th>\n",
       "      <th>RANKING_FRUTA</th>\n",
       "      <th>RANKING_PRECIO</th>\n",
       "    </tr>\n",
       "  </thead>\n",
       "  <tbody>\n",
       "    <tr>\n",
       "      <th>obs1</th>\n",
       "      <td>sandía</td>\n",
       "      <td>1</td>\n",
       "      <td>2.50</td>\n",
       "      <td>rojo</td>\n",
       "      <td>8.0</td>\n",
       "      <td>1.0</td>\n",
       "    </tr>\n",
       "    <tr>\n",
       "      <th>obs2</th>\n",
       "      <td>melón</td>\n",
       "      <td>1</td>\n",
       "      <td>2.00</td>\n",
       "      <td>rojo</td>\n",
       "      <td>4.0</td>\n",
       "      <td>2.0</td>\n",
       "    </tr>\n",
       "    <tr>\n",
       "      <th>2</th>\n",
       "      <td>manzana</td>\n",
       "      <td>6</td>\n",
       "      <td>0.35</td>\n",
       "      <td>rojo</td>\n",
       "      <td>3.0</td>\n",
       "      <td>3.5</td>\n",
       "    </tr>\n",
       "    <tr>\n",
       "      <th>3</th>\n",
       "      <td>cerezas</td>\n",
       "      <td>10</td>\n",
       "      <td>0.10</td>\n",
       "      <td>rojo</td>\n",
       "      <td>1.0</td>\n",
       "      <td>7.0</td>\n",
       "    </tr>\n",
       "    <tr>\n",
       "      <th>4</th>\n",
       "      <td>plátano</td>\n",
       "      <td>3</td>\n",
       "      <td>0.35</td>\n",
       "      <td>rojo</td>\n",
       "      <td>7.0</td>\n",
       "      <td>3.5</td>\n",
       "    </tr>\n",
       "    <tr>\n",
       "      <th>5</th>\n",
       "      <td>pera</td>\n",
       "      <td>6</td>\n",
       "      <td>0.20</td>\n",
       "      <td>rojo</td>\n",
       "      <td>6.0</td>\n",
       "      <td>5.0</td>\n",
       "    </tr>\n",
       "    <tr>\n",
       "      <th>6</th>\n",
       "      <td>naranja</td>\n",
       "      <td>4</td>\n",
       "      <td>0.15</td>\n",
       "      <td>rojo</td>\n",
       "      <td>5.0</td>\n",
       "      <td>6.0</td>\n",
       "    </tr>\n",
       "    <tr>\n",
       "      <th>obs8</th>\n",
       "      <td>fresas</td>\n",
       "      <td>10</td>\n",
       "      <td>0.05</td>\n",
       "      <td>rojo</td>\n",
       "      <td>2.0</td>\n",
       "      <td>8.0</td>\n",
       "    </tr>\n",
       "  </tbody>\n",
       "</table>\n",
       "</div>"
      ],
      "text/plain": [
       "        FRUTA  CANTIDAD  PRECIO COLOR  RANKING_FRUTA  RANKING_PRECIO\n",
       "obs1   sandía         1    2.50  rojo            8.0             1.0\n",
       "obs2    melón         1    2.00  rojo            4.0             2.0\n",
       "2     manzana         6    0.35  rojo            3.0             3.5\n",
       "3     cerezas        10    0.10  rojo            1.0             7.0\n",
       "4     plátano         3    0.35  rojo            7.0             3.5\n",
       "5        pera         6    0.20  rojo            6.0             5.0\n",
       "6     naranja         4    0.15  rojo            5.0             6.0\n",
       "obs8   fresas        10    0.05  rojo            2.0             8.0"
      ]
     },
     "execution_count": 66,
     "metadata": {},
     "output_type": "execute_result"
    }
   ],
   "source": [
    "df[\"RANKING_PRECIO\"] = df[\"PRECIO\"].rank(ascending = False)\n",
    "df"
   ]
  },
  {
   "cell_type": "markdown",
   "metadata": {
    "id": "5y9xuAJLdaty"
   },
   "source": [
    "El método `.nunique()` devuelve el conteo de cuántos valores únicos hay en cada columna"
   ]
  },
  {
   "cell_type": "code",
   "execution_count": 67,
   "metadata": {
    "colab": {
     "base_uri": "https://localhost:8080/"
    },
    "executionInfo": {
     "elapsed": 51,
     "status": "ok",
     "timestamp": 1687098348305,
     "user": {
      "displayName": "Ainara Montoya",
      "userId": "04156984210870783133"
     },
     "user_tz": -120
    },
    "id": "f-IkkjDcd5ua",
    "outputId": "1f5c9614-a19d-4682-f74b-7b352f1e532a",
    "tags": []
   },
   "outputs": [
    {
     "data": {
      "text/plain": [
       "FRUTA             8\n",
       "CANTIDAD          5\n",
       "PRECIO            7\n",
       "COLOR             1\n",
       "RANKING_FRUTA     8\n",
       "RANKING_PRECIO    7\n",
       "dtype: int64"
      ]
     },
     "execution_count": 67,
     "metadata": {},
     "output_type": "execute_result"
    }
   ],
   "source": [
    "df.nunique()"
   ]
  },
  {
   "cell_type": "markdown",
   "metadata": {
    "id": "Xk4VRyileHiV"
   },
   "source": [
    "Dada una columna de un dataframe, el método `.unique()` devuelve un array con los valores únicos de dicha columna"
   ]
  },
  {
   "cell_type": "code",
   "execution_count": 159,
   "metadata": {
    "colab": {
     "base_uri": "https://localhost:8080/"
    },
    "executionInfo": {
     "elapsed": 50,
     "status": "ok",
     "timestamp": 1687098348305,
     "user": {
      "displayName": "Ainara Montoya",
      "userId": "04156984210870783133"
     },
     "user_tz": -120
    },
    "id": "W1d_o9pyeKMf",
    "outputId": "ab4abf60-5785-4d71-a7c9-c275b3943bb6"
   },
   "outputs": [
    {
     "name": "stdout",
     "output_type": "stream",
     "text": [
      "['rojo']\n"
     ]
    }
   ],
   "source": [
    "print(df[\"COLOR\"].unique())"
   ]
  },
  {
   "cell_type": "code",
   "execution_count": 160,
   "metadata": {
    "colab": {
     "base_uri": "https://localhost:8080/"
    },
    "executionInfo": {
     "elapsed": 48,
     "status": "ok",
     "timestamp": 1687098348305,
     "user": {
      "displayName": "Ainara Montoya",
      "userId": "04156984210870783133"
     },
     "user_tz": -120
    },
    "id": "mS-a5lVyfd80",
    "outputId": "1d2382a4-535a-4b8a-f8ff-b10c10ea4598"
   },
   "outputs": [
    {
     "name": "stdout",
     "output_type": "stream",
     "text": [
      "[2.5  2.   0.35 0.1  0.2  0.15 0.05]\n"
     ]
    }
   ],
   "source": [
    "print(df[\"PRECIO\"].unique())"
   ]
  },
  {
   "cell_type": "markdown",
   "metadata": {
    "id": "__YcIhX5uXvx"
   },
   "source": [
    "El método `.duplicated()` nos ayuda a analizar los valores duplicados. El parámetro `keep` sirve para controlar como proceder con los valores duplicados:\n",
    "\n",
    "  * `first`: considera la primera aparición del valor repetido como único y el resto como duplicados\n",
    "  * `last`: considera la última aparición del valor repetido como único y el resto como duplicados\n",
    "  * `False`: considera todos los repetidos iguales como duplicados"
   ]
  },
  {
   "cell_type": "code",
   "execution_count": 68,
   "metadata": {
    "colab": {
     "base_uri": "https://localhost:8080/",
     "height": 238
    },
    "executionInfo": {
     "elapsed": 47,
     "status": "ok",
     "timestamp": 1687098348305,
     "user": {
      "displayName": "Ainara Montoya",
      "userId": "04156984210870783133"
     },
     "user_tz": -120
    },
    "id": "T-WmkAIYvViX",
    "outputId": "841aaa08-18e2-45eb-936b-544aeecd121f",
    "tags": []
   },
   "outputs": [
    {
     "data": {
      "text/html": [
       "<div>\n",
       "<style scoped>\n",
       "    .dataframe tbody tr th:only-of-type {\n",
       "        vertical-align: middle;\n",
       "    }\n",
       "\n",
       "    .dataframe tbody tr th {\n",
       "        vertical-align: top;\n",
       "    }\n",
       "\n",
       "    .dataframe thead th {\n",
       "        text-align: right;\n",
       "    }\n",
       "</style>\n",
       "<table border=\"1\" class=\"dataframe\">\n",
       "  <thead>\n",
       "    <tr style=\"text-align: right;\">\n",
       "      <th></th>\n",
       "      <th>FRUTA</th>\n",
       "      <th>CANTIDAD</th>\n",
       "      <th>PRECIO</th>\n",
       "      <th>COLOR</th>\n",
       "      <th>RANKING_FRUTA</th>\n",
       "      <th>RANKING_PRECIO</th>\n",
       "    </tr>\n",
       "  </thead>\n",
       "  <tbody>\n",
       "    <tr>\n",
       "      <th>obs1</th>\n",
       "      <td>sandía</td>\n",
       "      <td>1</td>\n",
       "      <td>2.50</td>\n",
       "      <td>rojo</td>\n",
       "      <td>8.0</td>\n",
       "      <td>1.0</td>\n",
       "    </tr>\n",
       "    <tr>\n",
       "      <th>obs2</th>\n",
       "      <td>melón</td>\n",
       "      <td>1</td>\n",
       "      <td>2.00</td>\n",
       "      <td>rojo</td>\n",
       "      <td>4.0</td>\n",
       "      <td>2.0</td>\n",
       "    </tr>\n",
       "    <tr>\n",
       "      <th>2</th>\n",
       "      <td>manzana</td>\n",
       "      <td>6</td>\n",
       "      <td>0.35</td>\n",
       "      <td>rojo</td>\n",
       "      <td>3.0</td>\n",
       "      <td>3.5</td>\n",
       "    </tr>\n",
       "    <tr>\n",
       "      <th>3</th>\n",
       "      <td>cerezas</td>\n",
       "      <td>10</td>\n",
       "      <td>0.10</td>\n",
       "      <td>rojo</td>\n",
       "      <td>1.0</td>\n",
       "      <td>7.0</td>\n",
       "    </tr>\n",
       "    <tr>\n",
       "      <th>5</th>\n",
       "      <td>pera</td>\n",
       "      <td>6</td>\n",
       "      <td>0.20</td>\n",
       "      <td>rojo</td>\n",
       "      <td>6.0</td>\n",
       "      <td>5.0</td>\n",
       "    </tr>\n",
       "    <tr>\n",
       "      <th>obs8</th>\n",
       "      <td>fresas</td>\n",
       "      <td>10</td>\n",
       "      <td>0.05</td>\n",
       "      <td>rojo</td>\n",
       "      <td>2.0</td>\n",
       "      <td>8.0</td>\n",
       "    </tr>\n",
       "  </tbody>\n",
       "</table>\n",
       "</div>"
      ],
      "text/plain": [
       "        FRUTA  CANTIDAD  PRECIO COLOR  RANKING_FRUTA  RANKING_PRECIO\n",
       "obs1   sandía         1    2.50  rojo            8.0             1.0\n",
       "obs2    melón         1    2.00  rojo            4.0             2.0\n",
       "2     manzana         6    0.35  rojo            3.0             3.5\n",
       "3     cerezas        10    0.10  rojo            1.0             7.0\n",
       "5        pera         6    0.20  rojo            6.0             5.0\n",
       "obs8   fresas        10    0.05  rojo            2.0             8.0"
      ]
     },
     "execution_count": 68,
     "metadata": {},
     "output_type": "execute_result"
    }
   ],
   "source": [
    "bool_duplicated = df[\"CANTIDAD\"].duplicated(keep = False)\n",
    "df[bool_duplicated]"
   ]
  },
  {
   "cell_type": "markdown",
   "metadata": {
    "id": "bJjWs0JMwcmX"
   },
   "source": [
    "El método `.drop_duplicates()` elimina los duplicados del dataframe. De nuevo, volvemos a tener el parámetro `keep` y el parámetro `subset` sirve para indicar las columnas a las que queremos aplicar el método:\n",
    "\n",
    "**Observación.** Para que los cambios sean llevados a cabo en el dataframe original, habrá que indicar `inplace = True`"
   ]
  },
  {
   "cell_type": "code",
   "execution_count": 162,
   "metadata": {
    "colab": {
     "base_uri": "https://localhost:8080/",
     "height": 206
    },
    "executionInfo": {
     "elapsed": 48,
     "status": "ok",
     "timestamp": 1687098348306,
     "user": {
      "displayName": "Ainara Montoya",
      "userId": "04156984210870783133"
     },
     "user_tz": -120
    },
    "id": "IsSYk7uAwiyw",
    "outputId": "315ba053-f5e3-4d93-ae8b-abd9b7f18603"
   },
   "outputs": [
    {
     "data": {
      "text/html": [
       "<div>\n",
       "<style scoped>\n",
       "    .dataframe tbody tr th:only-of-type {\n",
       "        vertical-align: middle;\n",
       "    }\n",
       "\n",
       "    .dataframe tbody tr th {\n",
       "        vertical-align: top;\n",
       "    }\n",
       "\n",
       "    .dataframe thead th {\n",
       "        text-align: right;\n",
       "    }\n",
       "</style>\n",
       "<table border=\"1\" class=\"dataframe\">\n",
       "  <thead>\n",
       "    <tr style=\"text-align: right;\">\n",
       "      <th></th>\n",
       "      <th>FRUTA</th>\n",
       "      <th>CANTIDAD</th>\n",
       "      <th>PRECIO</th>\n",
       "      <th>COLOR</th>\n",
       "      <th>RANKING_FRUTA</th>\n",
       "      <th>RANKING_PRECIO</th>\n",
       "    </tr>\n",
       "  </thead>\n",
       "  <tbody>\n",
       "    <tr>\n",
       "      <th>obs1</th>\n",
       "      <td>sandía</td>\n",
       "      <td>1</td>\n",
       "      <td>2.50</td>\n",
       "      <td>rojo</td>\n",
       "      <td>8.0</td>\n",
       "      <td>1.0</td>\n",
       "    </tr>\n",
       "    <tr>\n",
       "      <th>2</th>\n",
       "      <td>manzana</td>\n",
       "      <td>6</td>\n",
       "      <td>0.35</td>\n",
       "      <td>rojo</td>\n",
       "      <td>3.0</td>\n",
       "      <td>3.5</td>\n",
       "    </tr>\n",
       "    <tr>\n",
       "      <th>3</th>\n",
       "      <td>cerezas</td>\n",
       "      <td>10</td>\n",
       "      <td>0.10</td>\n",
       "      <td>rojo</td>\n",
       "      <td>1.0</td>\n",
       "      <td>7.0</td>\n",
       "    </tr>\n",
       "    <tr>\n",
       "      <th>4</th>\n",
       "      <td>plátano</td>\n",
       "      <td>3</td>\n",
       "      <td>0.35</td>\n",
       "      <td>rojo</td>\n",
       "      <td>7.0</td>\n",
       "      <td>3.5</td>\n",
       "    </tr>\n",
       "    <tr>\n",
       "      <th>6</th>\n",
       "      <td>naranja</td>\n",
       "      <td>4</td>\n",
       "      <td>0.15</td>\n",
       "      <td>rojo</td>\n",
       "      <td>5.0</td>\n",
       "      <td>6.0</td>\n",
       "    </tr>\n",
       "  </tbody>\n",
       "</table>\n",
       "</div>"
      ],
      "text/plain": [
       "        FRUTA  CANTIDAD  PRECIO COLOR  RANKING_FRUTA  RANKING_PRECIO\n",
       "obs1   sandía         1    2.50  rojo            8.0             1.0\n",
       "2     manzana         6    0.35  rojo            3.0             3.5\n",
       "3     cerezas        10    0.10  rojo            1.0             7.0\n",
       "4     plátano         3    0.35  rojo            7.0             3.5\n",
       "6     naranja         4    0.15  rojo            5.0             6.0"
      ]
     },
     "execution_count": 162,
     "metadata": {},
     "output_type": "execute_result"
    }
   ],
   "source": [
    "df_without_duplicates = df.drop_duplicates(subset = \"CANTIDAD\", keep = \"first\")\n",
    "df_without_duplicates"
   ]
  },
  {
   "cell_type": "markdown",
   "metadata": {
    "id": "-LzqOeGTngCu"
   },
   "source": [
    "El método `.nsmallest()` nos devuelve las $n$ filas con menor valor de la columna que indiquemos por parámetro"
   ]
  },
  {
   "cell_type": "code",
   "execution_count": 163,
   "metadata": {
    "colab": {
     "base_uri": "https://localhost:8080/",
     "height": 143
    },
    "executionInfo": {
     "elapsed": 47,
     "status": "ok",
     "timestamp": 1687098348306,
     "user": {
      "displayName": "Ainara Montoya",
      "userId": "04156984210870783133"
     },
     "user_tz": -120
    },
    "id": "XMWCvgrSnoCZ",
    "outputId": "7677cb78-c743-4113-da6f-1ab10ead794b"
   },
   "outputs": [
    {
     "data": {
      "text/html": [
       "<div>\n",
       "<style scoped>\n",
       "    .dataframe tbody tr th:only-of-type {\n",
       "        vertical-align: middle;\n",
       "    }\n",
       "\n",
       "    .dataframe tbody tr th {\n",
       "        vertical-align: top;\n",
       "    }\n",
       "\n",
       "    .dataframe thead th {\n",
       "        text-align: right;\n",
       "    }\n",
       "</style>\n",
       "<table border=\"1\" class=\"dataframe\">\n",
       "  <thead>\n",
       "    <tr style=\"text-align: right;\">\n",
       "      <th></th>\n",
       "      <th>FRUTA</th>\n",
       "      <th>CANTIDAD</th>\n",
       "      <th>PRECIO</th>\n",
       "      <th>COLOR</th>\n",
       "      <th>RANKING_FRUTA</th>\n",
       "      <th>RANKING_PRECIO</th>\n",
       "    </tr>\n",
       "  </thead>\n",
       "  <tbody>\n",
       "    <tr>\n",
       "      <th>obs8</th>\n",
       "      <td>fresas</td>\n",
       "      <td>10</td>\n",
       "      <td>0.05</td>\n",
       "      <td>rojo</td>\n",
       "      <td>2.0</td>\n",
       "      <td>8.0</td>\n",
       "    </tr>\n",
       "    <tr>\n",
       "      <th>3</th>\n",
       "      <td>cerezas</td>\n",
       "      <td>10</td>\n",
       "      <td>0.10</td>\n",
       "      <td>rojo</td>\n",
       "      <td>1.0</td>\n",
       "      <td>7.0</td>\n",
       "    </tr>\n",
       "    <tr>\n",
       "      <th>6</th>\n",
       "      <td>naranja</td>\n",
       "      <td>4</td>\n",
       "      <td>0.15</td>\n",
       "      <td>rojo</td>\n",
       "      <td>5.0</td>\n",
       "      <td>6.0</td>\n",
       "    </tr>\n",
       "  </tbody>\n",
       "</table>\n",
       "</div>"
      ],
      "text/plain": [
       "        FRUTA  CANTIDAD  PRECIO COLOR  RANKING_FRUTA  RANKING_PRECIO\n",
       "obs8   fresas        10    0.05  rojo            2.0             8.0\n",
       "3     cerezas        10    0.10  rojo            1.0             7.0\n",
       "6     naranja         4    0.15  rojo            5.0             6.0"
      ]
     },
     "execution_count": 163,
     "metadata": {},
     "output_type": "execute_result"
    }
   ],
   "source": [
    "# Queremos las 3 observaciones con menor precio\n",
    "df.nsmallest(3, \"PRECIO\")"
   ]
  },
  {
   "cell_type": "markdown",
   "metadata": {
    "id": "bkhiv3i4nxyL"
   },
   "source": [
    "El método `.largest()` nos devuelve las $n$ filas con mayor valor de la columna que indiquemos por parámetro"
   ]
  },
  {
   "cell_type": "code",
   "execution_count": 164,
   "metadata": {
    "colab": {
     "base_uri": "https://localhost:8080/",
     "height": 206
    },
    "executionInfo": {
     "elapsed": 46,
     "status": "ok",
     "timestamp": 1687098348306,
     "user": {
      "displayName": "Ainara Montoya",
      "userId": "04156984210870783133"
     },
     "user_tz": -120
    },
    "id": "NSXFMBn7n5Oc",
    "outputId": "20c4085d-5221-422d-a6af-f0bf5e8bd361"
   },
   "outputs": [
    {
     "data": {
      "text/html": [
       "<div>\n",
       "<style scoped>\n",
       "    .dataframe tbody tr th:only-of-type {\n",
       "        vertical-align: middle;\n",
       "    }\n",
       "\n",
       "    .dataframe tbody tr th {\n",
       "        vertical-align: top;\n",
       "    }\n",
       "\n",
       "    .dataframe thead th {\n",
       "        text-align: right;\n",
       "    }\n",
       "</style>\n",
       "<table border=\"1\" class=\"dataframe\">\n",
       "  <thead>\n",
       "    <tr style=\"text-align: right;\">\n",
       "      <th></th>\n",
       "      <th>FRUTA</th>\n",
       "      <th>CANTIDAD</th>\n",
       "      <th>PRECIO</th>\n",
       "      <th>COLOR</th>\n",
       "      <th>RANKING_FRUTA</th>\n",
       "      <th>RANKING_PRECIO</th>\n",
       "    </tr>\n",
       "  </thead>\n",
       "  <tbody>\n",
       "    <tr>\n",
       "      <th>3</th>\n",
       "      <td>cerezas</td>\n",
       "      <td>10</td>\n",
       "      <td>0.10</td>\n",
       "      <td>rojo</td>\n",
       "      <td>1.0</td>\n",
       "      <td>7.0</td>\n",
       "    </tr>\n",
       "    <tr>\n",
       "      <th>obs8</th>\n",
       "      <td>fresas</td>\n",
       "      <td>10</td>\n",
       "      <td>0.05</td>\n",
       "      <td>rojo</td>\n",
       "      <td>2.0</td>\n",
       "      <td>8.0</td>\n",
       "    </tr>\n",
       "    <tr>\n",
       "      <th>2</th>\n",
       "      <td>manzana</td>\n",
       "      <td>6</td>\n",
       "      <td>0.35</td>\n",
       "      <td>rojo</td>\n",
       "      <td>3.0</td>\n",
       "      <td>3.5</td>\n",
       "    </tr>\n",
       "    <tr>\n",
       "      <th>5</th>\n",
       "      <td>pera</td>\n",
       "      <td>6</td>\n",
       "      <td>0.20</td>\n",
       "      <td>rojo</td>\n",
       "      <td>6.0</td>\n",
       "      <td>5.0</td>\n",
       "    </tr>\n",
       "    <tr>\n",
       "      <th>6</th>\n",
       "      <td>naranja</td>\n",
       "      <td>4</td>\n",
       "      <td>0.15</td>\n",
       "      <td>rojo</td>\n",
       "      <td>5.0</td>\n",
       "      <td>6.0</td>\n",
       "    </tr>\n",
       "  </tbody>\n",
       "</table>\n",
       "</div>"
      ],
      "text/plain": [
       "        FRUTA  CANTIDAD  PRECIO COLOR  RANKING_FRUTA  RANKING_PRECIO\n",
       "3     cerezas        10    0.10  rojo            1.0             7.0\n",
       "obs8   fresas        10    0.05  rojo            2.0             8.0\n",
       "2     manzana         6    0.35  rojo            3.0             3.5\n",
       "5        pera         6    0.20  rojo            6.0             5.0\n",
       "6     naranja         4    0.15  rojo            5.0             6.0"
      ]
     },
     "execution_count": 164,
     "metadata": {},
     "output_type": "execute_result"
    }
   ],
   "source": [
    "# Queremos las 5 observaciones con mayor cantidad\n",
    "df.nlargest(5, \"CANTIDAD\")"
   ]
  },
  {
   "cell_type": "markdown",
   "metadata": {
    "id": "LQvL59Puim0_"
   },
   "source": [
    "El método `.dtypes` nos indica de qué tipo es cada columna del dataframe"
   ]
  },
  {
   "cell_type": "code",
   "execution_count": 165,
   "metadata": {
    "colab": {
     "base_uri": "https://localhost:8080/"
    },
    "executionInfo": {
     "elapsed": 45,
     "status": "ok",
     "timestamp": 1687098348306,
     "user": {
      "displayName": "Ainara Montoya",
      "userId": "04156984210870783133"
     },
     "user_tz": -120
    },
    "id": "wY6BPqm7igZT",
    "outputId": "2b6a6c8b-0277-4c37-b8c3-3986f13d1602"
   },
   "outputs": [
    {
     "data": {
      "text/plain": [
       "FRUTA              object\n",
       "CANTIDAD            int64\n",
       "PRECIO            float64\n",
       "COLOR              object\n",
       "RANKING_FRUTA     float64\n",
       "RANKING_PRECIO    float64\n",
       "dtype: object"
      ]
     },
     "execution_count": 165,
     "metadata": {},
     "output_type": "execute_result"
    }
   ],
   "source": [
    "df.dtypes"
   ]
  },
  {
   "cell_type": "markdown",
   "metadata": {
    "id": "W_TMN3KkCx9K"
   },
   "source": [
    "## Bucles y dataframes\n",
    "\n",
    "Para iterar sobre las filas de un dataframe, podemos utilizar los métodos:\n",
    "\n",
    "- `.iterrows()`\n",
    "- `.itertuples()`"
   ]
  },
  {
   "cell_type": "code",
   "execution_count": 2,
   "metadata": {
    "colab": {
     "base_uri": "https://localhost:8080/",
     "height": 143
    },
    "executionInfo": {
     "elapsed": 44,
     "status": "ok",
     "timestamp": 1687098348306,
     "user": {
      "displayName": "Ainara Montoya",
      "userId": "04156984210870783133"
     },
     "user_tz": -120
    },
    "id": "cYWyadM8Awgu",
    "outputId": "1cc00293-83a6-45ee-c981-8f458d15eec4",
    "tags": []
   },
   "outputs": [
    {
     "data": {
      "text/html": [
       "<div>\n",
       "<style scoped>\n",
       "    .dataframe tbody tr th:only-of-type {\n",
       "        vertical-align: middle;\n",
       "    }\n",
       "\n",
       "    .dataframe tbody tr th {\n",
       "        vertical-align: top;\n",
       "    }\n",
       "\n",
       "    .dataframe thead th {\n",
       "        text-align: right;\n",
       "    }\n",
       "</style>\n",
       "<table border=\"1\" class=\"dataframe\">\n",
       "  <thead>\n",
       "    <tr style=\"text-align: right;\">\n",
       "      <th></th>\n",
       "      <th>name</th>\n",
       "      <th>surname</th>\n",
       "      <th>gender</th>\n",
       "    </tr>\n",
       "  </thead>\n",
       "  <tbody>\n",
       "    <tr>\n",
       "      <th>0</th>\n",
       "      <td>Laura</td>\n",
       "      <td>Uriarte</td>\n",
       "      <td>f</td>\n",
       "    </tr>\n",
       "    <tr>\n",
       "      <th>1</th>\n",
       "      <td>Miren</td>\n",
       "      <td>Izaga</td>\n",
       "      <td>f</td>\n",
       "    </tr>\n",
       "    <tr>\n",
       "      <th>2</th>\n",
       "      <td>Eneko</td>\n",
       "      <td>Zen</td>\n",
       "      <td>m</td>\n",
       "    </tr>\n",
       "  </tbody>\n",
       "</table>\n",
       "</div>"
      ],
      "text/plain": [
       "    name  surname gender\n",
       "0  Laura  Uriarte      f\n",
       "1  Miren    Izaga      f\n",
       "2  Eneko      Zen      m"
      ]
     },
     "execution_count": 2,
     "metadata": {},
     "output_type": "execute_result"
    }
   ],
   "source": [
    "d = {\"name\": [\"Laura\", \"Miren\", \"Eneko\"],\n",
    "     \"surname\": [\"Uriarte\", \"Izaga\", \"Zen\"],\n",
    "     \"gender\": [\"f\", \"f\", \"m\"]}\n",
    "\n",
    "df = pd.DataFrame(d)\n",
    "df"
   ]
  },
  {
   "cell_type": "markdown",
   "metadata": {
    "id": "9lxbougnwQrt"
   },
   "source": [
    "Usamos `.iterrows()` para obtener el índice de cada fila junto al contenido de cada una:"
   ]
  },
  {
   "cell_type": "code",
   "execution_count": 70,
   "metadata": {
    "colab": {
     "base_uri": "https://localhost:8080/"
    },
    "executionInfo": {
     "elapsed": 44,
     "status": "ok",
     "timestamp": 1687098348307,
     "user": {
      "displayName": "Ainara Montoya",
      "userId": "04156984210870783133"
     },
     "user_tz": -120
    },
    "id": "e7gxzJa1wYjx",
    "outputId": "04b5e6ca-21eb-4762-f9cb-9d208f5f357c",
    "tags": []
   },
   "outputs": [
    {
     "name": "stdout",
     "output_type": "stream",
     "text": [
      "Índice de la fila: 0,\n",
      "\n",
      "Contenido de la fila:\n",
      "name         Laura\n",
      "surname    Uriarte\n",
      "gender           f\n",
      "Name: 0, dtype: object\n",
      "\n",
      "\n",
      "Índice de la fila: 1,\n",
      "\n",
      "Contenido de la fila:\n",
      "name       Miren\n",
      "surname    Izaga\n",
      "gender         f\n",
      "Name: 1, dtype: object\n",
      "\n",
      "\n",
      "Índice de la fila: 2,\n",
      "\n",
      "Contenido de la fila:\n",
      "name       Eneko\n",
      "surname      Zen\n",
      "gender         m\n",
      "Name: 2, dtype: object\n",
      "\n",
      "\n"
     ]
    }
   ],
   "source": [
    "for i, j in df.iterrows():\n",
    "  print(\"Índice de la fila: {},\\n\\nContenido de la fila:\\n{}\".format(i, j), end = \"\\n\\n\\n\")"
   ]
  },
  {
   "cell_type": "markdown",
   "metadata": {
    "id": "-Bp6m13WyL3b"
   },
   "source": [
    "Usamos `.itertuples()` para obtener una tupla con toda la información de cada fila:"
   ]
  },
  {
   "cell_type": "code",
   "execution_count": 3,
   "metadata": {
    "colab": {
     "base_uri": "https://localhost:8080/"
    },
    "executionInfo": {
     "elapsed": 43,
     "status": "ok",
     "timestamp": 1687098348307,
     "user": {
      "displayName": "Ainara Montoya",
      "userId": "04156984210870783133"
     },
     "user_tz": -120
    },
    "id": "6Ex5HXBqyNpy",
    "outputId": "d8a2d6a1-2038-4c85-a0d3-cb7658c8cb24",
    "tags": []
   },
   "outputs": [
    {
     "name": "stdout",
     "output_type": "stream",
     "text": [
      "Contenido de la fila:\n",
      "Pandas(Index=0, name='Laura', surname='Uriarte', gender='f')\n",
      "\n",
      "Contenido de la fila:\n",
      "Pandas(Index=1, name='Miren', surname='Izaga', gender='f')\n",
      "\n",
      "Contenido de la fila:\n",
      "Pandas(Index=2, name='Eneko', surname='Zen', gender='m')\n",
      "\n"
     ]
    }
   ],
   "source": [
    "for i in df.itertuples():\n",
    "  print(\"Contenido de la fila:\\n{}\".format(i), end = \"\\n\\n\")\n",
    "  "
   ]
  },
  {
   "cell_type": "markdown",
   "metadata": {
    "id": "dZMKBALnyzGS"
   },
   "source": [
    "Para iterar sobre las columnas de un dataframe,\n",
    "\n",
    "- creamos una lista de las columnas del dataframe y luego iterarmos sobre esa lista para obtener la información de esas columnas\n",
    "- usamos el método `.iteritems()`"
   ]
  },
  {
   "cell_type": "markdown",
   "metadata": {
    "id": "ZmEYFHAJbk0Q"
   },
   "source": [
    "Creamos la lista de columnas e iteramos sobre esta:"
   ]
  },
  {
   "cell_type": "code",
   "execution_count": 72,
   "metadata": {
    "colab": {
     "base_uri": "https://localhost:8080/"
    },
    "executionInfo": {
     "elapsed": 41,
     "status": "ok",
     "timestamp": 1687098348307,
     "user": {
      "displayName": "Ainara Montoya",
      "userId": "04156984210870783133"
     },
     "user_tz": -120
    },
    "id": "ByqW1kRGy8nk",
    "outputId": "5ba0770f-b7c0-4612-893f-dce062c89c2b",
    "tags": []
   },
   "outputs": [
    {
     "name": "stdout",
     "output_type": "stream",
     "text": [
      "['name', 'surname', 'gender']\n"
     ]
    }
   ],
   "source": [
    "columns = list(df)\n",
    "print(columns)"
   ]
  },
  {
   "cell_type": "code",
   "execution_count": 74,
   "metadata": {
    "colab": {
     "base_uri": "https://localhost:8080/"
    },
    "executionInfo": {
     "elapsed": 40,
     "status": "ok",
     "timestamp": 1687098348307,
     "user": {
      "displayName": "Ainara Montoya",
      "userId": "04156984210870783133"
     },
     "user_tz": -120
    },
    "id": "Y3Lbe1I-zAp0",
    "outputId": "76bc77f6-3cca-4eeb-d331-3255bafd4d94",
    "tags": []
   },
   "outputs": [
    {
     "name": "stdout",
     "output_type": "stream",
     "text": [
      "Columna name:\n",
      "0    Laura\n",
      "1    Miren\n",
      "2    Eneko\n",
      "Name: name, dtype: object\n",
      "\n",
      "Columna surname:\n",
      "0    Uriarte\n",
      "1      Izaga\n",
      "2        Zen\n",
      "Name: surname, dtype: object\n",
      "\n",
      "Columna gender:\n",
      "0    f\n",
      "1    f\n",
      "2    m\n",
      "Name: gender, dtype: object\n",
      "\n"
     ]
    }
   ],
   "source": [
    "for c in columns:\n",
    "  print(\"Columna {}:\\n{}\".format(c, df[c]), end = \"\\n\\n\")"
   ]
  },
  {
   "cell_type": "markdown",
   "metadata": {
    "id": "xfS3zZC9bpaI"
   },
   "source": [
    "Usamos `.items()` para obtener el nombre de cada columna junto al contenido de cada una:"
   ]
  },
  {
   "cell_type": "code",
   "execution_count": 75,
   "metadata": {
    "colab": {
     "base_uri": "https://localhost:8080/"
    },
    "executionInfo": {
     "elapsed": 530,
     "status": "ok",
     "timestamp": 1687098348798,
     "user": {
      "displayName": "Ainara Montoya",
      "userId": "04156984210870783133"
     },
     "user_tz": -120
    },
    "id": "7OrFiaLExu51",
    "outputId": "d7e3fe06-6ca6-474d-cc75-7839921e0c5a",
    "tags": []
   },
   "outputs": [
    {
     "name": "stdout",
     "output_type": "stream",
     "text": [
      "Nombre de la columna: name,\n",
      "\n",
      "Contenido de la columna:\n",
      "0    Laura\n",
      "1    Miren\n",
      "2    Eneko\n",
      "Name: name, dtype: object\n",
      "\n",
      "\n",
      "Nombre de la columna: surname,\n",
      "\n",
      "Contenido de la columna:\n",
      "0    Uriarte\n",
      "1      Izaga\n",
      "2        Zen\n",
      "Name: surname, dtype: object\n",
      "\n",
      "\n",
      "Nombre de la columna: gender,\n",
      "\n",
      "Contenido de la columna:\n",
      "0    f\n",
      "1    f\n",
      "2    m\n",
      "Name: gender, dtype: object\n",
      "\n",
      "\n"
     ]
    }
   ],
   "source": [
    "for i, j in df.items():\n",
    "  print(\"Nombre de la columna: {},\\n\\nContenido de la columna:\\n{}\".format(i, j), end = \"\\n\\n\\n\")"
   ]
  },
  {
   "cell_type": "markdown",
   "metadata": {
    "id": "eKe_O_NCEBr1"
   },
   "source": [
    "## Dataframes a partir de archivos CSV\n",
    "\n",
    "Podemos guardar la información de un archivo csv en un dataframe usando la función `read_csv()`.\n",
    "\n",
    "El archivo puede\n",
    "\n",
    "- estar guardado en nuestro directorio de trabajo\n",
    "- proceder de una url\n",
    "\n"
   ]
  },
  {
   "cell_type": "markdown",
   "metadata": {
    "id": "FhhT25yyEOzP"
   },
   "source": [
    "### Desde directorio de trabajo (con Google Drive)\n",
    "\n",
    "Vamos a cargar el archivo llamado `characters-simpsons.csv` que tenemos guardado en una carpeta de Google Drive.\n",
    "\n",
    "Para ello, lo primero que tenemos que hacer es conectar este notebook de Colab con Google Drive."
   ]
  },
  {
   "cell_type": "code",
   "execution_count": 76,
   "metadata": {
    "colab": {
     "base_uri": "https://localhost:8080/",
     "height": 353
    },
    "executionInfo": {
     "elapsed": 221,
     "status": "error",
     "timestamp": 1687098890917,
     "user": {
      "displayName": "Ainara Montoya",
      "userId": "04156984210870783133"
     },
     "user_tz": -120
    },
    "id": "loTznG-mNFvZ",
    "outputId": "a172780c-8c3c-4e4d-ac70-0006657b6705",
    "tags": []
   },
   "outputs": [
    {
     "data": {
      "text/html": [
       "<div>\n",
       "<style scoped>\n",
       "    .dataframe tbody tr th:only-of-type {\n",
       "        vertical-align: middle;\n",
       "    }\n",
       "\n",
       "    .dataframe tbody tr th {\n",
       "        vertical-align: top;\n",
       "    }\n",
       "\n",
       "    .dataframe thead th {\n",
       "        text-align: right;\n",
       "    }\n",
       "</style>\n",
       "<table border=\"1\" class=\"dataframe\">\n",
       "  <thead>\n",
       "    <tr style=\"text-align: right;\">\n",
       "      <th></th>\n",
       "      <th>id</th>\n",
       "      <th>name</th>\n",
       "      <th>normalized_name</th>\n",
       "      <th>gender</th>\n",
       "    </tr>\n",
       "  </thead>\n",
       "  <tbody>\n",
       "    <tr>\n",
       "      <th>0</th>\n",
       "      <td>7</td>\n",
       "      <td>Children</td>\n",
       "      <td>children</td>\n",
       "      <td>NaN</td>\n",
       "    </tr>\n",
       "    <tr>\n",
       "      <th>1</th>\n",
       "      <td>12</td>\n",
       "      <td>Mechanical Santa</td>\n",
       "      <td>mechanical santa</td>\n",
       "      <td>NaN</td>\n",
       "    </tr>\n",
       "    <tr>\n",
       "      <th>2</th>\n",
       "      <td>13</td>\n",
       "      <td>Tattoo Man</td>\n",
       "      <td>tattoo man</td>\n",
       "      <td>NaN</td>\n",
       "    </tr>\n",
       "    <tr>\n",
       "      <th>3</th>\n",
       "      <td>16</td>\n",
       "      <td>DOCTOR ZITSOFSKY</td>\n",
       "      <td>doctor zitsofsky</td>\n",
       "      <td>NaN</td>\n",
       "    </tr>\n",
       "    <tr>\n",
       "      <th>4</th>\n",
       "      <td>20</td>\n",
       "      <td>Students</td>\n",
       "      <td>students</td>\n",
       "      <td>NaN</td>\n",
       "    </tr>\n",
       "  </tbody>\n",
       "</table>\n",
       "</div>"
      ],
      "text/plain": [
       "   id              name   normalized_name gender\n",
       "0   7          Children          children    NaN\n",
       "1  12  Mechanical Santa  mechanical santa    NaN\n",
       "2  13        Tattoo Man        tattoo man    NaN\n",
       "3  16  DOCTOR ZITSOFSKY  doctor zitsofsky    NaN\n",
       "4  20          Students          students    NaN"
      ]
     },
     "execution_count": 76,
     "metadata": {},
     "output_type": "execute_result"
    }
   ],
   "source": [
    "#from google.colab import drive\n",
    "#drive.mount('/content/drive')\n",
    "#simpsons_df = pd.read_csv(\"/content/drive/MyDrive/IA y Big Data/Python/Apuntes/Datos/characters-simpsons.csv\")\n",
    "#Las líneas comentadas son para llegar al fichero si usamos google.colab\n",
    "simpsons_df = pd.read_csv(\"Datos/characters-simpsons.csv\")\n",
    "simpsons_df.head()"
   ]
  },
  {
   "cell_type": "code",
   "execution_count": 77,
   "metadata": {
    "executionInfo": {
     "elapsed": 12,
     "status": "aborted",
     "timestamp": 1687098348800,
     "user": {
      "displayName": "Ainara Montoya",
      "userId": "04156984210870783133"
     },
     "user_tz": -120
    },
    "id": "8X4Lbhe0vwFo",
    "tags": []
   },
   "outputs": [
    {
     "data": {
      "text/html": [
       "<div>\n",
       "<style scoped>\n",
       "    .dataframe tbody tr th:only-of-type {\n",
       "        vertical-align: middle;\n",
       "    }\n",
       "\n",
       "    .dataframe tbody tr th {\n",
       "        vertical-align: top;\n",
       "    }\n",
       "\n",
       "    .dataframe thead th {\n",
       "        text-align: right;\n",
       "    }\n",
       "</style>\n",
       "<table border=\"1\" class=\"dataframe\">\n",
       "  <thead>\n",
       "    <tr style=\"text-align: right;\">\n",
       "      <th></th>\n",
       "      <th>id</th>\n",
       "      <th>name</th>\n",
       "      <th>normalized_name</th>\n",
       "      <th>gender</th>\n",
       "    </tr>\n",
       "  </thead>\n",
       "  <tbody>\n",
       "    <tr>\n",
       "      <th>6717</th>\n",
       "      <td>5222</td>\n",
       "      <td>Ron Rabinowitz</td>\n",
       "      <td>ron rabinowitz</td>\n",
       "      <td>m</td>\n",
       "    </tr>\n",
       "    <tr>\n",
       "      <th>6718</th>\n",
       "      <td>5728</td>\n",
       "      <td>Martha Stewart</td>\n",
       "      <td>martha stewart</td>\n",
       "      <td>f</td>\n",
       "    </tr>\n",
       "    <tr>\n",
       "      <th>6719</th>\n",
       "      <td>1770</td>\n",
       "      <td>Officer Goodman</td>\n",
       "      <td>officer goodman</td>\n",
       "      <td>m</td>\n",
       "    </tr>\n",
       "    <tr>\n",
       "      <th>6720</th>\n",
       "      <td>1634</td>\n",
       "      <td>Evan Conover</td>\n",
       "      <td>evan conover</td>\n",
       "      <td>m</td>\n",
       "    </tr>\n",
       "    <tr>\n",
       "      <th>6721</th>\n",
       "      <td>1868</td>\n",
       "      <td>Agent Johnson</td>\n",
       "      <td>agent johnson</td>\n",
       "      <td>m</td>\n",
       "    </tr>\n",
       "  </tbody>\n",
       "</table>\n",
       "</div>"
      ],
      "text/plain": [
       "        id             name  normalized_name gender\n",
       "6717  5222   Ron Rabinowitz   ron rabinowitz      m\n",
       "6718  5728   Martha Stewart   martha stewart      f\n",
       "6719  1770  Officer Goodman  officer goodman      m\n",
       "6720  1634     Evan Conover     evan conover      m\n",
       "6721  1868    Agent Johnson    agent johnson      m"
      ]
     },
     "execution_count": 77,
     "metadata": {},
     "output_type": "execute_result"
    }
   ],
   "source": [
    "simpsons_df.tail()"
   ]
  },
  {
   "cell_type": "markdown",
   "metadata": {
    "id": "gZn1SRCnJsjD"
   },
   "source": [
    "### Desde url\n",
    "\n",
    "Vamos a cargar el archivo que contiene la frecuencia de aparición de las letras del alfabeto inglés. Este archivo se llama letter_frequency.csv procede de la siguiente [url](https://people.sc.fsu.edu/~jburkardt/data/csv/letter_frequency.csv)"
   ]
  },
  {
   "cell_type": "code",
   "execution_count": 78,
   "metadata": {
    "executionInfo": {
     "elapsed": 11,
     "status": "aborted",
     "timestamp": 1687098348800,
     "user": {
      "displayName": "Ainara Montoya",
      "userId": "04156984210870783133"
     },
     "user_tz": -120
    },
    "id": "vo2Na3e9EEWU",
    "tags": []
   },
   "outputs": [
    {
     "data": {
      "text/html": [
       "<div>\n",
       "<style scoped>\n",
       "    .dataframe tbody tr th:only-of-type {\n",
       "        vertical-align: middle;\n",
       "    }\n",
       "\n",
       "    .dataframe tbody tr th {\n",
       "        vertical-align: top;\n",
       "    }\n",
       "\n",
       "    .dataframe thead th {\n",
       "        text-align: right;\n",
       "    }\n",
       "</style>\n",
       "<table border=\"1\" class=\"dataframe\">\n",
       "  <thead>\n",
       "    <tr style=\"text-align: right;\">\n",
       "      <th></th>\n",
       "      <th>Letra</th>\n",
       "      <th>Frecuencia</th>\n",
       "      <th>Porcentaje</th>\n",
       "    </tr>\n",
       "  </thead>\n",
       "  <tbody>\n",
       "    <tr>\n",
       "      <th>0</th>\n",
       "      <td>\"A\"</td>\n",
       "      <td>24373121</td>\n",
       "      <td>8.1</td>\n",
       "    </tr>\n",
       "    <tr>\n",
       "      <th>1</th>\n",
       "      <td>\"B\"</td>\n",
       "      <td>4762938</td>\n",
       "      <td>1.6</td>\n",
       "    </tr>\n",
       "    <tr>\n",
       "      <th>2</th>\n",
       "      <td>\"C\"</td>\n",
       "      <td>8982417</td>\n",
       "      <td>3.0</td>\n",
       "    </tr>\n",
       "    <tr>\n",
       "      <th>3</th>\n",
       "      <td>\"D\"</td>\n",
       "      <td>10805580</td>\n",
       "      <td>3.6</td>\n",
       "    </tr>\n",
       "    <tr>\n",
       "      <th>4</th>\n",
       "      <td>\"E\"</td>\n",
       "      <td>37907119</td>\n",
       "      <td>12.6</td>\n",
       "    </tr>\n",
       "    <tr>\n",
       "      <th>5</th>\n",
       "      <td>\"F\"</td>\n",
       "      <td>7486889</td>\n",
       "      <td>2.5</td>\n",
       "    </tr>\n",
       "    <tr>\n",
       "      <th>6</th>\n",
       "      <td>\"G\"</td>\n",
       "      <td>5143059</td>\n",
       "      <td>1.7</td>\n",
       "    </tr>\n",
       "    <tr>\n",
       "      <th>7</th>\n",
       "      <td>\"H\"</td>\n",
       "      <td>18058207</td>\n",
       "      <td>6.0</td>\n",
       "    </tr>\n",
       "    <tr>\n",
       "      <th>8</th>\n",
       "      <td>\"I\"</td>\n",
       "      <td>21820970</td>\n",
       "      <td>7.3</td>\n",
       "    </tr>\n",
       "    <tr>\n",
       "      <th>9</th>\n",
       "      <td>\"J\"</td>\n",
       "      <td>474021</td>\n",
       "      <td>0.2</td>\n",
       "    </tr>\n",
       "    <tr>\n",
       "      <th>10</th>\n",
       "      <td>\"K\"</td>\n",
       "      <td>1720909</td>\n",
       "      <td>0.6</td>\n",
       "    </tr>\n",
       "    <tr>\n",
       "      <th>11</th>\n",
       "      <td>\"L\"</td>\n",
       "      <td>11730498</td>\n",
       "      <td>3.9</td>\n",
       "    </tr>\n",
       "    <tr>\n",
       "      <th>12</th>\n",
       "      <td>\"M\"</td>\n",
       "      <td>7391366</td>\n",
       "      <td>2.5</td>\n",
       "    </tr>\n",
       "    <tr>\n",
       "      <th>13</th>\n",
       "      <td>\"N\"</td>\n",
       "      <td>21402466</td>\n",
       "      <td>7.1</td>\n",
       "    </tr>\n",
       "    <tr>\n",
       "      <th>14</th>\n",
       "      <td>\"O\"</td>\n",
       "      <td>23215532</td>\n",
       "      <td>7.7</td>\n",
       "    </tr>\n",
       "    <tr>\n",
       "      <th>15</th>\n",
       "      <td>\"P\"</td>\n",
       "      <td>5719422</td>\n",
       "      <td>1.9</td>\n",
       "    </tr>\n",
       "    <tr>\n",
       "      <th>16</th>\n",
       "      <td>\"Q\"</td>\n",
       "      <td>297237</td>\n",
       "      <td>0.1</td>\n",
       "    </tr>\n",
       "    <tr>\n",
       "      <th>17</th>\n",
       "      <td>\"R\"</td>\n",
       "      <td>17897352</td>\n",
       "      <td>5.9</td>\n",
       "    </tr>\n",
       "    <tr>\n",
       "      <th>18</th>\n",
       "      <td>\"S\"</td>\n",
       "      <td>19059775</td>\n",
       "      <td>6.3</td>\n",
       "    </tr>\n",
       "    <tr>\n",
       "      <th>19</th>\n",
       "      <td>\"T\"</td>\n",
       "      <td>28691274</td>\n",
       "      <td>9.5</td>\n",
       "    </tr>\n",
       "    <tr>\n",
       "      <th>20</th>\n",
       "      <td>\"U\"</td>\n",
       "      <td>8022379</td>\n",
       "      <td>2.7</td>\n",
       "    </tr>\n",
       "    <tr>\n",
       "      <th>21</th>\n",
       "      <td>\"V\"</td>\n",
       "      <td>2835696</td>\n",
       "      <td>0.9</td>\n",
       "    </tr>\n",
       "    <tr>\n",
       "      <th>22</th>\n",
       "      <td>\"W\"</td>\n",
       "      <td>6505294</td>\n",
       "      <td>2.2</td>\n",
       "    </tr>\n",
       "    <tr>\n",
       "      <th>23</th>\n",
       "      <td>\"X\"</td>\n",
       "      <td>562732</td>\n",
       "      <td>0.2</td>\n",
       "    </tr>\n",
       "    <tr>\n",
       "      <th>24</th>\n",
       "      <td>\"Y\"</td>\n",
       "      <td>5910495</td>\n",
       "      <td>2.0</td>\n",
       "    </tr>\n",
       "    <tr>\n",
       "      <th>25</th>\n",
       "      <td>\"Z\"</td>\n",
       "      <td>93172</td>\n",
       "      <td>0.0</td>\n",
       "    </tr>\n",
       "  </tbody>\n",
       "</table>\n",
       "</div>"
      ],
      "text/plain": [
       "      Letra  Frecuencia  Porcentaje\n",
       "0       \"A\"    24373121         8.1\n",
       "1       \"B\"     4762938         1.6\n",
       "2       \"C\"     8982417         3.0\n",
       "3       \"D\"    10805580         3.6\n",
       "4       \"E\"    37907119        12.6\n",
       "5       \"F\"     7486889         2.5\n",
       "6       \"G\"     5143059         1.7\n",
       "7       \"H\"    18058207         6.0\n",
       "8       \"I\"    21820970         7.3\n",
       "9       \"J\"      474021         0.2\n",
       "10      \"K\"     1720909         0.6\n",
       "11      \"L\"    11730498         3.9\n",
       "12      \"M\"     7391366         2.5\n",
       "13      \"N\"    21402466         7.1\n",
       "14      \"O\"    23215532         7.7\n",
       "15      \"P\"     5719422         1.9\n",
       "16      \"Q\"      297237         0.1\n",
       "17      \"R\"    17897352         5.9\n",
       "18      \"S\"    19059775         6.3\n",
       "19      \"T\"    28691274         9.5\n",
       "20      \"U\"     8022379         2.7\n",
       "21      \"V\"     2835696         0.9\n",
       "22      \"W\"     6505294         2.2\n",
       "23      \"X\"      562732         0.2\n",
       "24      \"Y\"     5910495         2.0\n",
       "25      \"Z\"       93172         0.0"
      ]
     },
     "execution_count": 78,
     "metadata": {},
     "output_type": "execute_result"
    }
   ],
   "source": [
    "letters_freq_df = pd.read_csv(\"https://people.sc.fsu.edu/~jburkardt/data/csv/letter_frequency.csv\")\n",
    "letters_freq_df.columns = [\"Letra\", \"Frecuencia\", \"Porcentaje\"]\n",
    "letters_freq_df"
   ]
  },
  {
   "cell_type": "markdown",
   "metadata": {
    "id": "bGG2HI9rfC1m"
   },
   "source": [
    "## Dataframes a partir de archivos JSON\n",
    "\n",
    "Podemos guardar la información de un archivo json en un dataframe usando el método `.read_json()`.\n",
    "\n",
    "El archivo puede\n",
    "\n",
    "- estar guardado en nuestro directorio de trabajo\n",
    "- proceder de una url"
   ]
  },
  {
   "cell_type": "markdown",
   "metadata": {
    "id": "_fr_ELGcfd-f"
   },
   "source": [
    "### Desde directorio de trabajo (con Google Drive)\n",
    "\n",
    "Vamos a cargar el archivo llamado `json_index_example.json` que tenemos guardado en la carpeta datasets de Google Drive.\n",
    "\n",
    "Para ello, lo primero que tenemos que hacer es conectar este notebook de Colab con Google Drive."
   ]
  },
  {
   "cell_type": "code",
   "execution_count": 79,
   "metadata": {
    "executionInfo": {
     "elapsed": 11,
     "status": "aborted",
     "timestamp": 1687098348800,
     "user": {
      "displayName": "Ainara Montoya",
      "userId": "04156984210870783133"
     },
     "user_tz": -120
    },
    "id": "sv57DNxfgS2D",
    "tags": []
   },
   "outputs": [
    {
     "data": {
      "text/html": [
       "<div>\n",
       "<style scoped>\n",
       "    .dataframe tbody tr th:only-of-type {\n",
       "        vertical-align: middle;\n",
       "    }\n",
       "\n",
       "    .dataframe tbody tr th {\n",
       "        vertical-align: top;\n",
       "    }\n",
       "\n",
       "    .dataframe thead th {\n",
       "        text-align: right;\n",
       "    }\n",
       "</style>\n",
       "<table border=\"1\" class=\"dataframe\">\n",
       "  <thead>\n",
       "    <tr style=\"text-align: right;\">\n",
       "      <th></th>\n",
       "      <th>Producto</th>\n",
       "      <th>Precio</th>\n",
       "      <th>Cantidad</th>\n",
       "    </tr>\n",
       "  </thead>\n",
       "  <tbody>\n",
       "    <tr>\n",
       "      <th>0</th>\n",
       "      <td>Bolígrafo</td>\n",
       "      <td>1.80</td>\n",
       "      <td>3</td>\n",
       "    </tr>\n",
       "    <tr>\n",
       "      <th>1</th>\n",
       "      <td>Lápiz</td>\n",
       "      <td>0.30</td>\n",
       "      <td>2</td>\n",
       "    </tr>\n",
       "    <tr>\n",
       "      <th>2</th>\n",
       "      <td>Libreta</td>\n",
       "      <td>5.20</td>\n",
       "      <td>1</td>\n",
       "    </tr>\n",
       "    <tr>\n",
       "      <th>3</th>\n",
       "      <td>Agenda</td>\n",
       "      <td>9.99</td>\n",
       "      <td>1</td>\n",
       "    </tr>\n",
       "    <tr>\n",
       "      <th>4</th>\n",
       "      <td>Rotulador</td>\n",
       "      <td>1.15</td>\n",
       "      <td>5</td>\n",
       "    </tr>\n",
       "  </tbody>\n",
       "</table>\n",
       "</div>"
      ],
      "text/plain": [
       "    Producto  Precio  Cantidad\n",
       "0  Bolígrafo    1.80         3\n",
       "1      Lápiz    0.30         2\n",
       "2    Libreta    5.20         1\n",
       "3     Agenda    9.99         1\n",
       "4  Rotulador    1.15         5"
      ]
     },
     "execution_count": 79,
     "metadata": {},
     "output_type": "execute_result"
    }
   ],
   "source": [
    "#quiz_index = pd.read_json(\"/content/drive/MyDrive/IA y Big Data/Python/Apuntes/Datos/json_index_example.json\", orient = \"index\")\n",
    "quiz_index = pd.read_json(\"Datos/json_index_example.json\", orient = \"index\")\n",
    "quiz_index.head()"
   ]
  },
  {
   "cell_type": "markdown",
   "metadata": {
    "id": "Hn4uKmlxlfP5"
   },
   "source": [
    "#### El parámetro `orient`\n",
    "\n",
    "En el caso de archivos json, podría darse que no tuvieran la misma configuración que nuestro ejemplo, `json_index_example.json` cuya orientación se corresponde con `index`.\n",
    "\n",
    "El parámetro `orient` del método `.read_json()` admite otras opciones como `columns` o `values`.\n",
    "\n",
    "Veamos ambos casos con los ficheros `json_columns_example.json` y `json_values_example.json`, respectivamente."
   ]
  },
  {
   "cell_type": "code",
   "execution_count": 82,
   "metadata": {
    "executionInfo": {
     "elapsed": 11,
     "status": "aborted",
     "timestamp": 1687098348800,
     "user": {
      "displayName": "Ainara Montoya",
      "userId": "04156984210870783133"
     },
     "user_tz": -120
    },
    "id": "7Z2_LMYOmtPg",
    "tags": []
   },
   "outputs": [
    {
     "data": {
      "text/html": [
       "<div>\n",
       "<style scoped>\n",
       "    .dataframe tbody tr th:only-of-type {\n",
       "        vertical-align: middle;\n",
       "    }\n",
       "\n",
       "    .dataframe tbody tr th {\n",
       "        vertical-align: top;\n",
       "    }\n",
       "\n",
       "    .dataframe thead th {\n",
       "        text-align: right;\n",
       "    }\n",
       "</style>\n",
       "<table border=\"1\" class=\"dataframe\">\n",
       "  <thead>\n",
       "    <tr style=\"text-align: right;\">\n",
       "      <th></th>\n",
       "      <th>Producto</th>\n",
       "      <th>Precio</th>\n",
       "      <th>Cantidad</th>\n",
       "    </tr>\n",
       "  </thead>\n",
       "  <tbody>\n",
       "    <tr>\n",
       "      <th>0</th>\n",
       "      <td>Bolígrafo</td>\n",
       "      <td>1.80</td>\n",
       "      <td>3</td>\n",
       "    </tr>\n",
       "    <tr>\n",
       "      <th>1</th>\n",
       "      <td>Lápiz</td>\n",
       "      <td>0.30</td>\n",
       "      <td>2</td>\n",
       "    </tr>\n",
       "    <tr>\n",
       "      <th>2</th>\n",
       "      <td>Libreta</td>\n",
       "      <td>5.20</td>\n",
       "      <td>1</td>\n",
       "    </tr>\n",
       "    <tr>\n",
       "      <th>3</th>\n",
       "      <td>Agenda</td>\n",
       "      <td>9.99</td>\n",
       "      <td>1</td>\n",
       "    </tr>\n",
       "    <tr>\n",
       "      <th>4</th>\n",
       "      <td>Rotulador</td>\n",
       "      <td>1.15</td>\n",
       "      <td>5</td>\n",
       "    </tr>\n",
       "  </tbody>\n",
       "</table>\n",
       "</div>"
      ],
      "text/plain": [
       "    Producto  Precio  Cantidad\n",
       "0  Bolígrafo    1.80         3\n",
       "1      Lápiz    0.30         2\n",
       "2    Libreta    5.20         1\n",
       "3     Agenda    9.99         1\n",
       "4  Rotulador    1.15         5"
      ]
     },
     "execution_count": 82,
     "metadata": {},
     "output_type": "execute_result"
    }
   ],
   "source": [
    "# Orientación con index\n",
    "#quiz_columns = pd.read_json(\"/content/drive/MyDrive/Python/Apuntes/Datos/json_columns_example.json\",  orient = \"columns\")\n",
    "quiz_columns = pd.read_json(\"Datos/json_columns_example.json\",  orient = \"columns\")\n",
    "quiz_columns.head()"
   ]
  },
  {
   "cell_type": "code",
   "execution_count": 83,
   "metadata": {
    "executionInfo": {
     "elapsed": 12,
     "status": "aborted",
     "timestamp": 1687098348801,
     "user": {
      "displayName": "Ainara Montoya",
      "userId": "04156984210870783133"
     },
     "user_tz": -120
    },
    "id": "8zWeorrCmtfz",
    "tags": []
   },
   "outputs": [
    {
     "data": {
      "text/html": [
       "<div>\n",
       "<style scoped>\n",
       "    .dataframe tbody tr th:only-of-type {\n",
       "        vertical-align: middle;\n",
       "    }\n",
       "\n",
       "    .dataframe tbody tr th {\n",
       "        vertical-align: top;\n",
       "    }\n",
       "\n",
       "    .dataframe thead th {\n",
       "        text-align: right;\n",
       "    }\n",
       "</style>\n",
       "<table border=\"1\" class=\"dataframe\">\n",
       "  <thead>\n",
       "    <tr style=\"text-align: right;\">\n",
       "      <th></th>\n",
       "      <th>0</th>\n",
       "      <th>1</th>\n",
       "      <th>2</th>\n",
       "    </tr>\n",
       "  </thead>\n",
       "  <tbody>\n",
       "    <tr>\n",
       "      <th>0</th>\n",
       "      <td>Bolígrafo</td>\n",
       "      <td>1.80</td>\n",
       "      <td>3</td>\n",
       "    </tr>\n",
       "    <tr>\n",
       "      <th>1</th>\n",
       "      <td>Lápiz</td>\n",
       "      <td>0.30</td>\n",
       "      <td>2</td>\n",
       "    </tr>\n",
       "    <tr>\n",
       "      <th>2</th>\n",
       "      <td>Libreta</td>\n",
       "      <td>5.20</td>\n",
       "      <td>1</td>\n",
       "    </tr>\n",
       "    <tr>\n",
       "      <th>3</th>\n",
       "      <td>Agenda</td>\n",
       "      <td>9.99</td>\n",
       "      <td>1</td>\n",
       "    </tr>\n",
       "    <tr>\n",
       "      <th>4</th>\n",
       "      <td>Rotulador</td>\n",
       "      <td>1.15</td>\n",
       "      <td>5</td>\n",
       "    </tr>\n",
       "  </tbody>\n",
       "</table>\n",
       "</div>"
      ],
      "text/plain": [
       "           0     1  2\n",
       "0  Bolígrafo  1.80  3\n",
       "1      Lápiz  0.30  2\n",
       "2    Libreta  5.20  1\n",
       "3     Agenda  9.99  1\n",
       "4  Rotulador  1.15  5"
      ]
     },
     "execution_count": 83,
     "metadata": {},
     "output_type": "execute_result"
    }
   ],
   "source": [
    "# Orientación con values\n",
    "#quiz_values = pd.read_json(\"/content/drive/MyDrive/Python/Apuntes/Datos/json_values_example.json\",  orient = \"values\")\n",
    "quiz_values = pd.read_json(\"Datos/json_values_example.json\",  orient = \"values\")\n",
    "quiz_values.head()"
   ]
  },
  {
   "cell_type": "markdown",
   "metadata": {
    "id": "t_5yFZLnsu5k"
   },
   "source": [
    "### Desde url\n",
    "\n",
    "Vamos a cargar el archivo json que procede de la siguiente [url](https://api.exchangerate-api.com/v4/latest/USD)"
   ]
  },
  {
   "cell_type": "code",
   "execution_count": 84,
   "metadata": {
    "executionInfo": {
     "elapsed": 12,
     "status": "aborted",
     "timestamp": 1687098348801,
     "user": {
      "displayName": "Ainara Montoya",
      "userId": "04156984210870783133"
     },
     "user_tz": -120
    },
    "id": "QtlgdkjiswOu",
    "tags": []
   },
   "outputs": [
    {
     "data": {
      "text/html": [
       "<div>\n",
       "<style scoped>\n",
       "    .dataframe tbody tr th:only-of-type {\n",
       "        vertical-align: middle;\n",
       "    }\n",
       "\n",
       "    .dataframe tbody tr th {\n",
       "        vertical-align: top;\n",
       "    }\n",
       "\n",
       "    .dataframe thead th {\n",
       "        text-align: right;\n",
       "    }\n",
       "</style>\n",
       "<table border=\"1\" class=\"dataframe\">\n",
       "  <thead>\n",
       "    <tr style=\"text-align: right;\">\n",
       "      <th></th>\n",
       "      <th>provider</th>\n",
       "      <th>WARNING_UPGRADE_TO_V6</th>\n",
       "      <th>terms</th>\n",
       "      <th>base</th>\n",
       "      <th>date</th>\n",
       "      <th>time_last_updated</th>\n",
       "      <th>rates</th>\n",
       "    </tr>\n",
       "  </thead>\n",
       "  <tbody>\n",
       "    <tr>\n",
       "      <th>AED</th>\n",
       "      <td>https://www.exchangerate-api.com</td>\n",
       "      <td>https://www.exchangerate-api.com/docs/free</td>\n",
       "      <td>https://www.exchangerate-api.com/terms</td>\n",
       "      <td>USD</td>\n",
       "      <td>2023-09-25</td>\n",
       "      <td>1695600001</td>\n",
       "      <td>3.67</td>\n",
       "    </tr>\n",
       "    <tr>\n",
       "      <th>AFN</th>\n",
       "      <td>https://www.exchangerate-api.com</td>\n",
       "      <td>https://www.exchangerate-api.com/docs/free</td>\n",
       "      <td>https://www.exchangerate-api.com/terms</td>\n",
       "      <td>USD</td>\n",
       "      <td>2023-09-25</td>\n",
       "      <td>1695600001</td>\n",
       "      <td>78.84</td>\n",
       "    </tr>\n",
       "    <tr>\n",
       "      <th>ALL</th>\n",
       "      <td>https://www.exchangerate-api.com</td>\n",
       "      <td>https://www.exchangerate-api.com/docs/free</td>\n",
       "      <td>https://www.exchangerate-api.com/terms</td>\n",
       "      <td>USD</td>\n",
       "      <td>2023-09-25</td>\n",
       "      <td>1695600001</td>\n",
       "      <td>99.95</td>\n",
       "    </tr>\n",
       "    <tr>\n",
       "      <th>AMD</th>\n",
       "      <td>https://www.exchangerate-api.com</td>\n",
       "      <td>https://www.exchangerate-api.com/docs/free</td>\n",
       "      <td>https://www.exchangerate-api.com/terms</td>\n",
       "      <td>USD</td>\n",
       "      <td>2023-09-25</td>\n",
       "      <td>1695600001</td>\n",
       "      <td>387.30</td>\n",
       "    </tr>\n",
       "    <tr>\n",
       "      <th>ANG</th>\n",
       "      <td>https://www.exchangerate-api.com</td>\n",
       "      <td>https://www.exchangerate-api.com/docs/free</td>\n",
       "      <td>https://www.exchangerate-api.com/terms</td>\n",
       "      <td>USD</td>\n",
       "      <td>2023-09-25</td>\n",
       "      <td>1695600001</td>\n",
       "      <td>1.79</td>\n",
       "    </tr>\n",
       "  </tbody>\n",
       "</table>\n",
       "</div>"
      ],
      "text/plain": [
       "                             provider  \\\n",
       "AED  https://www.exchangerate-api.com   \n",
       "AFN  https://www.exchangerate-api.com   \n",
       "ALL  https://www.exchangerate-api.com   \n",
       "AMD  https://www.exchangerate-api.com   \n",
       "ANG  https://www.exchangerate-api.com   \n",
       "\n",
       "                          WARNING_UPGRADE_TO_V6  \\\n",
       "AED  https://www.exchangerate-api.com/docs/free   \n",
       "AFN  https://www.exchangerate-api.com/docs/free   \n",
       "ALL  https://www.exchangerate-api.com/docs/free   \n",
       "AMD  https://www.exchangerate-api.com/docs/free   \n",
       "ANG  https://www.exchangerate-api.com/docs/free   \n",
       "\n",
       "                                      terms base       date  \\\n",
       "AED  https://www.exchangerate-api.com/terms  USD 2023-09-25   \n",
       "AFN  https://www.exchangerate-api.com/terms  USD 2023-09-25   \n",
       "ALL  https://www.exchangerate-api.com/terms  USD 2023-09-25   \n",
       "AMD  https://www.exchangerate-api.com/terms  USD 2023-09-25   \n",
       "ANG  https://www.exchangerate-api.com/terms  USD 2023-09-25   \n",
       "\n",
       "     time_last_updated   rates  \n",
       "AED         1695600001    3.67  \n",
       "AFN         1695600001   78.84  \n",
       "ALL         1695600001   99.95  \n",
       "AMD         1695600001  387.30  \n",
       "ANG         1695600001    1.79  "
      ]
     },
     "execution_count": 84,
     "metadata": {},
     "output_type": "execute_result"
    }
   ],
   "source": [
    "from_url = pd.read_json(\"https://api.exchangerate-api.com/v4/latest/USD\")\n",
    "from_url.head()"
   ]
  },
  {
   "cell_type": "markdown",
   "metadata": {
    "id": "ynzYveXLiJII"
   },
   "source": [
    "## Tratamiento de datos faltantes\n",
    "\n"
   ]
  },
  {
   "cell_type": "markdown",
   "metadata": {
    "id": "JVYik9vyiUJR"
   },
   "source": [
    "Los datos faltantes, o en inglés, Missing Data, se dan cuando no hay información para uno o más elementos.\n",
    "\n",
    "Éste es un problema muy común en la vida real.\n",
    "\n",
    "En la librería `pandas`, identificamos los missing data con valores `NA` (Not Available) o `NaN` (Not a Number).\n",
    "\n",
    "Para identificar valores fanltantes en un dataframe de `pandas` , podemos usar los métodos `.isnull()` o `.notnull()`"
   ]
  },
  {
   "cell_type": "code",
   "execution_count": 85,
   "metadata": {
    "executionInfo": {
     "elapsed": 12,
     "status": "aborted",
     "timestamp": 1687098348801,
     "user": {
      "displayName": "Ainara Montoya",
      "userId": "04156984210870783133"
     },
     "user_tz": -120
    },
    "id": "rhsnXoxAJW3t",
    "tags": []
   },
   "outputs": [
    {
     "data": {
      "text/html": [
       "<div>\n",
       "<style scoped>\n",
       "    .dataframe tbody tr th:only-of-type {\n",
       "        vertical-align: middle;\n",
       "    }\n",
       "\n",
       "    .dataframe tbody tr th {\n",
       "        vertical-align: top;\n",
       "    }\n",
       "\n",
       "    .dataframe thead th {\n",
       "        text-align: right;\n",
       "    }\n",
       "</style>\n",
       "<table border=\"1\" class=\"dataframe\">\n",
       "  <thead>\n",
       "    <tr style=\"text-align: right;\">\n",
       "      <th></th>\n",
       "      <th>id</th>\n",
       "      <th>name</th>\n",
       "      <th>normalized_name</th>\n",
       "      <th>gender</th>\n",
       "    </tr>\n",
       "  </thead>\n",
       "  <tbody>\n",
       "    <tr>\n",
       "      <th>0</th>\n",
       "      <td>False</td>\n",
       "      <td>False</td>\n",
       "      <td>False</td>\n",
       "      <td>True</td>\n",
       "    </tr>\n",
       "    <tr>\n",
       "      <th>1</th>\n",
       "      <td>False</td>\n",
       "      <td>False</td>\n",
       "      <td>False</td>\n",
       "      <td>True</td>\n",
       "    </tr>\n",
       "    <tr>\n",
       "      <th>2</th>\n",
       "      <td>False</td>\n",
       "      <td>False</td>\n",
       "      <td>False</td>\n",
       "      <td>True</td>\n",
       "    </tr>\n",
       "    <tr>\n",
       "      <th>3</th>\n",
       "      <td>False</td>\n",
       "      <td>False</td>\n",
       "      <td>False</td>\n",
       "      <td>True</td>\n",
       "    </tr>\n",
       "    <tr>\n",
       "      <th>4</th>\n",
       "      <td>False</td>\n",
       "      <td>False</td>\n",
       "      <td>False</td>\n",
       "      <td>True</td>\n",
       "    </tr>\n",
       "  </tbody>\n",
       "</table>\n",
       "</div>"
      ],
      "text/plain": [
       "      id   name  normalized_name  gender\n",
       "0  False  False            False    True\n",
       "1  False  False            False    True\n",
       "2  False  False            False    True\n",
       "3  False  False            False    True\n",
       "4  False  False            False    True"
      ]
     },
     "execution_count": 85,
     "metadata": {},
     "output_type": "execute_result"
    }
   ],
   "source": [
    "# Nos devuelve True allí donde hay un dato faltante\n",
    "simpsons_df.isnull().head()"
   ]
  },
  {
   "cell_type": "code",
   "execution_count": 86,
   "metadata": {
    "executionInfo": {
     "elapsed": 13,
     "status": "aborted",
     "timestamp": 1687098348802,
     "user": {
      "displayName": "Ainara Montoya",
      "userId": "04156984210870783133"
     },
     "user_tz": -120
    },
    "id": "mZEAaSPToCbm",
    "tags": []
   },
   "outputs": [
    {
     "data": {
      "text/html": [
       "<div>\n",
       "<style scoped>\n",
       "    .dataframe tbody tr th:only-of-type {\n",
       "        vertical-align: middle;\n",
       "    }\n",
       "\n",
       "    .dataframe tbody tr th {\n",
       "        vertical-align: top;\n",
       "    }\n",
       "\n",
       "    .dataframe thead th {\n",
       "        text-align: right;\n",
       "    }\n",
       "</style>\n",
       "<table border=\"1\" class=\"dataframe\">\n",
       "  <thead>\n",
       "    <tr style=\"text-align: right;\">\n",
       "      <th></th>\n",
       "      <th>id</th>\n",
       "      <th>name</th>\n",
       "      <th>normalized_name</th>\n",
       "      <th>gender</th>\n",
       "    </tr>\n",
       "  </thead>\n",
       "  <tbody>\n",
       "    <tr>\n",
       "      <th>0</th>\n",
       "      <td>True</td>\n",
       "      <td>True</td>\n",
       "      <td>True</td>\n",
       "      <td>False</td>\n",
       "    </tr>\n",
       "    <tr>\n",
       "      <th>1</th>\n",
       "      <td>True</td>\n",
       "      <td>True</td>\n",
       "      <td>True</td>\n",
       "      <td>False</td>\n",
       "    </tr>\n",
       "    <tr>\n",
       "      <th>2</th>\n",
       "      <td>True</td>\n",
       "      <td>True</td>\n",
       "      <td>True</td>\n",
       "      <td>False</td>\n",
       "    </tr>\n",
       "    <tr>\n",
       "      <th>3</th>\n",
       "      <td>True</td>\n",
       "      <td>True</td>\n",
       "      <td>True</td>\n",
       "      <td>False</td>\n",
       "    </tr>\n",
       "    <tr>\n",
       "      <th>4</th>\n",
       "      <td>True</td>\n",
       "      <td>True</td>\n",
       "      <td>True</td>\n",
       "      <td>False</td>\n",
       "    </tr>\n",
       "  </tbody>\n",
       "</table>\n",
       "</div>"
      ],
      "text/plain": [
       "     id  name  normalized_name  gender\n",
       "0  True  True             True   False\n",
       "1  True  True             True   False\n",
       "2  True  True             True   False\n",
       "3  True  True             True   False\n",
       "4  True  True             True   False"
      ]
     },
     "execution_count": 86,
     "metadata": {},
     "output_type": "execute_result"
    }
   ],
   "source": [
    "# Nos devuelve False allí donde hay un dato faltante\n",
    "simpsons_df.notnull().head()"
   ]
  },
  {
   "cell_type": "markdown",
   "metadata": {
    "id": "DxkM3VPnoY8j"
   },
   "source": [
    "Existen muchas técnicas para tratar con valores faltantes: se sustituyen por la media, por la mediana, se elimina la observación, se interpolan...:\n",
    "\n",
    "- `.fillna()`\n",
    "- `.replace()`\n",
    "- `.interpolate()`\n",
    "- `.dropna()`"
   ]
  },
  {
   "cell_type": "markdown",
   "metadata": {
    "id": "OrxcVXROo1No"
   },
   "source": [
    "El método `.fillna()` sustituye los valores faltantes por el valor que indiquemos por parámetro"
   ]
  },
  {
   "cell_type": "code",
   "execution_count": 87,
   "metadata": {
    "executionInfo": {
     "elapsed": 12,
     "status": "aborted",
     "timestamp": 1687098348802,
     "user": {
      "displayName": "Ainara Montoya",
      "userId": "04156984210870783133"
     },
     "user_tz": -120
    },
    "id": "JFzRDnZzpKS0",
    "tags": []
   },
   "outputs": [
    {
     "data": {
      "text/html": [
       "<div>\n",
       "<style scoped>\n",
       "    .dataframe tbody tr th:only-of-type {\n",
       "        vertical-align: middle;\n",
       "    }\n",
       "\n",
       "    .dataframe tbody tr th {\n",
       "        vertical-align: top;\n",
       "    }\n",
       "\n",
       "    .dataframe thead th {\n",
       "        text-align: right;\n",
       "    }\n",
       "</style>\n",
       "<table border=\"1\" class=\"dataframe\">\n",
       "  <thead>\n",
       "    <tr style=\"text-align: right;\">\n",
       "      <th></th>\n",
       "      <th>Primer lanzamiento</th>\n",
       "      <th>Segundo lanzamiento</th>\n",
       "      <th>Tercer lanzamiento</th>\n",
       "    </tr>\n",
       "  </thead>\n",
       "  <tbody>\n",
       "    <tr>\n",
       "      <th>Jugador 1</th>\n",
       "      <td>100.0</td>\n",
       "      <td>80.0</td>\n",
       "      <td>93.0</td>\n",
       "    </tr>\n",
       "    <tr>\n",
       "      <th>Jugador 2</th>\n",
       "      <td>86.0</td>\n",
       "      <td>NaN</td>\n",
       "      <td>89.0</td>\n",
       "    </tr>\n",
       "    <tr>\n",
       "      <th>Jugador 3</th>\n",
       "      <td>NaN</td>\n",
       "      <td>63.0</td>\n",
       "      <td>92.0</td>\n",
       "    </tr>\n",
       "    <tr>\n",
       "      <th>Jugador 4</th>\n",
       "      <td>75.0</td>\n",
       "      <td>81.0</td>\n",
       "      <td>97.0</td>\n",
       "    </tr>\n",
       "    <tr>\n",
       "      <th>Jugador 5</th>\n",
       "      <td>97.0</td>\n",
       "      <td>88.0</td>\n",
       "      <td>NaN</td>\n",
       "    </tr>\n",
       "  </tbody>\n",
       "</table>\n",
       "</div>"
      ],
      "text/plain": [
       "           Primer lanzamiento  Segundo lanzamiento  Tercer lanzamiento\n",
       "Jugador 1               100.0                 80.0                93.0\n",
       "Jugador 2                86.0                  NaN                89.0\n",
       "Jugador 3                 NaN                 63.0                92.0\n",
       "Jugador 4                75.0                 81.0                97.0\n",
       "Jugador 5                97.0                 88.0                 NaN"
      ]
     },
     "execution_count": 87,
     "metadata": {},
     "output_type": "execute_result"
    }
   ],
   "source": [
    "data = {\"Primer lanzamiento\": [100, 86, np.nan, 75, 97],\n",
    "        \"Segundo lanzamiento\": [80, np.nan, 63, 81, 88],\n",
    "        \"Tercer lanzamiento\": [93, 89, 92, 97, np.nan]\n",
    "        }\n",
    "\n",
    "points_df = pd.DataFrame(data, index = [\"Jugador 1\", \"Jugador 2\", \"Jugador 3\", \"Jugador 4\", \"Jugador 5\"])\n",
    "points_df"
   ]
  },
  {
   "cell_type": "code",
   "execution_count": 88,
   "metadata": {
    "executionInfo": {
     "elapsed": 12,
     "status": "aborted",
     "timestamp": 1687098348802,
     "user": {
      "displayName": "Ainara Montoya",
      "userId": "04156984210870783133"
     },
     "user_tz": -120
    },
    "id": "RGxMr3P4qCSj",
    "tags": []
   },
   "outputs": [
    {
     "data": {
      "text/html": [
       "<div>\n",
       "<style scoped>\n",
       "    .dataframe tbody tr th:only-of-type {\n",
       "        vertical-align: middle;\n",
       "    }\n",
       "\n",
       "    .dataframe tbody tr th {\n",
       "        vertical-align: top;\n",
       "    }\n",
       "\n",
       "    .dataframe thead th {\n",
       "        text-align: right;\n",
       "    }\n",
       "</style>\n",
       "<table border=\"1\" class=\"dataframe\">\n",
       "  <thead>\n",
       "    <tr style=\"text-align: right;\">\n",
       "      <th></th>\n",
       "      <th>Primer lanzamiento</th>\n",
       "      <th>Segundo lanzamiento</th>\n",
       "      <th>Tercer lanzamiento</th>\n",
       "    </tr>\n",
       "  </thead>\n",
       "  <tbody>\n",
       "    <tr>\n",
       "      <th>Jugador 1</th>\n",
       "      <td>100.0</td>\n",
       "      <td>80.0</td>\n",
       "      <td>93.0</td>\n",
       "    </tr>\n",
       "    <tr>\n",
       "      <th>Jugador 2</th>\n",
       "      <td>86.0</td>\n",
       "      <td>0.0</td>\n",
       "      <td>89.0</td>\n",
       "    </tr>\n",
       "    <tr>\n",
       "      <th>Jugador 3</th>\n",
       "      <td>0.0</td>\n",
       "      <td>63.0</td>\n",
       "      <td>92.0</td>\n",
       "    </tr>\n",
       "    <tr>\n",
       "      <th>Jugador 4</th>\n",
       "      <td>75.0</td>\n",
       "      <td>81.0</td>\n",
       "      <td>97.0</td>\n",
       "    </tr>\n",
       "    <tr>\n",
       "      <th>Jugador 5</th>\n",
       "      <td>97.0</td>\n",
       "      <td>88.0</td>\n",
       "      <td>0.0</td>\n",
       "    </tr>\n",
       "  </tbody>\n",
       "</table>\n",
       "</div>"
      ],
      "text/plain": [
       "           Primer lanzamiento  Segundo lanzamiento  Tercer lanzamiento\n",
       "Jugador 1               100.0                 80.0                93.0\n",
       "Jugador 2                86.0                  0.0                89.0\n",
       "Jugador 3                 0.0                 63.0                92.0\n",
       "Jugador 4                75.0                 81.0                97.0\n",
       "Jugador 5                97.0                 88.0                 0.0"
      ]
     },
     "execution_count": 88,
     "metadata": {},
     "output_type": "execute_result"
    }
   ],
   "source": [
    "# Sustituimos todos los NaN por 0 puntos\n",
    "points_df.fillna(0)"
   ]
  },
  {
   "cell_type": "markdown",
   "metadata": {
    "id": "t6L04m84pJdu"
   },
   "source": [
    "Para sustituir valores faltantes con el método `.replace()` lo hacemos del siguiente modo: primero pasamos por parámetro el valor que queremos sustituir y luego, el valor por el cual queremos sustituirlo."
   ]
  },
  {
   "cell_type": "code",
   "execution_count": 89,
   "metadata": {
    "executionInfo": {
     "elapsed": 13,
     "status": "aborted",
     "timestamp": 1687098348803,
     "user": {
      "displayName": "Ainara Montoya",
      "userId": "04156984210870783133"
     },
     "user_tz": -120
    },
    "id": "Km-0cCpYqzgY",
    "tags": []
   },
   "outputs": [
    {
     "data": {
      "text/html": [
       "<div>\n",
       "<style scoped>\n",
       "    .dataframe tbody tr th:only-of-type {\n",
       "        vertical-align: middle;\n",
       "    }\n",
       "\n",
       "    .dataframe tbody tr th {\n",
       "        vertical-align: top;\n",
       "    }\n",
       "\n",
       "    .dataframe thead th {\n",
       "        text-align: right;\n",
       "    }\n",
       "</style>\n",
       "<table border=\"1\" class=\"dataframe\">\n",
       "  <thead>\n",
       "    <tr style=\"text-align: right;\">\n",
       "      <th></th>\n",
       "      <th>Primer lanzamiento</th>\n",
       "      <th>Segundo lanzamiento</th>\n",
       "      <th>Tercer lanzamiento</th>\n",
       "    </tr>\n",
       "  </thead>\n",
       "  <tbody>\n",
       "    <tr>\n",
       "      <th>Jugador 1</th>\n",
       "      <td>100.0</td>\n",
       "      <td>80.0</td>\n",
       "      <td>93.0</td>\n",
       "    </tr>\n",
       "    <tr>\n",
       "      <th>Jugador 2</th>\n",
       "      <td>86.0</td>\n",
       "      <td>0.0</td>\n",
       "      <td>89.0</td>\n",
       "    </tr>\n",
       "    <tr>\n",
       "      <th>Jugador 3</th>\n",
       "      <td>0.0</td>\n",
       "      <td>63.0</td>\n",
       "      <td>92.0</td>\n",
       "    </tr>\n",
       "    <tr>\n",
       "      <th>Jugador 4</th>\n",
       "      <td>75.0</td>\n",
       "      <td>81.0</td>\n",
       "      <td>97.0</td>\n",
       "    </tr>\n",
       "    <tr>\n",
       "      <th>Jugador 5</th>\n",
       "      <td>97.0</td>\n",
       "      <td>88.0</td>\n",
       "      <td>0.0</td>\n",
       "    </tr>\n",
       "  </tbody>\n",
       "</table>\n",
       "</div>"
      ],
      "text/plain": [
       "           Primer lanzamiento  Segundo lanzamiento  Tercer lanzamiento\n",
       "Jugador 1               100.0                 80.0                93.0\n",
       "Jugador 2                86.0                  0.0                89.0\n",
       "Jugador 3                 0.0                 63.0                92.0\n",
       "Jugador 4                75.0                 81.0                97.0\n",
       "Jugador 5                97.0                 88.0                 0.0"
      ]
     },
     "execution_count": 89,
     "metadata": {},
     "output_type": "execute_result"
    }
   ],
   "source": [
    "points_df = pd.DataFrame(data, index = [\"Jugador 1\", \"Jugador 2\", \"Jugador 3\", \"Jugador 4\", \"Jugador 5\"])\n",
    "points_df.replace(np.nan, 0)"
   ]
  },
  {
   "cell_type": "markdown",
   "metadata": {
    "id": "KTEBCUTNrX-M"
   },
   "source": [
    "Si usamos el método `.interpolate()`, sustituiremos los valores `NaN` por valores interpolados. Este método consta de muchos parámetros para elegir el método (que por defecto es `linear`) por el cual llevar a cabo la interpolación."
   ]
  },
  {
   "cell_type": "code",
   "execution_count": 90,
   "metadata": {
    "executionInfo": {
     "elapsed": 13,
     "status": "aborted",
     "timestamp": 1687098348803,
     "user": {
      "displayName": "Ainara Montoya",
      "userId": "04156984210870783133"
     },
     "user_tz": -120
    },
    "id": "34Ty0WYZr6EH",
    "tags": []
   },
   "outputs": [
    {
     "data": {
      "text/html": [
       "<div>\n",
       "<style scoped>\n",
       "    .dataframe tbody tr th:only-of-type {\n",
       "        vertical-align: middle;\n",
       "    }\n",
       "\n",
       "    .dataframe tbody tr th {\n",
       "        vertical-align: top;\n",
       "    }\n",
       "\n",
       "    .dataframe thead th {\n",
       "        text-align: right;\n",
       "    }\n",
       "</style>\n",
       "<table border=\"1\" class=\"dataframe\">\n",
       "  <thead>\n",
       "    <tr style=\"text-align: right;\">\n",
       "      <th></th>\n",
       "      <th>Primer lanzamiento</th>\n",
       "      <th>Segundo lanzamiento</th>\n",
       "      <th>Tercer lanzamiento</th>\n",
       "    </tr>\n",
       "  </thead>\n",
       "  <tbody>\n",
       "    <tr>\n",
       "      <th>Jugador 1</th>\n",
       "      <td>100.0</td>\n",
       "      <td>80.0</td>\n",
       "      <td>93.0</td>\n",
       "    </tr>\n",
       "    <tr>\n",
       "      <th>Jugador 2</th>\n",
       "      <td>86.0</td>\n",
       "      <td>71.5</td>\n",
       "      <td>89.0</td>\n",
       "    </tr>\n",
       "    <tr>\n",
       "      <th>Jugador 3</th>\n",
       "      <td>80.5</td>\n",
       "      <td>63.0</td>\n",
       "      <td>92.0</td>\n",
       "    </tr>\n",
       "    <tr>\n",
       "      <th>Jugador 4</th>\n",
       "      <td>75.0</td>\n",
       "      <td>81.0</td>\n",
       "      <td>97.0</td>\n",
       "    </tr>\n",
       "    <tr>\n",
       "      <th>Jugador 5</th>\n",
       "      <td>97.0</td>\n",
       "      <td>88.0</td>\n",
       "      <td>97.0</td>\n",
       "    </tr>\n",
       "  </tbody>\n",
       "</table>\n",
       "</div>"
      ],
      "text/plain": [
       "           Primer lanzamiento  Segundo lanzamiento  Tercer lanzamiento\n",
       "Jugador 1               100.0                 80.0                93.0\n",
       "Jugador 2                86.0                 71.5                89.0\n",
       "Jugador 3                80.5                 63.0                92.0\n",
       "Jugador 4                75.0                 81.0                97.0\n",
       "Jugador 5                97.0                 88.0                97.0"
      ]
     },
     "execution_count": 90,
     "metadata": {},
     "output_type": "execute_result"
    }
   ],
   "source": [
    "points_df = pd.DataFrame(data, index = [\"Jugador 1\", \"Jugador 2\", \"Jugador 3\", \"Jugador 4\", \"Jugador 5\"])\n",
    "points_df.interpolate()"
   ]
  },
  {
   "cell_type": "markdown",
   "metadata": {
    "id": "k33Cy2Oms48o"
   },
   "source": [
    "El método `.dropna()` elimina las filas que contienen valores faltantes."
   ]
  },
  {
   "cell_type": "code",
   "execution_count": 91,
   "metadata": {
    "executionInfo": {
     "elapsed": 13,
     "status": "aborted",
     "timestamp": 1687098348803,
     "user": {
      "displayName": "Ainara Montoya",
      "userId": "04156984210870783133"
     },
     "user_tz": -120
    },
    "id": "FA2HzXD6s_AQ",
    "tags": []
   },
   "outputs": [
    {
     "data": {
      "text/html": [
       "<div>\n",
       "<style scoped>\n",
       "    .dataframe tbody tr th:only-of-type {\n",
       "        vertical-align: middle;\n",
       "    }\n",
       "\n",
       "    .dataframe tbody tr th {\n",
       "        vertical-align: top;\n",
       "    }\n",
       "\n",
       "    .dataframe thead th {\n",
       "        text-align: right;\n",
       "    }\n",
       "</style>\n",
       "<table border=\"1\" class=\"dataframe\">\n",
       "  <thead>\n",
       "    <tr style=\"text-align: right;\">\n",
       "      <th></th>\n",
       "      <th>Primer lanzamiento</th>\n",
       "      <th>Segundo lanzamiento</th>\n",
       "      <th>Tercer lanzamiento</th>\n",
       "    </tr>\n",
       "  </thead>\n",
       "  <tbody>\n",
       "    <tr>\n",
       "      <th>Jugador 1</th>\n",
       "      <td>100.0</td>\n",
       "      <td>80.0</td>\n",
       "      <td>93.0</td>\n",
       "    </tr>\n",
       "    <tr>\n",
       "      <th>Jugador 4</th>\n",
       "      <td>75.0</td>\n",
       "      <td>81.0</td>\n",
       "      <td>97.0</td>\n",
       "    </tr>\n",
       "  </tbody>\n",
       "</table>\n",
       "</div>"
      ],
      "text/plain": [
       "           Primer lanzamiento  Segundo lanzamiento  Tercer lanzamiento\n",
       "Jugador 1               100.0                 80.0                93.0\n",
       "Jugador 4                75.0                 81.0                97.0"
      ]
     },
     "execution_count": 91,
     "metadata": {},
     "output_type": "execute_result"
    }
   ],
   "source": [
    "points_df = pd.DataFrame(data, index = [\"Jugador 1\", \"Jugador 2\", \"Jugador 3\", \"Jugador 4\", \"Jugador 5\"])\n",
    "points_df.dropna()"
   ]
  },
  {
   "cell_type": "markdown",
   "metadata": {
    "id": "mp5bUX4wiRun"
   },
   "source": [
    "## Filtrando dataframes\n",
    "\n",
    "Dado un dataframe, podemos filtrar sus filas comprobando cuáles satisfacen una condición"
   ]
  },
  {
   "cell_type": "code",
   "execution_count": 1,
   "metadata": {
    "tags": []
   },
   "outputs": [
    {
     "ename": "NameError",
     "evalue": "name 'letters_freq_df' is not defined",
     "output_type": "error",
     "traceback": [
      "\u001b[0;31m---------------------------------------------------------------------------\u001b[0m",
      "\u001b[0;31mNameError\u001b[0m                                 Traceback (most recent call last)",
      "Cell \u001b[0;32mIn[1], line 1\u001b[0m\n\u001b[0;32m----> 1\u001b[0m letters_freq_df\n",
      "\u001b[0;31mNameError\u001b[0m: name 'letters_freq_df' is not defined"
     ]
    }
   ],
   "source": [
    "letters_freq_df"
   ]
  },
  {
   "cell_type": "code",
   "execution_count": 93,
   "metadata": {
    "executionInfo": {
     "elapsed": 13,
     "status": "aborted",
     "timestamp": 1687098348803,
     "user": {
      "displayName": "Ainara Montoya",
      "userId": "04156984210870783133"
     },
     "user_tz": -120
    },
    "id": "ts-UG4fmhK71",
    "tags": []
   },
   "outputs": [
    {
     "data": {
      "text/html": [
       "<div>\n",
       "<style scoped>\n",
       "    .dataframe tbody tr th:only-of-type {\n",
       "        vertical-align: middle;\n",
       "    }\n",
       "\n",
       "    .dataframe tbody tr th {\n",
       "        vertical-align: top;\n",
       "    }\n",
       "\n",
       "    .dataframe thead th {\n",
       "        text-align: right;\n",
       "    }\n",
       "</style>\n",
       "<table border=\"1\" class=\"dataframe\">\n",
       "  <thead>\n",
       "    <tr style=\"text-align: right;\">\n",
       "      <th></th>\n",
       "      <th>Letra</th>\n",
       "      <th>Frecuencia</th>\n",
       "      <th>Porcentaje</th>\n",
       "    </tr>\n",
       "  </thead>\n",
       "  <tbody>\n",
       "    <tr>\n",
       "      <th>0</th>\n",
       "      <td>\"A\"</td>\n",
       "      <td>24373121</td>\n",
       "      <td>8.1</td>\n",
       "    </tr>\n",
       "    <tr>\n",
       "      <th>4</th>\n",
       "      <td>\"E\"</td>\n",
       "      <td>37907119</td>\n",
       "      <td>12.6</td>\n",
       "    </tr>\n",
       "    <tr>\n",
       "      <th>7</th>\n",
       "      <td>\"H\"</td>\n",
       "      <td>18058207</td>\n",
       "      <td>6.0</td>\n",
       "    </tr>\n",
       "    <tr>\n",
       "      <th>8</th>\n",
       "      <td>\"I\"</td>\n",
       "      <td>21820970</td>\n",
       "      <td>7.3</td>\n",
       "    </tr>\n",
       "    <tr>\n",
       "      <th>13</th>\n",
       "      <td>\"N\"</td>\n",
       "      <td>21402466</td>\n",
       "      <td>7.1</td>\n",
       "    </tr>\n",
       "    <tr>\n",
       "      <th>14</th>\n",
       "      <td>\"O\"</td>\n",
       "      <td>23215532</td>\n",
       "      <td>7.7</td>\n",
       "    </tr>\n",
       "    <tr>\n",
       "      <th>17</th>\n",
       "      <td>\"R\"</td>\n",
       "      <td>17897352</td>\n",
       "      <td>5.9</td>\n",
       "    </tr>\n",
       "    <tr>\n",
       "      <th>18</th>\n",
       "      <td>\"S\"</td>\n",
       "      <td>19059775</td>\n",
       "      <td>6.3</td>\n",
       "    </tr>\n",
       "    <tr>\n",
       "      <th>19</th>\n",
       "      <td>\"T\"</td>\n",
       "      <td>28691274</td>\n",
       "      <td>9.5</td>\n",
       "    </tr>\n",
       "  </tbody>\n",
       "</table>\n",
       "</div>"
      ],
      "text/plain": [
       "      Letra  Frecuencia  Porcentaje\n",
       "0       \"A\"    24373121         8.1\n",
       "4       \"E\"    37907119        12.6\n",
       "7       \"H\"    18058207         6.0\n",
       "8       \"I\"    21820970         7.3\n",
       "13      \"N\"    21402466         7.1\n",
       "14      \"O\"    23215532         7.7\n",
       "17      \"R\"    17897352         5.9\n",
       "18      \"S\"    19059775         6.3\n",
       "19      \"T\"    28691274         9.5"
      ]
     },
     "execution_count": 93,
     "metadata": {},
     "output_type": "execute_result"
    }
   ],
   "source": [
    "# Mostramos las observaciones con porcentaje mayor a 5\n",
    "letters_freq_df[letters_freq_df[\"Porcentaje\"] > 5]"
   ]
  },
  {
   "cell_type": "code",
   "execution_count": 94,
   "metadata": {
    "executionInfo": {
     "elapsed": 13,
     "status": "aborted",
     "timestamp": 1687098348804,
     "user": {
      "displayName": "Ainara Montoya",
      "userId": "04156984210870783133"
     },
     "user_tz": -120
    },
    "id": "j0fYNIkVh4rv",
    "tags": []
   },
   "outputs": [
    {
     "data": {
      "text/html": [
       "<div>\n",
       "<style scoped>\n",
       "    .dataframe tbody tr th:only-of-type {\n",
       "        vertical-align: middle;\n",
       "    }\n",
       "\n",
       "    .dataframe tbody tr th {\n",
       "        vertical-align: top;\n",
       "    }\n",
       "\n",
       "    .dataframe thead th {\n",
       "        text-align: right;\n",
       "    }\n",
       "</style>\n",
       "<table border=\"1\" class=\"dataframe\">\n",
       "  <thead>\n",
       "    <tr style=\"text-align: right;\">\n",
       "      <th></th>\n",
       "      <th>Letra</th>\n",
       "      <th>Frecuencia</th>\n",
       "      <th>Porcentaje</th>\n",
       "    </tr>\n",
       "  </thead>\n",
       "  <tbody>\n",
       "    <tr>\n",
       "      <th>1</th>\n",
       "      <td>\"B\"</td>\n",
       "      <td>4762938</td>\n",
       "      <td>1.6</td>\n",
       "    </tr>\n",
       "    <tr>\n",
       "      <th>2</th>\n",
       "      <td>\"C\"</td>\n",
       "      <td>8982417</td>\n",
       "      <td>3.0</td>\n",
       "    </tr>\n",
       "    <tr>\n",
       "      <th>3</th>\n",
       "      <td>\"D\"</td>\n",
       "      <td>10805580</td>\n",
       "      <td>3.6</td>\n",
       "    </tr>\n",
       "    <tr>\n",
       "      <th>5</th>\n",
       "      <td>\"F\"</td>\n",
       "      <td>7486889</td>\n",
       "      <td>2.5</td>\n",
       "    </tr>\n",
       "    <tr>\n",
       "      <th>6</th>\n",
       "      <td>\"G\"</td>\n",
       "      <td>5143059</td>\n",
       "      <td>1.7</td>\n",
       "    </tr>\n",
       "    <tr>\n",
       "      <th>7</th>\n",
       "      <td>\"H\"</td>\n",
       "      <td>18058207</td>\n",
       "      <td>6.0</td>\n",
       "    </tr>\n",
       "    <tr>\n",
       "      <th>9</th>\n",
       "      <td>\"J\"</td>\n",
       "      <td>474021</td>\n",
       "      <td>0.2</td>\n",
       "    </tr>\n",
       "    <tr>\n",
       "      <th>10</th>\n",
       "      <td>\"K\"</td>\n",
       "      <td>1720909</td>\n",
       "      <td>0.6</td>\n",
       "    </tr>\n",
       "    <tr>\n",
       "      <th>11</th>\n",
       "      <td>\"L\"</td>\n",
       "      <td>11730498</td>\n",
       "      <td>3.9</td>\n",
       "    </tr>\n",
       "    <tr>\n",
       "      <th>12</th>\n",
       "      <td>\"M\"</td>\n",
       "      <td>7391366</td>\n",
       "      <td>2.5</td>\n",
       "    </tr>\n",
       "    <tr>\n",
       "      <th>15</th>\n",
       "      <td>\"P\"</td>\n",
       "      <td>5719422</td>\n",
       "      <td>1.9</td>\n",
       "    </tr>\n",
       "    <tr>\n",
       "      <th>16</th>\n",
       "      <td>\"Q\"</td>\n",
       "      <td>297237</td>\n",
       "      <td>0.1</td>\n",
       "    </tr>\n",
       "    <tr>\n",
       "      <th>17</th>\n",
       "      <td>\"R\"</td>\n",
       "      <td>17897352</td>\n",
       "      <td>5.9</td>\n",
       "    </tr>\n",
       "    <tr>\n",
       "      <th>18</th>\n",
       "      <td>\"S\"</td>\n",
       "      <td>19059775</td>\n",
       "      <td>6.3</td>\n",
       "    </tr>\n",
       "    <tr>\n",
       "      <th>20</th>\n",
       "      <td>\"U\"</td>\n",
       "      <td>8022379</td>\n",
       "      <td>2.7</td>\n",
       "    </tr>\n",
       "    <tr>\n",
       "      <th>21</th>\n",
       "      <td>\"V\"</td>\n",
       "      <td>2835696</td>\n",
       "      <td>0.9</td>\n",
       "    </tr>\n",
       "    <tr>\n",
       "      <th>22</th>\n",
       "      <td>\"W\"</td>\n",
       "      <td>6505294</td>\n",
       "      <td>2.2</td>\n",
       "    </tr>\n",
       "    <tr>\n",
       "      <th>23</th>\n",
       "      <td>\"X\"</td>\n",
       "      <td>562732</td>\n",
       "      <td>0.2</td>\n",
       "    </tr>\n",
       "    <tr>\n",
       "      <th>24</th>\n",
       "      <td>\"Y\"</td>\n",
       "      <td>5910495</td>\n",
       "      <td>2.0</td>\n",
       "    </tr>\n",
       "    <tr>\n",
       "      <th>25</th>\n",
       "      <td>\"Z\"</td>\n",
       "      <td>93172</td>\n",
       "      <td>0.0</td>\n",
       "    </tr>\n",
       "  </tbody>\n",
       "</table>\n",
       "</div>"
      ],
      "text/plain": [
       "      Letra  Frecuencia  Porcentaje\n",
       "1       \"B\"     4762938         1.6\n",
       "2       \"C\"     8982417         3.0\n",
       "3       \"D\"    10805580         3.6\n",
       "5       \"F\"     7486889         2.5\n",
       "6       \"G\"     5143059         1.7\n",
       "7       \"H\"    18058207         6.0\n",
       "9       \"J\"      474021         0.2\n",
       "10      \"K\"     1720909         0.6\n",
       "11      \"L\"    11730498         3.9\n",
       "12      \"M\"     7391366         2.5\n",
       "15      \"P\"     5719422         1.9\n",
       "16      \"Q\"      297237         0.1\n",
       "17      \"R\"    17897352         5.9\n",
       "18      \"S\"    19059775         6.3\n",
       "20      \"U\"     8022379         2.7\n",
       "21      \"V\"     2835696         0.9\n",
       "22      \"W\"     6505294         2.2\n",
       "23      \"X\"      562732         0.2\n",
       "24      \"Y\"     5910495         2.0\n",
       "25      \"Z\"       93172         0.0"
      ]
     },
     "execution_count": 94,
     "metadata": {},
     "output_type": "execute_result"
    }
   ],
   "source": [
    "# Mostramos las observaciones con frecuencia menor o igual a la de la letra S\n",
    "freq_S = letters_freq_df.loc[18, \"Frecuencia\"]\n",
    "letters_freq_df[letters_freq_df[\"Frecuencia\"] <= freq_S]"
   ]
  },
  {
   "cell_type": "markdown",
   "metadata": {
    "id": "fpCV2UG2g9LL"
   },
   "source": [
    "El método `.query()` nos puede ser útil para este cometido, pero funciona únicamente cuando los valores de la columna no contienen espacios en blanco."
   ]
  },
  {
   "cell_type": "code",
   "execution_count": 95,
   "metadata": {
    "executionInfo": {
     "elapsed": 13,
     "status": "aborted",
     "timestamp": 1687098348804,
     "user": {
      "displayName": "Ainara Montoya",
      "userId": "04156984210870783133"
     },
     "user_tz": -120
    },
    "id": "nGJAoIcoiTPz",
    "tags": []
   },
   "outputs": [
    {
     "data": {
      "text/html": [
       "<div>\n",
       "<style scoped>\n",
       "    .dataframe tbody tr th:only-of-type {\n",
       "        vertical-align: middle;\n",
       "    }\n",
       "\n",
       "    .dataframe tbody tr th {\n",
       "        vertical-align: top;\n",
       "    }\n",
       "\n",
       "    .dataframe thead th {\n",
       "        text-align: right;\n",
       "    }\n",
       "</style>\n",
       "<table border=\"1\" class=\"dataframe\">\n",
       "  <thead>\n",
       "    <tr style=\"text-align: right;\">\n",
       "      <th></th>\n",
       "      <th>Letra</th>\n",
       "      <th>Frecuencia</th>\n",
       "      <th>Porcentaje</th>\n",
       "    </tr>\n",
       "  </thead>\n",
       "  <tbody>\n",
       "    <tr>\n",
       "      <th>0</th>\n",
       "      <td>\"A\"</td>\n",
       "      <td>24373121</td>\n",
       "      <td>8.1</td>\n",
       "    </tr>\n",
       "    <tr>\n",
       "      <th>4</th>\n",
       "      <td>\"E\"</td>\n",
       "      <td>37907119</td>\n",
       "      <td>12.6</td>\n",
       "    </tr>\n",
       "    <tr>\n",
       "      <th>7</th>\n",
       "      <td>\"H\"</td>\n",
       "      <td>18058207</td>\n",
       "      <td>6.0</td>\n",
       "    </tr>\n",
       "    <tr>\n",
       "      <th>8</th>\n",
       "      <td>\"I\"</td>\n",
       "      <td>21820970</td>\n",
       "      <td>7.3</td>\n",
       "    </tr>\n",
       "    <tr>\n",
       "      <th>13</th>\n",
       "      <td>\"N\"</td>\n",
       "      <td>21402466</td>\n",
       "      <td>7.1</td>\n",
       "    </tr>\n",
       "    <tr>\n",
       "      <th>14</th>\n",
       "      <td>\"O\"</td>\n",
       "      <td>23215532</td>\n",
       "      <td>7.7</td>\n",
       "    </tr>\n",
       "    <tr>\n",
       "      <th>17</th>\n",
       "      <td>\"R\"</td>\n",
       "      <td>17897352</td>\n",
       "      <td>5.9</td>\n",
       "    </tr>\n",
       "    <tr>\n",
       "      <th>18</th>\n",
       "      <td>\"S\"</td>\n",
       "      <td>19059775</td>\n",
       "      <td>6.3</td>\n",
       "    </tr>\n",
       "    <tr>\n",
       "      <th>19</th>\n",
       "      <td>\"T\"</td>\n",
       "      <td>28691274</td>\n",
       "      <td>9.5</td>\n",
       "    </tr>\n",
       "  </tbody>\n",
       "</table>\n",
       "</div>"
      ],
      "text/plain": [
       "      Letra  Frecuencia  Porcentaje\n",
       "0       \"A\"    24373121         8.1\n",
       "4       \"E\"    37907119        12.6\n",
       "7       \"H\"    18058207         6.0\n",
       "8       \"I\"    21820970         7.3\n",
       "13      \"N\"    21402466         7.1\n",
       "14      \"O\"    23215532         7.7\n",
       "17      \"R\"    17897352         5.9\n",
       "18      \"S\"    19059775         6.3\n",
       "19      \"T\"    28691274         9.5"
      ]
     },
     "execution_count": 95,
     "metadata": {},
     "output_type": "execute_result"
    }
   ],
   "source": [
    "# Mostramos aquellas observaciones cuyo porcentaje es mayor a 5\n",
    "letters_freq_df.query('Porcentaje > 5')"
   ]
  },
  {
   "cell_type": "code",
   "execution_count": 96,
   "metadata": {
    "executionInfo": {
     "elapsed": 13,
     "status": "aborted",
     "timestamp": 1687098348804,
     "user": {
      "displayName": "Ainara Montoya",
      "userId": "04156984210870783133"
     },
     "user_tz": -120
    },
    "id": "wEHq75rcsByc",
    "tags": []
   },
   "outputs": [
    {
     "data": {
      "text/html": [
       "<div>\n",
       "<style scoped>\n",
       "    .dataframe tbody tr th:only-of-type {\n",
       "        vertical-align: middle;\n",
       "    }\n",
       "\n",
       "    .dataframe tbody tr th {\n",
       "        vertical-align: top;\n",
       "    }\n",
       "\n",
       "    .dataframe thead th {\n",
       "        text-align: right;\n",
       "    }\n",
       "</style>\n",
       "<table border=\"1\" class=\"dataframe\">\n",
       "  <thead>\n",
       "    <tr style=\"text-align: right;\">\n",
       "      <th></th>\n",
       "      <th>Letra</th>\n",
       "      <th>Frecuencia</th>\n",
       "      <th>Porcentaje</th>\n",
       "    </tr>\n",
       "  </thead>\n",
       "  <tbody>\n",
       "    <tr>\n",
       "      <th>7</th>\n",
       "      <td>\"H\"</td>\n",
       "      <td>18058207</td>\n",
       "      <td>6.0</td>\n",
       "    </tr>\n",
       "    <tr>\n",
       "      <th>8</th>\n",
       "      <td>\"I\"</td>\n",
       "      <td>21820970</td>\n",
       "      <td>7.3</td>\n",
       "    </tr>\n",
       "    <tr>\n",
       "      <th>13</th>\n",
       "      <td>\"N\"</td>\n",
       "      <td>21402466</td>\n",
       "      <td>7.1</td>\n",
       "    </tr>\n",
       "    <tr>\n",
       "      <th>14</th>\n",
       "      <td>\"O\"</td>\n",
       "      <td>23215532</td>\n",
       "      <td>7.7</td>\n",
       "    </tr>\n",
       "    <tr>\n",
       "      <th>17</th>\n",
       "      <td>\"R\"</td>\n",
       "      <td>17897352</td>\n",
       "      <td>5.9</td>\n",
       "    </tr>\n",
       "    <tr>\n",
       "      <th>18</th>\n",
       "      <td>\"S\"</td>\n",
       "      <td>19059775</td>\n",
       "      <td>6.3</td>\n",
       "    </tr>\n",
       "  </tbody>\n",
       "</table>\n",
       "</div>"
      ],
      "text/plain": [
       "      Letra  Frecuencia  Porcentaje\n",
       "7       \"H\"    18058207         6.0\n",
       "8       \"I\"    21820970         7.3\n",
       "13      \"N\"    21402466         7.1\n",
       "14      \"O\"    23215532         7.7\n",
       "17      \"R\"    17897352         5.9\n",
       "18      \"S\"    19059775         6.3"
      ]
     },
     "execution_count": 96,
     "metadata": {},
     "output_type": "execute_result"
    }
   ],
   "source": [
    "# Mostramos aquellas observaciones cuyo porcentaje es mayor a 5 y menor o igual a 8\n",
    "letters_freq_df.query(\"Porcentaje > 5 and Porcentaje <= 8\")"
   ]
  },
  {
   "cell_type": "markdown",
   "metadata": {
    "id": "gmnqeDZDuBn8"
   },
   "source": [
    "## Series de `pandas`\n",
    "\n",
    "**Serie.** Una Serie de `pandas` es como una columna de un dataframe.\n",
    "\n",
    "Podemos construir Series de `pandas` a partir de una lista unidimensional"
   ]
  },
  {
   "cell_type": "code",
   "execution_count": 97,
   "metadata": {
    "executionInfo": {
     "elapsed": 13,
     "status": "aborted",
     "timestamp": 1687098348804,
     "user": {
      "displayName": "Ainara Montoya",
      "userId": "04156984210870783133"
     },
     "user_tz": -120
    },
    "id": "hyGIB_WauU4G",
    "tags": []
   },
   "outputs": [
    {
     "name": "stdout",
     "output_type": "stream",
     "text": [
      "0    1\n",
      "1    2\n",
      "2    3\n",
      "3    4\n",
      "4    5\n",
      "dtype: int64\n"
     ]
    }
   ],
   "source": [
    "a = [1, 2, 3, 4, 5]\n",
    "my_series = pd.Series(a)\n",
    "print(my_series)"
   ]
  },
  {
   "cell_type": "markdown",
   "metadata": {
    "id": "-SqENzSMugZ5"
   },
   "source": [
    "La columna de la izquierda contiene los índices. Un error muy común es creer que el índice que simplemente es la posición de cada elemento, como parece a primera vista.\n",
    "\n",
    "Estas etiquetas pueden ser usadas para acceder a un valor específico, pero tienen porque coincidir con la posición"
   ]
  },
  {
   "cell_type": "code",
   "execution_count": 98,
   "metadata": {
    "executionInfo": {
     "elapsed": 14,
     "status": "aborted",
     "timestamp": 1687098348805,
     "user": {
      "displayName": "Ainara Montoya",
      "userId": "04156984210870783133"
     },
     "user_tz": -120
    },
    "id": "RwxSpJCwuZGO",
    "tags": []
   },
   "outputs": [
    {
     "name": "stdout",
     "output_type": "stream",
     "text": [
      "2\n"
     ]
    }
   ],
   "source": [
    "print(my_series[1])"
   ]
  },
  {
   "cell_type": "markdown",
   "metadata": {},
   "source": [
    "Para evitar ambigüedades es recomendable usar los atributos:\n",
    "\n",
    "    - `iloc` nos permite acceder por posición\n",
    "    - `loc` que permite acceder por índice"
   ]
  },
  {
   "cell_type": "code",
   "execution_count": 99,
   "metadata": {
    "executionInfo": {
     "elapsed": 14,
     "status": "aborted",
     "timestamp": 1687098348805,
     "user": {
      "displayName": "Ainara Montoya",
      "userId": "04156984210870783133"
     },
     "user_tz": -120
    },
    "id": "zy05jUoqu9Dl",
    "tags": []
   },
   "outputs": [
    {
     "name": "stdout",
     "output_type": "stream",
     "text": [
      "a    1\n",
      "b    2\n",
      "c    3\n",
      "d    4\n",
      "e    5\n",
      "dtype: int64\n"
     ]
    }
   ],
   "source": [
    "my_series = pd.Series(a, index = [\"a\", \"b\", \"c\", \"d\", \"e\"])\n",
    "print(my_series)"
   ]
  },
  {
   "cell_type": "code",
   "execution_count": 100,
   "metadata": {
    "executionInfo": {
     "elapsed": 14,
     "status": "aborted",
     "timestamp": 1687098348805,
     "user": {
      "displayName": "Ainara Montoya",
      "userId": "04156984210870783133"
     },
     "user_tz": -120
    },
    "id": "N24A18qXu2B0",
    "tags": []
   },
   "outputs": [
    {
     "name": "stdout",
     "output_type": "stream",
     "text": [
      "3\n",
      "3\n",
      "3\n"
     ]
    }
   ],
   "source": [
    "print(my_series[\"c\"])\n",
    "print(my_series.iloc[2])\n",
    "print(my_series.loc[\"c\"])"
   ]
  },
  {
   "cell_type": "markdown",
   "metadata": {},
   "source": [
    "Una series tiene dos componentes: los valores y sus índices"
   ]
  },
  {
   "cell_type": "code",
   "execution_count": 101,
   "metadata": {
    "tags": []
   },
   "outputs": [
    {
     "name": "stdout",
     "output_type": "stream",
     "text": [
      "[1 2 3 4 5]\n",
      "Index(['a', 'b', 'c', 'd', 'e'], dtype='object')\n"
     ]
    }
   ],
   "source": [
    "print(my_series.values)\n",
    "print(my_series.index)"
   ]
  },
  {
   "cell_type": "markdown",
   "metadata": {
    "id": "fRuEW2mUv_4W"
   },
   "source": [
    "También podemos crear Series a partir de diccionarios. En este caso, las claves se corresponderán con las etiquetas de las series, y los valores del diccionario con los valores que toman las entradas de la Serie."
   ]
  },
  {
   "cell_type": "code",
   "execution_count": 102,
   "metadata": {
    "executionInfo": {
     "elapsed": 14,
     "status": "aborted",
     "timestamp": 1687098348805,
     "user": {
      "displayName": "Ainara Montoya",
      "userId": "04156984210870783133"
     },
     "user_tz": -120
    },
    "id": "E-hMnOLbvLxA",
    "tags": []
   },
   "outputs": [
    {
     "name": "stdout",
     "output_type": "stream",
     "text": [
      "day1    5\n",
      "day2    9\n",
      "day3    7\n",
      "day4    6\n",
      "day5    8\n",
      "dtype: int64\n"
     ]
    }
   ],
   "source": [
    "videos = {\"day1\": 5, \"day2\": 9, \"day3\": 7, \"day4\": 6, \"day5\": 8}\n",
    "my_series = pd.Series(videos)\n",
    "print(my_series)"
   ]
  },
  {
   "cell_type": "markdown",
   "metadata": {},
   "source": [
    "Series tiene además varias funciones para extraer información numérica como *mean*, *std*, *max*, *min* y muchas otras. Además de por eficiencia se deben utilizar por su buen tratamiento de los valores nulos:"
   ]
  },
  {
   "cell_type": "code",
   "execution_count": 103,
   "metadata": {
    "tags": []
   },
   "outputs": [
    {
     "data": {
      "text/plain": [
       "7.0"
      ]
     },
     "execution_count": 103,
     "metadata": {},
     "output_type": "execute_result"
    }
   ],
   "source": [
    "my_series.mean()"
   ]
  },
  {
   "cell_type": "markdown",
   "metadata": {},
   "source": [
    "Muchos otros métodos y atributos aplicados en los dataframes también son aplicables aquí: isnull(), size..."
   ]
  },
  {
   "cell_type": "code",
   "execution_count": null,
   "metadata": {},
   "outputs": [],
   "source": []
  },
  {
   "cell_type": "code",
   "execution_count": null,
   "metadata": {},
   "outputs": [],
   "source": []
  }
 ],
 "metadata": {
  "colab": {
   "provenance": []
  },
  "kernelspec": {
   "display_name": "base",
   "language": "python",
   "name": "python3"
  },
  "language_info": {
   "codemirror_mode": {
    "name": "ipython",
    "version": 3
   },
   "file_extension": ".py",
   "mimetype": "text/x-python",
   "name": "python",
   "nbconvert_exporter": "python",
   "pygments_lexer": "ipython3",
   "version": "3.12.4"
  }
 },
 "nbformat": 4,
 "nbformat_minor": 4
}

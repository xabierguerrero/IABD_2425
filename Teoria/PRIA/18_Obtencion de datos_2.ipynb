{
 "cells": [
  {
   "cell_type": "markdown",
   "metadata": {
    "id": "Iwkm1yiXOYNB"
   },
   "source": [
    "# Obtención de datos"
   ]
  },
  {
   "cell_type": "markdown",
   "metadata": {
    "id": "VGK36_cZoY4U"
   },
   "source": [
    "## Instalación e importación de librerías necesarias"
   ]
  },
  {
   "cell_type": "code",
   "execution_count": 19,
   "metadata": {
    "id": "WzdGV0SfNZcx"
   },
   "outputs": [
    {
     "name": "stdout",
     "output_type": "stream",
     "text": [
      "Requirement already satisfied: PyPDF4 in /Users/ainara/anaconda3/lib/python3.10/site-packages (1.27.0)\n",
      "Requirement already satisfied: tabula-py in /Users/ainara/anaconda3/lib/python3.10/site-packages (2.7.0)\n",
      "Requirement already satisfied: distro in /Users/ainara/anaconda3/lib/python3.10/site-packages (from tabula-py) (1.8.0)\n",
      "Requirement already satisfied: numpy in /Users/ainara/anaconda3/lib/python3.10/site-packages (from tabula-py) (1.23.5)\n",
      "Requirement already satisfied: pandas>=0.25.3 in /Users/ainara/anaconda3/lib/python3.10/site-packages (from tabula-py) (1.5.3)\n",
      "Requirement already satisfied: python-dateutil>=2.8.1 in /Users/ainara/anaconda3/lib/python3.10/site-packages (from pandas>=0.25.3->tabula-py) (2.8.2)\n",
      "Requirement already satisfied: pytz>=2020.1 in /Users/ainara/anaconda3/lib/python3.10/site-packages (from pandas>=0.25.3->tabula-py) (2022.7)\n",
      "Requirement already satisfied: six>=1.5 in /Users/ainara/anaconda3/lib/python3.10/site-packages (from python-dateutil>=2.8.1->pandas>=0.25.3->tabula-py) (1.16.0)\n",
      "Requirement already satisfied: requests in /Users/ainara/anaconda3/lib/python3.10/site-packages (2.31.0)\n",
      "Requirement already satisfied: charset-normalizer<4,>=2 in /Users/ainara/anaconda3/lib/python3.10/site-packages (from requests) (2.0.4)\n",
      "Requirement already satisfied: idna<4,>=2.5 in /Users/ainara/anaconda3/lib/python3.10/site-packages (from requests) (3.4)\n",
      "Requirement already satisfied: urllib3<3,>=1.21.1 in /Users/ainara/anaconda3/lib/python3.10/site-packages (from requests) (1.26.14)\n",
      "Requirement already satisfied: certifi>=2017.4.17 in /Users/ainara/anaconda3/lib/python3.10/site-packages (from requests) (2023.5.7)\n",
      "Requirement already satisfied: beautifulsoup4 in /Users/ainara/anaconda3/lib/python3.10/site-packages (4.12.2)\n",
      "Requirement already satisfied: soupsieve>1.2 in /Users/ainara/anaconda3/lib/python3.10/site-packages (from beautifulsoup4) (2.3.2.post1)\n"
     ]
    }
   ],
   "source": [
    "!pip install PyPDF4 #librería para el manejo de pdf\n",
    "!pip install tabula-py #permite a los usuarios leer el contenido de una tabla incrustada en un documento PDF\n",
    "!pip install -U requests #para realizar solicitudes HTTP y la opción -U es para actualizar a la última versión\n",
    "!pip install -U beautifulsoup4 #permite extraer información de contenido en formato HTML o XM"
   ]
  },
  {
   "cell_type": "code",
   "execution_count": 20,
   "metadata": {
    "id": "_HQ6q-XS5_88"
   },
   "outputs": [],
   "source": [
    "from bs4 import BeautifulSoup\n",
    "import codecs\n",
    "import csv\n",
    "from datetime import date\n",
    "from datetime import datetime\n",
    "import io\n",
    "import json\n",
    "import pandas as pd\n",
    "import PyPDF4\n",
    "import re\n",
    "import requests\n",
    "import tabula\n",
    "import urllib3\n",
    "urllib3.disable_warnings(urllib3.exceptions.InsecureRequestWarning)"
   ]
  },
  {
   "cell_type": "markdown",
   "metadata": {
    "id": "GvEhSQdJBlTf"
   },
   "source": [
    "## Lectura de datos en formato CSV"
   ]
  },
  {
   "cell_type": "markdown",
   "metadata": {
    "id": "y7kMZZSjLNRy"
   },
   "source": [
    "Un fichero **CSV** (acrónimo de **C**omma **S**eparated **V**alues) es un fichero de **texto** que almacena valores en formato tabular separados por **comas**. Dado que el separador **coma** puede crear confusión a la hora de separar valores numéricos que utilizan la coma como delimitador de la parte entera y la decimal, lo habitual es que se utilice como separador el **punto y coma**. También es posible encontrar como delimitadores el **espacio** y el **tabulador** (en este último caso al fichero se le conoce como **TSV**, acrónimo de **T**ab **S**eparated **V**alues)."
   ]
  },
  {
   "cell_type": "markdown",
   "metadata": {
    "id": "u92eDCjVCBZ_"
   },
   "source": [
    "Aunque podemos utilizar la librería de Python [`csv`](https://docs.python.org/3/library/csv.html), lo cierto es que la librería [`pandas`](https://pandas.pydata.org/) nos ofrece una función [`read_csv`](https://pandas.pydata.org/pandas-docs/stable/reference/api/pandas.read_csv.html) que nos permite construir un `DataFrame` de una forma mucho más cómoda, utilizando como fuente un fichero csv local, o bien uno disponible en la web."
   ]
  },
  {
   "cell_type": "markdown",
   "metadata": {
    "id": "lHHcG30aD39-"
   },
   "source": [
    "Por ejemplo, vamos a cargar un dataset en formato CSV de calidad de vinos del norte de Portugal. Este [dataset](https://archive.ics.uci.edu/ml/datasets/wine+quality) ha sido obtenido del repositorio de aprendizaje automático UC Irvine."
   ]
  },
  {
   "cell_type": "markdown",
   "metadata": {
    "id": "wUjJC0rgGcu7"
   },
   "source": [
    "Antes de cargar el dataset mediante `pandas`, es conveniente que visualicemos su contenido para indicar a la librería cómo procesarlo:\n",
    "\n",
    "![csv](https://drive.google.com/uc?export=view&id=1frKb8yGFYv0kckEirjsrbVJtzge_333T)"
   ]
  },
  {
   "cell_type": "markdown",
   "metadata": {
    "id": "0Gq5vxEoH3_F"
   },
   "source": [
    "Existen varios aspectos a destacar del fichero csv visualizado:\n",
    "\n",
    "* La primera fila contiene una lista con los nombres de cada campo.\n",
    "* Los valores se encuentran separados por el delimitador punto y coma.\n",
    "* Las cifras decimales utilizan el punto (y no la coma) como delimitador de cifras decimales.\n",
    "* Las cadenas se encuentran encapsuladas entre comillas.\n",
    "* La codificación del archivo es UTF-8. Algunos programas como Notepad++ suelen detectar automáticamente la codificación, si esto no fuera posible, tendríamos que probar con las codificaciones más conocidas: utf-8, ascii, latin-1, etc."
   ]
  },
  {
   "cell_type": "markdown",
   "metadata": {
    "id": "9esZFoxTJO8I"
   },
   "source": [
    "Todos estos aspectos que hemos mencionado se traducen en parámetros que tendremos que indicar a la función `read_csv` para que realice una correcta interpretación del contenido del fichero:"
   ]
  },
  {
   "cell_type": "code",
   "execution_count": 21,
   "metadata": {
    "id": "B1bJT0heFdMq"
   },
   "outputs": [
    {
     "data": {
      "text/html": [
       "<div>\n",
       "<style scoped>\n",
       "    .dataframe tbody tr th:only-of-type {\n",
       "        vertical-align: middle;\n",
       "    }\n",
       "\n",
       "    .dataframe tbody tr th {\n",
       "        vertical-align: top;\n",
       "    }\n",
       "\n",
       "    .dataframe thead th {\n",
       "        text-align: right;\n",
       "    }\n",
       "</style>\n",
       "<table border=\"1\" class=\"dataframe\">\n",
       "  <thead>\n",
       "    <tr style=\"text-align: right;\">\n",
       "      <th></th>\n",
       "      <th>fixed acidity</th>\n",
       "      <th>volatile acidity</th>\n",
       "      <th>citric acid</th>\n",
       "      <th>residual sugar</th>\n",
       "      <th>chlorides</th>\n",
       "      <th>free sulfur dioxide</th>\n",
       "      <th>total sulfur dioxide</th>\n",
       "      <th>density</th>\n",
       "      <th>pH</th>\n",
       "      <th>sulphates</th>\n",
       "      <th>alcohol</th>\n",
       "      <th>quality</th>\n",
       "    </tr>\n",
       "  </thead>\n",
       "  <tbody>\n",
       "    <tr>\n",
       "      <th>0</th>\n",
       "      <td>7.4</td>\n",
       "      <td>0.700</td>\n",
       "      <td>0.00</td>\n",
       "      <td>1.9</td>\n",
       "      <td>0.076</td>\n",
       "      <td>11.0</td>\n",
       "      <td>34.0</td>\n",
       "      <td>0.99780</td>\n",
       "      <td>3.51</td>\n",
       "      <td>0.56</td>\n",
       "      <td>9.4</td>\n",
       "      <td>5</td>\n",
       "    </tr>\n",
       "    <tr>\n",
       "      <th>1</th>\n",
       "      <td>7.8</td>\n",
       "      <td>0.880</td>\n",
       "      <td>0.00</td>\n",
       "      <td>2.6</td>\n",
       "      <td>0.098</td>\n",
       "      <td>25.0</td>\n",
       "      <td>67.0</td>\n",
       "      <td>0.99680</td>\n",
       "      <td>3.20</td>\n",
       "      <td>0.68</td>\n",
       "      <td>9.8</td>\n",
       "      <td>5</td>\n",
       "    </tr>\n",
       "    <tr>\n",
       "      <th>2</th>\n",
       "      <td>7.8</td>\n",
       "      <td>0.760</td>\n",
       "      <td>0.04</td>\n",
       "      <td>2.3</td>\n",
       "      <td>0.092</td>\n",
       "      <td>15.0</td>\n",
       "      <td>54.0</td>\n",
       "      <td>0.99700</td>\n",
       "      <td>3.26</td>\n",
       "      <td>0.65</td>\n",
       "      <td>9.8</td>\n",
       "      <td>5</td>\n",
       "    </tr>\n",
       "    <tr>\n",
       "      <th>3</th>\n",
       "      <td>11.2</td>\n",
       "      <td>0.280</td>\n",
       "      <td>0.56</td>\n",
       "      <td>1.9</td>\n",
       "      <td>0.075</td>\n",
       "      <td>17.0</td>\n",
       "      <td>60.0</td>\n",
       "      <td>0.99800</td>\n",
       "      <td>3.16</td>\n",
       "      <td>0.58</td>\n",
       "      <td>9.8</td>\n",
       "      <td>6</td>\n",
       "    </tr>\n",
       "    <tr>\n",
       "      <th>4</th>\n",
       "      <td>7.4</td>\n",
       "      <td>0.700</td>\n",
       "      <td>0.00</td>\n",
       "      <td>1.9</td>\n",
       "      <td>0.076</td>\n",
       "      <td>11.0</td>\n",
       "      <td>34.0</td>\n",
       "      <td>0.99780</td>\n",
       "      <td>3.51</td>\n",
       "      <td>0.56</td>\n",
       "      <td>9.4</td>\n",
       "      <td>5</td>\n",
       "    </tr>\n",
       "    <tr>\n",
       "      <th>...</th>\n",
       "      <td>...</td>\n",
       "      <td>...</td>\n",
       "      <td>...</td>\n",
       "      <td>...</td>\n",
       "      <td>...</td>\n",
       "      <td>...</td>\n",
       "      <td>...</td>\n",
       "      <td>...</td>\n",
       "      <td>...</td>\n",
       "      <td>...</td>\n",
       "      <td>...</td>\n",
       "      <td>...</td>\n",
       "    </tr>\n",
       "    <tr>\n",
       "      <th>1594</th>\n",
       "      <td>6.2</td>\n",
       "      <td>0.600</td>\n",
       "      <td>0.08</td>\n",
       "      <td>2.0</td>\n",
       "      <td>0.090</td>\n",
       "      <td>32.0</td>\n",
       "      <td>44.0</td>\n",
       "      <td>0.99490</td>\n",
       "      <td>3.45</td>\n",
       "      <td>0.58</td>\n",
       "      <td>10.5</td>\n",
       "      <td>5</td>\n",
       "    </tr>\n",
       "    <tr>\n",
       "      <th>1595</th>\n",
       "      <td>5.9</td>\n",
       "      <td>0.550</td>\n",
       "      <td>0.10</td>\n",
       "      <td>2.2</td>\n",
       "      <td>0.062</td>\n",
       "      <td>39.0</td>\n",
       "      <td>51.0</td>\n",
       "      <td>0.99512</td>\n",
       "      <td>3.52</td>\n",
       "      <td>0.76</td>\n",
       "      <td>11.2</td>\n",
       "      <td>6</td>\n",
       "    </tr>\n",
       "    <tr>\n",
       "      <th>1596</th>\n",
       "      <td>6.3</td>\n",
       "      <td>0.510</td>\n",
       "      <td>0.13</td>\n",
       "      <td>2.3</td>\n",
       "      <td>0.076</td>\n",
       "      <td>29.0</td>\n",
       "      <td>40.0</td>\n",
       "      <td>0.99574</td>\n",
       "      <td>3.42</td>\n",
       "      <td>0.75</td>\n",
       "      <td>11.0</td>\n",
       "      <td>6</td>\n",
       "    </tr>\n",
       "    <tr>\n",
       "      <th>1597</th>\n",
       "      <td>5.9</td>\n",
       "      <td>0.645</td>\n",
       "      <td>0.12</td>\n",
       "      <td>2.0</td>\n",
       "      <td>0.075</td>\n",
       "      <td>32.0</td>\n",
       "      <td>44.0</td>\n",
       "      <td>0.99547</td>\n",
       "      <td>3.57</td>\n",
       "      <td>0.71</td>\n",
       "      <td>10.2</td>\n",
       "      <td>5</td>\n",
       "    </tr>\n",
       "    <tr>\n",
       "      <th>1598</th>\n",
       "      <td>6.0</td>\n",
       "      <td>0.310</td>\n",
       "      <td>0.47</td>\n",
       "      <td>3.6</td>\n",
       "      <td>0.067</td>\n",
       "      <td>18.0</td>\n",
       "      <td>42.0</td>\n",
       "      <td>0.99549</td>\n",
       "      <td>3.39</td>\n",
       "      <td>0.66</td>\n",
       "      <td>11.0</td>\n",
       "      <td>6</td>\n",
       "    </tr>\n",
       "  </tbody>\n",
       "</table>\n",
       "<p>1599 rows × 12 columns</p>\n",
       "</div>"
      ],
      "text/plain": [
       "      fixed acidity  volatile acidity  citric acid  residual sugar  chlorides  \\\n",
       "0               7.4             0.700         0.00             1.9      0.076   \n",
       "1               7.8             0.880         0.00             2.6      0.098   \n",
       "2               7.8             0.760         0.04             2.3      0.092   \n",
       "3              11.2             0.280         0.56             1.9      0.075   \n",
       "4               7.4             0.700         0.00             1.9      0.076   \n",
       "...             ...               ...          ...             ...        ...   \n",
       "1594            6.2             0.600         0.08             2.0      0.090   \n",
       "1595            5.9             0.550         0.10             2.2      0.062   \n",
       "1596            6.3             0.510         0.13             2.3      0.076   \n",
       "1597            5.9             0.645         0.12             2.0      0.075   \n",
       "1598            6.0             0.310         0.47             3.6      0.067   \n",
       "\n",
       "      free sulfur dioxide  total sulfur dioxide  density    pH  sulphates  \\\n",
       "0                    11.0                  34.0  0.99780  3.51       0.56   \n",
       "1                    25.0                  67.0  0.99680  3.20       0.68   \n",
       "2                    15.0                  54.0  0.99700  3.26       0.65   \n",
       "3                    17.0                  60.0  0.99800  3.16       0.58   \n",
       "4                    11.0                  34.0  0.99780  3.51       0.56   \n",
       "...                   ...                   ...      ...   ...        ...   \n",
       "1594                 32.0                  44.0  0.99490  3.45       0.58   \n",
       "1595                 39.0                  51.0  0.99512  3.52       0.76   \n",
       "1596                 29.0                  40.0  0.99574  3.42       0.75   \n",
       "1597                 32.0                  44.0  0.99547  3.57       0.71   \n",
       "1598                 18.0                  42.0  0.99549  3.39       0.66   \n",
       "\n",
       "      alcohol  quality  \n",
       "0         9.4        5  \n",
       "1         9.8        5  \n",
       "2         9.8        5  \n",
       "3         9.8        6  \n",
       "4         9.4        5  \n",
       "...       ...      ...  \n",
       "1594     10.5        5  \n",
       "1595     11.2        6  \n",
       "1596     11.0        6  \n",
       "1597     10.2        5  \n",
       "1598     11.0        6  \n",
       "\n",
       "[1599 rows x 12 columns]"
      ]
     },
     "execution_count": 21,
     "metadata": {},
     "output_type": "execute_result"
    }
   ],
   "source": [
    "wine_df = pd.read_csv(\"https://archive.ics.uci.edu/ml/machine-learning-databases/wine-quality/winequality-red.csv\", # URL de archivo csv\n",
    "                      header=0, # La fila número 0 contiene el nombre de las columnas\n",
    "                      sep=\";\", # Separador o delimitador de campos\n",
    "                      decimal=\".\", # El punto separa la parte entera de la decimal de un número\n",
    "                      quotechar=\"\\\"\", # Las cadenas se encuentran encapsuladas entre comillas\n",
    "                      encoding='utf-8',  # La codificación del fichero es UTF-8\n",
    ")\n",
    "wine_df"
   ]
  },
  {
   "cell_type": "markdown",
   "metadata": {
    "id": "q3XKhaUPKKBT"
   },
   "source": [
    "La función `read_csv` define muchos más [parámetros](https://pandas.pydata.org/pandas-docs/stable/reference/api/pandas.read_csv.html), aunque su uso no es tan común. Además, es interesante conocer la lista de [codificaciones reconocidas por Python](https://docs.python.org/3/library/codecs.html#standard-encodings). "
   ]
  },
  {
   "cell_type": "markdown",
   "metadata": {
    "id": "Au9oiy2PZQDD"
   },
   "source": [
    "## Lectura de datos en formato JSON"
   ]
  },
  {
   "cell_type": "markdown",
   "metadata": {
    "id": "Lb0O34cRkPgP"
   },
   "source": [
    "\n",
    "El formato **JSON** (acrónimo de **J**ava**S**cript **O**bject **N**otation) es un formato ampliamente adoptado por las bases de datos documentales. Se trata de una alternativa más concisa al formato **XML**.\n",
    "\n",
    "Este formato nos da soporte para representar tipos de datos *numéricos*, *booleanos*, *cadenas* y la ausencia de valor mediante el término `null`. Permite la definición de estructuras complejas como *arrays* (listas ordenadas de elementos) y *objetos* (diccionarios de pares **clave**, **valor**), los cuales se pueden anidar indefinidamente y no imponen restricciones en cuanto al tipo de dato almacenado.\n",
    "\n",
    "Veamos un ejemplo:\n",
    "\n",
    "```json\n",
    "{\n",
    "  \"numero\": 1.23456,\n",
    "  \"cadena\": \"Hola Mundo!\",\n",
    "  \"array\": [1, \n",
    "            \"texto\", \n",
    "            {\"campo\": \"valor\", \"otros\": [1,2,3]}, \n",
    "            null],\n",
    "  \"objeto\": {\n",
    "    \"anidado\": {\n",
    "      \"anidado\": {\n",
    "        \"anidado\": {}\n",
    "      }\n",
    "    }\n",
    "  }\n",
    "}\n",
    "```"
   ]
  },
  {
   "cell_type": "markdown",
   "metadata": {
    "id": "X4N3XDspZ4iK"
   },
   "source": [
    "Además de ser un formato tan extendido como el **CSV**. Suele ser el formato de respuesta utilizado por las aplicaciones **REST** (acrónimo de **RE**presentational **S**tate **T**ransfer). Estas aplicaciones implementan una interfaz basada en el protocolo **HTTP** para la obtención y manipulación remota de datos de manera sencilla e independiente de la tecnología empleada."
   ]
  },
  {
   "cell_type": "markdown",
   "metadata": {
    "id": "mlKC7_b4mmL8"
   },
   "source": [
    "A continuación vamos a leer los datos oficiales de población de los diferentes municipios de la Región de Murcia a través del [Instituto Nacional de Estadística](https://www.ine.es/index.htm) para el año 2019. Aunque existen otros métodos para leer documentos JSON mediante Python (por ejemplo, la librería [json](https://docs.python.org/3/library/json.html)), nosotros utilizaremos el método [`read_json`](https://pandas.pydata.org/pandas-docs/stable/reference/api/pandas.read_json.html) ofrecido por `pandas`.\n",
    "\n",
    "Este método define una serie de [parámetros](https://pandas.pydata.org/pandas-docs/stable/reference/api/pandas.read_json.html) con los que controlar la forma en que el documento JSON es interpretado, aunque generalmente no necesitaremos indicarlos y sus valores por defecto serán adecuados:"
   ]
  },
  {
   "cell_type": "code",
   "execution_count": 22,
   "metadata": {
    "id": "h6cgMM5-mfV8"
   },
   "outputs": [
    {
     "data": {
      "text/html": [
       "<div>\n",
       "<style scoped>\n",
       "    .dataframe tbody tr th:only-of-type {\n",
       "        vertical-align: middle;\n",
       "    }\n",
       "\n",
       "    .dataframe tbody tr th {\n",
       "        vertical-align: top;\n",
       "    }\n",
       "\n",
       "    .dataframe thead th {\n",
       "        text-align: right;\n",
       "    }\n",
       "</style>\n",
       "<table border=\"1\" class=\"dataframe\">\n",
       "  <thead>\n",
       "    <tr style=\"text-align: right;\">\n",
       "      <th></th>\n",
       "      <th>COD</th>\n",
       "      <th>Nombre</th>\n",
       "      <th>T3_Unidad</th>\n",
       "      <th>T3_Escala</th>\n",
       "      <th>MetaData</th>\n",
       "      <th>Data</th>\n",
       "    </tr>\n",
       "  </thead>\n",
       "  <tbody>\n",
       "    <tr>\n",
       "      <th>0</th>\n",
       "      <td>DPOP13765</td>\n",
       "      <td>Murcia. Total. Total habitantes. Personas.</td>\n",
       "      <td>Personas</td>\n",
       "      <td></td>\n",
       "      <td>[{'Id': 31, 'Variable': {'Id': 115, 'Nombre': ...</td>\n",
       "      <td>[{'Fecha': '2019-01-01T00:00:00.000+01:00', 'T...</td>\n",
       "    </tr>\n",
       "    <tr>\n",
       "      <th>1</th>\n",
       "      <td>DPOP13768</td>\n",
       "      <td>Abanilla. Total. Total habitantes. Personas.</td>\n",
       "      <td>Personas</td>\n",
       "      <td></td>\n",
       "      <td>[{'Id': 2640, 'Variable': {'Id': 19, 'Nombre':...</td>\n",
       "      <td>[{'Fecha': '2019-01-01T00:00:00.000+01:00', 'T...</td>\n",
       "    </tr>\n",
       "    <tr>\n",
       "      <th>2</th>\n",
       "      <td>DPOP13771</td>\n",
       "      <td>Abarán. Total. Total habitantes. Personas.</td>\n",
       "      <td>Personas</td>\n",
       "      <td></td>\n",
       "      <td>[{'Id': 2641, 'Variable': {'Id': 19, 'Nombre':...</td>\n",
       "      <td>[{'Fecha': '2019-01-01T00:00:00.000+01:00', 'T...</td>\n",
       "    </tr>\n",
       "    <tr>\n",
       "      <th>3</th>\n",
       "      <td>DPOP13774</td>\n",
       "      <td>Águilas. Total. Total habitantes. Personas.</td>\n",
       "      <td>Personas</td>\n",
       "      <td></td>\n",
       "      <td>[{'Id': 2642, 'Variable': {'Id': 19, 'Nombre':...</td>\n",
       "      <td>[{'Fecha': '2019-01-01T00:00:00.000+01:00', 'T...</td>\n",
       "    </tr>\n",
       "    <tr>\n",
       "      <th>4</th>\n",
       "      <td>DPOP13777</td>\n",
       "      <td>Albudeite. Total. Total habitantes. Personas.</td>\n",
       "      <td>Personas</td>\n",
       "      <td></td>\n",
       "      <td>[{'Id': 2643, 'Variable': {'Id': 19, 'Nombre':...</td>\n",
       "      <td>[{'Fecha': '2019-01-01T00:00:00.000+01:00', 'T...</td>\n",
       "    </tr>\n",
       "    <tr>\n",
       "      <th>5</th>\n",
       "      <td>DPOP13780</td>\n",
       "      <td>Alcantarilla. Total. Total habitantes. Personas.</td>\n",
       "      <td>Personas</td>\n",
       "      <td></td>\n",
       "      <td>[{'Id': 2526, 'Variable': {'Id': 19, 'Nombre':...</td>\n",
       "      <td>[{'Fecha': '2019-01-01T00:00:00.000+01:00', 'T...</td>\n",
       "    </tr>\n",
       "    <tr>\n",
       "      <th>6</th>\n",
       "      <td>DPOP13900</td>\n",
       "      <td>Alcázares, Los. Total. Total habitantes. Perso...</td>\n",
       "      <td>Personas</td>\n",
       "      <td></td>\n",
       "      <td>[{'Id': 2248, 'Variable': {'Id': 19, 'Nombre':...</td>\n",
       "      <td>[{'Fecha': '2019-01-01T00:00:00.000+01:00', 'T...</td>\n",
       "    </tr>\n",
       "    <tr>\n",
       "      <th>7</th>\n",
       "      <td>DPOP13783</td>\n",
       "      <td>Aledo. Total. Total habitantes. Personas.</td>\n",
       "      <td>Personas</td>\n",
       "      <td></td>\n",
       "      <td>[{'Id': 2527, 'Variable': {'Id': 19, 'Nombre':...</td>\n",
       "      <td>[{'Fecha': '2019-01-01T00:00:00.000+01:00', 'T...</td>\n",
       "    </tr>\n",
       "    <tr>\n",
       "      <th>8</th>\n",
       "      <td>DPOP13786</td>\n",
       "      <td>Alguazas. Total. Total habitantes. Personas.</td>\n",
       "      <td>Personas</td>\n",
       "      <td></td>\n",
       "      <td>[{'Id': 2528, 'Variable': {'Id': 19, 'Nombre':...</td>\n",
       "      <td>[{'Fecha': '2019-01-01T00:00:00.000+01:00', 'T...</td>\n",
       "    </tr>\n",
       "    <tr>\n",
       "      <th>9</th>\n",
       "      <td>DPOP13789</td>\n",
       "      <td>Alhama de Murcia. Total. Total habitantes. Per...</td>\n",
       "      <td>Personas</td>\n",
       "      <td></td>\n",
       "      <td>[{'Id': 2529, 'Variable': {'Id': 19, 'Nombre':...</td>\n",
       "      <td>[{'Fecha': '2019-01-01T00:00:00.000+01:00', 'T...</td>\n",
       "    </tr>\n",
       "    <tr>\n",
       "      <th>10</th>\n",
       "      <td>DPOP13792</td>\n",
       "      <td>Archena. Total. Total habitantes. Personas.</td>\n",
       "      <td>Personas</td>\n",
       "      <td></td>\n",
       "      <td>[{'Id': 2530, 'Variable': {'Id': 19, 'Nombre':...</td>\n",
       "      <td>[{'Fecha': '2019-01-01T00:00:00.000+01:00', 'T...</td>\n",
       "    </tr>\n",
       "    <tr>\n",
       "      <th>11</th>\n",
       "      <td>DPOP13795</td>\n",
       "      <td>Beniel. Total. Total habitantes. Personas.</td>\n",
       "      <td>Personas</td>\n",
       "      <td></td>\n",
       "      <td>[{'Id': 2531, 'Variable': {'Id': 19, 'Nombre':...</td>\n",
       "      <td>[{'Fecha': '2019-01-01T00:00:00.000+01:00', 'T...</td>\n",
       "    </tr>\n",
       "    <tr>\n",
       "      <th>12</th>\n",
       "      <td>DPOP13798</td>\n",
       "      <td>Blanca. Total. Total habitantes. Personas.</td>\n",
       "      <td>Personas</td>\n",
       "      <td></td>\n",
       "      <td>[{'Id': 2532, 'Variable': {'Id': 19, 'Nombre':...</td>\n",
       "      <td>[{'Fecha': '2019-01-01T00:00:00.000+01:00', 'T...</td>\n",
       "    </tr>\n",
       "    <tr>\n",
       "      <th>13</th>\n",
       "      <td>DPOP13801</td>\n",
       "      <td>Bullas. Total. Total habitantes. Personas.</td>\n",
       "      <td>Personas</td>\n",
       "      <td></td>\n",
       "      <td>[{'Id': 2533, 'Variable': {'Id': 19, 'Nombre':...</td>\n",
       "      <td>[{'Fecha': '2019-01-01T00:00:00.000+01:00', 'T...</td>\n",
       "    </tr>\n",
       "    <tr>\n",
       "      <th>14</th>\n",
       "      <td>DPOP13804</td>\n",
       "      <td>Calasparra. Total. Total habitantes. Personas.</td>\n",
       "      <td>Personas</td>\n",
       "      <td></td>\n",
       "      <td>[{'Id': 2534, 'Variable': {'Id': 19, 'Nombre':...</td>\n",
       "      <td>[{'Fecha': '2019-01-01T00:00:00.000+01:00', 'T...</td>\n",
       "    </tr>\n",
       "    <tr>\n",
       "      <th>15</th>\n",
       "      <td>DPOP13807</td>\n",
       "      <td>Campos del Río. Total. Total habitantes. Perso...</td>\n",
       "      <td>Personas</td>\n",
       "      <td></td>\n",
       "      <td>[{'Id': 2535, 'Variable': {'Id': 19, 'Nombre':...</td>\n",
       "      <td>[{'Fecha': '2019-01-01T00:00:00.000+01:00', 'T...</td>\n",
       "    </tr>\n",
       "    <tr>\n",
       "      <th>16</th>\n",
       "      <td>DPOP13810</td>\n",
       "      <td>Caravaca de la Cruz. Total. Total habitantes. ...</td>\n",
       "      <td>Personas</td>\n",
       "      <td></td>\n",
       "      <td>[{'Id': 2536, 'Variable': {'Id': 19, 'Nombre':...</td>\n",
       "      <td>[{'Fecha': '2019-01-01T00:00:00.000+01:00', 'T...</td>\n",
       "    </tr>\n",
       "    <tr>\n",
       "      <th>17</th>\n",
       "      <td>DPOP13813</td>\n",
       "      <td>Cartagena. Total. Total habitantes. Personas.</td>\n",
       "      <td>Personas</td>\n",
       "      <td></td>\n",
       "      <td>[{'Id': 2537, 'Variable': {'Id': 19, 'Nombre':...</td>\n",
       "      <td>[{'Fecha': '2019-01-01T00:00:00.000+01:00', 'T...</td>\n",
       "    </tr>\n",
       "    <tr>\n",
       "      <th>18</th>\n",
       "      <td>DPOP13816</td>\n",
       "      <td>Cehegín. Total. Total habitantes. Personas.</td>\n",
       "      <td>Personas</td>\n",
       "      <td></td>\n",
       "      <td>[{'Id': 2538, 'Variable': {'Id': 19, 'Nombre':...</td>\n",
       "      <td>[{'Fecha': '2019-01-01T00:00:00.000+01:00', 'T...</td>\n",
       "    </tr>\n",
       "    <tr>\n",
       "      <th>19</th>\n",
       "      <td>DPOP13819</td>\n",
       "      <td>Ceutí. Total. Total habitantes. Personas.</td>\n",
       "      <td>Personas</td>\n",
       "      <td></td>\n",
       "      <td>[{'Id': 2539, 'Variable': {'Id': 19, 'Nombre':...</td>\n",
       "      <td>[{'Fecha': '2019-01-01T00:00:00.000+01:00', 'T...</td>\n",
       "    </tr>\n",
       "    <tr>\n",
       "      <th>20</th>\n",
       "      <td>DPOP13822</td>\n",
       "      <td>Cieza. Total. Total habitantes. Personas.</td>\n",
       "      <td>Personas</td>\n",
       "      <td></td>\n",
       "      <td>[{'Id': 2540, 'Variable': {'Id': 19, 'Nombre':...</td>\n",
       "      <td>[{'Fecha': '2019-01-01T00:00:00.000+01:00', 'T...</td>\n",
       "    </tr>\n",
       "    <tr>\n",
       "      <th>21</th>\n",
       "      <td>DPOP13825</td>\n",
       "      <td>Fortuna. Total. Total habitantes. Personas.</td>\n",
       "      <td>Personas</td>\n",
       "      <td></td>\n",
       "      <td>[{'Id': 2541, 'Variable': {'Id': 19, 'Nombre':...</td>\n",
       "      <td>[{'Fecha': '2019-01-01T00:00:00.000+01:00', 'T...</td>\n",
       "    </tr>\n",
       "    <tr>\n",
       "      <th>22</th>\n",
       "      <td>DPOP13828</td>\n",
       "      <td>Fuente Álamo de Murcia. Total. Total habitante...</td>\n",
       "      <td>Personas</td>\n",
       "      <td></td>\n",
       "      <td>[{'Id': 2542, 'Variable': {'Id': 19, 'Nombre':...</td>\n",
       "      <td>[{'Fecha': '2019-01-01T00:00:00.000+01:00', 'T...</td>\n",
       "    </tr>\n",
       "    <tr>\n",
       "      <th>23</th>\n",
       "      <td>DPOP13831</td>\n",
       "      <td>Jumilla. Total. Total habitantes. Personas.</td>\n",
       "      <td>Personas</td>\n",
       "      <td></td>\n",
       "      <td>[{'Id': 2543, 'Variable': {'Id': 19, 'Nombre':...</td>\n",
       "      <td>[{'Fecha': '2019-01-01T00:00:00.000+01:00', 'T...</td>\n",
       "    </tr>\n",
       "    <tr>\n",
       "      <th>24</th>\n",
       "      <td>DPOP13834</td>\n",
       "      <td>Librilla. Total. Total habitantes. Personas.</td>\n",
       "      <td>Personas</td>\n",
       "      <td></td>\n",
       "      <td>[{'Id': 2544, 'Variable': {'Id': 19, 'Nombre':...</td>\n",
       "      <td>[{'Fecha': '2019-01-01T00:00:00.000+01:00', 'T...</td>\n",
       "    </tr>\n",
       "    <tr>\n",
       "      <th>25</th>\n",
       "      <td>DPOP13837</td>\n",
       "      <td>Lorca. Total. Total habitantes. Personas.</td>\n",
       "      <td>Personas</td>\n",
       "      <td></td>\n",
       "      <td>[{'Id': 2545, 'Variable': {'Id': 19, 'Nombre':...</td>\n",
       "      <td>[{'Fecha': '2019-01-01T00:00:00.000+01:00', 'T...</td>\n",
       "    </tr>\n",
       "    <tr>\n",
       "      <th>26</th>\n",
       "      <td>DPOP13840</td>\n",
       "      <td>Lorquí. Total. Total habitantes. Personas.</td>\n",
       "      <td>Personas</td>\n",
       "      <td></td>\n",
       "      <td>[{'Id': 2428, 'Variable': {'Id': 19, 'Nombre':...</td>\n",
       "      <td>[{'Fecha': '2019-01-01T00:00:00.000+01:00', 'T...</td>\n",
       "    </tr>\n",
       "    <tr>\n",
       "      <th>27</th>\n",
       "      <td>DPOP13843</td>\n",
       "      <td>Mazarrón. Total. Total habitantes. Personas.</td>\n",
       "      <td>Personas</td>\n",
       "      <td></td>\n",
       "      <td>[{'Id': 2429, 'Variable': {'Id': 19, 'Nombre':...</td>\n",
       "      <td>[{'Fecha': '2019-01-01T00:00:00.000+01:00', 'T...</td>\n",
       "    </tr>\n",
       "    <tr>\n",
       "      <th>28</th>\n",
       "      <td>DPOP13846</td>\n",
       "      <td>Molina de Segura. Total. Total habitantes. Per...</td>\n",
       "      <td>Personas</td>\n",
       "      <td></td>\n",
       "      <td>[{'Id': 2430, 'Variable': {'Id': 19, 'Nombre':...</td>\n",
       "      <td>[{'Fecha': '2019-01-01T00:00:00.000+01:00', 'T...</td>\n",
       "    </tr>\n",
       "    <tr>\n",
       "      <th>29</th>\n",
       "      <td>DPOP13849</td>\n",
       "      <td>Moratalla. Total. Total habitantes. Personas.</td>\n",
       "      <td>Personas</td>\n",
       "      <td></td>\n",
       "      <td>[{'Id': 2431, 'Variable': {'Id': 19, 'Nombre':...</td>\n",
       "      <td>[{'Fecha': '2019-01-01T00:00:00.000+01:00', 'T...</td>\n",
       "    </tr>\n",
       "    <tr>\n",
       "      <th>30</th>\n",
       "      <td>DPOP13852</td>\n",
       "      <td>Mula. Total. Total habitantes. Personas.</td>\n",
       "      <td>Personas</td>\n",
       "      <td></td>\n",
       "      <td>[{'Id': 2432, 'Variable': {'Id': 19, 'Nombre':...</td>\n",
       "      <td>[{'Fecha': '2019-01-01T00:00:00.000+01:00', 'T...</td>\n",
       "    </tr>\n",
       "    <tr>\n",
       "      <th>31</th>\n",
       "      <td>DPOP13855</td>\n",
       "      <td>Murcia. Total. Total habitantes. Personas.</td>\n",
       "      <td>Personas</td>\n",
       "      <td></td>\n",
       "      <td>[{'Id': 2433, 'Variable': {'Id': 19, 'Nombre':...</td>\n",
       "      <td>[{'Fecha': '2019-01-01T00:00:00.000+01:00', 'T...</td>\n",
       "    </tr>\n",
       "    <tr>\n",
       "      <th>32</th>\n",
       "      <td>DPOP13858</td>\n",
       "      <td>Ojós. Total. Total habitantes. Personas.</td>\n",
       "      <td>Personas</td>\n",
       "      <td></td>\n",
       "      <td>[{'Id': 2434, 'Variable': {'Id': 19, 'Nombre':...</td>\n",
       "      <td>[{'Fecha': '2019-01-01T00:00:00.000+01:00', 'T...</td>\n",
       "    </tr>\n",
       "    <tr>\n",
       "      <th>33</th>\n",
       "      <td>DPOP13861</td>\n",
       "      <td>Pliego. Total. Total habitantes. Personas.</td>\n",
       "      <td>Personas</td>\n",
       "      <td></td>\n",
       "      <td>[{'Id': 2435, 'Variable': {'Id': 19, 'Nombre':...</td>\n",
       "      <td>[{'Fecha': '2019-01-01T00:00:00.000+01:00', 'T...</td>\n",
       "    </tr>\n",
       "    <tr>\n",
       "      <th>34</th>\n",
       "      <td>DPOP13864</td>\n",
       "      <td>Puerto Lumbreras. Total. Total habitantes. Per...</td>\n",
       "      <td>Personas</td>\n",
       "      <td></td>\n",
       "      <td>[{'Id': 2436, 'Variable': {'Id': 19, 'Nombre':...</td>\n",
       "      <td>[{'Fecha': '2019-01-01T00:00:00.000+01:00', 'T...</td>\n",
       "    </tr>\n",
       "    <tr>\n",
       "      <th>35</th>\n",
       "      <td>DPOP13867</td>\n",
       "      <td>Ricote. Total. Total habitantes. Personas.</td>\n",
       "      <td>Personas</td>\n",
       "      <td></td>\n",
       "      <td>[{'Id': 2437, 'Variable': {'Id': 19, 'Nombre':...</td>\n",
       "      <td>[{'Fecha': '2019-01-01T00:00:00.000+01:00', 'T...</td>\n",
       "    </tr>\n",
       "    <tr>\n",
       "      <th>36</th>\n",
       "      <td>DPOP13870</td>\n",
       "      <td>San Javier. Total. Total habitantes. Personas.</td>\n",
       "      <td>Personas</td>\n",
       "      <td></td>\n",
       "      <td>[{'Id': 2438, 'Variable': {'Id': 19, 'Nombre':...</td>\n",
       "      <td>[{'Fecha': '2019-01-01T00:00:00.000+01:00', 'T...</td>\n",
       "    </tr>\n",
       "    <tr>\n",
       "      <th>37</th>\n",
       "      <td>DPOP13873</td>\n",
       "      <td>San Pedro del Pinatar. Total. Total habitantes...</td>\n",
       "      <td>Personas</td>\n",
       "      <td></td>\n",
       "      <td>[{'Id': 2439, 'Variable': {'Id': 19, 'Nombre':...</td>\n",
       "      <td>[{'Fecha': '2019-01-01T00:00:00.000+01:00', 'T...</td>\n",
       "    </tr>\n",
       "    <tr>\n",
       "      <th>38</th>\n",
       "      <td>DPOP13897</td>\n",
       "      <td>Santomera. Total. Total habitantes. Personas.</td>\n",
       "      <td>Personas</td>\n",
       "      <td></td>\n",
       "      <td>[{'Id': 2247, 'Variable': {'Id': 19, 'Nombre':...</td>\n",
       "      <td>[{'Fecha': '2019-01-01T00:00:00.000+01:00', 'T...</td>\n",
       "    </tr>\n",
       "    <tr>\n",
       "      <th>39</th>\n",
       "      <td>DPOP13876</td>\n",
       "      <td>Torre-Pacheco. Total. Total habitantes. Person...</td>\n",
       "      <td>Personas</td>\n",
       "      <td></td>\n",
       "      <td>[{'Id': 2440, 'Variable': {'Id': 19, 'Nombre':...</td>\n",
       "      <td>[{'Fecha': '2019-01-01T00:00:00.000+01:00', 'T...</td>\n",
       "    </tr>\n",
       "    <tr>\n",
       "      <th>40</th>\n",
       "      <td>DPOP13879</td>\n",
       "      <td>Torres de Cotillas, Las. Total. Total habitant...</td>\n",
       "      <td>Personas</td>\n",
       "      <td></td>\n",
       "      <td>[{'Id': 2441, 'Variable': {'Id': 19, 'Nombre':...</td>\n",
       "      <td>[{'Fecha': '2019-01-01T00:00:00.000+01:00', 'T...</td>\n",
       "    </tr>\n",
       "    <tr>\n",
       "      <th>41</th>\n",
       "      <td>DPOP13882</td>\n",
       "      <td>Totana. Total. Total habitantes. Personas.</td>\n",
       "      <td>Personas</td>\n",
       "      <td></td>\n",
       "      <td>[{'Id': 2442, 'Variable': {'Id': 19, 'Nombre':...</td>\n",
       "      <td>[{'Fecha': '2019-01-01T00:00:00.000+01:00', 'T...</td>\n",
       "    </tr>\n",
       "    <tr>\n",
       "      <th>42</th>\n",
       "      <td>DPOP13885</td>\n",
       "      <td>Ulea. Total. Total habitantes. Personas.</td>\n",
       "      <td>Personas</td>\n",
       "      <td></td>\n",
       "      <td>[{'Id': 2443, 'Variable': {'Id': 19, 'Nombre':...</td>\n",
       "      <td>[{'Fecha': '2019-01-01T00:00:00.000+01:00', 'T...</td>\n",
       "    </tr>\n",
       "    <tr>\n",
       "      <th>43</th>\n",
       "      <td>DPOP13888</td>\n",
       "      <td>Unión, La. Total. Total habitantes. Personas.</td>\n",
       "      <td>Personas</td>\n",
       "      <td></td>\n",
       "      <td>[{'Id': 2444, 'Variable': {'Id': 19, 'Nombre':...</td>\n",
       "      <td>[{'Fecha': '2019-01-01T00:00:00.000+01:00', 'T...</td>\n",
       "    </tr>\n",
       "    <tr>\n",
       "      <th>44</th>\n",
       "      <td>DPOP13891</td>\n",
       "      <td>Villanueva del Río Segura. Total. Total habita...</td>\n",
       "      <td>Personas</td>\n",
       "      <td></td>\n",
       "      <td>[{'Id': 2340, 'Variable': {'Id': 19, 'Nombre':...</td>\n",
       "      <td>[{'Fecha': '2019-01-01T00:00:00.000+01:00', 'T...</td>\n",
       "    </tr>\n",
       "    <tr>\n",
       "      <th>45</th>\n",
       "      <td>DPOP13894</td>\n",
       "      <td>Yecla. Total. Total habitantes. Personas.</td>\n",
       "      <td>Personas</td>\n",
       "      <td></td>\n",
       "      <td>[{'Id': 2341, 'Variable': {'Id': 19, 'Nombre':...</td>\n",
       "      <td>[{'Fecha': '2019-01-01T00:00:00.000+01:00', 'T...</td>\n",
       "    </tr>\n",
       "  </tbody>\n",
       "</table>\n",
       "</div>"
      ],
      "text/plain": [
       "          COD                                             Nombre T3_Unidad  \\\n",
       "0   DPOP13765        Murcia. Total. Total habitantes. Personas.   Personas   \n",
       "1   DPOP13768      Abanilla. Total. Total habitantes. Personas.   Personas   \n",
       "2   DPOP13771        Abarán. Total. Total habitantes. Personas.   Personas   \n",
       "3   DPOP13774       Águilas. Total. Total habitantes. Personas.   Personas   \n",
       "4   DPOP13777     Albudeite. Total. Total habitantes. Personas.   Personas   \n",
       "5   DPOP13780  Alcantarilla. Total. Total habitantes. Personas.   Personas   \n",
       "6   DPOP13900  Alcázares, Los. Total. Total habitantes. Perso...  Personas   \n",
       "7   DPOP13783         Aledo. Total. Total habitantes. Personas.   Personas   \n",
       "8   DPOP13786      Alguazas. Total. Total habitantes. Personas.   Personas   \n",
       "9   DPOP13789  Alhama de Murcia. Total. Total habitantes. Per...  Personas   \n",
       "10  DPOP13792       Archena. Total. Total habitantes. Personas.   Personas   \n",
       "11  DPOP13795        Beniel. Total. Total habitantes. Personas.   Personas   \n",
       "12  DPOP13798        Blanca. Total. Total habitantes. Personas.   Personas   \n",
       "13  DPOP13801        Bullas. Total. Total habitantes. Personas.   Personas   \n",
       "14  DPOP13804    Calasparra. Total. Total habitantes. Personas.   Personas   \n",
       "15  DPOP13807  Campos del Río. Total. Total habitantes. Perso...  Personas   \n",
       "16  DPOP13810  Caravaca de la Cruz. Total. Total habitantes. ...  Personas   \n",
       "17  DPOP13813     Cartagena. Total. Total habitantes. Personas.   Personas   \n",
       "18  DPOP13816       Cehegín. Total. Total habitantes. Personas.   Personas   \n",
       "19  DPOP13819         Ceutí. Total. Total habitantes. Personas.   Personas   \n",
       "20  DPOP13822         Cieza. Total. Total habitantes. Personas.   Personas   \n",
       "21  DPOP13825       Fortuna. Total. Total habitantes. Personas.   Personas   \n",
       "22  DPOP13828  Fuente Álamo de Murcia. Total. Total habitante...  Personas   \n",
       "23  DPOP13831       Jumilla. Total. Total habitantes. Personas.   Personas   \n",
       "24  DPOP13834      Librilla. Total. Total habitantes. Personas.   Personas   \n",
       "25  DPOP13837         Lorca. Total. Total habitantes. Personas.   Personas   \n",
       "26  DPOP13840        Lorquí. Total. Total habitantes. Personas.   Personas   \n",
       "27  DPOP13843      Mazarrón. Total. Total habitantes. Personas.   Personas   \n",
       "28  DPOP13846  Molina de Segura. Total. Total habitantes. Per...  Personas   \n",
       "29  DPOP13849     Moratalla. Total. Total habitantes. Personas.   Personas   \n",
       "30  DPOP13852          Mula. Total. Total habitantes. Personas.   Personas   \n",
       "31  DPOP13855        Murcia. Total. Total habitantes. Personas.   Personas   \n",
       "32  DPOP13858          Ojós. Total. Total habitantes. Personas.   Personas   \n",
       "33  DPOP13861        Pliego. Total. Total habitantes. Personas.   Personas   \n",
       "34  DPOP13864  Puerto Lumbreras. Total. Total habitantes. Per...  Personas   \n",
       "35  DPOP13867        Ricote. Total. Total habitantes. Personas.   Personas   \n",
       "36  DPOP13870    San Javier. Total. Total habitantes. Personas.   Personas   \n",
       "37  DPOP13873  San Pedro del Pinatar. Total. Total habitantes...  Personas   \n",
       "38  DPOP13897     Santomera. Total. Total habitantes. Personas.   Personas   \n",
       "39  DPOP13876  Torre-Pacheco. Total. Total habitantes. Person...  Personas   \n",
       "40  DPOP13879  Torres de Cotillas, Las. Total. Total habitant...  Personas   \n",
       "41  DPOP13882        Totana. Total. Total habitantes. Personas.   Personas   \n",
       "42  DPOP13885          Ulea. Total. Total habitantes. Personas.   Personas   \n",
       "43  DPOP13888     Unión, La. Total. Total habitantes. Personas.   Personas   \n",
       "44  DPOP13891  Villanueva del Río Segura. Total. Total habita...  Personas   \n",
       "45  DPOP13894         Yecla. Total. Total habitantes. Personas.   Personas   \n",
       "\n",
       "   T3_Escala                                           MetaData  \\\n",
       "0             [{'Id': 31, 'Variable': {'Id': 115, 'Nombre': ...   \n",
       "1             [{'Id': 2640, 'Variable': {'Id': 19, 'Nombre':...   \n",
       "2             [{'Id': 2641, 'Variable': {'Id': 19, 'Nombre':...   \n",
       "3             [{'Id': 2642, 'Variable': {'Id': 19, 'Nombre':...   \n",
       "4             [{'Id': 2643, 'Variable': {'Id': 19, 'Nombre':...   \n",
       "5             [{'Id': 2526, 'Variable': {'Id': 19, 'Nombre':...   \n",
       "6             [{'Id': 2248, 'Variable': {'Id': 19, 'Nombre':...   \n",
       "7             [{'Id': 2527, 'Variable': {'Id': 19, 'Nombre':...   \n",
       "8             [{'Id': 2528, 'Variable': {'Id': 19, 'Nombre':...   \n",
       "9             [{'Id': 2529, 'Variable': {'Id': 19, 'Nombre':...   \n",
       "10            [{'Id': 2530, 'Variable': {'Id': 19, 'Nombre':...   \n",
       "11            [{'Id': 2531, 'Variable': {'Id': 19, 'Nombre':...   \n",
       "12            [{'Id': 2532, 'Variable': {'Id': 19, 'Nombre':...   \n",
       "13            [{'Id': 2533, 'Variable': {'Id': 19, 'Nombre':...   \n",
       "14            [{'Id': 2534, 'Variable': {'Id': 19, 'Nombre':...   \n",
       "15            [{'Id': 2535, 'Variable': {'Id': 19, 'Nombre':...   \n",
       "16            [{'Id': 2536, 'Variable': {'Id': 19, 'Nombre':...   \n",
       "17            [{'Id': 2537, 'Variable': {'Id': 19, 'Nombre':...   \n",
       "18            [{'Id': 2538, 'Variable': {'Id': 19, 'Nombre':...   \n",
       "19            [{'Id': 2539, 'Variable': {'Id': 19, 'Nombre':...   \n",
       "20            [{'Id': 2540, 'Variable': {'Id': 19, 'Nombre':...   \n",
       "21            [{'Id': 2541, 'Variable': {'Id': 19, 'Nombre':...   \n",
       "22            [{'Id': 2542, 'Variable': {'Id': 19, 'Nombre':...   \n",
       "23            [{'Id': 2543, 'Variable': {'Id': 19, 'Nombre':...   \n",
       "24            [{'Id': 2544, 'Variable': {'Id': 19, 'Nombre':...   \n",
       "25            [{'Id': 2545, 'Variable': {'Id': 19, 'Nombre':...   \n",
       "26            [{'Id': 2428, 'Variable': {'Id': 19, 'Nombre':...   \n",
       "27            [{'Id': 2429, 'Variable': {'Id': 19, 'Nombre':...   \n",
       "28            [{'Id': 2430, 'Variable': {'Id': 19, 'Nombre':...   \n",
       "29            [{'Id': 2431, 'Variable': {'Id': 19, 'Nombre':...   \n",
       "30            [{'Id': 2432, 'Variable': {'Id': 19, 'Nombre':...   \n",
       "31            [{'Id': 2433, 'Variable': {'Id': 19, 'Nombre':...   \n",
       "32            [{'Id': 2434, 'Variable': {'Id': 19, 'Nombre':...   \n",
       "33            [{'Id': 2435, 'Variable': {'Id': 19, 'Nombre':...   \n",
       "34            [{'Id': 2436, 'Variable': {'Id': 19, 'Nombre':...   \n",
       "35            [{'Id': 2437, 'Variable': {'Id': 19, 'Nombre':...   \n",
       "36            [{'Id': 2438, 'Variable': {'Id': 19, 'Nombre':...   \n",
       "37            [{'Id': 2439, 'Variable': {'Id': 19, 'Nombre':...   \n",
       "38            [{'Id': 2247, 'Variable': {'Id': 19, 'Nombre':...   \n",
       "39            [{'Id': 2440, 'Variable': {'Id': 19, 'Nombre':...   \n",
       "40            [{'Id': 2441, 'Variable': {'Id': 19, 'Nombre':...   \n",
       "41            [{'Id': 2442, 'Variable': {'Id': 19, 'Nombre':...   \n",
       "42            [{'Id': 2443, 'Variable': {'Id': 19, 'Nombre':...   \n",
       "43            [{'Id': 2444, 'Variable': {'Id': 19, 'Nombre':...   \n",
       "44            [{'Id': 2340, 'Variable': {'Id': 19, 'Nombre':...   \n",
       "45            [{'Id': 2341, 'Variable': {'Id': 19, 'Nombre':...   \n",
       "\n",
       "                                                 Data  \n",
       "0   [{'Fecha': '2019-01-01T00:00:00.000+01:00', 'T...  \n",
       "1   [{'Fecha': '2019-01-01T00:00:00.000+01:00', 'T...  \n",
       "2   [{'Fecha': '2019-01-01T00:00:00.000+01:00', 'T...  \n",
       "3   [{'Fecha': '2019-01-01T00:00:00.000+01:00', 'T...  \n",
       "4   [{'Fecha': '2019-01-01T00:00:00.000+01:00', 'T...  \n",
       "5   [{'Fecha': '2019-01-01T00:00:00.000+01:00', 'T...  \n",
       "6   [{'Fecha': '2019-01-01T00:00:00.000+01:00', 'T...  \n",
       "7   [{'Fecha': '2019-01-01T00:00:00.000+01:00', 'T...  \n",
       "8   [{'Fecha': '2019-01-01T00:00:00.000+01:00', 'T...  \n",
       "9   [{'Fecha': '2019-01-01T00:00:00.000+01:00', 'T...  \n",
       "10  [{'Fecha': '2019-01-01T00:00:00.000+01:00', 'T...  \n",
       "11  [{'Fecha': '2019-01-01T00:00:00.000+01:00', 'T...  \n",
       "12  [{'Fecha': '2019-01-01T00:00:00.000+01:00', 'T...  \n",
       "13  [{'Fecha': '2019-01-01T00:00:00.000+01:00', 'T...  \n",
       "14  [{'Fecha': '2019-01-01T00:00:00.000+01:00', 'T...  \n",
       "15  [{'Fecha': '2019-01-01T00:00:00.000+01:00', 'T...  \n",
       "16  [{'Fecha': '2019-01-01T00:00:00.000+01:00', 'T...  \n",
       "17  [{'Fecha': '2019-01-01T00:00:00.000+01:00', 'T...  \n",
       "18  [{'Fecha': '2019-01-01T00:00:00.000+01:00', 'T...  \n",
       "19  [{'Fecha': '2019-01-01T00:00:00.000+01:00', 'T...  \n",
       "20  [{'Fecha': '2019-01-01T00:00:00.000+01:00', 'T...  \n",
       "21  [{'Fecha': '2019-01-01T00:00:00.000+01:00', 'T...  \n",
       "22  [{'Fecha': '2019-01-01T00:00:00.000+01:00', 'T...  \n",
       "23  [{'Fecha': '2019-01-01T00:00:00.000+01:00', 'T...  \n",
       "24  [{'Fecha': '2019-01-01T00:00:00.000+01:00', 'T...  \n",
       "25  [{'Fecha': '2019-01-01T00:00:00.000+01:00', 'T...  \n",
       "26  [{'Fecha': '2019-01-01T00:00:00.000+01:00', 'T...  \n",
       "27  [{'Fecha': '2019-01-01T00:00:00.000+01:00', 'T...  \n",
       "28  [{'Fecha': '2019-01-01T00:00:00.000+01:00', 'T...  \n",
       "29  [{'Fecha': '2019-01-01T00:00:00.000+01:00', 'T...  \n",
       "30  [{'Fecha': '2019-01-01T00:00:00.000+01:00', 'T...  \n",
       "31  [{'Fecha': '2019-01-01T00:00:00.000+01:00', 'T...  \n",
       "32  [{'Fecha': '2019-01-01T00:00:00.000+01:00', 'T...  \n",
       "33  [{'Fecha': '2019-01-01T00:00:00.000+01:00', 'T...  \n",
       "34  [{'Fecha': '2019-01-01T00:00:00.000+01:00', 'T...  \n",
       "35  [{'Fecha': '2019-01-01T00:00:00.000+01:00', 'T...  \n",
       "36  [{'Fecha': '2019-01-01T00:00:00.000+01:00', 'T...  \n",
       "37  [{'Fecha': '2019-01-01T00:00:00.000+01:00', 'T...  \n",
       "38  [{'Fecha': '2019-01-01T00:00:00.000+01:00', 'T...  \n",
       "39  [{'Fecha': '2019-01-01T00:00:00.000+01:00', 'T...  \n",
       "40  [{'Fecha': '2019-01-01T00:00:00.000+01:00', 'T...  \n",
       "41  [{'Fecha': '2019-01-01T00:00:00.000+01:00', 'T...  \n",
       "42  [{'Fecha': '2019-01-01T00:00:00.000+01:00', 'T...  \n",
       "43  [{'Fecha': '2019-01-01T00:00:00.000+01:00', 'T...  \n",
       "44  [{'Fecha': '2019-01-01T00:00:00.000+01:00', 'T...  \n",
       "45  [{'Fecha': '2019-01-01T00:00:00.000+01:00', 'T...  "
      ]
     },
     "execution_count": 22,
     "metadata": {},
     "output_type": "execute_result"
    }
   ],
   "source": [
    "#pob_df = pd.read_json(\"https://servicios.ine.es/wstempus/js/es/DATOS_TABLA/2883?tip=AM&tv=18:451\")\n",
    "pob_df = pd.read_json(\"https://servicios.ine.es/wstempus/js/es/DATOS_TABLA/2883?tip=AM&tv=18:451&date=20190101\")\n",
    "pob_df"
   ]
  },
  {
   "cell_type": "markdown",
   "metadata": {
    "id": "kYg9S1Pzo59H"
   },
   "source": [
    "Como podréis observar, el conjunto de datos obtenido necesita mucho preprocesamiento para ser comprensible por un ser humano."
   ]
  },
  {
   "cell_type": "markdown",
   "metadata": {
    "id": "RfrSheXRIoZ4"
   },
   "source": [
    "## Lectura de datos en formato PDF"
   ]
  },
  {
   "cell_type": "markdown",
   "metadata": {
    "id": "pMOlN9BEMcdd"
   },
   "source": [
    "Existen varias librerías para la extracción y manipulación de los datos de archivos PDF, como por ejemplo: [PDFMiner](https://pypi.org/project/pdfminer/), [slate](https://pypi.org/project/slate/), [PyPDF2](https://pypi.org/project/PyPDF2/) y [PyPDF4](https://pypi.org/project/PyPDF4/). Nosotros utilizaremos PyPDF4, aunque las características proporcionadas por estas librerías son similares."
   ]
  },
  {
   "cell_type": "markdown",
   "metadata": {
    "id": "Q1SF7WdXVZ_2"
   },
   "source": [
    "A diferencia de los ejemplos vistos anteriormente, esta librería no permite la lectura directa de PDFs de la web, por lo que tendremos que utilizar otras librerías para recuperar su contenido. En nuestro caso haremos uso de la librería [`urllib3`](https://urllib3.readthedocs.io/en/latest/), un popular un cliente HTTP que nos resolverá las peticiones a los recursos que deseemos descargar."
   ]
  },
  {
   "cell_type": "markdown",
   "metadata": {
    "id": "wit7oHTaWKvV"
   },
   "source": [
    "El siguiente código emite una petición GET de lectura a una URL facilitada por el [Ministerio de Sanidad, Consumo y Bienestar Social](https://www.mscbs.gob.es/profesionales/saludPublica/ccayes/alertasActual/nCov/situacionActual.htm) mediante la que descargaremos un PDF que informará sobre la situación del COVID-19 a fecha de 24/12/2020:"
   ]
  },
  {
   "cell_type": "code",
   "execution_count": 23,
   "metadata": {
    "id": "3lbtein-fNCQ"
   },
   "outputs": [],
   "source": [
    "PDF_URL = 'https://www.mscbs.gob.es/profesionales/saludPublica/ccayes/alertasActual/nCov/documentos/Actualizacion_278_COVID-19.pdf'"
   ]
  },
  {
   "cell_type": "code",
   "execution_count": 24,
   "metadata": {
    "id": "_Dsayk4uWD_T"
   },
   "outputs": [],
   "source": [
    "http = urllib3.PoolManager()\n",
    "req = http.request('GET', PDF_URL)"
   ]
  },
  {
   "cell_type": "markdown",
   "metadata": {
    "id": "5ZTYnHVYW1-z"
   },
   "source": [
    "Si los datos se han recuperado correctamente, observaremos un valor de `200` en el campo `status` del resultado de la petición que acabamos de realizar:"
   ]
  },
  {
   "cell_type": "code",
   "execution_count": 25,
   "metadata": {
    "id": "3vtMgG2TW_Ic"
   },
   "outputs": [
    {
     "data": {
      "text/plain": [
       "200"
      ]
     },
     "execution_count": 25,
     "metadata": {},
     "output_type": "execute_result"
    }
   ],
   "source": [
    "req.status"
   ]
  },
  {
   "cell_type": "markdown",
   "metadata": {
    "id": "OomCQKalXEu6"
   },
   "source": [
    "La librería `PyPDF4` necesita un **stream** de datos para obtener un PDF. Si trabajáramos con un fichero local, haríamos uso de la función [open](https://docs.python.org/3/tutorial/inputoutput.html#reading-and-writing-files) de Python para obtener este stream, sin embargo, ya que tenemos el contenido cargado en **memoria**, haremos uso de la librería `io` para su obtención:"
   ]
  },
  {
   "cell_type": "code",
   "execution_count": 26,
   "metadata": {
    "id": "hp58VtdmQSvZ"
   },
   "outputs": [],
   "source": [
    "pdf = PyPDF4.pdf.PdfFileReader(io.BytesIO(req.data))"
   ]
  },
  {
   "cell_type": "markdown",
   "metadata": {
    "id": "gsW3oYPgXrPa"
   },
   "source": [
    "Una vez cargado el fichero pdf, tendremos acceso a una serie de metadatos sobre el archivo, como por ejemplo su autor o la herramienta con la que fue creado:"
   ]
  },
  {
   "cell_type": "code",
   "execution_count": 27,
   "metadata": {
    "id": "MZwN-ZFOYJHp"
   },
   "outputs": [
    {
     "name": "stdout",
     "output_type": "stream",
     "text": [
      "Autor: Jesús Pérez Formigó\n",
      "Creado con: Microsoft® Word 2010\n"
     ]
    }
   ],
   "source": [
    "info = pdf.documentInfo\n",
    "print(f\"Autor: {info.author}\")\n",
    "print(f\"Creado con: {info.creator}\")"
   ]
  },
  {
   "cell_type": "markdown",
   "metadata": {
    "id": "kJkpoclPZAT8"
   },
   "source": [
    "También tenemos acceso a las diferentes páginas que componen el PDF:"
   ]
  },
  {
   "cell_type": "code",
   "execution_count": 28,
   "metadata": {
    "id": "6xejLSEeRUn6"
   },
   "outputs": [],
   "source": [
    "page = pdf.getPage(0)"
   ]
  },
  {
   "cell_type": "markdown",
   "metadata": {
    "id": "n8Q7vM3cZFpU"
   },
   "source": [
    "Esta librería nos proporciona el método `extractText` mediante el que obtener el texto de una determinada página:"
   ]
  },
  {
   "cell_type": "code",
   "execution_count": 29,
   "metadata": {
    "id": "WRImSw-nSbJ-"
   },
   "outputs": [],
   "source": [
    "text = page.extractText()"
   ]
  },
  {
   "cell_type": "markdown",
   "metadata": {
    "id": "qdzYvu0vaZPA"
   },
   "source": [
    "Mediante [expresiones regulares](https://docs.python.org/3/library/re.html) podremos, por ejemplo, procesar este texto para obtener datos de interés del documento procesado:"
   ]
  },
  {
   "cell_type": "code",
   "execution_count": 30,
   "metadata": {
    "id": "Ua6Bbz07apHf"
   },
   "outputs": [
    {
     "data": {
      "text/plain": [
       "'1.854.951'"
      ]
     },
     "execution_count": 30,
     "metadata": {},
     "output_type": "execute_result"
    }
   ],
   "source": [
    "# Esta expresión extrae el total de casos confirmados de la página\n",
    "pattern = '\\s+([\\d.]+)\\s+casos'\n",
    "match = re.search(pattern, text)\n",
    "casos_confirmados = match.group(1)\n",
    "casos_confirmados"
   ]
  },
  {
   "cell_type": "markdown",
   "metadata": {
    "id": "5kmkDDo3e8eM"
   },
   "source": [
    "A veces, los PDFs datos en formato tabular, cuya extración puede resultar tediosa si hacemos uso de las librerías anteriores. Para estos casos, es conveniente utilizar la librería `tabula-py`:"
   ]
  },
  {
   "cell_type": "code",
   "execution_count": 31,
   "metadata": {
    "id": "OpLCW731cdae"
   },
   "outputs": [],
   "source": [
    "tabs = tabula.read_pdf(PDF_URL, \n",
    "    # Este argumento indica las páginas a procesar del PDF, le indicamos que todas\n",
    "    pages='all' \n",
    ")"
   ]
  },
  {
   "cell_type": "markdown",
   "metadata": {
    "id": "EX8Tv2sIfbMe"
   },
   "source": [
    "El método `read_pdf` tratará de procesar el documento PDF y buscará las tablas en él definidas. Finalmente nos recuperará una `lista` de `DataFrames` de `pandas` con el contenido extraído. Observemos la primera tabla obtenida del PDF, con la información de los casos diagnosticados totales de COVID-19 por comunidad autónoma:"
   ]
  },
  {
   "cell_type": "code",
   "execution_count": 32,
   "metadata": {
    "id": "EBKItzU7csO1",
    "scrolled": true
   },
   "outputs": [
    {
     "data": {
      "text/html": [
       "<div>\n",
       "<style scoped>\n",
       "    .dataframe tbody tr th:only-of-type {\n",
       "        vertical-align: middle;\n",
       "    }\n",
       "\n",
       "    .dataframe tbody tr th {\n",
       "        vertical-align: top;\n",
       "    }\n",
       "\n",
       "    .dataframe thead th {\n",
       "        text-align: right;\n",
       "    }\n",
       "</style>\n",
       "<table border=\"1\" class=\"dataframe\">\n",
       "  <thead>\n",
       "    <tr style=\"text-align: right;\">\n",
       "      <th></th>\n",
       "      <th>Unnamed: 0</th>\n",
       "      <th>Unnamed: 1</th>\n",
       "      <th>Casos</th>\n",
       "      <th>Casos diagnosticados en los</th>\n",
       "      <th>Casos diagnosticados en los.1</th>\n",
       "      <th>Casos diagnosticados con fecha de</th>\n",
       "      <th>Casos diagnosticados con fecha de.1</th>\n",
       "    </tr>\n",
       "  </thead>\n",
       "  <tbody>\n",
       "    <tr>\n",
       "      <th>0</th>\n",
       "      <td>NaN</td>\n",
       "      <td>Casos</td>\n",
       "      <td>NaN</td>\n",
       "      <td>NaN</td>\n",
       "      <td>NaN</td>\n",
       "      <td>NaN</td>\n",
       "      <td>NaN</td>\n",
       "    </tr>\n",
       "    <tr>\n",
       "      <th>1</th>\n",
       "      <td>CCAA</td>\n",
       "      <td>NaN</td>\n",
       "      <td>diagnosticados</td>\n",
       "      <td>últimos 14 días</td>\n",
       "      <td>últimos 7 días</td>\n",
       "      <td>inicio de síntomas en los últimos 14d.</td>\n",
       "      <td>inicio de síntomas en los últimos 7d.</td>\n",
       "    </tr>\n",
       "    <tr>\n",
       "      <th>2</th>\n",
       "      <td>NaN</td>\n",
       "      <td>totales</td>\n",
       "      <td>NaN</td>\n",
       "      <td>NaN</td>\n",
       "      <td>NaN</td>\n",
       "      <td>NaN</td>\n",
       "      <td>NaN</td>\n",
       "    </tr>\n",
       "    <tr>\n",
       "      <th>3</th>\n",
       "      <td>NaN</td>\n",
       "      <td>NaN</td>\n",
       "      <td>el día previo</td>\n",
       "      <td>No IA*</td>\n",
       "      <td>No IA*</td>\n",
       "      <td>No IA*</td>\n",
       "      <td>No IA*</td>\n",
       "    </tr>\n",
       "    <tr>\n",
       "      <th>4</th>\n",
       "      <td>Andalucía</td>\n",
       "      <td>257.755</td>\n",
       "      <td>296</td>\n",
       "      <td>12.615 149,92</td>\n",
       "      <td>5.351 63,59</td>\n",
       "      <td>4.220 50,15</td>\n",
       "      <td>941 11,18</td>\n",
       "    </tr>\n",
       "    <tr>\n",
       "      <th>5</th>\n",
       "      <td>Aragón</td>\n",
       "      <td>78.124</td>\n",
       "      <td>140</td>\n",
       "      <td>2.830 214,51</td>\n",
       "      <td>1.200 90,96</td>\n",
       "      <td>1.435 108,77</td>\n",
       "      <td>527 39,95</td>\n",
       "    </tr>\n",
       "    <tr>\n",
       "      <th>6</th>\n",
       "      <td>Asturias</td>\n",
       "      <td>26.565</td>\n",
       "      <td>95</td>\n",
       "      <td>1.472 143,92</td>\n",
       "      <td>588 57,49</td>\n",
       "      <td>83 8,11</td>\n",
       "      <td>31 3,03</td>\n",
       "    </tr>\n",
       "    <tr>\n",
       "      <th>7</th>\n",
       "      <td>Baleares</td>\n",
       "      <td>32.320</td>\n",
       "      <td>117</td>\n",
       "      <td>5.453 474,40</td>\n",
       "      <td>2.746 238,89</td>\n",
       "      <td>3.579 311,36</td>\n",
       "      <td>1.234 107,35</td>\n",
       "    </tr>\n",
       "    <tr>\n",
       "      <th>8</th>\n",
       "      <td>Canarias**</td>\n",
       "      <td>25.532</td>\n",
       "      <td>1</td>\n",
       "      <td>2.809 130,45</td>\n",
       "      <td>1.247 57,91</td>\n",
       "      <td>1.204 55,91</td>\n",
       "      <td>302 14,02</td>\n",
       "    </tr>\n",
       "    <tr>\n",
       "      <th>9</th>\n",
       "      <td>Cantabria</td>\n",
       "      <td>17.398</td>\n",
       "      <td>74</td>\n",
       "      <td>973 167,45</td>\n",
       "      <td>425 73,14</td>\n",
       "      <td>249 42,85</td>\n",
       "      <td>103 17,73</td>\n",
       "    </tr>\n",
       "    <tr>\n",
       "      <th>10</th>\n",
       "      <td>Castilla La Mancha</td>\n",
       "      <td>97.015</td>\n",
       "      <td>223</td>\n",
       "      <td>6.516 320,53</td>\n",
       "      <td>3.043 149,69</td>\n",
       "      <td>3.135 154,22</td>\n",
       "      <td>993 48,85</td>\n",
       "    </tr>\n",
       "    <tr>\n",
       "      <th>11</th>\n",
       "      <td>Castilla y León</td>\n",
       "      <td>130.570</td>\n",
       "      <td>276</td>\n",
       "      <td>4.045 168,57</td>\n",
       "      <td>1.695 70,64</td>\n",
       "      <td>2.047 85,31</td>\n",
       "      <td>727 30,30</td>\n",
       "    </tr>\n",
       "    <tr>\n",
       "      <th>12</th>\n",
       "      <td>Cataluña</td>\n",
       "      <td>340.993</td>\n",
       "      <td>1.595</td>\n",
       "      <td>23.963 312,21</td>\n",
       "      <td>12.625 164,49</td>\n",
       "      <td>9.594 125,00</td>\n",
       "      <td>3.664 47,74</td>\n",
       "    </tr>\n",
       "    <tr>\n",
       "      <th>13</th>\n",
       "      <td>Ceuta</td>\n",
       "      <td>2.991</td>\n",
       "      <td>5</td>\n",
       "      <td>95 112,06</td>\n",
       "      <td>31 36,57</td>\n",
       "      <td>43 50,72</td>\n",
       "      <td>11 12,98</td>\n",
       "    </tr>\n",
       "    <tr>\n",
       "      <th>14</th>\n",
       "      <td>C. Valenciana</td>\n",
       "      <td>136.908</td>\n",
       "      <td>291</td>\n",
       "      <td>18.826 376,24</td>\n",
       "      <td>8.379 167,45</td>\n",
       "      <td>8.368 167,23</td>\n",
       "      <td>2.159 43,15</td>\n",
       "    </tr>\n",
       "    <tr>\n",
       "      <th>15</th>\n",
       "      <td>Extremadura</td>\n",
       "      <td>34.071</td>\n",
       "      <td>490</td>\n",
       "      <td>3.969 371,73</td>\n",
       "      <td>2.333 218,51</td>\n",
       "      <td>1.569 146,95</td>\n",
       "      <td>474 44,39</td>\n",
       "    </tr>\n",
       "    <tr>\n",
       "      <th>16</th>\n",
       "      <td>Galicia</td>\n",
       "      <td>58.470</td>\n",
       "      <td>486</td>\n",
       "      <td>5.110 189,29</td>\n",
       "      <td>2.464 91,28</td>\n",
       "      <td>1.769 65,53</td>\n",
       "      <td>565 20,93</td>\n",
       "    </tr>\n",
       "    <tr>\n",
       "      <th>17</th>\n",
       "      <td>Madrid</td>\n",
       "      <td>385.625</td>\n",
       "      <td>2.070</td>\n",
       "      <td>25.102 376,71</td>\n",
       "      <td>12.550 188,34</td>\n",
       "      <td>9.679 145,26</td>\n",
       "      <td>2.945 44,20</td>\n",
       "    </tr>\n",
       "    <tr>\n",
       "      <th>18</th>\n",
       "      <td>Melilla**</td>\n",
       "      <td>4.411</td>\n",
       "      <td>-</td>\n",
       "      <td>193 223,15</td>\n",
       "      <td>67 77,47</td>\n",
       "      <td>80 92,50</td>\n",
       "      <td>21 24,28</td>\n",
       "    </tr>\n",
       "    <tr>\n",
       "      <th>19</th>\n",
       "      <td>Murcia**</td>\n",
       "      <td>58.232</td>\n",
       "      <td>-</td>\n",
       "      <td>2.183 146,13</td>\n",
       "      <td>859 57,50</td>\n",
       "      <td>1.113 74,50</td>\n",
       "      <td>305 20,42</td>\n",
       "    </tr>\n",
       "    <tr>\n",
       "      <th>20</th>\n",
       "      <td>Navarra</td>\n",
       "      <td>41.776</td>\n",
       "      <td>124</td>\n",
       "      <td>1.280 195,65</td>\n",
       "      <td>568 86,82</td>\n",
       "      <td>648 99,05</td>\n",
       "      <td>261 39,90</td>\n",
       "    </tr>\n",
       "    <tr>\n",
       "      <th>21</th>\n",
       "      <td>País Vasco</td>\n",
       "      <td>108.287</td>\n",
       "      <td>367</td>\n",
       "      <td>5.373 243,37</td>\n",
       "      <td>2.349 106,40</td>\n",
       "      <td>71 3,22</td>\n",
       "      <td>8 0,36</td>\n",
       "    </tr>\n",
       "    <tr>\n",
       "      <th>22</th>\n",
       "      <td>La Rioja</td>\n",
       "      <td>17.908</td>\n",
       "      <td>83</td>\n",
       "      <td>775 244,64</td>\n",
       "      <td>422 133,21</td>\n",
       "      <td>374 118,06</td>\n",
       "      <td>143 45,14</td>\n",
       "    </tr>\n",
       "    <tr>\n",
       "      <th>23</th>\n",
       "      <td>ESPAÑA</td>\n",
       "      <td>1.854.951</td>\n",
       "      <td>6.733</td>\n",
       "      <td>123.582 262,79</td>\n",
       "      <td>58.942 125,34</td>\n",
       "      <td>49.260 104,75</td>\n",
       "      <td>15.414 32,78</td>\n",
       "    </tr>\n",
       "  </tbody>\n",
       "</table>\n",
       "</div>"
      ],
      "text/plain": [
       "            Unnamed: 0 Unnamed: 1           Casos Casos diagnosticados en los  \\\n",
       "0                  NaN      Casos             NaN                         NaN   \n",
       "1                 CCAA        NaN  diagnosticados             últimos 14 días   \n",
       "2                  NaN    totales             NaN                         NaN   \n",
       "3                  NaN        NaN   el día previo                      No IA*   \n",
       "4            Andalucía    257.755             296               12.615 149,92   \n",
       "5               Aragón     78.124             140                2.830 214,51   \n",
       "6             Asturias     26.565              95                1.472 143,92   \n",
       "7             Baleares     32.320             117                5.453 474,40   \n",
       "8           Canarias**     25.532               1                2.809 130,45   \n",
       "9            Cantabria     17.398              74                  973 167,45   \n",
       "10  Castilla La Mancha     97.015             223                6.516 320,53   \n",
       "11     Castilla y León    130.570             276                4.045 168,57   \n",
       "12            Cataluña    340.993           1.595               23.963 312,21   \n",
       "13               Ceuta      2.991               5                   95 112,06   \n",
       "14       C. Valenciana    136.908             291               18.826 376,24   \n",
       "15         Extremadura     34.071             490                3.969 371,73   \n",
       "16             Galicia     58.470             486                5.110 189,29   \n",
       "17              Madrid    385.625           2.070               25.102 376,71   \n",
       "18           Melilla**      4.411               -                  193 223,15   \n",
       "19            Murcia**     58.232               -                2.183 146,13   \n",
       "20             Navarra     41.776             124                1.280 195,65   \n",
       "21          País Vasco    108.287             367                5.373 243,37   \n",
       "22            La Rioja     17.908              83                  775 244,64   \n",
       "23              ESPAÑA  1.854.951           6.733              123.582 262,79   \n",
       "\n",
       "   Casos diagnosticados en los.1       Casos diagnosticados con fecha de  \\\n",
       "0                            NaN                                     NaN   \n",
       "1                 últimos 7 días  inicio de síntomas en los últimos 14d.   \n",
       "2                            NaN                                     NaN   \n",
       "3                         No IA*                                  No IA*   \n",
       "4                    5.351 63,59                             4.220 50,15   \n",
       "5                    1.200 90,96                            1.435 108,77   \n",
       "6                      588 57,49                                 83 8,11   \n",
       "7                   2.746 238,89                            3.579 311,36   \n",
       "8                    1.247 57,91                             1.204 55,91   \n",
       "9                      425 73,14                               249 42,85   \n",
       "10                  3.043 149,69                            3.135 154,22   \n",
       "11                   1.695 70,64                             2.047 85,31   \n",
       "12                 12.625 164,49                            9.594 125,00   \n",
       "13                      31 36,57                                43 50,72   \n",
       "14                  8.379 167,45                            8.368 167,23   \n",
       "15                  2.333 218,51                            1.569 146,95   \n",
       "16                   2.464 91,28                             1.769 65,53   \n",
       "17                 12.550 188,34                            9.679 145,26   \n",
       "18                      67 77,47                                80 92,50   \n",
       "19                     859 57,50                             1.113 74,50   \n",
       "20                     568 86,82                               648 99,05   \n",
       "21                  2.349 106,40                                 71 3,22   \n",
       "22                    422 133,21                              374 118,06   \n",
       "23                 58.942 125,34                           49.260 104,75   \n",
       "\n",
       "      Casos diagnosticados con fecha de.1  \n",
       "0                                     NaN  \n",
       "1   inicio de síntomas en los últimos 7d.  \n",
       "2                                     NaN  \n",
       "3                                  No IA*  \n",
       "4                               941 11,18  \n",
       "5                               527 39,95  \n",
       "6                                 31 3,03  \n",
       "7                            1.234 107,35  \n",
       "8                               302 14,02  \n",
       "9                               103 17,73  \n",
       "10                              993 48,85  \n",
       "11                              727 30,30  \n",
       "12                            3.664 47,74  \n",
       "13                               11 12,98  \n",
       "14                            2.159 43,15  \n",
       "15                              474 44,39  \n",
       "16                              565 20,93  \n",
       "17                            2.945 44,20  \n",
       "18                               21 24,28  \n",
       "19                              305 20,42  \n",
       "20                              261 39,90  \n",
       "21                                 8 0,36  \n",
       "22                              143 45,14  \n",
       "23                           15.414 32,78  "
      ]
     },
     "execution_count": 32,
     "metadata": {},
     "output_type": "execute_result"
    }
   ],
   "source": [
    "tabs[0]"
   ]
  },
  {
   "cell_type": "markdown",
   "metadata": {
    "id": "kQSwNsg4gTkY"
   },
   "source": [
    "Aunque la tabla mostrada no tiene un formato perfecto, la librería nos ha simplificado enormemente la extracción de datos del fichero PDF."
   ]
  },
  {
   "cell_type": "markdown",
   "metadata": {
    "id": "1dV440Lfi01g"
   },
   "source": [
    "## Lectura de datos desde hojas de cálculo"
   ]
  },
  {
   "cell_type": "markdown",
   "metadata": {
    "id": "VsJADEC1_fLl"
   },
   "source": [
    "Una hoja de cálculo es un documento que almacena tanto datos numéricos como alfanuméricos en formato tabular. Se compone de celdas dispuestas como una matriz de filas y columnas, y tiene capacidad para incluir cálculos complejos mediante fórmulas y gráficas."
   ]
  },
  {
   "cell_type": "markdown",
   "metadata": {
    "id": "oY1luqw6_z_g"
   },
   "source": [
    "La librería `pandas` también nos ofrece un método, `read_excel` mediante el que obtener un `DataFrame` a partir de una hoja de cálculo en formato `xls`, `xlsx`, `xlsm`, `xlsb`, `odf`, `ods` y `odt`. A continuación vamos a procesar una hoja de cálculo en formato Excel (xlsx) utilizada como ejemplo de la [web de Microsoft para Power BI](https://docs.microsoft.com/es-es/power-bi/create-reports/sample-financial-download):"
   ]
  },
  {
   "cell_type": "code",
   "execution_count": 33,
   "metadata": {
    "id": "vxLL8s0WDadY"
   },
   "outputs": [
    {
     "data": {
      "text/html": [
       "<div>\n",
       "<style scoped>\n",
       "    .dataframe tbody tr th:only-of-type {\n",
       "        vertical-align: middle;\n",
       "    }\n",
       "\n",
       "    .dataframe tbody tr th {\n",
       "        vertical-align: top;\n",
       "    }\n",
       "\n",
       "    .dataframe thead th {\n",
       "        text-align: right;\n",
       "    }\n",
       "</style>\n",
       "<table border=\"1\" class=\"dataframe\">\n",
       "  <thead>\n",
       "    <tr style=\"text-align: right;\">\n",
       "      <th></th>\n",
       "      <th>Segment</th>\n",
       "      <th>Country</th>\n",
       "      <th>Product</th>\n",
       "      <th>Discount Band</th>\n",
       "      <th>Units Sold</th>\n",
       "      <th>Manufacturing Price</th>\n",
       "      <th>Sale Price</th>\n",
       "      <th>Gross Sales</th>\n",
       "      <th>Discounts</th>\n",
       "      <th>Sales</th>\n",
       "      <th>COGS</th>\n",
       "      <th>Profit</th>\n",
       "      <th>Date</th>\n",
       "      <th>Month Number</th>\n",
       "      <th>Month Name</th>\n",
       "      <th>Year</th>\n",
       "    </tr>\n",
       "  </thead>\n",
       "  <tbody>\n",
       "    <tr>\n",
       "      <th>0</th>\n",
       "      <td>Government</td>\n",
       "      <td>Canada</td>\n",
       "      <td>Carretera</td>\n",
       "      <td>None</td>\n",
       "      <td>1618.5</td>\n",
       "      <td>3</td>\n",
       "      <td>20</td>\n",
       "      <td>32370.0</td>\n",
       "      <td>0.00</td>\n",
       "      <td>32370.00</td>\n",
       "      <td>16185.0</td>\n",
       "      <td>16185.00</td>\n",
       "      <td>2014-01-01</td>\n",
       "      <td>1</td>\n",
       "      <td>January</td>\n",
       "      <td>2014</td>\n",
       "    </tr>\n",
       "    <tr>\n",
       "      <th>1</th>\n",
       "      <td>Government</td>\n",
       "      <td>Germany</td>\n",
       "      <td>Carretera</td>\n",
       "      <td>None</td>\n",
       "      <td>1321.0</td>\n",
       "      <td>3</td>\n",
       "      <td>20</td>\n",
       "      <td>26420.0</td>\n",
       "      <td>0.00</td>\n",
       "      <td>26420.00</td>\n",
       "      <td>13210.0</td>\n",
       "      <td>13210.00</td>\n",
       "      <td>2014-01-01</td>\n",
       "      <td>1</td>\n",
       "      <td>January</td>\n",
       "      <td>2014</td>\n",
       "    </tr>\n",
       "    <tr>\n",
       "      <th>2</th>\n",
       "      <td>Midmarket</td>\n",
       "      <td>France</td>\n",
       "      <td>Carretera</td>\n",
       "      <td>None</td>\n",
       "      <td>2178.0</td>\n",
       "      <td>3</td>\n",
       "      <td>15</td>\n",
       "      <td>32670.0</td>\n",
       "      <td>0.00</td>\n",
       "      <td>32670.00</td>\n",
       "      <td>21780.0</td>\n",
       "      <td>10890.00</td>\n",
       "      <td>2014-06-01</td>\n",
       "      <td>6</td>\n",
       "      <td>June</td>\n",
       "      <td>2014</td>\n",
       "    </tr>\n",
       "    <tr>\n",
       "      <th>3</th>\n",
       "      <td>Midmarket</td>\n",
       "      <td>Germany</td>\n",
       "      <td>Carretera</td>\n",
       "      <td>None</td>\n",
       "      <td>888.0</td>\n",
       "      <td>3</td>\n",
       "      <td>15</td>\n",
       "      <td>13320.0</td>\n",
       "      <td>0.00</td>\n",
       "      <td>13320.00</td>\n",
       "      <td>8880.0</td>\n",
       "      <td>4440.00</td>\n",
       "      <td>2014-06-01</td>\n",
       "      <td>6</td>\n",
       "      <td>June</td>\n",
       "      <td>2014</td>\n",
       "    </tr>\n",
       "    <tr>\n",
       "      <th>4</th>\n",
       "      <td>Midmarket</td>\n",
       "      <td>Mexico</td>\n",
       "      <td>Carretera</td>\n",
       "      <td>None</td>\n",
       "      <td>2470.0</td>\n",
       "      <td>3</td>\n",
       "      <td>15</td>\n",
       "      <td>37050.0</td>\n",
       "      <td>0.00</td>\n",
       "      <td>37050.00</td>\n",
       "      <td>24700.0</td>\n",
       "      <td>12350.00</td>\n",
       "      <td>2014-06-01</td>\n",
       "      <td>6</td>\n",
       "      <td>June</td>\n",
       "      <td>2014</td>\n",
       "    </tr>\n",
       "    <tr>\n",
       "      <th>...</th>\n",
       "      <td>...</td>\n",
       "      <td>...</td>\n",
       "      <td>...</td>\n",
       "      <td>...</td>\n",
       "      <td>...</td>\n",
       "      <td>...</td>\n",
       "      <td>...</td>\n",
       "      <td>...</td>\n",
       "      <td>...</td>\n",
       "      <td>...</td>\n",
       "      <td>...</td>\n",
       "      <td>...</td>\n",
       "      <td>...</td>\n",
       "      <td>...</td>\n",
       "      <td>...</td>\n",
       "      <td>...</td>\n",
       "    </tr>\n",
       "    <tr>\n",
       "      <th>695</th>\n",
       "      <td>Small Business</td>\n",
       "      <td>France</td>\n",
       "      <td>Amarilla</td>\n",
       "      <td>High</td>\n",
       "      <td>2475.0</td>\n",
       "      <td>260</td>\n",
       "      <td>300</td>\n",
       "      <td>742500.0</td>\n",
       "      <td>111375.00</td>\n",
       "      <td>631125.00</td>\n",
       "      <td>618750.0</td>\n",
       "      <td>12375.00</td>\n",
       "      <td>2014-03-01</td>\n",
       "      <td>3</td>\n",
       "      <td>March</td>\n",
       "      <td>2014</td>\n",
       "    </tr>\n",
       "    <tr>\n",
       "      <th>696</th>\n",
       "      <td>Small Business</td>\n",
       "      <td>Mexico</td>\n",
       "      <td>Amarilla</td>\n",
       "      <td>High</td>\n",
       "      <td>546.0</td>\n",
       "      <td>260</td>\n",
       "      <td>300</td>\n",
       "      <td>163800.0</td>\n",
       "      <td>24570.00</td>\n",
       "      <td>139230.00</td>\n",
       "      <td>136500.0</td>\n",
       "      <td>2730.00</td>\n",
       "      <td>2014-10-01</td>\n",
       "      <td>10</td>\n",
       "      <td>October</td>\n",
       "      <td>2014</td>\n",
       "    </tr>\n",
       "    <tr>\n",
       "      <th>697</th>\n",
       "      <td>Government</td>\n",
       "      <td>Mexico</td>\n",
       "      <td>Montana</td>\n",
       "      <td>High</td>\n",
       "      <td>1368.0</td>\n",
       "      <td>5</td>\n",
       "      <td>7</td>\n",
       "      <td>9576.0</td>\n",
       "      <td>1436.40</td>\n",
       "      <td>8139.60</td>\n",
       "      <td>6840.0</td>\n",
       "      <td>1299.60</td>\n",
       "      <td>2014-02-01</td>\n",
       "      <td>2</td>\n",
       "      <td>February</td>\n",
       "      <td>2014</td>\n",
       "    </tr>\n",
       "    <tr>\n",
       "      <th>698</th>\n",
       "      <td>Government</td>\n",
       "      <td>Canada</td>\n",
       "      <td>Paseo</td>\n",
       "      <td>High</td>\n",
       "      <td>723.0</td>\n",
       "      <td>10</td>\n",
       "      <td>7</td>\n",
       "      <td>5061.0</td>\n",
       "      <td>759.15</td>\n",
       "      <td>4301.85</td>\n",
       "      <td>3615.0</td>\n",
       "      <td>686.85</td>\n",
       "      <td>2014-04-01</td>\n",
       "      <td>4</td>\n",
       "      <td>April</td>\n",
       "      <td>2014</td>\n",
       "    </tr>\n",
       "    <tr>\n",
       "      <th>699</th>\n",
       "      <td>Channel Partners</td>\n",
       "      <td>United States of America</td>\n",
       "      <td>VTT</td>\n",
       "      <td>High</td>\n",
       "      <td>1806.0</td>\n",
       "      <td>250</td>\n",
       "      <td>12</td>\n",
       "      <td>21672.0</td>\n",
       "      <td>3250.80</td>\n",
       "      <td>18421.20</td>\n",
       "      <td>5418.0</td>\n",
       "      <td>13003.20</td>\n",
       "      <td>2014-05-01</td>\n",
       "      <td>5</td>\n",
       "      <td>May</td>\n",
       "      <td>2014</td>\n",
       "    </tr>\n",
       "  </tbody>\n",
       "</table>\n",
       "<p>700 rows × 16 columns</p>\n",
       "</div>"
      ],
      "text/plain": [
       "              Segment                   Country    Product Discount Band  \\\n",
       "0          Government                    Canada  Carretera          None   \n",
       "1          Government                   Germany  Carretera          None   \n",
       "2           Midmarket                    France  Carretera          None   \n",
       "3           Midmarket                   Germany  Carretera          None   \n",
       "4           Midmarket                    Mexico  Carretera          None   \n",
       "..                ...                       ...        ...           ...   \n",
       "695    Small Business                    France   Amarilla          High   \n",
       "696    Small Business                    Mexico   Amarilla          High   \n",
       "697        Government                    Mexico    Montana          High   \n",
       "698        Government                    Canada      Paseo          High   \n",
       "699  Channel Partners  United States of America        VTT          High   \n",
       "\n",
       "     Units Sold  Manufacturing Price  Sale Price  Gross Sales  Discounts  \\\n",
       "0        1618.5                    3          20      32370.0       0.00   \n",
       "1        1321.0                    3          20      26420.0       0.00   \n",
       "2        2178.0                    3          15      32670.0       0.00   \n",
       "3         888.0                    3          15      13320.0       0.00   \n",
       "4        2470.0                    3          15      37050.0       0.00   \n",
       "..          ...                  ...         ...          ...        ...   \n",
       "695      2475.0                  260         300     742500.0  111375.00   \n",
       "696       546.0                  260         300     163800.0   24570.00   \n",
       "697      1368.0                    5           7       9576.0    1436.40   \n",
       "698       723.0                   10           7       5061.0     759.15   \n",
       "699      1806.0                  250          12      21672.0    3250.80   \n",
       "\n",
       "         Sales      COGS    Profit       Date  Month Number Month Name  Year  \n",
       "0     32370.00   16185.0  16185.00 2014-01-01             1    January  2014  \n",
       "1     26420.00   13210.0  13210.00 2014-01-01             1    January  2014  \n",
       "2     32670.00   21780.0  10890.00 2014-06-01             6       June  2014  \n",
       "3     13320.00    8880.0   4440.00 2014-06-01             6       June  2014  \n",
       "4     37050.00   24700.0  12350.00 2014-06-01             6       June  2014  \n",
       "..         ...       ...       ...        ...           ...        ...   ...  \n",
       "695  631125.00  618750.0  12375.00 2014-03-01             3      March  2014  \n",
       "696  139230.00  136500.0   2730.00 2014-10-01            10    October  2014  \n",
       "697    8139.60    6840.0   1299.60 2014-02-01             2   February  2014  \n",
       "698    4301.85    3615.0    686.85 2014-04-01             4      April  2014  \n",
       "699   18421.20    5418.0  13003.20 2014-05-01             5        May  2014  \n",
       "\n",
       "[700 rows x 16 columns]"
      ]
     },
     "execution_count": 33,
     "metadata": {},
     "output_type": "execute_result"
    }
   ],
   "source": [
    "pd.read_excel(\"https://go.microsoft.com/fwlink/?LinkID=521962\",\n",
    "              sheet_name=0,\n",
    "              header=0,\n",
    "              thousands=None)"
   ]
  },
  {
   "cell_type": "markdown",
   "metadata": {
    "id": "ZY2XfdncEVJn"
   },
   "source": [
    "Aunque son múltiples los parámetros de este método documentados en la [web de `pandas`](https://pandas.pydata.org/pandas-docs/stable/reference/api/pandas.read_excel.html), los más relevantes son los siguientes:\n",
    "\n",
    "* `sheet_name`: puede tomar como valor una cadena, un entero, una lista de cadenas y enteros o `None`. Si su valor es una cadena, cargará la hoja con el nombre indicado, si es un entero cargará la hoja correspondiente a la posición indicada, si es una lista cargará las hojas especificadas en el array y, finalmente, si su valor es `None`, cargará todas las hojas del documento.\n",
    "* `header`: fila que contiene los nombres de columna de los datos tabulados.\n",
    "* `thousands`: separador de decimales para aquellas celdas de tipo texto en la hoja de cálculo original que desean ser cargadas como datos de tipo numérico."
   ]
  },
  {
   "cell_type": "markdown",
   "metadata": {
    "id": "LgBlvmGXILzm"
   },
   "source": [
    "## Uso de APIs REST para la obtención de datos:"
   ]
  },
  {
   "cell_type": "markdown",
   "metadata": {
    "id": "qdfsUPeLIVpd"
   },
   "source": [
    "En ocasiones no se nos proporciona directamente el fichero con los datos a analizar, sino que en su lugar se nos facilita una URL a través de la cual un servicio escucha peticiones de los usuarios y proporciona los datos solicitados. Estos servicios suelen proporcionarnos una API REST con la que podremos interactuar mediante los distintos tipos de mensajes HTTP (GET, POST, PUT, DELETE, PATCH, etc).\n",
    "\n",
    "En estos casos, tendremos que utilizar una librería que implemente el protocolo HTTP. En Python tenemos varias opciones ([`urllib`](https://docs.python.org/3/library/urllib.html), [`httplib2`](https://pypi.org/project/httplib2/),[`urllib3`](https://urllib3.readthedocs.io/en/latest/) ,[`requests`](https://requests.readthedocs.io/en/master/), [`grequests`](https://pypi.org/project/grequests/), [`aiohttp`](https://docs.aiohttp.org/en/stable/), etc). Nosotros haremos uso de `urllib3`, aunque la librería `requests` es también una gran opción.\n",
    "\n"
   ]
  },
  {
   "cell_type": "markdown",
   "metadata": {
    "id": "wxuL07fubmV4"
   },
   "source": [
    "Por ejemplo, vamos a hacer uso de la API rest implementada en https://restcountries.eu/rest/v2/ para obtener información sobre todos los países:"
   ]
  },
  {
   "cell_type": "markdown",
   "metadata": {
    "id": "rNwH71R5cbDi"
   },
   "source": [
    "El siguiente fragmento de código accede a una API REST de citas célebres y nos recupera frases de diferentes autores célebres:\n",
    "\n"
   ]
  },
  {
   "cell_type": "code",
   "execution_count": 36,
   "metadata": {
    "id": "ihLCHBr3dZts"
   },
   "outputs": [
    {
     "data": {
      "text/plain": [
       "b'{\"statusCode\":200,\"message\":\"Quotes\",\"pagination\":{\"currentPage\":1,\"nextPage\":2,\"totalPages\":7268},\"totalQuotes\":72672,\"data\":[{\"_id\":\"5eb17aadb69dc744b4e70d4a\",\"quoteText\":\"Forty is the old age of youth, fifty is the youth of old age.\",\"quoteAuthor\":\"Hosea Ballou\",\"quoteGenre\":\"age\",\"__v\":0},{\"_id\":\"5eb17aadb69dc744b4e70d5c\",\"quoteText\":\"I\\'m not interested in age. People who tell me their age are silly. You\\'re as old as you feel.\",\"quoteAuthor\":\"Henri Frederic Amiel\",\"quoteGenre\":\"age\",\"__v\":0},{\"_id\":\"5eb17aadb69dc744b4e70d9c\",\"quoteText\":\"A man loves the meat in his youth that he cannot endure in his age.\",\"quoteAuthor\":\"William Shakespeare\",\"quoteGenre\":\"age\",\"__v\":0},{\"_id\":\"5eb17aadb69dc744b4e70d3c\",\"quoteText\":\"Age considers youth ventures.\",\"quoteAuthor\":\"Rabindranath Tagore\",\"quoteGenre\":\"age\",\"__v\":0},{\"_id\":\"5eb17aadb69dc744b4e70d2c\",\"quoteText\":\"Nobody grows old merely by living a number of years. We grow old by deserting our ideals. Years may wrinkle the skin, but to give up enthusiasm wrinkles the soul.\",\"quoteAuthor\":\"Samuel Ullman\",\"quoteGenre\":\"age\",\"__v\":0},{\"_id\":\"5eb17aadb69dc744b4e70d33\",\"quoteText\":\"Every man over forty is a scoundrel.\",\"quoteAuthor\":\"George Bernard Shaw\",\"quoteGenre\":\"age\",\"__v\":0},{\"_id\":\"5eb17aadb69dc744b4e70d49\",\"quoteText\":\"Old minds are like old horses you must exercise them if you wish to keep them in working order.\",\"quoteAuthor\":\"John Adams\",\"quoteGenre\":\"age\",\"__v\":0},{\"_id\":\"5eb17aadb69dc744b4e70d5b\",\"quoteText\":\"You end up as you deserve. In old age you must put up with the face, the friends, the health, and the children you have earned.\",\"quoteAuthor\":\"Judith Viorst\",\"quoteGenre\":\"age\",\"__v\":0},{\"_id\":\"5eb17aadb69dc744b4e70d34\",\"quoteText\":\"Forty is the old age of youth fifty the youth of old age.\",\"quoteAuthor\":\"Victor Hugo\",\"quoteGenre\":\"age\",\"__v\":0},{\"_id\":\"5eb17aadb69dc744b4e70d55\",\"quoteText\":\"I think your whole life shows in your face and you should be proud of that.\",\"quoteAuthor\":\"Lauren Bacall\",\"quoteGenre\":\"age\",\"__v\":0}]}'"
      ]
     },
     "execution_count": 36,
     "metadata": {},
     "output_type": "execute_result"
    }
   ],
   "source": [
    "req = http.request('GET', 'https://quote-garden.onrender.com/api/v3/quotes')\n",
    "req.data"
   ]
  },
  {
   "cell_type": "markdown",
   "metadata": {
    "id": "i8UFTuR9b7H7"
   },
   "source": [
    "En https://restcountries.eu/#api-endpoints se nos proporciona información para conseguir consultas más elaboradas sobre esta API de países, por ejemplo, para consultar por capital, por idioma o por continente."
   ]
  },
  {
   "cell_type": "markdown",
   "metadata": {
    "id": "zNBfelXje9jN"
   },
   "source": [
    "En este caso, la respuesta no está en un formato que podamos traducir directamente a un `DataFrame` de `pandas`, ya que incluye metadatos que no son de nuestro interés. Haremos uso de la librería `json` para procesar la respuesta y construir el DataFrame a partir de los datos (no metadatos) de la respuesta:"
   ]
  },
  {
   "cell_type": "code",
   "execution_count": 37,
   "metadata": {
    "id": "pqm6GXlUd6Jf"
   },
   "outputs": [
    {
     "data": {
      "text/html": [
       "<div>\n",
       "<style scoped>\n",
       "    .dataframe tbody tr th:only-of-type {\n",
       "        vertical-align: middle;\n",
       "    }\n",
       "\n",
       "    .dataframe tbody tr th {\n",
       "        vertical-align: top;\n",
       "    }\n",
       "\n",
       "    .dataframe thead th {\n",
       "        text-align: right;\n",
       "    }\n",
       "</style>\n",
       "<table border=\"1\" class=\"dataframe\">\n",
       "  <thead>\n",
       "    <tr style=\"text-align: right;\">\n",
       "      <th></th>\n",
       "      <th>_id</th>\n",
       "      <th>quoteText</th>\n",
       "      <th>quoteAuthor</th>\n",
       "      <th>quoteGenre</th>\n",
       "      <th>__v</th>\n",
       "    </tr>\n",
       "  </thead>\n",
       "  <tbody>\n",
       "    <tr>\n",
       "      <th>0</th>\n",
       "      <td>5eb17aadb69dc744b4e70d4a</td>\n",
       "      <td>Forty is the old age of youth, fifty is the yo...</td>\n",
       "      <td>Hosea Ballou</td>\n",
       "      <td>age</td>\n",
       "      <td>0</td>\n",
       "    </tr>\n",
       "    <tr>\n",
       "      <th>1</th>\n",
       "      <td>5eb17aadb69dc744b4e70d5c</td>\n",
       "      <td>I'm not interested in age. People who tell me ...</td>\n",
       "      <td>Henri Frederic Amiel</td>\n",
       "      <td>age</td>\n",
       "      <td>0</td>\n",
       "    </tr>\n",
       "    <tr>\n",
       "      <th>2</th>\n",
       "      <td>5eb17aadb69dc744b4e70d9c</td>\n",
       "      <td>A man loves the meat in his youth that he cann...</td>\n",
       "      <td>William Shakespeare</td>\n",
       "      <td>age</td>\n",
       "      <td>0</td>\n",
       "    </tr>\n",
       "    <tr>\n",
       "      <th>3</th>\n",
       "      <td>5eb17aadb69dc744b4e70d3c</td>\n",
       "      <td>Age considers youth ventures.</td>\n",
       "      <td>Rabindranath Tagore</td>\n",
       "      <td>age</td>\n",
       "      <td>0</td>\n",
       "    </tr>\n",
       "    <tr>\n",
       "      <th>4</th>\n",
       "      <td>5eb17aadb69dc744b4e70d2c</td>\n",
       "      <td>Nobody grows old merely by living a number of ...</td>\n",
       "      <td>Samuel Ullman</td>\n",
       "      <td>age</td>\n",
       "      <td>0</td>\n",
       "    </tr>\n",
       "    <tr>\n",
       "      <th>5</th>\n",
       "      <td>5eb17aadb69dc744b4e70d33</td>\n",
       "      <td>Every man over forty is a scoundrel.</td>\n",
       "      <td>George Bernard Shaw</td>\n",
       "      <td>age</td>\n",
       "      <td>0</td>\n",
       "    </tr>\n",
       "    <tr>\n",
       "      <th>6</th>\n",
       "      <td>5eb17aadb69dc744b4e70d49</td>\n",
       "      <td>Old minds are like old horses you must exercis...</td>\n",
       "      <td>John Adams</td>\n",
       "      <td>age</td>\n",
       "      <td>0</td>\n",
       "    </tr>\n",
       "    <tr>\n",
       "      <th>7</th>\n",
       "      <td>5eb17aadb69dc744b4e70d5b</td>\n",
       "      <td>You end up as you deserve. In old age you must...</td>\n",
       "      <td>Judith Viorst</td>\n",
       "      <td>age</td>\n",
       "      <td>0</td>\n",
       "    </tr>\n",
       "    <tr>\n",
       "      <th>8</th>\n",
       "      <td>5eb17aadb69dc744b4e70d34</td>\n",
       "      <td>Forty is the old age of youth fifty the youth ...</td>\n",
       "      <td>Victor Hugo</td>\n",
       "      <td>age</td>\n",
       "      <td>0</td>\n",
       "    </tr>\n",
       "    <tr>\n",
       "      <th>9</th>\n",
       "      <td>5eb17aadb69dc744b4e70d55</td>\n",
       "      <td>I think your whole life shows in your face and...</td>\n",
       "      <td>Lauren Bacall</td>\n",
       "      <td>age</td>\n",
       "      <td>0</td>\n",
       "    </tr>\n",
       "  </tbody>\n",
       "</table>\n",
       "</div>"
      ],
      "text/plain": [
       "                        _id  \\\n",
       "0  5eb17aadb69dc744b4e70d4a   \n",
       "1  5eb17aadb69dc744b4e70d5c   \n",
       "2  5eb17aadb69dc744b4e70d9c   \n",
       "3  5eb17aadb69dc744b4e70d3c   \n",
       "4  5eb17aadb69dc744b4e70d2c   \n",
       "5  5eb17aadb69dc744b4e70d33   \n",
       "6  5eb17aadb69dc744b4e70d49   \n",
       "7  5eb17aadb69dc744b4e70d5b   \n",
       "8  5eb17aadb69dc744b4e70d34   \n",
       "9  5eb17aadb69dc744b4e70d55   \n",
       "\n",
       "                                           quoteText           quoteAuthor  \\\n",
       "0  Forty is the old age of youth, fifty is the yo...          Hosea Ballou   \n",
       "1  I'm not interested in age. People who tell me ...  Henri Frederic Amiel   \n",
       "2  A man loves the meat in his youth that he cann...   William Shakespeare   \n",
       "3                      Age considers youth ventures.   Rabindranath Tagore   \n",
       "4  Nobody grows old merely by living a number of ...         Samuel Ullman   \n",
       "5               Every man over forty is a scoundrel.   George Bernard Shaw   \n",
       "6  Old minds are like old horses you must exercis...            John Adams   \n",
       "7  You end up as you deserve. In old age you must...         Judith Viorst   \n",
       "8  Forty is the old age of youth fifty the youth ...           Victor Hugo   \n",
       "9  I think your whole life shows in your face and...         Lauren Bacall   \n",
       "\n",
       "  quoteGenre  __v  \n",
       "0        age    0  \n",
       "1        age    0  \n",
       "2        age    0  \n",
       "3        age    0  \n",
       "4        age    0  \n",
       "5        age    0  \n",
       "6        age    0  \n",
       "7        age    0  \n",
       "8        age    0  \n",
       "9        age    0  "
      ]
     },
     "execution_count": 37,
     "metadata": {},
     "output_type": "execute_result"
    }
   ],
   "source": [
    "# Convertimos datos de respuesta en un stream de bytes\n",
    "stream = io.BytesIO(req.data) \n",
    "# Traducimos el stream de bytes con contenido JSON a estructuras Python\n",
    "content = json.load(stream)\n",
    "# Construimos un DataFrame con el campo data de la respuesta obtenida\n",
    "pd.DataFrame(content['data'])"
   ]
  },
  {
   "cell_type": "markdown",
   "metadata": {
    "id": "OiAs3QgmeTHU"
   },
   "source": [
    "En https://pprathameshmore.github.io/QuoteGarden/ se nos proporciona información para la consulta de citas en base a criterios diferentes a los seleccionados."
   ]
  },
  {
   "cell_type": "markdown",
   "metadata": {
    "id": "EICnK8QtnTFm"
   },
   "source": [
    "Finalmente, existen otras APIs muy conocidas como la de [Reddit](https://www.reddit.com/dev/api/) o [Twitter](https://developer.twitter.com/en/docs/twitter-api). Estas APIs nos exigen identificarnos (generalmente mediante [`OAuth2`](https://oauth.net/2/)), ya que tenemos que seguir unas políticas de uso de sus servicios bastante estrictas. Se recomienda el uso de la librería [`requests-oauthlib`](https://requests-oauthlib.readthedocs.io/en/latest/oauth2_workflow.html) para estos escenarios.\n",
    "\n",
    "Además, existen múltiples librerías en la comunidad Python para facilitarnos el uso de las APIs más conocidas, abstrayéndonos de las peticiones HTTP y, en muchos casos, de las restricciones de uso impuestas. A continuación incluimos algunos ejemplos:\n",
    "\n",
    "* Reddit: [`PRAW`](https://praw.readthedocs.io/en/latest/).\n",
    "* Twitter: [`searchtweets`](https://twitterdev.github.io/search-tweets-python/), [`python-twitter`](https://python-twitter.readthedocs.io/en/latest/), [`TwitterAPI`](http://geduldig.github.io/TwitterAPI/), [`Tweepy`](http://docs.tweepy.org/en/latest/), [`Twython`](https://twython.readthedocs.io/en/latest/)."
   ]
  },
  {
   "cell_type": "markdown",
   "metadata": {
    "id": "0mlzEgs6qIF2"
   },
   "source": [
    "## Lectura de datos de páginas web"
   ]
  },
  {
   "cell_type": "markdown",
   "metadata": {
    "id": "vaz1dj0sIP8a"
   },
   "source": [
    "A veces no tenemos otras vías de recuperar los datos, o se nos imponen limitaciones de acceso demasiado restrictivas, o simplemente el acceso a los recursos es económicamente costoso. Ante estas situaciones, la extracción de los datos de una o varias **páginas web públicamente accesibles** de manera automática puede ser nuestra única opción. A este hecho se le conoce como **Web Scraping**."
   ]
  },
  {
   "cell_type": "markdown",
   "metadata": {
    "id": "cWUrkfhaJ5g3"
   },
   "source": [
    "Para hacer **Web Scraping** tendremos que trabajar con el protocolo de nivel de aplicación **HTTP** (acrónimo de **H**yper**T**ext **T**ransfer **P**rotocol), que establece las reglas a seguir para permitir la transmisión de datos por la web. Existen múltiples librerías tanto en Python como en otros lenguajes de programación que nos simplifican el uso de este protocolo. En Python, como ya hemos dicho anteriormente, son bien conocidas las siguientes: [`urllib`](https://docs.python.org/3/library/urllib.html), [`httplib2`](https://pypi.org/project/httplib2/),[`urllib3`](https://urllib3.readthedocs.io/en/latest/), [`requests`](https://requests.readthedocs.io/en/master/), [`grequests`](https://pypi.org/project/grequests/), [`aiohttp`](https://docs.aiohttp.org/en/stable/)."
   ]
  },
  {
   "cell_type": "markdown",
   "metadata": {
    "id": "mv9MmN_QMVdx"
   },
   "source": [
    "En esta sección vamos a trabajar con la librería `requests`, que, como podréis comprobar, ofrece una forma de trabajar muy parecida a la librería `urllib3` que hemos utilizado previamente."
   ]
  },
  {
   "cell_type": "markdown",
   "metadata": {
    "id": "eT6guIFwMxHX"
   },
   "source": [
    "En el siguiente ejemplo vamos a recuperar el contenido de una página de la tienda [catalogoreina.com](https://catalogoreina.com/921-espejos-para-bano) que nos muestra una lista de los espejos ofertados actualmente:"
   ]
  },
  {
   "cell_type": "code",
   "execution_count": null,
   "metadata": {
    "id": "udkovSgGqLUb"
   },
   "outputs": [],
   "source": [
    "URL = \"https://catalogoreina.com/921-espejos-para-bano\"\n",
    "r = requests.get(URL)\n",
    "r.text"
   ]
  },
  {
   "cell_type": "markdown",
   "metadata": {
    "id": "INbftQtFNTc2"
   },
   "source": [
    "Como podréis comprobar, el contenido, aunque ligeramente comprensible por el ojo humano, dista mucho de ser manejable. Para facilitar la manipulación de su contenido, haremos uso de la librería `BeautifulSoup`, que implementa un *parser* tanto de páginas web en formato HTML como de ficheros XML:"
   ]
  },
  {
   "cell_type": "code",
   "execution_count": null,
   "metadata": {
    "id": "-SXVAP-uNNK7"
   },
   "outputs": [],
   "source": [
    "html_soup = BeautifulSoup(r.text)"
   ]
  },
  {
   "cell_type": "markdown",
   "metadata": {
    "id": "ypHrzDM2PTFQ"
   },
   "source": [
    "De entre los múltiples métodos que nos ofrece esta librería, destacamos 3 para la recuperación de elementos de una página web:\n",
    "\n",
    "* `find`: recupera un único elemento de la página web. Define los siguientes parámetros:\n",
    "  * `name`: tipo de etiqueta a buscar (`a`, `img`, `h1`, `h2`, `article`, etc).\n",
    "  * `attr`: diccionario que contendrá una lista de atributos y valores (`id`, `class`, `lang`, `title`, etc) que deben coincidir en el elemento recuperado.\n",
    "  * `recursive`: booleano que indica si la búsqueda se hará recursivamente en los hijos de cada elemento del documento HTML.\n",
    "\n",
    "    Por ejemplo, vamos a utilizar este método para recuperar el nombre de la categoría de los productos mostrados en la tienda:"
   ]
  },
  {
   "cell_type": "code",
   "execution_count": null,
   "metadata": {
    "id": "Q74APD0QQ0B4"
   },
   "outputs": [],
   "source": [
    "tag = html_soup.find(name='span', attrs={'class': 'cat-name'})\n",
    "tag"
   ]
  },
  {
   "cell_type": "markdown",
   "metadata": {
    "id": "U0a0V5cCRJ4j"
   },
   "source": [
    "     \n",
    "Si quisiéramos recuperar el texto contenido en la etiqueta haremos uso del método `get_text` con el parámetro `strip` con valor a `True`, mediante el que quitaremos los espacios en blanco antes y después del texto:"
   ]
  },
  {
   "cell_type": "code",
   "execution_count": null,
   "metadata": {
    "id": "pXzVTRsKN9QV"
   },
   "outputs": [],
   "source": [
    "tag.get_text(strip=True)"
   ]
  },
  {
   "cell_type": "markdown",
   "metadata": {
    "id": "m9tRnsACRrcK"
   },
   "source": [
    "* `find_all`: este método es muy parecido a `find`, pero en lugar de un solo resultado nos devolverá una lista de ellos. Define los mismos parámetros que `find` y, además, el parámetro `limit` para limitar el número de resultados obtenido.\n",
    "\n",
    "    Para mostrar la utilidad de este método, recuperaremos la lista de los precios de tres artículos visualizados en la página:"
   ]
  },
  {
   "cell_type": "code",
   "execution_count": null,
   "metadata": {
    "id": "maeITAudSVyc"
   },
   "outputs": [],
   "source": [
    "tags = html_soup.find_all(name='span', attrs={'class': 'price product-price'}, limit=3)\n",
    "[ tag.get_text(strip=True) for tag in tags]"
   ]
  },
  {
   "cell_type": "markdown",
   "metadata": {
    "id": "uCUmHHHGSwTY"
   },
   "source": [
    "Conforme utilicemos la librería, y sobre todo si tenemos experiencia en el manejo de [selectores CSS](https://developer.mozilla.org/es/docs/Web/CSS/CSS_Selectors), nos daremos cuenta de que estos métodos presentan bastantes limitaciones para las complejas reglas de selección que deseamos implementar. Para estas situaciones disponemos de los métodos `select_one` y `select`, que aceptarán un selector CSS y nos devolverán uno o una lista de elementos HTML respectivamente.\n",
    "\n",
    "Por ejemplo, vamos a recuperar, haciendo uso de selectores CSS, los números de página mostrados en la página inicial (dado que el selector de página aparece dos veces, podremos comprobar que los resultados aparecen repetidos):"
   ]
  },
  {
   "cell_type": "code",
   "execution_count": null,
   "metadata": {
    "id": "w_vn9797TrpP"
   },
   "outputs": [],
   "source": [
    "[elem.get_text(strip=True) for elem in html_soup.select('.pagination li')]"
   ]
  },
  {
   "cell_type": "markdown",
   "metadata": {
    "id": "OMn_IbA9US21"
   },
   "source": [
    "Si queremos automatizar la extracción de artículos de la página tendremos que obtener las URLs todas las páginas mostradas. Para ello, extraeremos el valor del atributo `href` de los enlaces de cada página mediante el método `get`:"
   ]
  },
  {
   "cell_type": "code",
   "execution_count": null,
   "metadata": {
    "id": "xYtHkDt-Uwtn"
   },
   "outputs": [],
   "source": [
    "links = html_soup.select('.pagination li a')\n",
    "set([elem.get('href') for elem in links])"
   ]
  },
  {
   "cell_type": "markdown",
   "metadata": {
    "id": "iAa7nm7CVJho"
   },
   "source": [
    "De esta forma podríamos construir todas las URLs necesarias para obtener la información de todos los espejos ofertados por la tienda."
   ]
  },
  {
   "cell_type": "markdown",
   "metadata": {
    "id": "Tj2JXDswVxvx"
   },
   "source": [
    "Podemos seguir invocando los métodos `find`, `find_all`, `select` y `select_all` sobre cada uno de los resultados obtenidos en búsquedas previas:"
   ]
  },
  {
   "cell_type": "code",
   "execution_count": null,
   "metadata": {
    "id": "y_bbPPQ5VaNS"
   },
   "outputs": [],
   "source": [
    "[ link.find('span') for link in links]"
   ]
  }
 ],
 "metadata": {
  "colab": {
   "collapsed_sections": [
    "Iwkm1yiXOYNB",
    "sYck_vDDLl8b",
    "Os5uizMemtMq"
   ],
   "name": "Copia de cbd-sesion05-obtencion-datos.ipynb",
   "provenance": [
    {
     "file_id": "1AWfARF2ozRkqmYM0UpDnabKEDP21HSfV",
     "timestamp": 1632212173736
    },
    {
     "file_id": "https://github.com/pablodms/cpr-python-nosql/blob/master/curso-big-data/cbd_sesion05_obtencion_datos.ipynb",
     "timestamp": 1631633394139
    }
   ],
   "toc_visible": true
  },
  "kernelspec": {
   "display_name": "Python 3 (ipykernel)",
   "language": "python",
   "name": "python3"
  },
  "language_info": {
   "codemirror_mode": {
    "name": "ipython",
    "version": 3
   },
   "file_extension": ".py",
   "mimetype": "text/x-python",
   "name": "python",
   "nbconvert_exporter": "python",
   "pygments_lexer": "ipython3",
   "version": "3.11.4"
  },
  "widgets": {
   "application/vnd.jupyter.widget-state+json": {
    "state": {},
    "version_major": 2,
    "version_minor": 0
   }
  }
 },
 "nbformat": 4,
 "nbformat_minor": 4
}

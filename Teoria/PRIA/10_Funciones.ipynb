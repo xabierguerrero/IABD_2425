{
 "cells": [
  {
   "cell_type": "markdown",
   "metadata": {
    "id": "qUOdgOhTv1si"
   },
   "source": [
    "# Funciones\n",
    "\n"
   ]
  },
  {
   "cell_type": "markdown",
   "metadata": {
    "id": "r55MQssxE_7o"
   },
   "source": [
    "## Función\n",
    "\n",
    "**Función.** Una función en `Python` es una pieza de código reutilizable que solo se ejecuta cuando es llamada.\n",
    "\n",
    "Se define usando la palabra reservada `def` y estructura general es la siguiente:\n",
    "\n",
    "```\n",
    "def nombre_funcion(input1, input2, ..., inputn):\n",
    "  cuerpo de la función\n",
    "  return output\n",
    "```"
   ]
  },
  {
   "cell_type": "markdown",
   "metadata": {
    "id": "JakkE-fEwODq"
   },
   "source": [
    "**Observación.** La instrucción `return` finaliza la ejecución de la función y devuelve el resultado que se indica a continuación. Si no se indicase nada, la función finalizaría, pero no retornaría nada.\n",
    "\n",
    "Como hemos visto, en general, las funciones constan de 3 partes:\n",
    "\n",
    "- **Inputs (parámetros o argumentos).** Son los valores que le pasamos como entrada a la función.\n",
    "- **Cuerpo.** Son todas las operaciones que lleva a cabo la función.\n",
    "- **Output.** Es el resultado que devuelve la función.\n",
    "\n",
    "**Observación.** Los parámetros son variables internas de la función. Si probásemos a ejecutar una de dichas variables en el entorno global, nos saltaría un error. Este tema lo trataremos más en detalle más adelante.\n",
    "\n",
    "Con lo visto anteriormente, a la hora de construir una función hay que hacerse las siguientes preguntas:\n",
    "\n",
    "- ¿Qué datos necesita conocer la función? (inputs)\n",
    "- ¿Qué hace la función? (cuerpo)\n",
    "- ¿Qué devuelve? (output)\n",
    "\n",
    "**Observación.** Los inputs y el output son opcionales: podemos definir una función sin necesidad de proporcionarle inputs y sin que nos devuelva nada.\n",
    "\n",
    "Una vez definida una función, para llamarla utilizamos su nombre seguido de paréntesis:"
   ]
  },
  {
   "cell_type": "code",
   "execution_count": 39,
   "metadata": {
    "executionInfo": {
     "elapsed": 247,
     "status": "ok",
     "timestamp": 1684011663005,
     "user": {
      "displayName": "Ainara Montoya",
      "userId": "04156984210870783133"
     },
     "user_tz": -120
    },
    "id": "x8uWQGoyunpo"
   },
   "outputs": [],
   "source": [
    "def my_first_function():\n",
    "    print(\"Tu primera función te saluda\")"
   ]
  },
  {
   "cell_type": "code",
   "execution_count": 40,
   "metadata": {
    "colab": {
     "base_uri": "https://localhost:8080/"
    },
    "executionInfo": {
     "elapsed": 279,
     "status": "ok",
     "timestamp": 1684011671447,
     "user": {
      "displayName": "Ainara Montoya",
      "userId": "04156984210870783133"
     },
     "user_tz": -120
    },
    "id": "NBmMdkWou0W4",
    "outputId": "1e387983-850f-44b5-8ff0-df26ff2d986f"
   },
   "outputs": [
    {
     "name": "stdout",
     "output_type": "stream",
     "text": [
      "Tu primera función te saluda\n"
     ]
    }
   ],
   "source": [
    "my_first_function()"
   ]
  },
  {
   "cell_type": "markdown",
   "metadata": {
    "id": "6gyFc8hV8337"
   },
   "source": [
    "Hemos dicho que tanto los inputs como el output son opcionales. Veamos algunos ejemplos con diferentes casos.\n",
    "\n"
   ]
  },
  {
   "cell_type": "markdown",
   "metadata": {
    "id": "BFnz-v2UFCpe"
   },
   "source": [
    "---\n",
    "\n",
    "#### Ejemplo 1\n",
    "\n",
    "Veamos otro ejemplo que no necesite ningún parámetro y no nos devuelva nada, tal y como ocurría con `my_first_function()`"
   ]
  },
  {
   "cell_type": "code",
   "execution_count": 41,
   "metadata": {
    "executionInfo": {
     "elapsed": 416,
     "status": "ok",
     "timestamp": 1684011691059,
     "user": {
      "displayName": "Ainara Montoya",
      "userId": "04156984210870783133"
     },
     "user_tz": -120
    },
    "id": "3Io5aN0O827D"
   },
   "outputs": [],
   "source": [
    "def hello_world():\n",
    "  print(\"Hola mundo!\")"
   ]
  },
  {
   "cell_type": "code",
   "execution_count": 42,
   "metadata": {
    "colab": {
     "base_uri": "https://localhost:8080/"
    },
    "executionInfo": {
     "elapsed": 2,
     "status": "ok",
     "timestamp": 1684011692259,
     "user": {
      "displayName": "Ainara Montoya",
      "userId": "04156984210870783133"
     },
     "user_tz": -120
    },
    "id": "wghoJ6CzcOP0",
    "outputId": "3a4537ab-f906-4bed-f5be-8650f808d685"
   },
   "outputs": [
    {
     "name": "stdout",
     "output_type": "stream",
     "text": [
      "Hola mundo!\n"
     ]
    }
   ],
   "source": [
    "hello_world()"
   ]
  },
  {
   "cell_type": "markdown",
   "metadata": {
    "id": "gLP-bEbEvP-v"
   },
   "source": [
    "Nuestra función `hello_world()`, cuando es llamada, imprime \"Hola mundo!\", pero no devuelve absolutamente nada."
   ]
  },
  {
   "cell_type": "markdown",
   "metadata": {
    "id": "_j8A5Pqg60NE"
   },
   "source": [
    "---\n",
    "\n",
    "#### Ejemplo 2\n",
    "\n",
    "Veamos un ejemplo de función que no necesita ningún input, pero que devuelve un output. Por ejemplo, una función que nos devuelve \"¡Buenos días!\""
   ]
  },
  {
   "cell_type": "code",
   "execution_count": 43,
   "metadata": {
    "executionInfo": {
     "elapsed": 18,
     "status": "ok",
     "timestamp": 1684011144063,
     "user": {
      "displayName": "Ainara Montoya",
      "userId": "04156984210870783133"
     },
     "user_tz": -120
    },
    "id": "zk2lCNwP6yf2"
   },
   "outputs": [],
   "source": [
    "def good_morning():\n",
    "    return \"Buenos días\""
   ]
  },
  {
   "cell_type": "markdown",
   "metadata": {
    "id": "F9JKMN9A7NF4"
   },
   "source": [
    "Ya hemos declarado la función. Si la llamamos, obtenemos el siguiente resultado:"
   ]
  },
  {
   "cell_type": "code",
   "execution_count": 44,
   "metadata": {
    "colab": {
     "base_uri": "https://localhost:8080/",
     "height": 35
    },
    "executionInfo": {
     "elapsed": 18,
     "status": "ok",
     "timestamp": 1684011144063,
     "user": {
      "displayName": "Ainara Montoya",
      "userId": "04156984210870783133"
     },
     "user_tz": -120
    },
    "id": "sjyyrAiL7I_g",
    "outputId": "7769119d-1a67-4d9f-869e-6e590f94af6d"
   },
   "outputs": [
    {
     "data": {
      "text/plain": [
       "'Buenos días'"
      ]
     },
     "execution_count": 44,
     "metadata": {},
     "output_type": "execute_result"
    }
   ],
   "source": [
    "good_morning()"
   ]
  },
  {
   "cell_type": "markdown",
   "metadata": {
    "id": "OvaxNnGV8fiF"
   },
   "source": [
    "Como nos devuelve el saludo, lo podemos guardar en una variable, que será de tipo string"
   ]
  },
  {
   "cell_type": "code",
   "execution_count": 45,
   "metadata": {
    "colab": {
     "base_uri": "https://localhost:8080/"
    },
    "executionInfo": {
     "elapsed": 18,
     "status": "ok",
     "timestamp": 1684011144064,
     "user": {
      "displayName": "Ainara Montoya",
      "userId": "04156984210870783133"
     },
     "user_tz": -120
    },
    "id": "FarS3Uqw8kpY",
    "outputId": "56db77b3-d280-49e4-eb85-918df4a0524a"
   },
   "outputs": [
    {
     "name": "stdout",
     "output_type": "stream",
     "text": [
      "Buenos días\n",
      "<class 'str'>\n"
     ]
    }
   ],
   "source": [
    "goodMorning = good_morning()\n",
    "print(goodMorning)\n",
    "print(type(goodMorning))"
   ]
  },
  {
   "cell_type": "markdown",
   "metadata": {
    "id": "NZXpjzpn7Qwv"
   },
   "source": [
    "---\n",
    "\n",
    "#### Ejemplo 3\n",
    "\n",
    "Veamos ahora un ejemplo de función que no nos devuelva nada, pero que sí toma algún parámetro"
   ]
  },
  {
   "cell_type": "code",
   "execution_count": 46,
   "metadata": {
    "executionInfo": {
     "elapsed": 16,
     "status": "ok",
     "timestamp": 1684011144064,
     "user": {
      "displayName": "Ainara Montoya",
      "userId": "04156984210870783133"
     },
     "user_tz": -120
    },
    "id": "fdiBL0Ug7J3n"
   },
   "outputs": [],
   "source": [
    "def good_morning(name):\n",
    "  print(\"¡Buenos días, {}!\".format(name))"
   ]
  },
  {
   "cell_type": "code",
   "execution_count": 47,
   "metadata": {
    "colab": {
     "base_uri": "https://localhost:8080/"
    },
    "executionInfo": {
     "elapsed": 247,
     "status": "ok",
     "timestamp": 1684011761861,
     "user": {
      "displayName": "Ainara Montoya",
      "userId": "04156984210870783133"
     },
     "user_tz": -120
    },
    "id": "O0_9BaI_8zyN",
    "outputId": "d495cc79-2aad-46a2-db51-6c0b3390040a"
   },
   "outputs": [
    {
     "name": "stdout",
     "output_type": "stream",
     "text": [
      "¡Buenos días, Laura!\n",
      "¡Buenos días, Unai!\n"
     ]
    }
   ],
   "source": [
    "good_morning(name = \"Laura\")\n",
    "good_morning(name = \"Unai\")"
   ]
  },
  {
   "cell_type": "code",
   "execution_count": 48,
   "metadata": {
    "colab": {
     "base_uri": "https://localhost:8080/"
    },
    "executionInfo": {
     "elapsed": 246,
     "status": "ok",
     "timestamp": 1684011770257,
     "user": {
      "displayName": "Ainara Montoya",
      "userId": "04156984210870783133"
     },
     "user_tz": -120
    },
    "id": "Oot-dCJQn9Xq",
    "outputId": "ae1cb531-590e-4638-d3e4-daa14b23c76f"
   },
   "outputs": [
    {
     "name": "stdout",
     "output_type": "stream",
     "text": [
      "¡Buenos días, Miren!\n"
     ]
    }
   ],
   "source": [
    "good_morning(\"Miren\")"
   ]
  },
  {
   "cell_type": "markdown",
   "metadata": {
    "id": "O6TEfIiHwGn5"
   },
   "source": [
    "Ahora nuestra función `good_morning()` recibe como parámetro un nombre y nos muestra por pantalla un \"¡Buenos días!\" junto con el nombre indicado."
   ]
  },
  {
   "cell_type": "markdown",
   "metadata": {
    "id": "t9QrO9P3uYVG"
   },
   "source": [
    "---\n",
    "\n",
    "#### Ejemplo 4\n",
    "\n",
    "Por último, vamos a crear una función que nos calcule la división entera de dos números y nos retorne el cociente y el resto."
   ]
  },
  {
   "cell_type": "code",
   "execution_count": 49,
   "metadata": {
    "executionInfo": {
     "elapsed": 237,
     "status": "ok",
     "timestamp": 1684011804900,
     "user": {
      "displayName": "Ainara Montoya",
      "userId": "04156984210870783133"
     },
     "user_tz": -120
    },
    "id": "q4RI-bwXxZw8"
   },
   "outputs": [],
   "source": [
    "def euclidean_division(x, y):\n",
    "  q = x // y\n",
    "  r = x % y\n",
    "  return q, r"
   ]
  },
  {
   "cell_type": "markdown",
   "metadata": {
    "id": "v4HSy360xmT_"
   },
   "source": [
    "Esta función, a la que hemos llamado `euclidean_division`, calcula el cociente y el resto de dos números cualesquiera y devuelve como resultado esos dos números calculados.\n",
    "\n",
    "Utilicemos ahora nuestra función para calcular el cociente y el resto de la división $41 \\div 7$"
   ]
  },
  {
   "cell_type": "code",
   "execution_count": 50,
   "metadata": {
    "colab": {
     "base_uri": "https://localhost:8080/"
    },
    "executionInfo": {
     "elapsed": 226,
     "status": "ok",
     "timestamp": 1684011826880,
     "user": {
      "displayName": "Ainara Montoya",
      "userId": "04156984210870783133"
     },
     "user_tz": -120
    },
    "id": "ibju6rm2x4XQ",
    "outputId": "cc7e89f4-5c15-490d-9ab2-bb5d9d4a2efd"
   },
   "outputs": [
    {
     "data": {
      "text/plain": [
       "(5, 6)"
      ]
     },
     "execution_count": 50,
     "metadata": {},
     "output_type": "execute_result"
    }
   ],
   "source": [
    "euclidean_division(x = 41, y = 7)"
   ]
  },
  {
   "cell_type": "code",
   "execution_count": 51,
   "metadata": {
    "colab": {
     "base_uri": "https://localhost:8080/"
    },
    "executionInfo": {
     "elapsed": 226,
     "status": "ok",
     "timestamp": 1684011833111,
     "user": {
      "displayName": "Ainara Montoya",
      "userId": "04156984210870783133"
     },
     "user_tz": -120
    },
    "id": "NyofiVRWp_vo",
    "outputId": "c3af9493-0062-4d6f-91d4-426d319bc5e5"
   },
   "outputs": [
    {
     "data": {
      "text/plain": [
       "(5, 6)"
      ]
     },
     "execution_count": 51,
     "metadata": {},
     "output_type": "execute_result"
    }
   ],
   "source": [
    "euclidean_division(41, 7)"
   ]
  },
  {
   "cell_type": "code",
   "execution_count": 52,
   "metadata": {
    "colab": {
     "base_uri": "https://localhost:8080/"
    },
    "executionInfo": {
     "elapsed": 218,
     "status": "ok",
     "timestamp": 1684011838314,
     "user": {
      "displayName": "Ainara Montoya",
      "userId": "04156984210870783133"
     },
     "user_tz": -120
    },
    "id": "n-4L5W48qF0F",
    "outputId": "9134947b-a93b-47d0-c6cb-5d5386358fea"
   },
   "outputs": [
    {
     "data": {
      "text/plain": [
       "(5, 6)"
      ]
     },
     "execution_count": 52,
     "metadata": {},
     "output_type": "execute_result"
    }
   ],
   "source": [
    "euclidean_division(y = 7, x = 41)"
   ]
  },
  {
   "cell_type": "markdown",
   "metadata": {
    "id": "871_CMggyClo"
   },
   "source": [
    "Al llamar a la función e indicarle por parámetros `x = 41` e `y = 7`, hemos obtenido como resultado la tupla `(5, 6)`. El significado de dicho resulatdo es que el cociente entero de $41\\div 7$ es 5, mientras que el resto es $6$. Efectivamente\n",
    "\n",
    "$$41 = 7\\cdot 5 + 6$$\n",
    "\n",
    "También podríamos guardar en variables diferentes los resultados que nos devuelve nuestra función, para poder trabajar con ellos en el entorno global"
   ]
  },
  {
   "cell_type": "code",
   "execution_count": 53,
   "metadata": {
    "colab": {
     "base_uri": "https://localhost:8080/"
    },
    "executionInfo": {
     "elapsed": 238,
     "status": "ok",
     "timestamp": 1684011865096,
     "user": {
      "displayName": "Ainara Montoya",
      "userId": "04156984210870783133"
     },
     "user_tz": -120
    },
    "id": "Rd8L122dx60o",
    "outputId": "be373249-7af0-4597-c69b-cd081807483b"
   },
   "outputs": [
    {
     "name": "stdout",
     "output_type": "stream",
     "text": [
      "5\n",
      "6\n",
      "True\n"
     ]
    }
   ],
   "source": [
    "quotient, remainder = euclidean_division(x = 41, y = 7)\n",
    "print(quotient)\n",
    "print(remainder)\n",
    "print(41 == 7 * quotient + remainder)"
   ]
  },
  {
   "cell_type": "markdown",
   "metadata": {
    "id": "kUR-OjRKFHNv"
   },
   "source": [
    "---"
   ]
  },
  {
   "cell_type": "markdown",
   "metadata": {
    "id": "IFTMxwvJcNSE"
   },
   "source": [
    "## Parámetros\n",
    "\n",
    "Por defecto, una función debe ser llamada con el número correcto de argumentos. Esto es, si la función espera 2 argumentos, tenemos que llamar a la función con esos 2 argumentos. Ni más, ni menos.\n",
    "\n"
   ]
  },
  {
   "cell_type": "code",
   "execution_count": 54,
   "metadata": {
    "executionInfo": {
     "elapsed": 257,
     "status": "ok",
     "timestamp": 1684011919519,
     "user": {
      "displayName": "Ainara Montoya",
      "userId": "04156984210870783133"
     },
     "user_tz": -120
    },
    "id": "BAqrsky_yugk"
   },
   "outputs": [],
   "source": [
    "def complete_name(name, surname):\n",
    "  print(\"El nombre completo es\", name, surname)"
   ]
  },
  {
   "cell_type": "code",
   "execution_count": 55,
   "metadata": {
    "colab": {
     "base_uri": "https://localhost:8080/"
    },
    "executionInfo": {
     "elapsed": 228,
     "status": "ok",
     "timestamp": 1684011946196,
     "user": {
      "displayName": "Ainara Montoya",
      "userId": "04156984210870783133"
     },
     "user_tz": -120
    },
    "id": "h5HzLkn-y8Bg",
    "outputId": "6f709b26-2dae-4fee-9667-4d882748a065"
   },
   "outputs": [
    {
     "name": "stdout",
     "output_type": "stream",
     "text": [
      "El nombre completo es Miren Saenz\n"
     ]
    }
   ],
   "source": [
    "complete_name(\"Miren\", \"Saenz\")"
   ]
  },
  {
   "cell_type": "code",
   "execution_count": 56,
   "metadata": {
    "colab": {
     "base_uri": "https://localhost:8080/"
    },
    "executionInfo": {
     "elapsed": 248,
     "status": "ok",
     "timestamp": 1684011968585,
     "user": {
      "displayName": "Ainara Montoya",
      "userId": "04156984210870783133"
     },
     "user_tz": -120
    },
    "id": "BVIOAP8pOUaS",
    "outputId": "236e9bf0-c1a4-4c44-f093-c94e4e3fd5af"
   },
   "outputs": [
    {
     "name": "stdout",
     "output_type": "stream",
     "text": [
      "El nombre completo es Ane Miren Saenz\n"
     ]
    }
   ],
   "source": [
    "complete_name(\"Ane Miren\", \"Saenz\")"
   ]
  },
  {
   "cell_type": "markdown",
   "metadata": {
    "id": "zcKikKOdzIBZ"
   },
   "source": [
    "Si intentamos llamar a la función `complete_name()` pasando 1 solo parámetro o 3 parámetros, entonces la función devuelve error."
   ]
  },
  {
   "cell_type": "code",
   "execution_count": 57,
   "metadata": {
    "colab": {
     "base_uri": "https://localhost:8080/",
     "height": 169
    },
    "executionInfo": {
     "elapsed": 237,
     "status": "error",
     "timestamp": 1684012008224,
     "user": {
      "displayName": "Ainara Montoya",
      "userId": "04156984210870783133"
     },
     "user_tz": -120
    },
    "id": "SMtZKeWjzOZb",
    "outputId": "fa4d352f-110d-4c58-a6ed-235476f4aa01"
   },
   "outputs": [
    {
     "ename": "TypeError",
     "evalue": "complete_name() missing 1 required positional argument: 'surname'",
     "output_type": "error",
     "traceback": [
      "\u001b[0;31m---------------------------------------------------------------------------\u001b[0m",
      "\u001b[0;31mTypeError\u001b[0m                                 Traceback (most recent call last)",
      "Cell \u001b[0;32mIn[57], line 1\u001b[0m\n\u001b[0;32m----> 1\u001b[0m \u001b[43mcomplete_name\u001b[49m\u001b[43m(\u001b[49m\u001b[43mname\u001b[49m\u001b[43m \u001b[49m\u001b[38;5;241;43m=\u001b[39;49m\u001b[43m \u001b[49m\u001b[38;5;124;43m\"\u001b[39;49m\u001b[38;5;124;43mMiren\u001b[39;49m\u001b[38;5;124;43m\"\u001b[39;49m\u001b[43m)\u001b[49m\n",
      "\u001b[0;31mTypeError\u001b[0m: complete_name() missing 1 required positional argument: 'surname'"
     ]
    }
   ],
   "source": [
    "complete_name(name = \"Miren\")"
   ]
  },
  {
   "cell_type": "code",
   "execution_count": 58,
   "metadata": {
    "colab": {
     "base_uri": "https://localhost:8080/",
     "height": 169
    },
    "executionInfo": {
     "elapsed": 225,
     "status": "error",
     "timestamp": 1684012009898,
     "user": {
      "displayName": "Ainara Montoya",
      "userId": "04156984210870783133"
     },
     "user_tz": -120
    },
    "id": "WEP4ogVnOv02",
    "outputId": "9345583d-3bf7-4352-fc58-e3afb8d095a0"
   },
   "outputs": [
    {
     "ename": "TypeError",
     "evalue": "complete_name() takes 2 positional arguments but 3 were given",
     "output_type": "error",
     "traceback": [
      "\u001b[0;31m---------------------------------------------------------------------------\u001b[0m",
      "\u001b[0;31mTypeError\u001b[0m                                 Traceback (most recent call last)",
      "Cell \u001b[0;32mIn[58], line 1\u001b[0m\n\u001b[0;32m----> 1\u001b[0m \u001b[43mcomplete_name\u001b[49m\u001b[43m(\u001b[49m\u001b[38;5;124;43m\"\u001b[39;49m\u001b[38;5;124;43mAne\u001b[39;49m\u001b[38;5;124;43m\"\u001b[39;49m\u001b[43m,\u001b[49m\u001b[43m \u001b[49m\u001b[38;5;124;43m\"\u001b[39;49m\u001b[38;5;124;43mMiren\u001b[39;49m\u001b[38;5;124;43m\"\u001b[39;49m\u001b[43m,\u001b[49m\u001b[43m \u001b[49m\u001b[38;5;124;43m\"\u001b[39;49m\u001b[38;5;124;43mSaenz\u001b[39;49m\u001b[38;5;124;43m\"\u001b[39;49m\u001b[43m)\u001b[49m\n",
      "\u001b[0;31mTypeError\u001b[0m: complete_name() takes 2 positional arguments but 3 were given"
     ]
    }
   ],
   "source": [
    "complete_name(\"Ane\", \"Miren\", \"Saenz\")"
   ]
  },
  {
   "cell_type": "markdown",
   "metadata": {
    "id": "0RcJ96fHzVj9"
   },
   "source": [
    "### Número arbitrario de argumentos\n",
    "\n",
    "Si no sabemos el número de parámetros que van a ser introducidos, entonces añadimos un asterisco `*` previo al nombre del parámetro en la definición de la función. Los valores introducidos serán guardados en una tupla."
   ]
  },
  {
   "cell_type": "code",
   "execution_count": null,
   "metadata": {
    "executionInfo": {
     "elapsed": 219,
     "status": "ok",
     "timestamp": 1684012027427,
     "user": {
      "displayName": "Ainara Montoya",
      "userId": "04156984210870783133"
     },
     "user_tz": -120
    },
    "id": "R08ZvAN1zrPl"
   },
   "outputs": [],
   "source": [
    "def sum_numbers(*numbers):\n",
    "  sum = 0\n",
    "  for n in numbers:\n",
    "    sum += n\n",
    "  \n",
    "  return sum\n"
   ]
  },
  {
   "cell_type": "code",
   "execution_count": null,
   "metadata": {
    "colab": {
     "base_uri": "https://localhost:8080/"
    },
    "executionInfo": {
     "elapsed": 220,
     "status": "ok",
     "timestamp": 1684012035208,
     "user": {
      "displayName": "Ainara Montoya",
      "userId": "04156984210870783133"
     },
     "user_tz": -120
    },
    "id": "9-cPxa9az3ii",
    "outputId": "b7b0b853-3d15-4bb9-bca7-7f266598c532"
   },
   "outputs": [],
   "source": [
    "sum_numbers(1, 2, 3)"
   ]
  },
  {
   "cell_type": "code",
   "execution_count": null,
   "metadata": {
    "colab": {
     "base_uri": "https://localhost:8080/"
    },
    "executionInfo": {
     "elapsed": 239,
     "status": "ok",
     "timestamp": 1684012040169,
     "user": {
      "displayName": "Ainara Montoya",
      "userId": "04156984210870783133"
     },
     "user_tz": -120
    },
    "id": "6jtx5Ocv0rR3",
    "outputId": "d0be11d2-cf4f-45b6-ecd1-4898dbb308d1"
   },
   "outputs": [],
   "source": [
    "sum_numbers(2, 4, 6, 8, 10)"
   ]
  },
  {
   "cell_type": "markdown",
   "metadata": {
    "id": "sIFU7QxA1M1N"
   },
   "source": [
    "### Número arbitrario de claves de argumento\n",
    "\n",
    "Hasta ahora hemos visto que al pasar valores por parámetro a la función, podemos hacerlo con la sintaxis `clave_argumento = valor` o directamente pasar por parámetro el valor siguiendo el orden posicional de la definición de la función:"
   ]
  },
  {
   "cell_type": "code",
   "execution_count": null,
   "metadata": {
    "executionInfo": {
     "elapsed": 229,
     "status": "ok",
     "timestamp": 1684012062410,
     "user": {
      "displayName": "Ainara Montoya",
      "userId": "04156984210870783133"
     },
     "user_tz": -120
    },
    "id": "JyKVf3S115dw"
   },
   "outputs": [],
   "source": [
    "def complete_name(name, surname):\n",
    "  print(\"El nombre completo es\", name, surname)"
   ]
  },
  {
   "cell_type": "code",
   "execution_count": null,
   "metadata": {
    "colab": {
     "base_uri": "https://localhost:8080/"
    },
    "executionInfo": {
     "elapsed": 228,
     "status": "ok",
     "timestamp": 1684012087542,
     "user": {
      "displayName": "Ainara Montoya",
      "userId": "04156984210870783133"
     },
     "user_tz": -120
    },
    "id": "UMZPiqzx181k",
    "outputId": "d4a9bf9c-7b74-4a52-bcb0-e79bba73453e"
   },
   "outputs": [],
   "source": [
    "complete_name(name = \"Miren\", surname = \"Saenz\")"
   ]
  },
  {
   "cell_type": "code",
   "execution_count": null,
   "metadata": {
    "colab": {
     "base_uri": "https://localhost:8080/"
    },
    "executionInfo": {
     "elapsed": 251,
     "status": "ok",
     "timestamp": 1684012089632,
     "user": {
      "displayName": "Ainara Montoya",
      "userId": "04156984210870783133"
     },
     "user_tz": -120
    },
    "id": "Jv7zJ8eK1_iP",
    "outputId": "598fbbbe-0af2-4c8e-e4e3-b813336ecac8"
   },
   "outputs": [],
   "source": [
    "complete_name(surname = \"Saenz\", name = \"Miren\")"
   ]
  },
  {
   "cell_type": "code",
   "execution_count": null,
   "metadata": {
    "colab": {
     "base_uri": "https://localhost:8080/"
    },
    "executionInfo": {
     "elapsed": 2,
     "status": "ok",
     "timestamp": 1684012091975,
     "user": {
      "displayName": "Ainara Montoya",
      "userId": "04156984210870783133"
     },
     "user_tz": -120
    },
    "id": "Z6D0f7wK2D7Y",
    "outputId": "5bf5a227-b167-464b-ed83-8e555f19a2f1"
   },
   "outputs": [],
   "source": [
    "complete_name(\"Miren\", \"Saenz\")"
   ]
  },
  {
   "cell_type": "markdown",
   "metadata": {
    "id": "oLUVGV0a2JJ3"
   },
   "source": [
    "En realidad, los nombres completos pueden tener dos o incluso más apellidos, pero no sabemos si el usuario tiene 1 o 2 o más. Entones, podemos añadir dos asteriscos `**` antes del nombre del parámetro para así poder introducir tantos como queramos sin que salte error"
   ]
  },
  {
   "cell_type": "code",
   "execution_count": null,
   "metadata": {
    "executionInfo": {
     "elapsed": 228,
     "status": "ok",
     "timestamp": 1684012137742,
     "user": {
      "displayName": "Ainara Montoya",
      "userId": "04156984210870783133"
     },
     "user_tz": -120
    },
    "id": "1AIX5W-Z2Iea"
   },
   "outputs": [],
   "source": [
    "def complete_name(name, **surname):\n",
    "    print(\"El nombre completo es {}\".format(name), end = \" \")\n",
    "    for i in surname.items():\n",
    "      print(\"{}\".format(i[1]), end = \" \")"
   ]
  },
  {
   "cell_type": "code",
   "execution_count": null,
   "metadata": {
    "colab": {
     "base_uri": "https://localhost:8080/"
    },
    "executionInfo": {
     "elapsed": 222,
     "status": "ok",
     "timestamp": 1684012150911,
     "user": {
      "displayName": "Ainara Montoya",
      "userId": "04156984210870783133"
     },
     "user_tz": -120
    },
    "id": "Qx1K7Ogr2qu_",
    "outputId": "62471417-8f6b-43ec-d2cc-857088948873"
   },
   "outputs": [],
   "source": [
    "complete_name(name = \"Miren\", surname1 = \"Saenz\", surname2 = \"Bastida\")"
   ]
  },
  {
   "cell_type": "code",
   "execution_count": null,
   "metadata": {
    "colab": {
     "base_uri": "https://localhost:8080/"
    },
    "executionInfo": {
     "elapsed": 238,
     "status": "ok",
     "timestamp": 1684012162882,
     "user": {
      "displayName": "Ainara Montoya",
      "userId": "04156984210870783133"
     },
     "user_tz": -120
    },
    "id": "fi9tLbR52z4m",
    "outputId": "b2e6b4da-88f5-49d0-c026-be217b7e1020"
   },
   "outputs": [],
   "source": [
    "complete_name(name = \"Miren\", surname = \"Saenz\")"
   ]
  },
  {
   "cell_type": "markdown",
   "metadata": {
    "id": "WAmAFPo2ycl-"
   },
   "source": [
    "### Parámetros por defecto\n",
    "\n",
    "Hemos visto que una función en `Python` puede tener o no parámetros.\n",
    "\n",
    "En caso de tener, podemos indicar que alguno tenga un valor por defecto.\n",
    "\n",
    "La función `diff()` calcula la diferencia entre los dos números que introducimos por parámetros. Podemos hacer que el sustraendo por defecto valga 1 del siguiente modo:"
   ]
  },
  {
   "cell_type": "code",
   "execution_count": null,
   "metadata": {
    "executionInfo": {
     "elapsed": 234,
     "status": "ok",
     "timestamp": 1684012194021,
     "user": {
      "displayName": "Ainara Montoya",
      "userId": "04156984210870783133"
     },
     "user_tz": -120
    },
    "id": "UVIKXoejc2GF"
   },
   "outputs": [],
   "source": [
    "def diff(x, y = 1):\n",
    "  return x - y"
   ]
  },
  {
   "cell_type": "code",
   "execution_count": null,
   "metadata": {
    "colab": {
     "base_uri": "https://localhost:8080/"
    },
    "executionInfo": {
     "elapsed": 237,
     "status": "ok",
     "timestamp": 1684012196555,
     "user": {
      "displayName": "Ainara Montoya",
      "userId": "04156984210870783133"
     },
     "user_tz": -120
    },
    "id": "G72rMbaUVWDp",
    "outputId": "6d0edb35-10cf-4593-e339-d31e18ae2eb4"
   },
   "outputs": [],
   "source": [
    "diff(65, 18)"
   ]
  },
  {
   "cell_type": "markdown",
   "metadata": {
    "id": "yxif30gkdtLG"
   },
   "source": [
    "Si ahora llamamos a la función indicando únicamente el valor del parámetro `x`, ocurre lo siguiente:"
   ]
  },
  {
   "cell_type": "code",
   "execution_count": null,
   "metadata": {
    "colab": {
     "base_uri": "https://localhost:8080/"
    },
    "executionInfo": {
     "elapsed": 224,
     "status": "ok",
     "timestamp": 1684012200517,
     "user": {
      "displayName": "Ainara Montoya",
      "userId": "04156984210870783133"
     },
     "user_tz": -120
    },
    "id": "9RUmhlc0d0Dk",
    "outputId": "79691730-4c34-4d2d-8148-4ca7998e3c80"
   },
   "outputs": [],
   "source": [
    "diff(x = 20)"
   ]
  },
  {
   "cell_type": "markdown",
   "metadata": {
    "id": "acen27Rtd4pR"
   },
   "source": [
    "Como resultado hemos obtenido 19, ya que el valor que ha tomado el parámetro `y` ha sido el que le hemos dicho que tome por defecto, es decir, $y = 1$ y, consecuentemente, $x-y = 20-1 = 19$"
   ]
  },
  {
   "cell_type": "markdown",
   "metadata": {
    "id": "TKl7Kes2egTS"
   },
   "source": [
    "## Docstring\n",
    "\n",
    "**Docstring.** Son comentarios explicativos que ayudan a comprender el funcionamiento de una función.\n",
    "\n",
    "- Van entre triple comilla doble\n",
    "- Pueden ser multilínea\n",
    "- Se sitúan al principio de la definición de la función\n",
    "\n",
    "Retomando el ejemplo de la división entera, podríamos utilizar docstring del siguiente modo:"
   ]
  },
  {
   "cell_type": "code",
   "execution_count": null,
   "metadata": {
    "executionInfo": {
     "elapsed": 214,
     "status": "ok",
     "timestamp": 1684012243990,
     "user": {
      "displayName": "Ainara Montoya",
      "userId": "04156984210870783133"
     },
     "user_tz": -120
    },
    "id": "ajyjkuSSd2Fq"
   },
   "outputs": [],
   "source": [
    "def euclidean_division(x, y):\n",
    "  \"\"\"\n",
    "  Esta función calcula el cociente y el resto de la\n",
    "  división entera de x entre y.\n",
    "\n",
    "  Args:\n",
    "    x (int): dividendo\n",
    "    y (int): divisor (que no puede ser cero)\n",
    "\n",
    "  Returns:\n",
    "    (q, r): tupla con el valor de (cociente, resto)\n",
    "  \"\"\"\n",
    "  q = x // y\n",
    "  r = x % y\n",
    "  return q, r"
   ]
  },
  {
   "cell_type": "markdown",
   "metadata": {
    "id": "M8c-vyXWfXL3"
   },
   "source": [
    "Con la ayuda del método `.__doc__` podemos acceder directamente a la información indicada en el docstring de una función"
   ]
  },
  {
   "cell_type": "code",
   "execution_count": null,
   "metadata": {
    "colab": {
     "base_uri": "https://localhost:8080/"
    },
    "executionInfo": {
     "elapsed": 306,
     "status": "ok",
     "timestamp": 1684012271138,
     "user": {
      "displayName": "Ainara Montoya",
      "userId": "04156984210870783133"
     },
     "user_tz": -120
    },
    "id": "TDG2YLVgfeZO",
    "outputId": "e0415379-16f6-4874-c259-2f107277bfa3"
   },
   "outputs": [],
   "source": [
    "print(euclidean_division.__doc__)"
   ]
  },
  {
   "cell_type": "markdown",
   "metadata": {
    "id": "x4hH0f43fp4q"
   },
   "source": [
    "## Variables de una función\n",
    "\n",
    "Dentro de una función en `Python` existen dos tipos de variables:\n",
    "\n",
    "- **Variable local.** Aquella que es creada y solamente existe dentro de la función.\n",
    "- **Variable global.** Aquella que es creada en el entorno global.\n",
    "\n",
    "Dada la siguiente función:"
   ]
  },
  {
   "cell_type": "code",
   "execution_count": null,
   "metadata": {
    "executionInfo": {
     "elapsed": 262,
     "status": "ok",
     "timestamp": 1684012434475,
     "user": {
      "displayName": "Ainara Montoya",
      "userId": "04156984210870783133"
     },
     "user_tz": -120
    },
    "id": "Sq0f6N0dfijw"
   },
   "outputs": [],
   "source": [
    "def arithmetic_operations(x, y):\n",
    "  sum = x + y\n",
    "  diff = x - y\n",
    "  prod = x * y\n",
    "  div = x / y\n",
    "  return {\"sum\": sum,\n",
    "          \"difference\": diff,\n",
    "          \"product\": prod,\n",
    "          \"division\": div}"
   ]
  },
  {
   "cell_type": "markdown",
   "metadata": {
    "id": "7OilEVxgglpi"
   },
   "source": [
    "Si nosotros queremos imprimir por ejemplo el valor que toma la variable `prod` en el entorno global nos saltará un error, pues esta variable no existe a nivel global porque no ha sido declarada en dicho entorno ya que solamente ha sido declarada a nivel local, dentro de la función `arithmetic_operations()`."
   ]
  },
  {
   "cell_type": "code",
   "execution_count": null,
   "metadata": {
    "colab": {
     "base_uri": "https://localhost:8080/"
    },
    "executionInfo": {
     "elapsed": 243,
     "status": "ok",
     "timestamp": 1684012453260,
     "user": {
      "displayName": "Ainara Montoya",
      "userId": "04156984210870783133"
     },
     "user_tz": -120
    },
    "id": "rqM-OG8jglAk",
    "outputId": "b8e760d2-ea10-4d62-cc86-e617a105c7be"
   },
   "outputs": [],
   "source": [
    "print(arithmetic_operations(x = 5, y = 3))"
   ]
  },
  {
   "cell_type": "code",
   "execution_count": null,
   "metadata": {
    "colab": {
     "base_uri": "https://localhost:8080/",
     "height": 169
    },
    "executionInfo": {
     "elapsed": 253,
     "status": "error",
     "timestamp": 1684012460107,
     "user": {
      "displayName": "Ainara Montoya",
      "userId": "04156984210870783133"
     },
     "user_tz": -120
    },
    "id": "eFhWzCT3gevd",
    "outputId": "a90fbc84-845b-4acd-e6c6-836b8e09aac4"
   },
   "outputs": [],
   "source": [
    "print(prod)"
   ]
  },
  {
   "cell_type": "markdown",
   "metadata": {
    "id": "bRGOMrr-hzOe"
   },
   "source": [
    "Si se diese el caso de que sí hubiese sido definida la variable `prod` en el entorno global, como lo que ocurre en el siguiente bloque de código, por mucho que la variable local tenga el mimso nombre y por mucho que ejecutemos la función, el valor de la variable global no se ve modificado"
   ]
  },
  {
   "cell_type": "code",
   "execution_count": null,
   "metadata": {
    "colab": {
     "base_uri": "https://localhost:8080/"
    },
    "executionInfo": {
     "elapsed": 237,
     "status": "ok",
     "timestamp": 1684012517613,
     "user": {
      "displayName": "Ainara Montoya",
      "userId": "04156984210870783133"
     },
     "user_tz": -120
    },
    "id": "v0LdovRQghnz",
    "outputId": "33da762d-aa87-4d3c-8143-6906c1b89cf9"
   },
   "outputs": [],
   "source": [
    "prod = 10\n",
    "print(arithmetic_operations(x = 5, y = 3))\n",
    "print(prod)"
   ]
  },
  {
   "cell_type": "markdown",
   "metadata": {
    "id": "X7h_mZNeiLJ4"
   },
   "source": [
    "Si dentro de una función utilizamos la palabra reservada `global` a una variable local, ésta automáticamente pasa a ser una variable global previamente definida.\n",
    "\n",
    "Veamos un ejemplo de función que nos devuelve el siguiente número del entero `n` definido en el entorno global:"
   ]
  },
  {
   "cell_type": "code",
   "execution_count": null,
   "metadata": {
    "executionInfo": {
     "elapsed": 2088,
     "status": "aborted",
     "timestamp": 1684011144072,
     "user": {
      "displayName": "Ainara Montoya",
      "userId": "04156984210870783133"
     },
     "user_tz": -120
    },
    "id": "hK1kS1AuiHp8"
   },
   "outputs": [],
   "source": [
    "n = 7\n",
    "\n",
    "def next_n():\n",
    "  global n\n",
    "  return n + 1\n",
    "\n",
    "next_n()"
   ]
  },
  {
   "cell_type": "markdown",
   "metadata": {
    "id": "AKYIJ-Uj5iOg"
   },
   "source": [
    "### Paso por valor vs. paso por referencia\n",
    "\n",
    "Dependiendo del tipo de dato que pasemos por parámetro a la función, podemos diferenciar entre\n",
    "\n",
    "- **Paso por valor.** Se crea una copia local de la variable dentro de la función.\n",
    "- **Paso por referencia.** Se maneja directamnete la variable y los cambios realizados dentro de la función afectan también a nivel global.\n",
    "\n",
    "En general, los tipos de datos básicos como enteros, en coma flotante, strings o booleanos se pasan por valor, mientras que estructuras de datos como listas, diccionarios, conjuntos o tuplas u otros objetos se pasan por referencia.\n",
    "\n",
    "Un ejemplo de paso por valor sería"
   ]
  },
  {
   "cell_type": "code",
   "execution_count": null,
   "metadata": {
    "executionInfo": {
     "elapsed": 233,
     "status": "ok",
     "timestamp": 1684012653968,
     "user": {
      "displayName": "Ainara Montoya",
      "userId": "04156984210870783133"
     },
     "user_tz": -120
    },
    "id": "mL27Pg_p5xNZ"
   },
   "outputs": [],
   "source": [
    "def double_value(n):\n",
    "    n = n*2\n",
    "    return n"
   ]
  },
  {
   "cell_type": "code",
   "execution_count": null,
   "metadata": {
    "colab": {
     "base_uri": "https://localhost:8080/"
    },
    "executionInfo": {
     "elapsed": 227,
     "status": "ok",
     "timestamp": 1684012715469,
     "user": {
      "displayName": "Ainara Montoya",
      "userId": "04156984210870783133"
     },
     "user_tz": -120
    },
    "id": "pmw6xMZA52Xa",
    "outputId": "74b0f73a-3e66-4f37-808b-ed4b5c7ca824"
   },
   "outputs": [],
   "source": [
    "num = 5\n",
    "print(double_value(num))\n",
    "print(num)"
   ]
  },
  {
   "cell_type": "markdown",
   "metadata": {
    "id": "CO1OLE_U5_p7"
   },
   "source": [
    "Un ejemplo de paso por referencia sería"
   ]
  },
  {
   "cell_type": "code",
   "execution_count": null,
   "metadata": {
    "executionInfo": {
     "elapsed": 221,
     "status": "ok",
     "timestamp": 1684012851816,
     "user": {
      "displayName": "Ainara Montoya",
      "userId": "04156984210870783133"
     },
     "user_tz": -120
    },
    "id": "V8eGf2qD6B44"
   },
   "outputs": [],
   "source": [
    "def double_values(ns):\n",
    "  for i, n in enumerate(ns):\n",
    "    ns[i] *= 2\n",
    "\n",
    "  return ns"
   ]
  },
  {
   "cell_type": "code",
   "execution_count": null,
   "metadata": {
    "colab": {
     "base_uri": "https://localhost:8080/"
    },
    "executionInfo": {
     "elapsed": 259,
     "status": "ok",
     "timestamp": 1684012853678,
     "user": {
      "displayName": "Ainara Montoya",
      "userId": "04156984210870783133"
     },
     "user_tz": -120
    },
    "id": "WFuevE1T6beZ",
    "outputId": "6ce43fa9-4533-4fb3-b315-fceaf8cb201f"
   },
   "outputs": [],
   "source": [
    "nums = [1, 2, 3, 4, 5]\n",
    "print(double_values(nums))\n",
    "print(nums)"
   ]
  },
  {
   "cell_type": "markdown",
   "metadata": {
    "id": "6GVBQGcQ7oEq"
   },
   "source": [
    "Para evitar la modificación de la lista original, podemos hacerlo introduciendo por parámetro una copia de dicha lista"
   ]
  },
  {
   "cell_type": "code",
   "execution_count": null,
   "metadata": {
    "colab": {
     "base_uri": "https://localhost:8080/"
    },
    "executionInfo": {
     "elapsed": 251,
     "status": "ok",
     "timestamp": 1684012882253,
     "user": {
      "displayName": "Ainara Montoya",
      "userId": "04156984210870783133"
     },
     "user_tz": -120
    },
    "id": "MGOs-7Ul7nao",
    "outputId": "527afed3-f8fd-41c0-a6e9-cbcce1f620ab"
   },
   "outputs": [],
   "source": [
    "nums = [1, 2, 3, 4, 5]\n",
    "print(double_values(nums[:]))\n",
    "print(nums)"
   ]
  },
  {
   "cell_type": "markdown",
   "metadata": {
    "id": "vSHQn0k7iKek"
   },
   "source": [
    "## Funciones más complejas\n",
    "\n",
    "Las funciones pueden ser más completas, pues admiten tanto operadores de decisión como de iteración.\n",
    "\n",
    "Vamos a mejorar la función `euclidean_division()` para que:\n",
    "\n",
    "- Compruebe que los números introducidos son enteros. En caso de no ser así, indicar que se ha tomado la parte entera de los valores introducidos.\n",
    "- Realice la división entera del mayor parámetro (en valor absoluto) entre el menor parámetro. Esto es, si el usuario introduce `x = -2` e `y = -10`, como 10 > 2, entonces la función debe llevar a cabo la división entera de -10 entre -2.\n",
    "- Imprima por pantalla una frase indicando la división realizada y el cociente y el resto obtenidos.\n",
    "- Devuelva el cociente y el resto a modo de tupla\n"
   ]
  },
  {
   "cell_type": "code",
   "execution_count": null,
   "metadata": {
    "executionInfo": {
     "elapsed": 219,
     "status": "ok",
     "timestamp": 1684013054773,
     "user": {
      "displayName": "Ainara Montoya",
      "userId": "04156984210870783133"
     },
     "user_tz": -120
    },
    "id": "elF6Tw3wxcUu"
   },
   "outputs": [],
   "source": [
    "def euclidean_division(x, y):\n",
    "  ints = (x == int(x)) and (y == int(y))\n",
    "  \n",
    "  if not ints:\n",
    "    x = int(x)\n",
    "    y = int(y)\n",
    "    print(\"Se tomarán como parámetros la parte entera de los valores introducidos.\")\n",
    "  \n",
    "  if abs(x) >= abs(y):\n",
    "    q = x // y\n",
    "    r = x % y\n",
    "    print(\"Se ha realizado la división {} entre {} y se ha obtenido como cociente q = {} y como resto, r = {}\".format(x, y, q, r))\n",
    "\n",
    "  else:\n",
    "    q = y // x\n",
    "    r = y % x\n",
    "    print(\"Se ha realizado la división {} entre {} y se ha obtenido como cociente q = {} y como resto, r = {}\".format(y, x, q, r))\n",
    "\n",
    "\n",
    "  return q, r"
   ]
  },
  {
   "cell_type": "code",
   "execution_count": null,
   "metadata": {
    "colab": {
     "base_uri": "https://localhost:8080/"
    },
    "executionInfo": {
     "elapsed": 220,
     "status": "ok",
     "timestamp": 1684013465277,
     "user": {
      "displayName": "Ainara Montoya",
      "userId": "04156984210870783133"
     },
     "user_tz": -120
    },
    "id": "fMMpS6udxlO0",
    "outputId": "f403e26f-9d3e-4a98-8879-9c4e0dba6fa5"
   },
   "outputs": [],
   "source": [
    "quotient, remainder = euclidean_division(x = -10.3, y = -5)"
   ]
  },
  {
   "cell_type": "code",
   "execution_count": null,
   "metadata": {
    "colab": {
     "base_uri": "https://localhost:8080/"
    },
    "executionInfo": {
     "elapsed": 224,
     "status": "ok",
     "timestamp": 1684013573123,
     "user": {
      "displayName": "Ainara Montoya",
      "userId": "04156984210870783133"
     },
     "user_tz": -120
    },
    "id": "hDs_HqLVxlsW",
    "outputId": "5765b566-93e9-4061-f32c-9c4d2567a7be"
   },
   "outputs": [],
   "source": [
    "-10 == -5 * quotient + remainder"
   ]
  },
  {
   "cell_type": "code",
   "execution_count": null,
   "metadata": {
    "colab": {
     "base_uri": "https://localhost:8080/"
    },
    "executionInfo": {
     "elapsed": 249,
     "status": "ok",
     "timestamp": 1684013578514,
     "user": {
      "displayName": "Ainara Montoya",
      "userId": "04156984210870783133"
     },
     "user_tz": -120
    },
    "id": "0M9j4borzPTA",
    "outputId": "f0c3c17a-8370-4896-ec9b-f9c93d8c2924"
   },
   "outputs": [],
   "source": [
    "euclidean_division(x = -3, y = 19)"
   ]
  },
  {
   "cell_type": "markdown",
   "metadata": {
    "id": "UldoeHHuxVNs"
   },
   "source": [
    "---\n",
    "\n",
    "#### Ejemplo 5\n",
    "\n",
    "Veamos una función que dado un número, nos dice si éste es positivo, negativo o vale 0.\n"
   ]
  },
  {
   "cell_type": "code",
   "execution_count": null,
   "metadata": {
    "executionInfo": {
     "elapsed": 262,
     "status": "ok",
     "timestamp": 1684013616046,
     "user": {
      "displayName": "Ainara Montoya",
      "userId": "04156984210870783133"
     },
     "user_tz": -120
    },
    "id": "9PzQHbBSjehe"
   },
   "outputs": [],
   "source": [
    "def sign(num):\n",
    "  \"\"\"\n",
    "  Función que dado un número devuelve el signo positivo, \n",
    "  negativo o cero del mismo\n",
    "\n",
    "  Args:\n",
    "    num (int): número del cual queremos hallar su signo\n",
    "\n",
    "  Returns:\n",
    "    signo (string): string positivo, negativo o cero\n",
    "  \"\"\"\n",
    "  if num > 0:\n",
    "    return \"Positivo\"\n",
    "  elif num < 0:\n",
    "    return \"Negativo\"\n",
    "  else:\n",
    "    return \"Cero\""
   ]
  },
  {
   "cell_type": "code",
   "execution_count": null,
   "metadata": {
    "colab": {
     "base_uri": "https://localhost:8080/"
    },
    "executionInfo": {
     "elapsed": 280,
     "status": "ok",
     "timestamp": 1684013642324,
     "user": {
      "displayName": "Ainara Montoya",
      "userId": "04156984210870783133"
     },
     "user_tz": -120
    },
    "id": "3QnJ-7gJUOCw",
    "outputId": "c7d68e77-05c0-40d6-9496-a4501ce64386"
   },
   "outputs": [],
   "source": [
    "print(sign(num = 3.1415))"
   ]
  },
  {
   "cell_type": "code",
   "execution_count": null,
   "metadata": {
    "colab": {
     "base_uri": "https://localhost:8080/"
    },
    "executionInfo": {
     "elapsed": 237,
     "status": "ok",
     "timestamp": 1684013649006,
     "user": {
      "displayName": "Ainara Montoya",
      "userId": "04156984210870783133"
     },
     "user_tz": -120
    },
    "id": "x4VkYFXkUPsv",
    "outputId": "de10be04-ebeb-43d2-e399-eb9382ab5524"
   },
   "outputs": [],
   "source": [
    "print(sign(num = -100))"
   ]
  },
  {
   "cell_type": "code",
   "execution_count": null,
   "metadata": {
    "colab": {
     "base_uri": "https://localhost:8080/"
    },
    "executionInfo": {
     "elapsed": 237,
     "status": "ok",
     "timestamp": 1684013652577,
     "user": {
      "displayName": "Ainara Montoya",
      "userId": "04156984210870783133"
     },
     "user_tz": -120
    },
    "id": "7Rpv6NNGURKm",
    "outputId": "0cb96175-dab9-47b2-a427-78e49f54e6d8"
   },
   "outputs": [],
   "source": [
    "print(sign(num = 0))"
   ]
  },
  {
   "cell_type": "markdown",
   "metadata": {
    "id": "dgiLR9QQjwlu"
   },
   "source": [
    "---\n",
    "\n",
    "#### Ejemplo 6\n",
    "\n",
    "Veamos ahora una función que contiene un bucle `for` y que dado un número entero, nos imprime su tabla de multiplicar con sus 10 primeros múltiplos y nos devuelve una lista con todos esos múltiplos:"
   ]
  },
  {
   "cell_type": "code",
   "execution_count": null,
   "metadata": {
    "executionInfo": {
     "elapsed": 268,
     "status": "ok",
     "timestamp": 1684013748064,
     "user": {
      "displayName": "Ainara Montoya",
      "userId": "04156984210870783133"
     },
     "user_tz": -120
    },
    "id": "HBhmElsujqRQ"
   },
   "outputs": [],
   "source": [
    "def multiplication_table10(num):\n",
    "  \"\"\"\n",
    "  Dado un número entero, imprimimos su tabla de multiplicar con\n",
    "  los 10 primeros múltiplos y devolvemos una lista de los múltiplos. \n",
    "\n",
    "  Args:\n",
    "    num (int): valor del cual vamos a calcular sus tabla de multiplicar\n",
    "\n",
    "  Returns: \n",
    "    multiples (list): lista con los 10 primeros múltiplos de num\n",
    "  \"\"\"\n",
    "  multiples = []\n",
    "  print(\"La tabla de multiplicar del {}:\".format(num))\n",
    "  \n",
    "  for i in range(1, 11):\n",
    "    multiple = num * i\n",
    "    print(\"{} x {} = {}\".format(num, i, multiple))\n",
    "    multiples.append(multiple)\n",
    "  \n",
    "  return multiples"
   ]
  },
  {
   "cell_type": "code",
   "execution_count": null,
   "metadata": {
    "colab": {
     "base_uri": "https://localhost:8080/"
    },
    "executionInfo": {
     "elapsed": 230,
     "status": "ok",
     "timestamp": 1684013785597,
     "user": {
      "displayName": "Ainara Montoya",
      "userId": "04156984210870783133"
     },
     "user_tz": -120
    },
    "id": "efIribXxVJzL",
    "outputId": "8f3fb862-369e-4b20-c0f7-7c1e26f7db79"
   },
   "outputs": [],
   "source": [
    "multiples7 = multiplication_table10(num = 7)\n",
    "print(multiples7)"
   ]
  },
  {
   "cell_type": "markdown",
   "metadata": {
    "id": "O3pgpZRckezm"
   },
   "source": [
    "Vamos ahora a mejorar la función `multiplication_table10()` para que si el usuario decide introducir un número que no sea entero, nuestra función le avise y le explique el error que está cometiendo:"
   ]
  },
  {
   "cell_type": "code",
   "execution_count": null,
   "metadata": {
    "executionInfo": {
     "elapsed": 209,
     "status": "ok",
     "timestamp": 1684013813111,
     "user": {
      "displayName": "Ainara Montoya",
      "userId": "04156984210870783133"
     },
     "user_tz": -120
    },
    "id": "wAeuky2NkXOL"
   },
   "outputs": [],
   "source": [
    "def multiplication_table10(num):\n",
    "  \"\"\"\n",
    "  Dado un número entero, primero comprovamos si es entero. \n",
    "  Si no lo es, no devolvemos nada.\n",
    "  Si lo es, imprimimos su tabla de multiplicar con los 10 \n",
    "  primeros múltiplos y devolvemos una lista de los múltiplos. \n",
    "\n",
    "  Args:\n",
    "    num (int): valor del cual vamos a calcular sus 10 primeros múltiplos\n",
    "\n",
    "  Returns: \n",
    "    multiples (list): lista con los 10 primeros múltiplos de num\n",
    "  \"\"\"\n",
    "\n",
    "  if type(num) != type(1):\n",
    "    print(\"El número introducido no es entero\")\n",
    "    return\n",
    "\n",
    "  multiples = []\n",
    "  print(\"La tabla de multiplicar del {}:\".format(num))\n",
    "  \n",
    "  for i in range(1, 11):\n",
    "    multiple = num * i\n",
    "    print(\"{} x {} = {}\".format(num, i, multiple))\n",
    "    multiples.append(multiple)\n",
    "  \n",
    "  return multiples"
   ]
  },
  {
   "cell_type": "code",
   "execution_count": null,
   "metadata": {
    "colab": {
     "base_uri": "https://localhost:8080/"
    },
    "executionInfo": {
     "elapsed": 257,
     "status": "ok",
     "timestamp": 1684013849023,
     "user": {
      "displayName": "Ainara Montoya",
      "userId": "04156984210870783133"
     },
     "user_tz": -120
    },
    "id": "dgKYK1shmxgx",
    "outputId": "ba74e47b-061b-4616-83ba-1b1091e036d4"
   },
   "outputs": [],
   "source": [
    "multiples3 = multiplication_table10(num = 3)\n",
    "print(multiples3)"
   ]
  },
  {
   "cell_type": "code",
   "execution_count": null,
   "metadata": {
    "colab": {
     "base_uri": "https://localhost:8080/"
    },
    "executionInfo": {
     "elapsed": 222,
     "status": "ok",
     "timestamp": 1684013857594,
     "user": {
      "displayName": "Ainara Montoya",
      "userId": "04156984210870783133"
     },
     "user_tz": -120
    },
    "id": "Usl-Jxoimi0E",
    "outputId": "e1617bb0-6d02-48d1-cc7d-2e37de7f7a3e"
   },
   "outputs": [],
   "source": [
    "multiples_float = multiplication_table10(num = \"3.7\")\n",
    "print(multiples_float)"
   ]
  },
  {
   "cell_type": "markdown",
   "metadata": {
    "id": "KnXYBINqnG6S"
   },
   "source": [
    "---\n",
    "\n",
    "#### Ejemplo 7\n",
    "\n",
    "Creemos ahora una función que dada una frase acabada en punto, nos devuelva si contiene o no la letra \"a\" haciendo uso de un bucle `while`"
   ]
  },
  {
   "cell_type": "code",
   "execution_count": null,
   "metadata": {
    "executionInfo": {
     "elapsed": 238,
     "status": "ok",
     "timestamp": 1684013875364,
     "user": {
      "displayName": "Ainara Montoya",
      "userId": "04156984210870783133"
     },
     "user_tz": -120
    },
    "id": "rBy4w_xUm2ok"
   },
   "outputs": [],
   "source": [
    "def contains_a(sentence):\n",
    "  i = 0\n",
    "  while sentence[i] != \".\":\n",
    "    if sentence[i] == \"a\":\n",
    "      return True\n",
    "    i += 1\n",
    "  return False"
   ]
  },
  {
   "cell_type": "code",
   "execution_count": null,
   "metadata": {
    "colab": {
     "base_uri": "https://localhost:8080/"
    },
    "executionInfo": {
     "elapsed": 219,
     "status": "ok",
     "timestamp": 1684013893766,
     "user": {
      "displayName": "Ainara Montoya",
      "userId": "04156984210870783133"
     },
     "user_tz": -120
    },
    "id": "kFGPJgTKnfn5",
    "outputId": "c117ba27-c9d0-4e09-c713-e5527864c687"
   },
   "outputs": [],
   "source": [
    "contains_a(\"El erizo es bonito.\")"
   ]
  },
  {
   "cell_type": "code",
   "execution_count": null,
   "metadata": {
    "colab": {
     "base_uri": "https://localhost:8080/"
    },
    "executionInfo": {
     "elapsed": 212,
     "status": "ok",
     "timestamp": 1684013898453,
     "user": {
      "displayName": "Ainara Montoya",
      "userId": "04156984210870783133"
     },
     "user_tz": -120
    },
    "id": "DIftpZoCnje3",
    "outputId": "a1c07736-ab3f-44a5-a9bb-6a6b3e23c7ca"
   },
   "outputs": [],
   "source": [
    "contains_a(\"El elefante es gigante.\")"
   ]
  },
  {
   "cell_type": "markdown",
   "metadata": {
    "id": "c1AspPOInpbi"
   },
   "source": [
    "Generalizamos la función `contains_a()` a una función llamada contains_letter() que devuelva si una frase cualquiera (no necesariamente acabada en punto) contiene o no la letra indicada también por el usuario sin usar ningún método existente de `string`."
   ]
  },
  {
   "cell_type": "code",
   "execution_count": null,
   "metadata": {
    "colab": {
     "base_uri": "https://localhost:8080/"
    },
    "executionInfo": {
     "elapsed": 273,
     "status": "ok",
     "timestamp": 1684014100697,
     "user": {
      "displayName": "Ainara Montoya",
      "userId": "04156984210870783133"
     },
     "user_tz": -120
    },
    "id": "zYlnccPZnmWr",
    "outputId": "cab8e4af-637f-4a46-f5f3-a1d9a464ea73"
   },
   "outputs": [],
   "source": [
    "def contains_letter(sentence, letter):\n",
    "  for c in sentence:\n",
    "    if c == letter:\n",
    "      return True\n",
    "  return False\n",
    "\n",
    "contains_letter(\"Mi gato es muy cariñoso\", \"t\")"
   ]
  },
  {
   "cell_type": "markdown",
   "metadata": {
    "id": "8eeiieccoUs2"
   },
   "source": [
    "---\n",
    "\n"
   ]
  },
  {
   "cell_type": "markdown",
   "metadata": {
    "id": "P0oNlzpCFR3a"
   },
   "source": [
    "## Funciones recursivas\n",
    "\n",
    "**Función recursiva.** Es una función que se llama a sí misma.\n",
    "\n",
    "**¡Cuidado!** Hay que tener mucho cuidado con este tipo de funciones porque podemos caer en un bucle infinito. Es decir, que la función no acabara nunca de ejecutarse.\n",
    "\n",
    "Una función recursiva que entraría en bucle infinito sería la siguiente."
   ]
  },
  {
   "cell_type": "code",
   "execution_count": null,
   "metadata": {
    "executionInfo": {
     "elapsed": 228,
     "status": "ok",
     "timestamp": 1684014135691,
     "user": {
      "displayName": "Ainara Montoya",
      "userId": "04156984210870783133"
     },
     "user_tz": -120
    },
    "id": "Plx_wkdjoSiq"
   },
   "outputs": [],
   "source": [
    "def powers(x, n):\n",
    "  print(x ** n)\n",
    "  powers(x, n + 1)"
   ]
  },
  {
   "cell_type": "markdown",
   "metadata": {
    "id": "x17PU3Mmo0aC"
   },
   "source": [
    "¿Por qué decimos que entra en bulce infinito? Pues porque solo parará si nosotros interrumpimos la ejecución.\n",
    "\n",
    "Esto se debe a que no le hemos indicado un caso de parada a la función, denominado caso final.\n",
    "\n",
    "**Caso final.** Es el caso que indica cuándo debe romperse la recursión. Hay que indicarlo siempre para no caer en un bucle infinito.\n",
    "\n",
    "En el caso de la función `powers()`, podemos indicar como caso final cuando el valor resultante supere 1000000. Lo indicamos con un `if`"
   ]
  },
  {
   "cell_type": "code",
   "execution_count": null,
   "metadata": {
    "executionInfo": {
     "elapsed": 232,
     "status": "ok",
     "timestamp": 1684014181815,
     "user": {
      "displayName": "Ainara Montoya",
      "userId": "04156984210870783133"
     },
     "user_tz": -120
    },
    "id": "fE0oHkRxpHNF"
   },
   "outputs": [],
   "source": [
    "def powers(x, n):\n",
    "  if x ** n > 1000000:\n",
    "    return x ** n\n",
    "\n",
    "  print(x ** n)\n",
    "  powers(x, n + 1)"
   ]
  },
  {
   "cell_type": "code",
   "execution_count": null,
   "metadata": {
    "colab": {
     "base_uri": "https://localhost:8080/"
    },
    "executionInfo": {
     "elapsed": 249,
     "status": "ok",
     "timestamp": 1684014235377,
     "user": {
      "displayName": "Ainara Montoya",
      "userId": "04156984210870783133"
     },
     "user_tz": -120
    },
    "id": "1F67YP2sgwgO",
    "outputId": "cb01212c-2a16-4d66-afa1-2e38e6edb24a"
   },
   "outputs": [],
   "source": [
    "powers(2, 1)"
   ]
  },
  {
   "cell_type": "markdown",
   "metadata": {
    "id": "jSxRl_n5pj9z"
   },
   "source": [
    "---\n",
    "\n",
    "#### Ejemplo 8\n",
    "\n",
    "Veamos ahora un ejemplo clásico de función recursiva que funciona correctamente.\n",
    "\n",
    "Queremos una función que nos imprima el término $i$-ésimo de la sucesión de Fibonacci. Es decir, nosotros le indicamos el índice del término y la función nos devuelve el valor de dicho término.\n",
    "\n",
    "La sucesión de Fibonacci es\n",
    "\n",
    "$$1, 1, 2, 3, 5, 8, 13,\\dots$$\n",
    "\n",
    "Es decir, cada término se obtiene de la suma de los dos anteriores.\n",
    "\n",
    "$$F_0 = F_1 = 1$$\n",
    "$$F_n = F_{n-1} + F_{n-2}, n\\geq 2$$\n",
    "\n",
    "Con lo cual, la función que queremos y a la que hemos llamado `Fibonacci()` es:\n"
   ]
  },
  {
   "cell_type": "code",
   "execution_count": null,
   "metadata": {
    "executionInfo": {
     "elapsed": 234,
     "status": "ok",
     "timestamp": 1684014304226,
     "user": {
      "displayName": "Ainara Montoya",
      "userId": "04156984210870783133"
     },
     "user_tz": -120
    },
    "id": "xwIbeKmUqDvW"
   },
   "outputs": [],
   "source": [
    "def Fibonacci(index):\n",
    "  if index == 0 or index == 1:\n",
    "    return 1\n",
    "  \n",
    "  return Fibonacci(index - 1) + Fibonacci(index - 2) "
   ]
  },
  {
   "cell_type": "markdown",
   "metadata": {
    "id": "EdmRCbcFqjpH"
   },
   "source": [
    "Como veis, le hemos indicado a la función cuando parar. Esto es, el caso final resulta ser cuando el índice vale 0, pues no existen índices negativos."
   ]
  },
  {
   "cell_type": "code",
   "execution_count": null,
   "metadata": {
    "colab": {
     "base_uri": "https://localhost:8080/"
    },
    "executionInfo": {
     "elapsed": 2,
     "status": "ok",
     "timestamp": 1684014305458,
     "user": {
      "displayName": "Ainara Montoya",
      "userId": "04156984210870783133"
     },
     "user_tz": -120
    },
    "id": "FqCHxCfVqsxM",
    "outputId": "b7637e9c-8f33-40e6-bae3-3fefc6498f37"
   },
   "outputs": [],
   "source": [
    "Fibonacci(index = 7)"
   ]
  },
  {
   "cell_type": "code",
   "execution_count": null,
   "metadata": {
    "colab": {
     "base_uri": "https://localhost:8080/"
    },
    "executionInfo": {
     "elapsed": 228,
     "status": "ok",
     "timestamp": 1684014309562,
     "user": {
      "displayName": "Ainara Montoya",
      "userId": "04156984210870783133"
     },
     "user_tz": -120
    },
    "id": "KtkKo-9pjsjD",
    "outputId": "b6523982-434a-4825-e52b-564f27696d5f"
   },
   "outputs": [],
   "source": [
    "Fibonacci(8)"
   ]
  },
  {
   "cell_type": "code",
   "execution_count": null,
   "metadata": {
    "colab": {
     "base_uri": "https://localhost:8080/"
    },
    "executionInfo": {
     "elapsed": 608,
     "status": "ok",
     "timestamp": 1684014330405,
     "user": {
      "displayName": "Ainara Montoya",
      "userId": "04156984210870783133"
     },
     "user_tz": -120
    },
    "id": "U4H5L7lZjuq3",
    "outputId": "b627be0f-d7ba-4a0c-bc9b-4201c5e008ee"
   },
   "outputs": [],
   "source": [
    "Fibonacci(30)"
   ]
  },
  {
   "cell_type": "markdown",
   "metadata": {
    "id": "XAYyDkJ5q4Cg"
   },
   "source": [
    "---\n",
    "\n"
   ]
  },
  {
   "cell_type": "markdown",
   "metadata": {
    "id": "MYnhAmr6FfEN"
   },
   "source": [
    "## Funciones helper\n",
    "\n",
    "Al igual que las funciones pueden llamarse a sí mismas, también pueden llamar a otras funciones.\n",
    "\n",
    "**Función helper.** Es una función cuyo propósito es evitar la repetición de código.\n",
    "\n",
    "Si nos dan la siguiente función"
   ]
  },
  {
   "cell_type": "code",
   "execution_count": null,
   "metadata": {
    "executionInfo": {
     "elapsed": 244,
     "status": "ok",
     "timestamp": 1684014407615,
     "user": {
      "displayName": "Ainara Montoya",
      "userId": "04156984210870783133"
     },
     "user_tz": -120
    },
    "id": "sfKPqma1quEa"
   },
   "outputs": [],
   "source": [
    "def sign_sum(x, y):\n",
    "  if x + y > 0:\n",
    "    print(\"El resultado de sumar {} más {} es positivo\".format(x, y))\n",
    "  elif x + y == 0:\n",
    "    print(\"El resultado de sumar {} más {} es cero\".format(x, y))\n",
    "  else:\n",
    "    print(\"El resultado de sumar {} más {} es negativo\".format(x, y))"
   ]
  },
  {
   "cell_type": "code",
   "execution_count": null,
   "metadata": {
    "colab": {
     "base_uri": "https://localhost:8080/"
    },
    "executionInfo": {
     "elapsed": 326,
     "status": "ok",
     "timestamp": 1684014435940,
     "user": {
      "displayName": "Ainara Montoya",
      "userId": "04156984210870783133"
     },
     "user_tz": -120
    },
    "id": "phZKuwq_rywC",
    "outputId": "62a8b331-27e2-423d-9aa3-ac09c716a38b"
   },
   "outputs": [],
   "source": [
    "sign_sum(5, 4)\n",
    "sign_sum(3, -3)\n",
    "sign_sum(1, -8)"
   ]
  },
  {
   "cell_type": "markdown",
   "metadata": {
    "id": "kx3GlWT7rNcw"
   },
   "source": [
    "Vemos que el `print` se repite salvo por la última palabra.\n",
    "\n",
    "Podríamos pensar en crear la función helper siguiente:"
   ]
  },
  {
   "cell_type": "code",
   "execution_count": null,
   "metadata": {
    "executionInfo": {
     "elapsed": 228,
     "status": "ok",
     "timestamp": 1684014453935,
     "user": {
      "displayName": "Ainara Montoya",
      "userId": "04156984210870783133"
     },
     "user_tz": -120
    },
    "id": "TPFYDAbarS77"
   },
   "outputs": [],
   "source": [
    "def helper_print(x, y, sign):\n",
    "  print(\"El resultado de sumar {} más {} es {}.\".format(x, y, sign))"
   ]
  },
  {
   "cell_type": "markdown",
   "metadata": {
    "id": "7Owq3ZANrZCX"
   },
   "source": [
    "Si utilizamos la función helper, la función `sign_sum()` quedaría modificada del siguiente modo:"
   ]
  },
  {
   "cell_type": "code",
   "execution_count": null,
   "metadata": {
    "executionInfo": {
     "elapsed": 219,
     "status": "ok",
     "timestamp": 1684014465558,
     "user": {
      "displayName": "Ainara Montoya",
      "userId": "04156984210870783133"
     },
     "user_tz": -120
    },
    "id": "oeE2MImqrej7"
   },
   "outputs": [],
   "source": [
    "def sign_sum(x, y):\n",
    "  if x + y > 0:\n",
    "    helper_print(x, y, \"positivo\")\n",
    "  elif x + y == 0:\n",
    "    helper_print(x, y, \"cero\")\n",
    "  else:\n",
    "    helper_print(x, y, \"negativo\")"
   ]
  },
  {
   "cell_type": "code",
   "execution_count": null,
   "metadata": {
    "colab": {
     "base_uri": "https://localhost:8080/"
    },
    "executionInfo": {
     "elapsed": 253,
     "status": "ok",
     "timestamp": 1684014467222,
     "user": {
      "displayName": "Ainara Montoya",
      "userId": "04156984210870783133"
     },
     "user_tz": -120
    },
    "id": "hpqbKSx1sEqv",
    "outputId": "03e179ab-6a65-424a-82e7-107dbb4cb24c"
   },
   "outputs": [],
   "source": [
    "sign_sum(5, 4)\n",
    "sign_sum(3, -3)\n",
    "sign_sum(1, -8)"
   ]
  }
 ],
 "metadata": {
  "colab": {
   "provenance": [],
   "toc_visible": true
  },
  "kernelspec": {
   "display_name": "Python 3 (ipykernel)",
   "language": "python",
   "name": "python3"
  },
  "language_info": {
   "codemirror_mode": {
    "name": "ipython",
    "version": 3
   },
   "file_extension": ".py",
   "mimetype": "text/x-python",
   "name": "python",
   "nbconvert_exporter": "python",
   "pygments_lexer": "ipython3",
   "version": "3.10.9"
  }
 },
 "nbformat": 4,
 "nbformat_minor": 1
}

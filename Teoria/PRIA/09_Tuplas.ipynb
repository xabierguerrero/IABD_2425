{
 "cells": [
  {
   "cell_type": "markdown",
   "metadata": {
    "id": "9SnH_Gggm6nf"
   },
   "source": [
    "# Estructuras de datos: Tuplas\n",
    "\n"
   ]
  },
  {
   "cell_type": "markdown",
   "metadata": {
    "id": "cWDNHdldE1mn"
   },
   "source": [
    "## Tupla\n",
    "\n",
    "La última estructura que veremos son las tuplas. Éstas son un conjunto de elementos, que pueden ser de distintos tipos, separados por comas y escritos entre paréntesis, `()`.\n",
    "\n",
    "Las tuplas son:\n",
    "- hetereogéneas: los elementos pueden ser de distinto tipo en una misma tupla\n",
    "- no mutables: los elementos no pueden ser modifcados una vez la tupla ha sido creada\n",
    "\n",
    "Un ejemplo de tupla sería"
   ]
  },
  {
   "cell_type": "code",
   "execution_count": 11,
   "metadata": {
    "colab": {
     "base_uri": "https://localhost:8080/"
    },
    "executionInfo": {
     "elapsed": 245,
     "status": "ok",
     "timestamp": 1684009058063,
     "user": {
      "displayName": "Ainara Montoya",
      "userId": "04156984210870783133"
     },
     "user_tz": -120
    },
    "id": "ZBKXsn2jm4lc",
    "outputId": "a3e86453-8e87-4a77-f7c7-91b8f7d937f6"
   },
   "outputs": [
    {
     "name": "stdout",
     "output_type": "stream",
     "text": [
      "('Ainhoa', 32, 'profesor', True)\n"
     ]
    }
   ],
   "source": [
    "t = (\"Ainhoa\", 32, \"profesor\", True)\n",
    "print(t)"
   ]
  },
  {
   "cell_type": "markdown",
   "metadata": {
    "id": "azkG1SyH1qFd"
   },
   "source": [
    "Podemos declarar una tupla sin necesidad indicar sus elementos entre paréntesis"
   ]
  },
  {
   "cell_type": "code",
   "execution_count": 12,
   "metadata": {
    "colab": {
     "base_uri": "https://localhost:8080/"
    },
    "executionInfo": {
     "elapsed": 8,
     "status": "ok",
     "timestamp": 1684009058325,
     "user": {
      "displayName": "Ainara Montoya",
      "userId": "04156984210870783133"
     },
     "user_tz": -120
    },
    "id": "EgV8V1qPoKHH",
    "outputId": "1df3cc9d-4e4b-43cd-a96d-1a3c6b319050"
   },
   "outputs": [
    {
     "data": {
      "text/plain": [
       "tuple"
      ]
     },
     "execution_count": 12,
     "metadata": {},
     "output_type": "execute_result"
    }
   ],
   "source": [
    "t = \"Juan\", 32, \"profesor\", True\n",
    "type(t)"
   ]
  },
  {
   "cell_type": "markdown",
   "metadata": {
    "id": "jHF7FBD45Mnj"
   },
   "source": [
    "Podemos declarar tuplas con la función `tuple()`"
   ]
  },
  {
   "cell_type": "code",
   "execution_count": 13,
   "metadata": {
    "colab": {
     "base_uri": "https://localhost:8080/"
    },
    "executionInfo": {
     "elapsed": 7,
     "status": "ok",
     "timestamp": 1684009058325,
     "user": {
      "displayName": "Ainara Montoya",
      "userId": "04156984210870783133"
     },
     "user_tz": -120
    },
    "id": "Ypkw8_2m5Qz8",
    "outputId": "5b0dbc35-223e-402d-b4c2-cd3c9dd8bb69"
   },
   "outputs": [
    {
     "data": {
      "text/plain": [
       "tuple"
      ]
     },
     "execution_count": 13,
     "metadata": {},
     "output_type": "execute_result"
    }
   ],
   "source": [
    "t = tuple((\"Juan\", 32, \"profesor\", True))\n",
    "type(t)"
   ]
  },
  {
   "cell_type": "code",
   "execution_count": 14,
   "metadata": {
    "colab": {
     "base_uri": "https://localhost:8080/"
    },
    "executionInfo": {
     "elapsed": 6,
     "status": "ok",
     "timestamp": 1684009058326,
     "user": {
      "displayName": "Ainara Montoya",
      "userId": "04156984210870783133"
     },
     "user_tz": -120
    },
    "id": "jVGmsMefQCnX",
    "outputId": "43a4fc92-5538-4928-ce67-c369e3a76920"
   },
   "outputs": [
    {
     "data": {
      "text/plain": [
       "(1, 2, 3)"
      ]
     },
     "execution_count": 14,
     "metadata": {},
     "output_type": "execute_result"
    }
   ],
   "source": [
    "tuple([1,2,3])"
   ]
  },
  {
   "cell_type": "markdown",
   "metadata": {
    "id": "0jvzP1CX4EUV"
   },
   "source": [
    "### Elementos de una tupla\n",
    "\n",
    "Podemos acceder a los elementos de una tupla mediante el índice que ocupan con la sintaxis de corchetes, `[]`"
   ]
  },
  {
   "cell_type": "code",
   "execution_count": 15,
   "metadata": {
    "colab": {
     "base_uri": "https://localhost:8080/"
    },
    "executionInfo": {
     "elapsed": 4,
     "status": "ok",
     "timestamp": 1684009058326,
     "user": {
      "displayName": "Ainara Montoya",
      "userId": "04156984210870783133"
     },
     "user_tz": -120
    },
    "id": "mkzAeYog4ekW",
    "outputId": "e52f939f-4dfc-4136-922a-bc8da71accd9"
   },
   "outputs": [
    {
     "name": "stdout",
     "output_type": "stream",
     "text": [
      "1\n",
      "i\n"
     ]
    }
   ],
   "source": [
    "t = 1, \"a\", 2, \"e\", 3, \"i\", 4, \"o\", 5, \"u\"\n",
    "print(t[0])\n",
    "print(t[5])"
   ]
  },
  {
   "cell_type": "markdown",
   "metadata": {
    "id": "ggFp7EkM5gay"
   },
   "source": [
    "Al igual que con las listas, podemos acceder a los elementos de tuplas mediante el uso de índices negativos"
   ]
  },
  {
   "cell_type": "code",
   "execution_count": 16,
   "metadata": {
    "colab": {
     "base_uri": "https://localhost:8080/"
    },
    "executionInfo": {
     "elapsed": 279,
     "status": "ok",
     "timestamp": 1684009058602,
     "user": {
      "displayName": "Ainara Montoya",
      "userId": "04156984210870783133"
     },
     "user_tz": -120
    },
    "id": "AtJuXqs_5rYs",
    "outputId": "a8b77700-77e8-4857-a286-66af6804ed7b"
   },
   "outputs": [
    {
     "name": "stdout",
     "output_type": "stream",
     "text": [
      "u\n",
      "4\n"
     ]
    }
   ],
   "source": [
    "print(t[-1])\n",
    "print(t[-4])"
   ]
  },
  {
   "cell_type": "markdown",
   "metadata": {
    "id": "7FYPM_Ql5mmF"
   },
   "source": [
    "Para acceder a múltiples entradas de una tupla a la vez, podemos utilizar la función `:` para indicar un intervalo de índices."
   ]
  },
  {
   "cell_type": "code",
   "execution_count": 17,
   "metadata": {
    "colab": {
     "base_uri": "https://localhost:8080/"
    },
    "executionInfo": {
     "elapsed": 14,
     "status": "ok",
     "timestamp": 1684009058602,
     "user": {
      "displayName": "Ainara Montoya",
      "userId": "04156984210870783133"
     },
     "user_tz": -120
    },
    "id": "lCEajhNu56Wj",
    "outputId": "520de5a7-125e-4195-bb5e-17c575921354"
   },
   "outputs": [
    {
     "name": "stdout",
     "output_type": "stream",
     "text": [
      "(2, 'e', 3, 'i')\n",
      "(1, 'a', 2, 'e', 3)\n",
      "('i', 4, 'o', 5, 'u')\n"
     ]
    }
   ],
   "source": [
    "print(t[2:6])\n",
    "print(t[:5])\n",
    "print(t[5:])"
   ]
  },
  {
   "cell_type": "markdown",
   "metadata": {
    "id": "HOdamNux6CxX"
   },
   "source": [
    "**Observación.** Recordad que \n",
    "- el índice indicado tras los dos puntos, `:`, nunca es incluido.\n",
    "- si no se indica índice a la izquierda de `:`, se considera desde el índice 0 hasta el inmediatamente anterior al indicado a la derecha de `:`\n",
    "- si no se indica índice a la derecha de `:`, se considera desde el índice indicado a la izquierda de `:` hasta el último elemento\n",
    "\n",
    "También podemos usar índices negativos con la función `:`"
   ]
  },
  {
   "cell_type": "code",
   "execution_count": 18,
   "metadata": {
    "colab": {
     "base_uri": "https://localhost:8080/"
    },
    "executionInfo": {
     "elapsed": 13,
     "status": "ok",
     "timestamp": 1684009058603,
     "user": {
      "displayName": "Ainara Montoya",
      "userId": "04156984210870783133"
     },
     "user_tz": -120
    },
    "id": "tGJbYNaj6yXv",
    "outputId": "9e5900a6-3622-4709-8790-66a1b7fa9afd"
   },
   "outputs": [
    {
     "name": "stdout",
     "output_type": "stream",
     "text": [
      "('i', 4, 'o', 5)\n"
     ]
    }
   ],
   "source": [
    "print(t[-5:-1])"
   ]
  },
  {
   "cell_type": "markdown",
   "metadata": {
    "id": "82ADCwpQ63OZ"
   },
   "source": [
    "Para saber si un elemento pertenece a una tupla, podemos usar la palabra clave `in`"
   ]
  },
  {
   "cell_type": "code",
   "execution_count": 19,
   "metadata": {
    "colab": {
     "base_uri": "https://localhost:8080/"
    },
    "executionInfo": {
     "elapsed": 12,
     "status": "ok",
     "timestamp": 1684009058603,
     "user": {
      "displayName": "Ainara Montoya",
      "userId": "04156984210870783133"
     },
     "user_tz": -120
    },
    "id": "s3aL1WAE6-Hb",
    "outputId": "b95d1991-34c8-496b-9d25-b27d40ef6f95"
   },
   "outputs": [
    {
     "name": "stdout",
     "output_type": "stream",
     "text": [
      "False\n",
      "True\n"
     ]
    }
   ],
   "source": [
    "print(6 in t)\n",
    "print(\"i\" in t)"
   ]
  },
  {
   "cell_type": "markdown",
   "metadata": {
    "id": "RHgvwsEo68Dn"
   },
   "source": [
    "Las tuplas son inmutables, es decir, una vez creada la tupla, sus elementos no pueden ser modificados"
   ]
  },
  {
   "cell_type": "code",
   "execution_count": 20,
   "metadata": {
    "colab": {
     "base_uri": "https://localhost:8080/",
     "height": 187
    },
    "executionInfo": {
     "elapsed": 10,
     "status": "error",
     "timestamp": 1684009058603,
     "user": {
      "displayName": "Ainara Montoya",
      "userId": "04156984210870783133"
     },
     "user_tz": -120
    },
    "id": "ige9huaW7TGm",
    "outputId": "232c13cb-5b51-4e57-afdc-68a800af95dc"
   },
   "outputs": [
    {
     "ename": "TypeError",
     "evalue": "'tuple' object does not support item assignment",
     "output_type": "error",
     "traceback": [
      "\u001b[0;31m---------------------------------------------------------------------------\u001b[0m",
      "\u001b[0;31mTypeError\u001b[0m                                 Traceback (most recent call last)",
      "Cell \u001b[0;32mIn[20], line 2\u001b[0m\n\u001b[1;32m      1\u001b[0m t \u001b[38;5;241m=\u001b[39m \u001b[38;5;124m\"\u001b[39m\u001b[38;5;124mCereza\u001b[39m\u001b[38;5;124m\"\u001b[39m, \u001b[38;5;124m\"\u001b[39m\u001b[38;5;124mManzana\u001b[39m\u001b[38;5;124m\"\u001b[39m, \u001b[38;5;124m\"\u001b[39m\u001b[38;5;124mPera\u001b[39m\u001b[38;5;124m\"\u001b[39m\n\u001b[0;32m----> 2\u001b[0m t[\u001b[38;5;241m1\u001b[39m] \u001b[38;5;241m=\u001b[39m \u001b[38;5;124m\"\u001b[39m\u001b[38;5;124mKiwi\u001b[39m\u001b[38;5;124m\"\u001b[39m\n",
      "\u001b[0;31mTypeError\u001b[0m: 'tuple' object does not support item assignment"
     ]
    }
   ],
   "source": [
    "t = \"Cereza\", \"Manzana\", \"Pera\"\n",
    "t[1] = \"Kiwi\""
   ]
  },
  {
   "cell_type": "markdown",
   "metadata": {
    "id": "AsDSgoMX7jnB"
   },
   "source": [
    "Una alternativa sería convertir a lista, realizar la modificación y reconvertir a tupla"
   ]
  },
  {
   "cell_type": "code",
   "execution_count": null,
   "metadata": {
    "colab": {
     "base_uri": "https://localhost:8080/"
    },
    "executionInfo": {
     "elapsed": 282,
     "status": "ok",
     "timestamp": 1684009171760,
     "user": {
      "displayName": "Ainara Montoya",
      "userId": "04156984210870783133"
     },
     "user_tz": -120
    },
    "id": "w-NmjgTQ7pul",
    "outputId": "d87b4bcc-af27-4e3a-83fd-878ba91641cd"
   },
   "outputs": [],
   "source": [
    "t = \"Cereza\", \"Manzana\", \"Pera\"\n",
    "t = list(t)\n",
    "t[1] = \"Kiwi\"\n",
    "t = tuple(t)\n",
    "\n",
    "print(t)\n",
    "print(type(t))"
   ]
  },
  {
   "cell_type": "markdown",
   "metadata": {
    "id": "RvLRzO0k8FM4"
   },
   "source": [
    "## El método de unpacking \n",
    "\n",
    "Podemos extraer los valores de una tupla en variables. Este proceso es conocido como **unpacking**"
   ]
  },
  {
   "cell_type": "code",
   "execution_count": null,
   "metadata": {
    "colab": {
     "base_uri": "https://localhost:8080/"
    },
    "executionInfo": {
     "elapsed": 268,
     "status": "ok",
     "timestamp": 1684009075796,
     "user": {
      "displayName": "Ainara Montoya",
      "userId": "04156984210870783133"
     },
     "user_tz": -120
    },
    "id": "hNUEnm4g8K-T",
    "outputId": "fbecbde5-3ffd-4b60-9bf9-433a10b8f238"
   },
   "outputs": [],
   "source": [
    "fruits = \"Cereza\", \"Kiwi\", \"Pera\", \"Naranja\"\n",
    "print(type(fruits))\n",
    "\n",
    "# Con paréntesis\n",
    "(fruit1, fruit2, fruit3, fruit4) = fruits\n",
    "\n",
    "print(fruit1)\n",
    "print(fruit2)\n",
    "print(fruit3)\n",
    "print(fruit4)"
   ]
  },
  {
   "cell_type": "markdown",
   "metadata": {
    "id": "8mEHQ88_-lvP"
   },
   "source": [
    "Funciona igual si no declaramos las variables entre paréntesis."
   ]
  },
  {
   "cell_type": "code",
   "execution_count": null,
   "metadata": {
    "colab": {
     "base_uri": "https://localhost:8080/"
    },
    "executionInfo": {
     "elapsed": 217,
     "status": "ok",
     "timestamp": 1684009208527,
     "user": {
      "displayName": "Ainara Montoya",
      "userId": "04156984210870783133"
     },
     "user_tz": -120
    },
    "id": "AfpWQF6e-fn3",
    "outputId": "82931dcd-f50a-495e-db2f-cf7ec428f434"
   },
   "outputs": [],
   "source": [
    "fruits = \"Cereza\", \"Kiwi\", \"Pera\", \"Naranja\"\n",
    "print(type(fruits))\n",
    "\n",
    "# Sin paréntesis\n",
    "fruit1, fruit2, fruit3, fruit4 = fruits\n",
    "\n",
    "print(fruit1)\n",
    "print(fruit2)\n",
    "print(fruit3)\n",
    "print(fruit4)"
   ]
  },
  {
   "cell_type": "markdown",
   "metadata": {
    "id": "52_BTYnF8jMd"
   },
   "source": [
    "**¡Cuidado!** El número de variables debe coincidir con el número de elementos de la tupla. De lo contrario, debe usarse un asterisco para guardar los elementos restantes en una lista."
   ]
  },
  {
   "cell_type": "code",
   "execution_count": null,
   "metadata": {
    "colab": {
     "base_uri": "https://localhost:8080/"
    },
    "executionInfo": {
     "elapsed": 249,
     "status": "ok",
     "timestamp": 1684009225473,
     "user": {
      "displayName": "Ainara Montoya",
      "userId": "04156984210870783133"
     },
     "user_tz": -120
    },
    "id": "VowWDVPC8ie9",
    "outputId": "8cfd4d84-9853-4ed7-e92a-4699849ef37c"
   },
   "outputs": [],
   "source": [
    "fruits = \"Cereza\", \"Kiwi\", \"Pera\", \"Naranja\"\n",
    "\n",
    "(fruit1, fruit2, *restFruits) = fruits\n",
    "\n",
    "print(fruit1)\n",
    "print(fruit2)\n",
    "print(restFruits)\n",
    "print(type(restFruits))"
   ]
  },
  {
   "cell_type": "markdown",
   "metadata": {
    "id": "ZuwLwYvD9HSO"
   },
   "source": [
    "**Observación.** Si el asterisco es añadido en alguna variable que no sea la última, `Python` almacenará tantos elementos en la lista como sea necesario para que el número de elementos restantes coincida con el número de variables restantes."
   ]
  },
  {
   "cell_type": "code",
   "execution_count": null,
   "metadata": {
    "colab": {
     "base_uri": "https://localhost:8080/"
    },
    "executionInfo": {
     "elapsed": 276,
     "status": "ok",
     "timestamp": 1684009260977,
     "user": {
      "displayName": "Ainara Montoya",
      "userId": "04156984210870783133"
     },
     "user_tz": -120
    },
    "id": "Ne3NaA4t9U6f",
    "outputId": "74b303e6-b41d-4dc0-fdf3-566743dc1227"
   },
   "outputs": [],
   "source": [
    "fruits = \"Cereza\", \"Kiwi\", \"Pera\", \"Naranja\", \"Melocotón\", \"Sandía\", \"Melón\"\n",
    "\n",
    "(fruit1, *restFruits, fruit2, fruit3) = fruits\n",
    "\n",
    "print(fruit1)\n",
    "print(restFruits)\n",
    "print(fruit2)\n",
    "print(fruit3)"
   ]
  },
  {
   "cell_type": "code",
   "execution_count": null,
   "metadata": {
    "colab": {
     "base_uri": "https://localhost:8080/"
    },
    "executionInfo": {
     "elapsed": 216,
     "status": "ok",
     "timestamp": 1684009281480,
     "user": {
      "displayName": "Ainara Montoya",
      "userId": "04156984210870783133"
     },
     "user_tz": -120
    },
    "id": "KqRXtbsIUhXf",
    "outputId": "4f9caecf-7d0c-479a-a848-9a77252922e9"
   },
   "outputs": [],
   "source": [
    "punto = (1, 2, 3)\n",
    "x, _, z = punto\n",
    "print(x + z)"
   ]
  },
  {
   "cell_type": "code",
   "execution_count": null,
   "metadata": {
    "colab": {
     "base_uri": "https://localhost:8080/"
    },
    "executionInfo": {
     "elapsed": 284,
     "status": "ok",
     "timestamp": 1684009285776,
     "user": {
      "displayName": "Ainara Montoya",
      "userId": "04156984210870783133"
     },
     "user_tz": -120
    },
    "id": "2lXnVnBrU_U_",
    "outputId": "c8765f60-52e3-4d4f-d326-2e0a894e55de"
   },
   "outputs": [],
   "source": [
    "fruits = \"Cereza\", \"Kiwi\", \"Pera\", \"Naranja\", \"Melocotón\", \"Sandía\", \"Melón\"\n",
    "\n",
    "(fruit1, *_, fruit2, fruit3) = fruits\n",
    "\n",
    "print(fruit1)\n",
    "print(fruit2)\n",
    "print(fruit3)"
   ]
  },
  {
   "cell_type": "markdown",
   "metadata": {
    "id": "hOoD2y0A2AWJ"
   },
   "source": [
    "## Concatenación de tuplas\n",
    "\n",
    "Podemos concatenar tuplas con la función `+`, aunque el resultado será una nueva tupla, ya que recordemos éstas no pueden ser modificadas"
   ]
  },
  {
   "cell_type": "code",
   "execution_count": null,
   "metadata": {
    "colab": {
     "base_uri": "https://localhost:8080/"
    },
    "executionInfo": {
     "elapsed": 281,
     "status": "ok",
     "timestamp": 1684009325389,
     "user": {
      "displayName": "Ainara Montoya",
      "userId": "04156984210870783133"
     },
     "user_tz": -120
    },
    "id": "eJ9czwEz2PEt",
    "outputId": "558ecbbc-d6e4-4dbd-a101-ad9a5223f7f3"
   },
   "outputs": [],
   "source": [
    "t1 = 1, 3\n",
    "t2 = 2, 4\n",
    "\n",
    "t1 + t2"
   ]
  },
  {
   "cell_type": "markdown",
   "metadata": {
    "id": "t5r86inx_QYN"
   },
   "source": [
    "## Repetición de tuplas\n",
    "\n",
    "Podemos repetir tuplas un número $n$ de veces con la función `*`"
   ]
  },
  {
   "cell_type": "code",
   "execution_count": null,
   "metadata": {
    "colab": {
     "base_uri": "https://localhost:8080/"
    },
    "executionInfo": {
     "elapsed": 258,
     "status": "ok",
     "timestamp": 1684009330782,
     "user": {
      "displayName": "Ainara Montoya",
      "userId": "04156984210870783133"
     },
     "user_tz": -120
    },
    "id": "Zyxm0I7R_Vkm",
    "outputId": "d5d05725-3369-4a72-9fd8-eefcb8128bec"
   },
   "outputs": [],
   "source": [
    "t = (\"a\", \"b\", \"c\")\n",
    "t * 5"
   ]
  },
  {
   "cell_type": "markdown",
   "metadata": {
    "id": "8cVAvhtB12vG"
   },
   "source": [
    "## Tamaño de una tupla\n",
    "\n",
    "Podemos calcular el número de elementos de una tupla con la función `len()`"
   ]
  },
  {
   "cell_type": "code",
   "execution_count": null,
   "metadata": {
    "colab": {
     "base_uri": "https://localhost:8080/"
    },
    "executionInfo": {
     "elapsed": 242,
     "status": "ok",
     "timestamp": 1684009346549,
     "user": {
      "displayName": "Ainara Montoya",
      "userId": "04156984210870783133"
     },
     "user_tz": -120
    },
    "id": "wfRHI-wP10Hi",
    "outputId": "c948bcb2-1194-45ee-a9ed-27f9b7fe303a"
   },
   "outputs": [],
   "source": [
    "t = \"Xabier\", 32, \"profesor\", True\n",
    "len(t)"
   ]
  },
  {
   "cell_type": "markdown",
   "metadata": {
    "id": "fGBWU-nY4x9s"
   },
   "source": [
    "**¡Cuidado!** Si quisiésemos crear una tupla de un solo elemento, tendríamos que hacer lo siguiente"
   ]
  },
  {
   "cell_type": "code",
   "execution_count": null,
   "metadata": {
    "colab": {
     "base_uri": "https://localhost:8080/"
    },
    "executionInfo": {
     "elapsed": 251,
     "status": "ok",
     "timestamp": 1684009362985,
     "user": {
      "displayName": "Ainara Montoya",
      "userId": "04156984210870783133"
     },
     "user_tz": -120
    },
    "id": "6Qf9hv-V1-UQ",
    "outputId": "c737d83a-ee43-4568-9f1c-33934ddbbe23"
   },
   "outputs": [],
   "source": [
    "t1 = (\"manzana\", )\n",
    "print(type(t1))\n",
    "\n",
    "# Lo siguiente no es una tupla\n",
    "t2 = (\"manzana\")\n",
    "print(type(t2))"
   ]
  },
  {
   "cell_type": "markdown",
   "metadata": {
    "id": "Jgmm54cF9nfa"
   },
   "source": [
    "## Bucles y tuplas\n",
    "\n",
    "Podemos iterar una tupla utilizando un bucle `for`\n",
    "\n"
   ]
  },
  {
   "cell_type": "code",
   "execution_count": null,
   "metadata": {
    "colab": {
     "base_uri": "https://localhost:8080/"
    },
    "executionInfo": {
     "elapsed": 218,
     "status": "ok",
     "timestamp": 1684009390818,
     "user": {
      "displayName": "Ainara Montoya",
      "userId": "04156984210870783133"
     },
     "user_tz": -120
    },
    "id": "bDuaGS9q5Fdn",
    "outputId": "6db380c0-799c-4d52-ae0c-53cf16b7d44d"
   },
   "outputs": [],
   "source": [
    "fruits = \"Cereza\", \"Kiwi\", \"Pera\", \"Naranja\", \"Melocotón\", \"Sandía\", \"Melón\"\n",
    "\n",
    "for fruit in fruits:\n",
    "  print(fruit)"
   ]
  },
  {
   "cell_type": "markdown",
   "metadata": {
    "id": "C7PDctpj-ARY"
   },
   "source": [
    "También podemos usar la técnica de unpacking en los bucles"
   ]
  },
  {
   "cell_type": "code",
   "execution_count": null,
   "metadata": {
    "colab": {
     "base_uri": "https://localhost:8080/"
    },
    "executionInfo": {
     "elapsed": 227,
     "status": "ok",
     "timestamp": 1684009500410,
     "user": {
      "displayName": "Ainara Montoya",
      "userId": "04156984210870783133"
     },
     "user_tz": -120
    },
    "id": "T2om7z4W-EZe",
    "outputId": "a6aaac9c-8eb3-4da7-d9c4-cd9d5da9897a"
   },
   "outputs": [],
   "source": [
    "t = (\"cereza\", \"roja\"), (\"kiwi\", \"amarillo\"), (\"pera\", \"verde\"), (\"naranja\", \"naranja\")\n",
    "\n",
    "for fruit, color in t:\n",
    "  if fruit == \"kiwi\":\n",
    "    print(\"El color del\", fruit, \"es\", color)\n",
    "  else:\n",
    "    print(\"La {} es {}\".format(fruit, color))\n",
    "  "
   ]
  },
  {
   "cell_type": "markdown",
   "metadata": {
    "id": "n07EGY5C_otr"
   },
   "source": [
    "## Tuplas y el resto de estructuras de datos\n",
    "\n",
    "Una tupla puede contener listas, diccionarios, conjuntos y tuplas"
   ]
  },
  {
   "cell_type": "code",
   "execution_count": null,
   "metadata": {
    "colab": {
     "base_uri": "https://localhost:8080/"
    },
    "executionInfo": {
     "elapsed": 3,
     "status": "ok",
     "timestamp": 1684009545547,
     "user": {
      "displayName": "Ainara Montoya",
      "userId": "04156984210870783133"
     },
     "user_tz": -120
    },
    "id": "Bm2ldHvo_wXq",
    "outputId": "3ff5a514-0553-40de-a175-808aa42a5fdf"
   },
   "outputs": [],
   "source": [
    "t = [4, 5, 6], {\"vowels\": (\"a\", \"e\", \"i\", \"o\", \"u\")}, {1, 2, 3}, (\"x\", \"y\")\n",
    "type(t)"
   ]
  },
  {
   "cell_type": "markdown",
   "metadata": {
    "id": "c3H2B1mrACa8"
   },
   "source": [
    "Asimismo, \n",
    "\n",
    "- las listas pueden contener diccionarios, conjuntos, tuplas y otras listas\n",
    "- los diccionarios pueden contener listas, conjuntos, tuplas y otros diccionarios\n",
    "- los conjuntos no pueden contener ni listas, ni diccionarios, ni tuplas, ni siquiera otros conjuntos"
   ]
  },
  {
   "cell_type": "code",
   "execution_count": null,
   "metadata": {
    "colab": {
     "base_uri": "https://localhost:8080/"
    },
    "executionInfo": {
     "elapsed": 244,
     "status": "ok",
     "timestamp": 1684009589245,
     "user": {
      "displayName": "Ainara Montoya",
      "userId": "04156984210870783133"
     },
     "user_tz": -120
    },
    "id": "-cUGb42k_8M6",
    "outputId": "f4db5e2a-6161-4745-dcb5-9227a53fb2d5"
   },
   "outputs": [],
   "source": [
    "l = [{\"vowels\": (\"a\", \"e\", \"i\", \"o\", \"u\")}, {1, 2, 3}, (\"x\", \"y\"), [4, 5, 6]]\n",
    "type(l)"
   ]
  },
  {
   "cell_type": "code",
   "execution_count": null,
   "metadata": {
    "colab": {
     "base_uri": "https://localhost:8080/"
    },
    "executionInfo": {
     "elapsed": 250,
     "status": "ok",
     "timestamp": 1684009854417,
     "user": {
      "displayName": "Ainara Montoya",
      "userId": "04156984210870783133"
     },
     "user_tz": -120
    },
    "id": "IaG9qvw6AhLN",
    "outputId": "9f30db98-ec34-4f7b-e4af-36eaa04fd3bf"
   },
   "outputs": [],
   "source": [
    "dicc = {\"list\": [4, 5, 6], \"set\": {1, 2, 3}, \"tuple\": (\"x\", \"y\"), \"dict\": {\"vowels\": (\"a\", \"e\", \"i\", \"o\", \"u\")}}\n",
    "type(dicc)"
   ]
  },
  {
   "cell_type": "code",
   "execution_count": null,
   "metadata": {
    "colab": {
     "base_uri": "https://localhost:8080/",
     "height": 169
    },
    "executionInfo": {
     "elapsed": 230,
     "status": "error",
     "timestamp": 1684010221123,
     "user": {
      "displayName": "Ainara Montoya",
      "userId": "04156984210870783133"
     },
     "user_tz": -120
    },
    "id": "jhFHtaK3ApJj",
    "outputId": "cb7620b9-0d26-43d6-f721-46e1d65e70b2"
   },
   "outputs": [],
   "source": [
    "set1 = {[4, 5, 6], {\"vowels\": (\"a\", \"e\", \"i\", \"o\", \"u\")}, (\"x\", \"y\"), {1, 2, 3}}"
   ]
  },
  {
   "cell_type": "markdown",
   "metadata": {
    "id": "-XbkR_4FCCxL"
   },
   "source": [
    "Dado cualquier objeto iterable en `Python`, lo podemos convertir a tupla con la función `tuple()`"
   ]
  },
  {
   "cell_type": "code",
   "execution_count": null,
   "metadata": {
    "colab": {
     "base_uri": "https://localhost:8080/"
    },
    "executionInfo": {
     "elapsed": 241,
     "status": "ok",
     "timestamp": 1684010674222,
     "user": {
      "displayName": "Ainara Montoya",
      "userId": "04156984210870783133"
     },
     "user_tz": -120
    },
    "id": "f84wF6YvA-Bj",
    "outputId": "ff1e5ec8-19cc-45b3-fc9e-e83b62a2632d"
   },
   "outputs": [],
   "source": [
    "print(tuple(l)) # A partir de una lista\n",
    "print(type(tuple(l)))\n",
    "\n",
    "print(tuple(dicc)) # A partir de un diccionario solo se guardan las claves en la tupla\n",
    "print(type(tuple(dicc)))\n",
    "\n",
    "print(tuple({1, 2, 3, 4, 5})) # A partir de un conjunto\n",
    "print(type(tuple({1, 2, 3, 4, 5})))"
   ]
  },
  {
   "cell_type": "markdown",
   "metadata": {
    "id": "Eupw4D2REOzG"
   },
   "source": [
    "## La función `zip()`"
   ]
  },
  {
   "cell_type": "markdown",
   "metadata": {
    "id": "ImiToMNbumTy"
   },
   "source": [
    "La función `zip()` sirve para juntar listas en tuplas"
   ]
  },
  {
   "cell_type": "code",
   "execution_count": null,
   "metadata": {
    "colab": {
     "base_uri": "https://localhost:8080/"
    },
    "executionInfo": {
     "elapsed": 272,
     "status": "ok",
     "timestamp": 1684010782233,
     "user": {
      "displayName": "Ainara Montoya",
      "userId": "04156984210870783133"
     },
     "user_tz": -120
    },
    "id": "yrnUv58XCMeM",
    "outputId": "56bb1664-eed9-455d-b392-c3036f3b2abe"
   },
   "outputs": [],
   "source": [
    "objects = [\"libreta\", \"pluma\", \"portaminas\", \"pack_minas\"]\n",
    "price = [5.00, 3.30, 1.29, 0.50]\n",
    "items = zip(objects, price)\n",
    "print(items)"
   ]
  },
  {
   "cell_type": "markdown",
   "metadata": {
    "id": "46jwnFIhu-Os"
   },
   "source": [
    "Podemos convertir el resultado de una función `zip()` a una lista"
   ]
  },
  {
   "cell_type": "code",
   "execution_count": null,
   "metadata": {
    "colab": {
     "base_uri": "https://localhost:8080/"
    },
    "executionInfo": {
     "elapsed": 256,
     "status": "ok",
     "timestamp": 1684010805374,
     "user": {
      "displayName": "Ainara Montoya",
      "userId": "04156984210870783133"
     },
     "user_tz": -120
    },
    "id": "UIopJ6u3u6jn",
    "outputId": "611bc2d1-a5a1-4e92-ee5d-891bd5bfda78"
   },
   "outputs": [],
   "source": [
    "items = zip(objects, price)\n",
    "list(items)"
   ]
  },
  {
   "cell_type": "markdown",
   "metadata": {
    "id": "RhFWwq51vG05"
   },
   "source": [
    "Podemos convertir el resultado de una función `zip()` a un diccionario"
   ]
  },
  {
   "cell_type": "code",
   "execution_count": null,
   "metadata": {
    "colab": {
     "base_uri": "https://localhost:8080/"
    },
    "executionInfo": {
     "elapsed": 212,
     "status": "ok",
     "timestamp": 1684010818331,
     "user": {
      "displayName": "Ainara Montoya",
      "userId": "04156984210870783133"
     },
     "user_tz": -120
    },
    "id": "qFC9qlKAvEh2",
    "outputId": "80714b42-bfd3-4c3f-8169-f49e3b8d8650"
   },
   "outputs": [],
   "source": [
    "items = zip(objects, price)\n",
    "dict(items)"
   ]
  },
  {
   "cell_type": "markdown",
   "metadata": {
    "id": "JNSkhZN5vOi6"
   },
   "source": [
    "**¡Cuidado!** Hay que crear de nuevo el objeto `zip()`, pues el resultado de esta función es un iterador y, una vez ha sido convertido a lista, diccionario o tupla, se considera una iteración completa y no será capaz de generar más valores.\n",
    "\n",
    "Podemos convertir el resultado de una función `zip()` a una tupla:"
   ]
  },
  {
   "cell_type": "code",
   "execution_count": null,
   "metadata": {
    "colab": {
     "base_uri": "https://localhost:8080/"
    },
    "executionInfo": {
     "elapsed": 266,
     "status": "ok",
     "timestamp": 1684010916485,
     "user": {
      "displayName": "Ainara Montoya",
      "userId": "04156984210870783133"
     },
     "user_tz": -120
    },
    "id": "Kbfo9aebvjAp",
    "outputId": "8ad7263c-f8e7-4cef-8393-c52fd3878570"
   },
   "outputs": [],
   "source": [
    "items = zip(objects, price)\n",
    "tuple(items)"
   ]
  },
  {
   "cell_type": "code",
   "execution_count": null,
   "metadata": {
    "colab": {
     "base_uri": "https://localhost:8080/"
    },
    "executionInfo": {
     "elapsed": 228,
     "status": "ok",
     "timestamp": 1684010918451,
     "user": {
      "displayName": "Ainara Montoya",
      "userId": "04156984210870783133"
     },
     "user_tz": -120
    },
    "id": "kMDeWQyV4xOK",
    "outputId": "98d4cb9f-ad55-43e9-c611-8a9ae9af124c"
   },
   "outputs": [],
   "source": [
    "for obj, pr in zip(objects, price):\n",
    "    print(\"El objeto {} cuesta {} €.\".format(obj, pr))"
   ]
  }
 ],
 "metadata": {
  "colab": {
   "provenance": []
  },
  "kernelspec": {
   "display_name": "Python 3 (ipykernel)",
   "language": "python",
   "name": "python3"
  },
  "language_info": {
   "codemirror_mode": {
    "name": "ipython",
    "version": 3
   },
   "file_extension": ".py",
   "mimetype": "text/x-python",
   "name": "python",
   "nbconvert_exporter": "python",
   "pygments_lexer": "ipython3",
   "version": "3.10.9"
  }
 },
 "nbformat": 4,
 "nbformat_minor": 1
}

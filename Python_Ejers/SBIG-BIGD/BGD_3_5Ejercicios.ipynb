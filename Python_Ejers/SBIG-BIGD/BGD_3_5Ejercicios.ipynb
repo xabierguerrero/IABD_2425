{
 "cells": [
  {
   "cell_type": "markdown",
   "metadata": {},
   "source": [
    "# EJERCICIOS"
   ]
  },
  {
   "cell_type": "code",
   "execution_count": 2,
   "metadata": {},
   "outputs": [
    {
     "name": "stderr",
     "output_type": "stream",
     "text": [
      "25/02/24 16:37:10 WARN Utils: Your hostname, iadb-10 resolves to a loopback address: 127.0.1.1; using 172.20.104.46 instead (on interface wlp44s0f0)\n",
      "25/02/24 16:37:10 WARN Utils: Set SPARK_LOCAL_IP if you need to bind to another address\n",
      "Setting default log level to \"WARN\".\n",
      "To adjust logging level use sc.setLogLevel(newLevel). For SparkR, use setLogLevel(newLevel).\n",
      "25/02/24 16:37:10 WARN NativeCodeLoader: Unable to load native-hadoop library for your platform... using builtin-java classes where applicable\n"
     ]
    },
    {
     "name": "stderr",
     "output_type": "stream",
     "text": [
      "25/02/24 16:37:21 WARN GarbageCollectionMetrics: To enable non-built-in garbage collector(s) List(G1 Concurrent GC), users should configure it(them) to spark.eventLog.gcMetrics.youngGenerationGarbageCollectors or spark.eventLog.gcMetrics.oldGenerationGarbageCollectors\n"
     ]
    }
   ],
   "source": [
    "import pandas as pd\n",
    "from pyspark.sql import SparkSession\n",
    "\n",
    "spark = SparkSession.builder.master(\"local[*]\").appName(\"pyspark_rdd\").getOrCreate()\n",
    "#spark = SparkSession.builder.getOrCreate()\n",
    "sc = spark.sparkContext"
   ]
  },
  {
   "cell_type": "markdown",
   "metadata": {},
   "source": [
    "## EJERCICIO 0\n",
    "En un documento word haz una lista de las diferentes operaciones con una breve descripción de lo que hace y un ejemplo de como se utiliza (justo la parte donde se utiliza sin contexto).\n",
    "\n",
    "Ejemplo:\n",
    "\n",
    "* map: aplica una funcion a todos los elementos de un rdd - rdd.map(lambda x: x * 2)"
   ]
  },
  {
   "cell_type": "markdown",
   "metadata": {},
   "source": [
    "\n",
    "- **map:** Aplica una funcion a todos los elementos de un rdd. <font color='red'># rdd.map(lambda x: x * 2)</font>\n",
    "- **filter:** Filtra los elementos según una condición. <font color='red'># rdd.filter(lambda x: x > 10)</font>\n",
    "- **flatMap:** Similar a map, pero aplana el resultado si es una colección. <font color='red'># rdd.flatMap(lambda x: x.split(\" \"))</font>\n",
    "- **reduce:** Reduce los elementos del RDD mediante una función binaria. <font color='red'># rdd.reduce(lambda a, b: a + b)</font>\n",
    "- **reduceByKey:** Reduce valores por clave en un RDD de pares clave-valor. <font color='red'># rdd.reduceByKey(lambda a, b: a + b)</font>\n",
    "- **groupByKey:** Agrupa los valores por clave en un RDD de pares clave-valor. <font color='red'># rdd.groupByKey().mapValues(list)</font>\n",
    "- **sortBy:** Ordena los elementos del RDD según una clave. <font color='red'># rdd.sortBy(lambda x: x[1], ascending=False)</font>\n",
    "- **sortByKey:** Ordena un RDD de pares clave-valor por clave. <font color='red'># rdd.sortByKey()</font>\n",
    "- **distinct:** Elimina los elementos duplicados. <font color='red'># rdd.distinct()</font>\n",
    "- **union:** Une dos RDDs sin eliminar duplicados. <font color='red'># rdd1.union(rdd2)</font>\n",
    "- **intersection:** Devuelve los elementos comunes entre dos RDDs. <font color='red'># rdd1.intersection(rdd2)</font>\n",
    "- **cartesian:** Devuelve el producto cartesiano entre dos RDDs. <font color='red'># rdd1.cartesian(rdd2)</font>\n",
    "- **count:** Devuelve el número de elementos en el RDD. <font color='red'># rdd.count()</font>\n",
    "- **countByKey:** Cuenta la frecuencia de cada clave en un RDD de pares clave-valor. <font color='red'># rdd.countByKey()</font>\n",
    "- **take:** Devuelve los primeros N elementos del RDD. <font color='red'># rdd.take(N)</font>\n",
    "- **collect:** Recupera todos los elementos del RDD como una lista. <font color='red'># rdd.collect()</font>\n",
    "- **first:**  Devuelve el primer elemento del RDD. <font color='red'># rdd.first()</font>\n",
    "- **sample:** Extrae una muestra aleatoria de elementos. <font color='red'># rdd.sample(False, 0.1)</font>\n",
    "- **coalesce:** Reduce el número de particiones del RDD. <font color='red'># rdd.coalesce(N)</font>\n",
    "- **repartition:** Redistribuye el RDD en un número específico de particiones. <font color='red'># rdd.repartition(N)</font>\n",
    "- **zip:** Une dos RDDs elemento a elemento. <font color='red'># rdd1.zip(rdd2)</font>"
   ]
  },
  {
   "cell_type": "markdown",
   "metadata": {},
   "source": [
    "## EJERCICIO 1"
   ]
  },
  {
   "cell_type": "markdown",
   "metadata": {},
   "source": [
    "Si tenemos dos RDD (A y B):\n",
    "* rddA = sc.parallelize([1,2,3,4])\n",
    "* rddB = sc.parallelize([3,4,5,6])\n",
    "\n",
    "¿Cómo conseguimos los elementos que están en A y no B y los de B que no están en A? (es decir [1, 2, 5, 6]):"
   ]
  },
  {
   "cell_type": "code",
   "execution_count": null,
   "metadata": {},
   "outputs": [
    {
     "name": "stderr",
     "output_type": "stream",
     "text": [
      "[Stage 24:==========================================>            (34 + 10) / 44]\r"
     ]
    },
    {
     "name": "stdout",
     "output_type": "stream",
     "text": [
      "[1, 2, 5, 6]\n"
     ]
    },
    {
     "name": "stderr",
     "output_type": "stream",
     "text": [
      "                                                                                \r"
     ]
    }
   ],
   "source": [
    "rddA = sc.parallelize([1,2,3,4])\n",
    "rddB = sc.parallelize([3,4,5,6])\n",
    "\n",
    "solo_en_A = rddA.subtract(rddB)\n",
    "solo_en_B = rddB.subtract(rddA)\n",
    "\n",
    "# Unir ambos resultados para obtener la diferencia simétrica\n",
    "rddC = solo_en_A.union(solo_en_B)\n",
    "\n",
    "# Mostrar resultado\n",
    "print(rddC.collect())"
   ]
  },
  {
   "cell_type": "markdown",
   "metadata": {},
   "source": [
    "## EJERCICIO 2"
   ]
  },
  {
   "cell_type": "markdown",
   "metadata": {},
   "source": [
    "A partir de la lista implicita en el string \"Perro Gato Loro Pez León Tortuga Gallina\"\n",
    "1.\tCrea un RDD a partir de esta lista\n",
    "2.\tConvierte el RDD normal en un RDD de pares cuya clave sea la primera letra del animal\n",
    "3.\tCrea otro RDD de pares pero poniendo como clave un número incremental\n",
    "4.\t¿Y si queremos que el índice incremental empiece en 100?\n"
   ]
  },
  {
   "cell_type": "code",
   "execution_count": 16,
   "metadata": {},
   "outputs": [
    {
     "name": "stdout",
     "output_type": "stream",
     "text": [
      "#1: ['Perro', 'Gato', 'Loro', 'Pez', 'León', 'Tortuga', 'Gallina']\n",
      "#2: [('P', 'Perro'), ('G', 'Gato'), ('L', 'Loro'), ('P', 'Pez'), ('L', 'León'), ('T', 'Tortuga'), ('G', 'Gallina')]\n",
      "#3: [(0, 'Perro'), (1, 'Gato'), (2, 'Loro'), (3, 'Pez'), (4, 'León'), (5, 'Tortuga'), (6, 'Gallina')]\n",
      "#4: [(100, 'Perro'), (101, 'Gato'), (102, 'Loro'), (103, 'Pez'), (104, 'León'), (105, 'Tortuga'), (106, 'Gallina')]\n"
     ]
    }
   ],
   "source": [
    "# 1\n",
    "animales = \"Perro Gato Loro Pez León Tortuga Gallina\".split()\n",
    "rdd = sc.parallelize(animales)\n",
    "print(\"#1:\",rdd.collect())\n",
    "\n",
    "# 2\n",
    "rdd_pares_letra = rdd.map(lambda animal: (animal[0], animal))\n",
    "print(\"#2:\",rdd_pares_letra.collect())\n",
    "\n",
    "# 3\n",
    "rdd_pares_incremental = rdd.zipWithIndex().map(lambda x: (x[1], x[0]))\n",
    "print(\"#3:\",rdd_pares_incremental.collect())\n",
    "\n",
    "# 4\n",
    "rdd_pares_incremental_100 = rdd.zipWithIndex().map(lambda x: (x[1] + 100, x[0]))\n",
    "print(\"#4:\",rdd_pares_incremental_100.collect())\n"
   ]
  },
  {
   "cell_type": "markdown",
   "metadata": {},
   "source": [
    "## EJERCICIO 3"
   ]
  },
  {
   "cell_type": "markdown",
   "metadata": {},
   "source": [
    "Dada la siguiente lista de compra:\n",
    "\n",
    "lista = [('pan',3), ('agua',2), ('azúcar',1), ('leche',2), ('pan',1), ('cereales',3), ('agua',0.5), ('leche',2), ('filetes',5)]\n",
    "\n",
    "Calcula:\n",
    "1.\tEl total que se ha gastado por cada producto\n",
    "2.\tCuánto es lo máximo que se ha pagado por cada producto"
   ]
  },
  {
   "cell_type": "code",
   "execution_count": 17,
   "metadata": {},
   "outputs": [],
   "source": [
    "lista = [('pan',3), ('agua',2), ('azúcar',1), ('leche',2), ('pan',1), \n",
    "         ('cereales',3), ('agua',0.5), ('leche',2), ('filetes',5)]\n",
    "\n",
    "# Crear RDD\n",
    "rdd = sc.parallelize(lista)"
   ]
  },
  {
   "cell_type": "code",
   "execution_count": 19,
   "metadata": {},
   "outputs": [
    {
     "name": "stdout",
     "output_type": "stream",
     "text": [
      "[('pan', 4), ('cereales', 3), ('agua', 2.5), ('azúcar', 1), ('filetes', 5), ('leche', 4)]\n"
     ]
    }
   ],
   "source": [
    "total_por_producto = rdd.reduceByKey(lambda a, b: a + b)\n",
    "print(total_por_producto.collect())"
   ]
  },
  {
   "cell_type": "code",
   "execution_count": 20,
   "metadata": {},
   "outputs": [
    {
     "name": "stdout",
     "output_type": "stream",
     "text": [
      "[('pan', 3), ('cereales', 3), ('agua', 2), ('azúcar', 1), ('filetes', 5), ('leche', 2)]\n"
     ]
    }
   ],
   "source": [
    "max_por_producto = rdd.reduceByKey(lambda a, b: max(a, b))\n",
    "print(max_por_producto.collect())"
   ]
  },
  {
   "cell_type": "markdown",
   "metadata": {},
   "source": [
    "## EJERCICIO 4"
   ]
  },
  {
   "cell_type": "markdown",
   "metadata": {},
   "source": [
    "Ahora tenemos las cuentas de las compras de 3 días:\n",
    "* día 1: pan 3€, agua 2€, azúcar 1€, leche 2€, pan 4€\n",
    "* día 2: pan 1€, cereales 3€, agua 0.5€, leche 2€, filetes 5€\n",
    "* día 3: filetes 2€, cereales 1€\n",
    "\n",
    "Dada la siguiente lista de compra:\n",
    "\n",
    "- dia1 = [('pan',3), ('agua',2), ('azúcar',1), ('leche',2), ('pan',4)]\n",
    "- dia2 = [('pan',1), ('cereales',3), ('agua',0.5), ('leche',2), ('filetes',5)]\n",
    "- dia3 = [('filetes',2), ('cereales',1)]\n",
    "\n",
    "Responde:\n",
    "1.\t¿Cómo obtenemos lo que hemos gastado en cada producto?\n",
    "2.\t¿Y el gasto medio que hemos realizado en cada uno de ellos?"
   ]
  },
  {
   "cell_type": "code",
   "execution_count": 21,
   "metadata": {},
   "outputs": [],
   "source": [
    "dia1 = [('pan',3), ('agua',2), ('azúcar',1), ('leche',2), ('pan',4)]\n",
    "dia2 = [('pan',1), ('cereales',3), ('agua',0.5), ('leche',2), ('filetes',5)]\n",
    "dia3 = [('filetes',2), ('cereales',1)]\n",
    "\n",
    "# Crear RDDs\n",
    "rdd1 = sc.parallelize(dia1)\n",
    "rdd2 = sc.parallelize(dia2)\n",
    "rdd3 = sc.parallelize(dia3)\n",
    "\n",
    "# Unir los RDDs\n",
    "rdd_total = rdd1.union(rdd2).union(rdd3)"
   ]
  },
  {
   "cell_type": "code",
   "execution_count": 22,
   "metadata": {},
   "outputs": [
    {
     "name": "stdout",
     "output_type": "stream",
     "text": [
      "[('azúcar', 1), ('filetes', 7), ('cereales', 4), ('pan', 8), ('agua', 2.5), ('leche', 4)]\n"
     ]
    }
   ],
   "source": [
    "# Sumar los valores por producto\n",
    "gasto_total = rdd_total.reduceByKey(lambda a, b: a + b)\n",
    "\n",
    "# Mostrar resultado\n",
    "print(gasto_total.collect())"
   ]
  },
  {
   "cell_type": "code",
   "execution_count": 23,
   "metadata": {},
   "outputs": [
    {
     "name": "stdout",
     "output_type": "stream",
     "text": [
      "[('azúcar', 1.0), ('filetes', 3.5), ('cereales', 2.0), ('pan', 2.6666666666666665), ('agua', 1.25), ('leche', 2.0)]\n"
     ]
    }
   ],
   "source": [
    "# Agrupar valores por producto\n",
    "gasto_medio = rdd_total.groupByKey().mapValues(lambda valores: sum(valores) / len(list(valores)))\n",
    "\n",
    "# Mostrar resultado\n",
    "print(gasto_medio.collect())"
   ]
  },
  {
   "cell_type": "markdown",
   "metadata": {},
   "source": [
    "## EJERCICIO 5"
   ]
  },
  {
   "cell_type": "markdown",
   "metadata": {},
   "source": [
    "A partir de la lista ciudades = ['Alicante', 'Elche', 'Valencia', 'Madrid', 'Barcelona', 'Bilbao', 'Sevilla'] crea rdds con las siguientes características:\n",
    "\n",
    "1. Sólo las ciudades que tengan la letra e en su nombre y muéstralas.\n",
    "2. Ciudades que tienen la letra e y el número de veces que aparece en cada nombre.\n",
    "3. Averigua las ciudades que solo tengan una única e.\n",
    "4. Nos han enviado una nueva lista pero no han separado bien las ciudades. Reorganiza la lista y colocalas correctamente, y cuenta las apariciones de la letra e de cada ciudad.\n",
    "\n",
    "    ciudades_mal = [['Alicante.Elche', 'Valencia', 'Madrid.Barcelona', 'Bilbao.Sevilla'], ['Murcia', 'San Sebastián', 'Melilla.Aspe']]"
   ]
  },
  {
   "cell_type": "code",
   "execution_count": 24,
   "metadata": {},
   "outputs": [],
   "source": [
    "# Lista de ciudades\n",
    "ciudades = ['Alicante', 'Elche', 'Valencia', 'Madrid', 'Barcelona', 'Bilbao', 'Sevilla']\n",
    "\n",
    "# Crear RDD\n",
    "rdd = sc.parallelize(ciudades)"
   ]
  },
  {
   "cell_type": "code",
   "execution_count": 25,
   "metadata": {},
   "outputs": [
    {
     "name": "stdout",
     "output_type": "stream",
     "text": [
      "['Alicante', 'Elche', 'Valencia', 'Barcelona', 'Sevilla']\n"
     ]
    }
   ],
   "source": [
    "# Filtrar ciudades que contienen 'e'\n",
    "rdd_ciudades_con_e = rdd.filter(lambda ciudad: 'e' in ciudad.lower())\n",
    "\n",
    "# Mostrar resultado\n",
    "print(rdd_ciudades_con_e.collect())"
   ]
  },
  {
   "cell_type": "code",
   "execution_count": 26,
   "metadata": {},
   "outputs": [
    {
     "name": "stdout",
     "output_type": "stream",
     "text": [
      "[('Alicante', 1), ('Elche', 2), ('Valencia', 1), ('Barcelona', 1), ('Sevilla', 1)]\n"
     ]
    }
   ],
   "source": [
    "# Contar las apariciones de 'e' en cada ciudad\n",
    "rdd_e_count = rdd_ciudades_con_e.map(lambda ciudad: (ciudad, ciudad.lower().count('e')))\n",
    "\n",
    "# Mostrar resultado\n",
    "print(rdd_e_count.collect())\n"
   ]
  },
  {
   "cell_type": "code",
   "execution_count": 27,
   "metadata": {},
   "outputs": [
    {
     "name": "stdout",
     "output_type": "stream",
     "text": [
      "[('Alicante', 1), ('Valencia', 1), ('Barcelona', 1), ('Sevilla', 1)]\n"
     ]
    }
   ],
   "source": [
    "# Filtrar ciudades que tienen exactamente una 'e'\n",
    "rdd_una_sola_e = rdd_e_count.filter(lambda x: x[1] == 1)\n",
    "\n",
    "# Mostrar resultado\n",
    "print(rdd_una_sola_e.collect())"
   ]
  },
  {
   "cell_type": "code",
   "execution_count": 28,
   "metadata": {},
   "outputs": [
    {
     "name": "stdout",
     "output_type": "stream",
     "text": [
      "[('Alicante', 1), ('Elche', 2), ('Valencia', 1), ('Madrid', 0), ('Barcelona', 1), ('Bilbao', 0), ('Sevilla', 1), ('Murcia', 0), ('San Sebastián', 1), ('Melilla', 1), ('Aspe', 1)]\n"
     ]
    }
   ],
   "source": [
    "ciudades_mal = [['Alicante.Elche', 'Valencia', 'Madrid.Barcelona', 'Bilbao.Sevilla'], \n",
    "                ['Murcia', 'San Sebastián', 'Melilla.Aspe']]\n",
    "\n",
    "# Aplanar la lista y dividir correctamente\n",
    "rdd_mal = sc.parallelize(ciudades_mal)\n",
    "\n",
    "rdd_corregido=rdd_mal.flatMap(lambda lista: lista) \\\n",
    "            .flatMap(lambda ciudad: ciudad.split('.'))\n",
    "\n",
    "# Contar apariciones de 'e'\n",
    "rdd_corregido_e_count = rdd_corregido.map(lambda ciudad: (ciudad, ciudad.lower().count('e')))\n",
    "\n",
    "# Mostrar resultado\n",
    "print(rdd_corregido_e_count.collect())"
   ]
  },
  {
   "cell_type": "markdown",
   "metadata": {},
   "source": [
    "## EJERCICIO 6"
   ]
  },
  {
   "cell_type": "markdown",
   "metadata": {},
   "source": [
    "A partir de las siguientes listas:\n",
    "* Inglés: hello, table, angel, cat, dog, animal, chocolate, dark, doctor, hospital, computer\n",
    "* Español: hola, mesa, angel, gato, perro, animal, chocolate, oscuro, doctor, hospital, ordenador\n",
    "\n",
    "Crea un RDD con tuplas de palabras y su traducción: \n",
    "[('hello', 'hola'),\n",
    " ('table', 'mesa'),\n",
    " ('angel', 'angel'),\n",
    " ('cat', 'gato')...]\n",
    "\n",
    "Averigua:\n",
    "1. Palabras que se escriben igual en inglés y en español\n",
    "2. Palabras que en español son distintas que en inglés\n",
    "3. Obtén una única lista con las palabras en ambos idiomas que son distintas entre ellas (['hello', 'hola', 'table', ...)\n",
    "4. Haz dos grupos con todas las palabras, uno con las que empiezan por vocal y otro con las que empiecen por consonante.\n"
   ]
  },
  {
   "cell_type": "code",
   "execution_count": 29,
   "metadata": {},
   "outputs": [
    {
     "name": "stdout",
     "output_type": "stream",
     "text": [
      "[('hello', 'hola'), ('table', 'mesa'), ('angel', 'angel'), ('cat', 'gato'), ('dog', 'perro'), ('animal', 'animal'), ('chocolate', 'chocolate'), ('dark', 'oscuro'), ('doctor', 'doctor'), ('hospital', 'hospital'), ('computer', 'ordenador')]\n"
     ]
    }
   ],
   "source": [
    "# Listas de palabras\n",
    "ingles = ['hello', 'table', 'angel', 'cat', 'dog', 'animal', 'chocolate', 'dark', 'doctor', 'hospital', 'computer']\n",
    "espanol = ['hola', 'mesa', 'angel', 'gato', 'perro', 'animal', 'chocolate', 'oscuro', 'doctor', 'hospital', 'ordenador']\n",
    "\n",
    "# Crear RDD de tuplas (ingles, español)\n",
    "rdd_traducciones = sc.parallelize(zip(ingles, espanol))\n",
    "\n",
    "# Mostrar el RDD\n",
    "print(rdd_traducciones.collect())"
   ]
  },
  {
   "cell_type": "code",
   "execution_count": 30,
   "metadata": {},
   "outputs": [
    {
     "name": "stdout",
     "output_type": "stream",
     "text": [
      "[('angel', 'angel'), ('animal', 'animal'), ('chocolate', 'chocolate'), ('doctor', 'doctor'), ('hospital', 'hospital')]\n"
     ]
    }
   ],
   "source": [
    "# Filtrar las tuplas donde las palabras son iguales\n",
    "rdd_iguales = rdd_traducciones.filter(lambda x: x[0] == x[1])\n",
    "\n",
    "# Mostrar resultado\n",
    "print(rdd_iguales.collect())"
   ]
  },
  {
   "cell_type": "code",
   "execution_count": 31,
   "metadata": {},
   "outputs": [
    {
     "name": "stdout",
     "output_type": "stream",
     "text": [
      "[('hello', 'hola'), ('table', 'mesa'), ('cat', 'gato'), ('dog', 'perro'), ('dark', 'oscuro'), ('computer', 'ordenador')]\n"
     ]
    }
   ],
   "source": [
    "# Filtrar las tuplas donde las palabras no son iguales\n",
    "rdd_diferentes = rdd_traducciones.filter(lambda x: x[0] != x[1])\n",
    "\n",
    "# Mostrar resultado\n",
    "print(rdd_diferentes.collect())\n"
   ]
  },
  {
   "cell_type": "code",
   "execution_count": 32,
   "metadata": {},
   "outputs": [
    {
     "name": "stdout",
     "output_type": "stream",
     "text": [
      "[('consonante', [('hello', 'hola'), ('table', 'mesa'), ('cat', 'gato'), ('dog', 'perro'), ('chocolate', 'chocolate'), ('dark', 'oscuro'), ('doctor', 'doctor'), ('hospital', 'hospital'), ('computer', 'ordenador')]), ('vocal', [('angel', 'angel'), ('animal', 'animal')])]\n"
     ]
    }
   ],
   "source": [
    "# Función para verificar si una palabra empieza por vocal\n",
    "def empieza_por_vocal(palabra):\n",
    "    return palabra[0].lower() in 'aeiou'\n",
    "\n",
    "# Separar en dos grupos\n",
    "rdd_vocales_consonantes = rdd_traducciones.map(lambda x: \n",
    "    ('vocal', x) if empieza_por_vocal(x[0]) else ('consonante', x))\n",
    "\n",
    "# Agrupar por tipo (vocal/consonante)\n",
    "grupos = rdd_vocales_consonantes.groupByKey().mapValues(list)\n",
    "\n",
    "# Mostrar resultado\n",
    "print(grupos.collect())\n"
   ]
  },
  {
   "cell_type": "markdown",
   "metadata": {},
   "source": [
    "## EJERCICIO 7"
   ]
  },
  {
   "cell_type": "markdown",
   "metadata": {},
   "source": [
    "A partir del fichero de El Quijote:\n",
    "1. Crear un rdd con todas las palabras del documento.\n",
    "2. ¿Cuantas veces aparece la palabra Dulcinea (independientemente de si está en mayúsculas o minúsculas)? ¿Y Rocinante?\n",
    "3. Devuelve una lista ordenada según el número de veces que sale cada palabra de más a menos.\n",
    "4. Guarda el resultado en el disco"
   ]
  },
  {
   "cell_type": "code",
   "execution_count": 33,
   "metadata": {},
   "outputs": [
    {
     "name": "stdout",
     "output_type": "stream",
     "text": [
      "['don', 'quijote', 'de', 'la', 'mancha', 'miguel', 'de', 'cervantes', 'saavedra', 'primera']\n"
     ]
    }
   ],
   "source": [
    "# Leer el archivo de El Quijote\n",
    "rdd_quijote = sc.textFile(\"./datos/el_quijote.txt\")\n",
    "\n",
    "# Convertir el texto en una lista de palabras, eliminando caracteres especiales\n",
    "rdd_palabras = rdd_quijote.flatMap(lambda linea: linea.split())\n",
    "rdd_palabras = rdd_palabras.map(lambda palabra: palabra.lower().strip('.,!?()[]\";:'))\n",
    "\n",
    "# Mostrar algunas palabras para verificar\n",
    "print(rdd_palabras.take(10))"
   ]
  },
  {
   "cell_type": "code",
   "execution_count": 34,
   "metadata": {},
   "outputs": [
    {
     "name": "stdout",
     "output_type": "stream",
     "text": [
      "Palabra 'Dulcinea' aparece 90 veces.\n",
      "Palabra 'Rocinante' aparece 120 veces.\n"
     ]
    }
   ],
   "source": [
    "# Contar las veces que aparece \"dulcinea\" y \"rocinante\" independientemente de mayúsculas/minúsculas\n",
    "contador_dulcinea = rdd_palabras.filter(lambda palabra: palabra.lower() == \"dulcinea\").count()\n",
    "contador_rocinante = rdd_palabras.filter(lambda palabra: palabra.lower() == \"rocinante\").count()\n",
    "\n",
    "# Mostrar resultados\n",
    "print(f\"Palabra 'Dulcinea' aparece {contador_dulcinea} veces.\")\n",
    "print(f\"Palabra 'Rocinante' aparece {contador_rocinante} veces.\")"
   ]
  },
  {
   "cell_type": "code",
   "execution_count": 35,
   "metadata": {},
   "outputs": [
    {
     "name": "stdout",
     "output_type": "stream",
     "text": [
      "[('que', 10725), ('de', 9032), ('y', 8638), ('la', 5010), ('a', 4807), ('en', 4031), ('el', 3854), ('no', 2992), ('se', 2382), ('los', 2148)]\n"
     ]
    }
   ],
   "source": [
    "# Contar la frecuencia de cada palabra\n",
    "rdd_frecuencia = rdd_palabras.map(lambda palabra: (palabra, 1)) \\\n",
    "                             .reduceByKey(lambda a, b: a + b)\n",
    "\n",
    "# Ordenar las palabras según su frecuencia de mayor a menor\n",
    "rdd_ordenado = rdd_frecuencia.sortBy(lambda x: x[1], ascending=False)\n",
    "\n",
    "# Mostrar las primeras 10 palabras más frecuentes\n",
    "print(rdd_ordenado.take(10))\n"
   ]
  },
  {
   "cell_type": "code",
   "execution_count": 36,
   "metadata": {},
   "outputs": [],
   "source": [
    "# Guardar el resultado en disco (en formato de texto)\n",
    "rdd_ordenado.saveAsTextFile(\"./resultados/ordenado_palabras_quijote\")"
   ]
  },
  {
   "cell_type": "markdown",
   "metadata": {},
   "source": [
    "## EJERCICIO 8"
   ]
  },
  {
   "cell_type": "markdown",
   "metadata": {},
   "source": [
    "Dada una cadena que contiene una lista de nombres Juan, Jimena, Luis, Cristian, Laura, Lorena, Cristina, Jacobo, Jorge:\n",
    "1. Tranforma la cadena en una lista y luego en un RDD\n",
    "2. Agrúpalos según su inicial, de manera que tengamos tuplas formadas por la letra inicial y todos los nombres que comienzan por dicha letra:\n",
    "\n",
    "    [('J', ['Juan', 'Jimena', 'Jacobo', 'Jorge']),\n",
    "\n",
    "    ('L', ['Luis', 'Laura', 'Lorena']),\n",
    "    \n",
    "    ('C', ['Cristian', 'Cristina'])]\n",
    "3. De la lista original, obtén una muestra de 5 elementos sin repetir valores.\n",
    "4. Devuelve una muestra de datos de aproximadamente la mitad de registros que la lista original con datos que pudieran llegar a repetirse."
   ]
  },
  {
   "cell_type": "code",
   "execution_count": 37,
   "metadata": {},
   "outputs": [
    {
     "name": "stdout",
     "output_type": "stream",
     "text": [
      "['Juan', 'Jimena', 'Luis', 'Cristian', 'Laura']\n"
     ]
    }
   ],
   "source": [
    "# Cadena de nombres\n",
    "cadena_nombres = \"Juan, Jimena, Luis, Cristian, Laura, Lorena, Cristina, Jacobo, Jorge\"\n",
    "\n",
    "# Transformar la cadena en una lista\n",
    "nombres = cadena_nombres.split(\", \")\n",
    "\n",
    "# Crear un RDD\n",
    "rdd_nombres = sc.parallelize(nombres)\n",
    "\n",
    "# Mostrar los primeros 5 elementos del RDD para verificar\n",
    "print(rdd_nombres.take(5))"
   ]
  },
  {
   "cell_type": "code",
   "execution_count": 38,
   "metadata": {},
   "outputs": [
    {
     "name": "stdout",
     "output_type": "stream",
     "text": [
      "[('C', ['Cristian', 'Cristina']), ('L', ['Luis', 'Laura', 'Lorena']), ('J', ['Juan', 'Jimena', 'Jacobo', 'Jorge'])]\n"
     ]
    }
   ],
   "source": [
    "# Agrupar los nombres según la inicial\n",
    "rdd_iniciales = rdd_nombres.map(lambda nombre: (nombre[0], nombre)) \\\n",
    "                            .groupByKey() \\\n",
    "                            .mapValues(list)\n",
    "\n",
    "# Mostrar el resultado\n",
    "print(rdd_iniciales.collect())"
   ]
  },
  {
   "cell_type": "code",
   "execution_count": 39,
   "metadata": {},
   "outputs": [
    {
     "name": "stdout",
     "output_type": "stream",
     "text": [
      "['Jimena', 'Cristian', 'Jacobo', 'Jorge', 'Lorena']\n"
     ]
    }
   ],
   "source": [
    "# Tomar una muestra de 5 elementos sin repetir\n",
    "rdd_muestra_5 = rdd_nombres.distinct().take(5)\n",
    "\n",
    "# Mostrar la muestra\n",
    "print(rdd_muestra_5)"
   ]
  },
  {
   "cell_type": "code",
   "execution_count": 40,
   "metadata": {},
   "outputs": [
    {
     "name": "stdout",
     "output_type": "stream",
     "text": [
      "['Jimena', 'Luis', 'Cristian', 'Jorge']\n"
     ]
    }
   ],
   "source": [
    "# Obtener una muestra con datos que puedan repetirse (con reemplazo) de aproximadamente la mitad de registros\n",
    "rdd_muestra_mitad = rdd_nombres.sample(withReplacement=True, fraction=0.5).collect()\n",
    "\n",
    "# Mostrar la muestra\n",
    "print(rdd_muestra_mitad)"
   ]
  },
  {
   "cell_type": "markdown",
   "metadata": {},
   "source": [
    "## EJERCICIO 9"
   ]
  },
  {
   "cell_type": "markdown",
   "metadata": {},
   "source": [
    "Dada una lista de elementos desordenados y algunos repetidos, mediante rdd devolver una muestra de 5 elementos, que estén en la lista, sin repetir y ordenados descendentemente.\n",
    "\n",
    "lista = [4,6,34,7,9,2,3,4,4,21,4,6,8,9,7,8,5,4,3,22,34,56,98]\n",
    "\n",
    "1. Selecciona el elemento mayor de la lista resultante.\n",
    "2. Muestra los dos elementos menores."
   ]
  },
  {
   "cell_type": "code",
   "execution_count": 45,
   "metadata": {},
   "outputs": [
    {
     "name": "stdout",
     "output_type": "stream",
     "text": [
      "[98, 56, 34, 22, 21, 9, 8, 7, 6, 5, 4, 3, 2]\n"
     ]
    }
   ],
   "source": [
    "# Crear el RDD a partir de la lista\n",
    "lista = [4,6,34,7,9,2,3,4,4,21,4,6,8,9,7,8,5,4,3,22,34,56,98]\n",
    "rdd_lista = sc.parallelize(lista)\n",
    "\n",
    "# Obtener la lista sin repeticiones, ordenada de forma descendente y tomar una muestra de 5 elementos\n",
    "rdd_sin_repetir_ordenado = rdd_lista.distinct().sortBy(lambda x: x, ascending=False)\n",
    "\n",
    "# Mostrar la muestra\n",
    "print(rdd_sin_repetir_ordenado.collect())"
   ]
  },
  {
   "cell_type": "code",
   "execution_count": 48,
   "metadata": {},
   "outputs": [
    {
     "name": "stdout",
     "output_type": "stream",
     "text": [
      "El mayor elemento es: 98\n"
     ]
    }
   ],
   "source": [
    "# Obtener el primer elemento del RDD, que es el mayor\n",
    "max_elemento = rdd_sin_repetir_ordenado.first()\n",
    "\n",
    "# Mostrar el mayor elemento\n",
    "print(f\"El mayor elemento es: {max_elemento}\")\n"
   ]
  },
  {
   "cell_type": "code",
   "execution_count": 49,
   "metadata": {},
   "outputs": [
    {
     "name": "stdout",
     "output_type": "stream",
     "text": [
      "Los dos elementos menores son: [3, 2]\n"
     ]
    }
   ],
   "source": [
    "# Obtener todos los elementos de la lista ordenada\n",
    "elementos_ordenados = rdd_sin_repetir_ordenado.collect()\n",
    "\n",
    "# Mostrar los dos elementos menores (últimos 2 elementos)\n",
    "minimos_elementos = elementos_ordenados[-2:]\n",
    "\n",
    "# Mostrar los dos elementos menores\n",
    "print(f\"Los dos elementos menores son: {minimos_elementos}\")"
   ]
  },
  {
   "cell_type": "markdown",
   "metadata": {},
   "source": [
    "## EJERCICIO 10"
   ]
  },
  {
   "cell_type": "markdown",
   "metadata": {},
   "source": [
    "En una red social sobre cine, tenemos un fichero ratings.txt compuesta por el código de la película, el código del usuario, la calificación asignada y el TIMESTAMP de la votación con el siguiente formato:\n",
    "\n",
    "1::1193::5::978300760\n",
    "\n",
    "1::661::3::978302109\n",
    "\n",
    "1::914::3::978301968\n",
    "\n",
    "Se pide:\n",
    "1. Obtener para cada película, la nota media de todas sus votaciones.\n",
    "2. Películas cuya nota media sea superior a 3."
   ]
  },
  {
   "cell_type": "code",
   "execution_count": 57,
   "metadata": {},
   "outputs": [
    {
     "name": "stdout",
     "output_type": "stream",
     "text": [
      "[(2, 3.7131782945736433), (4, 4.190476190476191), (6, 3.9014084507042255), (8, 3.884892086330935), (10, 4.114713216957606)]\n"
     ]
    }
   ],
   "source": [
    "# Leer el archivo de ratings\n",
    "ratings_rdd = sc.textFile(\"./datos/ratings.txt\")\n",
    "\n",
    "# Procesar cada línea: (pelicula, usuario, calificación, timestamp)\n",
    "ratings_rdd = ratings_rdd.map(lambda line: line.split(\"::\")).map(lambda x: (int(x[0]), int(x[2])))  # (pelicula, calificación)\n",
    "\n",
    "# Calcular la suma de las calificaciones y el número de votos por película\n",
    "ratings_sum_count_rdd = ratings_rdd.aggregateByKey((0, 0), \n",
    "                                                   lambda acc, value: (acc[0] + value, acc[1] + 1), \n",
    "                                                   lambda acc1, acc2: (acc1[0] + acc2[0], acc1[1] + acc2[1]))\n",
    "\n",
    "# Calcular la nota media por película\n",
    "average_ratings_rdd = ratings_sum_count_rdd.mapValues(lambda x: x[0] / x[1])\n",
    "\n",
    "# Mostrar las notas medias por película\n",
    "print(average_ratings_rdd.take(5))\n"
   ]
  },
  {
   "cell_type": "code",
   "execution_count": 58,
   "metadata": {},
   "outputs": [
    {
     "name": "stdout",
     "output_type": "stream",
     "text": [
      "[(2, 3.7131782945736433), (4, 4.190476190476191), (6, 3.9014084507042255), (8, 3.884892086330935), (10, 4.114713216957606)]\n"
     ]
    }
   ],
   "source": [
    "# Filtrar películas con nota media superior a 3\n",
    "high_rated_movies_rdd = average_ratings_rdd.filter(lambda x: x[1] > 3)\n",
    "\n",
    "# Mostrar las películas con nota media superior a 3\n",
    "print(high_rated_movies_rdd.take(5))\n"
   ]
  },
  {
   "cell_type": "markdown",
   "metadata": {},
   "source": [
    "## EJERCICIO 11"
   ]
  },
  {
   "cell_type": "markdown",
   "metadata": {},
   "source": [
    "Tenemos las calificaciones de las asignaturas de matemáticas (notas_mates.txt), inglés (notas_ingles.txt) y física (notas_fisica.txt) de los alumnos del instituto en 3 documentos de texto. A partir de estos ficheros:\n",
    "1. Crea 3 RDD de pares, uno para cada asignatura, con los alumnos y sus notas\n",
    "2. Crea un solo RDD con todas las notas (cada entrada es un usuario con sus tres notas)\n",
    "3. ¿Cuál es la nota más baja que ha tenido cada alumno?\n",
    "4. ¿Cuál es la nota media de cada alumno?\n",
    "5. ¿Cuántos estudiantes suspende cada asignatura?\n",
    "         [('Matemáticas', 7), ('Física', 8), ('Inglés', 7)]\n",
    "6. ¿En qué asignatura suspende más gente?\n",
    "7. Total de notables o sobresalientes por alumno, es decir, cantidad de notas superiores o igual a 7.\n",
    "8. ¿Qué alumno no se ha presentado a inglés?\n",
    "9. ¿A cuántas asignaturas se ha presentado cada alumno?"
   ]
  },
  {
   "cell_type": "code",
   "execution_count": 78,
   "metadata": {},
   "outputs": [
    {
     "name": "stdout",
     "output_type": "stream",
     "text": [
      "[('Angel', 6.0), ('Maria', 2.0), ('Ramon', 4.5), ('Jorge', 10.0), ('Susana', 9.0)]\n",
      "[('Angel', 4.0), ('Maria', 6.0), ('Ramon', 8.0), ('Jorge', 5.0), ('Susana', 2.0)]\n",
      "[('Angel', 9.0), ('Maria', 3.0), ('Ramon', 7.0), ('Jorge', 5.0), ('Susana', 9.0)]\n"
     ]
    }
   ],
   "source": [
    "# Función para convertir a float, manejando errores\n",
    "def convertir_a_float(valor):\n",
    "    try:\n",
    "        return float(valor)\n",
    "    except ValueError:\n",
    "        return None  # Si no se puede convertir, devolvemos None\n",
    "\n",
    "# Cargar los archivos de texto y crear RDDs\n",
    "mates_rdd = sc.textFile(\"./datos/notas_mates.txt\") \\\n",
    "              .map(lambda line: line.split(\",\")) \\\n",
    "              .map(lambda x: (x[0], convertir_a_float(x[1])))\n",
    "\n",
    "ingles_rdd = sc.textFile(\"./datos/notas_ingles.txt\") \\\n",
    "               .map(lambda line: line.split(\",\")) \\\n",
    "               .map(lambda x: (x[0], convertir_a_float(x[1])))\n",
    "\n",
    "fisica_rdd = sc.textFile(\"./datos/notas_fisica.txt\") \\\n",
    "               .map(lambda line: line.split(\",\")) \\\n",
    "               .map(lambda x: (x[0], convertir_a_float(x[1])))\n",
    "\n",
    "# Mostrar los RDD de cada asignatura\n",
    "print(mates_rdd.take(5))\n",
    "print(ingles_rdd.take(5))\n",
    "print(fisica_rdd.take(5))"
   ]
  },
  {
   "cell_type": "code",
   "execution_count": 80,
   "metadata": {},
   "outputs": [
    {
     "name": "stdout",
     "output_type": "stream",
     "text": [
      "[('Pedro', (5.0, None, 2.0)), ('Jose Juan', (5.0, 3.0, 3.0)), ('Ramon', (4.5, 8.0, 7.0)), ('Andres', (4.0, 6.0, 4.0)), ('Oscar', (7.0, 3.0, 5.0))]\n"
     ]
    }
   ],
   "source": [
    "# Unir los RDDs usando fullOuterJoin\n",
    "first_join = mates_rdd.fullOuterJoin(ingles_rdd)\n",
    "all_rdd = first_join.fullOuterJoin(fisica_rdd)\n",
    "\n",
    "# Formatear el RDD para que cada alumno tenga sus tres notas\n",
    "all_rdd = all_rdd.map(lambda x: (\n",
    "    x[0],  # nombre del alumno\n",
    "    (\n",
    "        x[1][0][0] if x[1][0] and x[1][0][0] is not None else None,  # nota de mates\n",
    "        x[1][0][1] if x[1][0] and x[1][0][1] is not None else None,  # nota de inglés\n",
    "        x[1][1] if x[1][1] is not None else None  # nota de física\n",
    "    )\n",
    "))\n",
    "\n",
    "# Mostrar el resultado\n",
    "print(all_rdd.take(5))"
   ]
  },
  {
   "cell_type": "code",
   "execution_count": 73,
   "metadata": {},
   "outputs": [
    {
     "name": "stdout",
     "output_type": "stream",
     "text": [
      "[('Pedro', '2'), ('Jose Juan', '3'), ('Ramon', '4.5'), ('Andres', '4'), ('Oscar', '3')]\n"
     ]
    }
   ],
   "source": [
    "# Calcular la nota más baja de cada alumno\n",
    "min_nota_rdd = all_rdd.map(lambda x: (\n",
    "    x[0],  # nombre del alumno\n",
    "    min([nota for nota in x[1] if nota is not None])  # nota más baja\n",
    "))\n",
    "\n",
    "# Mostrar el resultado\n",
    "print(min_nota_rdd.take(5))"
   ]
  },
  {
   "cell_type": "code",
   "execution_count": 82,
   "metadata": {},
   "outputs": [
    {
     "name": "stdout",
     "output_type": "stream",
     "text": [
      "[('Pedro', 3.5), ('Jose Juan', 3.6666666666666665), ('Ramon', 6.5), ('Andres', 4.666666666666667), ('Oscar', 5.0)]\n"
     ]
    }
   ],
   "source": [
    "# Calcular la nota media de cada alumno\n",
    "avg_nota_rdd = all_rdd.map(lambda x: (\n",
    "    x[0],  # nombre del alumno\n",
    "    sum([nota for nota in x[1] if nota is not None]) / len([nota for nota in x[1] if nota is not None])  # nota media\n",
    "))\n",
    "\n",
    "# Mostrar el resultado\n",
    "print(avg_nota_rdd.take(5))"
   ]
  },
  {
   "cell_type": "code",
   "execution_count": 83,
   "metadata": {},
   "outputs": [
    {
     "name": "stdout",
     "output_type": "stream",
     "text": [
      "[('Matemáticas', 7), ('Inglés', 7), ('Física', 8)]\n"
     ]
    }
   ],
   "source": [
    "# Contar suspensos por asignatura\n",
    "suspensos_mates = mates_rdd.filter(lambda x: x[1] < 5).count()\n",
    "suspensos_ingles = ingles_rdd.filter(lambda x: x[1] < 5).count()\n",
    "suspensos_fisica = fisica_rdd.filter(lambda x: x[1] < 5).count()\n",
    "\n",
    "# Crear una lista con los resultados\n",
    "suspensos_por_asignatura = [('Matemáticas', suspensos_mates),\n",
    "                            ('Inglés', suspensos_ingles),\n",
    "                            ('Física', suspensos_fisica)]\n",
    "\n",
    "# Mostrar el resultado\n",
    "print(suspensos_por_asignatura)"
   ]
  },
  {
   "cell_type": "code",
   "execution_count": 84,
   "metadata": {},
   "outputs": [
    {
     "name": "stdout",
     "output_type": "stream",
     "text": [
      "La asignatura con más suspensos es: Física con 8 suspensos.\n"
     ]
    }
   ],
   "source": [
    "# Encontrar la asignatura con más suspensos\n",
    "asignatura_mas_suspensos = max(suspensos_por_asignatura, key=lambda x: x[1])\n",
    "\n",
    "# Mostrar el resultado\n",
    "print(f\"La asignatura con más suspensos es: {asignatura_mas_suspensos[0]} con {asignatura_mas_suspensos[1]} suspensos.\")"
   ]
  },
  {
   "cell_type": "code",
   "execution_count": 86,
   "metadata": {},
   "outputs": [
    {
     "name": "stdout",
     "output_type": "stream",
     "text": [
      "[('Pedro', 0), ('Jose Juan', 0), ('Ramon', 2), ('Andres', 0), ('Oscar', 1)]\n"
     ]
    }
   ],
   "source": [
    "# Contar notas >= 7 por alumno\n",
    "notables_rdd = all_rdd.map(lambda x: (\n",
    "    x[0],  # nombre del alumno\n",
    "    len([nota for nota in x[1] if nota is not None and nota >= 7])  # cantidad de notas >= 7\n",
    "))\n",
    "\n",
    "# Mostrar el resultado\n",
    "print(notables_rdd.take(5))"
   ]
  },
  {
   "cell_type": "code",
   "execution_count": 87,
   "metadata": {},
   "outputs": [
    {
     "data": {
      "text/plain": [
       "['Pedro']"
      ]
     },
     "execution_count": 87,
     "metadata": {},
     "output_type": "execute_result"
    }
   ],
   "source": [
    "# Alumnos que no se presentaron a inglés\n",
    "no_presentados_ingles = all_rdd.filter(lambda x: x[1][1] is None).map(lambda x: x[0])\n",
    "\n",
    "# Mostrar el resultado\n",
    "no_presentados_ingles.collect()"
   ]
  },
  {
   "cell_type": "code",
   "execution_count": 89,
   "metadata": {},
   "outputs": [
    {
     "name": "stdout",
     "output_type": "stream",
     "text": [
      "[('Pedro', 2), ('Jose Juan', 3), ('Ramon', 3), ('Andres', 3), ('Oscar', 3)]\n"
     ]
    }
   ],
   "source": [
    "# Contar asignaturas presentadas por alumno\n",
    "asignaturas_presentadas_rdd = all_rdd.map(lambda x: (\n",
    "    x[0],  # nombre del alumno\n",
    "    len([nota for nota in x[1] if nota is not None])  # cantidad de asignaturas presentadas\n",
    "))\n",
    "\n",
    "# Mostrar el resultado\n",
    "print(asignaturas_presentadas_rdd.take(5))"
   ]
  },
  {
   "cell_type": "markdown",
   "metadata": {},
   "source": [
    "## EJERCICIO 12"
   ]
  },
  {
   "cell_type": "markdown",
   "metadata": {},
   "source": [
    "Realiza las siguientes operaciones:\n",
    "1. Genera un RDD con la siguiente lista [1, 2, 3, 3, 4, 5, 6]\n",
    "2. Multiplica por 2 todos los elementos del RDD anterior\n",
    "3. Filtra el RDD inicial por los elementos pares\n",
    "4. Muestra los elementos unicos del RDD inicial\n",
    "5. Toma los elementos del RDD inicial para multiplicarlos entre si y obtener un resultado"
   ]
  },
  {
   "cell_type": "code",
   "execution_count": 90,
   "metadata": {},
   "outputs": [
    {
     "name": "stdout",
     "output_type": "stream",
     "text": [
      "[1, 2, 3, 3, 4, 5, 6]\n"
     ]
    }
   ],
   "source": [
    "# Crear un RDD a partir de la lista\n",
    "rdd_inicial = sc.parallelize([1, 2, 3, 3, 4, 5, 6])\n",
    "\n",
    "# Mostrar el RDD\n",
    "print(rdd_inicial.collect())"
   ]
  },
  {
   "cell_type": "code",
   "execution_count": 91,
   "metadata": {},
   "outputs": [
    {
     "data": {
      "text/plain": [
       "[2, 4, 6, 6, 8, 10, 12]"
      ]
     },
     "execution_count": 91,
     "metadata": {},
     "output_type": "execute_result"
    }
   ],
   "source": [
    "# Multiplicar cada elemento por 2\n",
    "rdd_multiplo_2 = rdd_inicial.map(lambda x: x * 2)\n",
    "\n",
    "# Mostrar el RDD resultante\n",
    "rdd_multiplo_2.collect()"
   ]
  },
  {
   "cell_type": "code",
   "execution_count": 92,
   "metadata": {},
   "outputs": [
    {
     "data": {
      "text/plain": [
       "[2, 4, 6]"
      ]
     },
     "execution_count": 92,
     "metadata": {},
     "output_type": "execute_result"
    }
   ],
   "source": [
    "# Filtrar elementos pares\n",
    "rdd_pares = rdd_inicial.filter(lambda x: x % 2 == 0)\n",
    "\n",
    "# Mostrar el RDD resultante\n",
    "rdd_pares.collect()"
   ]
  },
  {
   "cell_type": "code",
   "execution_count": 93,
   "metadata": {},
   "outputs": [
    {
     "data": {
      "text/plain": [
       "[1, 2, 3, 4, 5, 6]"
      ]
     },
     "execution_count": 93,
     "metadata": {},
     "output_type": "execute_result"
    }
   ],
   "source": [
    "# Obtener elementos únicos\n",
    "rdd_unicos = rdd_inicial.distinct()\n",
    "\n",
    "# Mostrar el RDD resultante\n",
    "rdd_unicos.collect()"
   ]
  },
  {
   "cell_type": "code",
   "execution_count": 94,
   "metadata": {},
   "outputs": [
    {
     "name": "stdout",
     "output_type": "stream",
     "text": [
      "2160\n"
     ]
    }
   ],
   "source": [
    "# Multiplicar todos los elementos del RDD\n",
    "resultado_multiplicacion = rdd_inicial.reduce(lambda x, y: x * y)\n",
    "\n",
    "# Mostrar el resultado\n",
    "print(resultado_multiplicacion)"
   ]
  },
  {
   "cell_type": "markdown",
   "metadata": {},
   "source": [
    "## EJERCICIO 13"
   ]
  },
  {
   "cell_type": "markdown",
   "metadata": {},
   "source": [
    "rdd = sc.parallelize([('a', 1), ('a', 2), ('a', 3), ('b', 1)])\n",
    "\n",
    "Realiza las siguientes operaciones:\n",
    "1. Obten la suma de los valores agrupados por el key\n",
    "2. Ordena el RDD inicial en base al key, de forma descendente"
   ]
  },
  {
   "cell_type": "code",
   "execution_count": 96,
   "metadata": {},
   "outputs": [
    {
     "data": {
      "text/plain": [
       "[('b', 1), ('a', 6)]"
      ]
     },
     "execution_count": 96,
     "metadata": {},
     "output_type": "execute_result"
    }
   ],
   "source": [
    "# Crear un RDD a partir de la lista de tuplas\n",
    "rdd = sc.parallelize([('a', 1), ('a', 2), ('a', 3), ('b', 1)])\n",
    "\n",
    "# Sumar los valores agrupados por key\n",
    "suma_por_key = rdd.reduceByKey(lambda x, y: x + y)\n",
    "\n",
    "# Mostrar el resultado\n",
    "suma_por_key.collect()"
   ]
  },
  {
   "cell_type": "code",
   "execution_count": 97,
   "metadata": {},
   "outputs": [
    {
     "data": {
      "text/plain": [
       "[('b', 1), ('a', 1), ('a', 2), ('a', 3)]"
      ]
     },
     "execution_count": 97,
     "metadata": {},
     "output_type": "execute_result"
    }
   ],
   "source": [
    "# Ordenar el RDD por key de forma descendente\n",
    "rdd_ordenado = rdd.sortByKey(ascending=False)\n",
    "\n",
    "# Mostrar el resultado\n",
    "rdd_ordenado.collect()"
   ]
  },
  {
   "cell_type": "markdown",
   "metadata": {},
   "source": [
    "## EJERCICIO 14"
   ]
  },
  {
   "cell_type": "markdown",
   "metadata": {},
   "source": [
    "data= ['Python', 'Scala', 'Python', 'R', 'Python', 'Java', 'R' ]\n",
    "\n",
    "rdd= sc.parallelize(data)\n",
    "\n",
    "Cuenta cuantas veces aparece cada valor"
   ]
  },
  {
   "cell_type": "code",
   "execution_count": 100,
   "metadata": {},
   "outputs": [
    {
     "name": "stdout",
     "output_type": "stream",
     "text": [
      "defaultdict(<class 'int'>, {'Python': 3, 'Scala': 1, 'R': 2, 'Java': 1})\n"
     ]
    }
   ],
   "source": [
    "# Crear un RDD a partir de la lista\n",
    "data = ['Python', 'Scala', 'Python', 'R', 'Python', 'Java', 'R']\n",
    "rdd = sc.parallelize(data)\n",
    "\n",
    "# Contar cuántas veces aparece cada valor\n",
    "conteo = rdd.countByValue()\n",
    "\n",
    "# Mostrar el resultado\n",
    "print(conteo)"
   ]
  }
 ],
 "metadata": {
  "kernelspec": {
   "display_name": "IABD3_12",
   "language": "python",
   "name": "python3"
  },
  "language_info": {
   "codemirror_mode": {
    "name": "ipython",
    "version": 3
   },
   "file_extension": ".py",
   "mimetype": "text/x-python",
   "name": "python",
   "nbconvert_exporter": "python",
   "pygments_lexer": "ipython3",
   "version": "3.12.2"
  }
 },
 "nbformat": 4,
 "nbformat_minor": 2
}

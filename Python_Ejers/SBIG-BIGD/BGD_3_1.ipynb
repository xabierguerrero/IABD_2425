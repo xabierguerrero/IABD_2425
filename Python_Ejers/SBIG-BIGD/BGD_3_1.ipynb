{
 "cells": [
  {
   "cell_type": "code",
   "execution_count": 1,
   "metadata": {},
   "outputs": [
    {
     "name": "stderr",
     "output_type": "stream",
     "text": [
      "25/01/28 20:31:04 WARN Utils: Your hostname, iadb-10 resolves to a loopback address: 127.0.1.1; using 172.20.104.46 instead (on interface wlp44s0f0)\n",
      "25/01/28 20:31:04 WARN Utils: Set SPARK_LOCAL_IP if you need to bind to another address\n",
      "Setting default log level to \"WARN\".\n",
      "To adjust logging level use sc.setLogLevel(newLevel). For SparkR, use setLogLevel(newLevel).\n",
      "25/01/28 20:31:04 WARN NativeCodeLoader: Unable to load native-hadoop library for your platform... using builtin-java classes where applicable\n"
     ]
    },
    {
     "name": "stderr",
     "output_type": "stream",
     "text": [
      "25/01/28 20:31:18 WARN GarbageCollectionMetrics: To enable non-built-in garbage collector(s) List(G1 Concurrent GC), users should configure it(them) to spark.eventLog.gcMetrics.youngGenerationGarbageCollectors or spark.eventLog.gcMetrics.oldGenerationGarbageCollectors\n"
     ]
    }
   ],
   "source": [
    "from pyspark.sql import SparkSession\n",
    "spark = SparkSession.builder.master(\"local[*]\").appName('PySparkExample').getOrCreate()\n"
   ]
  },
  {
   "cell_type": "code",
   "execution_count": 3,
   "metadata": {},
   "outputs": [
    {
     "name": "stderr",
     "output_type": "stream",
     "text": [
      "25/01/28 20:36:28 WARN SparkSession: Using an existing Spark session; only runtime SQL configurations will take effect.\n"
     ]
    }
   ],
   "source": [
    "from pyspark.sql import SparkSession\n",
    "\n",
    "spark = SparkSession.builder.appName(\"QuijoteCount\").getOrCreate() # Inicializar SparkSession\n",
    "\n",
    "quijoteTxt = spark.read.text(\"./datos/el_quijote.txt\") # Leer el archivo desde HDFS\n",
    "\n",
    "count = quijoteTxt.count() # Contar el número de líneas en el archivo\n",
    "count_message = \"El número total de líneas es: \" + str(count)\n",
    "\n",
    "first_line = quijoteTxt.first() # Obtener la primera línea del archivo\n",
    "first_line_message = \"La primera línea es: \" + str(first_line['value'])\n",
    "\n",
    "lineasConQuijote = quijoteTxt.filter(quijoteTxt.value.contains(\"Quijote\")) # Filtrar las líneas que contienen la palabra \"Quijote\"\n",
    "\n",
    "quijote_count = lineasConQuijote.count() # Contar el número de líneas que contienen la palabra \"Quijote\"\n",
    "quijote_count_message = \"El número de líneas que contienen la palabra 'Quijote' es: \" + str(quijote_count)\n",
    "\n",
    "messages = [count_message, first_line_message, quijote_count_message] # Agregar todos los mensajes a una lista\n",
    "\n",
    "rdd = spark.sparkContext.parallelize(messages) # Crear un RDD con los mensajes\n",
    "\n",
    "output_path = \"./datos/salida\" # Definir la ruta de salida en HDFS\n",
    "\n",
    "rdd.saveAsTextFile(output_path) # Guardar los mensajes en HDFS\n",
    "\n",
    "spark.stop() # Cerrar la sesión de Spark"
   ]
  }
 ],
 "metadata": {
  "kernelspec": {
   "display_name": "IABD3_9",
   "language": "python",
   "name": "python3"
  },
  "language_info": {
   "codemirror_mode": {
    "name": "ipython",
    "version": 3
   },
   "file_extension": ".py",
   "mimetype": "text/x-python",
   "name": "python",
   "nbconvert_exporter": "python",
   "pygments_lexer": "ipython3",
   "version": "3.9.21"
  }
 },
 "nbformat": 4,
 "nbformat_minor": 2
}

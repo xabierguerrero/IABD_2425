{
 "cells": [
  {
   "cell_type": "markdown",
   "id": "d287d88e",
   "metadata": {},
   "source": [
    "# LISTA 5 - EXPRESIONES REGULARES - regex101.com\n",
    "## <ins>Ejercicios Obligatorios </ins>"
   ]
  },
  {
   "cell_type": "markdown",
   "id": "f99190d1",
   "metadata": {},
   "source": [
    "## EJERCICIO 1"
   ]
  },
  {
   "cell_type": "markdown",
   "id": "b3836703",
   "metadata": {},
   "source": [
    "El siguiente texto contiene una secuencia de palabras delimitadas por espacios y caracteres de puntuación (puntos y comas). Elabora una expresión regular a partir de la cual podamos descomponer (método split) el texto en todas las palabras que lo componen:\n",
    "\n",
    "Alternativamente, TAMBIÉN puedes buscar (método findall) todas las palabras existentes en el texto.\n",
    "```\n",
    "TEXTO = \"\"\"En un lugar de la Mancha, de cuyo nombre no quiero acordarme, \n",
    "no ha mucho tiempo que vivía un hidalgo de los de lanza en astillero, \n",
    "adarga antigua, rocín flaco y galgo corredor\"\"\"\n",
    "```"
   ]
  },
  {
   "cell_type": "markdown",
   "id": "feb0417e",
   "metadata": {},
   "source": [
    "## EJERCICIO 2"
   ]
  },
  {
   "cell_type": "markdown",
   "id": "91cd8f7c",
   "metadata": {},
   "source": [
    "Escribe una expresión regular que capture los años del siguiente texto acerca de la historia de España obtenido de la Wikipedia:\n",
    "```\n",
    "TEXTO = \"\"\"En 1492 los Reyes Católicos financiaron el proyecto del navegante Cristóbal \n",
    "Colón en la búsqueda de una nueva ruta comercial con Asia a través del océano \n",
    "Atlántico, y proclamarían la expulsión de los judíos. La llegada al Nuevo Mundo \n",
    "y la posterior conquista de América forjaron la creación del Imperio español. \n",
    "Durante los siguientes siglos España se alzaría como actor principal del mundo \n",
    "occidental y primera potencia de la época. Durante los siglos xvi y xvii \n",
    "tendría lugar también la época de mayor apogeo de la cultura y las artes \n",
    "hispanas conocida como Siglo de Oro.\n",
    "\n",
    "El Imperio español en 1580, tras la unificación de la península ibérica bajo un \n",
    "único rey español Felipe II, comprendía América del Sur, América Central y el \n",
    "Caribe, grandes áreas de América del Norte en diferentes grados de influencia o \n",
    "control, las islas Filipinas en Asia, así como enclaves de diversa importancia \n",
    "en las costas de África y la India. Incluía además numerosas posesiones en \n",
    "Europa, los Países Bajos españoles, el Ducado de Milán o el Reino de Nápoles, la \n",
    "mayoría de ellas perdidas tras la paz de Utrecht de 1713.\"\"\"\n",
    "```"
   ]
  },
  {
   "cell_type": "markdown",
   "id": "abf81a65",
   "metadata": {},
   "source": [
    "## EJERCICIO 3"
   ]
  },
  {
   "cell_type": "markdown",
   "id": "c0dda757",
   "metadata": {},
   "source": [
    "Escribe una expresión regular que detecte caracteres simbólicos (\\W) repetidos y los sustituya por una única ocurrencia:\n",
    "\n",
    "PISTA: puedes referenciar a un grupo previamente capturado mediante \\\\{número}.\n",
    "```\n",
    "TEXTO = \"¡¡¡¡¡¡¡QUÉ SORPRESA!!!!!!!\"\n",
    "```"
   ]
  },
  {
   "cell_type": "markdown",
   "id": "4d68e82b",
   "metadata": {},
   "source": [
    "## EJERCICIO 4"
   ]
  },
  {
   "cell_type": "markdown",
   "id": "ec7f3b2a",
   "metadata": {},
   "source": [
    "Escribe una expresión regular que detecte palabras repetidas y las reemplace por una única ocurrencia:\n",
    "\n",
    "PISTA: metacaracteres \\w y \\b.\n",
    "```\n",
    "TEXTO = \"Me lo he pasado muy muy muy bien.\"\n",
    "```"
   ]
  },
  {
   "cell_type": "markdown",
   "id": "5c943554",
   "metadata": {},
   "source": [
    "## EJERCICIO 5"
   ]
  },
  {
   "cell_type": "markdown",
   "id": "f2fe60bc",
   "metadata": {},
   "source": [
    "Escribe una expresión regular que extraiga las direcciones de correo electrónico y los importes del siguiente texto. Asigna al grupo que contenga el email el nombre correo y al que contenga el importe precio:\n",
    "```\n",
    "TEXTO = \"\"\"Se ha facturado un total de 1500 € al usuario test@dominio.es durante \n",
    "el año 2019. Otros usuarios, como prueba@otro.com o new@contact.com han gastado \n",
    "solamente 500€.\"\"\"\n",
    "```\n"
   ]
  },
  {
   "cell_type": "markdown",
   "id": "2972dd7e",
   "metadata": {},
   "source": [
    "## EJERCICIO 6"
   ]
  },
  {
   "cell_type": "markdown",
   "id": "ef3c12ce",
   "metadata": {},
   "source": [
    "Dada la siguiente enumeración de números de teléfono con diferentes formatos, prepara una expresión regular que sea capaz de reconocerlos y de devolverlos con el mismo formato:\n",
    "```\n",
    "TELEFONOS = \"968 12 23 31, 900 141 142, 945112233, 656-247733\"\n",
    "```"
   ]
  },
  {
   "cell_type": "markdown",
   "id": "7d7c4a0d",
   "metadata": {},
   "source": [
    "## EJERCICIO 7"
   ]
  },
  {
   "cell_type": "markdown",
   "id": "1c5d3b3f",
   "metadata": {},
   "source": [
    "\n",
    "Validación de direcciones de correo electrónico. Escribe una expresión regular que valide si una dirección de correo electrónico es correcta según el formato estándar. El formato debe ser nombre@dominio.ext, donde:\n",
    "\n",
    "<ul>\n",
    "    <li>nombre puede contener letras, números, puntos, guiones bajos y guiones.</li>\n",
    "    <li>dominio puede contener letras y números.</li>\n",
    "    <li>ext debe ser de 2 a 6 letras (por ejemplo, .com, .es, .info).</li>\n",
    "</ul>"
   ]
  },
  {
   "cell_type": "code",
   "execution_count": null,
   "id": "09b73fe9",
   "metadata": {
    "vscode": {
     "languageId": "plaintext"
    }
   },
   "outputs": [],
   "source": []
  }
 ],
 "metadata": {
  "kernelspec": {
   "display_name": "Python 3 (ipykernel)",
   "language": "python",
   "name": "python3"
  },
  "language_info": {
   "codemirror_mode": {
    "name": "ipython",
    "version": 3
   },
   "file_extension": ".py",
   "mimetype": "text/x-python",
   "name": "python",
   "nbconvert_exporter": "python",
   "pygments_lexer": "ipython3",
   "version": "3.10.9"
  }
 },
 "nbformat": 4,
 "nbformat_minor": 5
}

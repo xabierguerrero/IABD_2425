{
 "cells": [
  {
   "cell_type": "markdown",
   "id": "f9c06951",
   "metadata": {},
   "source": [
    "# LISTA 1 - OPERADORES DE DECISIÓN Y DE ITERACIÓN"
   ]
  },
  {
   "cell_type": "markdown",
   "id": "d70d2839",
   "metadata": {},
   "source": [
    "## EJERCICIO 1"
   ]
  },
  {
   "cell_type": "markdown",
   "id": "6de3f4d0",
   "metadata": {},
   "source": [
    "Haz que el usuario introduzca números enteros por teclado. Mientras el usuario no introduzca el 0, muestra si el número introducido es par o impar."
   ]
  },
  {
   "cell_type": "markdown",
   "id": "28b6f5c0",
   "metadata": {},
   "source": [
    "## EJERCICIO 2"
   ]
  },
  {
   "cell_type": "markdown",
   "id": "9ccfc0d9",
   "metadata": {},
   "source": [
    "Haz que un usuario introduzca su nombre y evalúa con operadores if y else si dicho nombre tiene una longitud mayor a 10 caracteres o no. Devuelve por pantalla el resultado en cada caso (en el resultado debe aparecer el nombre usado por el usuario, para ello usa format en el método print)."
   ]
  },
  {
   "cell_type": "markdown",
   "id": "73f81d57",
   "metadata": {},
   "source": [
    "## EJERCICIO 3"
   ]
  },
  {
   "cell_type": "markdown",
   "id": "49fb6c34",
   "metadata": {},
   "source": [
    "Pide al usuario que introduzca dos números enteros por pantalla y:\n",
    "* Comprueba si el primer número es mayor o igual al segundo número introducido por el usuario e informa al usuario (x>=y)\n",
    "* Haz la división entera pertinente en cada caso.\n",
    "  * Si la división es exacta, entonces devolver por pantalla el cociente e indicar que la división es exacta. \n",
    "  * Si la división no es exacta, entonces devolver por pantalla el cociente y el resto e indicar que la división realizada no es exacta."
   ]
  },
  {
   "cell_type": "markdown",
   "id": "75e63cb2",
   "metadata": {},
   "source": [
    "## EJERCICIO 4"
   ]
  },
  {
   "cell_type": "markdown",
   "id": "2c98004a",
   "metadata": {},
   "source": [
    "Haz que un usuario introduzca dos números enteros positivos. Comprueba si el mayor es múltiplo del menor. Devuelve por pantalla el resultado en cada caso."
   ]
  },
  {
   "cell_type": "markdown",
   "id": "a044da35",
   "metadata": {},
   "source": [
    "## EJERCICIO 5"
   ]
  },
  {
   "cell_type": "markdown",
   "id": "473a499c",
   "metadata": {},
   "source": [
    "Haz que un usuario introduzca una palabra y comprueba si dicha palabra empieza por mayúscula. Devuelve por pantalla el resultado en cada caso."
   ]
  },
  {
   "cell_type": "markdown",
   "id": "1e0c6b87",
   "metadata": {},
   "source": [
    "## EJERCICIO 6"
   ]
  },
  {
   "cell_type": "markdown",
   "id": "fdad22cc",
   "metadata": {},
   "source": [
    "Haz que un usuario introduzca una letra y comprueba si se trata de una vocal. Si el usuario introduce un string de más de un carácter, infórmale de que no se puede procesar el dato, pues debe tener como máximo tamaño 1. Convierte la letra introducida a minúsculas para tener que realizar menos comprobaciones."
   ]
  },
  {
   "cell_type": "markdown",
   "id": "df74b4e7",
   "metadata": {},
   "source": [
    "## EJERCICIO 7"
   ]
  },
  {
   "cell_type": "markdown",
   "id": "aff89d46",
   "metadata": {},
   "source": [
    "Haz que el usuario introduzca los valores de los coeficientes a, b y c de una ecuación de segundo grado (ax2 + bx + c = 0) y resuelve la ecuación siempre que tenga soluciones reales. Muestra las soluciones sólo con dos decimales (usa format dentro de print)"
   ]
  },
  {
   "cell_type": "markdown",
   "id": "3bbee414",
   "metadata": {},
   "source": [
    "## EJERCICIO 8"
   ]
  },
  {
   "cell_type": "markdown",
   "id": "1acacbca",
   "metadata": {},
   "source": [
    "Haz que el usuario introduzca números enteros por teclado. Mientras el usuario no introduzca el 0, muestra si el número introducido es par o impar."
   ]
  },
  {
   "cell_type": "markdown",
   "id": "c0a5faa8",
   "metadata": {},
   "source": [
    "## EJERCICIO 9"
   ]
  },
  {
   "cell_type": "markdown",
   "id": "cb1b44fb",
   "metadata": {},
   "source": [
    "Haz que el usuario introduzca precios por teclado (si introduce 0, entonces es que ha finalizado). Si el usuario pasa de 200€, entonces ya no debe poder introducir más precios pues se ha pasado de presupuesto. Sea cual sea el resultado (o bien el precio final o bien que no tiene más presupuesto y la cantidad final)."
   ]
  },
  {
   "cell_type": "markdown",
   "id": "285580df",
   "metadata": {},
   "source": [
    "## EJERCICIO 10"
   ]
  },
  {
   "cell_type": "markdown",
   "id": "c7ec2aab",
   "metadata": {},
   "source": [
    "Haz que el usuario introduzca números enteros por teclado. Mientras el usuario no introduzca el 0, calcula cuántos números positivos y cuántos negativos ha introducido y muéstraselo al final."
   ]
  },
  {
   "cell_type": "markdown",
   "id": "82261b10",
   "metadata": {},
   "source": [
    "## EJERCICIO 11"
   ]
  },
  {
   "cell_type": "markdown",
   "id": "38918bae",
   "metadata": {},
   "source": [
    "Haz que el usuario introduzca dos números enteros por teclado. El primero será el extremo izquierdo del intervalo y, el segundo, el extremo derecho. Imprime la suma de todos los múltiplos de 3 que se encuentren entre los dos números introducidos por el usuario (los extremos incluidos). Finalmente, muestra por pantalla el resultado de la media de los múltiplos de 3."
   ]
  },
  {
   "cell_type": "markdown",
   "id": "c3d775ce",
   "metadata": {},
   "source": [
    "## EJERCICIO 12"
   ]
  },
  {
   "cell_type": "markdown",
   "id": "06be9e73",
   "metadata": {},
   "source": [
    "Pídele al usuario cuántos números va a introducir. Con un bucle for, solicítale esa cantidad de números y calcula su producto."
   ]
  },
  {
   "cell_type": "markdown",
   "id": "8f71c1c4",
   "metadata": {},
   "source": [
    "## EJERCICIO 13"
   ]
  },
  {
   "attachments": {
    "image-2.png": {
     "image/png": "[encoded data removed]"
    }
   },
   "cell_type": "markdown",
   "id": "533bd6bd",
   "metadata": {},
   "source": [
    "Haz que el usuario introduzca un número entero. Muestra un triánguloy luego un rectángulo de lado y altura, respectivamente, el número entero introducido. \n",
    "\n",
    "Por ejemplo, si el usuario introduce como número 5, se deberá mostrar:\n",
    "\n",
    "![image-2.png](attachment:image-2.png)"
   ]
  }
 ],
 "metadata": {
  "kernelspec": {
   "display_name": "Python 3 (ipykernel)",
   "language": "python",
   "name": "python3"
  },
  "language_info": {
   "codemirror_mode": {
    "name": "ipython",
    "version": 3
   },
   "file_extension": ".py",
   "mimetype": "text/x-python",
   "name": "python",
   "nbconvert_exporter": "python",
   "pygments_lexer": "ipython3",
   "version": "3.10.9"
  }
 },
 "nbformat": 4,
 "nbformat_minor": 5
}

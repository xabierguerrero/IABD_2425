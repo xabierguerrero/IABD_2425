{
 "cells": [
  {
   "cell_type": "markdown",
   "id": "d287d88e",
   "metadata": {},
   "source": [
    "# LISTA 10 -  LIBRERÍA NUMPY"
   ]
  },
  {
   "cell_type": "markdown",
   "id": "ccd0bc04",
   "metadata": {},
   "source": [
    "## <ins>Ejercicios Obligatorios </ins>"
   ]
  },
  {
   "cell_type": "markdown",
   "id": "f99190d1",
   "metadata": {},
   "source": [
    "## EJERCICIO 1"
   ]
  },
  {
   "cell_type": "markdown",
   "id": "93a99146-6700-4082-b986-0aa25349c711",
   "metadata": {},
   "source": [
    "Crea un array unidimensional de 9 elementos y transfórmalo en un array 3D. Muestra la dimensión y la shape antes y después del reshape."
   ]
  },
  {
   "cell_type": "markdown",
   "id": "feb0417e",
   "metadata": {},
   "source": [
    "## EJERCICIO 2"
   ]
  },
  {
   "cell_type": "markdown",
   "id": "91cd8f7c",
   "metadata": {},
   "source": [
    "Dados los arrays 2D ```[[-6, 5], [-4, 3], [-2, 1]] y [[1, 2], [3, 4], [5, 6]]```, concaténalos de modo que obtengas el array ```[[1, 2, -6, -5], [3, 4, -4, -3], [5, 6, -2, -1]]```"
   ]
  },
  {
   "cell_type": "markdown",
   "id": "4d68e82b",
   "metadata": {},
   "source": [
    "## EJERCICIO 3"
   ]
  },
  {
   "cell_type": "markdown",
   "id": "ec7f3b2a",
   "metadata": {},
   "source": [
    "Dado el array 2D ```[[\"ala\", \"delfín\", \"arroz\"], [\"cena\", \"kayak\", \"picnic\"], [\"hoja\", \"gato\", \"elle\"]]```, busca las palabras que sean palíndromos. Necesitarás una función universal."
   ]
  },
  {
   "cell_type": "markdown",
   "id": "5c943554",
   "metadata": {},
   "source": [
    "## EJERCICIO 4"
   ]
  },
  {
   "cell_type": "markdown",
   "id": "13d2c744",
   "metadata": {},
   "source": [
    "Crea un minijuego que piense un número aleatorio entre 1 y 10 y, hasta que no lo aciertes, te pida un número del 1 al 10. Cuando aciertes, tendrá que devolver el número de intentos y la frase: “¡¡¡ENHORABUENA!!! Has acertado el número que había pensado: el {}”. En caso de que falles, el juego deberá mostrar la frase “¡Has fallado! ¡Prueba otra vez!”"
   ]
  },
  {
   "cell_type": "markdown",
   "id": "2972dd7e",
   "metadata": {},
   "source": [
    "## EJERCICIO 5"
   ]
  },
  {
   "cell_type": "markdown",
   "id": "ef3c12ce",
   "metadata": {},
   "source": [
    "Crea un minijuego que piense un array 1D aleatorio de 5 elementos. Los elementos serán números enteros entre 1 y 20. Para cada intento, primero tendrá que pedir 5 números enteros del 1 al 20. El juego nos tendrá que decir cuántos números del array hemos acertado y cuántos números del array están bien colocados. El juego no termina hasta que no se hayan acertado todos los números pensados en la posición correspondiente. Al acabar, se tendrá que mostrar la frase: “¡¡¡ENHORABUENA!!! Has acertado el array que había pensado: {}”"
   ]
  },
  {
   "cell_type": "markdown",
   "id": "cbbfb36c",
   "metadata": {},
   "source": [
    "## EJERCICIO 6"
   ]
  },
  {
   "cell_type": "markdown",
   "id": "f0211a75",
   "metadata": {},
   "source": [
    "A partir de la lista ```[-3, -2, -1, 0, 1, 2, 3]```, genera dos arrays aleatorios 2D de size = (3, 4) y súmalos."
   ]
  },
  {
   "cell_type": "markdown",
   "id": "58dd922a",
   "metadata": {},
   "source": [
    "## <ins>Ejercicios Opcionales </ins>"
   ]
  },
  {
   "cell_type": "markdown",
   "id": "2f3cd026",
   "metadata": {},
   "source": [
    "## EJERCICIO 7"
   ]
  },
  {
   "cell_type": "markdown",
   "id": "de8639f8",
   "metadata": {},
   "source": [
    "Dado el array 2D ```[[1, 2, 3],[-1, 0, 1], [4, 5, 6], [-4, 0, 4], [3, 2, 1], [-3, 0, 3]]``` divídelo en 3 arrays 2D."
   ]
  },
  {
   "cell_type": "markdown",
   "id": "f754dfad",
   "metadata": {},
   "source": [
    "## EJERCICIO 8"
   ]
  },
  {
   "cell_type": "markdown",
   "id": "c4d05217",
   "metadata": {},
   "source": [
    "Crea una función universal que dado un array de strings devuelva el número total de vocales de cada string."
   ]
  }
 ],
 "metadata": {
  "kernelspec": {
   "display_name": "Python 3 (ipykernel)",
   "language": "python",
   "name": "python3"
  },
  "language_info": {
   "codemirror_mode": {
    "name": "ipython",
    "version": 3
   },
   "file_extension": ".py",
   "mimetype": "text/x-python",
   "name": "python",
   "nbconvert_exporter": "python",
   "pygments_lexer": "ipython3",
   "version": "3.11.4"
  }
 },
 "nbformat": 4,
 "nbformat_minor": 5
}

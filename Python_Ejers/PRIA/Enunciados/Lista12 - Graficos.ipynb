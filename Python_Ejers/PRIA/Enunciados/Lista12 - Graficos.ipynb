{
 "cells": [
  {
   "cell_type": "markdown",
   "id": "d287d88e",
   "metadata": {},
   "source": [
    "# LISTA 12 - GRÁFICOS"
   ]
  },
  {
   "cell_type": "markdown",
   "id": "f99190d1",
   "metadata": {},
   "source": [
    "## EJERCICIO 1"
   ]
  },
  {
   "cell_type": "markdown",
   "id": "b3836703",
   "metadata": {},
   "source": [
    "Dibuja 100 puntos aleatorios (entre 0 y 100 para ambas coordenadas) con colores y tamaños aleatorios y una transparencia de 0.5.\n",
    "\n",
    "Tendrás que crear 4 arrays aleatorios de 100 posiciones: uno para las coordenadas x, otro para y, otro para el color de cada punto y un último para el tamaño de cada punto. Para que los puntos no se vean muy pequeños, multiplica el array de tamaños por 10.\n",
    "\n",
    "Configura el tamaño de la figura a 10 x 10. Para ello, investiga el método .figure() de plt.\n",
    "\n",
    "Por último, selecciona los colores combinando el array aleatorio y el mapa de color llamado hsv y recuerda mostrar la colorbar."
   ]
  },
  {
   "cell_type": "markdown",
   "id": "feb0417e",
   "metadata": {},
   "source": [
    "## EJERCICIO 2"
   ]
  },
  {
   "cell_type": "markdown",
   "id": "91cd8f7c",
   "metadata": {},
   "source": [
    "Crea una función que dado un color en forma RGB lo transforme en su forma hexadecimal."
   ]
  },
  {
   "cell_type": "markdown",
   "id": "abf81a65",
   "metadata": {},
   "source": [
    "## EJERCICIO 3"
   ]
  },
  {
   "cell_type": "markdown",
   "id": "c0dda757",
   "metadata": {},
   "source": [
    "Dibuja la función sin(x)/x de color #f06741, la función (2sin(x))/x de color #a4f041 y la función -sin(x)/x de color #8d41f0 donde x ∈ ```[-5π, 5π]``` en el mismo plot.\n",
    "\n",
    "Crea el array x de tamaño 100 con el método .linspace() de numpy.\n",
    "\n",
    "Haz que el tamaño de la figure sea 8 x 6."
   ]
  },
  {
   "cell_type": "markdown",
   "id": "4d68e82b",
   "metadata": {},
   "source": [
    "## EJERCICIO 4"
   ]
  },
  {
   "cell_type": "markdown",
   "id": "ec7f3b2a",
   "metadata": {},
   "source": [
    "Dibuja las 3 funciones del ejercicio anterior cada una en un subplot con el método .subplot().\n",
    "\n",
    "Haz que el tamaño de la figure global sea 10 x 5."
   ]
  },
  {
   "cell_type": "markdown",
   "id": "5c943554",
   "metadata": {},
   "source": [
    "## EJERCICIO 5"
   ]
  },
  {
   "cell_type": "markdown",
   "id": "f2fe60bc",
   "metadata": {},
   "source": [
    "Dibuja un diagrama de sectores con los siguientes datos y los siguientes colores. Añádele un título, etiquetas, sombra, una separación de 0.2 al sector más pequeño, haz que empiece en el ángulo 45 y muestra los porcentajes con un solo decimal.\n",
    "\n",
    "options = ```[\"Suspenso\", \"Aprobado\", \"Notable\", \"Excelente\"]```\n",
    "count = ```[20, 10, 45, 25]```\n",
    "colors = ```[\"#ff2667\", \"#ff7226\", \"#26a8ff\", \"#67ff26\"]```"
   ]
  },
  {
   "cell_type": "markdown",
   "id": "2972dd7e",
   "metadata": {},
   "source": [
    "## EJERCICIO 6"
   ]
  },
  {
   "cell_type": "markdown",
   "id": "ef3c12ce",
   "metadata": {},
   "source": [
    "Dibuja el siguiente grafo con los nodos de color #ad80fa, las aristas de color #b1ddf5, el nombre de los nodos de color blanco y en negrita.\n",
    "```\n",
    "import networkx as nx\n",
    "G = nx.Graph()\n",
    "G.add_nodes_from(\"abcde\")\n",
    "G.add_weighted_edges_from([(\"a\", \"b\", 1), (\"a\", \"c\", 2), (\"a\", \"d\", 2), (\"a\", \"e\", 5), (\"b\", \"e\", 4), (\"c\", \"d\", 3), (\"d\", \"e\", 1)])\n",
    "```"
   ]
  },
  {
   "cell_type": "markdown",
   "id": "cbbfb36c",
   "metadata": {},
   "source": [
    "## EJERCICIO 7"
   ]
  },
  {
   "cell_type": "markdown",
   "id": "f0211a75",
   "metadata": {},
   "source": [
    "Considera el grafo del ejercicio anterior. El tamaño de los nodos debe ser 350 por el grado del nodo. El tamaño de la figura global debe ser de 8 x 6."
   ]
  },
  {
   "cell_type": "markdown",
   "id": "59397f22",
   "metadata": {},
   "source": [
    "## EJERCICIO 8"
   ]
  },
  {
   "cell_type": "markdown",
   "id": "8272bcdf",
   "metadata": {},
   "source": [
    "Considera el grafo del ejercicio anterior. El grosor de las aristas debe ir acorde al peso de cada arista."
   ]
  },
  {
   "cell_type": "markdown",
   "id": "3e767176",
   "metadata": {},
   "source": [
    "## EJERCICIO 9"
   ]
  },
  {
   "cell_type": "markdown",
   "id": "9da406b8",
   "metadata": {},
   "source": [
    "Investiga el método .text() de plt para añadir texto a un plot.\n",
    "\n",
    "Añade las siguientes 3 palabras “LA”, “AVENTURA”, “SIGUE”.\n",
    "\n",
    "La palabra “LA” debe estar en la posición (0.2, 0.8), con tamaño 50 y rotación 25, con alineación vertical y horizontal en el centro, y en una caja de estilo redondo, con color de borde y relleno #242fff y transparencia 0.7.\n",
    "\n",
    "La palabra “AVENTURA” debe estar en la posición (0.5, 0.55), con tamaño 50 y rotación -15, con alineación vertical y horizontal en el centro, y en una caja de estilo redondo, con color de borde y relleno #8a24ff y transparencia 0.7.\n",
    "\n",
    "La palabra “SIGUE” debe estar en la posición (0.8, 0.3), con tamaño 50 y rotación 10, con alineación vertical y horizontal en el centro, y en una caja de estilo redondo, con color de borde y relleno #24fff4 y transparencia 0.7.\n",
    "\n",
    "El tamaño de la figura global debe ser 10 x 8."
   ]
  }
 ],
 "metadata": {
  "kernelspec": {
   "display_name": "Python 3 (ipykernel)",
   "language": "python",
   "name": "python3"
  },
  "language_info": {
   "codemirror_mode": {
    "name": "ipython",
    "version": 3
   },
   "file_extension": ".py",
   "mimetype": "text/x-python",
   "name": "python",
   "nbconvert_exporter": "python",
   "pygments_lexer": "ipython3",
   "version": "3.10.9"
  }
 },
 "nbformat": 4,
 "nbformat_minor": 5
}

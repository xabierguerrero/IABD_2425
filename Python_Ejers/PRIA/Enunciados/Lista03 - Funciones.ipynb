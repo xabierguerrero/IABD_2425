{
 "cells": [
  {
   "cell_type": "markdown",
   "id": "d287d88e",
   "metadata": {},
   "source": [
    "# LISTA 3 - FUNCIONES\n",
    "## <ins>Ejercicios Obligatorios </ins>"
   ]
  },
  {
   "cell_type": "markdown",
   "id": "f99190d1",
   "metadata": {},
   "source": [
    "## EJERCICIO 1"
   ]
  },
  {
   "cell_type": "markdown",
   "id": "b3836703",
   "metadata": {},
   "source": [
    "Crea una función que devuelva la lista de todos los divisores de un número entero positivo pasado por parámetro (hay que comprobar el dato sea correcto)."
   ]
  },
  {
   "cell_type": "markdown",
   "id": "feb0417e",
   "metadata": {},
   "source": [
    "## EJERCICIO 2"
   ]
  },
  {
   "cell_type": "markdown",
   "id": "91cd8f7c",
   "metadata": {},
   "source": [
    "Crea una función que devuelva True si el carácter introducido por parámetro se trata de una vocal y False en caso contrario."
   ]
  },
  {
   "cell_type": "markdown",
   "id": "abf81a65",
   "metadata": {},
   "source": [
    "## EJERCICIO 3"
   ]
  },
  {
   "cell_type": "markdown",
   "id": "ec7f3b2a",
   "metadata": {},
   "source": [
    "Crea una función que dado un string por parámetro cuente cuántas veces sale cada carácter en dicho string y devuelva toda esa información en un diccionario."
   ]
  },
  {
   "cell_type": "markdown",
   "id": "4d68e82b",
   "metadata": {},
   "source": [
    "## EJERCICIO 4"
   ]
  },
  {
   "cell_type": "markdown",
   "id": "f0211a75",
   "metadata": {},
   "source": [
    "Dada una lista de palabras, quédate con filter() con las que tengan más vocales que consonantes. Necesitarás una función que devuelva si una palabra tiene más vocales que consonantes."
   ]
  },
  {
   "cell_type": "markdown",
   "id": "5c943554",
   "metadata": {},
   "source": [
    "## EJERCICIO 5"
   ]
  },
  {
   "cell_type": "markdown",
   "id": "8272bcdf",
   "metadata": {},
   "source": [
    "Dada una lista de números enteros, quédate con filter() con los que tengan más de 5 divisores. Necesitarás una función que devuelva el número de divisores de un número dado."
   ]
  },
  {
   "cell_type": "markdown",
   "id": "2972dd7e",
   "metadata": {},
   "source": [
    "## EJERCICIO 6"
   ]
  },
  {
   "cell_type": "markdown",
   "id": "9da406b8",
   "metadata": {},
   "source": [
    "Dada una lista de palabras, quédate con reduce() con la palabra más larga. Necesitarás una función que compare dos palabras y devuelva la que tenga mayor longitud."
   ]
  },
  {
   "cell_type": "markdown",
   "id": "cbbfb36c",
   "metadata": {},
   "source": [
    "## EJERCICIO 7"
   ]
  },
  {
   "cell_type": "markdown",
   "id": "eb6f147e",
   "metadata": {},
   "source": [
    "Dada una lista de palabras, quédate con reduce() y map() con la palabra con más consonantes (hay que mostrar el número de consonantes). Necesitarás una función que cuente el número de consonantes de una palabra y otra que dados dos números, devuelva el mayor."
   ]
  },
  {
   "cell_type": "markdown",
   "id": "4ec84fb7",
   "metadata": {},
   "source": [
    "## <ins>Ejercicios Opcionales </ins>"
   ]
  },
  {
   "cell_type": "markdown",
   "id": "59397f22",
   "metadata": {},
   "source": [
    "## EJERCICIO 8"
   ]
  },
  {
   "cell_type": "markdown",
   "id": "c0dda757",
   "metadata": {},
   "source": [
    "Crea una función que dado un color en hexadecimal devuelva una lista de 3 posiciones, cada una de ellas correspondiente al valor R, G y B en este orden. Los valores de RGB varían entre 0 y 255."
   ]
  },
  {
   "cell_type": "markdown",
   "id": "3e767176",
   "metadata": {},
   "source": [
    "## EJERCICIO 9"
   ]
  },
  {
   "cell_type": "markdown",
   "id": "13d2c744",
   "metadata": {},
   "source": [
    "Crea una función lambda que dado un número entero multiplique por su anterior y su siguiente. Por ejemplo, si proporcionamos n = 3, nos tendrá que devolver 2 x 3 x 4 = 24."
   ]
  },
  {
   "cell_type": "markdown",
   "id": "b97cdccc",
   "metadata": {},
   "source": [
    "## EJERCICIO 10"
   ]
  },
  {
   "cell_type": "markdown",
   "id": "4bbf4135",
   "metadata": {},
   "source": [
    "Dada una lista de palabras, calcula el número de vocales de cada una con map()."
   ]
  },
  {
   "cell_type": "markdown",
   "id": "17b343e6",
   "metadata": {},
   "source": [
    "## EJERCICIO 11"
   ]
  },
  {
   "cell_type": "markdown",
   "id": "ef3c12ce",
   "metadata": {},
   "source": [
    "Crea una función lambda que dados dos números devuelva si el primero es mayor."
   ]
  },
  {
   "cell_type": "markdown",
   "id": "88fe1c72",
   "metadata": {},
   "source": [
    "## EJERCICIO 12"
   ]
  },
  {
   "cell_type": "markdown",
   "id": "f7446bb5",
   "metadata": {},
   "source": [
    "Dada una lista de números enteros, calcula otra lista con el número anterior de cada elemento con map()."
   ]
  },
  {
   "cell_type": "markdown",
   "id": "6bcd805d",
   "metadata": {},
   "source": [
    "## EJERCICIO 13"
   ]
  },
  {
   "cell_type": "markdown",
   "id": "18202d6c",
   "metadata": {},
   "source": [
    "Dada una lista de números reales, ordénalos con sorted() por valor absoluto de menor a mayor."
   ]
  },
  {
   "cell_type": "markdown",
   "id": "e60749fd",
   "metadata": {},
   "source": [
    "## EJERCICIO 14"
   ]
  },
  {
   "cell_type": "markdown",
   "id": "e7b12a5a",
   "metadata": {},
   "source": [
    "Dada una lista de palabras, ordénalos con sorted() por número de consonantes de mayor a menor."
   ]
  }
 ],
 "metadata": {
  "kernelspec": {
   "display_name": "Python 3 (ipykernel)",
   "language": "python",
   "name": "python3"
  },
  "language_info": {
   "codemirror_mode": {
    "name": "ipython",
    "version": 3
   },
   "file_extension": ".py",
   "mimetype": "text/x-python",
   "name": "python",
   "nbconvert_exporter": "python",
   "pygments_lexer": "ipython3",
   "version": "3.10.9"
  }
 },
 "nbformat": 4,
 "nbformat_minor": 5
}

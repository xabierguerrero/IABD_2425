{
 "cells": [
  {
   "cell_type": "markdown",
   "id": "d287d88e",
   "metadata": {},
   "source": [
    "# LISTA 11 - PANDAS"
   ]
  },
  {
   "cell_type": "markdown",
   "id": "5abe7c16",
   "metadata": {},
   "source": [
    "## <ins>Ejercicios Obligatorios </ins>"
   ]
  },
  {
   "cell_type": "code",
   "execution_count": 2,
   "id": "336c39bd-b1dd-4ec7-807b-82612a36cebe",
   "metadata": {
    "tags": []
   },
   "outputs": [],
   "source": [
    "import pandas as pd\n",
    "import numpy as np\n",
    "import matplotlib.pyplot as plt\n",
    "from pandas import Series, DataFrame"
   ]
  },
  {
   "cell_type": "markdown",
   "id": "f99190d1",
   "metadata": {},
   "source": [
    "## EJERCICIO 1"
   ]
  },
  {
   "cell_type": "markdown",
   "id": "b3836703",
   "metadata": {},
   "source": [
    "Crea un dataframe con 15 filas y 2 columnas. La primera columna se llamará x, la segunda y. Cada entrada será un número aleatorio (puedes usar random.normal() de la librería numpy). Guarda el dataframe en una variable llamada points."
   ]
  },
  {
   "cell_type": "code",
   "execution_count": null,
   "id": "9c09e6d7-32a7-486b-92b7-eb1646acf21f",
   "metadata": {
    "tags": []
   },
   "outputs": [],
   "source": [
    "\n"
   ]
  },
  {
   "cell_type": "markdown",
   "id": "feb0417e",
   "metadata": {},
   "source": [
    "## EJERCICIO 2"
   ]
  },
  {
   "cell_type": "markdown",
   "id": "91cd8f7c",
   "metadata": {},
   "source": [
    "Del dataframe points, muestra las filas cuyo valor en la columna x sea positivo."
   ]
  },
  {
   "cell_type": "code",
   "execution_count": null,
   "id": "6bd457ba-4888-4018-9b5f-39494a9d57a6",
   "metadata": {},
   "outputs": [],
   "source": []
  },
  {
   "cell_type": "markdown",
   "id": "abf81a65",
   "metadata": {},
   "source": [
    "## EJERCICIO 3"
   ]
  },
  {
   "cell_type": "markdown",
   "id": "c0dda757",
   "metadata": {},
   "source": [
    "Del dataframe points, muestra las filas cuyo valor en la columna y sea negativo."
   ]
  },
  {
   "cell_type": "markdown",
   "id": "4d68e82b",
   "metadata": {},
   "source": [
    "## EJERCICIO 4"
   ]
  },
  {
   "cell_type": "markdown",
   "id": "ec7f3b2a",
   "metadata": {},
   "source": [
    "Del dataframe points, muestra las observaciones cuyos puntos (x, y) pertenezcan al primer cuadrante. "
   ]
  },
  {
   "cell_type": "markdown",
   "id": "5c943554",
   "metadata": {},
   "source": [
    "## EJERCICIO 5"
   ]
  },
  {
   "cell_type": "markdown",
   "id": "13d2c744",
   "metadata": {},
   "source": [
    "Del dataframe points, muestra las observaciones de la forma: “El punto ({x}, {y}) {no/sí} pertenece al primer cuadrante”."
   ]
  },
  {
   "cell_type": "markdown",
   "id": "2972dd7e",
   "metadata": {},
   "source": [
    "## EJERCICIO 6"
   ]
  },
  {
   "cell_type": "markdown",
   "id": "ef3c12ce",
   "metadata": {},
   "source": [
    "Crea un dataframe con 10 filas y 4 columnas. La primera columna se llamará word; la segunda, length; la tercera, vowels; y la última, consonants. La columna words contendrá las siguientes 10 palabras: “euro”, “diez” “algas”, “broma”, “cicuta”, “fatiga”, “nachos”, “jadeos”, “hazañas”, “boutique”. Las columnas length, vowels y consonants contendrán, respectivamente, la longitud, el total de vocales y el total de consonantes (añade las columnas calculando su valor por código). Guarda el dataframe en la variable words."
   ]
  },
  {
   "cell_type": "markdown",
   "id": "cbbfb36c",
   "metadata": {},
   "source": [
    "## EJERCICIO 7"
   ]
  },
  {
   "cell_type": "markdown",
   "id": "f0211a75",
   "metadata": {},
   "source": [
    "Muestra las 10 observaciones de words con el formato “La palabra {word} tiene {length} letras, de las cuales {vowels} son vocales y {consonants} consonantes”."
   ]
  },
  {
   "cell_type": "markdown",
   "id": "59397f22",
   "metadata": {},
   "source": [
    "## EJERCICIO 8"
   ]
  },
  {
   "cell_type": "markdown",
   "id": "8272bcdf",
   "metadata": {},
   "source": [
    "Muestra aquellas observaciones de words que tienen el mismo número de vocales y consonantes."
   ]
  },
  {
   "cell_type": "markdown",
   "id": "a157cc9d",
   "metadata": {},
   "source": [
    "## EJERCICIO 9"
   ]
  },
  {
   "cell_type": "markdown",
   "id": "41b16d4b",
   "metadata": {},
   "source": [
    "El siguiente DataFrame contiene información de los pisos en alquiler en Murcia a fecha de 31/12/2020:\n",
    "```\n",
    "fotocasa_df = pd.read_csv(\"https://drive.google.com/uc?export=view&id=1DwvALe87aeDzTk7s6xGPDd6itJ65s4YE\", index_col = 0)\n",
    "```\n",
    "Muestra el número de filas, columnas y valores que contiene el DataFrame cargado:"
   ]
  },
  {
   "cell_type": "markdown",
   "id": "5c606a0f",
   "metadata": {},
   "source": [
    "## EJERCICIO 10"
   ]
  },
  {
   "cell_type": "markdown",
   "id": "3b8ae681",
   "metadata": {},
   "source": [
    "Recupera los cinco primeros pisos (filas)"
   ]
  },
  {
   "cell_type": "markdown",
   "id": "f33f8820",
   "metadata": {},
   "source": [
    "## EJERCICIO 11"
   ]
  },
  {
   "cell_type": "markdown",
   "id": "02e62bf3",
   "metadata": {},
   "source": [
    "Recupera los cinco últimos pisos:"
   ]
  },
  {
   "cell_type": "markdown",
   "id": "1671f2ca",
   "metadata": {},
   "source": [
    "Muestra los campos Inmobiliaria y Tipo de inmueble de los tres últimos pisos:"
   ]
  },
  {
   "cell_type": "markdown",
   "id": "bad2b17d",
   "metadata": {},
   "source": [
    "## EJERCICIO 12"
   ]
  },
  {
   "cell_type": "markdown",
   "id": "bc18b640",
   "metadata": {},
   "source": [
    "Las columnas Domótica, Pista de Tenis, Alarma, Mascotas, Energía Solar y Gimnasio no contienen apenas valores definidos. Elimínalas del DataFrame y almacena el resultado en fotocasa1_df:"
   ]
  },
  {
   "cell_type": "markdown",
   "id": "66e14b8f",
   "metadata": {},
   "source": [
    "## EJERCICIO 13"
   ]
  },
  {
   "cell_type": "markdown",
   "id": "ef449a83",
   "metadata": {},
   "source": [
    "Renombra a continuación la columna Tipo de inmueble de fotocasa1_df por Tipo. Asigna el resultado a la variable fotocasa2_df:"
   ]
  },
  {
   "cell_type": "markdown",
   "id": "5d8cb243",
   "metadata": {},
   "source": [
    "## EJERCICIO 14"
   ]
  },
  {
   "cell_type": "markdown",
   "id": "f235bf13",
   "metadata": {},
   "source": [
    "Elimina del DataFrame aquellos pisos que no tienen Precio o que su Precio sea \"A consultar\". Asigna el resultado a la variable fotocasa4_df:\n",
    "\n",
    "PISTA: para seleccionar los alquileres sin precio utiliza el método isnull(). Utiliza notnull() para seleccionar los alquileres con precio.."
   ]
  },
  {
   "cell_type": "markdown",
   "id": "7c5bac3c",
   "metadata": {},
   "source": [
    "## EJERCICIO 15"
   ]
  },
  {
   "cell_type": "markdown",
   "id": "ed66bd5b",
   "metadata": {},
   "source": [
    "Utiliza la función astype para convertir las columnas Tipo, Orientación, Estado y Parking a tipo categórico. Asigna los resultados a la variable fotocasa5_df y comprueba mediante el parámetro dtype que el tipo asignado sea correcto:"
   ]
  },
  {
   "cell_type": "markdown",
   "id": "2223ff4c",
   "metadata": {},
   "source": [
    "## EJERCICIO 16"
   ]
  },
  {
   "cell_type": "markdown",
   "id": "df0c3d80",
   "metadata": {},
   "source": [
    "Cargar el fichero situado en https://raw.githubusercontent.com/ainaramu-icjardin/big_data/main/ciudades_ejemplo.csv\n",
    "como un dataframe Pandas, y guardarlo a continuación en formato excel."
   ]
  },
  {
   "cell_type": "markdown",
   "id": "a6304ee6",
   "metadata": {},
   "source": [
    "## EJERCICIO 17"
   ]
  },
  {
   "cell_type": "markdown",
   "id": "788c7d0a",
   "metadata": {},
   "source": [
    "Cargar el fichero \"https://raw.githubusercontent.com/ainaramu-icjardin/big_data/main/parocomunidades.csv\" que está con codificación (encoding) \"latin1\" y dejarlo en un dataframe df_paro.\n",
    "\n",
    "Mostrar solo las filas de `df_paro` que corresponden al Periodo 2019.\n",
    "\n",
    "Mostrar solo las filas de df_paro que corresponden a un total mayor de 15.\n",
    "\n",
    "Mostrar solo las filas que corresponden al Periodo 2019 y tienen Total mayor de 15."
   ]
  },
  {
   "cell_type": "markdown",
   "id": "d4499388",
   "metadata": {},
   "source": [
    "## <ins>Ejercicios Opcionales </ins>"
   ]
  },
  {
   "cell_type": "markdown",
   "id": "e207b56d",
   "metadata": {},
   "source": [
    "## EJERCICIO 18"
   ]
  },
  {
   "cell_type": "markdown",
   "id": "052f87b0",
   "metadata": {},
   "source": [
    "Investiga el método .sort_values() para ordenar las observaciones según la longitud de las palabras en orden descendente."
   ]
  },
  {
   "cell_type": "markdown",
   "id": "2639e1ab",
   "metadata": {},
   "source": [
    "## EJERCICIO 19"
   ]
  },
  {
   "cell_type": "markdown",
   "id": "3196772c",
   "metadata": {},
   "source": [
    "Convierte la columna vowels a lista y, con sorted() ordénala de mayor a menor. Investiga para ello el método .tolist()."
   ]
  },
  {
   "cell_type": "markdown",
   "id": "61777947",
   "metadata": {},
   "source": [
    "## EJERCICIO 20"
   ]
  },
  {
   "cell_type": "markdown",
   "id": "17af4349",
   "metadata": {},
   "source": [
    "Recupera aquellos pisos que ocupan una posición múltiplo de 100:"
   ]
  },
  {
   "cell_type": "markdown",
   "id": "274661d0",
   "metadata": {},
   "source": [
    "## EJERCICIO 21"
   ]
  },
  {
   "cell_type": "markdown",
   "id": "b6ad7a6f",
   "metadata": {},
   "source": [
    "Muestra el piso que se encuentra en la posición 7:"
   ]
  },
  {
   "cell_type": "markdown",
   "id": "edbe24c0",
   "metadata": {},
   "source": [
    "## EJERCICIO 22"
   ]
  },
  {
   "cell_type": "markdown",
   "id": "cc54c300",
   "metadata": {},
   "source": [
    "Muestra el piso cuyo índice vale 9:"
   ]
  },
  {
   "cell_type": "markdown",
   "id": "c543d072",
   "metadata": {},
   "source": [
    "## EJERCICIO 23"
   ]
  },
  {
   "cell_type": "markdown",
   "id": "f9d437ee",
   "metadata": {},
   "source": [
    "Muestra el campo Dirección de los tres primeros pisos. Utiliza para ello tanto el operador ```[]``` como ```[[]]```. ¿Qué diferencia encuentras?"
   ]
  },
  {
   "cell_type": "markdown",
   "id": "91951d7d",
   "metadata": {},
   "source": [
    "## EJERCICIO 24"
   ]
  },
  {
   "cell_type": "markdown",
   "id": "381312d3",
   "metadata": {},
   "source": [
    "Muestra los campos Inmobiliaria y Tipo de inmueble de los tres últimos pisos:"
   ]
  },
  {
   "cell_type": "markdown",
   "id": "5626bf1b",
   "metadata": {},
   "source": [
    "## EJERCICIO 25"
   ]
  },
  {
   "cell_type": "markdown",
   "id": "a3e08a47",
   "metadata": {},
   "source": [
    "Muestra el valor del DataFrame contenido en la posición (2,2):"
   ]
  },
  {
   "cell_type": "markdown",
   "id": "38293350",
   "metadata": {},
   "source": [
    "## EJERCICIO 26"
   ]
  },
  {
   "cell_type": "markdown",
   "id": "460d4de1",
   "metadata": {},
   "source": [
    "Muestra el valor del DataFrame cuyo índice es 2 y cuya columna es Título:"
   ]
  },
  {
   "cell_type": "markdown",
   "id": "3d59e291",
   "metadata": {},
   "source": [
    "## EJERCICIO 27"
   ]
  },
  {
   "cell_type": "markdown",
   "id": "90422333",
   "metadata": {},
   "source": [
    "Muestra los tres primeros inmuebles de Tipo de inmueble = Apartamento:"
   ]
  },
  {
   "cell_type": "markdown",
   "id": "4782f1d2",
   "metadata": {},
   "source": [
    "## EJERCICIO 28"
   ]
  },
  {
   "cell_type": "markdown",
   "id": "b6e5cbaf",
   "metadata": {},
   "source": [
    "Muestra los dos primeros inmuebles de Tipo de inmueble = Piso y que no se alquilen por inmobiliaria (Inmobiliaria = False):"
   ]
  },
  {
   "cell_type": "markdown",
   "id": "f2d48ba8",
   "metadata": {},
   "source": [
    "## EJERCICIO 29"
   ]
  },
  {
   "cell_type": "markdown",
   "id": "18e1b9ff",
   "metadata": {},
   "source": [
    "Elimina del DataFrame contenido en fotocasa2_df los alquileres de la posición 597 y 598. Asigna el resultado a fotocasa3_df:"
   ]
  }
 ],
 "metadata": {
  "kernelspec": {
   "display_name": "base",
   "language": "python",
   "name": "python3"
  },
  "language_info": {
   "codemirror_mode": {
    "name": "ipython",
    "version": 3
   },
   "file_extension": ".py",
   "mimetype": "text/x-python",
   "name": "python",
   "nbconvert_exporter": "python",
   "pygments_lexer": "ipython3",
   "version": "3.12.4"
  }
 },
 "nbformat": 4,
 "nbformat_minor": 5
}

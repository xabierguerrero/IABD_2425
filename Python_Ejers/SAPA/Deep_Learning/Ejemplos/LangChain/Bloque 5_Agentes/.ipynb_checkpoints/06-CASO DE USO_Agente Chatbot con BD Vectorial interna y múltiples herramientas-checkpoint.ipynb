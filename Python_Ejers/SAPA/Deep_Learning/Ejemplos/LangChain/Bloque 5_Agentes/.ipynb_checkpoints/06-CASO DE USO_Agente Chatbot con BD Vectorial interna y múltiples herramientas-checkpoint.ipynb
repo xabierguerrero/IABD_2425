{
 "cells": [
  {
   "cell_type": "markdown",
   "id": "9454b5e9",
   "metadata": {},
   "source": [
    "<em style=\"text-align:center\">Copyright Iván Pinar Domínguez</em>"
   ]
  },
  {
   "cell_type": "markdown",
   "id": "e2128d1c-62d1-4681-abe1-754a1410e632",
   "metadata": {},
   "source": [
    "## 0.Importar librerías iniciales e instancia de modelo de chat"
   ]
  },
  {
   "cell_type": "code",
   "execution_count": 16,
   "id": "da270ae4",
   "metadata": {},
   "outputs": [],
   "source": [
    "from langchain_openai import ChatOpenAI\n",
    "from langchain.prompts import PromptTemplate, SystemMessagePromptTemplate,ChatPromptTemplate, HumanMessagePromptTemplate\n",
    "from langchain.agents import load_tools,initialize_agent,AgentType,create_react_agent,AgentExecutor\n",
    "f = open('../OpenAI_key.txt')\n",
    "api_key = f.read()\n",
    "llm = ChatOpenAI(openai_api_key=api_key,temperature=0) #Recomendable temperatura a 0 para que el LLM no sea muy creativo, vamos a tener muchas herramientas a nuestra disposición y queremos que sea más determinista"
   ]
  },
  {
   "cell_type": "markdown",
   "id": "d8a6a887",
   "metadata": {},
   "source": [
    "## 1.Cargamos la BD Vectores y el compresor"
   ]
  },
  {
   "cell_type": "code",
   "execution_count": 17,
   "id": "a0cd8686",
   "metadata": {},
   "outputs": [],
   "source": [
    "#Podríamos establecer que tuviera memoria\n",
    "from langchain.memory import ConversationBufferMemory\n",
    "memory = ConversationBufferMemory(memory_key=\"chat_history\") #ponemos una denominada clave a la memoria \"chat_history\""
   ]
  },
  {
   "cell_type": "code",
   "execution_count": 19,
   "id": "ac1c2fca",
   "metadata": {},
   "outputs": [],
   "source": [
    "from langchain_community.vectorstores import SKLearnVectorStore\n",
    "from langchain_openai import OpenAIEmbeddings\n",
    "from langchain.retrievers import ContextualCompressionRetriever\n",
    "from langchain.retrievers.document_compressors import LLMChainExtractor\n",
    "\n",
    "funcion_embedding = OpenAIEmbeddings(openai_api_key=api_key)\n",
    "persist_path=\"../Bloque 3_Conectores de Datos/ejemplosk_embedding_db\"\n",
    "vector_store_connection = SKLearnVectorStore(embedding=funcion_embedding, persist_path=persist_path, serializer=\"parquet\")\n",
    "compressor = LLMChainExtractor.from_llm(llm)\n",
    "compression_retriever = ContextualCompressionRetriever(base_compressor=compressor, base_retriever=vector_store_connection.as_retriever())"
   ]
  },
  {
   "cell_type": "markdown",
   "id": "771f0f7b",
   "metadata": {},
   "source": [
    "## 2.Creamos una nueva herramienta a partir de la BD Vectorial para obtener resultados optimizados"
   ]
  },
  {
   "cell_type": "code",
   "execution_count": 5,
   "id": "9a390f1a",
   "metadata": {},
   "outputs": [],
   "source": [
    "from langchain.agents import tool"
   ]
  },
  {
   "cell_type": "code",
   "execution_count": 33,
   "id": "54dbe9ce",
   "metadata": {},
   "outputs": [],
   "source": [
    "@tool\n",
    "def consulta_interna(text: str) -> str:\n",
    "    '''Retorna respuestas sobre la historia de España. Se espera que la entrada sea una cadena de texto\n",
    "    y retorna una cadena con el resultado más relevante. Si la respuesta con esta herramienta es relevante,\n",
    "    no debes usar ninguna herramienta más'''\n",
    "    compressed_docs = compression_retriever.invoke(text)\n",
    "    resultado = compressed_docs[0].page_content\n",
    "    return resultado"
   ]
  },
  {
   "cell_type": "code",
   "execution_count": 34,
   "id": "109b221e",
   "metadata": {},
   "outputs": [],
   "source": [
    "tools = load_tools([\"wikipedia\",\"llm-math\"],llm=llm)"
   ]
  },
  {
   "cell_type": "code",
   "execution_count": 35,
   "id": "e6443291",
   "metadata": {},
   "outputs": [],
   "source": [
    "tools=tools+[consulta_interna]"
   ]
  },
  {
   "cell_type": "markdown",
   "id": "430a1e2b",
   "metadata": {},
   "source": [
    "## 3.Creamos el agente y lo ejecutamos "
   ]
  },
  {
   "cell_type": "code",
   "execution_count": 36,
   "id": "de033456",
   "metadata": {},
   "outputs": [],
   "source": [
    "agent = initialize_agent(tools, llm, agent=AgentType.CONVERSATIONAL_REACT_DESCRIPTION,memory=memory,verbose=True)"
   ]
  },
  {
   "cell_type": "code",
   "execution_count": 38,
   "id": "356c45df",
   "metadata": {},
   "outputs": [
    {
     "name": "stdout",
     "output_type": "stream",
     "text": [
      "\n",
      "\n",
      "\u001b[1m> Entering new AgentExecutor chain...\u001b[0m\n",
      "\u001b[32;1m\u001b[1;3mThought: Do I need to use a tool? Yes\n",
      "Action: consulta_interna\n",
      "Action Input: ¿Qué periodo abarca cronológicamente en España el siglo de oro?\u001b[0m\n",
      "Observation: \u001b[38;5;200m\u001b[1;3mEl Siglo de Oro español fue un período floreciente en las artes y las letras hispanas que abarca cronológicamente desde la publicación de la Gramática castellana de Nebrija en 1492 hasta la muerte de Calderón en 1681.\u001b[0m\n",
      "Thought:\u001b[32;1m\u001b[1;3mDo I need to use a tool? No\n",
      "AI: The Spanish Golden Age, known as the Siglo de Oro, chronologically spans from the publication of the Spanish Grammar by Nebrija in 1492 to the death of Calderón in 1681.\u001b[0m\n",
      "\n",
      "\u001b[1m> Finished chain.\u001b[0m\n"
     ]
    },
    {
     "data": {
      "text/plain": [
       "{'input': '¿Qué periodo abarca cronológicamente en España el siglo de oro?',\n",
       " 'chat_history': 'Human: ¿Qué paso en España en el siglo de oro?\\nAI: En el Siglo de Oro español, que abarca los siglos XVI y XVII, España experimentó un período de gran esplendor cultural y artístico. Fue una época en la que destacaron figuras como Miguel de Cervantes, autor de \"Don Quijote de la Mancha\", y artistas como Diego Velázquez y El Greco. También fue un período de expansión territorial y poderío militar para España.\\nHuman: ¿Qué paso en España en el siglo de oro?\\nAI: The Spanish Golden Age, known as the Siglo de Oro, was a period of flourishing in Spanish arts and literature that lasted from the publication of the Spanish Grammar by Nebrija in 1492 to the death of Calderón in 1681. It was a time of great cultural and artistic achievements in Spain.\\nHuman: ¿Qué paso en España en el siglo de oro?\\nAI: El Siglo de Oro español fue un período de gran esplendor cultural y artístico en España, destacando figuras como Miguel de Cervantes, Diego Velázquez, y El Greco. Fue una época de expansión territorial y poderío militar para España.',\n",
       " 'output': 'The Spanish Golden Age, known as the Siglo de Oro, chronologically spans from the publication of the Spanish Grammar by Nebrija in 1492 to the death of Calderón in 1681.'}"
      ]
     },
     "execution_count": 38,
     "metadata": {},
     "output_type": "execute_result"
    }
   ],
   "source": [
    "agent.invoke(\"¿Qué periodo abarca cronológicamente en España el siglo de oro?\")"
   ]
  },
  {
   "cell_type": "code",
   "execution_count": 39,
   "id": "a6bea07d",
   "metadata": {},
   "outputs": [
    {
     "name": "stdout",
     "output_type": "stream",
     "text": [
      "\n",
      "\n",
      "\u001b[1m> Entering new AgentExecutor chain...\u001b[0m\n",
      "\u001b[32;1m\u001b[1;3mThought: Do I need to use a tool? Yes\n",
      "Action: consulta_interna\n",
      "Action Input: ¿Qué pasó durante el Siglo de Oro en Francia?\u001b[0m\n",
      "Observation: \u001b[38;5;200m\u001b[1;3mSiglo de Oro\n",
      "Artículo principal: Siglo de Oro\n",
      "\n",
      "Miguel de Cervantes Saavedra\n",
      "El Siglo de Oro español fue un período floreciente en las artes y las letras hispanas que abarca cronológicamente desde la publicación de la Gramática castellana de Nebrija en 1492 hasta la muerte de Calderón en 1681.\u001b[0m\n",
      "Thought:\u001b[32;1m\u001b[1;3mDo I need to use a tool? No\n",
      "AI: Durante la misma etapa en Francia, se conoce como el Siglo de Oro de la literatura francesa, que abarca aproximadamente desde el siglo XVI hasta el siglo XVII. Fue un período de gran desarrollo cultural y artístico en Francia, con figuras destacadas como Pierre de Ronsard y Joachim du Bellay en poesía, y Michel de Montaigne en ensayo. También fue una época de expansión territorial y poderío militar para Francia.\u001b[0m\n",
      "\n",
      "\u001b[1m> Finished chain.\u001b[0m\n"
     ]
    },
    {
     "data": {
      "text/plain": [
       "{'input': '¿Qué pasó durante la misma etapa en Francia?',\n",
       " 'chat_history': 'Human: ¿Qué paso en España en el siglo de oro?\\nAI: En el Siglo de Oro español, que abarca los siglos XVI y XVII, España experimentó un período de gran esplendor cultural y artístico. Fue una época en la que destacaron figuras como Miguel de Cervantes, autor de \"Don Quijote de la Mancha\", y artistas como Diego Velázquez y El Greco. También fue un período de expansión territorial y poderío militar para España.\\nHuman: ¿Qué paso en España en el siglo de oro?\\nAI: The Spanish Golden Age, known as the Siglo de Oro, was a period of flourishing in Spanish arts and literature that lasted from the publication of the Spanish Grammar by Nebrija in 1492 to the death of Calderón in 1681. It was a time of great cultural and artistic achievements in Spain.\\nHuman: ¿Qué paso en España en el siglo de oro?\\nAI: El Siglo de Oro español fue un período de gran esplendor cultural y artístico en España, destacando figuras como Miguel de Cervantes, Diego Velázquez, y El Greco. Fue una época de expansión territorial y poderío militar para España.\\nHuman: ¿Qué periodo abarca cronológicamente en España el siglo de oro?\\nAI: The Spanish Golden Age, known as the Siglo de Oro, chronologically spans from the publication of the Spanish Grammar by Nebrija in 1492 to the death of Calderón in 1681.',\n",
       " 'output': 'Durante la misma etapa en Francia, se conoce como el Siglo de Oro de la literatura francesa, que abarca aproximadamente desde el siglo XVI hasta el siglo XVII. Fue un período de gran desarrollo cultural y artístico en Francia, con figuras destacadas como Pierre de Ronsard y Joachim du Bellay en poesía, y Michel de Montaigne en ensayo. También fue una época de expansión territorial y poderío militar para Francia.'}"
      ]
     },
     "execution_count": 39,
     "metadata": {},
     "output_type": "execute_result"
    }
   ],
   "source": [
    "agent.invoke(\"¿Qué pasó durante la misma etapa en Francia?\") #Gracias a tener memoria compara en esas fechas qué ocurrió en Francia"
   ]
  },
  {
   "cell_type": "code",
   "execution_count": 40,
   "id": "59281e39",
   "metadata": {},
   "outputs": [
    {
     "name": "stdout",
     "output_type": "stream",
     "text": [
      "\n",
      "\n",
      "\u001b[1m> Entering new AgentExecutor chain...\u001b[0m\n",
      "\u001b[32;1m\u001b[1;3mThought: Do I need to use a tool? Yes\n",
      "Action: wikipedia\n",
      "Action Input: Most famous car brands today\u001b[0m\n",
      "Observation: \u001b[36;1m\u001b[1;3mPage: List of most expensive cars sold at auction\n",
      "Summary: This is a list of the most expensive cars sold in public auto auctions through the traditional bidding process, that of those that attracted headline grabbing publicity, mainly for the high price their new owners have paid.\n",
      "On May 5, 2022, in a secret auction at the brand's museum in Germany, Mercedes-Benz sold one of just two 1955 300 SLR Uhlenhaut coupes from its extensive collection of historical automobiles—which dates back to the earliest days of the car in the late 19th century. The sale, to a private buyer, was for 135 million euros ($142,769,250). It handily outstripped the previous record-setting $48.4-million sale of a 1962 Ferrari 250 GTO at a 2018 auction to become the most expensive car ever sold at auction. Both of these high-dollar sales were brokered by RM Sotheby's.\n",
      "On June 1, 2018, it was announced that a 1963 Ferrari 250 GTO had sold for $70 million at a private auction, at the time a world record.\n",
      "The 1904 Rolls-Royce 10 hp Two-Seater is currently listed on the Guinness World Records as the most expensive veteran car to be sold, at the price of US$7,254,290 (equivalent to $10,660,000 in 2023), on a Bonhams auction held at Olympia in London on December 3, 2007.\n",
      "This list only consists of those sold for at least $4 million in auction sales during a traditional bidding process, inclusive of the mandatory buyers premium and does not include private, unsuccessful (failing to reach its reserve price, incomplete) and out of auction sales.\n",
      "\n",
      "Common contributing factors affecting the value of auctioned automobiles include:\n",
      "\n",
      "Low production volumes and rarity (limited supply)\n",
      "Desirability (increased demand)\n",
      "aesthetic design, even of its time\n",
      "Nostalgia- is known as the generation effect; collectors in their prime earning years, able to afford a seven figure car, are likely to buy cars that they are born to identify themselves with.\n",
      "Sport cars are typically more expensive than comparable engined sedans (also known as saloons), therefore more desirable. The same applies to roadsters over sedans. Luxury cars, however, because of their higher price tag, are on a higher end of the scale.\n",
      "Condition, also complete documentation (such as evidence of its restoration) of the car is vital for its value. It is not unusual for these cars to have undergone restoration work in the past costing hundreds of thousands, if not millions, of dollars.\n",
      "Winning a prestigious auto show helps the car's value. This was the case for some of the cars listed below have been cited to had taken overall or class wins at the Pebble Beach Concours d'Elegance.\n",
      "Originality, typically a car that had its original mechanical components, as it was when it left the factory, is more desirable to the one that doesn't. Original bodyshell retains the value better to one fitted with a new body but the chassis of the car is more considered by collectors.\n",
      "Cars equipped with automatic transmission are considered to be less desirable than its manual counterpart.\n",
      "Cars that have been freshly restored or hidden away for a number of years or decades makes the car desirable to a show winner or a famous car.\n",
      "Eligibility to vintage events is a factor to prices as collectors typically buy vintage race cars to enter historic events as are cars that can be designed to be driven on the street but are competitive on the track.\n",
      "The originality of the car is considered important in historic racing due to the Historic Technical Passports and FIA Heritage Certificates in force, meaning cars must retain mechanical systems that belonged to the car of the period to prevent unfair advantages.\n",
      "Cars with a strong motorsport history improve on the car's desirability, better if the car have won a prestigious race such as the 24 Hours of Le Mans, the Formula One World Championship and the Indianapolis 500. An example would be the Ferrari 330 TRI/LM Spider that was sold for $9.25 million in 2007, which was the 1962 winner of the 24 hours\u001b[0m\n",
      "Thought:\u001b[32;1m\u001b[1;3mDo I need to use a tool? No\n",
      "AI: Some of the most famous car brands today include Toyota, Volkswagen, Ford, Honda, Chevrolet, Nissan, and Mercedes-Benz, among others. These brands are well-known for producing a wide range of vehicles that cater to different needs and preferences of consumers around the world.\u001b[0m\n",
      "\n",
      "\u001b[1m> Finished chain.\u001b[0m\n"
     ]
    },
    {
     "data": {
      "text/plain": [
       "{'input': '¿Cuáles son las marcas de vehículos más famosas hoy en día?',\n",
       " 'chat_history': 'Human: ¿Qué paso en España en el siglo de oro?\\nAI: En el Siglo de Oro español, que abarca los siglos XVI y XVII, España experimentó un período de gran esplendor cultural y artístico. Fue una época en la que destacaron figuras como Miguel de Cervantes, autor de \"Don Quijote de la Mancha\", y artistas como Diego Velázquez y El Greco. También fue un período de expansión territorial y poderío militar para España.\\nHuman: ¿Qué paso en España en el siglo de oro?\\nAI: The Spanish Golden Age, known as the Siglo de Oro, was a period of flourishing in Spanish arts and literature that lasted from the publication of the Spanish Grammar by Nebrija in 1492 to the death of Calderón in 1681. It was a time of great cultural and artistic achievements in Spain.\\nHuman: ¿Qué paso en España en el siglo de oro?\\nAI: El Siglo de Oro español fue un período de gran esplendor cultural y artístico en España, destacando figuras como Miguel de Cervantes, Diego Velázquez, y El Greco. Fue una época de expansión territorial y poderío militar para España.\\nHuman: ¿Qué periodo abarca cronológicamente en España el siglo de oro?\\nAI: The Spanish Golden Age, known as the Siglo de Oro, chronologically spans from the publication of the Spanish Grammar by Nebrija in 1492 to the death of Calderón in 1681.\\nHuman: ¿Qué pasó durante la misma etapa en Francia?\\nAI: Durante la misma etapa en Francia, se conoce como el Siglo de Oro de la literatura francesa, que abarca aproximadamente desde el siglo XVI hasta el siglo XVII. Fue un período de gran desarrollo cultural y artístico en Francia, con figuras destacadas como Pierre de Ronsard y Joachim du Bellay en poesía, y Michel de Montaigne en ensayo. También fue una época de expansión territorial y poderío militar para Francia.',\n",
       " 'output': 'Some of the most famous car brands today include Toyota, Volkswagen, Ford, Honda, Chevrolet, Nissan, and Mercedes-Benz, among others. These brands are well-known for producing a wide range of vehicles that cater to different needs and preferences of consumers around the world.'}"
      ]
     },
     "execution_count": 40,
     "metadata": {},
     "output_type": "execute_result"
    }
   ],
   "source": [
    "agent.invoke(\"¿Cuáles son las marcas de vehículos más famosas hoy en día?\") #Pregunta que no podemos responder con nuestra BD Vectorial"
   ]
  }
 ],
 "metadata": {
  "kernelspec": {
   "display_name": "Python 3 (ipykernel)",
   "language": "python",
   "name": "python3"
  },
  "language_info": {
   "codemirror_mode": {
    "name": "ipython",
    "version": 3
   },
   "file_extension": ".py",
   "mimetype": "text/x-python",
   "name": "python",
   "nbconvert_exporter": "python",
   "pygments_lexer": "ipython3",
   "version": "3.11.5"
  }
 },
 "nbformat": 4,
 "nbformat_minor": 5
}

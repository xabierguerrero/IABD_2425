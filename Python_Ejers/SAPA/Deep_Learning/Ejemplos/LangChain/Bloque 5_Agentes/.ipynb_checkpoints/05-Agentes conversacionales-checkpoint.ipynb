{
 "cells": [
  {
   "cell_type": "markdown",
   "id": "9454b5e9",
   "metadata": {},
   "source": [
    "<em style=\"text-align:center\">Copyright Iván Pinar Domínguez</em>"
   ]
  },
  {
   "cell_type": "markdown",
   "id": "e2128d1c-62d1-4681-abe1-754a1410e632",
   "metadata": {},
   "source": [
    "## Importar librerías iniciales e instancia de modelo de chat"
   ]
  },
  {
   "cell_type": "code",
   "execution_count": 1,
   "id": "da270ae4",
   "metadata": {},
   "outputs": [],
   "source": [
    "from langchain_openai import ChatOpenAI\n",
    "from langchain.prompts import PromptTemplate, SystemMessagePromptTemplate,ChatPromptTemplate, HumanMessagePromptTemplate\n",
    "from langchain.agents import load_tools,initialize_agent,AgentType,create_react_agent,AgentExecutor\n",
    "f = open('../OpenAI_key.txt')\n",
    "api_key = f.read()\n",
    "llm = ChatOpenAI(openai_api_key=api_key,temperature=0) #Recomendable temperatura a 0 para que el LLM no sea muy creativo, vamos a tener muchas herramientas a nuestra disposición y queremos que sea más determinista"
   ]
  },
  {
   "cell_type": "markdown",
   "id": "f455782d",
   "metadata": {},
   "source": [
    "# CASO DE USO 1"
   ]
  },
  {
   "cell_type": "code",
   "execution_count": 2,
   "id": "a0cd8686",
   "metadata": {},
   "outputs": [],
   "source": [
    "from langchain.memory import ConversationBufferMemory"
   ]
  },
  {
   "cell_type": "code",
   "execution_count": 3,
   "id": "900a450a",
   "metadata": {},
   "outputs": [],
   "source": [
    "memory = ConversationBufferMemory(memory_key=\"chat_history\") #ponemos una denominada clave a la memoria \"chat_history\""
   ]
  },
  {
   "cell_type": "code",
   "execution_count": 4,
   "id": "109b221e",
   "metadata": {},
   "outputs": [],
   "source": [
    "tools = load_tools([\"wikipedia\",\"llm-math\",],llm=llm)"
   ]
  },
  {
   "cell_type": "code",
   "execution_count": 6,
   "id": "de033456",
   "metadata": {},
   "outputs": [],
   "source": [
    "agent = initialize_agent(tools, llm, agent=AgentType.CONVERSATIONAL_REACT_DESCRIPTION,memory=memory,verbose=True)"
   ]
  },
  {
   "cell_type": "code",
   "execution_count": 7,
   "id": "356c45df",
   "metadata": {},
   "outputs": [
    {
     "name": "stdout",
     "output_type": "stream",
     "text": [
      "\n",
      "\n",
      "\u001b[1m> Entering new AgentExecutor chain...\u001b[0m\n",
      "\u001b[32;1m\u001b[1;3mThought: Do I need to use a tool? Yes\n",
      "Action: wikipedia\n",
      "Action Input: Essential car maintenance products\u001b[0m\n",
      "Observation: \u001b[36;1m\u001b[1;3mPage: Maintenance\n",
      "Summary: The technical meaning of maintenance involves functional checks, servicing, repairing or replacing of necessary devices, equipment, machinery, building infrastructure, and supporting utilities in industrial, business, and residential installations. Over time, this has come to include multiple wordings that describe various cost-effective practices to keep equipment operational; these activities occur  either before or after a failure.\n",
      "\n",
      "Page: Car\n",
      "Summary: A car, or an automobile, is a motor vehicle with wheels. Most definitions of cars state that they run primarily on roads, seat one to eight people, have four wheels, and mainly transport people over cargo.\n",
      "The French inventor Nicolas-Joseph Cugnot built the first steam-powered road vehicle in 1769, while the Swiss inventor François Isaac de Rivaz designed and constructed the first internal combustion-powered automobile in 1808. The modern car—a practical, marketable automobile for everyday use—was invented in 1886, when the German inventor Carl Benz patented his Benz Patent-Motorwagen. Commercial cars became widely available during the 20th century. One of the first cars affordable by the masses was the Ford Model T, begun in 1908, an American car manufactured by the Ford Motor Company. Cars were rapidly adopted in the US, where they replaced horse-drawn carriages. In Europe and other parts of the world, demand for automobiles did not increase until after World War II. The car is considered an essential part of the developed economy.\n",
      "Cars have controls for driving, parking, passenger comfort, and a variety of lamps. Over the decades, additional features and controls have been added to vehicles, making them progressively more complex. These include rear-reversing cameras, air conditioning, navigation systems, and in-car entertainment. Most cars in use in the early 2020s are propelled by an internal combustion engine, fueled by the combustion of fossil fuels. Electric cars, which were invented early in the history of the car, became commercially available in the 2000s and are predicted to cost less to buy than petrol-driven cars before 2025. The transition from fossil fuel-powered cars to electric cars features prominently in most climate change mitigation scenarios, such as Project Drawdown's 100 actionable solutions for climate change.\n",
      "There are costs and benefits to car use. The costs to the individual include acquiring the vehicle, interest payments (if the car is financed), repairs and maintenance, fuel, depreciation, driving time, parking fees, taxes, and insurance. The costs to society include maintaining roads, land-use, road congestion, air pollution, noise pollution, public health, and disposing of the vehicle at the end of its life. Traffic collisions are the largest cause of injury-related deaths worldwide. Personal benefits include on-demand transportation, mobility, independence, and convenience. Societal benefits include economic benefits, such as job and wealth creation from the automotive industry, transportation provision, societal well-being from leisure and travel opportunities, and the generation of revenue from taxation. People's ability to move flexibly from place to place has far-reaching implications for the nature of societies. There are around one billion cars in use worldwide. Car usage is increasing rapidly, especially in China, India, and other newly industrialised countries.\n",
      "\n",
      "Page: Resale price maintenance\n",
      "Summary: Resale price maintenance (RPM) or, occasionally, retail price maintenance is the practice whereby a manufacturer and its distributors agree that the distributors will sell the manufacturer's product at certain prices (resale price maintenance), at or above a price floor (minimum resale price maintenance) or at or below a price ceiling (maximum resale price maintenance).  If a reseller refuses to maintain prices, either openly or covertly (see grey market), the manufacturer may stop doing business with it.  Resa\u001b[0m\n",
      "Thought:\u001b[32;1m\u001b[1;3mDo I need to use a tool? No\n",
      "AI: Here are five essential products for vehicle maintenance:\n",
      "1. Motor oil: Regularly changing the motor oil helps keep the engine running smoothly.\n",
      "2. Air filter: A clean air filter improves fuel efficiency and engine performance.\n",
      "3. Brake fluid: Regularly checking and topping up brake fluid is essential for safety.\n",
      "4. Tire pressure gauge: Maintaining proper tire pressure extends tire life and improves fuel efficiency.\n",
      "5. Windshield wiper fluid: Keeping the windshield clean is important for visibility while driving.\u001b[0m\n",
      "\n",
      "\u001b[1m> Finished chain.\u001b[0m\n"
     ]
    },
    {
     "data": {
      "text/plain": [
       "{'input': 'Dime 5 productos esenciales para el mantenimiento del vehículo.',\n",
       " 'chat_history': '',\n",
       " 'output': 'Here are five essential products for vehicle maintenance:\\n1. Motor oil: Regularly changing the motor oil helps keep the engine running smoothly.\\n2. Air filter: A clean air filter improves fuel efficiency and engine performance.\\n3. Brake fluid: Regularly checking and topping up brake fluid is essential for safety.\\n4. Tire pressure gauge: Maintaining proper tire pressure extends tire life and improves fuel efficiency.\\n5. Windshield wiper fluid: Keeping the windshield clean is important for visibility while driving.'}"
      ]
     },
     "execution_count": 7,
     "metadata": {},
     "output_type": "execute_result"
    }
   ],
   "source": [
    "agent.invoke(\"Dime 5 productos esenciales para el mantenimiento del vehículo.\")"
   ]
  },
  {
   "cell_type": "code",
   "execution_count": 8,
   "id": "fb1ce2b1",
   "metadata": {},
   "outputs": [
    {
     "name": "stdout",
     "output_type": "stream",
     "text": [
      "\n",
      "\n",
      "\u001b[1m> Entering new AgentExecutor chain...\u001b[0m\n",
      "\u001b[32;1m\u001b[1;3mThought: Do I need to use a tool? No\n",
      "AI: Each of the products mentioned for vehicle maintenance plays a crucial role in keeping the vehicle running smoothly and safely. However, if I had to choose one as the most important, I would say motor oil. Regularly changing the motor oil is essential for the engine's health and performance.\u001b[0m\n",
      "\n",
      "\u001b[1m> Finished chain.\u001b[0m\n"
     ]
    },
    {
     "data": {
      "text/plain": [
       "{'input': '¿Cuál de los anteriores es el más importante?',\n",
       " 'chat_history': 'Human: Dime 5 productos esenciales para el mantenimiento del vehículo.\\nAI: Here are five essential products for vehicle maintenance:\\n1. Motor oil: Regularly changing the motor oil helps keep the engine running smoothly.\\n2. Air filter: A clean air filter improves fuel efficiency and engine performance.\\n3. Brake fluid: Regularly checking and topping up brake fluid is essential for safety.\\n4. Tire pressure gauge: Maintaining proper tire pressure extends tire life and improves fuel efficiency.\\n5. Windshield wiper fluid: Keeping the windshield clean is important for visibility while driving.',\n",
       " 'output': \"Each of the products mentioned for vehicle maintenance plays a crucial role in keeping the vehicle running smoothly and safely. However, if I had to choose one as the most important, I would say motor oil. Regularly changing the motor oil is essential for the engine's health and performance.\"}"
      ]
     },
     "execution_count": 8,
     "metadata": {},
     "output_type": "execute_result"
    }
   ],
   "source": [
    "agent.invoke(\"¿Cuál de los anteriores es el más importante?\")"
   ]
  },
  {
   "cell_type": "code",
   "execution_count": 9,
   "id": "7b910033",
   "metadata": {},
   "outputs": [
    {
     "name": "stdout",
     "output_type": "stream",
     "text": [
      "\n",
      "\n",
      "\u001b[1m> Entering new AgentExecutor chain...\u001b[0m\n",
      "\u001b[32;1m\u001b[1;3mThought: Do I need to use a tool? Yes\n",
      "Action: wikipedia\n",
      "Action Input: Translate English to Spanish\u001b[0m\n",
      "Observation: \u001b[36;1m\u001b[1;3mPage: Bible translations into English\n",
      "Summary: Partial Bible translations into languages of the English people can be traced back to the late 7th century, including translations into Old and Middle English. More than 100 complete translations into English have been produced. A number of translations have been prepared of parts of the Bible, some deliberately limited to certain books and some projects that have been abandoned before the planned completion.\n",
      "\n",
      "Page: Yandex Translate\n",
      "Summary: Yandex Translate (Russian: Яндекс Переводчик, romanized: Yandeks Perevodchik) is a web service provided by Yandex, intended for the translation of web pages into another language.\n",
      "The service uses a self-learning statistical machine translation, developed by Yandex. The system constructs the dictionary of single-word translations based on the analysis of millions of translated texts. In order to translate the text, the computer first compares it to a database of words. The computer then compares the text to the base language models, trying to determine the meaning of an expression in the context of the text.\n",
      "In September 2017, Yandex.Translate switched to a hybrid approach incorporating both statistical machine translation and neural machine translation models.\n",
      "The translation page first appeared in 2009, utilizing PROMT, and was also built into Yandex Browser itself, to assist in translation for websites.\n",
      "\n",
      "Page: Translation\n",
      "Summary: Translation is the communication of the meaning of a source-language text by means of an equivalent target-language text. The English language draws a terminological distinction (which does not exist in every language) between translating (a written text) and interpreting (oral or signed communication between users of different languages); under this distinction, translation can begin only after the appearance of writing within a language community.\n",
      "A translator always risks inadvertently introducing source-language words, grammar, or syntax into the target-language rendering. On the other hand, such \"spill-overs\" have sometimes imported useful source-language calques and loanwords that have enriched target languages. Translators, including early translators of sacred texts, have helped shape the very languages into which they have translated.\n",
      "Because of the laboriousness of the translation process, since the 1940s efforts have been made, with varying degrees of success, to automate translation or to mechanically aid the human translator. More recently, the rise of the Internet has fostered a world-wide market for translation services and has facilitated \"language localisation\".\u001b[0m\n",
      "Thought:\u001b[32;1m\u001b[1;3mDo I need to use a tool? No\n",
      "AI: La respuesta anterior en castellano sería: Cada uno de los productos mencionados para el mantenimiento del vehículo desempeña un papel crucial en mantener el vehículo funcionando sin problemas y de manera segura. Sin embargo, si tuviera que elegir uno como el más importante, diría que el aceite del motor. Cambiar regularmente el aceite del motor es esencial para la salud y el rendimiento del motor.\u001b[0m\n",
      "\n",
      "\u001b[1m> Finished chain.\u001b[0m\n"
     ]
    },
    {
     "data": {
      "text/plain": [
       "{'input': 'Necesito la respuesta anterior en castellano',\n",
       " 'chat_history': \"Human: Dime 5 productos esenciales para el mantenimiento del vehículo.\\nAI: Here are five essential products for vehicle maintenance:\\n1. Motor oil: Regularly changing the motor oil helps keep the engine running smoothly.\\n2. Air filter: A clean air filter improves fuel efficiency and engine performance.\\n3. Brake fluid: Regularly checking and topping up brake fluid is essential for safety.\\n4. Tire pressure gauge: Maintaining proper tire pressure extends tire life and improves fuel efficiency.\\n5. Windshield wiper fluid: Keeping the windshield clean is important for visibility while driving.\\nHuman: ¿Cuál de los anteriores es el más importante?\\nAI: Each of the products mentioned for vehicle maintenance plays a crucial role in keeping the vehicle running smoothly and safely. However, if I had to choose one as the most important, I would say motor oil. Regularly changing the motor oil is essential for the engine's health and performance.\",\n",
       " 'output': 'La respuesta anterior en castellano sería: Cada uno de los productos mencionados para el mantenimiento del vehículo desempeña un papel crucial en mantener el vehículo funcionando sin problemas y de manera segura. Sin embargo, si tuviera que elegir uno como el más importante, diría que el aceite del motor. Cambiar regularmente el aceite del motor es esencial para la salud y el rendimiento del motor.'}"
      ]
     },
     "execution_count": 9,
     "metadata": {},
     "output_type": "execute_result"
    }
   ],
   "source": [
    "agent.invoke(\"Necesito la respuesta anterior en castellano\")"
   ]
  }
 ],
 "metadata": {
  "kernelspec": {
   "display_name": "Python 3 (ipykernel)",
   "language": "python",
   "name": "python3"
  },
  "language_info": {
   "codemirror_mode": {
    "name": "ipython",
    "version": 3
   },
   "file_extension": ".py",
   "mimetype": "text/x-python",
   "name": "python",
   "nbconvert_exporter": "python",
   "pygments_lexer": "ipython3",
   "version": "3.11.5"
  }
 },
 "nbformat": 4,
 "nbformat_minor": 5
}

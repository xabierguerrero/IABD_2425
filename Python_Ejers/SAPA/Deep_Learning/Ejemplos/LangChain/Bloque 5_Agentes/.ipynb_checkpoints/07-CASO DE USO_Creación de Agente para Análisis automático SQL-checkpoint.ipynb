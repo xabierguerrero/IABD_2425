{
 "cells": [
  {
   "cell_type": "markdown",
   "id": "9454b5e9",
   "metadata": {},
   "source": [
    "<em style=\"text-align:center\">Copyright Iván Pinar Domínguez</em>"
   ]
  },
  {
   "cell_type": "markdown",
   "id": "e2128d1c-62d1-4681-abe1-754a1410e632",
   "metadata": {},
   "source": [
    "## 0.Importar librerías iniciales e instancia de modelo de chat"
   ]
  },
  {
   "cell_type": "code",
   "execution_count": 1,
   "id": "da270ae4",
   "metadata": {},
   "outputs": [],
   "source": [
    "from langchain_openai import ChatOpenAI\n",
    "from langchain.prompts import PromptTemplate, SystemMessagePromptTemplate,ChatPromptTemplate, HumanMessagePromptTemplate\n",
    "from langchain.agents import load_tools,initialize_agent,AgentType,create_react_agent,AgentExecutor\n",
    "f = open('../OpenAI_key.txt')\n",
    "api_key = f.read()\n",
    "llm = ChatOpenAI(openai_api_key=api_key,temperature=0) #Recomendable temperatura a 0 para que el LLM no sea muy creativo, vamos a tener muchas herramientas a nuestra disposición y queremos que sea más determinista"
   ]
  },
  {
   "cell_type": "markdown",
   "id": "d8a6a887",
   "metadata": {},
   "source": [
    "## 1.Conectamos a la BBDD SQL"
   ]
  },
  {
   "cell_type": "code",
   "execution_count": 3,
   "id": "a0cd8686",
   "metadata": {},
   "outputs": [],
   "source": [
    "import mysql.connector #pip install mysql-connector-python"
   ]
  },
  {
   "cell_type": "code",
   "execution_count": 4,
   "id": "90902986",
   "metadata": {},
   "outputs": [],
   "source": [
    "f = open('../password_sql.txt')\n",
    "pass_sql = f.read()\n",
    "# Configuración de la conexión a la base de datos\n",
    "config = {\n",
    "    'user': 'root',       \n",
    "    'password': pass_sql, \n",
    "    'host': '127.0.0.1',         \n",
    "    'database': 'world'          \n",
    "}"
   ]
  },
  {
   "cell_type": "code",
   "execution_count": 5,
   "id": "60785575",
   "metadata": {},
   "outputs": [],
   "source": [
    "# Conectar a la base de datos\n",
    "conn = mysql.connector.connect(**config)\n",
    "cursor = conn.cursor()"
   ]
  },
  {
   "cell_type": "markdown",
   "id": "9ed28086",
   "metadata": {},
   "source": [
    "# 2. Ejecutamos consulta manualmente (sin agentes Langchain)"
   ]
  },
  {
   "cell_type": "code",
   "execution_count": 6,
   "id": "806e3460",
   "metadata": {},
   "outputs": [],
   "source": [
    "# Definir la consulta manualmente: tengo una base de datos mysql en mi computadora local denominada \"world\" y una tabla \"Country\" \n",
    "#sobre la que quiero hacer la suma de la población en la columna \"Population\" para el continente Asia (columna \"Continent\")\n",
    "query = \"\"\"\n",
    "    SELECT SUM(Population)\n",
    "    FROM Country\n",
    "    WHERE Continent = 'Asia';\n",
    "    \"\"\"\n",
    "\n",
    "# Ejecutar la consulta\n",
    "cursor.execute(query)\n",
    "result = cursor.fetchone()"
   ]
  },
  {
   "cell_type": "code",
   "execution_count": 7,
   "id": "d0edf039",
   "metadata": {},
   "outputs": [
    {
     "name": "stdout",
     "output_type": "stream",
     "text": [
      "La suma de la población del continente Asia es: 3705025700\n"
     ]
    }
   ],
   "source": [
    "suma_poblacion = result[0] if result[0] is not None else 0\n",
    "print(f\"La suma de la población del continente Asia es: {suma_poblacion}\")"
   ]
  },
  {
   "cell_type": "markdown",
   "id": "fcc3ac9f",
   "metadata": {},
   "source": [
    "## 3.Creamos el agente SQL "
   ]
  },
  {
   "cell_type": "code",
   "execution_count": 9,
   "id": "ac1c2fca",
   "metadata": {},
   "outputs": [],
   "source": [
    "from langchain_community.agent_toolkits import create_sql_agent\n",
    "from langchain.sql_database import SQLDatabase"
   ]
  },
  {
   "cell_type": "code",
   "execution_count": 11,
   "id": "14b35266",
   "metadata": {},
   "outputs": [],
   "source": [
    "# Crear una cadena de conexión a la base de datos MySQL\n",
    "connection_string = f\"mysql+mysqlconnector://{config['user']}:{config['password']}@{config['host']}/{config['database']}\"\n",
    "\n",
    "# Crear una instancia de la base de datos SQL\n",
    "db = SQLDatabase.from_uri(connection_string)"
   ]
  },
  {
   "cell_type": "code",
   "execution_count": 13,
   "id": "dd2a4d40",
   "metadata": {},
   "outputs": [],
   "source": [
    "agent = create_sql_agent(\n",
    "    llm,\n",
    "    db=db,\n",
    "    verbose=True\n",
    ")"
   ]
  },
  {
   "cell_type": "code",
   "execution_count": 15,
   "id": "7b16ae21",
   "metadata": {},
   "outputs": [
    {
     "name": "stdout",
     "output_type": "stream",
     "text": [
      "\n",
      "\n",
      "\u001b[1m> Entering new SQL Agent Executor chain...\u001b[0m\n",
      "\u001b[32;1m\u001b[1;3mI need to find the total population of Asia in the database.\n",
      "Action: sql_db_query_checker\n",
      "Action Input: SELECT SUM(population) FROM countries WHERE continent = 'Asia'\u001b[0m\u001b[36;1m\u001b[1;3mSELECT SUM(population) FROM countries WHERE continent = 'Asia';\u001b[0m\u001b[32;1m\u001b[1;3mI should now execute the query to get the total population of Asia.\n",
      "Action: sql_db_query\n",
      "Action Input: SELECT SUM(population) FROM countries WHERE continent = 'Asia'\u001b[0m\u001b[36;1m\u001b[1;3mError: (mysql.connector.errors.ProgrammingError) 1146 (42S02): Table 'world.countries' doesn't exist\n",
      "[SQL: SELECT SUM(population) FROM countries WHERE continent = 'Asia']\n",
      "(Background on this error at: https://sqlalche.me/e/14/f405)\u001b[0m\u001b[32;1m\u001b[1;3mI need to check the available tables in the database to find the correct table name for countries.\n",
      "Action: sql_db_list_tables\n",
      "Action Input: \u001b[0m\u001b[38;5;200m\u001b[1;3mcity, country, countrylanguage\u001b[0m\u001b[32;1m\u001b[1;3mThe 'countries' table does not exist, I should use the 'country' table instead.\n",
      "Action: sql_db_query_checker\n",
      "Action Input: SELECT SUM(population) FROM country WHERE continent = 'Asia'\u001b[0m\u001b[36;1m\u001b[1;3mSELECT SUM(population) FROM country WHERE continent = 'Asia';\u001b[0m\u001b[32;1m\u001b[1;3mI should now execute the corrected query to get the total population of Asia.\n",
      "Action: sql_db_query\n",
      "Action Input: SELECT SUM(population) FROM country WHERE continent = 'Asia'\u001b[0m\u001b[36;1m\u001b[1;3m[(Decimal('3705025700'),)]\u001b[0m\u001b[32;1m\u001b[1;3mThe total population of Asia is 3,705,025,700\n",
      "Final Answer: 3,705,025,700\u001b[0m\n",
      "\n",
      "\u001b[1m> Finished chain.\u001b[0m\n"
     ]
    },
    {
     "data": {
      "text/plain": [
       "{'input': 'Dime la población total de Asia', 'output': '3,705,025,700'}"
      ]
     },
     "execution_count": 15,
     "metadata": {},
     "output_type": "execute_result"
    }
   ],
   "source": [
    "agent.invoke(\"Dime la población total de Asia\")"
   ]
  },
  {
   "cell_type": "code",
   "execution_count": 19,
   "id": "4df86001",
   "metadata": {},
   "outputs": [
    {
     "name": "stdout",
     "output_type": "stream",
     "text": [
      "\n",
      "\n",
      "\u001b[1m> Entering new SQL Agent Executor chain...\u001b[0m\n",
      "\u001b[32;1m\u001b[1;3mI need to calculate the average life expectancy for each region and then sort them from highest to lowest.\n",
      "Action: sql_db_query\n",
      "Action Input: SELECT region, AVG(life_expectancy) AS average_life_expectancy FROM table_name GROUP BY region ORDER BY average_life_expectancy DESC\u001b[0m\u001b[36;1m\u001b[1;3mError: (mysql.connector.errors.ProgrammingError) 1146 (42S02): Table 'world.table_name' doesn't exist\n",
      "[SQL: SELECT region, AVG(life_expectancy) AS average_life_expectancy FROM table_name GROUP BY region ORDER BY average_life_expectancy DESC]\n",
      "(Background on this error at: https://sqlalche.me/e/14/f405)\u001b[0m\u001b[32;1m\u001b[1;3mI need to find out the correct table name before running the query.\n",
      "Action: sql_db_list_tables\n",
      "Action Input: \u001b[0m\u001b[38;5;200m\u001b[1;3mcity, country, countrylanguage\u001b[0m\u001b[32;1m\u001b[1;3mI should use the table \"country\" for this query.\n",
      "Action: sql_db_query\n",
      "Action Input: SELECT region, AVG(life_expectancy) AS average_life_expectancy FROM country GROUP BY region ORDER BY average_life_expectancy DESC\u001b[0m\u001b[36;1m\u001b[1;3mError: (mysql.connector.errors.ProgrammingError) 1054 (42S22): Unknown column 'life_expectancy' in 'field list'\n",
      "[SQL: SELECT region, AVG(life_expectancy) AS average_life_expectancy FROM country GROUP BY region ORDER BY average_life_expectancy DESC]\n",
      "(Background on this error at: https://sqlalche.me/e/14/f405)\u001b[0m\u001b[32;1m\u001b[1;3mI need to check the schema of the \"country\" table to find the correct column for life expectancy.\n",
      "Action: sql_db_schema\n",
      "Action Input: country\u001b[0m\u001b[33;1m\u001b[1;3m\n",
      "CREATE TABLE country (\n",
      "\t`Code` CHAR(3) NOT NULL DEFAULT '', \n",
      "\t`Name` CHAR(52) NOT NULL DEFAULT '', \n",
      "\t`Continent` ENUM('Asia','Europe','North America','Africa','Oceania','Antarctica','South America') NOT NULL DEFAULT 'Asia', \n",
      "\t`Region` CHAR(26) NOT NULL DEFAULT '', \n",
      "\t`SurfaceArea` FLOAT(10, 2) NOT NULL DEFAULT '0.00', \n",
      "\t`IndepYear` SMALLINT, \n",
      "\t`Population` INTEGER NOT NULL DEFAULT '0', \n",
      "\t`LifeExpectancy` FLOAT(3, 1), \n",
      "\t`GNP` FLOAT(10, 2), \n",
      "\t`GNPOld` FLOAT(10, 2), \n",
      "\t`LocalName` CHAR(45) NOT NULL DEFAULT '', \n",
      "\t`GovernmentForm` CHAR(45) NOT NULL DEFAULT '', \n",
      "\t`HeadOfState` CHAR(60), \n",
      "\t`Capital` INTEGER, \n",
      "\t`Code2` CHAR(2) NOT NULL DEFAULT '', \n",
      "\tPRIMARY KEY (`Code`)\n",
      ")DEFAULT CHARSET=latin1 ENGINE=InnoDB\n",
      "\n",
      "/*\n",
      "3 rows from country table:\n",
      "Code\tName\tContinent\tRegion\tSurfaceArea\tIndepYear\tPopulation\tLifeExpectancy\tGNP\tGNPOld\tLocalName\tGovernmentForm\tHeadOfState\tCapital\tCode2\n",
      "ABW\tAruba\tNorth America\tCaribbean\t193.0\tNone\t103000\t78.4\t828.0\t793.0\tAruba\tNonmetropolitan Territory of The Netherlands\tBeatrix\t129\tAW\n",
      "AFG\tAfghanistan\tAsia\tSouthern and Central Asia\t652090.0\t1919\t22720000\t45.9\t5976.0\tNone\tAfganistan/Afqanestan\tIslamic Emirate\tMohammad Omar\t1\tAF\n",
      "AGO\tAngola\tAfrica\tCentral Africa\t1246700.0\t1975\t12878000\t38.3\t6648.0\t7984.0\tAngola\tRepublic\tJosÃ© Eduardo dos Santos\t56\tAO\n",
      "*/\u001b[0m\u001b[32;1m\u001b[1;3mI see that the column for life expectancy is named \"LifeExpectancy\" in the \"country\" table.\n",
      "Action: sql_db_query\n",
      "Action Input: SELECT region, AVG(LifeExpectancy) AS average_life_expectancy FROM country GROUP BY region ORDER BY average_life_expectancy DESC\u001b[0m\u001b[36;1m\u001b[1;3m[('Australia and New Zealand', 78.8), ('Nordic Countries', 78.33333), ('Western Europe', 78.25556), ('British Islands', 77.25), ('Southern Europe', 76.52857), ('North America', 75.82), ('Eastern Asia', 75.25), ('Caribbean', 73.05833), ('Central America', 71.025), ('South America', 70.94615), ('Polynesia', 70.73333), ('Middle East', 70.56667), ('Eastern Europe', 69.93), ('Baltic Countries', 69.0), ('Micronesia', 68.08571), ('Melanesia', 67.14), ('Northern Africa', 65.38571), ('Southeast Asia', 64.4), ('Southern and Central Asia', 61.35), ('Western Africa', 52.74118), ('Eastern Africa', 50.81053), ('Central Africa', 50.31111), ('Southern Africa', 44.82), ('Antarctica', None), ('Micronesia/Caribbean', None)]\u001b[0m\u001b[32;1m\u001b[1;3mI now know the final answer. \n",
      "Final Answer: The average life expectancy for each region, from highest to lowest, is as follows:\n",
      "1. Australia and New Zealand: 78.8\n",
      "2. Nordic Countries: 78.33\n",
      "3. Western Europe: 78.25\n",
      "4. British Islands: 77.25\n",
      "5. Southern Europe: 76.53\n",
      "6. North America: 75.82\n",
      "7. Eastern Asia: 75.25\n",
      "8. Caribbean: 73.06\n",
      "9. Central America: 71.03\n",
      "10. South America: 70.95\n",
      "11. Polynesia: 70.73\n",
      "12. Middle East: 70.57\n",
      "13. Eastern Europe: 69.93\n",
      "14. Baltic Countries: 69.0\n",
      "15. Micronesia: 68.09\n",
      "16. Melanesia: 67.14\n",
      "17. Northern Africa: 65.39\n",
      "18. Southeast Asia: 64.4\n",
      "19. Southern and Central Asia: 61.35\n",
      "20. Western Africa: 52.74\n",
      "21. Eastern Africa: 50.81\n",
      "22. Central Africa: 50.31\n",
      "23. Southern Africa: 44.82\n",
      "24. Antarctica: N/A\n",
      "25. Micronesia/Caribbean: N/A\u001b[0m\n",
      "\n",
      "\u001b[1m> Finished chain.\u001b[0m\n"
     ]
    }
   ],
   "source": [
    "result = agent.invoke(\"Dime el promedio de la esperanza de vida por cada una de las regiones ordenadas de mayor a menor\")"
   ]
  },
  {
   "cell_type": "code",
   "execution_count": 23,
   "id": "b7dea2d7",
   "metadata": {},
   "outputs": [
    {
     "name": "stdout",
     "output_type": "stream",
     "text": [
      "The average life expectancy for each region, from highest to lowest, is as follows:\n",
      "1. Australia and New Zealand: 78.8\n",
      "2. Nordic Countries: 78.33\n",
      "3. Western Europe: 78.25\n",
      "4. British Islands: 77.25\n",
      "5. Southern Europe: 76.53\n",
      "6. North America: 75.82\n",
      "7. Eastern Asia: 75.25\n",
      "8. Caribbean: 73.06\n",
      "9. Central America: 71.03\n",
      "10. South America: 70.95\n",
      "11. Polynesia: 70.73\n",
      "12. Middle East: 70.57\n",
      "13. Eastern Europe: 69.93\n",
      "14. Baltic Countries: 69.0\n",
      "15. Micronesia: 68.09\n",
      "16. Melanesia: 67.14\n",
      "17. Northern Africa: 65.39\n",
      "18. Southeast Asia: 64.4\n",
      "19. Southern and Central Asia: 61.35\n",
      "20. Western Africa: 52.74\n",
      "21. Eastern Africa: 50.81\n",
      "22. Central Africa: 50.31\n",
      "23. Southern Africa: 44.82\n",
      "24. Antarctica: N/A\n",
      "25. Micronesia/Caribbean: N/A\n"
     ]
    }
   ],
   "source": [
    "# Mostrar el resultado\n",
    "print(result[\"output\"])"
   ]
  },
  {
   "cell_type": "code",
   "execution_count": 5,
   "id": "9a390f1a",
   "metadata": {},
   "outputs": [],
   "source": [
    "# Para utilizar few-shoots para las consultas SQL: https://python.langchain.com/v0.1/docs/use_cases/sql/agents/"
   ]
  }
 ],
 "metadata": {
  "kernelspec": {
   "display_name": "Python 3 (ipykernel)",
   "language": "python",
   "name": "python3"
  },
  "language_info": {
   "codemirror_mode": {
    "name": "ipython",
    "version": 3
   },
   "file_extension": ".py",
   "mimetype": "text/x-python",
   "name": "python",
   "nbconvert_exporter": "python",
   "pygments_lexer": "ipython3",
   "version": "3.11.5"
  }
 },
 "nbformat": 4,
 "nbformat_minor": 5
}

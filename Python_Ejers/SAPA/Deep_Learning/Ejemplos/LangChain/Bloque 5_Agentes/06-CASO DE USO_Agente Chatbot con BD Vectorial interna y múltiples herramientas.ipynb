{
 "cells": [
  {
   "cell_type": "markdown",
   "id": "e2128d1c-62d1-4681-abe1-754a1410e632",
   "metadata": {},
   "source": [
    "## 0.Importar librerías iniciales e instancia de modelo de chat"
   ]
  },
  {
   "cell_type": "code",
   "execution_count": 1,
   "id": "da270ae4",
   "metadata": {},
   "outputs": [],
   "source": [
    "from langchain_openai import ChatOpenAI\n",
    "from langchain.prompts import PromptTemplate, SystemMessagePromptTemplate,ChatPromptTemplate, HumanMessagePromptTemplate\n",
    "from langchain.agents import load_tools,initialize_agent,AgentType,create_react_agent,AgentExecutor\n",
    "f = open('/home/iabd/clave_gpt.txt')\n",
    "api_key = f.read().strip()\n",
    "llm = ChatOpenAI(openai_api_key=api_key,temperature=0) #Recomendable temperatura a 0 para que el LLM no sea muy creativo, vamos a tener muchas herramientas a nuestra disposición y queremos que sea más determinista"
   ]
  },
  {
   "cell_type": "markdown",
   "id": "d8a6a887",
   "metadata": {},
   "source": [
    "## 1.Cargamos la BD Vectores y el compresor"
   ]
  },
  {
   "cell_type": "code",
   "execution_count": 2,
   "id": "a0cd8686",
   "metadata": {},
   "outputs": [
    {
     "name": "stderr",
     "output_type": "stream",
     "text": [
      "/tmp/ipykernel_7722/2028269873.py:3: LangChainDeprecationWarning: Please see the migration guide at: https://python.langchain.com/docs/versions/migrating_memory/\n",
      "  memory = ConversationBufferMemory(memory_key=\"chat_history\") #ponemos una denominada clave a la memoria \"chat_history\"\n"
     ]
    }
   ],
   "source": [
    "#Podríamos establecer que tuviera memoria\n",
    "from langchain.memory import ConversationBufferMemory\n",
    "memory = ConversationBufferMemory(memory_key=\"chat_history\") #ponemos una denominada clave a la memoria \"chat_history\""
   ]
  },
  {
   "cell_type": "code",
   "execution_count": 3,
   "id": "ac1c2fca",
   "metadata": {},
   "outputs": [],
   "source": [
    "from langchain_community.vectorstores import SKLearnVectorStore\n",
    "from langchain_openai import OpenAIEmbeddings\n",
    "from langchain.retrievers import ContextualCompressionRetriever\n",
    "from langchain.retrievers.document_compressors import LLMChainExtractor\n",
    "\n",
    "funcion_embedding = OpenAIEmbeddings(openai_api_key=api_key)\n",
    "persist_path=\"../Bloque 3_Conectores de Datos/ejemplosk_embedding_db\"\n",
    "vector_store_connection = SKLearnVectorStore(embedding=funcion_embedding, persist_path=persist_path, serializer=\"parquet\")\n",
    "compressor = LLMChainExtractor.from_llm(llm)\n",
    "compression_retriever = ContextualCompressionRetriever(base_compressor=compressor, base_retriever=vector_store_connection.as_retriever())"
   ]
  },
  {
   "cell_type": "markdown",
   "id": "771f0f7b",
   "metadata": {},
   "source": [
    "## 2.Creamos una nueva herramienta a partir de la BD Vectorial para obtener resultados optimizados"
   ]
  },
  {
   "cell_type": "code",
   "execution_count": 4,
   "id": "9a390f1a",
   "metadata": {},
   "outputs": [],
   "source": [
    "from langchain.agents import tool"
   ]
  },
  {
   "cell_type": "code",
   "execution_count": 5,
   "id": "54dbe9ce",
   "metadata": {},
   "outputs": [],
   "source": [
    "@tool\n",
    "def consulta_interna(text: str) -> str:\n",
    "    '''Retorna respuestas sobre la historia de España. Se espera que la entrada sea una cadena de texto\n",
    "    y retorna una cadena con el resultado más relevante. Si la respuesta con esta herramienta es relevante,\n",
    "    no debes usar ninguna herramienta más ni tu propio conocimiento como LLM'''\n",
    "    compressed_docs = compression_retriever.invoke(text)\n",
    "    resultado = compressed_docs[0].page_content\n",
    "    return resultado"
   ]
  },
  {
   "cell_type": "code",
   "execution_count": 7,
   "id": "109b221e",
   "metadata": {},
   "outputs": [],
   "source": [
    "tools = load_tools([\"wikipedia\",\"llm-math\"],llm=llm)"
   ]
  },
  {
   "cell_type": "code",
   "execution_count": 8,
   "id": "e6443291",
   "metadata": {},
   "outputs": [],
   "source": [
    "tools=tools+[consulta_interna]"
   ]
  },
  {
   "cell_type": "markdown",
   "id": "430a1e2b",
   "metadata": {},
   "source": [
    "## 3.Creamos el agente y lo ejecutamos "
   ]
  },
  {
   "cell_type": "code",
   "execution_count": 9,
   "id": "de033456",
   "metadata": {},
   "outputs": [
    {
     "name": "stderr",
     "output_type": "stream",
     "text": [
      "/tmp/ipykernel_7722/2227645054.py:1: LangChainDeprecationWarning: LangChain agents will continue to be supported, but it is recommended for new use cases to be built with LangGraph. LangGraph offers a more flexible and full-featured framework for building agents, including support for tool-calling, persistence of state, and human-in-the-loop workflows. For details, refer to the `LangGraph documentation <https://langchain-ai.github.io/langgraph/>`_ as well as guides for `Migrating from AgentExecutor <https://python.langchain.com/docs/how_to/migrate_agent/>`_ and LangGraph's `Pre-built ReAct agent <https://langchain-ai.github.io/langgraph/how-tos/create-react-agent/>`_.\n",
      "  agent = initialize_agent(tools, llm, agent=AgentType.CONVERSATIONAL_REACT_DESCRIPTION,memory=memory,verbose=True)\n"
     ]
    }
   ],
   "source": [
    "agent = initialize_agent(tools, llm, agent=AgentType.CONVERSATIONAL_REACT_DESCRIPTION,memory=memory,verbose=True)"
   ]
  },
  {
   "cell_type": "code",
   "execution_count": 10,
   "id": "356c45df",
   "metadata": {},
   "outputs": [
    {
     "name": "stdout",
     "output_type": "stream",
     "text": [
      "\n",
      "\n",
      "\u001b[1m> Entering new AgentExecutor chain...\u001b[0m\n",
      "\u001b[32;1m\u001b[1;3mThought: Do I need to use a tool? Yes\n",
      "Action: consulta_interna\n",
      "Action Input: ¿Qué periodo abarca cronológicamente en España el siglo de oro?\u001b[0m\n",
      "Observation: \u001b[38;5;200m\u001b[1;3mEl Siglo de Oro español fue un período floreciente en las artes y las letras hispanas que abarca cronológicamente desde la publicación de la Gramática castellana de Nebrija en 1492 hasta la muerte de Calderón en 1681.\u001b[0m\n",
      "Thought:\u001b[32;1m\u001b[1;3mDo I need to use a tool? No\n",
      "AI: El Siglo de Oro español abarca cronológicamente desde la publicación de la Gramática castellana de Nebrija en 1492 hasta la muerte de Calderón en 1681. Durante este período, hubo un florecimiento en las artes y las letras en España.\u001b[0m\n",
      "\n",
      "\u001b[1m> Finished chain.\u001b[0m\n"
     ]
    },
    {
     "data": {
      "text/plain": [
       "{'input': '¿Qué periodo abarca cronológicamente en España el siglo de oro?',\n",
       " 'chat_history': '',\n",
       " 'output': 'El Siglo de Oro español abarca cronológicamente desde la publicación de la Gramática castellana de Nebrija en 1492 hasta la muerte de Calderón en 1681. Durante este período, hubo un florecimiento en las artes y las letras en España.'}"
      ]
     },
     "execution_count": 10,
     "metadata": {},
     "output_type": "execute_result"
    }
   ],
   "source": [
    "agent.invoke(\"¿Qué periodo abarca cronológicamente en España el siglo de oro?\")"
   ]
  },
  {
   "cell_type": "code",
   "execution_count": 11,
   "id": "a6bea07d",
   "metadata": {},
   "outputs": [
    {
     "name": "stdout",
     "output_type": "stream",
     "text": [
      "\n",
      "\n",
      "\u001b[1m> Entering new AgentExecutor chain...\u001b[0m\n",
      "\u001b[32;1m\u001b[1;3mThought: Do I need to use a tool? Yes\n",
      "Action: consulta_interna\n",
      "Action Input: ¿Qué pasó durante el Siglo de Oro en Francia?\u001b[0m\n",
      "Observation: \u001b[38;5;200m\u001b[1;3mSiglo de Oro\n",
      "Artículo principal: Siglo de Oro\n",
      "\n",
      "Miguel de Cervantes Saavedra\n",
      "El Siglo de Oro español fue un período floreciente en las artes y las letras hispanas que abarca cronológicamente desde la publicación de la Gramática castellana de Nebrija en 1492 hasta la muerte de Calderón en 1681.\u001b[0m\n",
      "Thought:\u001b[32;1m\u001b[1;3mDo I need to use a tool? No\n",
      "AI: Durante la misma etapa en Francia, se conoce como el Siglo de Oro de la literatura francesa, que abarca aproximadamente desde el siglo XVI hasta el siglo XVII. Durante este período, hubo un florecimiento en la literatura, las artes y la cultura en Francia, con figuras destacadas como Pierre de Ronsard, Joachim du Bellay, Michel de Montaigne, y otros.\u001b[0m\n",
      "\n",
      "\u001b[1m> Finished chain.\u001b[0m\n"
     ]
    },
    {
     "data": {
      "text/plain": [
       "{'input': '¿Qué pasó durante la misma etapa en Francia?',\n",
       " 'chat_history': 'Human: ¿Qué periodo abarca cronológicamente en España el siglo de oro?\\nAI: El Siglo de Oro español abarca cronológicamente desde la publicación de la Gramática castellana de Nebrija en 1492 hasta la muerte de Calderón en 1681. Durante este período, hubo un florecimiento en las artes y las letras en España.',\n",
       " 'output': 'Durante la misma etapa en Francia, se conoce como el Siglo de Oro de la literatura francesa, que abarca aproximadamente desde el siglo XVI hasta el siglo XVII. Durante este período, hubo un florecimiento en la literatura, las artes y la cultura en Francia, con figuras destacadas como Pierre de Ronsard, Joachim du Bellay, Michel de Montaigne, y otros.'}"
      ]
     },
     "execution_count": 11,
     "metadata": {},
     "output_type": "execute_result"
    }
   ],
   "source": [
    "agent.invoke(\"¿Qué pasó durante la misma etapa en Francia?\") #Gracias a tener memoria compara en esas fechas qué ocurrió en Francia"
   ]
  },
  {
   "cell_type": "code",
   "execution_count": 12,
   "id": "59281e39",
   "metadata": {},
   "outputs": [
    {
     "name": "stdout",
     "output_type": "stream",
     "text": [
      "\n",
      "\n",
      "\u001b[1m> Entering new AgentExecutor chain...\u001b[0m\n",
      "\u001b[32;1m\u001b[1;3mThought: Do I need to use a tool? Yes\n",
      "Action: wikipedia\n",
      "Action Input: List of famous vehicle brands\u001b[0m\n",
      "Observation: \u001b[36;1m\u001b[1;3mPage: List of sports cars\n",
      "Summary: This page is a compilation of sports cars, coupés, roadsters, kit cars, supercars, hypercars, electric sports cars, race cars, and super SUVs, both discontinued and still in production (or will be planned to produce).  Cars that have sport trims (such as the Honda Civic SI) will be listed under the sport trims section.  Production tunes will include cars modified by outside brands and then sold. This does not include in-house brands such as Ford's Special Vehicle Team, which will be included in the main list.  Some vehicles are sold under different brands, therefore some vehicles may be listed more than once but usually link to the same page.  Different countries/continents may also classify vehicles differently.\n",
      "\n",
      "\n",
      "\n",
      "Page: Automobile manufacturers and brands of China\n",
      "Summary: There are currently about 150 active brands in the Chinese automobile market. Among them are 97 Chinese domestic brands and 43 joint venture (JV) brands. Before 2010, the traditional \"Big Four\" refers to the four major state-owned car manufacturers, SAIC, FAW, Dongfeng and Changan. Other Chinese car manufacturers, both from public and private sectors, like Geely, BAIC, BYD, Chery, GAC, Great Wall, JAC and Seres emerged as the major players with the expansion of Chinese automotive industry.\n",
      "The article is the introduction of major manufacturers and brands of China, for the full list see List of automobile manufacturers of China.\n",
      "\n",
      "Page: List of car brands\n",
      "Summary: This is an incomplete list of every brand (also known as make or marque) of car ever produced, by country of origin, which has an article on Wikipedia.  Names should not be added unless they already have an article. Some are from manufacturing companies that also use their company name as a brand name; others are from subsidiary companies or divisions, or are products of badge engineering.  This is not a list of every brand that is available for sale in each country, but a list of companies that originated or have a significant independent presence in each country.  This typically means manufacturing in that country and often exporting from that country, not just selling cars there.\n",
      "\n",
      "\u001b[0m\n",
      "Thought:\u001b[32;1m\u001b[1;3mDo I need to use a tool? No\n",
      "AI: Some of the most famous vehicle brands today include Toyota, Ford, Chevrolet, Honda, Volkswagen, Nissan, BMW, Mercedes-Benz, and Audi, among others. These brands are well-known for producing a wide range of vehicles, from compact cars to luxury SUVs and sports cars.\u001b[0m\n",
      "\n",
      "\u001b[1m> Finished chain.\u001b[0m\n"
     ]
    },
    {
     "data": {
      "text/plain": [
       "{'input': '¿Cuáles son las marcas de vehículos más famosas hoy en día?',\n",
       " 'chat_history': 'Human: ¿Qué periodo abarca cronológicamente en España el siglo de oro?\\nAI: El Siglo de Oro español abarca cronológicamente desde la publicación de la Gramática castellana de Nebrija en 1492 hasta la muerte de Calderón en 1681. Durante este período, hubo un florecimiento en las artes y las letras en España.\\nHuman: ¿Qué pasó durante la misma etapa en Francia?\\nAI: Durante la misma etapa en Francia, se conoce como el Siglo de Oro de la literatura francesa, que abarca aproximadamente desde el siglo XVI hasta el siglo XVII. Durante este período, hubo un florecimiento en la literatura, las artes y la cultura en Francia, con figuras destacadas como Pierre de Ronsard, Joachim du Bellay, Michel de Montaigne, y otros.',\n",
       " 'output': 'Some of the most famous vehicle brands today include Toyota, Ford, Chevrolet, Honda, Volkswagen, Nissan, BMW, Mercedes-Benz, and Audi, among others. These brands are well-known for producing a wide range of vehicles, from compact cars to luxury SUVs and sports cars.'}"
      ]
     },
     "execution_count": 12,
     "metadata": {},
     "output_type": "execute_result"
    }
   ],
   "source": [
    "agent.invoke(\"¿Cuáles son las marcas de vehículos más famosas hoy en día?\") #Pregunta que no podemos responder con nuestra BD Vectorial"
   ]
  }
 ],
 "metadata": {
  "kernelspec": {
   "display_name": "ia_gpu312",
   "language": "python",
   "name": "python3"
  },
  "language_info": {
   "codemirror_mode": {
    "name": "ipython",
    "version": 3
   },
   "file_extension": ".py",
   "mimetype": "text/x-python",
   "name": "python",
   "nbconvert_exporter": "python",
   "pygments_lexer": "ipython3",
   "version": "3.12.8"
  }
 },
 "nbformat": 4,
 "nbformat_minor": 5
}

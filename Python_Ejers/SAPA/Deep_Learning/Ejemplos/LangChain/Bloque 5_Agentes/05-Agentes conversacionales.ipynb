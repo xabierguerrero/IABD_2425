{
 "cells": [
  {
   "cell_type": "markdown",
   "id": "f455782d",
   "metadata": {},
   "source": [
    "# CASO DE USO 1"
   ]
  },
  {
   "cell_type": "markdown",
   "id": "e2128d1c-62d1-4681-abe1-754a1410e632",
   "metadata": {},
   "source": [
    "## Importar librerías iniciales e instancia de modelo de chat"
   ]
  },
  {
   "cell_type": "code",
   "execution_count": 1,
   "id": "da270ae4",
   "metadata": {},
   "outputs": [],
   "source": [
    "from langchain_openai import ChatOpenAI\n",
    "from langchain.prompts import PromptTemplate, SystemMessagePromptTemplate,ChatPromptTemplate, HumanMessagePromptTemplate\n",
    "from langchain.agents import load_tools,initialize_agent,AgentType,create_react_agent,AgentExecutor\n",
    "f = open('/home/iabd/clave_gpt.txt')\n",
    "api_key = f.read().strip()\n",
    "llm = ChatOpenAI(openai_api_key=api_key,temperature=0) #Recomendable temperatura a 0 para que el LLM no sea muy creativo, vamos a tener muchas herramientas a nuestra disposición y queremos que sea más determinista"
   ]
  },
  {
   "cell_type": "code",
   "execution_count": 2,
   "id": "a0cd8686",
   "metadata": {},
   "outputs": [],
   "source": [
    "from langchain.memory import ConversationBufferMemory"
   ]
  },
  {
   "cell_type": "code",
   "execution_count": 3,
   "id": "900a450a",
   "metadata": {},
   "outputs": [
    {
     "name": "stderr",
     "output_type": "stream",
     "text": [
      "/tmp/ipykernel_7688/12502988.py:1: LangChainDeprecationWarning: Please see the migration guide at: https://python.langchain.com/docs/versions/migrating_memory/\n",
      "  memory = ConversationBufferMemory(memory_key=\"chat_history\") #ponemos una denominada clave a la memoria \"chat_history\"\n"
     ]
    }
   ],
   "source": [
    "memory = ConversationBufferMemory(memory_key=\"chat_history\") #ponemos una denominada clave a la memoria \"chat_history\""
   ]
  },
  {
   "cell_type": "code",
   "execution_count": 5,
   "id": "109b221e",
   "metadata": {},
   "outputs": [],
   "source": [
    "tools = load_tools([\"wikipedia\",\"llm-math\",],llm=llm)"
   ]
  },
  {
   "cell_type": "code",
   "execution_count": 6,
   "id": "de033456",
   "metadata": {},
   "outputs": [
    {
     "name": "stderr",
     "output_type": "stream",
     "text": [
      "/tmp/ipykernel_7688/2227645054.py:1: LangChainDeprecationWarning: LangChain agents will continue to be supported, but it is recommended for new use cases to be built with LangGraph. LangGraph offers a more flexible and full-featured framework for building agents, including support for tool-calling, persistence of state, and human-in-the-loop workflows. For details, refer to the `LangGraph documentation <https://langchain-ai.github.io/langgraph/>`_ as well as guides for `Migrating from AgentExecutor <https://python.langchain.com/docs/how_to/migrate_agent/>`_ and LangGraph's `Pre-built ReAct agent <https://langchain-ai.github.io/langgraph/how-tos/create-react-agent/>`_.\n",
      "  agent = initialize_agent(tools, llm, agent=AgentType.CONVERSATIONAL_REACT_DESCRIPTION,memory=memory,verbose=True)\n"
     ]
    }
   ],
   "source": [
    "agent = initialize_agent(tools, llm, agent=AgentType.CONVERSATIONAL_REACT_DESCRIPTION,memory=memory,verbose=True)"
   ]
  },
  {
   "cell_type": "code",
   "execution_count": 7,
   "id": "356c45df",
   "metadata": {},
   "outputs": [
    {
     "name": "stdout",
     "output_type": "stream",
     "text": [
      "\n",
      "\n",
      "\u001b[1m> Entering new AgentExecutor chain...\u001b[0m\n",
      "\u001b[32;1m\u001b[1;3mThought: Do I need to use a tool? Yes\n",
      "Action: wikipedia\n",
      "Action Input: Essential car maintenance products\u001b[0m\n",
      "Observation: \u001b[36;1m\u001b[1;3mPage: Maintenance\n",
      "Summary: The technical meaning of maintenance involves functional checks, servicing, repairing or replacing of necessary devices, equipment, machinery, building infrastructure and supporting utilities in industrial, business, and residential installations. Over time, this has come to include multiple wordings that describe various cost-effective practices to keep equipment operational; these activities occur  either before or after a failure.\n",
      "\n",
      "\n",
      "\n",
      "Page: Tesla, Inc.\n",
      "Summary: Tesla, Inc. (  TESS-lə or  TEZ-lə) is an American multinational automotive and clean energy company. Headquartered in Austin, Texas, it designs, manufactures and sells battery electric vehicles (BEVs), stationary battery energy storage devices from home to grid-scale, solar panels and solar shingles, and related products and services.\n",
      "Tesla was incorporated in July 2003 by Martin Eberhard and Marc Tarpenning as Tesla Motors. Its name is a tribute to inventor and electrical engineer Nikola Tesla. In February 2004, Elon Musk led Tesla's first funding round and became the company's chairman; in 2008, he was named chief executive officer. In 2008, the company began production of its first car model, the Roadster sports car, followed by the Model S sedan in 2012, the Model X SUV in 2015, the Model 3 sedan in 2017, the Model Y crossover in 2020, the Tesla Semi truck in 2022 and the Cybertruck pickup truck in 2023.\n",
      "Tesla is one of the world's most valuable companies in terms of market capitalization. Starting in July 2020, it has been the world's most valuable automaker. From October 2021 to March 2022, Tesla was a trillion-dollar company, the seventh U.S. company to be so, and has been so again since November 2024. In 2023, the company led the battery electric vehicle market, with 19.9% share. Also in 2023, the company was ranked 69th in the Forbes Global 2000.\n",
      "Tesla has been the subject of lawsuits, government scrutiny, and journalistic criticism, stemming from allegations of multiple cases of whistleblower retaliation, worker rights violations such as sexual harassment and anti-union activities, safety defects leading to dozens of recalls, the lack of a public relations department, and controversial statements from Musk including overpromising on the company's driving assist technology and product release timelines.\n",
      "\n",
      "Page: Software product line\n",
      "Summary: Software product lines (SPLs), or software product line development, refers to software engineering methods, tools and techniques for creating a collection of similar software systems from a shared set of software assets using a common means of production.\n",
      "The Carnegie Mellon Software Engineering Institute defines a software product line as \"a set of software-intensive systems that share a common, managed set of features satisfying the specific needs of a particular market segment or mission and that are developed from a common set of core assets in a prescribed way.\"\n",
      "\n",
      "\u001b[0m\n",
      "Thought:\u001b[32;1m\u001b[1;3mDo I need to use a tool? No\n",
      "AI: Here are five essential products for vehicle maintenance:\n",
      "1. Motor oil: Regularly changing the motor oil helps keep the engine running smoothly.\n",
      "2. Air filter: A clean air filter improves fuel efficiency and engine performance.\n",
      "3. Tire pressure gauge: Proper tire pressure is crucial for safety and fuel efficiency.\n",
      "4. Brake fluid: Regularly checking and topping up brake fluid ensures optimal brake performance.\n",
      "5. Windshield wipers: Clear visibility is essential for safe driving, so replacing worn-out wipers is important for maintenance.\u001b[0m\n",
      "\n",
      "\u001b[1m> Finished chain.\u001b[0m\n"
     ]
    },
    {
     "data": {
      "text/plain": [
       "{'input': 'Dime 5 productos esenciales para el mantenimiento del vehículo.',\n",
       " 'chat_history': '',\n",
       " 'output': 'Here are five essential products for vehicle maintenance:\\n1. Motor oil: Regularly changing the motor oil helps keep the engine running smoothly.\\n2. Air filter: A clean air filter improves fuel efficiency and engine performance.\\n3. Tire pressure gauge: Proper tire pressure is crucial for safety and fuel efficiency.\\n4. Brake fluid: Regularly checking and topping up brake fluid ensures optimal brake performance.\\n5. Windshield wipers: Clear visibility is essential for safe driving, so replacing worn-out wipers is important for maintenance.'}"
      ]
     },
     "execution_count": 7,
     "metadata": {},
     "output_type": "execute_result"
    }
   ],
   "source": [
    "agent.invoke(\"Dime 5 productos esenciales para el mantenimiento del vehículo.\")"
   ]
  },
  {
   "cell_type": "code",
   "execution_count": 8,
   "id": "fb1ce2b1",
   "metadata": {},
   "outputs": [
    {
     "name": "stdout",
     "output_type": "stream",
     "text": [
      "\n",
      "\n",
      "\u001b[1m> Entering new AgentExecutor chain...\u001b[0m\n",
      "\u001b[32;1m\u001b[1;3mThought: Do I need to use a tool? No\n",
      "AI: Each of the products mentioned is important for vehicle maintenance, but if I had to choose one as the most crucial, I would say motor oil. Regularly changing the motor oil is essential for keeping the engine running smoothly and preventing damage.\u001b[0m\n",
      "\n",
      "\u001b[1m> Finished chain.\u001b[0m\n"
     ]
    },
    {
     "data": {
      "text/plain": [
       "{'input': '¿Cuál de los anteriores es el más importante?',\n",
       " 'chat_history': 'Human: Dime 5 productos esenciales para el mantenimiento del vehículo.\\nAI: Here are five essential products for vehicle maintenance:\\n1. Motor oil: Regularly changing the motor oil helps keep the engine running smoothly.\\n2. Air filter: A clean air filter improves fuel efficiency and engine performance.\\n3. Tire pressure gauge: Proper tire pressure is crucial for safety and fuel efficiency.\\n4. Brake fluid: Regularly checking and topping up brake fluid ensures optimal brake performance.\\n5. Windshield wipers: Clear visibility is essential for safe driving, so replacing worn-out wipers is important for maintenance.',\n",
       " 'output': 'Each of the products mentioned is important for vehicle maintenance, but if I had to choose one as the most crucial, I would say motor oil. Regularly changing the motor oil is essential for keeping the engine running smoothly and preventing damage.'}"
      ]
     },
     "execution_count": 8,
     "metadata": {},
     "output_type": "execute_result"
    }
   ],
   "source": [
    "agent.invoke(\"¿Cuál de los anteriores es el más importante?\")"
   ]
  },
  {
   "cell_type": "code",
   "execution_count": 9,
   "id": "7b910033",
   "metadata": {},
   "outputs": [
    {
     "name": "stdout",
     "output_type": "stream",
     "text": [
      "\n",
      "\n",
      "\u001b[1m> Entering new AgentExecutor chain...\u001b[0m\n",
      "\u001b[32;1m\u001b[1;3mThought: Do I need to use a tool? Yes\n",
      "Action: wikipedia\n",
      "Action Input: Translation of the previous response into Spanish\u001b[0m\n",
      "Observation: \u001b[36;1m\u001b[1;3mPage: Bible translations\n",
      "Summary: The Bible has been translated into many languages from the biblical languages of Hebrew, Aramaic, and Greek. As of November 2024 the whole Bible has been translated into 756 languages, the New Testament has been translated into an additional 1,726 languages, and smaller portions of the Bible have been translated into 1,274 other languages according to Wycliffe Global Alliance. Thus, at least some portions of the Bible have been translated into 3,756 languages.\n",
      "The Old Testament, written in Hebrew (with some sections in the Book of Daniel in the Aramaic language) was translated into Aramaic (the so-called Targums, originally not written down), Greek and Syriac.\n",
      "The New Testament, written in Greek, was first translated into Syriac, Latin and Coptic – all before the time of Emperor Constantine. Jerome's 4th-century Latin Vulgate version, a revision of earlier Latin translations, was dominant in Western Christianity during the Middle Ages.\n",
      "By the year 500, the Bible had been translated into Ge'ez, Gothic, Armenian and Georgian. By the year 1000, a number of other translations were added (in some cases partial), including Old Nubian, Sogdian, Arabic and Slavonic languages, among others.\n",
      "English Bible translations have a rich and varied history of more than a millennium. (See List of English Bible translations.)\n",
      "Textual variants in the New Testament include errors, omissions, additions, changes, and alternate translations. In some cases, different translations have been used as evidence for or have been motivated by doctrinal differences.\n",
      "\n",
      "Page: New World Translation\n",
      "Summary: The New World Translation of the Holy Scriptures (NWT, also simply NW) is a translation of the Bible published by the Watch Tower Bible and Tract Society; it is used and distributed by Jehovah's Witnesses.  The New Testament portion was released first, in 1950, as the New World Translation of the Christian Greek Scriptures, with the complete New World Translation of the Bible released in 1961.\n",
      "It is not the first Bible to be published by the Watch Tower Society, but it is its first translation into English. Commentators have noted that scholarly effort went into producing the translation but many have described it as \"biased\".\n",
      "\n",
      "Page: Spanish colonization of the Americas\n",
      "Summary: The Spanish colonization of the Americas began in 1493 on the Caribbean island of Hispaniola (now Haiti and the Dominican Republic) after the initial 1492 voyage of Genoese mariner Christopher Columbus under license from Queen Isabella I of Castile. These overseas territories of the Spanish Empire were under the jurisdiction of Crown of Castile until the last territory was lost in 1898. Spaniards saw the dense populations of indigenous peoples as an important economic resource and the territory claimed as potentially producing great wealth for individual Spaniards and the crown. Religion played an important role in the Spanish conquest and incorporation of indigenous peoples, bringing them into the Catholic Church peacefully or by force. The crown created civil and religious structures to administer the vast territory. Spanish men and women settled in greatest numbers where there were dense indigenous populations and the existence of valuable resources for extraction.\n",
      "The Spanish Empire claimed jurisdiction over the New World in the Caribbean and North and South America, with the exception of Brazil, ceded to Portugal by the Treaty of Tordesillas. Other European powers, including England, France, and the Dutch Republic, took possession of territories initially claimed by Spain. Although the overseas territories under the jurisdiction of the Spanish crown are now commonly called \"colonies\" the term was not used until the second half of 18th century. The process of Spanish settlement, now called \"colonization\" and the \"colonial era\" are terms contested by scholars of Latin America and more generally.\n",
      "It is estimated that during the period 1492–1832, a tot\u001b[0m\n",
      "Thought:\u001b[32;1m\u001b[1;3mDo I need to use a tool? No\n",
      "AI: Cada uno de los productos mencionados es importante para el mantenimiento del vehículo, pero si tuviera que elegir uno como el más crucial, diría que el aceite del motor. Cambiar regularmente el aceite del motor es esencial para mantener el motor funcionando sin problemas y prevenir daños.\u001b[0m\n",
      "\n",
      "\u001b[1m> Finished chain.\u001b[0m\n"
     ]
    },
    {
     "data": {
      "text/plain": [
       "{'input': 'Necesito la respuesta anterior en castellano',\n",
       " 'chat_history': 'Human: Dime 5 productos esenciales para el mantenimiento del vehículo.\\nAI: Here are five essential products for vehicle maintenance:\\n1. Motor oil: Regularly changing the motor oil helps keep the engine running smoothly.\\n2. Air filter: A clean air filter improves fuel efficiency and engine performance.\\n3. Tire pressure gauge: Proper tire pressure is crucial for safety and fuel efficiency.\\n4. Brake fluid: Regularly checking and topping up brake fluid ensures optimal brake performance.\\n5. Windshield wipers: Clear visibility is essential for safe driving, so replacing worn-out wipers is important for maintenance.\\nHuman: ¿Cuál de los anteriores es el más importante?\\nAI: Each of the products mentioned is important for vehicle maintenance, but if I had to choose one as the most crucial, I would say motor oil. Regularly changing the motor oil is essential for keeping the engine running smoothly and preventing damage.',\n",
       " 'output': 'Cada uno de los productos mencionados es importante para el mantenimiento del vehículo, pero si tuviera que elegir uno como el más crucial, diría que el aceite del motor. Cambiar regularmente el aceite del motor es esencial para mantener el motor funcionando sin problemas y prevenir daños.'}"
      ]
     },
     "execution_count": 9,
     "metadata": {},
     "output_type": "execute_result"
    }
   ],
   "source": [
    "agent.invoke(\"Necesito la respuesta anterior en castellano\")"
   ]
  }
 ],
 "metadata": {
  "kernelspec": {
   "display_name": "ia_gpu312",
   "language": "python",
   "name": "python3"
  },
  "language_info": {
   "codemirror_mode": {
    "name": "ipython",
    "version": 3
   },
   "file_extension": ".py",
   "mimetype": "text/x-python",
   "name": "python",
   "nbconvert_exporter": "python",
   "pygments_lexer": "ipython3",
   "version": "3.12.8"
  }
 },
 "nbformat": 4,
 "nbformat_minor": 5
}

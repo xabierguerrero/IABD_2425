{
 "cells": [
  {
   "cell_type": "markdown",
   "id": "728f1747-b8fc-4d31-96c2-047fc83c079d",
   "metadata": {},
   "source": [
    "#  Modelo Secuencial Completo"
   ]
  },
  {
   "cell_type": "markdown",
   "id": "e2128d1c-62d1-4681-abe1-754a1410e632",
   "metadata": {},
   "source": [
    "## Importar librerías e instancia de modelo de chat"
   ]
  },
  {
   "cell_type": "code",
   "execution_count": 2,
   "id": "e2d81e4f-8739-4a19-abf9-7515304fc0a9",
   "metadata": {},
   "outputs": [],
   "source": [
    "from langchain.prompts import PromptTemplate, SystemMessagePromptTemplate,ChatPromptTemplate, HumanMessagePromptTemplate\n",
    "from langchain_openai import ChatOpenAI\n",
    "from langchain.chains import SequentialChain, LLMChain #importamos el SequentialChain que es el modelo completo\n",
    "f = open('/home/iabd/clave_gpt.txt')\n",
    "api_key = f.read().strip()\n",
    "llm = ChatOpenAI(openai_api_key=api_key)"
   ]
  },
  {
   "cell_type": "code",
   "execution_count": 3,
   "id": "c2db5816-b29d-4567-b6aa-12e0c74e9331",
   "metadata": {},
   "outputs": [
    {
     "name": "stderr",
     "output_type": "stream",
     "text": [
      "/tmp/ipykernel_5661/3602167786.py:3: LangChainDeprecationWarning: The class `LLMChain` was deprecated in LangChain 0.1.17 and will be removed in 1.0. Use :meth:`~RunnableSequence, e.g., `prompt | llm`` instead.\n",
      "  chain_1 = LLMChain(llm=llm,\n"
     ]
    }
   ],
   "source": [
    "template1 = \"Dame un resumen del rendimiento de este trabajador:\\n{revision_rendimiento}\"\n",
    "prompt1 = ChatPromptTemplate.from_template(template1)\n",
    "chain_1 = LLMChain(llm=llm,\n",
    "                     prompt=prompt1,\n",
    "                     output_key=\"resumen_revision\")\n",
    "\n",
    "#Opciones objetos runnables: chain_1= prompt1 | llm"
   ]
  },
  {
   "cell_type": "code",
   "execution_count": 4,
   "id": "2a6c1d04-1fe0-4386-8b3a-4535cbfaff43",
   "metadata": {},
   "outputs": [],
   "source": [
    "template2 = \"Identifica las debilidades de este trabajador dentro de de este resumen de la revisión:\\n{resumen_revision}\"\n",
    "prompt2 = ChatPromptTemplate.from_template(template2)\n",
    "chain_2 = LLMChain(llm=llm,\n",
    "                     prompt=prompt2,\n",
    "                     output_key=\"debilidades\")\n",
    "\n",
    "#Opciones objetos runnables: chain_2= prompt2 | llm"
   ]
  },
  {
   "cell_type": "code",
   "execution_count": 5,
   "id": "8031844b-586e-44b5-ac74-23b3767a9413",
   "metadata": {},
   "outputs": [],
   "source": [
    "template3 = \"Crea un plan de mejora para ayudar en estas debilidades:\\n{debilidades}\"\n",
    "prompt3 = ChatPromptTemplate.from_template(template3)\n",
    "chain_3 = LLMChain(llm=llm,\n",
    "                     prompt=prompt3,\n",
    "                     output_key=\"plan_mejora\")\n",
    "\n",
    "#Opciones objetos runnables: chain_3= prompt3 | llm"
   ]
  },
  {
   "cell_type": "code",
   "execution_count": 6,
   "id": "9e93a32e-3199-447c-ab17-22585d80422d",
   "metadata": {},
   "outputs": [],
   "source": [
    "seq_chain = SequentialChain(chains=[chain_1,chain_2,chain_3],\n",
    "                            input_variables=['revision_rendimiento'],\n",
    "                            output_variables=['resumen_revision','debilidades','plan_mejora'],\n",
    "                            verbose=True)"
   ]
  },
  {
   "cell_type": "code",
   "execution_count": 7,
   "id": "0e6013f5-40c9-401b-9d45-98b52de1bb3f",
   "metadata": {},
   "outputs": [],
   "source": [
    "revision_rendimiento_empleado = '''\n",
    "Revisión de Rendimiento del Empleado\n",
    "\n",
    "Nombre del Empleado: Juan Pérez\n",
    "Posición: Analista de Datos\n",
    "Período Evaluado: Enero 2023 - Junio 2023\n",
    "\n",
    "Fortalezas:\n",
    "Juan ha demostrado un fuerte dominio de las herramientas analíticas y ha proporcionado informes detallados y precisos que han sido de gran ayuda para la toma de decisiones estratégicas. Su capacidad para trabajar en equipo y su disposición para ayudar a los demás también han sido notables. Además, ha mostrado una gran ética de trabajo y una actitud positiva en el entorno laboral.\n",
    "\n",
    "Debilidades:\n",
    "A pesar de sus muchas fortalezas, Juan ha mostrado áreas que necesitan mejoras. En particular, se ha observado que a veces tiene dificultades para manejar múltiples tareas simultáneamente, lo que resulta en retrasos en la entrega de proyectos. También ha habido ocasiones en las que la calidad del trabajo ha disminuido bajo presión. Además, se ha identificado una necesidad de mejorar sus habilidades de comunicación, especialmente en lo que respecta a la presentación de datos complejos de manera clara y concisa a los miembros no técnicos del equipo. Finalmente, se ha notado una falta de proactividad en la búsqueda de soluciones a problemas imprevistos, confiando a menudo en la orientación de sus superiores en lugar de tomar la iniciativa.\n",
    "'''"
   ]
  },
  {
   "cell_type": "code",
   "execution_count": 8,
   "id": "406813b0-b79d-4056-8dbc-923e1986df41",
   "metadata": {},
   "outputs": [
    {
     "name": "stdout",
     "output_type": "stream",
     "text": [
      "\n",
      "\n",
      "\u001b[1m> Entering new SequentialChain chain...\u001b[0m\n",
      "\n",
      "\u001b[1m> Finished chain.\u001b[0m\n"
     ]
    }
   ],
   "source": [
    "results = seq_chain.invoke(revision_rendimiento_empleado)"
   ]
  },
  {
   "cell_type": "code",
   "execution_count": 10,
   "id": "be395801-2e84-4686-9203-3857f8b5934b",
   "metadata": {},
   "outputs": [
    {
     "data": {
      "text/plain": [
       "{'revision_rendimiento': '\\nRevisión de Rendimiento del Empleado\\n\\nNombre del Empleado: Juan Pérez\\nPosición: Analista de Datos\\nPeríodo Evaluado: Enero 2023 - Junio 2023\\n\\nFortalezas:\\nJuan ha demostrado un fuerte dominio de las herramientas analíticas y ha proporcionado informes detallados y precisos que han sido de gran ayuda para la toma de decisiones estratégicas. Su capacidad para trabajar en equipo y su disposición para ayudar a los demás también han sido notables. Además, ha mostrado una gran ética de trabajo y una actitud positiva en el entorno laboral.\\n\\nDebilidades:\\nA pesar de sus muchas fortalezas, Juan ha mostrado áreas que necesitan mejoras. En particular, se ha observado que a veces tiene dificultades para manejar múltiples tareas simultáneamente, lo que resulta en retrasos en la entrega de proyectos. También ha habido ocasiones en las que la calidad del trabajo ha disminuido bajo presión. Además, se ha identificado una necesidad de mejorar sus habilidades de comunicación, especialmente en lo que respecta a la presentación de datos complejos de manera clara y concisa a los miembros no técnicos del equipo. Finalmente, se ha notado una falta de proactividad en la búsqueda de soluciones a problemas imprevistos, confiando a menudo en la orientación de sus superiores en lugar de tomar la iniciativa.\\n',\n",
       " 'resumen_revision': 'En general, Juan Pérez ha demostrado ser un empleado valioso con habilidades analíticas sólidas y una actitud positiva en el trabajo en equipo. Sin embargo, hay áreas de mejora identificadas, como la gestión de múltiples tareas, la calidad del trabajo bajo presión, las habilidades de comunicación y la proactividad en la resolución de problemas. Se recomienda que Juan trabaje en mejorar estas áreas para optimizar su rendimiento en el futuro.',\n",
       " 'debilidades': 'Debilidades identificadas:\\n\\n1. Gestión de múltiples tareas: Juan Pérez necesita mejorar su habilidad para manejar varias tareas al mismo tiempo de manera efectiva.\\n2. Calidad del trabajo bajo presión: Se observa que su desempeño puede disminuir cuando se encuentra bajo presión, por lo que necesita mejorar su capacidad para mantener la calidad del trabajo en estas situaciones.\\n3. Habilidades de comunicación: Debe trabajar en mejorar sus habilidades de comunicación para poder transmitir información de manera clara y efectiva.\\n4. Proactividad en la resolución de problemas: Juan necesita ser más proactivo en la identificación y resolución de problemas en el lugar de trabajo.',\n",
       " 'plan_mejora': 'Plan de mejora:\\n\\n1. Capacitación en gestión del tiempo: Se debe brindar a Juan Pérez capacitación en técnicas de gestión del tiempo, como la priorización de tareas, la creación de listas de tareas y la utilización de herramientas de organización. También se pueden establecer plazos realistas para cada tarea para evitar la sobrecarga de trabajo.\\n\\n2. Entrenamiento en manejo del estrés: Se pueden ofrecer sesiones de entrenamiento en manejo del estrés para ayudar a Juan a mantener la calma y la concentración en situaciones de presión. Esto puede incluir técnicas de respiración, meditación y mindfulness para ayudarlo a mantener la calidad de su trabajo en situaciones estresantes.\\n\\n3. Coaching en habilidades de comunicación: Se puede asignar a Juan un mentor o coach que lo ayude a mejorar sus habilidades de comunicación. Esto puede incluir prácticas de comunicación efectiva, como escuchar activamente, hacer preguntas claras y concisas, y adaptar su mensaje al público objetivo.\\n\\n4. Fomentar la proactividad: Se puede alentar a Juan a tomar la iniciativa en la identificación y resolución de problemas en el lugar de trabajo. Se pueden establecer reuniones regulares para discutir posibles desafíos y oportunidades de mejora, y se le puede brindar retroalimentación constructiva para fomentar su proactividad en la resolución de problemas.'}"
      ]
     },
     "execution_count": 10,
     "metadata": {},
     "output_type": "execute_result"
    }
   ],
   "source": [
    "results #Tenemos un diccionario con todos los resultados intermedios y final"
   ]
  },
  {
   "cell_type": "code",
   "execution_count": 9,
   "id": "2edc6866-769b-47ee-921d-ae40eb9891eb",
   "metadata": {},
   "outputs": [
    {
     "name": "stdout",
     "output_type": "stream",
     "text": [
      "Plan de mejora:\n",
      "\n",
      "1. Gestión de tareas múltiples:\n",
      "- Utilizar herramientas de gestión de proyectos, como un calendario o una lista de tareas, para priorizar y organizar el trabajo de manera eficiente.\n",
      "- Establecer metas diarias y semanales para mantener el enfoque en las tareas más importantes.\n",
      "- Aprender a delegar tareas cuando sea necesario para evitar la sobrecarga de trabajo.\n",
      "\n",
      "2. Calidad del trabajo bajo presión:\n",
      "- Practicar técnicas de manejo del estrés, como la meditación o la respiración profunda, para mantener la calma en situaciones de presión.\n",
      "- Establecer pausas regulares para descansar y recargar energías durante el día laboral.\n",
      "- Realizar revisiones periódicas del trabajo realizado para identificar posibles errores o áreas de mejora.\n",
      "\n",
      "3. Habilidades de comunicación:\n",
      "- Participar en cursos o talleres de comunicación efectiva para mejorar la claridad y efectividad en la comunicación.\n",
      "- Practicar la escucha activa para comprender mejor las necesidades y preocupaciones de los colegas y superiores.\n",
      "- Solicitar retroalimentación regularmente para identificar áreas de mejora en la comunicación.\n",
      "\n",
      "4. Proactividad en la resolución de problemas:\n",
      "- Estar atento a posibles obstáculos o dificultades en el trabajo y buscar soluciones antes de que se conviertan en problemas mayores.\n",
      "- Establecer un plan de acción para abordar situaciones problemáticas de manera anticipada.\n",
      "- Aprender a trabajar en equipo y colaborar con otros para encontrar soluciones creativas a los desafíos.\n"
     ]
    }
   ],
   "source": [
    "#Resultado final\n",
    "print(results['plan_mejora'])"
   ]
  },
  {
   "cell_type": "code",
   "execution_count": 10,
   "id": "15760213-e3a3-443a-9fe7-17d14c438ac5",
   "metadata": {},
   "outputs": [
    {
     "name": "stdout",
     "output_type": "stream",
     "text": [
      "Debilidades identificadas:\n",
      "1. Gestión de tareas múltiples: dificultad para priorizar y organizar el trabajo de manera eficiente.\n",
      "2. Calidad del trabajo bajo presión: posibilidad de cometer errores o disminuir el nivel de calidad cuando se enfrenta a situaciones de presión.\n",
      "3. Habilidades de comunicación: falta de claridad o efectividad en la comunicación con colegas y superiores.\n",
      "4. Proactividad en la resolución de problemas: necesidad de mejorar la capacidad de anticiparse a dificultades y buscar soluciones de manera anticipada.\n"
     ]
    }
   ],
   "source": [
    "#Se puede accceder a los resultados intermedios:\n",
    "print(results[\"debilidades\"])"
   ]
  }
 ],
 "metadata": {
  "kernelspec": {
   "display_name": "ia_gpu312",
   "language": "python",
   "name": "python3"
  },
  "language_info": {
   "codemirror_mode": {
    "name": "ipython",
    "version": 3
   },
   "file_extension": ".py",
   "mimetype": "text/x-python",
   "name": "python",
   "nbconvert_exporter": "python",
   "pygments_lexer": "ipython3",
   "version": "3.12.8"
  }
 },
 "nbformat": 4,
 "nbformat_minor": 5
}

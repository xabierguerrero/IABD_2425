{
 "cells": [
  {
   "cell_type": "markdown",
   "id": "9454b5e9",
   "metadata": {},
   "source": [
    "<em style=\"text-align:center\">Copyright Iván Pinar Domínguez</em>"
   ]
  },
  {
   "cell_type": "markdown",
   "id": "e2128d1c-62d1-4681-abe1-754a1410e632",
   "metadata": {},
   "source": [
    "## Importar librerías iniciales e instancia de modelo de chat"
   ]
  },
  {
   "cell_type": "code",
   "execution_count": 1,
   "id": "e2d81e4f-8739-4a19-abf9-7515304fc0a9",
   "metadata": {},
   "outputs": [],
   "source": [
    "from langchain.prompts import PromptTemplate, SystemMessagePromptTemplate,ChatPromptTemplate, HumanMessagePromptTemplate\n",
    "from langchain_openai import ChatOpenAI\n",
    "from langchain.chains import SimpleSequentialChain, LLMChain,TransformChain\n",
    "f = open('../OpenAI_key.txt')\n",
    "api_key = f.read()\n",
    "llm = ChatOpenAI(openai_api_key=api_key)"
   ]
  },
  {
   "cell_type": "markdown",
   "id": "dea207e9-8342-4e29-b2c6-225af73b4459",
   "metadata": {},
   "source": [
    "### Conectar a BD Vectores"
   ]
  },
  {
   "cell_type": "code",
   "execution_count": 4,
   "id": "33745370-8834-4ef5-ae38-177f19cb903e",
   "metadata": {},
   "outputs": [],
   "source": [
    "from langchain.embeddings.openai import OpenAIEmbeddings\n",
    "from langchain_community.vectorstores import SKLearnVectorStore"
   ]
  },
  {
   "cell_type": "code",
   "execution_count": 6,
   "id": "f708fa15-94a1-4afb-a3b1-2d9b8320572f",
   "metadata": {},
   "outputs": [],
   "source": [
    "embedding_function = OpenAIEmbeddings(openai_api_key=api_key)"
   ]
  },
  {
   "cell_type": "code",
   "execution_count": 7,
   "id": "49a3b2d6",
   "metadata": {},
   "outputs": [],
   "source": [
    "vector_store_connection = SKLearnVectorStore(embedding=embedding_function, persist_path=\"../Bloque 3_Conectores de Datos/ejemplosk_embedding_db\", serializer=\"parquet\")"
   ]
  },
  {
   "cell_type": "markdown",
   "id": "207e080a-3517-4310-8792-6f9cdc2e854d",
   "metadata": {},
   "source": [
    "## Cargar cadena QA"
   ]
  },
  {
   "cell_type": "code",
   "execution_count": 27,
   "id": "299fc8e0-adb9-4499-b3d6-ed9aec61971d",
   "metadata": {},
   "outputs": [],
   "source": [
    "from langchain.chains.question_answering import load_qa_chain\n",
    "from langchain.chains.qa_with_sources import load_qa_with_sources_chain #Opción que proporciona también la fuente de datos de la respuesta"
   ]
  },
  {
   "cell_type": "code",
   "execution_count": 28,
   "id": "fb332aec-2924-40df-86c2-473a1cb53b96",
   "metadata": {},
   "outputs": [],
   "source": [
    "chain = load_qa_chain(llm,chain_type='stuff') #chain_type='stuff' se usa cuando se desea una manera simple y directa de cargar y procesar el contenido completo sin dividirlo en fragmentos más pequeños. Es ideal para situaciones donde el volumen de datos no es demasiado grande y se puede manejar de manera eficiente por el modelo de lenguaje en una sola operación."
   ]
  },
  {
   "cell_type": "code",
   "execution_count": 29,
   "id": "aee28e63-236b-4aa9-8f59-1198fdae83de",
   "metadata": {},
   "outputs": [],
   "source": [
    "question = \"¿Qué paso en el siglo de Oro?\""
   ]
  },
  {
   "cell_type": "code",
   "execution_count": 30,
   "id": "2015fe12-1fa8-4e94-8410-edf5818bda82",
   "metadata": {},
   "outputs": [],
   "source": [
    "docs = vector_store_connection.similarity_search(question)"
   ]
  },
  {
   "cell_type": "code",
   "execution_count": 40,
   "id": "d80a66b6",
   "metadata": {},
   "outputs": [
    {
     "data": {
      "text/plain": [
       "'El Siglo de Oro español fue un período floreciente en las artes y las letras hispanas que abarca cronológicamente desde la publicación de la Gramática castellana de Nebrija en 1492 hasta la muerte de Calderón en 1681. Durante este tiempo, la literatura española tuvo figuras destacadas como Miguel de Cervantes Saavedra, Quevedo, Góngora, Lope, Calderón, y otros. \\nSOURCES: Fuentes datos/Historia España.txt'"
      ]
     },
     "execution_count": 40,
     "metadata": {},
     "output_type": "execute_result"
    }
   ],
   "source": [
    "chain.run(input_documents=docs,question=question)"
   ]
  },
  {
   "cell_type": "markdown",
   "id": "b89eff3a",
   "metadata": {},
   "source": [
    "### Alternativa con método invoke"
   ]
  },
  {
   "cell_type": "code",
   "execution_count": 49,
   "id": "3707d9ac",
   "metadata": {},
   "outputs": [],
   "source": [
    "#Estructurar un diccionario con los parámetros de entrada\n",
    "inputs = {\n",
    "    \"input_documents\": docs,\n",
    "    \"question\": question\n",
    "}"
   ]
  },
  {
   "cell_type": "code",
   "execution_count": 50,
   "id": "4ed349b5-6a27-41ed-a361-c47d75450a50",
   "metadata": {},
   "outputs": [
    {
     "data": {
      "text/plain": [
       "'Durante el Siglo de Oro, España experimentó un florecimiento en las artes y las letras, con destacados escritores como Miguel de Cervantes Saavedra, Quevedo, Góngora, Lope de Vega, Calderón, y otros. Este período se extiende desde la publicación de la Gramática castellana de Nebrija en 1492 hasta la muerte de Calderón en 1681.\\nSOURCES: Fuentes datos/Historia España.txt'"
      ]
     },
     "execution_count": 50,
     "metadata": {},
     "output_type": "execute_result"
    }
   ],
   "source": [
    "chain.invoke(inputs)[\"output_text\"]"
   ]
  }
 ],
 "metadata": {
  "kernelspec": {
   "display_name": "Python 3 (ipykernel)",
   "language": "python",
   "name": "python3"
  },
  "language_info": {
   "codemirror_mode": {
    "name": "ipython",
    "version": 3
   },
   "file_extension": ".py",
   "mimetype": "text/x-python",
   "name": "python",
   "nbconvert_exporter": "python",
   "pygments_lexer": "ipython3",
   "version": "3.11.5"
  }
 },
 "nbformat": 4,
 "nbformat_minor": 5
}

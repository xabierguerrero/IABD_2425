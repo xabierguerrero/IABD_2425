{
 "cells": [
  {
   "cell_type": "markdown",
   "id": "bcded1a6-2430-4707-a78c-c82f4c5ee6fc",
   "metadata": {},
   "source": [
    "<em style=\"text-align:center\">Copyright Iván Pinar Domínguez</em>"
   ]
  },
  {
   "cell_type": "markdown",
   "id": "e2128d1c-62d1-4681-abe1-754a1410e632",
   "metadata": {},
   "source": [
    "## Importar librerías e instancia de modelo de chat"
   ]
  },
  {
   "cell_type": "code",
   "execution_count": 1,
   "id": "e2d81e4f-8739-4a19-abf9-7515304fc0a9",
   "metadata": {},
   "outputs": [],
   "source": [
    "from langchain.prompts import PromptTemplate, SystemMessagePromptTemplate,ChatPromptTemplate, HumanMessagePromptTemplate\n",
    "from langchain_openai import ChatOpenAI\n",
    "f = open('../OpenAI_key.txt')\n",
    "api_key = f.read()\n",
    "chat = ChatOpenAI(openai_api_key=api_key)"
   ]
  },
  {
   "cell_type": "markdown",
   "id": "728f1747-b8fc-4d31-96c2-047fc83c079d",
   "metadata": {},
   "source": [
    "##  Creación objeto LLMChain"
   ]
  },
  {
   "cell_type": "code",
   "execution_count": 2,
   "id": "ef4ce02d-d8aa-44f3-aa91-cfb8cfc06f6c",
   "metadata": {},
   "outputs": [],
   "source": [
    "human_message_prompt = HumanMessagePromptTemplate.from_template(\n",
    "        \"Dame un nombre de compañía que sea simpático para una compañía que fabrique {product}\"\n",
    "    )"
   ]
  },
  {
   "cell_type": "code",
   "execution_count": 8,
   "id": "bda465bc-5863-4393-a67d-97352a32b1b0",
   "metadata": {},
   "outputs": [],
   "source": [
    "chat_prompt_template = ChatPromptTemplate.from_messages([human_message_prompt])"
   ]
  },
  {
   "cell_type": "code",
   "execution_count": 36,
   "id": "eb223191-78c9-421e-a8a3-67e016b10faf",
   "metadata": {},
   "outputs": [],
   "source": [
    "from langchain.chains import LLMChain\n",
    "chain = LLMChain(llm=chat, prompt=chat_prompt_template)"
   ]
  },
  {
   "cell_type": "code",
   "execution_count": 37,
   "id": "6d4b3baf-5a5e-40bd-b916-bf0460a762f8",
   "metadata": {},
   "outputs": [
    {
     "name": "stdout",
     "output_type": "stream",
     "text": [
      "{'product': 'Lavadoras', 'text': '\"LavaRisas\"'}\n"
     ]
    }
   ],
   "source": [
    "print(chain.invoke(input=\"Lavadoras\"))"
   ]
  },
  {
   "cell_type": "markdown",
   "id": "c9b403f0",
   "metadata": {},
   "source": [
    "#  Cadena Secuencia Simple"
   ]
  },
  {
   "cell_type": "code",
   "execution_count": 38,
   "id": "5f4cb796-3ea3-4a63-96a3-58d9be1991a8",
   "metadata": {},
   "outputs": [],
   "source": [
    "from langchain.chains import SimpleSequentialChain"
   ]
  },
  {
   "cell_type": "code",
   "execution_count": 14,
   "id": "ee4cf672-8071-42c1-917a-f04c2f88c8d6",
   "metadata": {},
   "outputs": [],
   "source": [
    "llm = ChatOpenAI(openai_api_key=api_key)"
   ]
  },
  {
   "cell_type": "code",
   "execution_count": 39,
   "id": "75505659-35af-4eec-a890-42ab4486ea9a",
   "metadata": {},
   "outputs": [],
   "source": [
    "template = \"Dame un simple resumen con un listado de puntos para un post de un blog acerca de {tema}\"\n",
    "prompt1 = ChatPromptTemplate.from_template(template)\n",
    "chain_1 = LLMChain(llm=llm,prompt=first_prompt)"
   ]
  },
  {
   "cell_type": "code",
   "execution_count": 41,
   "id": "24b974d6-446f-4328-b2af-eda7041f6587",
   "metadata": {},
   "outputs": [],
   "source": [
    "template = \"Escribe un post completo usando este resumen: {resumen}\"\n",
    "prompt2 = ChatPromptTemplate.from_template(template)\n",
    "chain_2 = LLMChain(llm=llm,prompt=prompt2)"
   ]
  },
  {
   "cell_type": "code",
   "execution_count": 42,
   "id": "9f3919a0-fee1-48bb-aeab-4be80f4799fc",
   "metadata": {},
   "outputs": [],
   "source": [
    "from langchain.chains.sequential import SimpleSequentialChain\n",
    "full_chain = SimpleSequentialChain(chains=[chain_1,chain_2],\n",
    "                                  verbose=True) #verbose=True nos irá dando paso a paso lo que hace, pudiendo ver los resultados intermedios"
   ]
  },
  {
   "cell_type": "code",
   "execution_count": 43,
   "id": "23708ed6-3511-4adb-83ad-ca24cd936fd8",
   "metadata": {},
   "outputs": [
    {
     "name": "stdout",
     "output_type": "stream",
     "text": [
      "\n",
      "\n",
      "\u001b[1m> Entering new SimpleSequentialChain chain...\u001b[0m\n",
      "\u001b[36;1m\u001b[1;3m1. ¿Qué es la inteligencia artificial?\n",
      "2. Historia de la inteligencia artificial\n",
      "3. Aplicaciones actuales de la inteligencia artificial\n",
      "4. Beneficios de la inteligencia artificial\n",
      "5. Desafíos y preocupaciones sobre la inteligencia artificial\n",
      "6. Futuro de la inteligencia artificial\n",
      "7. Ejemplos de empresas que utilizan inteligencia artificial\n",
      "8. Cómo la inteligencia artificial está impactando diferentes industrias\n",
      "9. Cómo aprender más sobre inteligencia artificial\n",
      "10. Conclusiones sobre el papel de la inteligencia artificial en el futuro.\u001b[0m\n",
      "\u001b[33;1m\u001b[1;3mLa inteligencia artificial (IA) es la capacidad que tienen las máquinas para aprender, razonar, tomar decisiones y resolver problemas de forma similar a los seres humanos. Esta tecnología ha revolucionado la forma en que interactuamos con la tecnología y ha abierto un mundo de posibilidades en diferentes sectores.\n",
      "\n",
      "La historia de la inteligencia artificial se remonta a la década de 1950, cuando se acuñó el término y se comenzaron a desarrollar los primeros programas informáticos capaces de simular el pensamiento humano. A lo largo de los años, la IA ha evolucionado y se ha convertido en una herramienta fundamental en nuestra vida diaria.\n",
      "\n",
      "Actualmente, la inteligencia artificial se utiliza en una amplia variedad de aplicaciones, desde asistentes virtuales como Siri y Alexa, hasta sistemas de recomendación en plataformas de streaming y algoritmos de reconocimiento facial en redes sociales. Estas aplicaciones han demostrado ser muy beneficiosas en términos de eficiencia, precisión y comodidad para los usuarios.\n",
      "\n",
      "Los beneficios de la inteligencia artificial son numerosos, desde la automatización de tareas tediosas y repetitivas, hasta la optimización de procesos en diferentes industrias. Sin embargo, también existen desafíos y preocupaciones sobre su uso, como la privacidad de los datos, la seguridad cibernética y el impacto en el empleo.\n",
      "\n",
      "En cuanto al futuro de la inteligencia artificial, se espera que siga creciendo y expandiéndose a nuevos campos, como la medicina, la educación y la agricultura. Empresas líderes como Google, Amazon, Microsoft y Tesla ya están invirtiendo en IA para mejorar sus productos y servicios.\n",
      "\n",
      "La inteligencia artificial está impactando diferentes industrias de manera significativa, desde el comercio electrónico hasta la atención médica. Gracias a la IA, las empresas pueden personalizar sus productos, mejorar la atención al cliente y predecir tendencias del mercado con mayor precisión.\n",
      "\n",
      "Si quieres aprender más sobre inteligencia artificial, existen numerosos recursos disponibles en línea, como cursos en plataformas como Coursera y Udemy, libros especializados y conferencias sobre el tema. También puedes unirte a comunidades en línea para estar al tanto de las últimas novedades en IA.\n",
      "\n",
      "En conclusión, la inteligencia artificial jugará un papel fundamental en el futuro, transformando la forma en que vivimos y trabajamos. A pesar de los desafíos y preocupaciones, esta tecnología tiene el potencial de mejorar nuestra calidad de vida y abrir nuevas oportunidades en todos los aspectos de la sociedad.\u001b[0m\n",
      "\n",
      "\u001b[1m> Finished chain.\u001b[0m\n"
     ]
    }
   ],
   "source": [
    "result = full_chain.invoke(input=\"Inteligencia Artificial\")"
   ]
  },
  {
   "cell_type": "code",
   "execution_count": 23,
   "id": "c41b4952-b601-446c-83cf-49b7cdd9bab2",
   "metadata": {},
   "outputs": [
    {
     "name": "stdout",
     "output_type": "stream",
     "text": [
      "La Inteligencia Artificial (IA) es un campo de la informática que ha revolucionado la manera en que interactuamos con la tecnología en la actualidad. A través de algoritmos y machine learning, la IA es capaz de aprender, razonar y tomar decisiones de manera autónoma, imitando la inteligencia humana.\n",
      "\n",
      "En la vida cotidiana, la IA está presente en numerosas aplicaciones, desde los asistentes virtuales como Siri o Alexa, hasta los sistemas de recomendación de Netflix o Amazon. Incluso en el sector de la salud, la IA se utiliza para diagnosticar enfermedades o predecir brotes de epidemias.\n",
      "\n",
      "Para entender cómo funciona la IA, es importante tener en cuenta los algoritmos que la sustentan, así como el machine learning, un enfoque que permite a los sistemas de IA mejorar su rendimiento a través de la experiencia y los datos.\n",
      "\n",
      "Sin embargo, el desarrollo de la IA conlleva importantes implicaciones éticas y responsabilidades. Es fundamental garantizar que los sistemas de IA sean justos, transparentes y respetuosos con la privacidad de los usuarios.\n",
      "\n",
      "En cuanto al futuro de la Inteligencia Artificial, se vislumbran posibles avances en campos como la medicina, la robótica o la industria automotriz. No obstante, también existen retos importantes, como el sesgo algorítmico o la pérdida de puestos de trabajo debido a la automatización.\n",
      "\n",
      "A pesar de estos desafíos, numerosas empresas han logrado implementar con éxito la IA en sus productos o servicios. Ejemplos como Google, Facebook o Tesla demuestran el potencial de la IA para mejorar la eficiencia y la experiencia del usuario.\n",
      "\n",
      "Si estás interesado en aprender más sobre Inteligencia Artificial, te recomiendo explorar cursos en línea, libros especializados o asistir a conferencias y eventos relacionados con el tema. La IA es un campo en constante evolución, y conocer sus fundamentos te permitirá estar al tanto de las últimas tendencias y aplicaciones.\n"
     ]
    }
   ],
   "source": [
    "print(result['output'])"
   ]
  }
 ],
 "metadata": {
  "kernelspec": {
   "display_name": "Python 3 (ipykernel)",
   "language": "python",
   "name": "python3"
  },
  "language_info": {
   "codemirror_mode": {
    "name": "ipython",
    "version": 3
   },
   "file_extension": ".py",
   "mimetype": "text/x-python",
   "name": "python",
   "nbconvert_exporter": "python",
   "pygments_lexer": "ipython3",
   "version": "3.11.5"
  }
 },
 "nbformat": 4,
 "nbformat_minor": 5
}

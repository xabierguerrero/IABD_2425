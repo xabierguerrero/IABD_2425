{
 "cells": [
  {
   "cell_type": "markdown",
   "id": "bcded1a6-2430-4707-a78c-c82f4c5ee6fc",
   "metadata": {},
   "source": [
    "<em style=\"text-align:center\">Copyright Iván Pinar Domínguez</em>"
   ]
  },
  {
   "cell_type": "markdown",
   "id": "e2128d1c-62d1-4681-abe1-754a1410e632",
   "metadata": {},
   "source": [
    "## Importar librerías iniciales e instancia de modelo de chat"
   ]
  },
  {
   "cell_type": "code",
   "execution_count": 16,
   "id": "e2d81e4f-8739-4a19-abf9-7515304fc0a9",
   "metadata": {},
   "outputs": [],
   "source": [
    "from langchain.prompts import PromptTemplate, SystemMessagePromptTemplate,ChatPromptTemplate, HumanMessagePromptTemplate\n",
    "from langchain_openai import ChatOpenAI\n",
    "from langchain.chains import SimpleSequentialChain, LLMChain,TransformChain\n",
    "f = open('../OpenAI_key.txt')\n",
    "api_key = f.read()\n",
    "llm = ChatOpenAI(openai_api_key=api_key)"
   ]
  },
  {
   "cell_type": "markdown",
   "id": "c5b6761d",
   "metadata": {},
   "source": [
    "## Importamos documentos"
   ]
  },
  {
   "cell_type": "code",
   "execution_count": 3,
   "id": "9c76dc30",
   "metadata": {},
   "outputs": [],
   "source": [
    "from langchain.document_loaders import WikipediaLoader"
   ]
  },
  {
   "cell_type": "code",
   "execution_count": 19,
   "id": "5dd5ca34",
   "metadata": {},
   "outputs": [
    {
     "name": "stdout",
     "output_type": "stream",
     "text": [
      "Real Madrid\n"
     ]
    }
   ],
   "source": [
    "consulta_wikipedia = input()"
   ]
  },
  {
   "cell_type": "code",
   "execution_count": 31,
   "id": "390311c6",
   "metadata": {},
   "outputs": [
    {
     "name": "stdout",
     "output_type": "stream",
     "text": [
      "francés\n"
     ]
    }
   ],
   "source": [
    "idioma_final = input()"
   ]
  },
  {
   "cell_type": "code",
   "execution_count": 20,
   "id": "a5f31a24",
   "metadata": {},
   "outputs": [],
   "source": [
    "loader = WikipediaLoader(query=consulta,lang=\"es\",load_max_docs=10)"
   ]
  },
  {
   "cell_type": "code",
   "execution_count": 21,
   "id": "3e88da37",
   "metadata": {},
   "outputs": [],
   "source": [
    "data = loader.load()"
   ]
  },
  {
   "cell_type": "code",
   "execution_count": 22,
   "id": "73f16bad",
   "metadata": {},
   "outputs": [
    {
     "data": {
      "text/plain": [
       "'El Real Madrid Club de Fútbol, más conocido simplemente como Real Madrid, es una entidad polideportiva con sede en Madrid (España). Fue registrada oficialmente como club de fútbol por sus socios el 6 de marzo de 1902 con el objeto de la práctica y desarrollo de este deporte, si bien sus orígenes datan del año 1900,[10]\\u200b y su denominación de (Sociedad) Madrid Foot-ball Club de octubre de 1901, siendo el quinto club fundado en la capital.[n. 3]\\u200b Tuvo a Julián Palacios y los hermanos Juan Padrós y Carlos Padrós como principales valedores de su creación.[11]\\u200b La entidad adquirió su designación actual el 29 de junio de 1920 mediante el otorgamiento del título honorífico de «Real» por parte de su majestad el rey Alfonso XIII de España, quien también conferiría la distinción visual correspondiente incorporando la corona real en su emblema.[12]\\u200b[13]\\u200b\\nIdentificado por su color blanco (del que recibe el apelativo de «blancos» o «merengues»),[1]\\u200b[2]\\u200b es uno de los cuatro clubes profesionales de fútbol del país cuya entidad jurídica no es la de sociedad anónima deportiva (S. A. D.),[n. 4]\\u200b ya que su propiedad recae en sus más de 90 000 socios.[14]\\u200b Otra salvedad comparte con el Athletic Club y el Fútbol Club Barcelona al participar sin interrupción en la máxima categoría de la Liga Nacional de Fútbol Profesional, la Primera División de España, desde su establecimiento en 1929.[15]\\u200b[16]\\u200b En ella posee los honores de haber sido el primer líder histórico de la competición,[17]\\u200b el de equipo con más títulos, y el de la máxima puntuación en una sola edición.[18]\\u200b[n. 5]\\u200b\\nAbocado desde sus inicios al desarrollo del balompié, pronto adquirió un carácter multideportivo y desarrolló varias otras disciplinas que fueron desapareciendo con el devenir de los años,[19]\\u200b[20]\\u200b a excepción de la sección de baloncesto, denominada Real Madrid Baloncesto.[21]\\u200b[n. 6]\\u200b Hubo varias especulaciones en la historia reciente de la entidad sobre la posibilidad de recuperar algunas de ellas como la sección de balonmano,[n. 7]\\u200b o la sección de rugby que no llegaron a materializarse,[n. 8]\\u200b al contrario que una sección femenina de fútbol, parcela que desde los años 2010 el club trabajaba por crear con una base desde el ciclo formativo hasta la máxima categoría.[22]\\u200b[n. 9]\\u200b Finalmente en 2019, y tomando otra de las posibles vías para su creación, se produjo la fusión por absorción del Club Deportivo TACON aprobándose en una reunión extraordinaria por parte de los socios compromisarios y conformar así el Real Madrid Club de Fútbol femenino.[23]\\u200b[24]\\u200b[25]\\u200b\\nEs miembro creador, fundador y cofundador de varias de las competiciones españolas más longevas antes de la existencia de los pertinentes órganos rectores: el Campeonato Regional Centro, o la Copa de España.[26]\\u200b[27]\\u200b A nivel internacional fue uno de los miembros fundadores de la FIFA,[28]\\u200b[29]\\u200b estamento que le concedió la Orden del Mérito por su especial relevancia en el fútbol[30]\\u200b[n. 10]\\u200b y lo señala como uno de los «clubes clásicos» de España[31]\\u200b tras colaborar en el nacimiento de algunas de las competiciones o asociaciones más prestigiosas como la Copa de Europa,[28]\\u200b[32]\\u200b[33]\\u200b[34]\\u200b la Copa Intercontinental,[35]\\u200b o la Asociación de Clubes Europeos.[36]\\u200b[n. 11]\\u200b Mismo camino toma en el apartado baloncestístico, donde es junto al Club Joventut Badalona el único club que ha disputado siempre desde su creación en 1957 la máxima categoría de liga,[37]\\u200b de la que es también miembro fundador,[38]\\u200b[n. 12]\\u200b así como de la homónima Copa de Europa,[39]\\u200b o el Torneo de Navidad internacional.[40]\\u200b\\nEn cuanto a los logros deportivos, es una de las entidades más laureadas y reconocidas del mundo en ambas disciplinas,[35]\\u200b[41]\\u200b y ha sido galardonado a nivel futbolístico nacional e internacional por la FIFA como el Mejor Club del siglo XX,[42]\\u200b como el Mejor Club Europeo del siglo XX por la Federación Internacional de Historia y Estadística de Fútbol (IFFHS),[43]\\u200b como el Mejor Club de Fútbol del Siglo XX y el 1er Club Legendario de'"
      ]
     },
     "execution_count": 22,
     "metadata": {},
     "output_type": "execute_result"
    }
   ],
   "source": [
    "data[0].page_content"
   ]
  },
  {
   "cell_type": "code",
   "execution_count": 23,
   "id": "8a7dc2e6",
   "metadata": {},
   "outputs": [],
   "source": [
    "texto_entrada = data[0].page_content"
   ]
  },
  {
   "cell_type": "markdown",
   "id": "728f1747-b8fc-4d31-96c2-047fc83c079d",
   "metadata": {},
   "source": [
    "# TransformChain"
   ]
  },
  {
   "cell_type": "markdown",
   "id": "b0d163bc-d097-442c-a6d8-6d3c4313548b",
   "metadata": {},
   "source": [
    "### Definir la función de transformación personalizada"
   ]
  },
  {
   "cell_type": "code",
   "execution_count": 25,
   "id": "b0f73659-9dcd-49f9-aa97-40f9caefeb91",
   "metadata": {},
   "outputs": [],
   "source": [
    "def transformer_function(inputs: dict) -> dict: #Toma de entrada un diccionario y lo devuelve con la transformación oportuna\n",
    "    texto = inputs['texto']\n",
    "    primer_parrafo = texto.split('\\n')[0]\n",
    "    return {'salida':primer_parrafo}"
   ]
  },
  {
   "cell_type": "code",
   "execution_count": 26,
   "id": "56b4729f-2480-47c4-885d-1c457527bcbe",
   "metadata": {},
   "outputs": [],
   "source": [
    "transform_chain = TransformChain(input_variables=['texto'],\n",
    "                                 output_variables=['salida'],\n",
    "                                 transform=transformer_function)"
   ]
  },
  {
   "cell_type": "markdown",
   "id": "2900d092",
   "metadata": {},
   "source": [
    "## Definir la cadena secuencial"
   ]
  },
  {
   "cell_type": "code",
   "execution_count": 33,
   "id": "4ece9ea5-f1cb-48d7-aa63-6daf8c503f56",
   "metadata": {},
   "outputs": [],
   "source": [
    "#Creamos bloque LLMChain para resumir\n",
    "template1 = \"Crea un resumen en una línea del siguiente texto:\\n{texto}\"\n",
    "prompt = ChatPromptTemplate.from_template(template1)\n",
    "summary_chain = LLMChain(llm=llm,\n",
    "                     prompt=prompt,\n",
    "                     output_key=\"texto_resumen\")"
   ]
  },
  {
   "cell_type": "code",
   "execution_count": 38,
   "id": "ae231a80",
   "metadata": {},
   "outputs": [],
   "source": [
    "#Creamos bloque LLMChain para traducir\n",
    "template2 = \"Traduce a\"+ idioma_final + \"el siguiente texto:\\n{texto}\"\n",
    "prompt = ChatPromptTemplate.from_template(template2)\n",
    "#prompt.format_prompt(idioma=idioma_final)\n",
    "translate_chain = LLMChain(llm=llm,\n",
    "                     prompt=prompt,\n",
    "                     output_key=\"texto_traducido\")"
   ]
  },
  {
   "cell_type": "code",
   "execution_count": 39,
   "id": "b11e8ac1-7526-47bf-883b-0f1e8ecf1388",
   "metadata": {},
   "outputs": [],
   "source": [
    "sequential_chain = SimpleSequentialChain(chains=[transform_chain,summary_chain,translate_chain],\n",
    "                                        verbose=True)"
   ]
  },
  {
   "cell_type": "code",
   "execution_count": 40,
   "id": "04dd6ae0-4bc6-41cd-ba23-5a13021e0a58",
   "metadata": {},
   "outputs": [
    {
     "name": "stdout",
     "output_type": "stream",
     "text": [
      "\n",
      "\n",
      "\u001b[1m> Entering new SimpleSequentialChain chain...\u001b[0m\n",
      "\u001b[36;1m\u001b[1;3mEl Real Madrid Club de Fútbol, más conocido simplemente como Real Madrid, es una entidad polideportiva con sede en Madrid (España). Fue registrada oficialmente como club de fútbol por sus socios el 6 de marzo de 1902 con el objeto de la práctica y desarrollo de este deporte, si bien sus orígenes datan del año 1900,[10]​ y su denominación de (Sociedad) Madrid Foot-ball Club de octubre de 1901, siendo el quinto club fundado en la capital.[n. 3]​ Tuvo a Julián Palacios y los hermanos Juan Padrós y Carlos Padrós como principales valedores de su creación.[11]​ La entidad adquirió su designación actual el 29 de junio de 1920 mediante el otorgamiento del título honorífico de «Real» por parte de su majestad el rey Alfonso XIII de España, quien también conferiría la distinción visual correspondiente incorporando la corona real en su emblema.[12]​[13]​\u001b[0m\n",
      "\u001b[33;1m\u001b[1;3mEl Real Madrid Club de Fútbol es una entidad polideportiva con sede en Madrid, fundada en 1902 y con el título honorífico de \"Real\" desde 1920.\u001b[0m\n",
      "\u001b[38;5;200m\u001b[1;3mEl Real Madrid Club de Fútbol est une entité multisport basée à Madrid, fondée en 1902 et portant le titre honorifique de \"Real\" depuis 1920.\u001b[0m\n",
      "\n",
      "\u001b[1m> Finished chain.\u001b[0m\n"
     ]
    }
   ],
   "source": [
    "result = sequential_chain(texto_entrada)"
   ]
  }
 ],
 "metadata": {
  "kernelspec": {
   "display_name": "Python 3 (ipykernel)",
   "language": "python",
   "name": "python3"
  },
  "language_info": {
   "codemirror_mode": {
    "name": "ipython",
    "version": 3
   },
   "file_extension": ".py",
   "mimetype": "text/x-python",
   "name": "python",
   "nbconvert_exporter": "python",
   "pygments_lexer": "ipython3",
   "version": "3.11.5"
  }
 },
 "nbformat": 4,
 "nbformat_minor": 5
}

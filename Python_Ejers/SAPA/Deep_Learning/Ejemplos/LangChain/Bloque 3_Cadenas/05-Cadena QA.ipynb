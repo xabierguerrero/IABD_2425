{
 "cells": [
  {
   "cell_type": "markdown",
   "id": "e2128d1c-62d1-4681-abe1-754a1410e632",
   "metadata": {},
   "source": [
    "## Importar librerías iniciales e instancia de modelo de chat"
   ]
  },
  {
   "cell_type": "code",
   "execution_count": 1,
   "id": "e2d81e4f-8739-4a19-abf9-7515304fc0a9",
   "metadata": {},
   "outputs": [],
   "source": [
    "from langchain.prompts import PromptTemplate, SystemMessagePromptTemplate,ChatPromptTemplate, HumanMessagePromptTemplate\n",
    "from langchain_openai import ChatOpenAI\n",
    "from langchain.chains import SimpleSequentialChain, LLMChain,TransformChain\n",
    "f = open('/home/iabd/clave_gpt.txt')\n",
    "api_key = f.read().strip()\n",
    "llm = ChatOpenAI(openai_api_key=api_key)"
   ]
  },
  {
   "cell_type": "markdown",
   "id": "dea207e9-8342-4e29-b2c6-225af73b4459",
   "metadata": {},
   "source": [
    "### Conectar a BD Vectores"
   ]
  },
  {
   "cell_type": "code",
   "execution_count": 2,
   "id": "33745370-8834-4ef5-ae38-177f19cb903e",
   "metadata": {},
   "outputs": [],
   "source": [
    "from langchain.embeddings.openai import OpenAIEmbeddings\n",
    "from langchain_community.vectorstores import SKLearnVectorStore"
   ]
  },
  {
   "cell_type": "code",
   "execution_count": 3,
   "id": "f708fa15-94a1-4afb-a3b1-2d9b8320572f",
   "metadata": {},
   "outputs": [
    {
     "name": "stderr",
     "output_type": "stream",
     "text": [
      "/tmp/ipykernel_5722/3525973800.py:1: LangChainDeprecationWarning: The class `OpenAIEmbeddings` was deprecated in LangChain 0.0.9 and will be removed in 1.0. An updated version of the class exists in the :class:`~langchain-openai package and should be used instead. To use it run `pip install -U :class:`~langchain-openai` and import as `from :class:`~langchain_openai import OpenAIEmbeddings``.\n",
      "  embedding_function = OpenAIEmbeddings(openai_api_key=api_key)\n"
     ]
    }
   ],
   "source": [
    "embedding_function = OpenAIEmbeddings(openai_api_key=api_key)"
   ]
  },
  {
   "cell_type": "code",
   "execution_count": 4,
   "id": "49a3b2d6",
   "metadata": {},
   "outputs": [],
   "source": [
    "vector_store_connection = SKLearnVectorStore(embedding=embedding_function, persist_path=\"../Bloque 3_Conectores de Datos/ejemplosk_embedding_db\", serializer=\"parquet\")"
   ]
  },
  {
   "cell_type": "markdown",
   "id": "207e080a-3517-4310-8792-6f9cdc2e854d",
   "metadata": {},
   "source": [
    "## Cargar cadena QA"
   ]
  },
  {
   "cell_type": "code",
   "execution_count": 5,
   "id": "299fc8e0-adb9-4499-b3d6-ed9aec61971d",
   "metadata": {},
   "outputs": [],
   "source": [
    "from langchain.chains.question_answering import load_qa_chain\n",
    "from langchain.chains.qa_with_sources import load_qa_with_sources_chain #Opción que proporciona también la fuente de datos de la respuesta"
   ]
  },
  {
   "cell_type": "code",
   "execution_count": 6,
   "id": "fb332aec-2924-40df-86c2-473a1cb53b96",
   "metadata": {},
   "outputs": [
    {
     "name": "stderr",
     "output_type": "stream",
     "text": [
      "/tmp/ipykernel_5722/1964088940.py:1: LangChainDeprecationWarning: This class is deprecated. See the following migration guides for replacements based on `chain_type`:\n",
      "stuff: https://python.langchain.com/docs/versions/migrating_chains/stuff_docs_chain\n",
      "map_reduce: https://python.langchain.com/docs/versions/migrating_chains/map_reduce_chain\n",
      "refine: https://python.langchain.com/docs/versions/migrating_chains/refine_chain\n",
      "map_rerank: https://python.langchain.com/docs/versions/migrating_chains/map_rerank_docs_chain\n",
      "\n",
      "See also guides on retrieval and question-answering here: https://python.langchain.com/docs/how_to/#qa-with-rag\n",
      "  chain = load_qa_chain(llm,chain_type='stuff') #chain_type='stuff' se usa cuando se desea una manera simple y directa de cargar y procesar el contenido completo sin dividirlo en fragmentos más pequeños. Es ideal para situaciones donde el volumen de datos no es demasiado grande y se puede manejar de manera eficiente por el modelo de lenguaje en una sola operación.\n"
     ]
    }
   ],
   "source": [
    "chain = load_qa_chain(llm,chain_type='stuff') #chain_type='stuff' se usa cuando se desea una manera simple y directa de cargar y procesar el contenido completo sin dividirlo en fragmentos más pequeños. Es ideal para situaciones donde el volumen de datos no es demasiado grande y se puede manejar de manera eficiente por el modelo de lenguaje en una sola operación."
   ]
  },
  {
   "cell_type": "code",
   "execution_count": 7,
   "id": "aee28e63-236b-4aa9-8f59-1198fdae83de",
   "metadata": {},
   "outputs": [],
   "source": [
    "question = \"¿Qué pasó en el siglo de Oro?\""
   ]
  },
  {
   "cell_type": "code",
   "execution_count": 8,
   "id": "2015fe12-1fa8-4e94-8410-edf5818bda82",
   "metadata": {},
   "outputs": [],
   "source": [
    "docs = vector_store_connection.similarity_search(question)"
   ]
  },
  {
   "cell_type": "code",
   "execution_count": 9,
   "id": "d80a66b6",
   "metadata": {},
   "outputs": [
    {
     "name": "stderr",
     "output_type": "stream",
     "text": [
      "/tmp/ipykernel_5722/2437816174.py:1: LangChainDeprecationWarning: The method `Chain.run` was deprecated in langchain 0.1.0 and will be removed in 1.0. Use :meth:`~invoke` instead.\n",
      "  chain.run(input_documents=docs,question=question)\n"
     ]
    },
    {
     "data": {
      "text/plain": [
       "'En el siglo de Oro español, que abarca desde la publicación de la Gramática castellana de Nebrija en 1492 hasta la muerte de Calderón en 1681, hubo un florecimiento en las artes y las letras hispanas. Destacaron figuras como Miguel de Cervantes Saavedra, autor de Don Quijote de la Mancha, considerada la primera novela moderna. También surgieron géneros literarios como la picaresca con obras como el Lazarillo de Tormes. Grandes poetas, dramaturgos y prosistas como Quevedo, Góngora, Lope de Vega, Calderón de la Barca, entre otros, contribuyeron al esplendor cultural de la época.'"
      ]
     },
     "execution_count": 9,
     "metadata": {},
     "output_type": "execute_result"
    }
   ],
   "source": [
    "chain.run(input_documents=docs,question=question)"
   ]
  },
  {
   "cell_type": "markdown",
   "id": "b89eff3a",
   "metadata": {},
   "source": [
    "### Alternativa con método invoke"
   ]
  },
  {
   "cell_type": "code",
   "execution_count": 10,
   "id": "3707d9ac",
   "metadata": {},
   "outputs": [],
   "source": [
    "#Estructurar un diccionario con los parámetros de entrada\n",
    "inputs = {\n",
    "    \"input_documents\": docs,\n",
    "    \"question\": question\n",
    "}"
   ]
  },
  {
   "cell_type": "code",
   "execution_count": 11,
   "id": "4ed349b5-6a27-41ed-a361-c47d75450a50",
   "metadata": {},
   "outputs": [
    {
     "data": {
      "text/plain": [
       "'En el Siglo de Oro español, que abarca desde la publicación de la Gramática castellana de Nebrija en 1492 hasta la muerte de Calderón en 1681, tuvieron lugar grandes avances en las artes y la literatura hispanas. Autores como Miguel de Cervantes Saavedra, que escribió \"Don Quijote de la Mancha\", y otros como Quevedo, Góngora, Lope, Calderón, y muchos más, crearon obras destacadas en la literatura, teatro y poesía. Fue un período donde florecieron las expresiones artísticas y el saber se acumuló y enseñó en prestigiosas universidades.'"
      ]
     },
     "execution_count": 11,
     "metadata": {},
     "output_type": "execute_result"
    }
   ],
   "source": [
    "chain.invoke(inputs)[\"output_text\"]"
   ]
  }
 ],
 "metadata": {
  "kernelspec": {
   "display_name": "ia_gpu312",
   "language": "python",
   "name": "python3"
  },
  "language_info": {
   "codemirror_mode": {
    "name": "ipython",
    "version": 3
   },
   "file_extension": ".py",
   "mimetype": "text/x-python",
   "name": "python",
   "nbconvert_exporter": "python",
   "pygments_lexer": "ipython3",
   "version": "3.12.8"
  }
 },
 "nbformat": 4,
 "nbformat_minor": 5
}

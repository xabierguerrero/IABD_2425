{
 "cells": [
  {
   "cell_type": "markdown",
   "id": "e2128d1c-62d1-4681-abe1-754a1410e632",
   "metadata": {},
   "source": [
    "## Importar librerías e instancia de modelo de chat"
   ]
  },
  {
   "cell_type": "code",
   "execution_count": 1,
   "id": "e2d81e4f-8739-4a19-abf9-7515304fc0a9",
   "metadata": {},
   "outputs": [],
   "source": [
    "from langchain.prompts import PromptTemplate, SystemMessagePromptTemplate,ChatPromptTemplate, HumanMessagePromptTemplate\n",
    "from langchain_openai import ChatOpenAI\n",
    "f = open('/home/iabd/clave_gpt.txt')\n",
    "api_key = f.read().strip()\n",
    "chat = ChatOpenAI(openai_api_key=api_key)"
   ]
  },
  {
   "cell_type": "markdown",
   "id": "728f1747-b8fc-4d31-96c2-047fc83c079d",
   "metadata": {},
   "source": [
    "##  Creación objeto LLMChain"
   ]
  },
  {
   "cell_type": "code",
   "execution_count": 2,
   "id": "ef4ce02d-d8aa-44f3-aa91-cfb8cfc06f6c",
   "metadata": {},
   "outputs": [],
   "source": [
    "human_message_prompt = HumanMessagePromptTemplate.from_template(\n",
    "        \"Dame un nombre de compañía que sea simpático para una compañía que fabrique {producto}\"\n",
    "    )"
   ]
  },
  {
   "cell_type": "code",
   "execution_count": 3,
   "id": "bda465bc-5863-4393-a67d-97352a32b1b0",
   "metadata": {},
   "outputs": [],
   "source": [
    "chat_prompt_template = ChatPromptTemplate.from_messages([human_message_prompt])"
   ]
  },
  {
   "cell_type": "code",
   "execution_count": 4,
   "id": "eb223191-78c9-421e-a8a3-67e016b10faf",
   "metadata": {},
   "outputs": [
    {
     "name": "stderr",
     "output_type": "stream",
     "text": [
      "/tmp/ipykernel_5616/1544802709.py:2: LangChainDeprecationWarning: The class `LLMChain` was deprecated in LangChain 0.1.17 and will be removed in 1.0. Use :meth:`~RunnableSequence, e.g., `prompt | llm`` instead.\n",
      "  chain = LLMChain(llm=chat, prompt=chat_prompt_template)\n"
     ]
    }
   ],
   "source": [
    "from langchain.chains import LLMChain\n",
    "chain = LLMChain(llm=chat, prompt=chat_prompt_template)"
   ]
  },
  {
   "cell_type": "code",
   "execution_count": 6,
   "id": "6d4b3baf-5a5e-40bd-b916-bf0460a762f8",
   "metadata": {},
   "outputs": [
    {
     "name": "stdout",
     "output_type": "stream",
     "text": [
      "{'producto': 'Lavadoras', 'text': 'BurbujaWash'}\n"
     ]
    }
   ],
   "source": [
    "print(chain.invoke(input=\"Lavadoras\"))"
   ]
  },
  {
   "cell_type": "markdown",
   "id": "c9b403f0",
   "metadata": {},
   "source": [
    "#  Cadena Secuencia Simple"
   ]
  },
  {
   "cell_type": "code",
   "execution_count": 7,
   "id": "5f4cb796-3ea3-4a63-96a3-58d9be1991a8",
   "metadata": {},
   "outputs": [],
   "source": [
    "from langchain.chains.sequential import SimpleSequentialChain"
   ]
  },
  {
   "cell_type": "code",
   "execution_count": 8,
   "id": "ee4cf672-8071-42c1-917a-f04c2f88c8d6",
   "metadata": {},
   "outputs": [],
   "source": [
    "llm = ChatOpenAI(openai_api_key=api_key)"
   ]
  },
  {
   "cell_type": "code",
   "execution_count": 9,
   "id": "75505659-35af-4eec-a890-42ab4486ea9a",
   "metadata": {},
   "outputs": [],
   "source": [
    "template = \"Dame un simple resumen con un listado de puntos para un post de un blog acerca de {tema}\"\n",
    "prompt1 = ChatPromptTemplate.from_template(template)\n",
    "chain_1 = LLMChain(llm=llm,prompt=prompt1)"
   ]
  },
  {
   "cell_type": "code",
   "execution_count": 10,
   "id": "24b974d6-446f-4328-b2af-eda7041f6587",
   "metadata": {},
   "outputs": [],
   "source": [
    "template = \"Escribe un post completo usando este resumen: {resumen}\"\n",
    "prompt2 = ChatPromptTemplate.from_template(template)\n",
    "chain_2 = LLMChain(llm=llm,prompt=prompt2)"
   ]
  },
  {
   "cell_type": "code",
   "execution_count": 11,
   "id": "9f3919a0-fee1-48bb-aeab-4be80f4799fc",
   "metadata": {},
   "outputs": [],
   "source": [
    "full_chain = SimpleSequentialChain(chains=[chain_1,chain_2],\n",
    "                                  verbose=True) #verbose=True nos irá dando paso a paso lo que hace, pudiendo ver los resultados intermedios"
   ]
  },
  {
   "cell_type": "code",
   "execution_count": 12,
   "id": "23708ed6-3511-4adb-83ad-ca24cd936fd8",
   "metadata": {},
   "outputs": [
    {
     "name": "stdout",
     "output_type": "stream",
     "text": [
      "\n",
      "\n",
      "\u001b[1m> Entering new SimpleSequentialChain chain...\u001b[0m\n",
      "\u001b[36;1m\u001b[1;3m- Qué es la inteligencia artificial\n",
      "- Aplicaciones actuales de la inteligencia artificial\n",
      "- Ventajas y desventajas de la inteligencia artificial\n",
      "- El papel de la inteligencia artificial en el futuro\n",
      "- Ejemplos de tecnologías basadas en inteligencia artificial\n",
      "- Cómo la inteligencia artificial está cambiando diferentes industrias\n",
      "- Ética y privacidad en el uso de la inteligencia artificial\n",
      "- Cómo aprender más sobre inteligencia artificial\u001b[0m\n",
      "\u001b[33;1m\u001b[1;3mLa inteligencia artificial es un campo de la informática que se encarga de desarrollar sistemas capaces de realizar tareas que requieren de la inteligencia humana, como el reconocimiento de patrones, la toma de decisiones, la traducción de idiomas, entre otros. Estos sistemas se basan en algoritmos y modelos matemáticos que les permiten aprender de manera autónoma a partir de los datos que se les proporcionan.\n",
      "\n",
      "Actualmente, la inteligencia artificial se utiliza en una amplia variedad de aplicaciones, desde asistentes virtuales como Siri y Alexa, hasta sistemas de recomendación en plataformas como Netflix y Amazon. También se utiliza en la industria automotriz para desarrollar vehículos autónomos, en la medicina para diagnósticos más precisos, y en la seguridad para detectar fraudes y prevenir ciberataques.\n",
      "\n",
      "Las ventajas de la inteligencia artificial incluyen la automatización de tareas repetitivas, la optimización de procesos, y la capacidad de procesar grandes cantidades de datos de manera eficiente. Sin embargo, también existen desventajas, como el riesgo de sesgos en los algoritmos, la pérdida de empleos debido a la automatización, y la falta de transparencia en los procesos de toma de decisiones.\n",
      "\n",
      "En el futuro, se espera que la inteligencia artificial juegue un papel cada vez más importante en nuestra sociedad, transformando industrias como la educación, la agricultura, y el transporte. Ejemplos de tecnologías basadas en inteligencia artificial incluyen los chatbots, los sistemas de reconocimiento facial, y los robots colaborativos en entornos industriales.\n",
      "\n",
      "La ética y la privacidad en el uso de la inteligencia artificial son temas cada vez más relevantes, ya que el uso indebido de datos personales o la toma de decisiones discriminatorias pueden tener graves consecuencias para los individuos. Es fundamental garantizar que los sistemas de inteligencia artificial sean transparentes, justos y respeten la privacidad de los usuarios.\n",
      "\n",
      "Si estás interesado en aprender más sobre inteligencia artificial, existen cursos y recursos en línea que te pueden ayudar a comprender los fundamentos de esta disciplina, como los cursos de Machine Learning de Coursera o los tutoriales de TensorFlow. ¡No pierdas la oportunidad de adentrarte en uno de los campos más apasionantes de la informática!\u001b[0m\n",
      "\n",
      "\u001b[1m> Finished chain.\u001b[0m\n"
     ]
    }
   ],
   "source": [
    "result = full_chain.invoke(input=\"Inteligencia Artificial\")"
   ]
  },
  {
   "cell_type": "code",
   "execution_count": 13,
   "id": "c41b4952-b601-446c-83cf-49b7cdd9bab2",
   "metadata": {},
   "outputs": [
    {
     "name": "stdout",
     "output_type": "stream",
     "text": [
      "La inteligencia artificial es un campo de la informática que se encarga de desarrollar sistemas capaces de realizar tareas que requieren de la inteligencia humana, como el reconocimiento de patrones, la toma de decisiones, la traducción de idiomas, entre otros. Estos sistemas se basan en algoritmos y modelos matemáticos que les permiten aprender de manera autónoma a partir de los datos que se les proporcionan.\n",
      "\n",
      "Actualmente, la inteligencia artificial se utiliza en una amplia variedad de aplicaciones, desde asistentes virtuales como Siri y Alexa, hasta sistemas de recomendación en plataformas como Netflix y Amazon. También se utiliza en la industria automotriz para desarrollar vehículos autónomos, en la medicina para diagnósticos más precisos, y en la seguridad para detectar fraudes y prevenir ciberataques.\n",
      "\n",
      "Las ventajas de la inteligencia artificial incluyen la automatización de tareas repetitivas, la optimización de procesos, y la capacidad de procesar grandes cantidades de datos de manera eficiente. Sin embargo, también existen desventajas, como el riesgo de sesgos en los algoritmos, la pérdida de empleos debido a la automatización, y la falta de transparencia en los procesos de toma de decisiones.\n",
      "\n",
      "En el futuro, se espera que la inteligencia artificial juegue un papel cada vez más importante en nuestra sociedad, transformando industrias como la educación, la agricultura, y el transporte. Ejemplos de tecnologías basadas en inteligencia artificial incluyen los chatbots, los sistemas de reconocimiento facial, y los robots colaborativos en entornos industriales.\n",
      "\n",
      "La ética y la privacidad en el uso de la inteligencia artificial son temas cada vez más relevantes, ya que el uso indebido de datos personales o la toma de decisiones discriminatorias pueden tener graves consecuencias para los individuos. Es fundamental garantizar que los sistemas de inteligencia artificial sean transparentes, justos y respeten la privacidad de los usuarios.\n",
      "\n",
      "Si estás interesado en aprender más sobre inteligencia artificial, existen cursos y recursos en línea que te pueden ayudar a comprender los fundamentos de esta disciplina, como los cursos de Machine Learning de Coursera o los tutoriales de TensorFlow. ¡No pierdas la oportunidad de adentrarte en uno de los campos más apasionantes de la informática!\n"
     ]
    }
   ],
   "source": [
    "print(result['output'])"
   ]
  }
 ],
 "metadata": {
  "kernelspec": {
   "display_name": "ia_gpu312",
   "language": "python",
   "name": "python3"
  },
  "language_info": {
   "codemirror_mode": {
    "name": "ipython",
    "version": 3
   },
   "file_extension": ".py",
   "mimetype": "text/x-python",
   "name": "python",
   "nbconvert_exporter": "python",
   "pygments_lexer": "ipython3",
   "version": "3.12.8"
  }
 },
 "nbformat": 4,
 "nbformat_minor": 5
}

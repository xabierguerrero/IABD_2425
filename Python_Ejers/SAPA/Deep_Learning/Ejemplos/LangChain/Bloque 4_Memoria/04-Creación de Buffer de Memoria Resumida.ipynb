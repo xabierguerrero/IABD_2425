{
 "cells": [
  {
   "cell_type": "markdown",
   "id": "e2128d1c-62d1-4681-abe1-754a1410e632",
   "metadata": {},
   "source": [
    "## Importar librerías iniciales e instancia de modelo de chat"
   ]
  },
  {
   "cell_type": "code",
   "execution_count": 1,
   "id": "e2d81e4f-8739-4a19-abf9-7515304fc0a9",
   "metadata": {},
   "outputs": [],
   "source": [
    "from langchain.chains import ConversationChain\n",
    "from langchain.memory import ConversationBufferMemory, ConversationSummaryBufferMemory\n",
    "from langchain_openai import ChatOpenAI\n",
    "f = open('/home/iabd/clave_gpt.txt')\n",
    "api_key = f.read().strip()\n",
    "llm = ChatOpenAI(openai_api_key=api_key)"
   ]
  },
  {
   "cell_type": "markdown",
   "id": "728f1747-b8fc-4d31-96c2-047fc83c079d",
   "metadata": {},
   "source": [
    "#  Crear objeto ConversationSummaryMemory"
   ]
  },
  {
   "cell_type": "code",
   "execution_count": 2,
   "id": "4c741139-a54e-46c9-af29-2ba64f914f15",
   "metadata": {},
   "outputs": [
    {
     "name": "stderr",
     "output_type": "stream",
     "text": [
      "/tmp/ipykernel_6015/871194051.py:1: LangChainDeprecationWarning: Please see the migration guide at: https://python.langchain.com/docs/versions/migrating_memory/\n",
      "  memory = ConversationSummaryBufferMemory(llm=llm)\n"
     ]
    }
   ],
   "source": [
    "memory = ConversationSummaryBufferMemory(llm=llm)"
   ]
  },
  {
   "cell_type": "code",
   "execution_count": 3,
   "id": "efb997dd-caac-4483-9d70-cb53fedb7183",
   "metadata": {},
   "outputs": [],
   "source": [
    "# Creamos un prompt cuya respuesta hará que se sobrepase el límite de tokens y por tanto sea recomendable resumir la memoria\n",
    "plan_viaje = '''Este fin de semana me voy de vacaciones a la playa, estaba pensando algo que fuera bastante relajado, pero necesito \n",
    "un plan detallado por días con qué hacer en familia, extiéndete todo lo que puedas'''"
   ]
  },
  {
   "cell_type": "markdown",
   "id": "425c1afc-b9f8-45af-906d-08128569aa6e",
   "metadata": {},
   "source": [
    "## Creamos una nueva conversación con un buffer de memoria resumida"
   ]
  },
  {
   "cell_type": "code",
   "execution_count": 4,
   "id": "2cf7d584-61b2-4d5a-8158-4e7870e399bf",
   "metadata": {},
   "outputs": [
    {
     "name": "stderr",
     "output_type": "stream",
     "text": [
      "/tmp/ipykernel_6015/1333990872.py:2: LangChainDeprecationWarning: The class `ConversationChain` was deprecated in LangChain 0.2.7 and will be removed in 1.0. Use :meth:`~RunnableWithMessageHistory: https://python.langchain.com/v0.2/api_reference/core/runnables/langchain_core.runnables.history.RunnableWithMessageHistory.html` instead.\n",
      "  conversation = ConversationChain(llm=llm,memory = memory,verbose=True)\n"
     ]
    }
   ],
   "source": [
    "memory = ConversationSummaryBufferMemory(llm=llm, max_token_limit=100)\n",
    "conversation = ConversationChain(llm=llm,memory = memory,verbose=True)\n",
    "#Ejemplo con RunnableWithMessageHistory: https://api.python.langchain.com/en/latest/runnables/langchain_core.runnables.history.RunnableWithMessageHistory.html"
   ]
  },
  {
   "cell_type": "code",
   "execution_count": 5,
   "id": "f577d7dd",
   "metadata": {},
   "outputs": [
    {
     "name": "stdout",
     "output_type": "stream",
     "text": [
      "\n",
      "\n",
      "\u001b[1m> Entering new ConversationChain chain...\u001b[0m\n",
      "Prompt after formatting:\n",
      "\u001b[32;1m\u001b[1;3mThe following is a friendly conversation between a human and an AI. The AI is talkative and provides lots of specific details from its context. If the AI does not know the answer to a question, it truthfully says it does not know.\n",
      "\n",
      "Current conversation:\n",
      "\n",
      "Human: Este fin de semana me voy de vacaciones a la playa, estaba pensando algo que fuera bastante relajado, pero necesito \n",
      "un plan detallado por días con qué hacer en familia, extiéndete todo lo que puedas\n",
      "AI:\u001b[0m\n",
      "\n",
      "\u001b[1m> Finished chain.\u001b[0m\n"
     ]
    },
    {
     "data": {
      "text/plain": [
       "' ¡Qué emoción que te vayas de vacaciones a la playa! ¡Es un destino perfecto para relajarse y disfrutar en familia! Para que puedas planificar tu escapada de la mejor manera, te daré un itinerario detallado por días:\\n\\nDía 1: Llegada a la playa y check-in en el hotel. Puedes disfrutar de un primer día de relax en la playa, tomando el sol, nadando en el mar y construyendo castillos de arena.\\n\\nDía 2: Por la mañana, puedes hacer una caminata por la orilla de la playa y luego tomar un delicioso desayuno en un restaurante local. Por la tarde, puedes alquilar kayaks o tablas de surf para disfrutar de deportes acuáticos en familia.\\n\\nDía 3: Realiza una excursión en barco para explorar los alrededores y quizás ver delfines u otras especies marinas. Después, puedes visitar un parque acuático cercano para disfrutar de toboganes y piscinas.\\n\\nDía 4: Dedica este día a relajarte en un spa cercano, donde podrán disfrutar de masajes, tratamientos faciales y relajarse en jacuzzis. Por la tarde, pueden disfrutar de una cena en un restaurante con vistas al mar.\\n\\nDía 5: Antes de regresar a casa, aprovecha la mañana para recoger conchas en la playa y guardarlas como recuerdo de tus vacaciones. Después, disfruten de un último almuerzo en un restaurante local antes de emprender el viaje de regreso.\\n\\nEspero que este itinerario te haya sido útil para planificar tus vacaciones en la playa. ¡Que tengas un viaje increíble en familia!'"
      ]
     },
     "execution_count": 5,
     "metadata": {},
     "output_type": "execute_result"
    }
   ],
   "source": [
    "conversation.predict(input=plan_viaje)"
   ]
  },
  {
   "cell_type": "code",
   "execution_count": 6,
   "id": "9a3f219b-7d5e-49c9-b4bf-79ab0a95cc25",
   "metadata": {},
   "outputs": [
    {
     "data": {
      "text/plain": [
       "{'history': 'System: The human shares their plans for a relaxing beach vacation and asks for a detailed itinerary for each day with family activities. The AI excitedly provides a detailed itinerary for each day, including beach relaxation, water sports, boat excursions, spa visits, and beachcombing. The AI hopes this itinerary helps the human plan an incredible family vacation at the beach.'}"
      ]
     },
     "execution_count": 6,
     "metadata": {},
     "output_type": "execute_result"
    }
   ],
   "source": [
    "memory.load_memory_variables({}) #Se ha realizado un resumen de la memoria en base al límite de tokens"
   ]
  },
  {
   "cell_type": "code",
   "execution_count": 7,
   "id": "d6324fe6",
   "metadata": {},
   "outputs": [
    {
     "name": "stdout",
     "output_type": "stream",
     "text": [
      "System: The human shares their plans for a relaxing beach vacation and asks for a detailed itinerary for each day with family activities. The AI excitedly provides a detailed itinerary for each day, including beach relaxation, water sports, boat excursions, spa visits, and beachcombing. The AI hopes this itinerary helps the human plan an incredible family vacation at the beach.\n"
     ]
    }
   ],
   "source": [
    "print(memory.buffer)"
   ]
  }
 ],
 "metadata": {
  "kernelspec": {
   "display_name": "ia_gpu312",
   "language": "python",
   "name": "python3"
  },
  "language_info": {
   "codemirror_mode": {
    "name": "ipython",
    "version": 3
   },
   "file_extension": ".py",
   "mimetype": "text/x-python",
   "name": "python",
   "nbconvert_exporter": "python",
   "pygments_lexer": "ipython3",
   "version": "3.12.8"
  }
 },
 "nbformat": 4,
 "nbformat_minor": 5
}

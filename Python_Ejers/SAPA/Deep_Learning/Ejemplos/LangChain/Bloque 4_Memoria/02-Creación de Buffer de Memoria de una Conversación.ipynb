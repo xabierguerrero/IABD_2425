{
 "cells": [
  {
   "cell_type": "markdown",
   "id": "e2128d1c-62d1-4681-abe1-754a1410e632",
   "metadata": {},
   "source": [
    "## Importar librerías iniciales e instancia de modelo de chat"
   ]
  },
  {
   "cell_type": "code",
   "execution_count": 1,
   "id": "e2d81e4f-8739-4a19-abf9-7515304fc0a9",
   "metadata": {},
   "outputs": [],
   "source": [
    "from langchain.chains import ConversationChain\n",
    "from langchain.memory import ConversationBufferMemory\n",
    "from langchain_openai import ChatOpenAI\n",
    "f = open('/home/iabd/clave_gpt.txt')\n",
    "api_key = f.read().strip()\n",
    "llm = ChatOpenAI(openai_api_key=api_key)"
   ]
  },
  {
   "cell_type": "markdown",
   "id": "728f1747-b8fc-4d31-96c2-047fc83c079d",
   "metadata": {},
   "source": [
    "#  Crear objeto ConversationBufferMemory"
   ]
  },
  {
   "cell_type": "code",
   "execution_count": 2,
   "id": "4c741139-a54e-46c9-af29-2ba64f914f15",
   "metadata": {},
   "outputs": [
    {
     "name": "stderr",
     "output_type": "stream",
     "text": [
      "/tmp/ipykernel_5989/995385594.py:1: LangChainDeprecationWarning: Please see the migration guide at: https://python.langchain.com/docs/versions/migrating_memory/\n",
      "  memory = ConversationBufferMemory()\n"
     ]
    }
   ],
   "source": [
    "memory = ConversationBufferMemory()"
   ]
  },
  {
   "cell_type": "markdown",
   "id": "bea4a9b5-e52c-44a1-a8c2-6d1c3eed2f1a",
   "metadata": {},
   "source": [
    "## Conectar una conversación a la memoria"
   ]
  },
  {
   "cell_type": "code",
   "execution_count": 3,
   "id": "ad3336a7-d2ff-4c7d-bd28-f55f45367608",
   "metadata": {},
   "outputs": [
    {
     "name": "stderr",
     "output_type": "stream",
     "text": [
      "/tmp/ipykernel_5989/3004879512.py:2: LangChainDeprecationWarning: The class `ConversationChain` was deprecated in LangChain 0.2.7 and will be removed in 1.0. Use :meth:`~RunnableWithMessageHistory: https://python.langchain.com/v0.2/api_reference/core/runnables/langchain_core.runnables.history.RunnableWithMessageHistory.html` instead.\n",
      "  conversation = ConversationChain(llm=llm,memory = memory,verbose=True)\n"
     ]
    }
   ],
   "source": [
    "#Creamos una instancia de la cadena conversacional con el LLM y el objeto de memoria\n",
    "conversation = ConversationChain(llm=llm,memory = memory,verbose=True)"
   ]
  },
  {
   "cell_type": "code",
   "execution_count": 4,
   "id": "d32ebd32",
   "metadata": {},
   "outputs": [],
   "source": [
    "#Ejemplo con RunnableWithMessageHistory: https://api.python.langchain.com/en/latest/runnables/langchain_core.runnables.history.RunnableWithMessageHistory.html"
   ]
  },
  {
   "cell_type": "code",
   "execution_count": 5,
   "id": "c3443ca2-3ce9-4d4e-9775-c634e8b36832",
   "metadata": {},
   "outputs": [
    {
     "name": "stdout",
     "output_type": "stream",
     "text": [
      "\n",
      "\n",
      "\u001b[1m> Entering new ConversationChain chain...\u001b[0m\n",
      "Prompt after formatting:\n",
      "\u001b[32;1m\u001b[1;3mThe following is a friendly conversation between a human and an AI. The AI is talkative and provides lots of specific details from its context. If the AI does not know the answer to a question, it truthfully says it does not know.\n",
      "\n",
      "Current conversation:\n",
      "\n",
      "Human: Hola, necesito saber cómo usar mis datos históricos para crear un bot de preguntas y respuestas\n",
      "AI:\u001b[0m\n",
      "\n",
      "\u001b[1m> Finished chain.\u001b[0m\n"
     ]
    },
    {
     "data": {
      "text/plain": [
       "'¡Hola! ¡Claro que puedo ayudarte con eso! Para crear un bot de preguntas y respuestas utilizando tus datos históricos, primero necesitas recopilar y organizar toda la información relevante. Luego, puedes utilizar técnicas de procesamiento de lenguaje natural para analizar y entender el contexto de las preguntas y respuestas en tus datos. Además, es importante entrenar tu modelo de bot utilizando algoritmos de aprendizaje automático para que pueda responder de manera precisa. ¿Tienes alguna pregunta más específica sobre el proceso? Estoy aquí para ayudar.'"
      ]
     },
     "execution_count": 5,
     "metadata": {},
     "output_type": "execute_result"
    }
   ],
   "source": [
    "#Lanzamos el primer prompt (human message)\n",
    "conversation.predict(input=\"Hola, necesito saber cómo usar mis datos históricos para crear un bot de preguntas y respuestas\")"
   ]
  },
  {
   "cell_type": "code",
   "execution_count": 6,
   "id": "0f9c4c74-a8fc-4a75-9ddc-0b6a8412e364",
   "metadata": {},
   "outputs": [
    {
     "name": "stdout",
     "output_type": "stream",
     "text": [
      "\n",
      "\n",
      "\u001b[1m> Entering new ConversationChain chain...\u001b[0m\n",
      "Prompt after formatting:\n",
      "\u001b[32;1m\u001b[1;3mThe following is a friendly conversation between a human and an AI. The AI is talkative and provides lots of specific details from its context. If the AI does not know the answer to a question, it truthfully says it does not know.\n",
      "\n",
      "Current conversation:\n",
      "Human: Hola, necesito saber cómo usar mis datos históricos para crear un bot de preguntas y respuestas\n",
      "AI: ¡Hola! ¡Claro que puedo ayudarte con eso! Para crear un bot de preguntas y respuestas utilizando tus datos históricos, primero necesitas recopilar y organizar toda la información relevante. Luego, puedes utilizar técnicas de procesamiento de lenguaje natural para analizar y entender el contexto de las preguntas y respuestas en tus datos. Además, es importante entrenar tu modelo de bot utilizando algoritmos de aprendizaje automático para que pueda responder de manera precisa. ¿Tienes alguna pregunta más específica sobre el proceso? Estoy aquí para ayudar.\n",
      "Human: Necesito más detalle de cómo implementarlo\n",
      "AI:\u001b[0m\n",
      "\n",
      "\u001b[1m> Finished chain.\u001b[0m\n"
     ]
    },
    {
     "data": {
      "text/plain": [
       "'¡Claro! Para implementar un bot de preguntas y respuestas utilizando tus datos históricos, primero necesitas identificar las preguntas más frecuentes y relevantes en tu información almacenada. Luego, puedes crear una base de conocimientos estructurada que contenga las respuestas correspondientes a cada pregunta. \\n\\nDespués, puedes utilizar algoritmos de aprendizaje automático, como redes neuronales o algoritmos de aprendizaje supervisado, para entrenar tu modelo de bot. Es importante alimentar el modelo con suficientes ejemplos de preguntas y respuestas para que pueda aprender patrones y contextos. \\n\\nUna vez que tu bot esté entrenado, puedes implementarlo en una plataforma de mensajería o en tu sitio web para que los usuarios puedan hacerle preguntas y recibir respuestas en tiempo real. Recuerda también seguir evaluando y actualizando tu bot a medida que recopilas más datos y recibes retroalimentación de los usuarios. ¿Te gustaría más información sobre algún paso en particular? Estoy aquí para ayudarte.'"
      ]
     },
     "execution_count": 6,
     "metadata": {},
     "output_type": "execute_result"
    }
   ],
   "source": [
    "#Lanzamos el segundo prompt (human message)\n",
    "conversation.predict(input=\"Necesito más detalle de cómo implementarlo\")"
   ]
  },
  {
   "cell_type": "code",
   "execution_count": 7,
   "id": "dce17805-aa75-4f56-832b-12272b389210",
   "metadata": {},
   "outputs": [
    {
     "name": "stdout",
     "output_type": "stream",
     "text": [
      "Human: Hola, necesito saber cómo usar mis datos históricos para crear un bot de preguntas y respuestas\n",
      "AI: ¡Hola! ¡Claro que puedo ayudarte con eso! Para crear un bot de preguntas y respuestas utilizando tus datos históricos, primero necesitas recopilar y organizar toda la información relevante. Luego, puedes utilizar técnicas de procesamiento de lenguaje natural para analizar y entender el contexto de las preguntas y respuestas en tus datos. Además, es importante entrenar tu modelo de bot utilizando algoritmos de aprendizaje automático para que pueda responder de manera precisa. ¿Tienes alguna pregunta más específica sobre el proceso? Estoy aquí para ayudar.\n",
      "Human: Necesito más detalle de cómo implementarlo\n",
      "AI: ¡Claro! Para implementar un bot de preguntas y respuestas utilizando tus datos históricos, primero necesitas identificar las preguntas más frecuentes y relevantes en tu información almacenada. Luego, puedes crear una base de conocimientos estructurada que contenga las respuestas correspondientes a cada pregunta. \n",
      "\n",
      "Después, puedes utilizar algoritmos de aprendizaje automático, como redes neuronales o algoritmos de aprendizaje supervisado, para entrenar tu modelo de bot. Es importante alimentar el modelo con suficientes ejemplos de preguntas y respuestas para que pueda aprender patrones y contextos. \n",
      "\n",
      "Una vez que tu bot esté entrenado, puedes implementarlo en una plataforma de mensajería o en tu sitio web para que los usuarios puedan hacerle preguntas y recibir respuestas en tiempo real. Recuerda también seguir evaluando y actualizando tu bot a medida que recopilas más datos y recibes retroalimentación de los usuarios. ¿Te gustaría más información sobre algún paso en particular? Estoy aquí para ayudarte.\n"
     ]
    }
   ],
   "source": [
    "#Obtenemos el histórico\n",
    "print(memory.buffer)"
   ]
  },
  {
   "cell_type": "code",
   "execution_count": 8,
   "id": "06bfdc45-81d0-481b-84fa-5cf7848194a4",
   "metadata": {},
   "outputs": [
    {
     "data": {
      "text/plain": [
       "{'history': 'Human: Hola, necesito saber cómo usar mis datos históricos para crear un bot de preguntas y respuestas\\nAI: ¡Hola! ¡Claro que puedo ayudarte con eso! Para crear un bot de preguntas y respuestas utilizando tus datos históricos, primero necesitas recopilar y organizar toda la información relevante. Luego, puedes utilizar técnicas de procesamiento de lenguaje natural para analizar y entender el contexto de las preguntas y respuestas en tus datos. Además, es importante entrenar tu modelo de bot utilizando algoritmos de aprendizaje automático para que pueda responder de manera precisa. ¿Tienes alguna pregunta más específica sobre el proceso? Estoy aquí para ayudar.\\nHuman: Necesito más detalle de cómo implementarlo\\nAI: ¡Claro! Para implementar un bot de preguntas y respuestas utilizando tus datos históricos, primero necesitas identificar las preguntas más frecuentes y relevantes en tu información almacenada. Luego, puedes crear una base de conocimientos estructurada que contenga las respuestas correspondientes a cada pregunta. \\n\\nDespués, puedes utilizar algoritmos de aprendizaje automático, como redes neuronales o algoritmos de aprendizaje supervisado, para entrenar tu modelo de bot. Es importante alimentar el modelo con suficientes ejemplos de preguntas y respuestas para que pueda aprender patrones y contextos. \\n\\nUna vez que tu bot esté entrenado, puedes implementarlo en una plataforma de mensajería o en tu sitio web para que los usuarios puedan hacerle preguntas y recibir respuestas en tiempo real. Recuerda también seguir evaluando y actualizando tu bot a medida que recopilas más datos y recibes retroalimentación de los usuarios. ¿Te gustaría más información sobre algún paso en particular? Estoy aquí para ayudarte.'}"
      ]
     },
     "execution_count": 8,
     "metadata": {},
     "output_type": "execute_result"
    }
   ],
   "source": [
    "#Cargamos la variable de memoria\n",
    "memory.load_memory_variables({})"
   ]
  },
  {
   "cell_type": "markdown",
   "id": "651ba6fb-40c6-4d2c-ac55-3bc9607336a9",
   "metadata": {},
   "source": [
    "## Guardar y Cargar la memoria (posterior uso)"
   ]
  },
  {
   "cell_type": "code",
   "execution_count": 9,
   "id": "57435326-a46b-475c-a093-055b55f7ab1b",
   "metadata": {},
   "outputs": [
    {
     "data": {
      "text/plain": [
       "ConversationBufferMemory(chat_memory=InMemoryChatMessageHistory(messages=[HumanMessage(content='Hola, necesito saber cómo usar mis datos históricos para crear un bot de preguntas y respuestas', additional_kwargs={}, response_metadata={}), AIMessage(content='¡Hola! ¡Claro que puedo ayudarte con eso! Para crear un bot de preguntas y respuestas utilizando tus datos históricos, primero necesitas recopilar y organizar toda la información relevante. Luego, puedes utilizar técnicas de procesamiento de lenguaje natural para analizar y entender el contexto de las preguntas y respuestas en tus datos. Además, es importante entrenar tu modelo de bot utilizando algoritmos de aprendizaje automático para que pueda responder de manera precisa. ¿Tienes alguna pregunta más específica sobre el proceso? Estoy aquí para ayudar.', additional_kwargs={}, response_metadata={}), HumanMessage(content='Necesito más detalle de cómo implementarlo', additional_kwargs={}, response_metadata={}), AIMessage(content='¡Claro! Para implementar un bot de preguntas y respuestas utilizando tus datos históricos, primero necesitas identificar las preguntas más frecuentes y relevantes en tu información almacenada. Luego, puedes crear una base de conocimientos estructurada que contenga las respuestas correspondientes a cada pregunta. \\n\\nDespués, puedes utilizar algoritmos de aprendizaje automático, como redes neuronales o algoritmos de aprendizaje supervisado, para entrenar tu modelo de bot. Es importante alimentar el modelo con suficientes ejemplos de preguntas y respuestas para que pueda aprender patrones y contextos. \\n\\nUna vez que tu bot esté entrenado, puedes implementarlo en una plataforma de mensajería o en tu sitio web para que los usuarios puedan hacerle preguntas y recibir respuestas en tiempo real. Recuerda también seguir evaluando y actualizando tu bot a medida que recopilas más datos y recibes retroalimentación de los usuarios. ¿Te gustaría más información sobre algún paso en particular? Estoy aquí para ayudarte.', additional_kwargs={}, response_metadata={})]))"
      ]
     },
     "execution_count": 9,
     "metadata": {},
     "output_type": "execute_result"
    }
   ],
   "source": [
    "conversation.memory"
   ]
  },
  {
   "cell_type": "code",
   "execution_count": 10,
   "id": "b445e294-ad7d-4f88-8b84-ec9c6bc0a2ad",
   "metadata": {},
   "outputs": [],
   "source": [
    "import pickle\n",
    "pickled_str = pickle.dumps(conversation.memory) #Crea un objeto binario con todo el objeto de la memoria"
   ]
  },
  {
   "cell_type": "code",
   "execution_count": 11,
   "id": "822da352-0974-4b51-92fe-78a26fd6c95e",
   "metadata": {},
   "outputs": [],
   "source": [
    "#pickled_str #objeto binario que guarda cualquier tipo de información"
   ]
  },
  {
   "cell_type": "code",
   "execution_count": 12,
   "id": "4b582b43-d25e-460e-8fbe-a887b7b3f6ad",
   "metadata": {},
   "outputs": [],
   "source": [
    "with open('memory.pkl','wb') as f: #wb para indicar que escriba un objeto binario, en este caso en la misma ruta que el script\n",
    "    f.write(pickled_str)"
   ]
  },
  {
   "cell_type": "code",
   "execution_count": 13,
   "id": "04a5fa1d-acda-44e9-af3f-3129fc4bd32e",
   "metadata": {},
   "outputs": [],
   "source": [
    "memoria_cargada = open('memory.pkl','rb').read() #rb para indicar que leemos el objeto binario"
   ]
  },
  {
   "cell_type": "code",
   "execution_count": 14,
   "id": "3ea3712f-cadf-4895-92cb-29372018dc37",
   "metadata": {},
   "outputs": [],
   "source": [
    "llm = ChatOpenAI(openai_api_key=api_key) #Creamos una nueva instancia de LLM para asegurar que está totalmente limpia\n",
    "conversacion_recargada = ConversationChain(\n",
    "    llm=llm, \n",
    "    memory = pickle.loads(memoria_cargada),\n",
    "    verbose=True\n",
    ")"
   ]
  },
  {
   "cell_type": "code",
   "execution_count": 15,
   "id": "3da74453-2dff-411d-a384-2966ae0c1f06",
   "metadata": {},
   "outputs": [
    {
     "data": {
      "text/plain": [
       "'Human: Hola, necesito saber cómo usar mis datos históricos para crear un bot de preguntas y respuestas\\nAI: ¡Hola! ¡Claro que puedo ayudarte con eso! Para crear un bot de preguntas y respuestas utilizando tus datos históricos, primero necesitas recopilar y organizar toda la información relevante. Luego, puedes utilizar técnicas de procesamiento de lenguaje natural para analizar y entender el contexto de las preguntas y respuestas en tus datos. Además, es importante entrenar tu modelo de bot utilizando algoritmos de aprendizaje automático para que pueda responder de manera precisa. ¿Tienes alguna pregunta más específica sobre el proceso? Estoy aquí para ayudar.\\nHuman: Necesito más detalle de cómo implementarlo\\nAI: ¡Claro! Para implementar un bot de preguntas y respuestas utilizando tus datos históricos, primero necesitas identificar las preguntas más frecuentes y relevantes en tu información almacenada. Luego, puedes crear una base de conocimientos estructurada que contenga las respuestas correspondientes a cada pregunta. \\n\\nDespués, puedes utilizar algoritmos de aprendizaje automático, como redes neuronales o algoritmos de aprendizaje supervisado, para entrenar tu modelo de bot. Es importante alimentar el modelo con suficientes ejemplos de preguntas y respuestas para que pueda aprender patrones y contextos. \\n\\nUna vez que tu bot esté entrenado, puedes implementarlo en una plataforma de mensajería o en tu sitio web para que los usuarios puedan hacerle preguntas y recibir respuestas en tiempo real. Recuerda también seguir evaluando y actualizando tu bot a medida que recopilas más datos y recibes retroalimentación de los usuarios. ¿Te gustaría más información sobre algún paso en particular? Estoy aquí para ayudarte.'"
      ]
     },
     "execution_count": 15,
     "metadata": {},
     "output_type": "execute_result"
    }
   ],
   "source": [
    "conversacion_recargada.memory.buffer"
   ]
  }
 ],
 "metadata": {
  "kernelspec": {
   "display_name": "ia_gpu312",
   "language": "python",
   "name": "python3"
  },
  "language_info": {
   "codemirror_mode": {
    "name": "ipython",
    "version": 3
   },
   "file_extension": ".py",
   "mimetype": "text/x-python",
   "name": "python",
   "nbconvert_exporter": "python",
   "pygments_lexer": "ipython3",
   "version": "3.12.8"
  }
 },
 "nbformat": 4,
 "nbformat_minor": 5
}

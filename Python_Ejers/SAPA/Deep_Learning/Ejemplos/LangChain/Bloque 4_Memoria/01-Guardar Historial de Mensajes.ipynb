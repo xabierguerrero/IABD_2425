{
 "cells": [
  {
   "cell_type": "markdown",
   "id": "728f1747-b8fc-4d31-96c2-047fc83c079d",
   "metadata": {},
   "source": [
    "#  ChatMessageHistory"
   ]
  },
  {
   "cell_type": "code",
   "execution_count": 1,
   "id": "2d06ddf2",
   "metadata": {},
   "outputs": [],
   "source": [
    "from langchain_openai import ChatOpenAI\n",
    "from langchain.schema import SystemMessage, HumanMessage\n",
    "f = open('/home/iabd/clave_gpt.txt')\n",
    "api_key = f.read().strip()\n",
    "chat = ChatOpenAI(openai_api_key=api_key)"
   ]
  },
  {
   "cell_type": "code",
   "execution_count": 2,
   "id": "48df0435",
   "metadata": {},
   "outputs": [],
   "source": [
    "#Definimos el objeto de histórico de mensajes\n",
    "from langchain.memory import ChatMessageHistory\n",
    "\n",
    "history = ChatMessageHistory()"
   ]
  },
  {
   "cell_type": "code",
   "execution_count": 3,
   "id": "840072b7",
   "metadata": {},
   "outputs": [],
   "source": [
    "consulta = \"Hola, ¿cómo estás? Necesito ayudar para reconfigurar el router\""
   ]
  },
  {
   "cell_type": "code",
   "execution_count": 4,
   "id": "cd1a97e6",
   "metadata": {},
   "outputs": [],
   "source": [
    "#Vamos guardando en el objeto \"history\" los mensajes de usuario y los mensajes AI que queramos\n",
    "history.add_user_message(consulta)"
   ]
  },
  {
   "cell_type": "code",
   "execution_count": 5,
   "id": "f6d64807",
   "metadata": {},
   "outputs": [],
   "source": [
    "resultado = chat.invoke([HumanMessage(content=consulta)])"
   ]
  },
  {
   "cell_type": "code",
   "execution_count": 6,
   "id": "244f42d8-2349-446e-a1c2-ae4b8d3ee38f",
   "metadata": {},
   "outputs": [],
   "source": [
    "history.add_ai_message(resultado.content)"
   ]
  },
  {
   "cell_type": "code",
   "execution_count": 7,
   "id": "d11233ff-1364-417e-a669-a747b5a8f65f",
   "metadata": {},
   "outputs": [
    {
     "data": {
      "text/plain": [
       "InMemoryChatMessageHistory(messages=[HumanMessage(content='Hola, ¿cómo estás? Necesito ayudar para reconfigurar el router', additional_kwargs={}, response_metadata={}), AIMessage(content='Hola, estoy aquí para ayudarte con eso. ¿Podrías proporcionarme más detalles sobre el modelo de tu router y qué configuración específica necesitas cambiar? De esa manera, podré darte la ayuda que necesitas de manera más efectiva.', additional_kwargs={}, response_metadata={})])"
      ]
     },
     "execution_count": 7,
     "metadata": {},
     "output_type": "execute_result"
    }
   ],
   "source": [
    "history"
   ]
  },
  {
   "cell_type": "code",
   "execution_count": 8,
   "id": "224f89d3-1e36-4fd6-9f7d-f64812a6fa03",
   "metadata": {},
   "outputs": [
    {
     "data": {
      "text/plain": [
       "[HumanMessage(content='Hola, ¿cómo estás? Necesito ayudar para reconfigurar el router', additional_kwargs={}, response_metadata={}),\n",
       " AIMessage(content='Hola, estoy aquí para ayudarte con eso. ¿Podrías proporcionarme más detalles sobre el modelo de tu router y qué configuración específica necesitas cambiar? De esa manera, podré darte la ayuda que necesitas de manera más efectiva.', additional_kwargs={}, response_metadata={})]"
      ]
     },
     "execution_count": 8,
     "metadata": {},
     "output_type": "execute_result"
    }
   ],
   "source": [
    "history.messages"
   ]
  }
 ],
 "metadata": {
  "kernelspec": {
   "display_name": "ia_gpu312",
   "language": "python",
   "name": "python3"
  },
  "language_info": {
   "codemirror_mode": {
    "name": "ipython",
    "version": 3
   },
   "file_extension": ".py",
   "mimetype": "text/x-python",
   "name": "python",
   "nbconvert_exporter": "python",
   "pygments_lexer": "ipython3",
   "version": "3.12.8"
  }
 },
 "nbformat": 4,
 "nbformat_minor": 5
}

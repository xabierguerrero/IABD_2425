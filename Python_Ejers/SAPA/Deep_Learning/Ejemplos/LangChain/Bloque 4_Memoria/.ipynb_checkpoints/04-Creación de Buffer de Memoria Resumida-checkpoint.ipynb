{
 "cells": [
  {
   "cell_type": "markdown",
   "id": "9454b5e9",
   "metadata": {},
   "source": [
    "<em style=\"text-align:center\">Copyright Iván Pinar Domínguez</em>"
   ]
  },
  {
   "cell_type": "markdown",
   "id": "e2128d1c-62d1-4681-abe1-754a1410e632",
   "metadata": {},
   "source": [
    "## Importar librerías iniciales e instancia de modelo de chat"
   ]
  },
  {
   "cell_type": "code",
   "execution_count": 2,
   "id": "e2d81e4f-8739-4a19-abf9-7515304fc0a9",
   "metadata": {},
   "outputs": [],
   "source": [
    "from langchain.chains import ConversationChain\n",
    "from langchain.memory import ConversationBufferMemory, ConversationSummaryBufferMemory\n",
    "from langchain_openai import ChatOpenAI\n",
    "f = open('../OpenAI_key.txt')\n",
    "api_key = f.read()\n",
    "llm = ChatOpenAI(openai_api_key=api_key)"
   ]
  },
  {
   "cell_type": "markdown",
   "id": "728f1747-b8fc-4d31-96c2-047fc83c079d",
   "metadata": {},
   "source": [
    "#  Crear objeto ConversationSummaryMemory"
   ]
  },
  {
   "cell_type": "code",
   "execution_count": 3,
   "id": "4c741139-a54e-46c9-af29-2ba64f914f15",
   "metadata": {},
   "outputs": [],
   "source": [
    "memory = ConversationSummaryBufferMemory(llm=llm)"
   ]
  },
  {
   "cell_type": "code",
   "execution_count": 10,
   "id": "efb997dd-caac-4483-9d70-cb53fedb7183",
   "metadata": {},
   "outputs": [],
   "source": [
    "# Creamos un prompt cuya respuesta hará que se sobrepase el límite de tokens y por tanto sea recomendable resumir la memoria\n",
    "plan_viaje = '''Este fin de semana me voy de vacaciones a la playa, estaba pensando algo que fuera bastante relajado, pero necesito \n",
    "un plan detallado por días con qué hacer en familia'''"
   ]
  },
  {
   "cell_type": "markdown",
   "id": "425c1afc-b9f8-45af-906d-08128569aa6e",
   "metadata": {},
   "source": [
    "## Create new Conversation Chain with a built in Summarizer Buffer Memory"
   ]
  },
  {
   "cell_type": "code",
   "execution_count": 8,
   "id": "2cf7d584-61b2-4d5a-8158-4e7870e399bf",
   "metadata": {},
   "outputs": [],
   "source": [
    "memory = ConversationSummaryBufferMemory(llm=llm, max_token_limit=100)\n",
    "conversation = ConversationChain(llm=llm,memory = memory,verbose=True)\n",
    "#Ejemplo con RunnableWithMessageHistory: https://api.python.langchain.com/en/latest/runnables/langchain_core.runnables.history.RunnableWithMessageHistory.html"
   ]
  },
  {
   "cell_type": "code",
   "execution_count": 11,
   "id": "f577d7dd",
   "metadata": {},
   "outputs": [
    {
     "name": "stdout",
     "output_type": "stream",
     "text": [
      "\n",
      "\n",
      "\u001b[1m> Entering new ConversationChain chain...\u001b[0m\n",
      "Prompt after formatting:\n",
      "\u001b[32;1m\u001b[1;3mThe following is a friendly conversation between a human and an AI. The AI is talkative and provides lots of specific details from its context. If the AI does not know the answer to a question, it truthfully says it does not know.\n",
      "\n",
      "Current conversation:\n",
      "\n",
      "Human: Este fin de semana me voy de vacaciones a la playa, estaba pensando algo que fuera bastante relajado, pero necesito \n",
      "un plan detallado por días con qué hacer en familia\n",
      "AI:\u001b[0m\n",
      "\n",
      "\u001b[1m> Finished chain.\u001b[0m\n"
     ]
    },
    {
     "data": {
      "text/plain": [
       "'¡Qué emocionante! Las vacaciones en la playa suenan geniales. Para planificar tu viaje de manera detallada, te recomendaría lo siguiente:\\n\\nDía 1: Llegada a la playa, instalación en el hotel o casa de playa. Paseo por la playa y cena en un restaurante local.\\nDía 2: Mañana de playa, nadar, tomar el sol y jugar en la arena. Por la tarde, visita a un acuario local o realizar alguna actividad acuática como snorkel.\\nDía 3: Excursión a algún lugar cercano de interés, como un parque natural, un pueblo pintoresco o una reserva ecológica. Almuerzo en un restaurante típico de la zona.\\nDía 4: Día de relax en la playa, leer un libro, hacer castillos de arena o jugar juegos de mesa en la sombra. Cena en un restaurante con vista al mar.\\nDía 5: Último día en la playa, disfrutar de las olas, recoger conchas marinas y hacer una fogata en la playa por la noche.\\n\\nEspero que estos planes te ayuden a disfrutar al máximo tus vacaciones en la playa en familia. ¡Que tengas un excelente viaje!'"
      ]
     },
     "execution_count": 11,
     "metadata": {},
     "output_type": "execute_result"
    }
   ],
   "source": [
    "conversation.predict(input=plan_viaje)"
   ]
  },
  {
   "cell_type": "code",
   "execution_count": 12,
   "id": "9a3f219b-7d5e-49c9-b4bf-79ab0a95cc25",
   "metadata": {},
   "outputs": [
    {
     "data": {
      "text/plain": [
       "{'history': 'System: El humano comenta que se va de vacaciones a la playa y necesita un plan detallado por días para hacer en familia. El AI sugiere un itinerario que incluye paseos por la playa, actividades acuáticas, excursiones a lugares cercanos de interés y días de relax. Espera que estos planes ayuden a disfrutar al máximo las vacaciones en la playa en familia.'}"
      ]
     },
     "execution_count": 12,
     "metadata": {},
     "output_type": "execute_result"
    }
   ],
   "source": [
    "memory.load_memory_variables({}) #Se ha realizado un resumen de la memoria en base al límite de tokens"
   ]
  },
  {
   "cell_type": "code",
   "execution_count": 13,
   "id": "d6324fe6",
   "metadata": {},
   "outputs": [
    {
     "name": "stdout",
     "output_type": "stream",
     "text": [
      "System: El humano comenta que se va de vacaciones a la playa y necesita un plan detallado por días para hacer en familia. El AI sugiere un itinerario que incluye paseos por la playa, actividades acuáticas, excursiones a lugares cercanos de interés y días de relax. Espera que estos planes ayuden a disfrutar al máximo las vacaciones en la playa en familia.\n"
     ]
    }
   ],
   "source": [
    "print(memory.buffer)"
   ]
  }
 ],
 "metadata": {
  "kernelspec": {
   "display_name": "Python 3 (ipykernel)",
   "language": "python",
   "name": "python3"
  },
  "language_info": {
   "codemirror_mode": {
    "name": "ipython",
    "version": 3
   },
   "file_extension": ".py",
   "mimetype": "text/x-python",
   "name": "python",
   "nbconvert_exporter": "python",
   "pygments_lexer": "ipython3",
   "version": "3.11.5"
  }
 },
 "nbformat": 4,
 "nbformat_minor": 5
}

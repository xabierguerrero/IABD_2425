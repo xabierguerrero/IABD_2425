{
 "cells": [
  {
   "cell_type": "markdown",
   "id": "9454b5e9",
   "metadata": {},
   "source": [
    "<em style=\"text-align:center\">Copyright Iván Pinar Domínguez</em>"
   ]
  },
  {
   "cell_type": "markdown",
   "id": "e2128d1c-62d1-4681-abe1-754a1410e632",
   "metadata": {},
   "source": [
    "## Importar librerías iniciales e instancia de modelo de chat"
   ]
  },
  {
   "cell_type": "code",
   "execution_count": 1,
   "id": "e2d81e4f-8739-4a19-abf9-7515304fc0a9",
   "metadata": {},
   "outputs": [],
   "source": [
    "from langchain.chains import ConversationChain\n",
    "from langchain.memory import ConversationBufferMemory\n",
    "from langchain_openai import ChatOpenAI\n",
    "f = open('../OpenAI_key.txt')\n",
    "api_key = f.read()\n",
    "llm = ChatOpenAI(openai_api_key=api_key)"
   ]
  },
  {
   "cell_type": "markdown",
   "id": "728f1747-b8fc-4d31-96c2-047fc83c079d",
   "metadata": {},
   "source": [
    "#  Crear objeto ConversationBufferMemory"
   ]
  },
  {
   "cell_type": "code",
   "execution_count": 19,
   "id": "4c741139-a54e-46c9-af29-2ba64f914f15",
   "metadata": {},
   "outputs": [],
   "source": [
    "memory = ConversationBufferMemory()"
   ]
  },
  {
   "cell_type": "markdown",
   "id": "bea4a9b5-e52c-44a1-a8c2-6d1c3eed2f1a",
   "metadata": {},
   "source": [
    "## Conectar una conversación a la memoria"
   ]
  },
  {
   "cell_type": "code",
   "execution_count": 20,
   "id": "ad3336a7-d2ff-4c7d-bd28-f55f45367608",
   "metadata": {},
   "outputs": [],
   "source": [
    "#Creamos una instancia de la cadena conversacional con el LLM y el objeto de memoria\n",
    "conversation = ConversationChain(llm=llm,memory = memory,verbose=True)"
   ]
  },
  {
   "cell_type": "code",
   "execution_count": null,
   "id": "d32ebd32",
   "metadata": {},
   "outputs": [],
   "source": [
    "#Ejemplo con RunnableWithMessageHistory: https://api.python.langchain.com/en/latest/runnables/langchain_core.runnables.history.RunnableWithMessageHistory.html"
   ]
  },
  {
   "cell_type": "code",
   "execution_count": 21,
   "id": "c3443ca2-3ce9-4d4e-9775-c634e8b36832",
   "metadata": {},
   "outputs": [
    {
     "name": "stdout",
     "output_type": "stream",
     "text": [
      "\n",
      "\n",
      "\u001b[1m> Entering new ConversationChain chain...\u001b[0m\n",
      "Prompt after formatting:\n",
      "\u001b[32;1m\u001b[1;3mThe following is a friendly conversation between a human and an AI. The AI is talkative and provides lots of specific details from its context. If the AI does not know the answer to a question, it truthfully says it does not know.\n",
      "\n",
      "Current conversation:\n",
      "\n",
      "Human: Hola, necesito saber cómo usar mis datos históricos para crear un bot de preguntas y respuestas\n",
      "AI:\u001b[0m\n",
      "\n",
      "\u001b[1m> Finished chain.\u001b[0m\n"
     ]
    },
    {
     "data": {
      "text/plain": [
       "'¡Hola! Claro, para crear un bot de preguntas y respuestas utilizando datos históricos, primero necesitas recopilar y organizar la información relevante. Puedes utilizar herramientas de procesamiento de lenguaje natural para analizar tus datos y extraer patrones significativos. Luego, puedes entrenar a tu bot utilizando algoritmos de aprendizaje automático para que pueda responder preguntas basadas en esos datos históricos. ¿Tienes alguna otra pregunta específica sobre este proceso?'"
      ]
     },
     "execution_count": 21,
     "metadata": {},
     "output_type": "execute_result"
    }
   ],
   "source": [
    "#Lanzamos el primer prompt (human message)\n",
    "conversation.predict(input=\"Hola, necesito saber cómo usar mis datos históricos para crear un bot de preguntas y respuestas\")"
   ]
  },
  {
   "cell_type": "code",
   "execution_count": 22,
   "id": "0f9c4c74-a8fc-4a75-9ddc-0b6a8412e364",
   "metadata": {},
   "outputs": [
    {
     "name": "stdout",
     "output_type": "stream",
     "text": [
      "\n",
      "\n",
      "\u001b[1m> Entering new ConversationChain chain...\u001b[0m\n",
      "Prompt after formatting:\n",
      "\u001b[32;1m\u001b[1;3mThe following is a friendly conversation between a human and an AI. The AI is talkative and provides lots of specific details from its context. If the AI does not know the answer to a question, it truthfully says it does not know.\n",
      "\n",
      "Current conversation:\n",
      "Human: Hola, necesito saber cómo usar mis datos históricos para crear un bot de preguntas y respuestas\n",
      "AI: ¡Hola! Claro, para crear un bot de preguntas y respuestas utilizando datos históricos, primero necesitas recopilar y organizar la información relevante. Puedes utilizar herramientas de procesamiento de lenguaje natural para analizar tus datos y extraer patrones significativos. Luego, puedes entrenar a tu bot utilizando algoritmos de aprendizaje automático para que pueda responder preguntas basadas en esos datos históricos. ¿Tienes alguna otra pregunta específica sobre este proceso?\n",
      "Human: Necesito más detalle de cómo implementarlo\n",
      "AI:\u001b[0m\n",
      "\n",
      "\u001b[1m> Finished chain.\u001b[0m\n"
     ]
    },
    {
     "data": {
      "text/plain": [
       "'Por supuesto, para implementar un bot de preguntas y respuestas utilizando datos históricos, primero necesitas identificar las fuentes de datos relevantes y recopilar toda la información necesaria. Luego, puedes preprocesar los datos para limpiarlos y estructurarlos de manera que sean más fáciles de analizar.\\n\\nDespués de tener los datos preparados, puedes utilizar técnicas de procesamiento de lenguaje natural, como tokenización y lematización, para procesar el texto y extraer características importantes. También puedes utilizar modelos de lenguaje pre-entrenados, como BERT o GPT, para mejorar la comprensión del lenguaje natural por parte de tu bot.\\n\\nUna vez que hayas preparado tus datos y generado las características relevantes, puedes entrenar a tu bot utilizando algoritmos de aprendizaje automático, como redes neuronales o modelos de clasificación, para que pueda aprender a responder preguntas basadas en los datos históricos.\\n\\nFinalmente, puedes implementar tu bot utilizando plataformas de desarrollo de chatbots como Dialogflow, Microsoft Bot Framework o Rasa para interactuar con los usuarios y responder sus preguntas de manera eficiente. ¿Te gustaría saber más detalles sobre algún aspecto específico de este proceso?'"
      ]
     },
     "execution_count": 22,
     "metadata": {},
     "output_type": "execute_result"
    }
   ],
   "source": [
    "#Lanzamos el segundo prompt (human message)\n",
    "conversation.predict(input=\"Necesito más detalle de cómo implementarlo\")"
   ]
  },
  {
   "cell_type": "code",
   "execution_count": 23,
   "id": "dce17805-aa75-4f56-832b-12272b389210",
   "metadata": {},
   "outputs": [
    {
     "name": "stdout",
     "output_type": "stream",
     "text": [
      "Human: Hola, necesito saber cómo usar mis datos históricos para crear un bot de preguntas y respuestas\n",
      "AI: ¡Hola! Claro, para crear un bot de preguntas y respuestas utilizando datos históricos, primero necesitas recopilar y organizar la información relevante. Puedes utilizar herramientas de procesamiento de lenguaje natural para analizar tus datos y extraer patrones significativos. Luego, puedes entrenar a tu bot utilizando algoritmos de aprendizaje automático para que pueda responder preguntas basadas en esos datos históricos. ¿Tienes alguna otra pregunta específica sobre este proceso?\n",
      "Human: Necesito más detalle de cómo implementarlo\n",
      "AI: Por supuesto, para implementar un bot de preguntas y respuestas utilizando datos históricos, primero necesitas identificar las fuentes de datos relevantes y recopilar toda la información necesaria. Luego, puedes preprocesar los datos para limpiarlos y estructurarlos de manera que sean más fáciles de analizar.\n",
      "\n",
      "Después de tener los datos preparados, puedes utilizar técnicas de procesamiento de lenguaje natural, como tokenización y lematización, para procesar el texto y extraer características importantes. También puedes utilizar modelos de lenguaje pre-entrenados, como BERT o GPT, para mejorar la comprensión del lenguaje natural por parte de tu bot.\n",
      "\n",
      "Una vez que hayas preparado tus datos y generado las características relevantes, puedes entrenar a tu bot utilizando algoritmos de aprendizaje automático, como redes neuronales o modelos de clasificación, para que pueda aprender a responder preguntas basadas en los datos históricos.\n",
      "\n",
      "Finalmente, puedes implementar tu bot utilizando plataformas de desarrollo de chatbots como Dialogflow, Microsoft Bot Framework o Rasa para interactuar con los usuarios y responder sus preguntas de manera eficiente. ¿Te gustaría saber más detalles sobre algún aspecto específico de este proceso?\n"
     ]
    }
   ],
   "source": [
    "#Obtenemos el histórico\n",
    "print(memory.buffer)"
   ]
  },
  {
   "cell_type": "code",
   "execution_count": 24,
   "id": "06bfdc45-81d0-481b-84fa-5cf7848194a4",
   "metadata": {},
   "outputs": [
    {
     "data": {
      "text/plain": [
       "{'history': 'Human: Hola, necesito saber cómo usar mis datos históricos para crear un bot de preguntas y respuestas\\nAI: ¡Hola! Claro, para crear un bot de preguntas y respuestas utilizando datos históricos, primero necesitas recopilar y organizar la información relevante. Puedes utilizar herramientas de procesamiento de lenguaje natural para analizar tus datos y extraer patrones significativos. Luego, puedes entrenar a tu bot utilizando algoritmos de aprendizaje automático para que pueda responder preguntas basadas en esos datos históricos. ¿Tienes alguna otra pregunta específica sobre este proceso?\\nHuman: Necesito más detalle de cómo implementarlo\\nAI: Por supuesto, para implementar un bot de preguntas y respuestas utilizando datos históricos, primero necesitas identificar las fuentes de datos relevantes y recopilar toda la información necesaria. Luego, puedes preprocesar los datos para limpiarlos y estructurarlos de manera que sean más fáciles de analizar.\\n\\nDespués de tener los datos preparados, puedes utilizar técnicas de procesamiento de lenguaje natural, como tokenización y lematización, para procesar el texto y extraer características importantes. También puedes utilizar modelos de lenguaje pre-entrenados, como BERT o GPT, para mejorar la comprensión del lenguaje natural por parte de tu bot.\\n\\nUna vez que hayas preparado tus datos y generado las características relevantes, puedes entrenar a tu bot utilizando algoritmos de aprendizaje automático, como redes neuronales o modelos de clasificación, para que pueda aprender a responder preguntas basadas en los datos históricos.\\n\\nFinalmente, puedes implementar tu bot utilizando plataformas de desarrollo de chatbots como Dialogflow, Microsoft Bot Framework o Rasa para interactuar con los usuarios y responder sus preguntas de manera eficiente. ¿Te gustaría saber más detalles sobre algún aspecto específico de este proceso?'}"
      ]
     },
     "execution_count": 24,
     "metadata": {},
     "output_type": "execute_result"
    }
   ],
   "source": [
    "#Cargamos la variable de memoria\n",
    "memory.load_memory_variables({})"
   ]
  },
  {
   "cell_type": "markdown",
   "id": "651ba6fb-40c6-4d2c-ac55-3bc9607336a9",
   "metadata": {},
   "source": [
    "## Guardar y Cargar la memoria (posterior uso)"
   ]
  },
  {
   "cell_type": "code",
   "execution_count": 25,
   "id": "57435326-a46b-475c-a093-055b55f7ab1b",
   "metadata": {},
   "outputs": [
    {
     "data": {
      "text/plain": [
       "ConversationBufferMemory(chat_memory=InMemoryChatMessageHistory(messages=[HumanMessage(content='Hola, necesito saber cómo usar mis datos históricos para crear un bot de preguntas y respuestas'), AIMessage(content='¡Hola! Claro, para crear un bot de preguntas y respuestas utilizando datos históricos, primero necesitas recopilar y organizar la información relevante. Puedes utilizar herramientas de procesamiento de lenguaje natural para analizar tus datos y extraer patrones significativos. Luego, puedes entrenar a tu bot utilizando algoritmos de aprendizaje automático para que pueda responder preguntas basadas en esos datos históricos. ¿Tienes alguna otra pregunta específica sobre este proceso?'), HumanMessage(content='Necesito más detalle de cómo implementarlo'), AIMessage(content='Por supuesto, para implementar un bot de preguntas y respuestas utilizando datos históricos, primero necesitas identificar las fuentes de datos relevantes y recopilar toda la información necesaria. Luego, puedes preprocesar los datos para limpiarlos y estructurarlos de manera que sean más fáciles de analizar.\\n\\nDespués de tener los datos preparados, puedes utilizar técnicas de procesamiento de lenguaje natural, como tokenización y lematización, para procesar el texto y extraer características importantes. También puedes utilizar modelos de lenguaje pre-entrenados, como BERT o GPT, para mejorar la comprensión del lenguaje natural por parte de tu bot.\\n\\nUna vez que hayas preparado tus datos y generado las características relevantes, puedes entrenar a tu bot utilizando algoritmos de aprendizaje automático, como redes neuronales o modelos de clasificación, para que pueda aprender a responder preguntas basadas en los datos históricos.\\n\\nFinalmente, puedes implementar tu bot utilizando plataformas de desarrollo de chatbots como Dialogflow, Microsoft Bot Framework o Rasa para interactuar con los usuarios y responder sus preguntas de manera eficiente. ¿Te gustaría saber más detalles sobre algún aspecto específico de este proceso?')]))"
      ]
     },
     "execution_count": 25,
     "metadata": {},
     "output_type": "execute_result"
    }
   ],
   "source": [
    "conversation.memory"
   ]
  },
  {
   "cell_type": "code",
   "execution_count": 26,
   "id": "b445e294-ad7d-4f88-8b84-ec9c6bc0a2ad",
   "metadata": {},
   "outputs": [],
   "source": [
    "import pickle\n",
    "pickled_str = pickle.dumps(conversation.memory) #Crea un objeto binario con todo el objeto de la memoria"
   ]
  },
  {
   "cell_type": "code",
   "execution_count": 29,
   "id": "822da352-0974-4b51-92fe-78a26fd6c95e",
   "metadata": {},
   "outputs": [],
   "source": [
    "#pickled_str #objeto binario que guarda cualquier tipo de información"
   ]
  },
  {
   "cell_type": "code",
   "execution_count": 30,
   "id": "4b582b43-d25e-460e-8fbe-a887b7b3f6ad",
   "metadata": {},
   "outputs": [],
   "source": [
    "with open('memory.pkl','wb') as f: #wb para indicar que escriba un objeto binario, en este caso en la misma ruta que el script\n",
    "    f.write(pickled_str)"
   ]
  },
  {
   "cell_type": "code",
   "execution_count": 31,
   "id": "04a5fa1d-acda-44e9-af3f-3129fc4bd32e",
   "metadata": {},
   "outputs": [],
   "source": [
    "memoria_cargada = open('memory.pkl','rb').read() #rb para indicar que leemos el objeto binario"
   ]
  },
  {
   "cell_type": "code",
   "execution_count": 34,
   "id": "3ea3712f-cadf-4895-92cb-29372018dc37",
   "metadata": {},
   "outputs": [],
   "source": [
    "llm = ChatOpenAI(openai_api_key=api_key) #Creamos una nueva instancia de LLM para asegurar que está totalmente limpia\n",
    "conversacion_recargada = ConversationChain(\n",
    "    llm=llm, \n",
    "    memory = pickle.loads(memoria_cargada),\n",
    "    verbose=True\n",
    ")"
   ]
  },
  {
   "cell_type": "code",
   "execution_count": 35,
   "id": "3da74453-2dff-411d-a384-2966ae0c1f06",
   "metadata": {},
   "outputs": [
    {
     "data": {
      "text/plain": [
       "'Human: Hola, necesito saber cómo usar mis datos históricos para crear un bot de preguntas y respuestas\\nAI: ¡Hola! Claro, para crear un bot de preguntas y respuestas utilizando datos históricos, primero necesitas recopilar y organizar la información relevante. Puedes utilizar herramientas de procesamiento de lenguaje natural para analizar tus datos y extraer patrones significativos. Luego, puedes entrenar a tu bot utilizando algoritmos de aprendizaje automático para que pueda responder preguntas basadas en esos datos históricos. ¿Tienes alguna otra pregunta específica sobre este proceso?\\nHuman: Necesito más detalle de cómo implementarlo\\nAI: Por supuesto, para implementar un bot de preguntas y respuestas utilizando datos históricos, primero necesitas identificar las fuentes de datos relevantes y recopilar toda la información necesaria. Luego, puedes preprocesar los datos para limpiarlos y estructurarlos de manera que sean más fáciles de analizar.\\n\\nDespués de tener los datos preparados, puedes utilizar técnicas de procesamiento de lenguaje natural, como tokenización y lematización, para procesar el texto y extraer características importantes. También puedes utilizar modelos de lenguaje pre-entrenados, como BERT o GPT, para mejorar la comprensión del lenguaje natural por parte de tu bot.\\n\\nUna vez que hayas preparado tus datos y generado las características relevantes, puedes entrenar a tu bot utilizando algoritmos de aprendizaje automático, como redes neuronales o modelos de clasificación, para que pueda aprender a responder preguntas basadas en los datos históricos.\\n\\nFinalmente, puedes implementar tu bot utilizando plataformas de desarrollo de chatbots como Dialogflow, Microsoft Bot Framework o Rasa para interactuar con los usuarios y responder sus preguntas de manera eficiente. ¿Te gustaría saber más detalles sobre algún aspecto específico de este proceso?'"
      ]
     },
     "execution_count": 35,
     "metadata": {},
     "output_type": "execute_result"
    }
   ],
   "source": [
    "conversacion_recargada.memory.buffer"
   ]
  },
  {
   "cell_type": "code",
   "execution_count": null,
   "id": "1b872f82-2e8a-4c5e-b715-2c927ffdefdd",
   "metadata": {},
   "outputs": [],
   "source": []
  }
 ],
 "metadata": {
  "kernelspec": {
   "display_name": "Python 3 (ipykernel)",
   "language": "python",
   "name": "python3"
  },
  "language_info": {
   "codemirror_mode": {
    "name": "ipython",
    "version": 3
   },
   "file_extension": ".py",
   "mimetype": "text/x-python",
   "name": "python",
   "nbconvert_exporter": "python",
   "pygments_lexer": "ipython3",
   "version": "3.11.5"
  }
 },
 "nbformat": 4,
 "nbformat_minor": 5
}

{
 "cells": [
  {
   "cell_type": "markdown",
   "id": "9454b5e9",
   "metadata": {},
   "source": [
    "<em style=\"text-align:center\">Copyright Iván Pinar Domínguez</em>"
   ]
  },
  {
   "cell_type": "markdown",
   "id": "728f1747-b8fc-4d31-96c2-047fc83c079d",
   "metadata": {},
   "source": [
    "#  ChatMessageHistory"
   ]
  },
  {
   "cell_type": "code",
   "execution_count": 9,
   "id": "2d06ddf2",
   "metadata": {},
   "outputs": [],
   "source": [
    "from langchain_openai import ChatOpenAI\n",
    "from langchain.schema import SystemMessage, HumanMessage\n",
    "f = open('../OpenAI_key.txt')\n",
    "api_key = f.read()\n",
    "chat = ChatOpenAI(openai_api_key=api_key)"
   ]
  },
  {
   "cell_type": "code",
   "execution_count": 10,
   "id": "48df0435",
   "metadata": {},
   "outputs": [],
   "source": [
    "#Definimos el objeto de histórico de mensajes\n",
    "from langchain.memory import ChatMessageHistory\n",
    "\n",
    "history = ChatMessageHistory()"
   ]
  },
  {
   "cell_type": "code",
   "execution_count": 11,
   "id": "840072b7",
   "metadata": {},
   "outputs": [],
   "source": [
    "consulta = \"Hola, ¿cómo estás? Necesito ayudar para reconfigurar el router\""
   ]
  },
  {
   "cell_type": "code",
   "execution_count": 12,
   "id": "cd1a97e6",
   "metadata": {},
   "outputs": [],
   "source": [
    "#Vamos guardando en el objeto \"history\" los mensajes de usuario y los mensajes AI que queramos\n",
    "history.add_user_message(consulta)"
   ]
  },
  {
   "cell_type": "code",
   "execution_count": 13,
   "id": "f6d64807",
   "metadata": {},
   "outputs": [],
   "source": [
    "resultado = chat.invoke([HumanMessage(content=consulta)])"
   ]
  },
  {
   "cell_type": "code",
   "execution_count": 14,
   "id": "244f42d8-2349-446e-a1c2-ae4b8d3ee38f",
   "metadata": {},
   "outputs": [],
   "source": [
    "history.add_ai_message(resultado.content)"
   ]
  },
  {
   "cell_type": "code",
   "execution_count": 15,
   "id": "d11233ff-1364-417e-a669-a747b5a8f65f",
   "metadata": {},
   "outputs": [
    {
     "data": {
      "text/plain": [
       "InMemoryChatMessageHistory(messages=[HumanMessage(content='Hola, ¿cómo estás? Necesito ayudar para reconfigurar el router'), AIMessage(content='Hola, estoy bien gracias. Claro, estaré encantado de ayudarte a reconfigurar tu router. ¿Qué tipo de ayuda necesitas específicamente? ¿Tienes alguna marca o modelo en particular que estés utilizando?')])"
      ]
     },
     "execution_count": 15,
     "metadata": {},
     "output_type": "execute_result"
    }
   ],
   "source": [
    "history"
   ]
  },
  {
   "cell_type": "code",
   "execution_count": 16,
   "id": "224f89d3-1e36-4fd6-9f7d-f64812a6fa03",
   "metadata": {},
   "outputs": [
    {
     "data": {
      "text/plain": [
       "[HumanMessage(content='Hola, ¿cómo estás? Necesito ayudar para reconfigurar el router'),\n",
       " AIMessage(content='Hola, estoy bien gracias. Claro, estaré encantado de ayudarte a reconfigurar tu router. ¿Qué tipo de ayuda necesitas específicamente? ¿Tienes alguna marca o modelo en particular que estés utilizando?')]"
      ]
     },
     "execution_count": 16,
     "metadata": {},
     "output_type": "execute_result"
    }
   ],
   "source": [
    "history.messages"
   ]
  }
 ],
 "metadata": {
  "kernelspec": {
   "display_name": "Python 3 (ipykernel)",
   "language": "python",
   "name": "python3"
  },
  "language_info": {
   "codemirror_mode": {
    "name": "ipython",
    "version": 3
   },
   "file_extension": ".py",
   "mimetype": "text/x-python",
   "name": "python",
   "nbconvert_exporter": "python",
   "pygments_lexer": "ipython3",
   "version": "3.11.5"
  }
 },
 "nbformat": 4,
 "nbformat_minor": 5
}

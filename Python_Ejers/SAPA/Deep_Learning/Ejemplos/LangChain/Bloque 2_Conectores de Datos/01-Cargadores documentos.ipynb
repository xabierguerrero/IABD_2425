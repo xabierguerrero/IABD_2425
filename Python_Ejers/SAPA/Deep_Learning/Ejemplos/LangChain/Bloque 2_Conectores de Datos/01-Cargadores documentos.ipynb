{
 "cells": [
  {
   "cell_type": "markdown",
   "id": "e2128d1c-62d1-4681-abe1-754a1410e632",
   "metadata": {},
   "source": [
    "## Importar librerías e instancia de modelo de chat"
   ]
  },
  {
   "cell_type": "code",
   "execution_count": 1,
   "id": "e2d81e4f-8739-4a19-abf9-7515304fc0a9",
   "metadata": {},
   "outputs": [],
   "source": [
    "from langchain.prompts import PromptTemplate, SystemMessagePromptTemplate,ChatPromptTemplate, HumanMessagePromptTemplate\n",
    "from langchain_openai import ChatOpenAI\n",
    "f = open('/home/iabd/clave_gpt.txt')\n",
    "api_key = f.read().strip()\n",
    "chat = ChatOpenAI(openai_api_key=api_key)"
   ]
  },
  {
   "cell_type": "markdown",
   "id": "6bc4082c-42ff-42f7-922a-7c0064440097",
   "metadata": {},
   "source": [
    "## Carga datos CSV"
   ]
  },
  {
   "cell_type": "code",
   "execution_count": 2,
   "id": "c078445d-4ef7-444b-9e41-89d303eb056d",
   "metadata": {},
   "outputs": [],
   "source": [
    "from langchain.document_loaders import CSVLoader #pip install langchain-community en una terminal"
   ]
  },
  {
   "cell_type": "code",
   "execution_count": 3,
   "id": "ab7091b6-e13d-4cfc-b4bd-c9efe2b609bb",
   "metadata": {},
   "outputs": [],
   "source": [
    "#Cargamos el fichero CSV\n",
    "loader = CSVLoader('Fuentes datos/datos_ventas_small.csv',csv_args={'delimiter': ';'})"
   ]
  },
  {
   "cell_type": "code",
   "execution_count": 4,
   "id": "b7332f9d-734f-4f6a-8e94-0f755a5a2503",
   "metadata": {},
   "outputs": [],
   "source": [
    "#Creamos el objeto \"data\" con los datos desde el cargador \"loader\"\n",
    "data = loader.load()"
   ]
  },
  {
   "cell_type": "code",
   "execution_count": 7,
   "id": "8a53c3a5-e907-4c75-adf0-452b02c363bb",
   "metadata": {},
   "outputs": [],
   "source": [
    "#print(data) #Vemos que se ha creado un documento por cada fila donde el campo page_content contiene los datos"
   ]
  },
  {
   "cell_type": "code",
   "execution_count": 5,
   "id": "9f6a2406-ce07-4b07-89d2-8542dfb3615c",
   "metadata": {
    "tags": []
   },
   "outputs": [
    {
     "data": {
      "text/plain": [
       "list"
      ]
     },
     "execution_count": 5,
     "metadata": {},
     "output_type": "execute_result"
    }
   ],
   "source": [
    "type(data)"
   ]
  },
  {
   "cell_type": "code",
   "execution_count": 6,
   "id": "a43c9543-741e-4bae-b457-5d5564e16ec4",
   "metadata": {},
   "outputs": [
    {
     "data": {
      "text/plain": [
       "Document(metadata={'source': 'Fuentes datos/datos_ventas_small.csv', 'row': 0}, page_content='\\ufeffID: 10145\\nCantidad: 45\\nPrecio unitario: 83,26\\nVenta total: 3746,7\\nFecha compra: 25/08/2023\\nEstado: Shipped\\nLínea Producto: Motorcycles\\nCódigo Producto: S10_1678\\nNombre cliente: Toys4GrownUps,com\\nCiudad: Pasadena\\nPaís: USA\\nTerritorio: NA\\nTamaño pedido: Medium')"
      ]
     },
     "execution_count": 6,
     "metadata": {},
     "output_type": "execute_result"
    }
   ],
   "source": [
    "data[0]"
   ]
  },
  {
   "cell_type": "code",
   "execution_count": 7,
   "id": "b4a59d5b-c3a7-4332-aef0-758720ef2030",
   "metadata": {},
   "outputs": [
    {
     "data": {
      "text/plain": [
       "Document(metadata={'source': 'Fuentes datos/datos_ventas_small.csv', 'row': 1}, page_content='\\ufeffID: 10159\\nCantidad: 0\\nPrecio unitario: 100\\nVenta total: 0\\nFecha compra: 10/10/2023\\nEstado: Shipped\\nLínea Producto: Motorcycles\\nCódigo Producto: S10_1678\\nNombre cliente: Corporate Gift Ideas Co,\\nCiudad: San Francisco\\nPaís: USA\\nTerritorio: NA\\nTamaño pedido: Medium')"
      ]
     },
     "execution_count": 7,
     "metadata": {},
     "output_type": "execute_result"
    }
   ],
   "source": [
    "data[1]"
   ]
  },
  {
   "cell_type": "code",
   "execution_count": 8,
   "id": "a99ccc82-0872-49e1-8d93-bf5d2b1aab80",
   "metadata": {},
   "outputs": [
    {
     "name": "stdout",
     "output_type": "stream",
     "text": [
      "ID: 10159\n",
      "Cantidad: 0\n",
      "Precio unitario: 100\n",
      "Venta total: 0\n",
      "Fecha compra: 10/10/2023\n",
      "Estado: Shipped\n",
      "Línea Producto: Motorcycles\n",
      "Código Producto: S10_1678\n",
      "Nombre cliente: Corporate Gift Ideas Co,\n",
      "Ciudad: San Francisco\n",
      "País: USA\n",
      "Territorio: NA\n",
      "Tamaño pedido: Medium\n"
     ]
    }
   ],
   "source": [
    "print(data[1].page_content)"
   ]
  },
  {
   "cell_type": "markdown",
   "id": "02ddf379-844f-42cb-89c0-472be1185844",
   "metadata": {},
   "source": [
    "## Carga datos HTML"
   ]
  },
  {
   "cell_type": "code",
   "execution_count": 9,
   "id": "0a681f85-10d2-4a32-8c2a-a10f36ebb4ca",
   "metadata": {},
   "outputs": [],
   "source": [
    "from langchain.document_loaders import BSHTMLLoader #pip install beautifulsoup4 en una terminal"
   ]
  },
  {
   "cell_type": "code",
   "execution_count": 10,
   "id": "df8c4791-6b09-43ab-a0e2-23108a496e5e",
   "metadata": {},
   "outputs": [],
   "source": [
    "loader = BSHTMLLoader('Fuentes datos/ejemplo_web.html')"
   ]
  },
  {
   "cell_type": "code",
   "execution_count": 11,
   "id": "7ab47e68-9bbd-4dd8-8baa-2183277138d7",
   "metadata": {},
   "outputs": [],
   "source": [
    "data = loader.load()"
   ]
  },
  {
   "cell_type": "code",
   "execution_count": 12,
   "id": "b21b46f1-f6ad-4117-b343-bdabc467fe6e",
   "metadata": {},
   "outputs": [
    {
     "data": {
      "text/plain": [
       "[Document(metadata={'source': 'Fuentes datos/ejemplo_web.html', 'title': ''}, page_content='\\n\\n\\n\\n\\nSQL, Structure Query Language (Lenguaje de Consulta Estructurado) es un lenguaje de\\nprogramacion para trabajar con base de datos relacionales como MySQL, Oracle, etc.\\nMySQL es un interpretador de SQL, es un servidor de base de datos.\\nMySQL permite crear base de datos y tablas, insertar datos, modificarlos, eliminarlos,\\nordenarlos, hacer consultas y realizar muchas operaciones, etc., resumiendo: administrar bases\\nde datos.\\n\\n\\nEste tutorial tiene por objetivo acercar los conceptos iniciales para introducirse en el mundo de\\nlas bases de datos.\\n\\n\\n\\n')]"
      ]
     },
     "execution_count": 12,
     "metadata": {},
     "output_type": "execute_result"
    }
   ],
   "source": [
    "data"
   ]
  },
  {
   "cell_type": "code",
   "execution_count": 13,
   "id": "94b3729b",
   "metadata": {},
   "outputs": [
    {
     "name": "stdout",
     "output_type": "stream",
     "text": [
      "\n",
      "\n",
      "\n",
      "\n",
      "\n",
      "SQL, Structure Query Language (Lenguaje de Consulta Estructurado) es un lenguaje de\n",
      "programacion para trabajar con base de datos relacionales como MySQL, Oracle, etc.\n",
      "MySQL es un interpretador de SQL, es un servidor de base de datos.\n",
      "MySQL permite crear base de datos y tablas, insertar datos, modificarlos, eliminarlos,\n",
      "ordenarlos, hacer consultas y realizar muchas operaciones, etc., resumiendo: administrar bases\n",
      "de datos.\n",
      "\n",
      "\n",
      "Este tutorial tiene por objetivo acercar los conceptos iniciales para introducirse en el mundo de\n",
      "las bases de datos.\n",
      "\n",
      "\n",
      "\n",
      "\n"
     ]
    }
   ],
   "source": [
    "print(data[0].page_content)"
   ]
  },
  {
   "cell_type": "markdown",
   "id": "e4ff682b-b894-486f-b24f-7df9693358e3",
   "metadata": {},
   "source": [
    "## Carga datos PDF"
   ]
  },
  {
   "cell_type": "code",
   "execution_count": 14,
   "id": "9fb47fd8-62a8-43ad-b508-e1e8230e52d6",
   "metadata": {},
   "outputs": [],
   "source": [
    "from langchain.document_loaders import PyPDFLoader #pip install pypdf en una terminal"
   ]
  },
  {
   "cell_type": "code",
   "execution_count": 15,
   "id": "2504c711-5c43-4349-8ba6-37d78527691e",
   "metadata": {},
   "outputs": [],
   "source": [
    "loader = PyPDFLoader('Fuentes datos/Documento tecnologías emergentes.pdf')"
   ]
  },
  {
   "cell_type": "code",
   "execution_count": 17,
   "id": "76c7b4cf-0008-4afb-8cd5-2f2409e6f9e7",
   "metadata": {},
   "outputs": [],
   "source": [
    "pages = loader.load_and_split()"
   ]
  },
  {
   "cell_type": "code",
   "execution_count": 18,
   "id": "5544da06-f79a-499b-9158-5109e2c9a1aa",
   "metadata": {},
   "outputs": [
    {
     "data": {
      "text/plain": [
       "list"
      ]
     },
     "execution_count": 18,
     "metadata": {},
     "output_type": "execute_result"
    }
   ],
   "source": [
    "type(pages)"
   ]
  },
  {
   "cell_type": "code",
   "execution_count": 19,
   "id": "1c30b108-27c8-4fb0-b2c5-7f9ce52603c0",
   "metadata": {},
   "outputs": [
    {
     "data": {
      "text/plain": [
       "Document(metadata={'producer': 'Microsoft® Word 2016', 'creator': 'Microsoft® Word 2016', 'creationdate': '2021-01-16T17:12:17+01:00', 'author': 'Ivan Pinar', 'moddate': '2021-01-16T17:12:17+01:00', 'source': 'Fuentes datos/Documento tecnologías emergentes.pdf', 'total_pages': 4, 'page': 0, 'page_label': '1'}, page_content='Estas son las 9 tecnologías \\nemergentes para el próximo \\n2025 \\n  \\n“Que la tecnología ha cambiado nuestra manera de vivir e interactuar \\nes un hecho. Sin embargo, aún no somos conscientes de las \\npotencialidades de usos de las tecnologías.Por ejemplo, para el año \\n2025 se espera una verdadera revolución tecnológica, sobre todo \\nenfocado en el sector bio-médico pero también en las relaciones \\nhumanas entre individuos a distancia, en la protección del medio \\nambiente o en la protección de nuestros datos personales”, afirma \\nJuan Quintanilla, director general de Syntonize. \\n9 Tecnologías emergentes según Syntonize \\nLa aplicación de nuevas tecnologías que hagan más fácil la vida a \\nprofesionales, estudiantes, mayores, empresas o instituciones \\npúblicas se espera que aumente en los próximos años. Entre ellas se \\nencuentran; \\n\\uf0b7 Producción optimizada por la Inteligencia Artificial: las \\nempresas están adoptando rápidamente tecnologías basadas \\nen la nube. Gracias a ello, podrán agregar, transformar de \\nmanera inteligente y presentar contextualmente datos de \\nproductos y procesos de las líneas de fabricación. Para 2025, \\neste flujo ubicuo de datos y los algoritmos \\ninteligentes  permitirán que las líneas de fabricación se')"
      ]
     },
     "execution_count": 19,
     "metadata": {},
     "output_type": "execute_result"
    }
   ],
   "source": [
    "pages[0]"
   ]
  },
  {
   "cell_type": "code",
   "execution_count": 20,
   "id": "89a6954c-698d-4654-8265-c014a546f2ee",
   "metadata": {},
   "outputs": [
    {
     "name": "stdout",
     "output_type": "stream",
     "text": [
      "Estas son las 9 tecnologías \n",
      "emergentes para el próximo \n",
      "2025 \n",
      "  \n",
      "“Que la tecnología ha cambiado nuestra manera de vivir e interactuar \n",
      "es un hecho. Sin embargo, aún no somos conscientes de las \n",
      "potencialidades de usos de las tecnologías.Por ejemplo, para el año \n",
      "2025 se espera una verdadera revolución tecnológica, sobre todo \n",
      "enfocado en el sector bio-médico pero también en las relaciones \n",
      "humanas entre individuos a distancia, en la protección del medio \n",
      "ambiente o en la protección de nuestros datos personales”, afirma \n",
      "Juan Quintanilla, director general de Syntonize. \n",
      "9 Tecnologías emergentes según Syntonize \n",
      "La aplicación de nuevas tecnologías que hagan más fácil la vida a \n",
      "profesionales, estudiantes, mayores, empresas o instituciones \n",
      "públicas se espera que aumente en los próximos años. Entre ellas se \n",
      "encuentran; \n",
      " Producción optimizada por la Inteligencia Artificial: las \n",
      "empresas están adoptando rápidamente tecnologías basadas \n",
      "en la nube. Gracias a ello, podrán agregar, transformar de \n",
      "manera inteligente y presentar contextualmente datos de \n",
      "productos y procesos de las líneas de fabricación. Para 2025, \n",
      "este flujo ubicuo de datos y los algoritmos \n",
      "inteligentes  permitirán que las líneas de fabricación se\n"
     ]
    }
   ],
   "source": [
    "print(pages[0].page_content)"
   ]
  },
  {
   "cell_type": "markdown",
   "id": "5c53d13b",
   "metadata": {},
   "source": [
    "# Caso de uso: Resumir PDFs"
   ]
  },
  {
   "cell_type": "code",
   "execution_count": 21,
   "id": "51a4ba9c",
   "metadata": {},
   "outputs": [],
   "source": [
    "contenido_pdf=pages[0].page_content"
   ]
  },
  {
   "cell_type": "code",
   "execution_count": 22,
   "id": "bf0ac424",
   "metadata": {},
   "outputs": [
    {
     "data": {
      "text/plain": [
       "'Estas son las 9 tecnologías \\nemergentes para el próximo \\n2025 \\n  \\n“Que la tecnología ha cambiado nuestra manera de vivir e interactuar \\nes un hecho. Sin embargo, aún no somos conscientes de las \\npotencialidades de usos de las tecnologías.Por ejemplo, para el año \\n2025 se espera una verdadera revolución tecnológica, sobre todo \\nenfocado en el sector bio-médico pero también en las relaciones \\nhumanas entre individuos a distancia, en la protección del medio \\nambiente o en la protección de nuestros datos personales”, afirma \\nJuan Quintanilla, director general de Syntonize. \\n9 Tecnologías emergentes según Syntonize \\nLa aplicación de nuevas tecnologías que hagan más fácil la vida a \\nprofesionales, estudiantes, mayores, empresas o instituciones \\npúblicas se espera que aumente en los próximos años. Entre ellas se \\nencuentran; \\n\\uf0b7 Producción optimizada por la Inteligencia Artificial: las \\nempresas están adoptando rápidamente tecnologías basadas \\nen la nube. Gracias a ello, podrán agregar, transformar de \\nmanera inteligente y presentar contextualmente datos de \\nproductos y procesos de las líneas de fabricación. Para 2025, \\neste flujo ubicuo de datos y los algoritmos \\ninteligentes  permitirán que las líneas de fabricación se'"
      ]
     },
     "execution_count": 22,
     "metadata": {},
     "output_type": "execute_result"
    }
   ],
   "source": [
    "contenido_pdf"
   ]
  },
  {
   "cell_type": "code",
   "execution_count": 23,
   "id": "752e698e",
   "metadata": {},
   "outputs": [],
   "source": [
    "human_template = '\"Necesito que hagas un resumen del siguiente texto: \\n{contenido}\"'\n",
    "human_prompt = HumanMessagePromptTemplate.from_template(human_template)"
   ]
  },
  {
   "cell_type": "code",
   "execution_count": 24,
   "id": "c65cb8f9",
   "metadata": {},
   "outputs": [
    {
     "data": {
      "text/plain": [
       "ChatPromptValue(messages=[HumanMessage(content='\"Necesito que hagas un resumen del siguiente texto: \\nEstas son las 9 tecnologías \\nemergentes para el próximo \\n2025 \\n  \\n“Que la tecnología ha cambiado nuestra manera de vivir e interactuar \\nes un hecho. Sin embargo, aún no somos conscientes de las \\npotencialidades de usos de las tecnologías.Por ejemplo, para el año \\n2025 se espera una verdadera revolución tecnológica, sobre todo \\nenfocado en el sector bio-médico pero también en las relaciones \\nhumanas entre individuos a distancia, en la protección del medio \\nambiente o en la protección de nuestros datos personales”, afirma \\nJuan Quintanilla, director general de Syntonize. \\n9 Tecnologías emergentes según Syntonize \\nLa aplicación de nuevas tecnologías que hagan más fácil la vida a \\nprofesionales, estudiantes, mayores, empresas o instituciones \\npúblicas se espera que aumente en los próximos años. Entre ellas se \\nencuentran; \\n\\uf0b7 Producción optimizada por la Inteligencia Artificial: las \\nempresas están adoptando rápidamente tecnologías basadas \\nen la nube. Gracias a ello, podrán agregar, transformar de \\nmanera inteligente y presentar contextualmente datos de \\nproductos y procesos de las líneas de fabricación. Para 2025, \\neste flujo ubicuo de datos y los algoritmos \\ninteligentes  permitirán que las líneas de fabricación se\"', additional_kwargs={}, response_metadata={})])"
      ]
     },
     "execution_count": 24,
     "metadata": {},
     "output_type": "execute_result"
    }
   ],
   "source": [
    "chat_prompt = ChatPromptTemplate.from_messages([human_prompt])\n",
    "\n",
    "chat_prompt.format_prompt(contenido=contenido_pdf)"
   ]
  },
  {
   "cell_type": "code",
   "execution_count": 25,
   "id": "f6f8bc30",
   "metadata": {},
   "outputs": [],
   "source": [
    "solicitud_completa = chat_prompt.format_prompt(contenido=contenido_pdf).to_messages()"
   ]
  },
  {
   "cell_type": "code",
   "execution_count": 26,
   "id": "2cd6170d",
   "metadata": {},
   "outputs": [],
   "source": [
    "result = chat.invoke(solicitud_completa)"
   ]
  },
  {
   "cell_type": "code",
   "execution_count": 27,
   "id": "20dba896",
   "metadata": {},
   "outputs": [
    {
     "data": {
      "text/plain": [
       "'En el texto se menciona que se espera una revolución tecnológica para el año 2025, especialmente en el sector bio-médico y en las relaciones humanas a distancia, medio ambiente y protección de datos personales. El director general de Syntonize destaca que las tecnologías emergentes harán más fácil la vida de profesionales, estudiantes, mayores, empresas e instituciones públicas.\\n\\nEn el artículo se describen 9 tecnologías emergentes según Syntonize, entre las cuales se encuentra la producción optimizada por la Inteligencia Artificial. Se menciona que las empresas están adoptando tecnologías basadas en la nube para agregar, transformar y presentar inteligentemente datos de productos y procesos de fabricación. Se espera que para el año 2025, los avances en el flujo de datos y algoritmos inteligentes permitan la optimización de las líneas de fabricación.'"
      ]
     },
     "execution_count": 27,
     "metadata": {},
     "output_type": "execute_result"
    }
   ],
   "source": [
    "result.content"
   ]
  },
  {
   "cell_type": "code",
   "execution_count": 28,
   "id": "a57f2c41",
   "metadata": {},
   "outputs": [
    {
     "name": "stdout",
     "output_type": "stream",
     "text": [
      "Estas son las 9 tecnologías \n",
      "emergentes para el próximo \n",
      "2025 \n",
      "  \n",
      "“Que la tecnología ha cambiado nuestra manera de vivir e interactuar \n",
      "es un hecho. Sin embargo, aún no somos conscientes de las \n",
      "potencialidades de usos de las tecnologías.Por ejemplo, para el año \n",
      "2025 se espera una verdadera revolución tecnológica, sobre todo \n",
      "enfocado en el sector bio-médico pero también en las relaciones \n",
      "humanas entre individuos a distancia, en la protección del medio \n",
      "ambiente o en la protección de nuestros datos personales”, afirma \n",
      "Juan Quintanilla, director general de Syntonize. \n",
      "9 Tecnologías emergentes según Syntonize \n",
      "La aplicación de nuevas tecnologías que hagan más fácil la vida a \n",
      "profesionales, estudiantes, mayores, empresas o instituciones \n",
      "públicas se espera que aumente en los próximos años. Entre ellas se \n",
      "encuentran; \n",
      " Producción optimizada por la Inteligencia Artificial: las \n",
      "empresas están adoptando rápidamente tecnologías basadas \n",
      "en la nube. Gracias a ello, podrán agregar, transformar de \n",
      "manera inteligente y presentar contextualmente datos de \n",
      "productos y procesos de las líneas de fabricación. Para 2025, \n",
      "este flujo ubicuo de datos y los algoritmos \n",
      "inteligentes  permitirán que las líneas de fabricación seoptimicen continuamente. Así se podrá reducir el desperdicio \n",
      "total en la fabricación hasta en un 50%. Como resultado, \n",
      "disfrutaremos de productos de mayor calidad, producidos \n",
      "más rápido y a menor coste para nuestros bolsillos y el \n",
      "medio ambiente. \n",
      " Energías renovables de largo alcance: en 2025, la huella \n",
      "de carbono se considerará socialmente inaceptable. La \n",
      "pandemia ha centrado la atención en la necesidad de tomar \n",
      "medidas para las amenazas a nuestra forma de vida, nuestra \n",
      "salud y nuestro futuro. Por ello, las personas, las empresas y \n",
      "los países buscarán las formas más rápidas y asequibles para \n",
      "lograr cero neto de emisiones. Además, surgirá una industria \n",
      "masiva de gestión del carbono para capturar, utilizar y \n",
      "eliminar el dióxido de carbono, desencadenando una ola de \n",
      "innovación comparable con las revoluciones industriales y \n",
      "digitales del pasado. \n",
      " Los ordenadores cuánticos: aterrizarán oficialmente en el \n",
      "mercado, a través de ellos podremos abordar problemas \n",
      "muchos más complejos, como reacciones químicas \n",
      "complejas, que facilitarán la investigación y la aplicación \n",
      "médica. Los cálculos cuánticos ayudaran al diseño de \n",
      "materiales con propiedades nunca antes pensadas. \n",
      " Prevención sanitaria a través de la comida: los sistemas \n",
      "de atención médica adoptarán en 2025 enfoques de salud \n",
      "más preventivos basados, principalmente, en la ciencia \n",
      "detrás de los beneficios para la salud de las dietas ricas en \n",
      "nutrientes vegetales. Esta tendencia estará habilitada por \n",
      "tecnologías basadas en IA mediante la biología de sistemas.La aplicación de nuevas tecnologías \n",
      "que hagan más fácil la vida a \n",
      "profesionales, estudiantes, mayores, \n",
      "empresas o instituciones públicas se \n",
      "espera que aumente en los próximos \n",
      "años \n",
      " El 5G mejorará la economía global y salvará vidas: el \n",
      "confinamiento ha provocado un crecimiento muy importante \n",
      "en el uso de la videoconferencia por parte de empresas y \n",
      "centros educativos, especialmente a través de redes de baja \n",
      "calidad. Las redes 5G de baja latencia resolverían esta falta \n",
      "de confiabilidad de red e incluso permitirían más servicios de \n",
      "alta capacidad, como telesalud, telecirugía o servicios de \n",
      "emergencia. \n",
      " Nueva normalidad frente al cáncer: la tecnología impulsa \n",
      "los datos, los datos catalizan el conocimiento y el \n",
      "conocimiento permite el empoderamiento. En el futuro más \n",
      "cercano, el cáncer se manejará como cualquier afección de \n",
      "salud crónica. Podremos identificar con precisión a lo que nos \n",
      "podemos enfrentar y estar capacitados para superarlo. De la \n",
      "misma manera, viviremos una revolución en el tratamiento \n",
      "impulsado por la tecnología. \n",
      " Ruptura de la barrera virtual-real: en los próximos años, \n",
      "podremos ver que este progreso se acelere, con tecnologías \n",
      "de inteligencia artificial creadas para conectar a las personas \n",
      "a nivel humano y acercarlas entre sí, incluso cuando estánfísicamente separadas. La línea entre el espacio físico y lo \n",
      "virtual se borrará para siempre. \n",
      " Remitir el cambio climático: una ampliación de las \n",
      "tecnologías de emisión negativa, como la eliminación de \n",
      "dióxido de carbono, eliminará del aire las cantidades de CO2 \n",
      "relevantes para el clima. Esto será necesario para limitar el \n",
      "calentamiento global a 1,5° C. Si bien la humanidad hará \n",
      "todo lo posible por dejar de emitir más carbono a la \n",
      "atmósfera, también hará todo lo posible para eliminar el CO2 \n",
      "histórico del aire de forma permanente. \n",
      " Comprender los secretos microscópicos ocultos en las \n",
      "superficies: la tecnología que acelera nuestra capacidad de \n",
      "muestrear, digitalizar e interpretar rápidamente los datos de \n",
      "los microbiomas transformará nuestra comprensión de cómo \n",
      "se propagan los patógenos. \n",
      " La privacidad estará generalizada y priorizada: la \n",
      "capacidad de los consumidores para proteger y controlar los \n",
      "activos de datos confidenciales se considerará como la regla \n",
      "y no como la excepción. Las tecnologías de mejora de la \n",
      "privacidad supondrán una categoría tecnológica propia y se \n",
      "convertirán en un elemento fundamental de las estrategias \n",
      "de privacidad y seguridad de la empresa.\n"
     ]
    }
   ],
   "source": [
    "#Resumir el documento completo\n",
    "#Creamos una string concatenando el contenido de todas las páginas\n",
    "documento_completo = \"\"\n",
    "for page in pages:\n",
    "    documento_completo += page.page_content  # Supongamos que cada página tiene un atributo 'text'\n",
    "\n",
    "print(documento_completo)"
   ]
  },
  {
   "cell_type": "code",
   "execution_count": 29,
   "id": "40fb7e06",
   "metadata": {},
   "outputs": [],
   "source": [
    "solicitud_completa = chat_prompt.format_prompt(contenido=documento_completo).to_messages()"
   ]
  },
  {
   "cell_type": "code",
   "execution_count": 30,
   "id": "f2a377c9",
   "metadata": {},
   "outputs": [],
   "source": [
    "result = chat.invoke(solicitud_completa)"
   ]
  },
  {
   "cell_type": "code",
   "execution_count": 31,
   "id": "54fd8bed",
   "metadata": {},
   "outputs": [
    {
     "data": {
      "text/plain": [
       "'El texto menciona las 9 tecnologías emergentes para el año 2025 según Syntonize. Entre ellas se encuentra la producción optimizada por la inteligencia artificial, energías renovables de largo alcance, ordenadores cuánticos, prevención sanitaria a través de la comida, el 5G, la nueva normalidad frente al cáncer, la ruptura de la barrera virtual-real, el control del cambio climático, la comprensión de los secretos microscópicos en las superficies y la generalización y priorización de la privacidad. Estas tecnologías se enfocan en la mejora de la vida de profesionales, estudiantes, mayores, empresas e instituciones públicas, y se espera que tengan un impacto significativo en diferentes áreas como la salud, el medio ambiente, la comunicación y la seguridad.'"
      ]
     },
     "execution_count": 31,
     "metadata": {},
     "output_type": "execute_result"
    }
   ],
   "source": [
    "result.content"
   ]
  }
 ],
 "metadata": {
  "kernelspec": {
   "display_name": "ia_gpu312",
   "language": "python",
   "name": "python3"
  },
  "language_info": {
   "codemirror_mode": {
    "name": "ipython",
    "version": 3
   },
   "file_extension": ".py",
   "mimetype": "text/x-python",
   "name": "python",
   "nbconvert_exporter": "python",
   "pygments_lexer": "ipython3",
   "version": "3.12.8"
  }
 },
 "nbformat": 4,
 "nbformat_minor": 5
}

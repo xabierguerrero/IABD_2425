{
 "cells": [
  {
   "cell_type": "markdown",
   "id": "bcded1a6-2430-4707-a78c-c82f4c5ee6fc",
   "metadata": {},
   "source": [
    "<em style=\"text-align:center\">Copyright Iván Pinar Domínguez</em>"
   ]
  },
  {
   "cell_type": "markdown",
   "id": "728f1747-b8fc-4d31-96c2-047fc83c079d",
   "metadata": {},
   "source": [
    "#  Carga del fichero"
   ]
  },
  {
   "cell_type": "code",
   "execution_count": 14,
   "id": "fbc42d0e-f2c4-4a31-ab3f-dc38ef6b8fe4",
   "metadata": {},
   "outputs": [],
   "source": [
    "with open('Fuentes datos/Historia España.txt', encoding=\"utf8\") as file:\n",
    "    texto_completo = file.read()"
   ]
  },
  {
   "cell_type": "code",
   "execution_count": 15,
   "id": "ec14194a-c4ca-43c0-bb97-f8e0b514b30c",
   "metadata": {},
   "outputs": [
    {
     "data": {
      "text/plain": [
       "85369"
      ]
     },
     "execution_count": 15,
     "metadata": {},
     "output_type": "execute_result"
    }
   ],
   "source": [
    "# Números de caracteres\n",
    "len(texto_completo)"
   ]
  },
  {
   "cell_type": "code",
   "execution_count": 16,
   "id": "9c45c0e1-41b6-459a-83bb-1a81f851b07f",
   "metadata": {},
   "outputs": [
    {
     "data": {
      "text/plain": [
       "13701"
      ]
     },
     "execution_count": 16,
     "metadata": {},
     "output_type": "execute_result"
    }
   ],
   "source": [
    "# Número de palabras\n",
    "len(texto_completo.split())"
   ]
  },
  {
   "cell_type": "markdown",
   "id": "a039fd59-92f9-41f0-808e-04edf5d207e0",
   "metadata": {},
   "source": [
    "## Transformador \"Character Text Splitter\""
   ]
  },
  {
   "cell_type": "code",
   "execution_count": 12,
   "id": "1fe8da09-e689-4dcc-9a7d-83a1c9bd37b1",
   "metadata": {},
   "outputs": [],
   "source": [
    "from langchain.text_splitter import CharacterTextSplitter"
   ]
  },
  {
   "cell_type": "code",
   "execution_count": 23,
   "id": "2115b341-b681-4aca-963e-e4fbd0ea1966",
   "metadata": {},
   "outputs": [],
   "source": [
    "text_splitter = CharacterTextSplitter(separator=\"\\n\",chunk_size=1000) #Indicamos que divida cuando se encuentra 1 salto de línea y trate de hacer fragmentos de 1000 caracteres"
   ]
  },
  {
   "cell_type": "code",
   "execution_count": 30,
   "id": "be91bcce-f209-452c-988c-574d80d3ee97",
   "metadata": {},
   "outputs": [],
   "source": [
    "texts = text_splitter.create_documents([texto_completo]) #Creamos documentos gracias al transformador"
   ]
  },
  {
   "cell_type": "code",
   "execution_count": 25,
   "id": "10cc0112",
   "metadata": {},
   "outputs": [
    {
     "name": "stdout",
     "output_type": "stream",
     "text": [
      "<class 'list'>\n",
      "\n",
      "\n",
      "<class 'langchain_core.documents.base.Document'>\n",
      "\n",
      "\n",
      "page_content='Los primeros homínidos llegaron al territorio de la actual España hace 1,2 millones de años aproximadamente. Se sucedieron varias especies, como Homo antecessor, los preneandertales de la Sima de los Huesos (identificados en un principio como Homo heidelbergensis) y los neandertales (Homo neanderthalensis), hasta que hace unos 35 000 años los humanos modernos (Homo sapiens) entraron en la península ibérica y fueron desplazando a estos últimos, con los que aún coexistirían durante cerca de 10 000 años. Hace unos 27 000 años se extinguieron las últimas poblaciones neandertales en el sur. Durante los milenios siguientes el territorio fue lugar del asentamiento de pueblos íberos, celtas, fenicios, cartagineses, tartessos y griegos y hacia el 200 a. C. la península comenzó a formar parte de la República romana, constituyendo la Hispania romana. Tras la caída de Roma, se estableció el reino visigodo. Dicha monarquía visigótica se inició en el siglo v y se mantuvo hasta comienzos del siglo viii. En el año 711 se produjo la primera conquista musulmana desde el Norte de África en pocos años el islam dominaba gran parte de la península ibérica. Durante los 750 años siguientes, el reino dominado por musulmanes sería conocido como al-Ándalus, y mientras que gran parte del resto de Europa permanecía en los años oscuros, Al-Ándalus experimentaba un esplendoroso florecimiento multicultural, científico y artístico.1​'\n"
     ]
    }
   ],
   "source": [
    "print(type(texts)) #Verificamos el tipo del objeto obtenido\n",
    "print('\\n')\n",
    "print(type(texts[0])) #Verificamos el tipo de cada elemento\n",
    "print('\\n')\n",
    "print(texts[0])"
   ]
  },
  {
   "cell_type": "code",
   "execution_count": 26,
   "id": "e369cef2-a050-4711-8085-5c13fd544162",
   "metadata": {},
   "outputs": [
    {
     "data": {
      "text/plain": [
       "1424"
      ]
     },
     "execution_count": 26,
     "metadata": {},
     "output_type": "execute_result"
    }
   ],
   "source": [
    "len(texts[0].page_content)"
   ]
  },
  {
   "cell_type": "code",
   "execution_count": 27,
   "id": "d05c791e-8d39-402a-9cbb-db43b4c3b293",
   "metadata": {},
   "outputs": [
    {
     "data": {
      "text/plain": [
       "Document(page_content='De modo paulatino, se produjo la Reconquista, y los reinos cristianos arrebataron progresivamente el territorio a los musulmanes. Comenzada aproximadamente en 722 con la rebelión de Don Pelayo y partiendo desde el norte, avanzó durante los siglos viii a xv culminando con la conquista de Granada en 1492. Durante este periodo los reinos cristianos se desarrollaron notablemente; la unión de los dos más importantes, Castilla y Aragón, por el matrimonio en 1469 de los Reyes Católicos, Isabel I de Castilla y Fernando II de Aragón, posibilitaría la unificación de España y el fin de la Reconquista.2\\u200b3\\u200b4\\u200b5\\u200b')"
      ]
     },
     "execution_count": 27,
     "metadata": {},
     "output_type": "execute_result"
    }
   ],
   "source": [
    "texts[1]"
   ]
  },
  {
   "cell_type": "code",
   "execution_count": 28,
   "id": "7f63abfa-02d9-4290-81b7-45318df9ec9d",
   "metadata": {},
   "outputs": [
    {
     "data": {
      "text/plain": [
       "605"
      ]
     },
     "execution_count": 28,
     "metadata": {},
     "output_type": "execute_result"
    }
   ],
   "source": [
    "len(texts[1].page_content)"
   ]
  }
 ],
 "metadata": {
  "kernelspec": {
   "display_name": "Python 3 (ipykernel)",
   "language": "python",
   "name": "python3"
  },
  "language_info": {
   "codemirror_mode": {
    "name": "ipython",
    "version": 3
   },
   "file_extension": ".py",
   "mimetype": "text/x-python",
   "name": "python",
   "nbconvert_exporter": "python",
   "pygments_lexer": "ipython3",
   "version": "3.11.5"
  }
 },
 "nbformat": 4,
 "nbformat_minor": 5
}

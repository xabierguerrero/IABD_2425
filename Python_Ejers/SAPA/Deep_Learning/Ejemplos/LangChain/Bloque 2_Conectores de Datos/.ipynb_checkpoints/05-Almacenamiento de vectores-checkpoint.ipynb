{
 "cells": [
  {
   "cell_type": "markdown",
   "id": "9454b5e9",
   "metadata": {},
   "source": [
    "<em style=\"text-align:center\">Copyright Iván Pinar Domínguez</em>"
   ]
  },
  {
   "cell_type": "markdown",
   "id": "b2226d6c",
   "metadata": {},
   "source": [
    "## Importar librerías"
   ]
  },
  {
   "cell_type": "code",
   "execution_count": 107,
   "id": "a70b55e1-6114-4aa1-a1fc-2ab64786f16e",
   "metadata": {},
   "outputs": [],
   "source": [
    "from langchain_openai import OpenAIEmbeddings\n",
    "from langchain.text_splitter import CharacterTextSplitter\n",
    "from langchain.document_loaders import TextLoader"
   ]
  },
  {
   "cell_type": "markdown",
   "id": "1dc95052-e09a-471e-b1d0-e02e7d50d424",
   "metadata": {},
   "source": [
    "### Carga de documento y split"
   ]
  },
  {
   "cell_type": "code",
   "execution_count": 96,
   "id": "fbe6aef4-ba05-4fb0-9a91-cd90620668f2",
   "metadata": {},
   "outputs": [],
   "source": [
    "# Cargar el documento\n",
    "loader = TextLoader('Fuentes datos/Historia España.txt', encoding=\"utf8\")\n",
    "documents = loader.load()"
   ]
  },
  {
   "cell_type": "code",
   "execution_count": 97,
   "id": "c4e3ba7e-1a7b-4815-adf5-d1f76e551079",
   "metadata": {},
   "outputs": [
    {
     "name": "stderr",
     "output_type": "stream",
     "text": [
      "Created a chunk of size 506, which is longer than the specified 500\n",
      "Created a chunk of size 1009, which is longer than the specified 500\n",
      "Created a chunk of size 2228, which is longer than the specified 500\n"
     ]
    }
   ],
   "source": [
    "# Dividir en chunks\n",
    "text_splitter = CharacterTextSplitter.from_tiktoken_encoder(chunk_size=500) #Otro método de split basándose en tokens\n",
    "docs = text_splitter.split_documents(documents)"
   ]
  },
  {
   "cell_type": "markdown",
   "id": "76bc3ca2-2b7a-4997-b419-a8c43435c47b",
   "metadata": {},
   "source": [
    "### Conectar a OpenAI para los embeddings"
   ]
  },
  {
   "cell_type": "code",
   "execution_count": 108,
   "id": "2a0c2ab4-a7d0-4494-a391-1277e68ab87f",
   "metadata": {},
   "outputs": [],
   "source": [
    "f = open('../OpenAI_key.txt')\n",
    "api_key = f.read()"
   ]
  },
  {
   "cell_type": "code",
   "execution_count": 109,
   "id": "4b65454a-caf0-45b0-a7de-ff6b7157b935",
   "metadata": {},
   "outputs": [],
   "source": [
    "funcion_embedding = OpenAIEmbeddings(openai_api_key=api_key)"
   ]
  },
  {
   "cell_type": "markdown",
   "id": "5469e0cc",
   "metadata": {},
   "source": [
    "# Alternativa con SKLearn Vector Store"
   ]
  },
  {
   "cell_type": "code",
   "execution_count": 100,
   "id": "3d6f847d",
   "metadata": {},
   "outputs": [],
   "source": [
    "from langchain_community.vectorstores import SKLearnVectorStore #pip install scikit-learn / pip install pandas pyarrow"
   ]
  },
  {
   "cell_type": "code",
   "execution_count": 101,
   "id": "1e2af397",
   "metadata": {},
   "outputs": [],
   "source": [
    "persist_path=\"./ejemplosk_embedding_db\"  #ruta donde se guardará la BBDD vectorizada\n",
    "\n",
    "#Creamos la BBDD de vectores a partir de los documentos y la función embeddings\n",
    "vector_store = SKLearnVectorStore.from_documents(\n",
    "    documents=docs,\n",
    "    embedding=funcion_embedding,\n",
    "    persist_path=persist_path,\n",
    "    serializer=\"parquet\", #el serializador o formato de la BD lo definimos como parquet\n",
    ")"
   ]
  },
  {
   "cell_type": "code",
   "execution_count": 102,
   "id": "3a9d320e",
   "metadata": {},
   "outputs": [],
   "source": [
    "# Fuerza a guardar los nuevos embeddings en el disco\n",
    "vector_store.persist()"
   ]
  },
  {
   "cell_type": "code",
   "execution_count": 103,
   "id": "d1f243b1",
   "metadata": {},
   "outputs": [
    {
     "name": "stdout",
     "output_type": "stream",
     "text": [
      "Primera Guerra Mundial\n",
      "Artículos principales: España en la Primera Guerra Mundial y Economía de España durante la Primera Guerra Mundial.\n",
      "La neutralidad de España en la Primera Guerra Mundial le permitió convertirse en un proveedor de material para los contendientes, lo que provocó una burbuja económica durante los años de la contienda. La Guerra del Rif, el brote de la gripe de 1918 en España y en otros lugares, junto con una desaceleración económica importante en el período de posguerra, llegó a España particularmente difícil, y el país entró en crisis. Como intento por superar dicha situación, el rey Alfonso XIII decidió apoyar a la dictadura del general Miguel Primo de Rivera.\n",
      "\n",
      "Crisis de la Restauración\n",
      "Artículos principales: Crisis de la Restauración, Crisis española de 1917 y Trienio Bolchevique.\n",
      "A partir de 1917, se constata una descomposición interna del régimen político canovista de la restauración, caracterizado por la atomización en bandos personalista de los partidos políticos, el alza de los movimientos subversivos desde las juntas militares, el pistolerismo a sueldo y los comités revolucionarios y por último el descontento generalizado de la población.80​\n"
     ]
    }
   ],
   "source": [
    "#Creamos un nuevo documento que será nuestra \"consulta\" para buscar el de mayor similitud en nuestra Base de Datos de Vectores y devolverlo\n",
    "consulta = \"dame información de la Primera Guerra Mundial\"\n",
    "docs = vector_store.similarity_search(consulta)\n",
    "print(docs[0].page_content)"
   ]
  },
  {
   "cell_type": "markdown",
   "id": "0683bf6e",
   "metadata": {},
   "source": [
    "## Cargar la BD de vectores (uso posterior una vez tenemos creada ya la BD)"
   ]
  },
  {
   "cell_type": "code",
   "execution_count": 110,
   "id": "95b0c206",
   "metadata": {},
   "outputs": [
    {
     "name": "stdout",
     "output_type": "stream",
     "text": [
      "Una instancia de la BBDD de vectores se ha cargado desde  ./ejemplosk_embedding_db\n"
     ]
    }
   ],
   "source": [
    "vector_store_connection = SKLearnVectorStore(\n",
    "    embedding=funcion_embedding, persist_path=persist_path, serializer=\"parquet\"\n",
    ")\n",
    "print(\"Una instancia de la BBDD de vectores se ha cargado desde \", persist_path)"
   ]
  },
  {
   "cell_type": "code",
   "execution_count": 111,
   "id": "d383db77",
   "metadata": {},
   "outputs": [
    {
     "data": {
      "text/plain": [
       "<langchain_community.vectorstores.sklearn.SKLearnVectorStore at 0x15ca1cc7910>"
      ]
     },
     "execution_count": 111,
     "metadata": {},
     "output_type": "execute_result"
    }
   ],
   "source": [
    "vector_store_connection"
   ]
  },
  {
   "cell_type": "code",
   "execution_count": 116,
   "id": "2b8d18a5",
   "metadata": {},
   "outputs": [],
   "source": [
    "nueva_consulta = \"¿Qué paso en el siglo de Oro?\""
   ]
  },
  {
   "cell_type": "code",
   "execution_count": 117,
   "id": "c00f2c04",
   "metadata": {},
   "outputs": [
    {
     "name": "stdout",
     "output_type": "stream",
     "text": [
      "El área de influencia de España se expandió, constituyéndose en la mayor potencia económica del mundo durante el siglo xvi, el comercio floreció a través del Atlántico entre la península ibérica y las Américas, y en el Pacífico desde Asia del Este y las Filipinas hasta México, y en el aspecto militar, durante varios siglos el Imperio español dominaría los mares y océanos con la armada y los campos de batallas con la infantería de los tercios. Aunque a partir del siglo xvii su poder e influencia en el centro de Europa e Italia se vio ampliamente contestado.\n",
      "\n",
      "Durante su apogeo económico, el imperio tuvo gran prestigio cultural e influencia militar. Muchas cosas que provenían de España eran a menudo imitadas. Las expresiones artísticas más cultivadas en España fueron la literatura, las artes plásticas, la música y la arquitectura, mientras el saber se acumulaba y se enseñaba desde prestigiosas universidades como las de Salamanca o Alcalá de Henares. Sin embargo, a diferencia de lo que pasó en otros países de Europa la ciencia no tuvo un resurgir tan vigoroso.\n",
      "\n",
      "Siglo de Oro\n",
      "Artículo principal: Siglo de Oro\n",
      "\n",
      "Miguel de Cervantes Saavedra\n",
      "El Siglo de Oro español fue un período floreciente en las artes y las letras hispanas que abarca cronológicamente desde la publicación de la Gramática castellana de Nebrija en 1492 hasta la muerte de Calderón en 1681.\n"
     ]
    }
   ],
   "source": [
    "docs = vector_store_connection.similarity_search(nueva_consulta)\n",
    "print(docs[0].page_content)"
   ]
  },
  {
   "cell_type": "code",
   "execution_count": null,
   "id": "fdc3e151",
   "metadata": {},
   "outputs": [],
   "source": []
  },
  {
   "cell_type": "markdown",
   "id": "a8c3d018-dbcc-49d5-9370-f8604cb45d47",
   "metadata": {},
   "source": [
    "# Alternativa con ChromaDB"
   ]
  },
  {
   "cell_type": "code",
   "execution_count": null,
   "id": "ac8c2862",
   "metadata": {},
   "outputs": [],
   "source": [
    "import chromadb #pip install chromadb en una terminal\n",
    "from langchain_chroma import Chroma #pip install langchain_chroma en una terminal"
   ]
  },
  {
   "cell_type": "code",
   "execution_count": 45,
   "id": "e736fb25-b130-42f9-823f-31869a61ce80",
   "metadata": {},
   "outputs": [],
   "source": [
    "# Cargar en ChromaDB\n",
    "#db = Chroma.from_documents(docs, funcion_embedding,collection_name=\"langchain\",persist_directory='./ejemplo_embedding_db')\n",
    "#Se crean en el directorio persistente la carpeta con los vectores y otra con las string, aparte de una carpeta \"index\" que mapea vectores y strings"
   ]
  },
  {
   "cell_type": "code",
   "execution_count": 39,
   "id": "68444e8c-655b-4575-abe2-249836023dcf",
   "metadata": {},
   "outputs": [],
   "source": [
    "# Fuerzar a guardar los nuevos embeddings en el disco\n",
    "db.persist()"
   ]
  },
  {
   "cell_type": "markdown",
   "id": "40421824-0ec2-44cb-811c-e0bc2454ab89",
   "metadata": {},
   "source": [
    "### Cargar los Embeddings desde el disco creando la conexión a ChromaDB"
   ]
  },
  {
   "cell_type": "code",
   "execution_count": 54,
   "id": "5e597743-c036-4c35-8dbf-4b09e76a29cc",
   "metadata": {},
   "outputs": [],
   "source": [
    "db_connection = Chroma(persist_directory='./ejemplo_embedding_db/',embedding_function=funcion_embedding)"
   ]
  },
  {
   "cell_type": "code",
   "execution_count": 55,
   "id": "e11f628e-8803-433f-a5c1-f2493b6e5751",
   "metadata": {},
   "outputs": [],
   "source": [
    "#Creamos un nuevo documento para buscar el de mayor similitud en nuestra Base de Datos de Vectores y devolverlo\n",
    "nuevo_documento = \"What did FDR say about the cost of food law?\""
   ]
  },
  {
   "cell_type": "code",
   "execution_count": 56,
   "id": "4552c712-306b-4676-ad32-a878c39822aa",
   "metadata": {},
   "outputs": [],
   "source": [
    "docs = db_connection.similarity_search(nuevo_documento)"
   ]
  },
  {
   "cell_type": "code",
   "execution_count": 43,
   "id": "4ab97ee2-48a1-4c74-bf2e-ad124295f57a",
   "metadata": {},
   "outputs": [],
   "source": [
    "#print(docs[0].page_content) #El primer elemento es el de mayor similitud, por defecto se devuelven hasta 4 vectores (k=4)"
   ]
  },
  {
   "cell_type": "markdown",
   "id": "24991e4f-c182-477d-9358-71a3eb071f6c",
   "metadata": {},
   "source": [
    "## Añadir nueva información a la BD de vectores"
   ]
  },
  {
   "cell_type": "code",
   "execution_count": 44,
   "id": "3e943536-619c-4296-83ff-2ed0f7fe42a8",
   "metadata": {},
   "outputs": [],
   "source": [
    "# Cargar documento y dividirlo\n",
    "loader = TextLoader('Fuentes datos/Nuevo_documento.txt', encoding=\"utf8\")\n",
    "documents = loader.load()"
   ]
  },
  {
   "cell_type": "code",
   "execution_count": 45,
   "id": "f7dd469f-e25e-475a-8726-6e4b40f83b05",
   "metadata": {},
   "outputs": [
    {
     "name": "stderr",
     "output_type": "stream",
     "text": [
      "Created a chunk of size 611, which is longer than the specified 500\n",
      "Created a chunk of size 539, which is longer than the specified 500\n",
      "Created a chunk of size 686, which is longer than the specified 500\n"
     ]
    }
   ],
   "source": [
    "text_splitter = CharacterTextSplitter.from_tiktoken_encoder(chunk_size=500)\n",
    "docs = text_splitter.split_documents(documents)"
   ]
  },
  {
   "cell_type": "code",
   "execution_count": 47,
   "id": "2a68b70a-c6b5-4eb9-a460-6ea244a9cb66",
   "metadata": {},
   "outputs": [],
   "source": [
    "# Cargar en Chroma\n",
    "db = Chroma.from_documents(docs, embedding_function,persist_directory='./ejemplo_embedding_db')"
   ]
  },
  {
   "cell_type": "code",
   "execution_count": 48,
   "id": "35b9a34c-30b5-4ac7-928b-88b93406ca46",
   "metadata": {},
   "outputs": [],
   "source": [
    "docs = db.similarity_search('insertar_nueva_búsqueda')"
   ]
  },
  {
   "cell_type": "code",
   "execution_count": 44,
   "id": "30799f4b-1502-4fe7-953e-c0dcfd5dc2c1",
   "metadata": {},
   "outputs": [],
   "source": [
    "#docs[0].page_content"
   ]
  },
  {
   "cell_type": "code",
   "execution_count": null,
   "id": "44667094",
   "metadata": {},
   "outputs": [],
   "source": []
  },
  {
   "cell_type": "code",
   "execution_count": null,
   "id": "ddbbf519",
   "metadata": {},
   "outputs": [],
   "source": []
  }
 ],
 "metadata": {
  "kernelspec": {
   "display_name": "Python 3 (ipykernel)",
   "language": "python",
   "name": "python3"
  },
  "language_info": {
   "codemirror_mode": {
    "name": "ipython",
    "version": 3
   },
   "file_extension": ".py",
   "mimetype": "text/x-python",
   "name": "python",
   "nbconvert_exporter": "python",
   "pygments_lexer": "ipython3",
   "version": "3.11.5"
  }
 },
 "nbformat": 4,
 "nbformat_minor": 5
}

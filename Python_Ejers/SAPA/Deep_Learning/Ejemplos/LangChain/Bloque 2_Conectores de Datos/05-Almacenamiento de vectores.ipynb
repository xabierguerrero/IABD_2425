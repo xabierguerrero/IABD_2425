{
 "cells": [
  {
   "cell_type": "markdown",
   "id": "b2226d6c",
   "metadata": {},
   "source": [
    "## Importar librerías"
   ]
  },
  {
   "cell_type": "code",
   "execution_count": 1,
   "id": "a70b55e1-6114-4aa1-a1fc-2ab64786f16e",
   "metadata": {},
   "outputs": [],
   "source": [
    "from langchain_openai import OpenAIEmbeddings\n",
    "from langchain.text_splitter import CharacterTextSplitter\n",
    "from langchain.document_loaders import TextLoader"
   ]
  },
  {
   "cell_type": "markdown",
   "id": "1dc95052-e09a-471e-b1d0-e02e7d50d424",
   "metadata": {},
   "source": [
    "### Carga de documento y split"
   ]
  },
  {
   "cell_type": "code",
   "execution_count": 2,
   "id": "fbe6aef4-ba05-4fb0-9a91-cd90620668f2",
   "metadata": {},
   "outputs": [],
   "source": [
    "# Cargar el documento\n",
    "loader = TextLoader('Fuentes datos/Historia España.txt', encoding=\"utf8\")\n",
    "documents = loader.load()"
   ]
  },
  {
   "cell_type": "code",
   "execution_count": 3,
   "id": "c4e3ba7e-1a7b-4815-adf5-d1f76e551079",
   "metadata": {},
   "outputs": [
    {
     "name": "stderr",
     "output_type": "stream",
     "text": [
      "Created a chunk of size 506, which is longer than the specified 500\n",
      "Created a chunk of size 1009, which is longer than the specified 500\n",
      "Created a chunk of size 2228, which is longer than the specified 500\n"
     ]
    }
   ],
   "source": [
    "# Dividir en chunks\n",
    "text_splitter = CharacterTextSplitter.from_tiktoken_encoder(chunk_size=500) #Otro método de split basándose en tokens\n",
    "docs = text_splitter.split_documents(documents)"
   ]
  },
  {
   "cell_type": "markdown",
   "id": "76bc3ca2-2b7a-4997-b419-a8c43435c47b",
   "metadata": {},
   "source": [
    "### Conectar a OpenAI para los embeddings"
   ]
  },
  {
   "cell_type": "code",
   "execution_count": 4,
   "id": "2a0c2ab4-a7d0-4494-a391-1277e68ab87f",
   "metadata": {},
   "outputs": [],
   "source": [
    "f = open('/home/iabd/clave_gpt.txt')\n",
    "api_key = f.read().strip()"
   ]
  },
  {
   "cell_type": "code",
   "execution_count": 5,
   "id": "4b65454a-caf0-45b0-a7de-ff6b7157b935",
   "metadata": {},
   "outputs": [],
   "source": [
    "funcion_embedding = OpenAIEmbeddings(openai_api_key=api_key)"
   ]
  },
  {
   "cell_type": "markdown",
   "id": "5469e0cc",
   "metadata": {},
   "source": [
    "# Alternativa con SKLearn Vector Store"
   ]
  },
  {
   "cell_type": "code",
   "execution_count": 6,
   "id": "3d6f847d",
   "metadata": {},
   "outputs": [],
   "source": [
    "from langchain_community.vectorstores import SKLearnVectorStore #pip install scikit-learn / pip install pandas pyarrow"
   ]
  },
  {
   "cell_type": "code",
   "execution_count": 7,
   "id": "1e2af397",
   "metadata": {},
   "outputs": [],
   "source": [
    "persist_path=\"./ejemplosk_embedding_db\"  #ruta donde se guardará la BBDD vectorizada\n",
    "\n",
    "#Creamos la BBDD de vectores a partir de los documentos y la función embeddings\n",
    "vector_store = SKLearnVectorStore.from_documents(\n",
    "    documents=docs,\n",
    "    embedding=funcion_embedding,\n",
    "    persist_path=persist_path,\n",
    "    serializer=\"parquet\", #el serializador o formato de la BD lo definimos como parquet\n",
    ")"
   ]
  },
  {
   "cell_type": "code",
   "execution_count": 8,
   "id": "3a9d320e",
   "metadata": {},
   "outputs": [],
   "source": [
    "# Fuerza a guardar los nuevos embeddings en el disco\n",
    "vector_store.persist()"
   ]
  },
  {
   "cell_type": "code",
   "execution_count": 9,
   "id": "d1f243b1",
   "metadata": {},
   "outputs": [
    {
     "name": "stdout",
     "output_type": "stream",
     "text": [
      "Primera Guerra Mundial\n",
      "Artículos principales: España en la Primera Guerra Mundial y Economía de España durante la Primera Guerra Mundial.\n",
      "La neutralidad de España en la Primera Guerra Mundial le permitió convertirse en un proveedor de material para los contendientes, lo que provocó una burbuja económica durante los años de la contienda. La Guerra del Rif, el brote de la gripe de 1918 en España y en otros lugares, junto con una desaceleración económica importante en el período de posguerra, llegó a España particularmente difícil, y el país entró en crisis. Como intento por superar dicha situación, el rey Alfonso XIII decidió apoyar a la dictadura del general Miguel Primo de Rivera.\n",
      "\n",
      "Crisis de la Restauración\n",
      "Artículos principales: Crisis de la Restauración, Crisis española de 1917 y Trienio Bolchevique.\n",
      "A partir de 1917, se constata una descomposición interna del régimen político canovista de la restauración, caracterizado por la atomización en bandos personalista de los partidos políticos, el alza de los movimientos subversivos desde las juntas militares, el pistolerismo a sueldo y los comités revolucionarios y por último el descontento generalizado de la población.80​\n"
     ]
    }
   ],
   "source": [
    "#Creamos un nuevo documento que será nuestra \"consulta\" para buscar el de mayor similitud en nuestra Base de Datos de Vectores y devolverlo\n",
    "consulta = \"dame información de la Primera Guerra Mundial\"\n",
    "docs = vector_store.similarity_search(consulta)\n",
    "print(docs[0].page_content)"
   ]
  },
  {
   "cell_type": "markdown",
   "id": "0683bf6e",
   "metadata": {},
   "source": [
    "## Cargar la BD de vectores (uso posterior una vez tenemos creada ya la BD)"
   ]
  },
  {
   "cell_type": "code",
   "execution_count": 10,
   "id": "95b0c206",
   "metadata": {},
   "outputs": [
    {
     "name": "stdout",
     "output_type": "stream",
     "text": [
      "Una instancia de la BBDD de vectores se ha cargado desde  ./ejemplosk_embedding_db\n"
     ]
    }
   ],
   "source": [
    "vector_store_connection = SKLearnVectorStore(\n",
    "    embedding=funcion_embedding, persist_path=persist_path, serializer=\"parquet\"\n",
    ")\n",
    "print(\"Una instancia de la BBDD de vectores se ha cargado desde \", persist_path)"
   ]
  },
  {
   "cell_type": "code",
   "execution_count": 11,
   "id": "d383db77",
   "metadata": {},
   "outputs": [
    {
     "data": {
      "text/plain": [
       "<langchain_community.vectorstores.sklearn.SKLearnVectorStore at 0x7adc9ab0c860>"
      ]
     },
     "execution_count": 11,
     "metadata": {},
     "output_type": "execute_result"
    }
   ],
   "source": [
    "vector_store_connection"
   ]
  },
  {
   "cell_type": "code",
   "execution_count": 12,
   "id": "2b8d18a5",
   "metadata": {},
   "outputs": [],
   "source": [
    "nueva_consulta = \"¿Qué paso en el siglo de Oro?\""
   ]
  },
  {
   "cell_type": "code",
   "execution_count": 13,
   "id": "c00f2c04",
   "metadata": {},
   "outputs": [
    {
     "name": "stdout",
     "output_type": "stream",
     "text": [
      "El área de influencia de España se expandió, constituyéndose en la mayor potencia económica del mundo durante el siglo xvi, el comercio floreció a través del Atlántico entre la península ibérica y las Américas, y en el Pacífico desde Asia del Este y las Filipinas hasta México, y en el aspecto militar, durante varios siglos el Imperio español dominaría los mares y océanos con la armada y los campos de batallas con la infantería de los tercios. Aunque a partir del siglo xvii su poder e influencia en el centro de Europa e Italia se vio ampliamente contestado.\n",
      "\n",
      "Durante su apogeo económico, el imperio tuvo gran prestigio cultural e influencia militar. Muchas cosas que provenían de España eran a menudo imitadas. Las expresiones artísticas más cultivadas en España fueron la literatura, las artes plásticas, la música y la arquitectura, mientras el saber se acumulaba y se enseñaba desde prestigiosas universidades como las de Salamanca o Alcalá de Henares. Sin embargo, a diferencia de lo que pasó en otros países de Europa la ciencia no tuvo un resurgir tan vigoroso.\n",
      "\n",
      "Siglo de Oro\n",
      "Artículo principal: Siglo de Oro\n",
      "\n",
      "Miguel de Cervantes Saavedra\n",
      "El Siglo de Oro español fue un período floreciente en las artes y las letras hispanas que abarca cronológicamente desde la publicación de la Gramática castellana de Nebrija en 1492 hasta la muerte de Calderón en 1681.\n"
     ]
    }
   ],
   "source": [
    "docs = vector_store_connection.similarity_search(nueva_consulta)\n",
    "print(docs[0].page_content)"
   ]
  }
 ],
 "metadata": {
  "kernelspec": {
   "display_name": "ia_gpu312",
   "language": "python",
   "name": "python3"
  },
  "language_info": {
   "codemirror_mode": {
    "name": "ipython",
    "version": 3
   },
   "file_extension": ".py",
   "mimetype": "text/x-python",
   "name": "python",
   "nbconvert_exporter": "python",
   "pygments_lexer": "ipython3",
   "version": "3.12.8"
  }
 },
 "nbformat": 4,
 "nbformat_minor": 5
}

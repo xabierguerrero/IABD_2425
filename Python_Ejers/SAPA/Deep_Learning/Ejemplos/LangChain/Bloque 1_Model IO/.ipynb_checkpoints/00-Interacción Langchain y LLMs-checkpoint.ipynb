{
 "cells": [
  {
   "cell_type": "markdown",
   "id": "bcded1a6-2430-4707-a78c-c82f4c5ee6fc",
   "metadata": {},
   "source": [
    "<em style=\"text-align:center\">Copyright Iván Pinar Domínguez</em>"
   ]
  },
  {
   "cell_type": "markdown",
   "id": "36df7e9f",
   "metadata": {},
   "source": [
    "## Importar librerías y clave OpenAI"
   ]
  },
  {
   "cell_type": "code",
   "execution_count": 49,
   "id": "2612ab20",
   "metadata": {},
   "outputs": [],
   "source": [
    "import langchain"
   ]
  },
  {
   "cell_type": "code",
   "execution_count": 50,
   "id": "6c4f384c-be31-4e5f-8a67-e390e479489c",
   "metadata": {},
   "outputs": [],
   "source": [
    "from langchain_openai import ChatOpenAI\n",
    "from langchain.schema import SystemMessage, HumanMessage\n",
    "#Alternativa para importar tipos de mensajes: from langchain_core.messages import HumanMessage, SystemMessage"
   ]
  },
  {
   "cell_type": "code",
   "execution_count": 51,
   "id": "a3edc37e",
   "metadata": {},
   "outputs": [],
   "source": [
    "f = open('../OpenAI_key.txt')\n",
    "api_key = f.read()\n",
    "chat = ChatOpenAI(openai_api_key=api_key)"
   ]
  },
  {
   "cell_type": "markdown",
   "id": "53eaa306",
   "metadata": {},
   "source": [
    "## Obtener 1 resultado invocando al chat de OpenAI"
   ]
  },
  {
   "cell_type": "code",
   "execution_count": 52,
   "id": "7c6555a0-3bfb-49e3-97aa-186eb5a528a7",
   "metadata": {},
   "outputs": [],
   "source": [
    "resultado = chat.invoke([HumanMessage(content=\"¿Puedes decirme dónde se encuentra Cáceres\")])"
   ]
  },
  {
   "cell_type": "code",
   "execution_count": 53,
   "id": "58180fce-e04b-41d2-9ae8-87a41b232890",
   "metadata": {},
   "outputs": [
    {
     "data": {
      "text/plain": [
       "AIMessage(content='Cáceres es una ciudad situada en la comunidad autónoma de Extremadura, en el suroeste de España.', response_metadata={'token_usage': {'completion_tokens': 29, 'prompt_tokens': 21, 'total_tokens': 50}, 'model_name': 'gpt-3.5-turbo-0125', 'system_fingerprint': None, 'finish_reason': 'stop', 'logprobs': None}, id='run-a01e8246-f03d-48b2-b32a-671f0c9795d0-0', usage_metadata={'input_tokens': 21, 'output_tokens': 29, 'total_tokens': 50})"
      ]
     },
     "execution_count": 53,
     "metadata": {},
     "output_type": "execute_result"
    }
   ],
   "source": [
    "resultado"
   ]
  },
  {
   "cell_type": "code",
   "execution_count": 54,
   "id": "375586e2-7880-49c5-abf3-dbdf70593b9f",
   "metadata": {},
   "outputs": [
    {
     "data": {
      "text/plain": [
       "'Cáceres es una ciudad situada en la comunidad autónoma de Extremadura, en el suroeste de España.'"
      ]
     },
     "execution_count": 54,
     "metadata": {},
     "output_type": "execute_result"
    }
   ],
   "source": [
    "resultado.content"
   ]
  },
  {
   "cell_type": "code",
   "execution_count": 18,
   "id": "553e8578",
   "metadata": {},
   "outputs": [],
   "source": [
    "#Especificamos el SystemMessage para definir la personalidad que debe tomar el sistema"
   ]
  },
  {
   "cell_type": "code",
   "execution_count": 19,
   "id": "be3fb5bc-13e3-45de-98a9-45fe1361d30a",
   "metadata": {},
   "outputs": [],
   "source": [
    "resultado = chat.invoke([SystemMessage(content='Eres un historiador que conoce los detalles de todas las ciudades del mundo'),\n",
    "               HumanMessage(content='¿Puedes decirme dónde se encuentra Cáceres')])"
   ]
  },
  {
   "cell_type": "code",
   "execution_count": 20,
   "id": "013daa46-53e4-47dc-83c9-5037c8286feb",
   "metadata": {},
   "outputs": [
    {
     "data": {
      "text/plain": [
       "'Cáceres es una ciudad situada en la comunidad autónoma de Extremadura, en el suroeste de España. Es conocida por su impresionante casco antiguo medieval, que ha sido declarado Patrimonio de la Humanidad por la UNESCO.'"
      ]
     },
     "execution_count": 20,
     "metadata": {},
     "output_type": "execute_result"
    }
   ],
   "source": [
    "resultado.content"
   ]
  },
  {
   "cell_type": "markdown",
   "id": "d4b0cd65",
   "metadata": {},
   "source": [
    "## Obtener varios resultados invocando al chat de OpenAI con \"generate\""
   ]
  },
  {
   "cell_type": "code",
   "execution_count": 45,
   "id": "c447b313",
   "metadata": {},
   "outputs": [],
   "source": [
    "resultado = chat.generate(\n",
    "    [\n",
    "        [SystemMessage(content='Eres un historiador que conoce los detalles de todas las ciudades del mundo'),\n",
    "         HumanMessage(content='¿Puedes decirme dónde se encuentra Cáceres')],\n",
    "        [SystemMessage(content='Eres un joven rudo que no le gusta que le pregunten, solo quiere estar de fiesta'),\n",
    "         HumanMessage(content='¿Puedes decirme dónde se encuentra Cáceres')]\n",
    "    ]\n",
    ")\n"
   ]
  },
  {
   "cell_type": "code",
   "execution_count": 47,
   "id": "4e616094",
   "metadata": {},
   "outputs": [
    {
     "name": "stdout",
     "output_type": "stream",
     "text": [
      "Claro, Cáceres es una ciudad ubicada en la comunidad autónoma de Extremadura, en el oeste de España. Se caracteriza por su casco antiguo bien conservado, que ha sido declarado Patrimonio de la Humanidad por la UNESCO.\n"
     ]
    }
   ],
   "source": [
    "#Resultado con primer sistema\n",
    "print(resultado.generations[0][0].text)"
   ]
  },
  {
   "cell_type": "code",
   "execution_count": 48,
   "id": "75a4967a",
   "metadata": {},
   "outputs": [
    {
     "name": "stdout",
     "output_type": "stream",
     "text": [
      "Lo siento, no estoy interesado en responder preguntas en este momento. ¿Hay algo más en lo que pueda ayudarte?\n"
     ]
    }
   ],
   "source": [
    "#Resultado con segundo sistema\n",
    "print(resultado.generations[1][0].text)"
   ]
  }
 ],
 "metadata": {
  "kernelspec": {
   "display_name": "Python 3 (ipykernel)",
   "language": "python",
   "name": "python3"
  },
  "language_info": {
   "codemirror_mode": {
    "name": "ipython",
    "version": 3
   },
   "file_extension": ".py",
   "mimetype": "text/x-python",
   "name": "python",
   "nbconvert_exporter": "python",
   "pygments_lexer": "ipython3",
   "version": "3.11.5"
  }
 },
 "nbformat": 4,
 "nbformat_minor": 5
}

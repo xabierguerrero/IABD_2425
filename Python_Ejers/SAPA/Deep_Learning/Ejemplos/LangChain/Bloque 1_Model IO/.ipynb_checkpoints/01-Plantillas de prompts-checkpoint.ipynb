{
 "cells": [
  {
   "cell_type": "markdown",
   "id": "bcded1a6-2430-4707-a78c-c82f4c5ee6fc",
   "metadata": {},
   "source": [
    "<em style=\"text-align:center\">Copyright Iván Pinar Domínguez</em>"
   ]
  },
  {
   "cell_type": "markdown",
   "id": "81ad1f37",
   "metadata": {},
   "source": [
    "## Importar librerías de templates"
   ]
  },
  {
   "cell_type": "code",
   "execution_count": null,
   "id": "a15b8279",
   "metadata": {},
   "outputs": [],
   "source": [
    "from langchain.prompts import (\n",
    "    ChatPromptTemplate,\n",
    "    PromptTemplate,\n",
    "    SystemMessagePromptTemplate,\n",
    "    AIMessagePromptTemplate,\n",
    "    HumanMessagePromptTemplate,\n",
    ")\n",
    "from langchain.schema import (\n",
    "    AIMessage,\n",
    "    HumanMessage,\n",
    "    SystemMessage\n",
    ")"
   ]
  },
  {
   "cell_type": "markdown",
   "id": "2f5eb446",
   "metadata": {},
   "source": [
    "## Generar plantillas de prompts"
   ]
  },
  {
   "cell_type": "code",
   "execution_count": 2,
   "id": "cbc8eeab-11ff-4c46-b69b-e963066980d0",
   "metadata": {},
   "outputs": [],
   "source": [
    "#Creamos la plantilla del sistema (system_template)\n",
    "system_template=\"Eres una IA especializada en coches de tipo {tipo_coches} y generar artículos que se leen en {tiempo_lectura}.\"\n",
    "system_message_prompt = SystemMessagePromptTemplate.from_template(system_template)"
   ]
  },
  {
   "cell_type": "code",
   "execution_count": 3,
   "id": "d93298f9-18d3-43af-bc23-633f5f3ab269",
   "metadata": {},
   "outputs": [
    {
     "data": {
      "text/plain": [
       "['tiempo_lectura', 'tipo_coches']"
      ]
     },
     "execution_count": 3,
     "metadata": {},
     "output_type": "execute_result"
    }
   ],
   "source": [
    "system_message_prompt.input_variables"
   ]
  },
  {
   "cell_type": "code",
   "execution_count": 5,
   "id": "2348e5e3-e878-403a-94e9-be61359fbb44",
   "metadata": {},
   "outputs": [],
   "source": [
    "#Creamos la plantilla de usuario (human_template)\n",
    "human_template=\"{peticion_tipo_motor}\"\n",
    "human_message_prompt = HumanMessagePromptTemplate.from_template(human_template)"
   ]
  },
  {
   "cell_type": "code",
   "execution_count": 6,
   "id": "d01b14b6-f422-4a08-bd0e-bba0f494563d",
   "metadata": {},
   "outputs": [
    {
     "data": {
      "text/plain": [
       "['peticion_tipo_motor']"
      ]
     },
     "execution_count": 6,
     "metadata": {},
     "output_type": "execute_result"
    }
   ],
   "source": [
    "human_message_prompt.input_variables"
   ]
  },
  {
   "cell_type": "code",
   "execution_count": 7,
   "id": "706756df-1264-4121-8043-b733e60188c0",
   "metadata": {},
   "outputs": [],
   "source": [
    "#Creamos una plantilla de chat con la concatenación tanto de mensajes del sistema como del humano\n",
    "chat_prompt = ChatPromptTemplate.from_messages([system_message_prompt, human_message_prompt])"
   ]
  },
  {
   "cell_type": "code",
   "execution_count": 8,
   "id": "52fdf3cf-f3d9-4108-ae72-b630487d9e9b",
   "metadata": {},
   "outputs": [
    {
     "data": {
      "text/plain": [
       "['peticion_tipo_motor', 'tiempo_lectura', 'tipo_coches']"
      ]
     },
     "execution_count": 8,
     "metadata": {},
     "output_type": "execute_result"
    }
   ],
   "source": [
    "chat_prompt.input_variables"
   ]
  },
  {
   "cell_type": "code",
   "execution_count": 9,
   "id": "3b19ae01-3be8-41c9-a470-3fd6fc69e801",
   "metadata": {},
   "outputs": [
    {
     "data": {
      "text/plain": [
       "[SystemMessage(content='Eres una IA especializada en coches de tipo japoneses y generar artículos que se leen en 10 min.'),\n",
       " HumanMessage(content='híbrido enchufable')]"
      ]
     },
     "execution_count": 9,
     "metadata": {},
     "output_type": "execute_result"
    }
   ],
   "source": [
    "# Completar el chat gracias al formateo de los mensajes\n",
    "chat_prompt.format_prompt(peticion_tipo_motor=\"híbrido enchufable\", tiempo_lectura=\"10 min\", tipo_coches=\"japoneses\")"
   ]
  },
  {
   "cell_type": "code",
   "execution_count": 10,
   "id": "73121537-8cee-42fc-ba0e-fc1c18154957",
   "metadata": {},
   "outputs": [],
   "source": [
    "#Transformamos el objeto prompt a una lista de mensajes y lo guardamos en \"solicitud_completa\" que es lo que pasaremos al LLM finalmente\n",
    "solicitud_completa = chat_prompt.format_prompt(peticion_tipo_motor=\"híbrido enchufable\", tiempo_lectura=\"10 min\", tipo_coches=\"japoneses\").to_messages()"
   ]
  },
  {
   "cell_type": "markdown",
   "id": "c276622f-d81c-40ed-864b-63d4c4311d84",
   "metadata": {},
   "source": [
    "## Obtener el resultado de la respuesta formateada"
   ]
  },
  {
   "cell_type": "code",
   "execution_count": 12,
   "id": "4b1ba2ee",
   "metadata": {},
   "outputs": [],
   "source": [
    "from langchain_openai import ChatOpenAI"
   ]
  },
  {
   "cell_type": "code",
   "execution_count": 13,
   "id": "0d21e33e-6ce1-4391-b406-279af06510f2",
   "metadata": {},
   "outputs": [],
   "source": [
    "f = open('../OpenAI_key.txt')\n",
    "api_key = f.read()\n",
    "chat = ChatOpenAI(openai_api_key=api_key)"
   ]
  },
  {
   "cell_type": "code",
   "execution_count": 15,
   "id": "8978391d-9c09-4b99-8520-27491ece4e9d",
   "metadata": {},
   "outputs": [],
   "source": [
    "result = chat.invoke(solicitud_completa)"
   ]
  },
  {
   "cell_type": "code",
   "execution_count": 16,
   "id": "88f47c1b-123c-4f47-8ee1-b72c88cbd048",
   "metadata": {},
   "outputs": [
    {
     "data": {
      "text/plain": [
       "AIMessage(content='Los vehículos híbridos enchufables, también conocidos como PHEV por sus siglas en inglés (Plug-in Hybrid Electric Vehicle), son una interesante opción en el mercado de los automóviles hoy en día. Estos vehículos combinan la eficiencia de un motor eléctrico con la versatilidad de un motor de combustión interna, ofreciendo a los conductores lo mejor de ambos mundos.\\n\\nEn un híbrido enchufable, la batería de gran capacidad puede ser recargada enchufándola a una toma de corriente eléctrica, lo que le permite al vehículo recorrer distancias más largas en modo eléctrico puro. Esto es ideal para trayectos cortos o urbanos, donde la eficiencia y la ausencia de emisiones son especialmente valoradas. Cuando la batería se agota, el motor de combustión interna entra en funcionamiento para proporcionar la energía necesaria, extendiendo así la autonomía del vehículo.\\n\\nUna de las ventajas de los híbridos enchufables es su eficiencia energética, ya que combinan la energía eléctrica limpia con la eficiencia de un motor de combustión interna. Esto se traduce en un menor consumo de combustible y, por lo tanto, en menores emisiones contaminantes. Además, al poder recargarse a través de una toma de corriente, los propietarios de estos vehículos pueden aprovechar tarifas eléctricas más económicas para cargar la batería.\\n\\nOtra ventaja de los híbridos enchufables es su versatilidad. Al contar con dos fuentes de energía, estos vehículos pueden adaptarse a diferentes situaciones y necesidades de conducción. En trayectos cortos, el motor eléctrico puede ser suficiente para desplazarse sin consumir una gota de combustible, mientras que en viajes largos el motor de combustión interna asegura una autonomía extendida.\\n\\nEn cuanto al rendimiento, los híbridos enchufables suelen ofrecer una experiencia de conducción suave y silenciosa en modo eléctrico, con una aceleración instantánea gracias al par motor de los motores eléctricos. En combinación con el motor de combustión interna, estos vehículos pueden ofrecer un rendimiento respetable y una autonomía total que satisface las necesidades de la mayoría de los conductores.\\n\\nEn resumen, los híbridos enchufables son una excelente opción para aquellos que buscan combinar la eficiencia de la energía eléctrica con la versatilidad de un motor de combustión interna. Con su capacidad de recarga enchufable, su eficiencia energética y su versatilidad de conducción, estos vehículos se perfilan como una alternativa atractiva en el mercado automotriz actual. ¡Sin duda, una opción a considerar para aquellos que buscan un equilibrio entre eficiencia y rendimiento!', response_metadata={'token_usage': {'completion_tokens': 670, 'prompt_tokens': 45, 'total_tokens': 715}, 'model_name': 'gpt-3.5-turbo-0125', 'system_fingerprint': None, 'finish_reason': 'stop', 'logprobs': None}, id='run-c5038ae0-0906-437f-8c93-13656386d284-0', usage_metadata={'input_tokens': 45, 'output_tokens': 670, 'total_tokens': 715})"
      ]
     },
     "execution_count": 16,
     "metadata": {},
     "output_type": "execute_result"
    }
   ],
   "source": [
    "result"
   ]
  },
  {
   "cell_type": "code",
   "execution_count": 17,
   "id": "6ae9e58d-00b9-4ba4-af37-9ff35a4bef9f",
   "metadata": {},
   "outputs": [
    {
     "name": "stdout",
     "output_type": "stream",
     "text": [
      "Los vehículos híbridos enchufables, también conocidos como PHEV por sus siglas en inglés (Plug-in Hybrid Electric Vehicle), son una interesante opción en el mercado de los automóviles hoy en día. Estos vehículos combinan la eficiencia de un motor eléctrico con la versatilidad de un motor de combustión interna, ofreciendo a los conductores lo mejor de ambos mundos.\n",
      "\n",
      "En un híbrido enchufable, la batería de gran capacidad puede ser recargada enchufándola a una toma de corriente eléctrica, lo que le permite al vehículo recorrer distancias más largas en modo eléctrico puro. Esto es ideal para trayectos cortos o urbanos, donde la eficiencia y la ausencia de emisiones son especialmente valoradas. Cuando la batería se agota, el motor de combustión interna entra en funcionamiento para proporcionar la energía necesaria, extendiendo así la autonomía del vehículo.\n",
      "\n",
      "Una de las ventajas de los híbridos enchufables es su eficiencia energética, ya que combinan la energía eléctrica limpia con la eficiencia de un motor de combustión interna. Esto se traduce en un menor consumo de combustible y, por lo tanto, en menores emisiones contaminantes. Además, al poder recargarse a través de una toma de corriente, los propietarios de estos vehículos pueden aprovechar tarifas eléctricas más económicas para cargar la batería.\n",
      "\n",
      "Otra ventaja de los híbridos enchufables es su versatilidad. Al contar con dos fuentes de energía, estos vehículos pueden adaptarse a diferentes situaciones y necesidades de conducción. En trayectos cortos, el motor eléctrico puede ser suficiente para desplazarse sin consumir una gota de combustible, mientras que en viajes largos el motor de combustión interna asegura una autonomía extendida.\n",
      "\n",
      "En cuanto al rendimiento, los híbridos enchufables suelen ofrecer una experiencia de conducción suave y silenciosa en modo eléctrico, con una aceleración instantánea gracias al par motor de los motores eléctricos. En combinación con el motor de combustión interna, estos vehículos pueden ofrecer un rendimiento respetable y una autonomía total que satisface las necesidades de la mayoría de los conductores.\n",
      "\n",
      "En resumen, los híbridos enchufables son una excelente opción para aquellos que buscan combinar la eficiencia de la energía eléctrica con la versatilidad de un motor de combustión interna. Con su capacidad de recarga enchufable, su eficiencia energética y su versatilidad de conducción, estos vehículos se perfilan como una alternativa atractiva en el mercado automotriz actual. ¡Sin duda, una opción a considerar para aquellos que buscan un equilibrio entre eficiencia y rendimiento!\n"
     ]
    }
   ],
   "source": [
    "print(result.content)"
   ]
  },
  {
   "cell_type": "code",
   "execution_count": null,
   "id": "a72ee656-ec4b-4c5b-b839-1b3c2f269f07",
   "metadata": {},
   "outputs": [],
   "source": []
  }
 ],
 "metadata": {
  "kernelspec": {
   "display_name": "Python 3 (ipykernel)",
   "language": "python",
   "name": "python3"
  },
  "language_info": {
   "codemirror_mode": {
    "name": "ipython",
    "version": 3
   },
   "file_extension": ".py",
   "mimetype": "text/x-python",
   "name": "python",
   "nbconvert_exporter": "python",
   "pygments_lexer": "ipython3",
   "version": "3.11.5"
  }
 },
 "nbformat": 4,
 "nbformat_minor": 5
}

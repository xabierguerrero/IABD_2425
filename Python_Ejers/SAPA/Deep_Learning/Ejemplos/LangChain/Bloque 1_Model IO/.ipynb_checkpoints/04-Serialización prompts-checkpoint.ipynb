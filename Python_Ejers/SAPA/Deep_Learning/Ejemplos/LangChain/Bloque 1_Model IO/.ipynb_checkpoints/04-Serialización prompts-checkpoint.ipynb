{
 "cells": [
  {
   "cell_type": "markdown",
   "id": "378f3df7-19b9-49a1-b695-5d578138b4ae",
   "metadata": {},
   "source": [
    "<em style=\"text-align:center\">Copyright Iván Pinar Domínguez</em>"
   ]
  },
  {
   "cell_type": "markdown",
   "id": "e2128d1c-62d1-4681-abe1-754a1410e632",
   "metadata": {},
   "source": [
    "## Importar librerías e instancia de modelo de chat"
   ]
  },
  {
   "cell_type": "code",
   "execution_count": 1,
   "id": "f5900191-d4cc-4e83-9de7-286cf204d0c0",
   "metadata": {},
   "outputs": [],
   "source": [
    "from langchain.prompts import PromptTemplate, SystemMessagePromptTemplate,ChatPromptTemplate, HumanMessagePromptTemplate\n",
    "from langchain_openai import ChatOpenAI\n",
    "f = open('../OpenAI_key.txt')\n",
    "api_key = f.read()\n",
    "chat = ChatOpenAI(openai_api_key=api_key)"
   ]
  },
  {
   "cell_type": "markdown",
   "id": "d2f65382-0a41-44a6-9825-add30c68646a",
   "metadata": {},
   "source": [
    "### Guardar plantilla prompt"
   ]
  },
  {
   "cell_type": "code",
   "execution_count": 2,
   "id": "2469cffb-c2ef-4c9a-a2f0-3b8dc3f64cba",
   "metadata": {},
   "outputs": [],
   "source": [
    "plantilla = \"Pregunta: {pregunta}\\n\\nRespuesta: Vamos a verlo paso a paso.\"\n",
    "prompt = PromptTemplate(template=plantilla, input_variables=[\"pregunta\"])\n",
    "prompt.save(\"prompt.json\")"
   ]
  },
  {
   "cell_type": "markdown",
   "id": "a836756f-e941-4fea-a284-d182988d2167",
   "metadata": {},
   "source": [
    "### Cargar plantilla prompt"
   ]
  },
  {
   "cell_type": "code",
   "execution_count": 3,
   "id": "40a012b4-df48-4998-9b57-3965659494f0",
   "metadata": {},
   "outputs": [],
   "source": [
    "from langchain.prompts import load_prompt"
   ]
  },
  {
   "cell_type": "code",
   "execution_count": 4,
   "id": "e1841fde-f012-4433-8b90-73968ddf5895",
   "metadata": {},
   "outputs": [],
   "source": [
    "prompt_cargado = load_prompt('prompt.json')"
   ]
  },
  {
   "cell_type": "code",
   "execution_count": 5,
   "id": "bfe8d0de-43d3-4040-ba95-de1cc74d1327",
   "metadata": {},
   "outputs": [
    {
     "data": {
      "text/plain": [
       "PromptTemplate(input_variables=['pregunta'], template='Pregunta: {pregunta}\\n\\nRespuesta: Vamos a verlo paso a paso.')"
      ]
     },
     "execution_count": 5,
     "metadata": {},
     "output_type": "execute_result"
    }
   ],
   "source": [
    "prompt_cargado"
   ]
  }
 ],
 "metadata": {
  "kernelspec": {
   "display_name": "Python 3 (ipykernel)",
   "language": "python",
   "name": "python3"
  },
  "language_info": {
   "codemirror_mode": {
    "name": "ipython",
    "version": 3
   },
   "file_extension": ".py",
   "mimetype": "text/x-python",
   "name": "python",
   "nbconvert_exporter": "python",
   "pygments_lexer": "ipython3",
   "version": "3.11.5"
  }
 },
 "nbformat": 4,
 "nbformat_minor": 5
}

{
 "cells": [
  {
   "cell_type": "markdown",
   "id": "36df7e9f",
   "metadata": {},
   "source": [
    "## Importar librerías y clave OpenAI"
   ]
  },
  {
   "cell_type": "code",
   "execution_count": 15,
   "id": "fbd4cf30",
   "metadata": {},
   "outputs": [
    {
     "name": "stdout",
     "output_type": "stream",
     "text": [
      "Requirement already satisfied: langchain in /home/iabd/anaconda3/envs/IABD3_12/lib/python3.12/site-packages (0.3.19)\n",
      "Requirement already satisfied: langchain-core<1.0.0,>=0.3.35 in /home/iabd/anaconda3/envs/IABD3_12/lib/python3.12/site-packages (from langchain) (0.3.35)\n",
      "Collecting langchain-text-splitters<1.0.0,>=0.3.6 (from langchain)\n",
      "  Using cached langchain_text_splitters-0.3.6-py3-none-any.whl.metadata (1.9 kB)\n",
      "Requirement already satisfied: langsmith<0.4,>=0.1.17 in /home/iabd/anaconda3/envs/IABD3_12/lib/python3.12/site-packages (from langchain) (0.3.8)\n",
      "Requirement already satisfied: pydantic<3.0.0,>=2.7.4 in /home/iabd/anaconda3/envs/IABD3_12/lib/python3.12/site-packages (from langchain) (2.10.6)\n",
      "Requirement already satisfied: SQLAlchemy<3,>=1.4 in /home/iabd/anaconda3/envs/IABD3_12/lib/python3.12/site-packages (from langchain) (2.0.37)\n",
      "Requirement already satisfied: requests<3,>=2 in /home/iabd/anaconda3/envs/IABD3_12/lib/python3.12/site-packages (from langchain) (2.32.3)\n",
      "Requirement already satisfied: PyYAML>=5.3 in /home/iabd/anaconda3/envs/IABD3_12/lib/python3.12/site-packages (from langchain) (6.0.2)\n",
      "Requirement already satisfied: aiohttp<4.0.0,>=3.8.3 in /home/iabd/anaconda3/envs/IABD3_12/lib/python3.12/site-packages (from langchain) (3.11.10)\n",
      "Requirement already satisfied: tenacity!=8.4.0,<10,>=8.1.0 in /home/iabd/anaconda3/envs/IABD3_12/lib/python3.12/site-packages (from langchain) (9.0.0)\n",
      "Requirement already satisfied: numpy<3,>=1.26.2 in /home/iabd/anaconda3/envs/IABD3_12/lib/python3.12/site-packages (from langchain) (1.26.4)\n",
      "Requirement already satisfied: aiohappyeyeballs>=2.3.0 in /home/iabd/anaconda3/envs/IABD3_12/lib/python3.12/site-packages (from aiohttp<4.0.0,>=3.8.3->langchain) (2.4.4)\n",
      "Requirement already satisfied: aiosignal>=1.1.2 in /home/iabd/anaconda3/envs/IABD3_12/lib/python3.12/site-packages (from aiohttp<4.0.0,>=3.8.3->langchain) (1.2.0)\n",
      "Requirement already satisfied: attrs>=17.3.0 in /home/iabd/anaconda3/envs/IABD3_12/lib/python3.12/site-packages (from aiohttp<4.0.0,>=3.8.3->langchain) (24.3.0)\n",
      "Requirement already satisfied: frozenlist>=1.1.1 in /home/iabd/anaconda3/envs/IABD3_12/lib/python3.12/site-packages (from aiohttp<4.0.0,>=3.8.3->langchain) (1.5.0)\n",
      "Requirement already satisfied: multidict<7.0,>=4.5 in /home/iabd/anaconda3/envs/IABD3_12/lib/python3.12/site-packages (from aiohttp<4.0.0,>=3.8.3->langchain) (6.1.0)\n",
      "Requirement already satisfied: propcache>=0.2.0 in /home/iabd/anaconda3/envs/IABD3_12/lib/python3.12/site-packages (from aiohttp<4.0.0,>=3.8.3->langchain) (0.2.0)\n",
      "Requirement already satisfied: yarl<2.0,>=1.17.0 in /home/iabd/anaconda3/envs/IABD3_12/lib/python3.12/site-packages (from aiohttp<4.0.0,>=3.8.3->langchain) (1.18.0)\n",
      "Requirement already satisfied: jsonpatch<2.0,>=1.33 in /home/iabd/anaconda3/envs/IABD3_12/lib/python3.12/site-packages (from langchain-core<1.0.0,>=0.3.35->langchain) (1.33)\n",
      "Requirement already satisfied: packaging<25,>=23.2 in /home/iabd/anaconda3/envs/IABD3_12/lib/python3.12/site-packages (from langchain-core<1.0.0,>=0.3.35->langchain) (24.2)\n",
      "Requirement already satisfied: typing-extensions>=4.7 in /home/iabd/anaconda3/envs/IABD3_12/lib/python3.12/site-packages (from langchain-core<1.0.0,>=0.3.35->langchain) (4.12.2)\n",
      "Requirement already satisfied: httpx<1,>=0.23.0 in /home/iabd/anaconda3/envs/IABD3_12/lib/python3.12/site-packages (from langsmith<0.4,>=0.1.17->langchain) (0.27.0)\n",
      "Requirement already satisfied: orjson<4.0.0,>=3.9.14 in /home/iabd/anaconda3/envs/IABD3_12/lib/python3.12/site-packages (from langsmith<0.4,>=0.1.17->langchain) (3.10.14)\n",
      "Requirement already satisfied: requests-toolbelt<2.0.0,>=1.0.0 in /home/iabd/anaconda3/envs/IABD3_12/lib/python3.12/site-packages (from langsmith<0.4,>=0.1.17->langchain) (1.0.0)\n",
      "Requirement already satisfied: zstandard<0.24.0,>=0.23.0 in /home/iabd/anaconda3/envs/IABD3_12/lib/python3.12/site-packages (from langsmith<0.4,>=0.1.17->langchain) (0.23.0)\n",
      "Requirement already satisfied: annotated-types>=0.6.0 in /home/iabd/anaconda3/envs/IABD3_12/lib/python3.12/site-packages (from pydantic<3.0.0,>=2.7.4->langchain) (0.6.0)\n",
      "Requirement already satisfied: pydantic-core==2.27.2 in /home/iabd/anaconda3/envs/IABD3_12/lib/python3.12/site-packages (from pydantic<3.0.0,>=2.7.4->langchain) (2.27.2)\n",
      "Requirement already satisfied: charset_normalizer<4,>=2 in /home/iabd/anaconda3/envs/IABD3_12/lib/python3.12/site-packages (from requests<3,>=2->langchain) (3.4.1)\n",
      "Requirement already satisfied: idna<4,>=2.5 in /home/iabd/anaconda3/envs/IABD3_12/lib/python3.12/site-packages (from requests<3,>=2->langchain) (3.10)\n",
      "Requirement already satisfied: urllib3<3,>=1.21.1 in /home/iabd/anaconda3/envs/IABD3_12/lib/python3.12/site-packages (from requests<3,>=2->langchain) (2.3.0)\n",
      "Requirement already satisfied: certifi>=2017.4.17 in /home/iabd/anaconda3/envs/IABD3_12/lib/python3.12/site-packages (from requests<3,>=2->langchain) (2025.1.31)\n",
      "Requirement already satisfied: greenlet!=0.4.17 in /home/iabd/anaconda3/envs/IABD3_12/lib/python3.12/site-packages (from SQLAlchemy<3,>=1.4->langchain) (3.1.1)\n",
      "Requirement already satisfied: anyio in /home/iabd/anaconda3/envs/IABD3_12/lib/python3.12/site-packages (from httpx<1,>=0.23.0->langsmith<0.4,>=0.1.17->langchain) (4.8.0)\n",
      "Requirement already satisfied: httpcore==1.* in /home/iabd/anaconda3/envs/IABD3_12/lib/python3.12/site-packages (from httpx<1,>=0.23.0->langsmith<0.4,>=0.1.17->langchain) (1.0.7)\n",
      "Requirement already satisfied: sniffio in /home/iabd/anaconda3/envs/IABD3_12/lib/python3.12/site-packages (from httpx<1,>=0.23.0->langsmith<0.4,>=0.1.17->langchain) (1.3.1)\n",
      "Requirement already satisfied: h11<0.15,>=0.13 in /home/iabd/anaconda3/envs/IABD3_12/lib/python3.12/site-packages (from httpcore==1.*->httpx<1,>=0.23.0->langsmith<0.4,>=0.1.17->langchain) (0.14.0)\n",
      "Requirement already satisfied: jsonpointer>=1.9 in /home/iabd/anaconda3/envs/IABD3_12/lib/python3.12/site-packages (from jsonpatch<2.0,>=1.33->langchain-core<1.0.0,>=0.3.35->langchain) (2.1)\n",
      "Using cached langchain_text_splitters-0.3.6-py3-none-any.whl (31 kB)\n",
      "Installing collected packages: langchain-text-splitters\n",
      "  Attempting uninstall: langchain-text-splitters\n",
      "    Found existing installation: langchain-text-splitters 0.3.3\n",
      "    Uninstalling langchain-text-splitters-0.3.3:\n",
      "      Successfully uninstalled langchain-text-splitters-0.3.3\n",
      "\u001b[31mERROR: pip's dependency resolver does not currently take into account all the packages that are installed. This behaviour is the source of the following dependency conflicts.\n",
      "langchain-community 0.3.12 requires langsmith<0.3,>=0.1.125, but you have langsmith 0.3.8 which is incompatible.\u001b[0m\u001b[31m\n",
      "\u001b[0mSuccessfully installed langchain-text-splitters-0.3.6\n",
      "Note: you may need to restart the kernel to use updated packages.\n",
      "Requirement already satisfied: openai in /home/iabd/anaconda3/envs/IABD3_12/lib/python3.12/site-packages (1.63.2)\n",
      "Requirement already satisfied: anyio<5,>=3.5.0 in /home/iabd/anaconda3/envs/IABD3_12/lib/python3.12/site-packages (from openai) (4.8.0)\n",
      "Requirement already satisfied: distro<2,>=1.7.0 in /home/iabd/anaconda3/envs/IABD3_12/lib/python3.12/site-packages (from openai) (1.9.0)\n",
      "Requirement already satisfied: httpx<1,>=0.23.0 in /home/iabd/anaconda3/envs/IABD3_12/lib/python3.12/site-packages (from openai) (0.27.0)\n",
      "Requirement already satisfied: jiter<1,>=0.4.0 in /home/iabd/anaconda3/envs/IABD3_12/lib/python3.12/site-packages (from openai) (0.8.2)\n",
      "Requirement already satisfied: pydantic<3,>=1.9.0 in /home/iabd/anaconda3/envs/IABD3_12/lib/python3.12/site-packages (from openai) (2.10.6)\n",
      "Requirement already satisfied: sniffio in /home/iabd/anaconda3/envs/IABD3_12/lib/python3.12/site-packages (from openai) (1.3.1)\n",
      "Requirement already satisfied: tqdm>4 in /home/iabd/anaconda3/envs/IABD3_12/lib/python3.12/site-packages (from openai) (4.67.1)\n",
      "Requirement already satisfied: typing-extensions<5,>=4.11 in /home/iabd/anaconda3/envs/IABD3_12/lib/python3.12/site-packages (from openai) (4.12.2)\n",
      "Requirement already satisfied: idna>=2.8 in /home/iabd/anaconda3/envs/IABD3_12/lib/python3.12/site-packages (from anyio<5,>=3.5.0->openai) (3.10)\n",
      "Requirement already satisfied: certifi in /home/iabd/anaconda3/envs/IABD3_12/lib/python3.12/site-packages (from httpx<1,>=0.23.0->openai) (2025.1.31)\n",
      "Requirement already satisfied: httpcore==1.* in /home/iabd/anaconda3/envs/IABD3_12/lib/python3.12/site-packages (from httpx<1,>=0.23.0->openai) (1.0.7)\n",
      "Requirement already satisfied: h11<0.15,>=0.13 in /home/iabd/anaconda3/envs/IABD3_12/lib/python3.12/site-packages (from httpcore==1.*->httpx<1,>=0.23.0->openai) (0.14.0)\n",
      "Requirement already satisfied: annotated-types>=0.6.0 in /home/iabd/anaconda3/envs/IABD3_12/lib/python3.12/site-packages (from pydantic<3,>=1.9.0->openai) (0.6.0)\n",
      "Requirement already satisfied: pydantic-core==2.27.2 in /home/iabd/anaconda3/envs/IABD3_12/lib/python3.12/site-packages (from pydantic<3,>=1.9.0->openai) (2.27.2)\n",
      "Note: you may need to restart the kernel to use updated packages.\n",
      "Requirement already satisfied: langchain_openai in /home/iabd/anaconda3/envs/IABD3_12/lib/python3.12/site-packages (0.3.6)\n",
      "Requirement already satisfied: langchain-core<1.0.0,>=0.3.35 in /home/iabd/anaconda3/envs/IABD3_12/lib/python3.12/site-packages (from langchain_openai) (0.3.35)\n",
      "Requirement already satisfied: openai<2.0.0,>=1.58.1 in /home/iabd/anaconda3/envs/IABD3_12/lib/python3.12/site-packages (from langchain_openai) (1.63.2)\n",
      "Requirement already satisfied: tiktoken<1,>=0.7 in /home/iabd/anaconda3/envs/IABD3_12/lib/python3.12/site-packages (from langchain_openai) (0.9.0)\n",
      "Requirement already satisfied: langsmith<0.4,>=0.1.125 in /home/iabd/anaconda3/envs/IABD3_12/lib/python3.12/site-packages (from langchain-core<1.0.0,>=0.3.35->langchain_openai) (0.3.8)\n",
      "Requirement already satisfied: tenacity!=8.4.0,<10.0.0,>=8.1.0 in /home/iabd/anaconda3/envs/IABD3_12/lib/python3.12/site-packages (from langchain-core<1.0.0,>=0.3.35->langchain_openai) (9.0.0)\n",
      "Requirement already satisfied: jsonpatch<2.0,>=1.33 in /home/iabd/anaconda3/envs/IABD3_12/lib/python3.12/site-packages (from langchain-core<1.0.0,>=0.3.35->langchain_openai) (1.33)\n",
      "Requirement already satisfied: PyYAML>=5.3 in /home/iabd/anaconda3/envs/IABD3_12/lib/python3.12/site-packages (from langchain-core<1.0.0,>=0.3.35->langchain_openai) (6.0.2)\n",
      "Requirement already satisfied: packaging<25,>=23.2 in /home/iabd/anaconda3/envs/IABD3_12/lib/python3.12/site-packages (from langchain-core<1.0.0,>=0.3.35->langchain_openai) (24.2)\n",
      "Requirement already satisfied: typing-extensions>=4.7 in /home/iabd/anaconda3/envs/IABD3_12/lib/python3.12/site-packages (from langchain-core<1.0.0,>=0.3.35->langchain_openai) (4.12.2)\n",
      "Requirement already satisfied: pydantic<3.0.0,>=2.5.2 in /home/iabd/anaconda3/envs/IABD3_12/lib/python3.12/site-packages (from langchain-core<1.0.0,>=0.3.35->langchain_openai) (2.10.6)\n",
      "Requirement already satisfied: anyio<5,>=3.5.0 in /home/iabd/anaconda3/envs/IABD3_12/lib/python3.12/site-packages (from openai<2.0.0,>=1.58.1->langchain_openai) (4.8.0)\n",
      "Requirement already satisfied: distro<2,>=1.7.0 in /home/iabd/anaconda3/envs/IABD3_12/lib/python3.12/site-packages (from openai<2.0.0,>=1.58.1->langchain_openai) (1.9.0)\n",
      "Requirement already satisfied: httpx<1,>=0.23.0 in /home/iabd/anaconda3/envs/IABD3_12/lib/python3.12/site-packages (from openai<2.0.0,>=1.58.1->langchain_openai) (0.27.0)\n",
      "Requirement already satisfied: jiter<1,>=0.4.0 in /home/iabd/anaconda3/envs/IABD3_12/lib/python3.12/site-packages (from openai<2.0.0,>=1.58.1->langchain_openai) (0.8.2)\n",
      "Requirement already satisfied: sniffio in /home/iabd/anaconda3/envs/IABD3_12/lib/python3.12/site-packages (from openai<2.0.0,>=1.58.1->langchain_openai) (1.3.1)\n",
      "Requirement already satisfied: tqdm>4 in /home/iabd/anaconda3/envs/IABD3_12/lib/python3.12/site-packages (from openai<2.0.0,>=1.58.1->langchain_openai) (4.67.1)\n",
      "Requirement already satisfied: regex>=2022.1.18 in /home/iabd/anaconda3/envs/IABD3_12/lib/python3.12/site-packages (from tiktoken<1,>=0.7->langchain_openai) (2024.11.6)\n",
      "Requirement already satisfied: requests>=2.26.0 in /home/iabd/anaconda3/envs/IABD3_12/lib/python3.12/site-packages (from tiktoken<1,>=0.7->langchain_openai) (2.32.3)\n",
      "Requirement already satisfied: idna>=2.8 in /home/iabd/anaconda3/envs/IABD3_12/lib/python3.12/site-packages (from anyio<5,>=3.5.0->openai<2.0.0,>=1.58.1->langchain_openai) (3.10)\n",
      "Requirement already satisfied: certifi in /home/iabd/anaconda3/envs/IABD3_12/lib/python3.12/site-packages (from httpx<1,>=0.23.0->openai<2.0.0,>=1.58.1->langchain_openai) (2025.1.31)\n",
      "Requirement already satisfied: httpcore==1.* in /home/iabd/anaconda3/envs/IABD3_12/lib/python3.12/site-packages (from httpx<1,>=0.23.0->openai<2.0.0,>=1.58.1->langchain_openai) (1.0.7)\n",
      "Requirement already satisfied: h11<0.15,>=0.13 in /home/iabd/anaconda3/envs/IABD3_12/lib/python3.12/site-packages (from httpcore==1.*->httpx<1,>=0.23.0->openai<2.0.0,>=1.58.1->langchain_openai) (0.14.0)\n",
      "Requirement already satisfied: jsonpointer>=1.9 in /home/iabd/anaconda3/envs/IABD3_12/lib/python3.12/site-packages (from jsonpatch<2.0,>=1.33->langchain-core<1.0.0,>=0.3.35->langchain_openai) (2.1)\n",
      "Requirement already satisfied: orjson<4.0.0,>=3.9.14 in /home/iabd/anaconda3/envs/IABD3_12/lib/python3.12/site-packages (from langsmith<0.4,>=0.1.125->langchain-core<1.0.0,>=0.3.35->langchain_openai) (3.10.14)\n",
      "Requirement already satisfied: requests-toolbelt<2.0.0,>=1.0.0 in /home/iabd/anaconda3/envs/IABD3_12/lib/python3.12/site-packages (from langsmith<0.4,>=0.1.125->langchain-core<1.0.0,>=0.3.35->langchain_openai) (1.0.0)\n",
      "Requirement already satisfied: zstandard<0.24.0,>=0.23.0 in /home/iabd/anaconda3/envs/IABD3_12/lib/python3.12/site-packages (from langsmith<0.4,>=0.1.125->langchain-core<1.0.0,>=0.3.35->langchain_openai) (0.23.0)\n",
      "Requirement already satisfied: annotated-types>=0.6.0 in /home/iabd/anaconda3/envs/IABD3_12/lib/python3.12/site-packages (from pydantic<3.0.0,>=2.5.2->langchain-core<1.0.0,>=0.3.35->langchain_openai) (0.6.0)\n",
      "Requirement already satisfied: pydantic-core==2.27.2 in /home/iabd/anaconda3/envs/IABD3_12/lib/python3.12/site-packages (from pydantic<3.0.0,>=2.5.2->langchain-core<1.0.0,>=0.3.35->langchain_openai) (2.27.2)\n",
      "Requirement already satisfied: charset_normalizer<4,>=2 in /home/iabd/anaconda3/envs/IABD3_12/lib/python3.12/site-packages (from requests>=2.26.0->tiktoken<1,>=0.7->langchain_openai) (3.4.1)\n",
      "Requirement already satisfied: urllib3<3,>=1.21.1 in /home/iabd/anaconda3/envs/IABD3_12/lib/python3.12/site-packages (from requests>=2.26.0->tiktoken<1,>=0.7->langchain_openai) (2.3.0)\n",
      "Note: you may need to restart the kernel to use updated packages.\n",
      "Collecting langchain-google-genai\n",
      "  Downloading langchain_google_genai-2.0.9-py3-none-any.whl.metadata (3.6 kB)\n",
      "\u001b[31mERROR: Could not find a version that satisfies the requirement google-generative-ai (from versions: none)\u001b[0m\u001b[31m\n",
      "\u001b[0m\u001b[31mERROR: No matching distribution found for google-generative-ai\u001b[0m\u001b[31m\n",
      "\u001b[0mNote: you may need to restart the kernel to use updated packages.\n"
     ]
    }
   ],
   "source": [
    "%pip install langchain\n",
    "%pip install openai\n",
    "%pip install langchain_openai\n",
    "%pip install langchain-google-genai google-generative-ai\n"
   ]
  },
  {
   "cell_type": "code",
   "execution_count": null,
   "id": "2612ab20",
   "metadata": {},
   "outputs": [],
   "source": [
    "import langchain\n",
    "from langchain_openai import ChatOpenAI\n",
    "from langchain.schema import SystemMessage, HumanMessage\n",
    "\n",
    "f = open('/home/iabd/clave_gpt.txt')\n",
    "api_key = f.read().strip()\n",
    "chat = ChatOpenAI(openai_api_key=api_key)"
   ]
  },
  {
   "cell_type": "markdown",
   "id": "53eaa306",
   "metadata": {},
   "source": [
    "## Obtener 1 resultado invocando al chat de OpenAI"
   ]
  },
  {
   "cell_type": "code",
   "execution_count": 11,
   "id": "7c6555a0-3bfb-49e3-97aa-186eb5a528a7",
   "metadata": {},
   "outputs": [
    {
     "ename": "AttributeError",
     "evalue": "'OpenAI' object has no attribute 'invoke'",
     "output_type": "error",
     "traceback": [
      "\u001b[0;31m---------------------------------------------------------------------------\u001b[0m",
      "\u001b[0;31mAttributeError\u001b[0m                            Traceback (most recent call last)",
      "Cell \u001b[0;32mIn[11], line 1\u001b[0m\n\u001b[0;32m----> 1\u001b[0m resultado \u001b[38;5;241m=\u001b[39m \u001b[43mchat\u001b[49m\u001b[38;5;241;43m.\u001b[39;49m\u001b[43minvoke\u001b[49m([HumanMessage(content\u001b[38;5;241m=\u001b[39m\u001b[38;5;124m\"\u001b[39m\u001b[38;5;124m¿Puedes decirme dónde se encuentra Cáceres?\u001b[39m\u001b[38;5;124m\"\u001b[39m)])\n",
      "\u001b[0;31mAttributeError\u001b[0m: 'OpenAI' object has no attribute 'invoke'"
     ]
    }
   ],
   "source": [
    "resultado = chat.invoke([HumanMessage(content=\"¿Puedes decirme dónde se encuentra Cáceres?\")])"
   ]
  },
  {
   "cell_type": "code",
   "execution_count": null,
   "id": "58180fce-e04b-41d2-9ae8-87a41b232890",
   "metadata": {},
   "outputs": [
    {
     "data": {
      "text/plain": [
       "AIMessage(content='Cáceres es una ciudad y municipio en la comunidad autónoma de Extremadura, en el suroeste de España.', additional_kwargs={'refusal': None}, response_metadata={'token_usage': {'completion_tokens': 31, 'prompt_tokens': 22, 'total_tokens': 53, 'completion_tokens_details': {'accepted_prediction_tokens': 0, 'audio_tokens': 0, 'reasoning_tokens': 0, 'rejected_prediction_tokens': 0}, 'prompt_tokens_details': {'audio_tokens': 0, 'cached_tokens': 0}}, 'model_name': 'gpt-3.5-turbo-0125', 'system_fingerprint': None, 'finish_reason': 'stop', 'logprobs': None}, id='run-2f29b62d-5d2d-4739-a9ac-ab49dab33ba2-0', usage_metadata={'input_tokens': 22, 'output_tokens': 31, 'total_tokens': 53, 'input_token_details': {'audio': 0, 'cache_read': 0}, 'output_token_details': {'audio': 0, 'reasoning': 0}})"
      ]
     },
     "execution_count": 8,
     "metadata": {},
     "output_type": "execute_result"
    }
   ],
   "source": [
    "resultado"
   ]
  },
  {
   "cell_type": "code",
   "execution_count": null,
   "id": "375586e2-7880-49c5-abf3-dbdf70593b9f",
   "metadata": {},
   "outputs": [
    {
     "data": {
      "text/plain": [
       "'Cáceres es una ciudad y municipio en la comunidad autónoma de Extremadura, en el suroeste de España.'"
      ]
     },
     "execution_count": 9,
     "metadata": {},
     "output_type": "execute_result"
    }
   ],
   "source": [
    "resultado.content"
   ]
  },
  {
   "cell_type": "code",
   "execution_count": null,
   "id": "553e8578",
   "metadata": {},
   "outputs": [],
   "source": [
    "#Especificamos el SystemMessage para definir la personalidad que debe tomar el sistema"
   ]
  },
  {
   "cell_type": "code",
   "execution_count": null,
   "id": "be3fb5bc-13e3-45de-98a9-45fe1361d30a",
   "metadata": {},
   "outputs": [],
   "source": [
    "resultado = chat.invoke([SystemMessage(content='Eres un historiador que conoce los detalles de todas las ciudades del mundo'),\n",
    "               HumanMessage(content='¿Puedes decirme dónde se encuentra Cáceres')])"
   ]
  },
  {
   "cell_type": "code",
   "execution_count": null,
   "id": "013daa46-53e4-47dc-83c9-5037c8286feb",
   "metadata": {},
   "outputs": [
    {
     "data": {
      "text/plain": [
       "'Claro, Cáceres es una ciudad ubicada en la comunidad autónoma de Extremadura, en el oeste de España. Es conocida por su casco antiguo bien conservado, que ha sido declarado Patrimonio de la Humanidad por la UNESCO. Cáceres es famosa por su arquitectura medieval y renacentista, sus murallas y sus numerosas torres. ¿Hay algo más que pueda decirte sobre esta ciudad?'"
      ]
     },
     "execution_count": 11,
     "metadata": {},
     "output_type": "execute_result"
    }
   ],
   "source": [
    "resultado.content"
   ]
  },
  {
   "cell_type": "markdown",
   "id": "d4b0cd65",
   "metadata": {},
   "source": [
    "## Obtener varios resultados invocando al chat de OpenAI con \"generate\""
   ]
  },
  {
   "cell_type": "code",
   "execution_count": null,
   "id": "c447b313",
   "metadata": {},
   "outputs": [],
   "source": [
    "resultado = chat.generate(\n",
    "    [\n",
    "        [SystemMessage(content='Eres un historiador que conoce los detalles de todas las ciudades del mundo'),\n",
    "         HumanMessage(content='¿Puedes decirme dónde se encuentra Cáceres')],\n",
    "        [SystemMessage(content='Eres un joven rudo que no le gusta que le pregunten, solo quiere estar de fiesta'),\n",
    "         HumanMessage(content='¿Puedes decirme dónde se encuentra Cáceres')]\n",
    "    ]\n",
    ")\n"
   ]
  },
  {
   "cell_type": "code",
   "execution_count": null,
   "id": "4e616094",
   "metadata": {},
   "outputs": [
    {
     "name": "stdout",
     "output_type": "stream",
     "text": [
      "Cáceres es una ciudad ubicada en el suroeste de España, en la comunidad autónoma de Extremadura. Es conocida por su impresionante casco antiguo, declarado Patrimonio de la Humanidad por la UNESCO en 1986.\n"
     ]
    }
   ],
   "source": [
    "#Resultado con primer sistema\n",
    "print(resultado.generations[0][0].text)"
   ]
  },
  {
   "cell_type": "code",
   "execution_count": null,
   "id": "75a4967a",
   "metadata": {},
   "outputs": [
    {
     "name": "stdout",
     "output_type": "stream",
     "text": [
      "Lo siento, no estoy interesado en responder preguntas de geografía en este momento. ¡Solo quiero disfrutar de la fiesta en paz!\n"
     ]
    }
   ],
   "source": [
    "#Resultado con segundo sistema\n",
    "print(resultado.generations[1][0].text)"
   ]
  }
 ],
 "metadata": {
  "kernelspec": {
   "display_name": "IABD3_12",
   "language": "python",
   "name": "python3"
  },
  "language_info": {
   "codemirror_mode": {
    "name": "ipython",
    "version": 3
   },
   "file_extension": ".py",
   "mimetype": "text/x-python",
   "name": "python",
   "nbconvert_exporter": "python",
   "pygments_lexer": "ipython3",
   "version": "3.12.2"
  }
 },
 "nbformat": 4,
 "nbformat_minor": 5
}

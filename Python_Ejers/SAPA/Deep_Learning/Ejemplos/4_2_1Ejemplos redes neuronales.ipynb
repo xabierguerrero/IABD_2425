{
 "cells": [
  {
   "cell_type": "markdown",
   "metadata": {},
   "source": [
    "# EJEMPLO - RED NEURONAL DENSA BÁSICA"
   ]
  },
  {
   "cell_type": "markdown",
   "metadata": {},
   "source": [
    "## Paso 1: Importar librerías "
   ]
  },
  {
   "cell_type": "code",
   "execution_count": 1,
   "metadata": {},
   "outputs": [
    {
     "name": "stderr",
     "output_type": "stream",
     "text": [
      "2024-12-10 18:40:52.260676: I tensorflow/core/platform/cpu_feature_guard.cc:210] This TensorFlow binary is optimized to use available CPU instructions in performance-critical operations.\n",
      "To enable the following instructions: AVX2 FMA, in other operations, rebuild TensorFlow with the appropriate compiler flags.\n"
     ]
    }
   ],
   "source": [
    "import numpy as np\n",
    "from sklearn.model_selection import train_test_split\n",
    "from tensorflow.keras.models import Sequential\n",
    "from tensorflow.keras.layers import Dense, Input\n",
    "from tensorflow.keras.utils import to_categorical"
   ]
  },
  {
   "cell_type": "markdown",
   "metadata": {},
   "source": [
    "## Paso 2: Preparación de los datos\n",
    "\n",
    "Creamos los datos dividios en dos. Una matriz de 4x2 para los datos de entrenamiento y un array de 4 elementos para los datos objetivo."
   ]
  },
  {
   "cell_type": "code",
   "execution_count": 2,
   "metadata": {},
   "outputs": [
    {
     "name": "stdout",
     "output_type": "stream",
     "text": [
      "[[0.37454012 0.95071431]\n",
      " [0.73199394 0.59865848]\n",
      " [0.15601864 0.15599452]\n",
      " ...\n",
      " [0.75137509 0.65695516]\n",
      " [0.95661462 0.06895802]\n",
      " [0.05705472 0.28218707]]\n",
      "[1 1 0 0 1 0 1 0 0 0 0 0 1 0 0 0 1 1 0 1 0 0 0 0 0 1 1 1 0 0 0 1 0 0 1 0 0\n",
      " 1 0 0 1 0 0 1 1 0 1 1 0 0 0 0 1 1 0 0 1 1 0 1 1 0 0 1 0 0 0 1 1 1 1 0 0 1\n",
      " 0 1 0 1 1 0 1 1 0 0 0 0 0 0 1 1 0 1 0 1 0 0 1 0 1 1 0 1 0 0 0 1 0 0 1 1 1\n",
      " 0 0 1 1 1 1 0 0 0 1 1 0 1 1 0 1 0 1 0 1 0 1 1 0 1 1 1 1 1 1 0 0 1 0 0 1 0\n",
      " 0 0 0 1 1 0 1 0 0 1 0 0 1 0 1 1 0 1 0 0 1 0 0 0 1 0 1 1 0 0 0 1 1 1 1 1 0\n",
      " 0 0 0 0 1 0 1 1 0 1 1 1 1 1 1 1 1 1 0 0 1 1 1 0 1 1 0 0 1 0 0 0 0 0 0 1 0\n",
      " 1 1 0 1 1 0 0 0 0 1 1 1 1 0 0 1 0 1 1 1 1 0 1 1 0 0 0 1 1 1 0 1 1 1 1 0 1\n",
      " 1 0 1 1 0 0 1 1 1 1 0 1 0 0 0 1 1 1 1 0 1 0 0 0 0 1 1 1 1 1 0 1 0 0 0 0 0\n",
      " 0 1 0 0 0 0 0 0 1 0 0 1 0 1 0 0 0 1 0 1 1 0 0 0 0 0 1 1 1 0 1 0 0 1 1 0 0\n",
      " 0 0 1 0 1 0 1 1 0 1 0 0 0 0 0 0 0 0 0 1 1 0 1 0 1 1 0 1 0 1 0 0 0 1 1 1 0\n",
      " 0 1 1 0 1 1 0 0 1 1 0 0 0 1 1 0 0 0 0 1 1 0 1 0 1 0 1 0 1 1 0 1 1 1 0 1 1\n",
      " 1 0 0 0 0 1 0 1 0 0 0 1 1 0 1 0 1 1 0 1 0 0 0 1 0 0 0 1 0 1 0 1 0 0 0 0 0\n",
      " 0 1 1 0 1 0 0 0 1 1 0 0 1 0 1 0 1 1 0 0 0 0 1 0 0 0 0 1 0 1 1 1 1 0 0 0 0\n",
      " 0 0 1 1 1 0 0 0 1 1 0 1 1 1 1 0 0 1 1 0 1 1 1 0 1 0 1 0 0 0 1 1 1 1 0 0 0\n",
      " 1 0 1 0 1 0 0 1 1 1 1 1 1 1 1 0 0 0 0 1 1 1 0 1 1 0 1 1 1 0 0 1 1 1 1 1 0\n",
      " 1 0 1 0 0 1 1 1 0 0 1 0 0 1 1 1 1 1 1 1 1 1 1 1 0 0 1 0 1 0 1 0 1 0 1 1 1\n",
      " 1 0 1 0 0 0 1 0 0 0 1 1 1 0 0 0 0 0 1 1 1 0 1 1 0 1 1 1 1 1 1 0 1 1 0 1 0\n",
      " 0 1 0 0 0 0 1 0 0 1 0 1 0 0 0 0 0 1 1 0 1 0 0 1 1 1 0 1 1 1 0 0 1 1 0 1 1\n",
      " 1 1 0 0 0 1 1 0 1 1 1 1 1 0 1 1 0 1 0 1 1 1 0 0 0 1 0 0 1 0 0 1 0 1 0 0 1\n",
      " 1 1 0 0 1 0 1 0 0 1 0 1 0 1 0 1 0 1 1 1 1 1 1 1 0 1 0 1 0 1 1 1 1 1 0 1 1\n",
      " 0 0 0 1 0 0 0 1 1 1 0 0 0 1 1 1 0 0 1 1 0 0 0 0 1 0 0 0 0 0 0 0 1 1 0 1 1\n",
      " 0 1 1 0 1 1 0 1 0 1 0 0 1 0 1 1 1 1 1 0 1 0 0 0 0 0 0 0 1 0 1 1 1 0 1 0 0\n",
      " 0 1 1 1 0 1 1 1 0 0 1 0 0 1 0 0 1 1 1 1 0 1 1 1 0 0 1 1 0 1 1 0 0 0 0 1 1\n",
      " 0 0 0 1 0 1 1 0 1 0 0 0 1 1 0 0 1 0 0 1 0 0 0 0 0 0 1 1 0 1 0 0 1 0 1 1 1\n",
      " 1 1 0 1 1 1 0 0 1 0 0 0 1 0 1 0 0 1 0 1 1 1 0 1 1 1 1 1 1 1 0 1 0 1 1 0 1\n",
      " 1 1 1 1 1 1 0 1 0 0 1 1 1 1 0 1 1 0 0 1 0 1 1 0 1 0 0 0 1 0 1 1 1 1 0 0 0\n",
      " 0 1 0 1 1 1 1 0 0 1 1 0 0 0 1 1 1 1 0 1 1 0 0 0 0 1 0 1 0 0 0 1 1 0 0 1 1\n",
      " 0]\n"
     ]
    }
   ],
   "source": [
    "# Generación de datos simulados\n",
    "np.random.seed(42)\n",
    "X = np.random.rand(1000, 2)  # 1000 muestras con 2 características\n",
    "y = (X[:, 0] + X[:, 1] > 1).astype(int)  # Etiquetas binarias: 1 si la suma de las características > 1\n",
    "\n",
    "print(X)\n",
    "print(y)"
   ]
  },
  {
   "cell_type": "markdown",
   "metadata": {},
   "source": [
    "## Paso 3: División de los datos"
   ]
  },
  {
   "cell_type": "code",
   "execution_count": 3,
   "metadata": {},
   "outputs": [],
   "source": [
    "# Dividir los datos en entrenamiento, validación y pruebas\n",
    "X_train, X_temp, y_train, y_temp = train_test_split(X, y, test_size=0.2, random_state=42)\n",
    "X_val, X_test, y_val, y_test = train_test_split(X_temp, y_temp, test_size=0.5, random_state=42)"
   ]
  },
  {
   "cell_type": "markdown",
   "metadata": {},
   "source": [
    "## Paso 4: Creación del modelo \n",
    "\n",
    "Creación del modelo de Red Neuronal Densa (RND) básica y añadiremos la definición de cada una de las capas\n",
    "\n",
    "Elemento Model:\n",
    "+ Sequential(): inicializa una red neuronal secuencial\n",
    "\n",
    "+ add():\n",
    "    + Capa Input: permite especificar el número de características de los datos de entradas (en este caso tenemos 2 variables).\n",
    "    + Capa Dense: en este caso se crean 2 capas, una con 16 neuronas  y la de output con 1\n",
    "    + El atributo 'activation' establece la función de activación a utilizar para cada una de las capas. \n",
    "\n",
    "+ compile():\n",
    "    + loss: especifica la función de pérdida (loss function)\n",
    "    + optimizer: ajusta los pesos del modelo durante el entrenamiento con el objetivo de minimizar la función de pérdida.\n",
    "    + metrics: son utilizadas para evaluar el modelo."
   ]
  },
  {
   "cell_type": "code",
   "execution_count": null,
   "metadata": {},
   "outputs": [],
   "source": [
    "import matplotlib.pyplot as plt\n",
    "\n",
    "def draw_nn_diagram():\n",
    "    fig, ax = plt.subplots(figsize=(10, 6))\n",
    "    ax.axis(\"off\")\n",
    "\n",
    "    # Capas del modelo\n",
    "    layers = {\n",
    "        \"Input Layer\": {\"size\": 2, \"color\": \"orange\"},\n",
    "        \"Hidden Layer\": {\"size\": 16, \"color\": \"green\"},\n",
    "        \"Output Layer\": {\"size\": 1, \"color\": \"red\"},\n",
    "    }\n",
    "    layer_spacing = 4  # Espaciado entre capas\n",
    "    max_neurons = max([v[\"size\"] for v in layers.values()])  # Máximo de neuronas por capa\n",
    "\n",
    "    # Dibujar las capas y conexiones\n",
    "    layer_positions = []\n",
    "    for i, (name, props) in enumerate(layers.items()):\n",
    "        x = i * layer_spacing\n",
    "        y_start = (max_neurons - props[\"size\"]) / 2\n",
    "\n",
    "        layer_pos = []\n",
    "        for j in range(props[\"size\"]):\n",
    "            y = max_neurons - y_start - j - 1\n",
    "            circle = plt.Circle((x, y), 0.4, color=props[\"color\"], ec=\"black\", lw=1.5)\n",
    "            ax.add_patch(circle)\n",
    "            layer_pos.append((x, y))\n",
    "        layer_positions.append(layer_pos)\n",
    "        \n",
    "        # Etiqueta de la capa\n",
    "        ax.text(x, max_neurons + 0.5, name, ha=\"center\", fontsize=12, color=props[\"color\"])\n",
    "\n",
    "    # Dibujar conexiones entre capas\n",
    "    for i in range(len(layer_positions) - 1):\n",
    "        current_layer = layer_positions[i]\n",
    "        next_layer = layer_positions[i + 1]\n",
    "\n",
    "        for start in current_layer:\n",
    "            for end in next_layer:\n",
    "                ax.plot([start[0] + 0.4, end[0] - 0.4], [start[1], end[1]], \"k-\", lw=0.5)\n",
    "\n",
    "    # Título\n",
    "    \n",
    "    plt.show()\n",
    "\n",
    "draw_nn_diagram()\n"
   ]
  },
  {
   "cell_type": "markdown",
   "metadata": {},
   "source": [
    "#### OPCIÓN 1"
   ]
  },
  {
   "cell_type": "code",
   "execution_count": 5,
   "metadata": {},
   "outputs": [],
   "source": [
    "model = Sequential()\n",
    "model.add(Input(shape=(2,)))\n",
    "model.add(Dense(16, activation=\"relu\"))\n",
    "model.add(Dense(1, activation=\"sigmoid\"))"
   ]
  },
  {
   "cell_type": "markdown",
   "metadata": {},
   "source": [
    "#### OPCIÓN 2"
   ]
  },
  {
   "cell_type": "code",
   "execution_count": 6,
   "metadata": {},
   "outputs": [],
   "source": [
    "model = Sequential([\n",
    "    Input(shape=(2,)),               # Capa de entrada\n",
    "    Dense(16, activation=\"relu\"),    # Capa oculta\n",
    "    Dense(1, activation=\"sigmoid\")   # Capa de salida\n",
    "])"
   ]
  },
  {
   "cell_type": "code",
   "execution_count": 7,
   "metadata": {},
   "outputs": [],
   "source": [
    "model.compile(loss=\"binary_crossentropy\", optimizer=\"adam\", metrics=[\"binary_accuracy\", \"AUC\"])"
   ]
  },
  {
   "cell_type": "markdown",
   "metadata": {},
   "source": [
    "## Paso 5: Entrenamiento el modelo con los datos de training\n",
    "\n",
    "fit():\n",
    "+   epochs: número de iteraciones. En general, es posible que necesites experimentar con diferentes valores de épocas para encontrar el equilibrio correcto entre subajuste y sobreajuste."
   ]
  },
  {
   "cell_type": "code",
   "execution_count": 8,
   "metadata": {},
   "outputs": [
    {
     "name": "stdout",
     "output_type": "stream",
     "text": [
      "Epoch 1/20\n",
      "\u001b[1m25/25\u001b[0m \u001b[32m━━━━━━━━━━━━━━━━━━━━\u001b[0m\u001b[37m\u001b[0m \u001b[1m1s\u001b[0m 11ms/step - AUC: 0.4749 - binary_accuracy: 0.4625 - loss: 0.6959 - val_AUC: 0.8037 - val_binary_accuracy: 0.6100 - val_loss: 0.6810\n",
      "Epoch 2/20\n",
      "\u001b[1m25/25\u001b[0m \u001b[32m━━━━━━━━━━━━━━━━━━━━\u001b[0m\u001b[37m\u001b[0m \u001b[1m0s\u001b[0m 2ms/step - AUC: 0.7694 - binary_accuracy: 0.6077 - loss: 0.6794 - val_AUC: 0.9109 - val_binary_accuracy: 0.5700 - val_loss: 0.6689\n",
      "Epoch 3/20\n",
      "\u001b[1m25/25\u001b[0m \u001b[32m━━━━━━━━━━━━━━━━━━━━\u001b[0m\u001b[37m\u001b[0m \u001b[1m0s\u001b[0m 2ms/step - AUC: 0.8700 - binary_accuracy: 0.5659 - loss: 0.6643 - val_AUC: 0.9553 - val_binary_accuracy: 0.5500 - val_loss: 0.6580\n",
      "Epoch 4/20\n",
      "\u001b[1m25/25\u001b[0m \u001b[32m━━━━━━━━━━━━━━━━━━━━\u001b[0m\u001b[37m\u001b[0m \u001b[1m0s\u001b[0m 2ms/step - AUC: 0.9202 - binary_accuracy: 0.5643 - loss: 0.6544 - val_AUC: 0.9736 - val_binary_accuracy: 0.5800 - val_loss: 0.6474\n",
      "Epoch 5/20\n",
      "\u001b[1m25/25\u001b[0m \u001b[32m━━━━━━━━━━━━━━━━━━━━\u001b[0m\u001b[37m\u001b[0m \u001b[1m0s\u001b[0m 3ms/step - AUC: 0.9379 - binary_accuracy: 0.6046 - loss: 0.6384 - val_AUC: 0.9812 - val_binary_accuracy: 0.5900 - val_loss: 0.6364\n",
      "Epoch 6/20\n",
      "\u001b[1m25/25\u001b[0m \u001b[32m━━━━━━━━━━━━━━━━━━━━\u001b[0m\u001b[37m\u001b[0m \u001b[1m0s\u001b[0m 2ms/step - AUC: 0.9634 - binary_accuracy: 0.6238 - loss: 0.6323 - val_AUC: 0.9880 - val_binary_accuracy: 0.6400 - val_loss: 0.6237\n",
      "Epoch 7/20\n",
      "\u001b[1m25/25\u001b[0m \u001b[32m━━━━━━━━━━━━━━━━━━━━\u001b[0m\u001b[37m\u001b[0m \u001b[1m0s\u001b[0m 2ms/step - AUC: 0.9602 - binary_accuracy: 0.6880 - loss: 0.6259 - val_AUC: 0.9904 - val_binary_accuracy: 0.6700 - val_loss: 0.6117\n",
      "Epoch 8/20\n",
      "\u001b[1m25/25\u001b[0m \u001b[32m━━━━━━━━━━━━━━━━━━━━\u001b[0m\u001b[37m\u001b[0m \u001b[1m0s\u001b[0m 2ms/step - AUC: 0.9767 - binary_accuracy: 0.7475 - loss: 0.6027 - val_AUC: 0.9924 - val_binary_accuracy: 0.7100 - val_loss: 0.5984\n",
      "Epoch 9/20\n",
      "\u001b[1m25/25\u001b[0m \u001b[32m━━━━━━━━━━━━━━━━━━━━\u001b[0m\u001b[37m\u001b[0m \u001b[1m0s\u001b[0m 2ms/step - AUC: 0.9808 - binary_accuracy: 0.7806 - loss: 0.5855 - val_AUC: 0.9954 - val_binary_accuracy: 0.7300 - val_loss: 0.5851\n",
      "Epoch 10/20\n",
      "\u001b[1m25/25\u001b[0m \u001b[32m━━━━━━━━━━━━━━━━━━━━\u001b[0m\u001b[37m\u001b[0m \u001b[1m0s\u001b[0m 2ms/step - AUC: 0.9878 - binary_accuracy: 0.8117 - loss: 0.5795 - val_AUC: 0.9972 - val_binary_accuracy: 0.7800 - val_loss: 0.5707\n",
      "Epoch 11/20\n",
      "\u001b[1m25/25\u001b[0m \u001b[32m━━━━━━━━━━━━━━━━━━━━\u001b[0m\u001b[37m\u001b[0m \u001b[1m0s\u001b[0m 4ms/step - AUC: 0.9875 - binary_accuracy: 0.8340 - loss: 0.5593 - val_AUC: 0.9978 - val_binary_accuracy: 0.8400 - val_loss: 0.5558\n",
      "Epoch 12/20\n",
      "\u001b[1m25/25\u001b[0m \u001b[32m━━━━━━━━━━━━━━━━━━━━\u001b[0m\u001b[37m\u001b[0m \u001b[1m0s\u001b[0m 2ms/step - AUC: 0.9926 - binary_accuracy: 0.8561 - loss: 0.5482 - val_AUC: 0.9980 - val_binary_accuracy: 0.8600 - val_loss: 0.5407\n",
      "Epoch 13/20\n",
      "\u001b[1m25/25\u001b[0m \u001b[32m━━━━━━━━━━━━━━━━━━━━\u001b[0m\u001b[37m\u001b[0m \u001b[1m0s\u001b[0m 2ms/step - AUC: 0.9912 - binary_accuracy: 0.8648 - loss: 0.5403 - val_AUC: 0.9986 - val_binary_accuracy: 0.8700 - val_loss: 0.5256\n",
      "Epoch 14/20\n",
      "\u001b[1m25/25\u001b[0m \u001b[32m━━━━━━━━━━━━━━━━━━━━\u001b[0m\u001b[37m\u001b[0m \u001b[1m0s\u001b[0m 2ms/step - AUC: 0.9920 - binary_accuracy: 0.8584 - loss: 0.5293 - val_AUC: 0.9994 - val_binary_accuracy: 0.8800 - val_loss: 0.5100\n",
      "Epoch 15/20\n",
      "\u001b[1m25/25\u001b[0m \u001b[32m━━━━━━━━━━━━━━━━━━━━\u001b[0m\u001b[37m\u001b[0m \u001b[1m0s\u001b[0m 2ms/step - AUC: 0.9957 - binary_accuracy: 0.8908 - loss: 0.5120 - val_AUC: 0.9996 - val_binary_accuracy: 0.9000 - val_loss: 0.4940\n",
      "Epoch 16/20\n",
      "\u001b[1m25/25\u001b[0m \u001b[32m━━━━━━━━━━━━━━━━━━━━\u001b[0m\u001b[37m\u001b[0m \u001b[1m0s\u001b[0m 2ms/step - AUC: 0.9957 - binary_accuracy: 0.8976 - loss: 0.4934 - val_AUC: 0.9996 - val_binary_accuracy: 0.9100 - val_loss: 0.4786\n",
      "Epoch 17/20\n",
      "\u001b[1m25/25\u001b[0m \u001b[32m━━━━━━━━━━━━━━━━━━━━\u001b[0m\u001b[37m\u001b[0m \u001b[1m0s\u001b[0m 2ms/step - AUC: 0.9968 - binary_accuracy: 0.9186 - loss: 0.4837 - val_AUC: 0.9994 - val_binary_accuracy: 0.9100 - val_loss: 0.4635\n",
      "Epoch 18/20\n",
      "\u001b[1m25/25\u001b[0m \u001b[32m━━━━━━━━━━━━━━━━━━━━\u001b[0m\u001b[37m\u001b[0m \u001b[1m0s\u001b[0m 2ms/step - AUC: 0.9969 - binary_accuracy: 0.9272 - loss: 0.4660 - val_AUC: 1.0000 - val_binary_accuracy: 0.9100 - val_loss: 0.4492\n",
      "Epoch 19/20\n",
      "\u001b[1m25/25\u001b[0m \u001b[32m━━━━━━━━━━━━━━━━━━━━\u001b[0m\u001b[37m\u001b[0m \u001b[1m0s\u001b[0m 2ms/step - AUC: 0.9986 - binary_accuracy: 0.9371 - loss: 0.4499 - val_AUC: 1.0000 - val_binary_accuracy: 0.9200 - val_loss: 0.4340\n",
      "Epoch 20/20\n",
      "\u001b[1m25/25\u001b[0m \u001b[32m━━━━━━━━━━━━━━━━━━━━\u001b[0m\u001b[37m\u001b[0m \u001b[1m0s\u001b[0m 2ms/step - AUC: 0.9977 - binary_accuracy: 0.9381 - loss: 0.4307 - val_AUC: 1.0000 - val_binary_accuracy: 0.9200 - val_loss: 0.4203\n"
     ]
    }
   ],
   "source": [
    "# Entrenar el modelo\n",
    "history = model.fit(\n",
    "    X_train, y_train,\n",
    "    validation_data=(X_val, y_val),\n",
    "    epochs=20,\n",
    "    batch_size=32\n",
    ")"
   ]
  },
  {
   "cell_type": "markdown",
   "metadata": {},
   "source": [
    "+ Epoch X/Y: indica el número de la época actual (X) y el número total de épocas a entrenar (Y).\n",
    "+ AUC: precisión del modelo según la métrica AUC sobre los datos de entrenamiento durante la época actual en el conjunto de entrenamiento.\n",
    "+ binary_accuracy: precisión del modelo según la métrica binary_accuracy sobre los datos de entrenamiento durante la época actual en el conjunto de entrenamiento.\n",
    "+ loss: pérdida del modelo calculada con la función de pérdida definida (binary_crossentropy en este caso) sobre los datos de entrenamiento.\n",
    "Un valor menor significa que el modelo está aprendiendo mejor.\n",
    "+ val_binary_AUC: precisión del modelo según la métrica AUAC sobre el conjunto de validación después de la época actual.\n",
    "+ val_binary_accuracy: precisión del modelo según la métrica binary_accuracy sobre el conjunto de validación después de la época actual.\n",
    "+ val_loss: pérdida del modelo en el conjunto de validación después de la época actual. Si la val_loss aumenta con el tiempo, puede ser un indicativo de sobreajuste."
   ]
  },
  {
   "cell_type": "markdown",
   "metadata": {},
   "source": [
    "## Paso 6: Evaluación el modelo con los datos de testing"
   ]
  },
  {
   "cell_type": "code",
   "execution_count": 9,
   "metadata": {},
   "outputs": [
    {
     "name": "stdout",
     "output_type": "stream",
     "text": [
      "\u001b[1m4/4\u001b[0m \u001b[32m━━━━━━━━━━━━━━━━━━━━\u001b[0m\u001b[37m\u001b[0m \u001b[1m0s\u001b[0m 4ms/step - AUC: 0.9973 - binary_accuracy: 0.8860 - loss: 0.4372\n",
      "Conjunto de prueba - Pérdida: 0.4264422655105591, Precisión: 0.8999999761581421, AUC: 0.9969806671142578\n"
     ]
    }
   ],
   "source": [
    "# Evaluar el modelo en el conjunto de pruebas\n",
    "test_loss, test_accuracy, test_auc = model.evaluate(X_test, y_test)\n",
    "print(f\"Conjunto de prueba - Pérdida: {test_loss}, Precisión: {test_accuracy}, AUC: {test_auc}\")"
   ]
  },
  {
   "cell_type": "markdown",
   "metadata": {},
   "source": [
    "## Paso 7: Generación de predicciones"
   ]
  },
  {
   "cell_type": "code",
   "execution_count": 13,
   "metadata": {},
   "outputs": [
    {
     "name": "stdout",
     "output_type": "stream",
     "text": [
      "\u001b[1m4/4\u001b[0m \u001b[32m━━━━━━━━━━━━━━━━━━━━\u001b[0m\u001b[37m\u001b[0m \u001b[1m0s\u001b[0m 1ms/step \n"
     ]
    }
   ],
   "source": [
    "# Generar predicciones\n",
    "predictions = model.predict(X_test)\n",
    "predicted_classes = predictions.round()  # Convertir probabilidades en clases binarias"
   ]
  },
  {
   "cell_type": "markdown",
   "metadata": {},
   "source": [
    "El código realiza una predicción utilizando el modelo entrenado (model) en el conjunto de datos de entrenamiento (training_data): \n",
    "+ predict:devuelve las predicciones del modelo\n",
    "\n",
    "+ round: redondea los valores de las predicciones a los enteros más cercanos. Este paso es común cuando se trata de problemas de clasificación binaria, donde las predicciones a menudo representan probabilidades y se redondean a 0 o 1 para obtener etiquetas binarias."
   ]
  },
  {
   "cell_type": "code",
   "execution_count": 11,
   "metadata": {},
   "outputs": [
    {
     "name": "stdout",
     "output_type": "stream",
     "text": [
      "Entrada: [0.64399954 0.40873417], Predicción: [1.], Real: 1\n",
      "Entrada: [0.07125673 0.01210848], Predicción: [0.], Real: 0\n",
      "Entrada: [0.50761038 0.24240973], Predicción: [0.], Real: 0\n",
      "Entrada: [0.80744016 0.8960913 ], Predicción: [1.], Real: 1\n",
      "Entrada: [0.13071038 0.88660422], Predicción: [1.], Real: 1\n",
      "Entrada: [0.40076306 0.55964033], Predicción: [1.], Real: 0\n",
      "Entrada: [0.61341139 0.16703395], Predicción: [0.], Real: 0\n",
      "Entrada: [0.06649627 0.74112065], Predicción: [0.], Real: 0\n",
      "Entrada: [0.7325721  0.21494038], Predicción: [1.], Real: 0\n",
      "Entrada: [0.8766536  0.40348287], Predicción: [1.], Real: 1\n"
     ]
    }
   ],
   "source": [
    "# Mostrar algunas predicciones y etiquetas reales\n",
    "for i in range(10):  # Mostrar las primeras 10 predicciones\n",
    "    print(f\"Entrada: {X_test[i]}, Predicción: {predicted_classes[i]}, Real: {y_test[i]}\")"
   ]
  },
  {
   "cell_type": "code",
   "execution_count": 12,
   "metadata": {},
   "outputs": [
    {
     "data": {
      "text/html": [
       "<pre style=\"white-space:pre;overflow-x:auto;line-height:normal;font-family:Menlo,'DejaVu Sans Mono',consolas,'Courier New',monospace\"><span style=\"font-weight: bold\">Model: \"sequential_1\"</span>\n",
       "</pre>\n"
      ],
      "text/plain": [
       "\u001b[1mModel: \"sequential_1\"\u001b[0m\n"
      ]
     },
     "metadata": {},
     "output_type": "display_data"
    },
    {
     "data": {
      "text/html": [
       "<pre style=\"white-space:pre;overflow-x:auto;line-height:normal;font-family:Menlo,'DejaVu Sans Mono',consolas,'Courier New',monospace\">┏━━━━━━━━━━━━━━━━━━━━━━━━━━━━━━━━━┳━━━━━━━━━━━━━━━━━━━━━━━━┳━━━━━━━━━━━━━━━┓\n",
       "┃<span style=\"font-weight: bold\"> Layer (type)                    </span>┃<span style=\"font-weight: bold\"> Output Shape           </span>┃<span style=\"font-weight: bold\">       Param # </span>┃\n",
       "┡━━━━━━━━━━━━━━━━━━━━━━━━━━━━━━━━━╇━━━━━━━━━━━━━━━━━━━━━━━━╇━━━━━━━━━━━━━━━┩\n",
       "│ dense_2 (<span style=\"color: #0087ff; text-decoration-color: #0087ff\">Dense</span>)                 │ (<span style=\"color: #00d7ff; text-decoration-color: #00d7ff\">None</span>, <span style=\"color: #00af00; text-decoration-color: #00af00\">16</span>)             │            <span style=\"color: #00af00; text-decoration-color: #00af00\">48</span> │\n",
       "├─────────────────────────────────┼────────────────────────┼───────────────┤\n",
       "│ dense_3 (<span style=\"color: #0087ff; text-decoration-color: #0087ff\">Dense</span>)                 │ (<span style=\"color: #00d7ff; text-decoration-color: #00d7ff\">None</span>, <span style=\"color: #00af00; text-decoration-color: #00af00\">1</span>)              │            <span style=\"color: #00af00; text-decoration-color: #00af00\">17</span> │\n",
       "└─────────────────────────────────┴────────────────────────┴───────────────┘\n",
       "</pre>\n"
      ],
      "text/plain": [
       "┏━━━━━━━━━━━━━━━━━━━━━━━━━━━━━━━━━┳━━━━━━━━━━━━━━━━━━━━━━━━┳━━━━━━━━━━━━━━━┓\n",
       "┃\u001b[1m \u001b[0m\u001b[1mLayer (type)                   \u001b[0m\u001b[1m \u001b[0m┃\u001b[1m \u001b[0m\u001b[1mOutput Shape          \u001b[0m\u001b[1m \u001b[0m┃\u001b[1m \u001b[0m\u001b[1m      Param #\u001b[0m\u001b[1m \u001b[0m┃\n",
       "┡━━━━━━━━━━━━━━━━━━━━━━━━━━━━━━━━━╇━━━━━━━━━━━━━━━━━━━━━━━━╇━━━━━━━━━━━━━━━┩\n",
       "│ dense_2 (\u001b[38;5;33mDense\u001b[0m)                 │ (\u001b[38;5;45mNone\u001b[0m, \u001b[38;5;34m16\u001b[0m)             │            \u001b[38;5;34m48\u001b[0m │\n",
       "├─────────────────────────────────┼────────────────────────┼───────────────┤\n",
       "│ dense_3 (\u001b[38;5;33mDense\u001b[0m)                 │ (\u001b[38;5;45mNone\u001b[0m, \u001b[38;5;34m1\u001b[0m)              │            \u001b[38;5;34m17\u001b[0m │\n",
       "└─────────────────────────────────┴────────────────────────┴───────────────┘\n"
      ]
     },
     "metadata": {},
     "output_type": "display_data"
    },
    {
     "data": {
      "text/html": [
       "<pre style=\"white-space:pre;overflow-x:auto;line-height:normal;font-family:Menlo,'DejaVu Sans Mono',consolas,'Courier New',monospace\"><span style=\"font-weight: bold\"> Total params: </span><span style=\"color: #00af00; text-decoration-color: #00af00\">197</span> (792.00 B)\n",
       "</pre>\n"
      ],
      "text/plain": [
       "\u001b[1m Total params: \u001b[0m\u001b[38;5;34m197\u001b[0m (792.00 B)\n"
      ]
     },
     "metadata": {},
     "output_type": "display_data"
    },
    {
     "data": {
      "text/html": [
       "<pre style=\"white-space:pre;overflow-x:auto;line-height:normal;font-family:Menlo,'DejaVu Sans Mono',consolas,'Courier New',monospace\"><span style=\"font-weight: bold\"> Trainable params: </span><span style=\"color: #00af00; text-decoration-color: #00af00\">65</span> (260.00 B)\n",
       "</pre>\n"
      ],
      "text/plain": [
       "\u001b[1m Trainable params: \u001b[0m\u001b[38;5;34m65\u001b[0m (260.00 B)\n"
      ]
     },
     "metadata": {},
     "output_type": "display_data"
    },
    {
     "data": {
      "text/html": [
       "<pre style=\"white-space:pre;overflow-x:auto;line-height:normal;font-family:Menlo,'DejaVu Sans Mono',consolas,'Courier New',monospace\"><span style=\"font-weight: bold\"> Non-trainable params: </span><span style=\"color: #00af00; text-decoration-color: #00af00\">0</span> (0.00 B)\n",
       "</pre>\n"
      ],
      "text/plain": [
       "\u001b[1m Non-trainable params: \u001b[0m\u001b[38;5;34m0\u001b[0m (0.00 B)\n"
      ]
     },
     "metadata": {},
     "output_type": "display_data"
    },
    {
     "data": {
      "text/html": [
       "<pre style=\"white-space:pre;overflow-x:auto;line-height:normal;font-family:Menlo,'DejaVu Sans Mono',consolas,'Courier New',monospace\"><span style=\"font-weight: bold\"> Optimizer params: </span><span style=\"color: #00af00; text-decoration-color: #00af00\">132</span> (532.00 B)\n",
       "</pre>\n"
      ],
      "text/plain": [
       "\u001b[1m Optimizer params: \u001b[0m\u001b[38;5;34m132\u001b[0m (532.00 B)\n"
      ]
     },
     "metadata": {},
     "output_type": "display_data"
    }
   ],
   "source": [
    "model.summary()"
   ]
  },
  {
   "cell_type": "markdown",
   "metadata": {},
   "source": [
    "2 + 1 = 3\n",
    "\n",
    "16 x 3 = 48\n",
    "\n",
    "16 + 1 = 17\n",
    "\n",
    "17 x 1 = 17\n",
    "\n",
    "48 + 17 = 65"
   ]
  }
 ],
 "metadata": {
  "kernelspec": {
   "display_name": "sapa",
   "language": "python",
   "name": "python3"
  },
  "language_info": {
   "codemirror_mode": {
    "name": "ipython",
    "version": 3
   },
   "file_extension": ".py",
   "mimetype": "text/x-python",
   "name": "python",
   "nbconvert_exporter": "python",
   "pygments_lexer": "ipython3",
   "version": "3.12.4"
  },
  "nav_menu": {
   "height": "264px",
   "width": "369px"
  },
  "toc": {
   "navigate_menu": true,
   "number_sections": true,
   "sideBar": true,
   "threshold": 6,
   "toc_cell": false,
   "toc_section_display": "block",
   "toc_window_display": false
  }
 },
 "nbformat": 4,
 "nbformat_minor": 4
}

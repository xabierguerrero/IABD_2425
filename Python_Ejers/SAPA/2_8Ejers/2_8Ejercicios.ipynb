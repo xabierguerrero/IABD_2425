{
 "cells": [
  {
   "cell_type": "markdown",
   "metadata": {},
   "source": [
    "# EJERCICIOS"
   ]
  },
  {
   "cell_type": "code",
   "execution_count": 80,
   "metadata": {},
   "outputs": [],
   "source": [
    "import matplotlib.pyplot as plt\n",
    "import numpy as np\n",
    "import pandas as pd\n",
    "import joblib\n",
    "import seaborn as sns\n",
    "from scipy.stats import reciprocal\n",
    "from sklearn.datasets import load_digits\n",
    "from sklearn.neighbors import KNeighborsClassifier\n",
    "from sklearn.model_selection import GridSearchCV, train_test_split, RandomizedSearchCV, cross_validate, cross_val_predict\n",
    "from sklearn.preprocessing import StandardScaler, OneHotEncoder, MultiLabelBinarizer, FunctionTransformer\n",
    "from sklearn.compose import ColumnTransformer\n",
    "from sklearn.pipeline import Pipeline, make_pipeline\n",
    "from sklearn.linear_model import LogisticRegression, SGDClassifier\n",
    "from sklearn.ensemble import RandomForestClassifier\n",
    "from sklearn.svm import SVC \n",
    "from sklearn.impute import SimpleImputer\n",
    "from sklearn.metrics import confusion_matrix, precision_score, recall_score, f1_score, roc_curve, auc, accuracy_score, roc_auc_score, ConfusionMatrixDisplay\n",
    "from sklearn.feature_extraction.text import TfidfVectorizer"
   ]
  },
  {
   "cell_type": "markdown",
   "metadata": {},
   "source": [
    "## EJERCICIO 1"
   ]
  },
  {
   "cell_type": "markdown",
   "metadata": {},
   "source": [
    "Vamos a trabajar con el siguiente conjunto de datos: https://www.datacamp.com/es/datalab/datasets/dataset-python-loans\n",
    "\n",
    "| Variable      \t| Explicación                                                                                                             |\n",
    "|-------------------|-------------------------------------------------------------------------------------------------------------------------|\n",
    "| credit_policy\t    | 1 si el cliente cumple con los criterios de suscripción de crédito; 0 en caso contrario.                                |\n",
    "| purpose\t        | El propósito del préstamo.                                                                                              |\n",
    "| int_rate\t        | La tasa de interés del préstamo (a los prestatarios más riesgosos se les asignan tasas más altas).                      |\n",
    "| installment\t    | Las cuotas mensuales del prestamo                                                                                       |\n",
    "| log_annual_inc    | El logaritmo natural del ingreso anual declarado por el prestatario.                                                    |\n",
    "| dti\t            | La relación deuda-ingreso del prestatario (monto de deuda dividido por ingresos anuales).                               |\n",
    "| fico\t            | El puntaje de crédito FICO del prestatario.                                                                             |\n",
    "| days_with_cr_line\t| El número de días que el prestatario ha tenido una línea de crédito.                                                    |\n",
    "| revol_bal\t        | El saldo rotativo del prestatario (monto no pagado al final del ciclo de facturación de la tarjeta).                    |\n",
    "| revol_util        | La tasa de utilización de la línea de crédito del prestatario (monto de crédito utilizado respecto al total disponible).|\n",
    "| inq_last_6mths\t| El número de consultas de los acreedores al prestatario en los últimos 6 meses.                                         |\n",
    "| delinq_2yrs\t    | El número de veces que el prestatario ha estado más de 30 días en mora en un pago en los últimos 2 años.                |\n",
    "| pub_rec\t        | El número de registros públicos despectivos del prestatario.                                                            |\n",
    "| not_fully_paid    | 1 si el préstamo se pagó totalmente; 0 en caso contrario.                                                        |\n",
    "\n",
    "El csv lo tienes disponible en Moodle\n",
    "\n",
    "Este conjunto de datos consta de más de 9500 préstamos con información sobre los datos del préstamo y si el préstamo fue pagado en su totalidad o no. Estos datos fueron extraídos de LendingClub.com\n",
    "Crea un clasificador para predecir si un prestamo va a ser pagado o no."
   ]
  },
  {
   "cell_type": "markdown",
   "metadata": {},
   "source": [
    "### RECOPILACIÓN Y PREPARACIÓN DE LOS DATOS"
   ]
  },
  {
   "cell_type": "markdown",
   "metadata": {},
   "source": [
    "#### OBTENER LOS DATOS"
   ]
  },
  {
   "cell_type": "code",
   "execution_count": 81,
   "metadata": {},
   "outputs": [],
   "source": [
    "loan_data = pd.read_csv(\"Datos/loan_data.csv\")"
   ]
  },
  {
   "cell_type": "markdown",
   "metadata": {},
   "source": [
    "#### EXPLORAR LOS DATOS"
   ]
  },
  {
   "cell_type": "markdown",
   "metadata": {},
   "source": [
    "Entre otras cosas: estadísticas, matriz de correlaciones y borrar columnas innecesarias."
   ]
  },
  {
   "cell_type": "code",
   "execution_count": 82,
   "metadata": {},
   "outputs": [
    {
     "name": "stdout",
     "output_type": "stream",
     "text": [
      "<class 'pandas.core.frame.DataFrame'>\n",
      "RangeIndex: 9578 entries, 0 to 9577\n",
      "Data columns (total 14 columns):\n",
      " #   Column             Non-Null Count  Dtype  \n",
      "---  ------             --------------  -----  \n",
      " 0   credit.policy      9578 non-null   int64  \n",
      " 1   purpose            9578 non-null   object \n",
      " 2   int.rate           9578 non-null   float64\n",
      " 3   installment        9578 non-null   float64\n",
      " 4   log.annual.inc     9578 non-null   float64\n",
      " 5   dti                9578 non-null   float64\n",
      " 6   fico               9578 non-null   int64  \n",
      " 7   days.with.cr.line  9578 non-null   float64\n",
      " 8   revol.bal          9578 non-null   int64  \n",
      " 9   revol.util         9578 non-null   float64\n",
      " 10  inq.last.6mths     9578 non-null   int64  \n",
      " 11  delinq.2yrs        9578 non-null   int64  \n",
      " 12  pub.rec            9578 non-null   int64  \n",
      " 13  not.fully.paid     9578 non-null   int64  \n",
      "dtypes: float64(6), int64(7), object(1)\n",
      "memory usage: 1.0+ MB\n"
     ]
    }
   ],
   "source": [
    "loan_data.info()"
   ]
  },
  {
   "cell_type": "code",
   "execution_count": 83,
   "metadata": {},
   "outputs": [
    {
     "data": {
      "text/html": [
       "<div>\n",
       "<style scoped>\n",
       "    .dataframe tbody tr th:only-of-type {\n",
       "        vertical-align: middle;\n",
       "    }\n",
       "\n",
       "    .dataframe tbody tr th {\n",
       "        vertical-align: top;\n",
       "    }\n",
       "\n",
       "    .dataframe thead th {\n",
       "        text-align: right;\n",
       "    }\n",
       "</style>\n",
       "<table border=\"1\" class=\"dataframe\">\n",
       "  <thead>\n",
       "    <tr style=\"text-align: right;\">\n",
       "      <th></th>\n",
       "      <th>credit.policy</th>\n",
       "      <th>int.rate</th>\n",
       "      <th>installment</th>\n",
       "      <th>log.annual.inc</th>\n",
       "      <th>dti</th>\n",
       "      <th>fico</th>\n",
       "      <th>days.with.cr.line</th>\n",
       "      <th>revol.bal</th>\n",
       "      <th>revol.util</th>\n",
       "      <th>inq.last.6mths</th>\n",
       "      <th>delinq.2yrs</th>\n",
       "      <th>pub.rec</th>\n",
       "      <th>not.fully.paid</th>\n",
       "    </tr>\n",
       "  </thead>\n",
       "  <tbody>\n",
       "    <tr>\n",
       "      <th>count</th>\n",
       "      <td>9578.000000</td>\n",
       "      <td>9578.000000</td>\n",
       "      <td>9578.000000</td>\n",
       "      <td>9578.000000</td>\n",
       "      <td>9578.000000</td>\n",
       "      <td>9578.000000</td>\n",
       "      <td>9578.000000</td>\n",
       "      <td>9.578000e+03</td>\n",
       "      <td>9578.000000</td>\n",
       "      <td>9578.000000</td>\n",
       "      <td>9578.000000</td>\n",
       "      <td>9578.000000</td>\n",
       "      <td>9578.000000</td>\n",
       "    </tr>\n",
       "    <tr>\n",
       "      <th>mean</th>\n",
       "      <td>0.804970</td>\n",
       "      <td>0.122640</td>\n",
       "      <td>319.089413</td>\n",
       "      <td>10.932117</td>\n",
       "      <td>12.606679</td>\n",
       "      <td>710.846314</td>\n",
       "      <td>4560.767197</td>\n",
       "      <td>1.691396e+04</td>\n",
       "      <td>46.799236</td>\n",
       "      <td>1.577469</td>\n",
       "      <td>0.163708</td>\n",
       "      <td>0.062122</td>\n",
       "      <td>0.160054</td>\n",
       "    </tr>\n",
       "    <tr>\n",
       "      <th>std</th>\n",
       "      <td>0.396245</td>\n",
       "      <td>0.026847</td>\n",
       "      <td>207.071301</td>\n",
       "      <td>0.614813</td>\n",
       "      <td>6.883970</td>\n",
       "      <td>37.970537</td>\n",
       "      <td>2496.930377</td>\n",
       "      <td>3.375619e+04</td>\n",
       "      <td>29.014417</td>\n",
       "      <td>2.200245</td>\n",
       "      <td>0.546215</td>\n",
       "      <td>0.262126</td>\n",
       "      <td>0.366676</td>\n",
       "    </tr>\n",
       "    <tr>\n",
       "      <th>min</th>\n",
       "      <td>0.000000</td>\n",
       "      <td>0.060000</td>\n",
       "      <td>15.670000</td>\n",
       "      <td>7.547502</td>\n",
       "      <td>0.000000</td>\n",
       "      <td>612.000000</td>\n",
       "      <td>178.958333</td>\n",
       "      <td>0.000000e+00</td>\n",
       "      <td>0.000000</td>\n",
       "      <td>0.000000</td>\n",
       "      <td>0.000000</td>\n",
       "      <td>0.000000</td>\n",
       "      <td>0.000000</td>\n",
       "    </tr>\n",
       "    <tr>\n",
       "      <th>25%</th>\n",
       "      <td>1.000000</td>\n",
       "      <td>0.103900</td>\n",
       "      <td>163.770000</td>\n",
       "      <td>10.558414</td>\n",
       "      <td>7.212500</td>\n",
       "      <td>682.000000</td>\n",
       "      <td>2820.000000</td>\n",
       "      <td>3.187000e+03</td>\n",
       "      <td>22.600000</td>\n",
       "      <td>0.000000</td>\n",
       "      <td>0.000000</td>\n",
       "      <td>0.000000</td>\n",
       "      <td>0.000000</td>\n",
       "    </tr>\n",
       "    <tr>\n",
       "      <th>50%</th>\n",
       "      <td>1.000000</td>\n",
       "      <td>0.122100</td>\n",
       "      <td>268.950000</td>\n",
       "      <td>10.928884</td>\n",
       "      <td>12.665000</td>\n",
       "      <td>707.000000</td>\n",
       "      <td>4139.958333</td>\n",
       "      <td>8.596000e+03</td>\n",
       "      <td>46.300000</td>\n",
       "      <td>1.000000</td>\n",
       "      <td>0.000000</td>\n",
       "      <td>0.000000</td>\n",
       "      <td>0.000000</td>\n",
       "    </tr>\n",
       "    <tr>\n",
       "      <th>75%</th>\n",
       "      <td>1.000000</td>\n",
       "      <td>0.140700</td>\n",
       "      <td>432.762500</td>\n",
       "      <td>11.291293</td>\n",
       "      <td>17.950000</td>\n",
       "      <td>737.000000</td>\n",
       "      <td>5730.000000</td>\n",
       "      <td>1.824950e+04</td>\n",
       "      <td>70.900000</td>\n",
       "      <td>2.000000</td>\n",
       "      <td>0.000000</td>\n",
       "      <td>0.000000</td>\n",
       "      <td>0.000000</td>\n",
       "    </tr>\n",
       "    <tr>\n",
       "      <th>max</th>\n",
       "      <td>1.000000</td>\n",
       "      <td>0.216400</td>\n",
       "      <td>940.140000</td>\n",
       "      <td>14.528354</td>\n",
       "      <td>29.960000</td>\n",
       "      <td>827.000000</td>\n",
       "      <td>17639.958330</td>\n",
       "      <td>1.207359e+06</td>\n",
       "      <td>119.000000</td>\n",
       "      <td>33.000000</td>\n",
       "      <td>13.000000</td>\n",
       "      <td>5.000000</td>\n",
       "      <td>1.000000</td>\n",
       "    </tr>\n",
       "  </tbody>\n",
       "</table>\n",
       "</div>"
      ],
      "text/plain": [
       "       credit.policy     int.rate  installment  log.annual.inc          dti  \\\n",
       "count    9578.000000  9578.000000  9578.000000     9578.000000  9578.000000   \n",
       "mean        0.804970     0.122640   319.089413       10.932117    12.606679   \n",
       "std         0.396245     0.026847   207.071301        0.614813     6.883970   \n",
       "min         0.000000     0.060000    15.670000        7.547502     0.000000   \n",
       "25%         1.000000     0.103900   163.770000       10.558414     7.212500   \n",
       "50%         1.000000     0.122100   268.950000       10.928884    12.665000   \n",
       "75%         1.000000     0.140700   432.762500       11.291293    17.950000   \n",
       "max         1.000000     0.216400   940.140000       14.528354    29.960000   \n",
       "\n",
       "              fico  days.with.cr.line     revol.bal   revol.util  \\\n",
       "count  9578.000000        9578.000000  9.578000e+03  9578.000000   \n",
       "mean    710.846314        4560.767197  1.691396e+04    46.799236   \n",
       "std      37.970537        2496.930377  3.375619e+04    29.014417   \n",
       "min     612.000000         178.958333  0.000000e+00     0.000000   \n",
       "25%     682.000000        2820.000000  3.187000e+03    22.600000   \n",
       "50%     707.000000        4139.958333  8.596000e+03    46.300000   \n",
       "75%     737.000000        5730.000000  1.824950e+04    70.900000   \n",
       "max     827.000000       17639.958330  1.207359e+06   119.000000   \n",
       "\n",
       "       inq.last.6mths  delinq.2yrs      pub.rec  not.fully.paid  \n",
       "count     9578.000000  9578.000000  9578.000000     9578.000000  \n",
       "mean         1.577469     0.163708     0.062122        0.160054  \n",
       "std          2.200245     0.546215     0.262126        0.366676  \n",
       "min          0.000000     0.000000     0.000000        0.000000  \n",
       "25%          0.000000     0.000000     0.000000        0.000000  \n",
       "50%          1.000000     0.000000     0.000000        0.000000  \n",
       "75%          2.000000     0.000000     0.000000        0.000000  \n",
       "max         33.000000    13.000000     5.000000        1.000000  "
      ]
     },
     "execution_count": 83,
     "metadata": {},
     "output_type": "execute_result"
    }
   ],
   "source": [
    "loan_data.describe()"
   ]
  },
  {
   "cell_type": "code",
   "execution_count": 84,
   "metadata": {},
   "outputs": [
    {
     "data": {
      "text/html": [
       "<div>\n",
       "<style scoped>\n",
       "    .dataframe tbody tr th:only-of-type {\n",
       "        vertical-align: middle;\n",
       "    }\n",
       "\n",
       "    .dataframe tbody tr th {\n",
       "        vertical-align: top;\n",
       "    }\n",
       "\n",
       "    .dataframe thead th {\n",
       "        text-align: right;\n",
       "    }\n",
       "</style>\n",
       "<table border=\"1\" class=\"dataframe\">\n",
       "  <thead>\n",
       "    <tr style=\"text-align: right;\">\n",
       "      <th></th>\n",
       "      <th>credit.policy</th>\n",
       "      <th>purpose</th>\n",
       "      <th>int.rate</th>\n",
       "      <th>installment</th>\n",
       "      <th>log.annual.inc</th>\n",
       "      <th>dti</th>\n",
       "      <th>fico</th>\n",
       "      <th>days.with.cr.line</th>\n",
       "      <th>revol.bal</th>\n",
       "      <th>revol.util</th>\n",
       "      <th>inq.last.6mths</th>\n",
       "      <th>delinq.2yrs</th>\n",
       "      <th>pub.rec</th>\n",
       "      <th>not.fully.paid</th>\n",
       "    </tr>\n",
       "  </thead>\n",
       "  <tbody>\n",
       "    <tr>\n",
       "      <th>0</th>\n",
       "      <td>1</td>\n",
       "      <td>debt_consolidation</td>\n",
       "      <td>0.1189</td>\n",
       "      <td>829.10</td>\n",
       "      <td>11.350407</td>\n",
       "      <td>19.48</td>\n",
       "      <td>737</td>\n",
       "      <td>5639.958333</td>\n",
       "      <td>28854</td>\n",
       "      <td>52.1</td>\n",
       "      <td>0</td>\n",
       "      <td>0</td>\n",
       "      <td>0</td>\n",
       "      <td>0</td>\n",
       "    </tr>\n",
       "    <tr>\n",
       "      <th>1</th>\n",
       "      <td>1</td>\n",
       "      <td>credit_card</td>\n",
       "      <td>0.1071</td>\n",
       "      <td>228.22</td>\n",
       "      <td>11.082143</td>\n",
       "      <td>14.29</td>\n",
       "      <td>707</td>\n",
       "      <td>2760.000000</td>\n",
       "      <td>33623</td>\n",
       "      <td>76.7</td>\n",
       "      <td>0</td>\n",
       "      <td>0</td>\n",
       "      <td>0</td>\n",
       "      <td>0</td>\n",
       "    </tr>\n",
       "    <tr>\n",
       "      <th>2</th>\n",
       "      <td>1</td>\n",
       "      <td>debt_consolidation</td>\n",
       "      <td>0.1357</td>\n",
       "      <td>366.86</td>\n",
       "      <td>10.373491</td>\n",
       "      <td>11.63</td>\n",
       "      <td>682</td>\n",
       "      <td>4710.000000</td>\n",
       "      <td>3511</td>\n",
       "      <td>25.6</td>\n",
       "      <td>1</td>\n",
       "      <td>0</td>\n",
       "      <td>0</td>\n",
       "      <td>0</td>\n",
       "    </tr>\n",
       "    <tr>\n",
       "      <th>3</th>\n",
       "      <td>1</td>\n",
       "      <td>debt_consolidation</td>\n",
       "      <td>0.1008</td>\n",
       "      <td>162.34</td>\n",
       "      <td>11.350407</td>\n",
       "      <td>8.10</td>\n",
       "      <td>712</td>\n",
       "      <td>2699.958333</td>\n",
       "      <td>33667</td>\n",
       "      <td>73.2</td>\n",
       "      <td>1</td>\n",
       "      <td>0</td>\n",
       "      <td>0</td>\n",
       "      <td>0</td>\n",
       "    </tr>\n",
       "    <tr>\n",
       "      <th>4</th>\n",
       "      <td>1</td>\n",
       "      <td>credit_card</td>\n",
       "      <td>0.1426</td>\n",
       "      <td>102.92</td>\n",
       "      <td>11.299732</td>\n",
       "      <td>14.97</td>\n",
       "      <td>667</td>\n",
       "      <td>4066.000000</td>\n",
       "      <td>4740</td>\n",
       "      <td>39.5</td>\n",
       "      <td>0</td>\n",
       "      <td>1</td>\n",
       "      <td>0</td>\n",
       "      <td>0</td>\n",
       "    </tr>\n",
       "  </tbody>\n",
       "</table>\n",
       "</div>"
      ],
      "text/plain": [
       "   credit.policy             purpose  int.rate  installment  log.annual.inc  \\\n",
       "0              1  debt_consolidation    0.1189       829.10       11.350407   \n",
       "1              1         credit_card    0.1071       228.22       11.082143   \n",
       "2              1  debt_consolidation    0.1357       366.86       10.373491   \n",
       "3              1  debt_consolidation    0.1008       162.34       11.350407   \n",
       "4              1         credit_card    0.1426       102.92       11.299732   \n",
       "\n",
       "     dti  fico  days.with.cr.line  revol.bal  revol.util  inq.last.6mths  \\\n",
       "0  19.48   737        5639.958333      28854        52.1               0   \n",
       "1  14.29   707        2760.000000      33623        76.7               0   \n",
       "2  11.63   682        4710.000000       3511        25.6               1   \n",
       "3   8.10   712        2699.958333      33667        73.2               1   \n",
       "4  14.97   667        4066.000000       4740        39.5               0   \n",
       "\n",
       "   delinq.2yrs  pub.rec  not.fully.paid  \n",
       "0            0        0               0  \n",
       "1            0        0               0  \n",
       "2            0        0               0  \n",
       "3            0        0               0  \n",
       "4            1        0               0  "
      ]
     },
     "execution_count": 84,
     "metadata": {},
     "output_type": "execute_result"
    }
   ],
   "source": [
    "loan_data.head()"
   ]
  },
  {
   "cell_type": "code",
   "execution_count": 85,
   "metadata": {},
   "outputs": [
    {
     "data": {
      "text/html": [
       "<div>\n",
       "<style scoped>\n",
       "    .dataframe tbody tr th:only-of-type {\n",
       "        vertical-align: middle;\n",
       "    }\n",
       "\n",
       "    .dataframe tbody tr th {\n",
       "        vertical-align: top;\n",
       "    }\n",
       "\n",
       "    .dataframe thead th {\n",
       "        text-align: right;\n",
       "    }\n",
       "</style>\n",
       "<table border=\"1\" class=\"dataframe\">\n",
       "  <thead>\n",
       "    <tr style=\"text-align: right;\">\n",
       "      <th></th>\n",
       "      <th>purpose</th>\n",
       "    </tr>\n",
       "  </thead>\n",
       "  <tbody>\n",
       "    <tr>\n",
       "      <th>count</th>\n",
       "      <td>9578</td>\n",
       "    </tr>\n",
       "    <tr>\n",
       "      <th>unique</th>\n",
       "      <td>7</td>\n",
       "    </tr>\n",
       "    <tr>\n",
       "      <th>top</th>\n",
       "      <td>debt_consolidation</td>\n",
       "    </tr>\n",
       "    <tr>\n",
       "      <th>freq</th>\n",
       "      <td>3957</td>\n",
       "    </tr>\n",
       "  </tbody>\n",
       "</table>\n",
       "</div>"
      ],
      "text/plain": [
       "                   purpose\n",
       "count                 9578\n",
       "unique                   7\n",
       "top     debt_consolidation\n",
       "freq                  3957"
      ]
     },
     "execution_count": 85,
     "metadata": {},
     "output_type": "execute_result"
    }
   ],
   "source": [
    "loan_data.describe(include='object')"
   ]
  },
  {
   "cell_type": "code",
   "execution_count": 86,
   "metadata": {},
   "outputs": [
    {
     "data": {
      "text/plain": [
       "purpose\n",
       "debt_consolidation    3957\n",
       "all_other             2331\n",
       "credit_card           1262\n",
       "home_improvement       629\n",
       "small_business         619\n",
       "major_purchase         437\n",
       "educational            343\n",
       "Name: count, dtype: int64"
      ]
     },
     "execution_count": 86,
     "metadata": {},
     "output_type": "execute_result"
    }
   ],
   "source": [
    "loan_data[\"purpose\"].value_counts()"
   ]
  },
  {
   "cell_type": "code",
   "execution_count": 87,
   "metadata": {},
   "outputs": [
    {
     "data": {
      "text/plain": [
       "not.fully.paid       1.000000\n",
       "int.rate             0.159552\n",
       "credit.policy        0.158119\n",
       "fico                 0.149666\n",
       "inq.last.6mths       0.149452\n",
       "revol.util           0.082088\n",
       "revol.bal            0.053699\n",
       "installment          0.049955\n",
       "pub.rec              0.048634\n",
       "dti                  0.037362\n",
       "log.annual.inc       0.033439\n",
       "days.with.cr.line    0.029237\n",
       "delinq.2yrs          0.008881\n",
       "Name: not.fully.paid, dtype: float64"
      ]
     },
     "execution_count": 87,
     "metadata": {},
     "output_type": "execute_result"
    }
   ],
   "source": [
    "corr_matrix = loan_data.corr(numeric_only=True).abs()\n",
    "target_corr=corr_matrix['not.fully.paid'].sort_values(ascending=False)\n",
    "target_corr"
   ]
  },
  {
   "cell_type": "code",
   "execution_count": 88,
   "metadata": {},
   "outputs": [
    {
     "data": {
      "text/html": [
       "<style type=\"text/css\">\n",
       "#T_8d31d_row0_col0, #T_8d31d_row1_col1, #T_8d31d_row2_col2, #T_8d31d_row3_col3, #T_8d31d_row4_col4, #T_8d31d_row5_col5, #T_8d31d_row6_col6, #T_8d31d_row7_col7, #T_8d31d_row8_col8, #T_8d31d_row9_col9, #T_8d31d_row10_col10, #T_8d31d_row11_col11, #T_8d31d_row12_col12 {\n",
       "  background-color: #023858;\n",
       "  color: #f1f1f1;\n",
       "}\n",
       "#T_8d31d_row0_col1, #T_8d31d_row6_col5 {\n",
       "  background-color: #d0d1e6;\n",
       "  color: #000000;\n",
       "}\n",
       "#T_8d31d_row0_col2, #T_8d31d_row4_col0, #T_8d31d_row6_col4, #T_8d31d_row10_col6, #T_8d31d_row11_col8 {\n",
       "  background-color: #f7f0f7;\n",
       "  color: #000000;\n",
       "}\n",
       "#T_8d31d_row0_col3, #T_8d31d_row3_col9, #T_8d31d_row4_col9, #T_8d31d_row4_col10, #T_8d31d_row7_col9, #T_8d31d_row9_col3, #T_8d31d_row9_col6, #T_8d31d_row9_col10, #T_8d31d_row10_col3, #T_8d31d_row10_col4, #T_8d31d_row10_col7, #T_8d31d_row11_col7, #T_8d31d_row12_col3 {\n",
       "  background-color: #fdf5fa;\n",
       "  color: #000000;\n",
       "}\n",
       "#T_8d31d_row0_col4 {\n",
       "  background-color: #f2ecf5;\n",
       "  color: #000000;\n",
       "}\n",
       "#T_8d31d_row0_col5 {\n",
       "  background-color: #b3c3de;\n",
       "  color: #000000;\n",
       "}\n",
       "#T_8d31d_row0_col6, #T_8d31d_row6_col10, #T_8d31d_row8_col2 {\n",
       "  background-color: #f4edf6;\n",
       "  color: #000000;\n",
       "}\n",
       "#T_8d31d_row0_col7, #T_8d31d_row4_col1, #T_8d31d_row9_col5 {\n",
       "  background-color: #e1dfed;\n",
       "  color: #000000;\n",
       "}\n",
       "#T_8d31d_row0_col8, #T_8d31d_row1_col11 {\n",
       "  background-color: #f1ebf5;\n",
       "  color: #000000;\n",
       "}\n",
       "#T_8d31d_row0_col9 {\n",
       "  background-color: #65a3cb;\n",
       "  color: #f1f1f1;\n",
       "}\n",
       "#T_8d31d_row0_col10, #T_8d31d_row2_col5, #T_8d31d_row6_col1, #T_8d31d_row8_col0, #T_8d31d_row8_col12 {\n",
       "  background-color: #f4eef6;\n",
       "  color: #000000;\n",
       "}\n",
       "#T_8d31d_row0_col11, #T_8d31d_row2_col4, #T_8d31d_row3_col4, #T_8d31d_row4_col2, #T_8d31d_row7_col12, #T_8d31d_row11_col1, #T_8d31d_row11_col6, #T_8d31d_row12_col2 {\n",
       "  background-color: #f8f1f8;\n",
       "  color: #000000;\n",
       "}\n",
       "#T_8d31d_row0_col12, #T_8d31d_row1_col12 {\n",
       "  background-color: #e7e3f0;\n",
       "  color: #000000;\n",
       "}\n",
       "#T_8d31d_row1_col0 {\n",
       "  background-color: #cacee5;\n",
       "  color: #000000;\n",
       "}\n",
       "#T_8d31d_row1_col2 {\n",
       "  background-color: #c9cee4;\n",
       "  color: #000000;\n",
       "}\n",
       "#T_8d31d_row1_col3, #T_8d31d_row2_col12, #T_8d31d_row3_col8, #T_8d31d_row10_col0, #T_8d31d_row11_col12, #T_8d31d_row12_col11 {\n",
       "  background-color: #f9f2f8;\n",
       "  color: #000000;\n",
       "}\n",
       "#T_8d31d_row1_col4, #T_8d31d_row6_col7 {\n",
       "  background-color: #d8d7e9;\n",
       "  color: #000000;\n",
       "}\n",
       "#T_8d31d_row1_col5 {\n",
       "  background-color: #157ab5;\n",
       "  color: #f1f1f1;\n",
       "}\n",
       "#T_8d31d_row1_col6, #T_8d31d_row3_col5, #T_8d31d_row5_col3 {\n",
       "  background-color: #f0eaf4;\n",
       "  color: #000000;\n",
       "}\n",
       "#T_8d31d_row1_col7, #T_8d31d_row5_col2 {\n",
       "  background-color: #f3edf5;\n",
       "  color: #000000;\n",
       "}\n",
       "#T_8d31d_row1_col8 {\n",
       "  background-color: #84b0d3;\n",
       "  color: #f1f1f1;\n",
       "}\n",
       "#T_8d31d_row1_col9, #T_8d31d_row7_col8 {\n",
       "  background-color: #dddbec;\n",
       "  color: #000000;\n",
       "}\n",
       "#T_8d31d_row1_col10, #T_8d31d_row9_col1 {\n",
       "  background-color: #e6e2ef;\n",
       "  color: #000000;\n",
       "}\n",
       "#T_8d31d_row2_col0, #T_8d31d_row2_col11, #T_8d31d_row3_col10, #T_8d31d_row3_col12, #T_8d31d_row7_col11 {\n",
       "  background-color: #fbf4f9;\n",
       "  color: #000000;\n",
       "}\n",
       "#T_8d31d_row2_col1 {\n",
       "  background-color: #d4d4e8;\n",
       "  color: #000000;\n",
       "}\n",
       "#T_8d31d_row2_col3 {\n",
       "  background-color: #8cb3d5;\n",
       "  color: #000000;\n",
       "}\n",
       "#T_8d31d_row2_col6 {\n",
       "  background-color: #e4e1ef;\n",
       "  color: #000000;\n",
       "}\n",
       "#T_8d31d_row2_col7 {\n",
       "  background-color: #d7d6e9;\n",
       "  color: #000000;\n",
       "}\n",
       "#T_8d31d_row2_col8, #T_8d31d_row6_col0, #T_8d31d_row9_col11, #T_8d31d_row12_col8 {\n",
       "  background-color: #f5eef6;\n",
       "  color: #000000;\n",
       "}\n",
       "#T_8d31d_row2_col9, #T_8d31d_row2_col10, #T_8d31d_row3_col0, #T_8d31d_row3_col1, #T_8d31d_row4_col11, #T_8d31d_row5_col7, #T_8d31d_row7_col5, #T_8d31d_row8_col6, #T_8d31d_row8_col9, #T_8d31d_row9_col8, #T_8d31d_row10_col2, #T_8d31d_row10_col11, #T_8d31d_row10_col12, #T_8d31d_row11_col3, #T_8d31d_row11_col4 {\n",
       "  background-color: #fff7fb;\n",
       "  color: #000000;\n",
       "}\n",
       "#T_8d31d_row3_col2 {\n",
       "  background-color: #89b1d4;\n",
       "  color: #000000;\n",
       "}\n",
       "#T_8d31d_row3_col6 {\n",
       "  background-color: #b8c6e0;\n",
       "  color: #000000;\n",
       "}\n",
       "#T_8d31d_row3_col7, #T_8d31d_row7_col3 {\n",
       "  background-color: #abbfdc;\n",
       "  color: #000000;\n",
       "}\n",
       "#T_8d31d_row3_col11, #T_8d31d_row6_col8, #T_8d31d_row10_col9 {\n",
       "  background-color: #fef6fa;\n",
       "  color: #000000;\n",
       "}\n",
       "#T_8d31d_row4_col3, #T_8d31d_row4_col6, #T_8d31d_row7_col1, #T_8d31d_row8_col3, #T_8d31d_row8_col10, #T_8d31d_row12_col7 {\n",
       "  background-color: #faf2f8;\n",
       "  color: #000000;\n",
       "}\n",
       "#T_8d31d_row4_col5, #T_8d31d_row7_col2 {\n",
       "  background-color: #d5d5e8;\n",
       "  color: #000000;\n",
       "}\n",
       "#T_8d31d_row4_col7, #T_8d31d_row5_col9 {\n",
       "  background-color: #e0deed;\n",
       "  color: #000000;\n",
       "}\n",
       "#T_8d31d_row4_col8, #T_8d31d_row5_col0, #T_8d31d_row6_col3 {\n",
       "  background-color: #b7c5df;\n",
       "  color: #000000;\n",
       "}\n",
       "#T_8d31d_row4_col12, #T_8d31d_row7_col10, #T_8d31d_row10_col8, #T_8d31d_row11_col2 {\n",
       "  background-color: #fbf3f9;\n",
       "  color: #000000;\n",
       "}\n",
       "#T_8d31d_row5_col1 {\n",
       "  background-color: #197db7;\n",
       "  color: #f1f1f1;\n",
       "}\n",
       "#T_8d31d_row5_col4 {\n",
       "  background-color: #d3d4e7;\n",
       "  color: #000000;\n",
       "}\n",
       "#T_8d31d_row5_col6 {\n",
       "  background-color: #d2d2e7;\n",
       "  color: #000000;\n",
       "}\n",
       "#T_8d31d_row5_col8, #T_8d31d_row8_col5 {\n",
       "  background-color: #63a2cb;\n",
       "  color: #f1f1f1;\n",
       "}\n",
       "#T_8d31d_row5_col10, #T_8d31d_row7_col6 {\n",
       "  background-color: #d9d8ea;\n",
       "  color: #000000;\n",
       "}\n",
       "#T_8d31d_row5_col11, #T_8d31d_row5_col12, #T_8d31d_row9_col12 {\n",
       "  background-color: #e8e4f0;\n",
       "  color: #000000;\n",
       "}\n",
       "#T_8d31d_row6_col2 {\n",
       "  background-color: #e0dded;\n",
       "  color: #000000;\n",
       "}\n",
       "#T_8d31d_row6_col9, #T_8d31d_row12_col4 {\n",
       "  background-color: #faf3f9;\n",
       "  color: #000000;\n",
       "}\n",
       "#T_8d31d_row6_col11, #T_8d31d_row11_col9 {\n",
       "  background-color: #f5eff6;\n",
       "  color: #000000;\n",
       "}\n",
       "#T_8d31d_row6_col12, #T_8d31d_row9_col4, #T_8d31d_row11_col0 {\n",
       "  background-color: #fcf4fa;\n",
       "  color: #000000;\n",
       "}\n",
       "#T_8d31d_row7_col0 {\n",
       "  background-color: #e5e1ef;\n",
       "  color: #000000;\n",
       "}\n",
       "#T_8d31d_row7_col4 {\n",
       "  background-color: #dfddec;\n",
       "  color: #000000;\n",
       "}\n",
       "#T_8d31d_row8_col1 {\n",
       "  background-color: #8fb4d6;\n",
       "  color: #000000;\n",
       "}\n",
       "#T_8d31d_row8_col4 {\n",
       "  background-color: #b4c4df;\n",
       "  color: #000000;\n",
       "}\n",
       "#T_8d31d_row8_col7 {\n",
       "  background-color: #dedcec;\n",
       "  color: #000000;\n",
       "}\n",
       "#T_8d31d_row8_col11 {\n",
       "  background-color: #f6eff7;\n",
       "  color: #000000;\n",
       "}\n",
       "#T_8d31d_row9_col0 {\n",
       "  background-color: #6ba5cd;\n",
       "  color: #f1f1f1;\n",
       "}\n",
       "#T_8d31d_row9_col2, #T_8d31d_row9_col7, #T_8d31d_row11_col10, #T_8d31d_row12_col6, #T_8d31d_row12_col10 {\n",
       "  background-color: #fef6fb;\n",
       "  color: #000000;\n",
       "}\n",
       "#T_8d31d_row10_col1, #T_8d31d_row12_col1 {\n",
       "  background-color: #efe9f3;\n",
       "  color: #000000;\n",
       "}\n",
       "#T_8d31d_row10_col5 {\n",
       "  background-color: #dad9ea;\n",
       "  color: #000000;\n",
       "}\n",
       "#T_8d31d_row11_col5, #T_8d31d_row12_col5 {\n",
       "  background-color: #eae6f1;\n",
       "  color: #000000;\n",
       "}\n",
       "#T_8d31d_row12_col0 {\n",
       "  background-color: #ece7f2;\n",
       "  color: #000000;\n",
       "}\n",
       "#T_8d31d_row12_col9 {\n",
       "  background-color: #e9e5f1;\n",
       "  color: #000000;\n",
       "}\n",
       "</style>\n",
       "<table id=\"T_8d31d\">\n",
       "  <thead>\n",
       "    <tr>\n",
       "      <th class=\"blank level0\" >&nbsp;</th>\n",
       "      <th id=\"T_8d31d_level0_col0\" class=\"col_heading level0 col0\" >credit.policy</th>\n",
       "      <th id=\"T_8d31d_level0_col1\" class=\"col_heading level0 col1\" >int.rate</th>\n",
       "      <th id=\"T_8d31d_level0_col2\" class=\"col_heading level0 col2\" >installment</th>\n",
       "      <th id=\"T_8d31d_level0_col3\" class=\"col_heading level0 col3\" >log.annual.inc</th>\n",
       "      <th id=\"T_8d31d_level0_col4\" class=\"col_heading level0 col4\" >dti</th>\n",
       "      <th id=\"T_8d31d_level0_col5\" class=\"col_heading level0 col5\" >fico</th>\n",
       "      <th id=\"T_8d31d_level0_col6\" class=\"col_heading level0 col6\" >days.with.cr.line</th>\n",
       "      <th id=\"T_8d31d_level0_col7\" class=\"col_heading level0 col7\" >revol.bal</th>\n",
       "      <th id=\"T_8d31d_level0_col8\" class=\"col_heading level0 col8\" >revol.util</th>\n",
       "      <th id=\"T_8d31d_level0_col9\" class=\"col_heading level0 col9\" >inq.last.6mths</th>\n",
       "      <th id=\"T_8d31d_level0_col10\" class=\"col_heading level0 col10\" >delinq.2yrs</th>\n",
       "      <th id=\"T_8d31d_level0_col11\" class=\"col_heading level0 col11\" >pub.rec</th>\n",
       "      <th id=\"T_8d31d_level0_col12\" class=\"col_heading level0 col12\" >not.fully.paid</th>\n",
       "    </tr>\n",
       "  </thead>\n",
       "  <tbody>\n",
       "    <tr>\n",
       "      <th id=\"T_8d31d_level0_row0\" class=\"row_heading level0 row0\" >credit.policy</th>\n",
       "      <td id=\"T_8d31d_row0_col0\" class=\"data row0 col0\" >1.000000</td>\n",
       "      <td id=\"T_8d31d_row0_col1\" class=\"data row0 col1\" >0.294089</td>\n",
       "      <td id=\"T_8d31d_row0_col2\" class=\"data row0 col2\" >0.058770</td>\n",
       "      <td id=\"T_8d31d_row0_col3\" class=\"data row0 col3\" >0.034906</td>\n",
       "      <td id=\"T_8d31d_row0_col4\" class=\"data row0 col4\" >0.090901</td>\n",
       "      <td id=\"T_8d31d_row0_col5\" class=\"data row0 col5\" >0.348319</td>\n",
       "      <td id=\"T_8d31d_row0_col6\" class=\"data row0 col6\" >0.099026</td>\n",
       "      <td id=\"T_8d31d_row0_col7\" class=\"data row0 col7\" >0.187518</td>\n",
       "      <td id=\"T_8d31d_row0_col8\" class=\"data row0 col8\" >0.104095</td>\n",
       "      <td id=\"T_8d31d_row0_col9\" class=\"data row0 col9\" >0.535511</td>\n",
       "      <td id=\"T_8d31d_row0_col10\" class=\"data row0 col10\" >0.076318</td>\n",
       "      <td id=\"T_8d31d_row0_col11\" class=\"data row0 col11\" >0.054243</td>\n",
       "      <td id=\"T_8d31d_row0_col12\" class=\"data row0 col12\" >0.158119</td>\n",
       "    </tr>\n",
       "    <tr>\n",
       "      <th id=\"T_8d31d_level0_row1\" class=\"row_heading level0 row1\" >int.rate</th>\n",
       "      <td id=\"T_8d31d_row1_col0\" class=\"data row1 col0\" >0.294089</td>\n",
       "      <td id=\"T_8d31d_row1_col1\" class=\"data row1 col1\" >1.000000</td>\n",
       "      <td id=\"T_8d31d_row1_col2\" class=\"data row1 col2\" >0.276140</td>\n",
       "      <td id=\"T_8d31d_row1_col3\" class=\"data row1 col3\" >0.056383</td>\n",
       "      <td id=\"T_8d31d_row1_col4\" class=\"data row1 col4\" >0.220006</td>\n",
       "      <td id=\"T_8d31d_row1_col5\" class=\"data row1 col5\" >0.714821</td>\n",
       "      <td id=\"T_8d31d_row1_col6\" class=\"data row1 col6\" >0.124022</td>\n",
       "      <td id=\"T_8d31d_row1_col7\" class=\"data row1 col7\" >0.092527</td>\n",
       "      <td id=\"T_8d31d_row1_col8\" class=\"data row1 col8\" >0.464837</td>\n",
       "      <td id=\"T_8d31d_row1_col9\" class=\"data row1 col9\" >0.202780</td>\n",
       "      <td id=\"T_8d31d_row1_col10\" class=\"data row1 col10\" >0.156079</td>\n",
       "      <td id=\"T_8d31d_row1_col11\" class=\"data row1 col11\" >0.098162</td>\n",
       "      <td id=\"T_8d31d_row1_col12\" class=\"data row1 col12\" >0.159552</td>\n",
       "    </tr>\n",
       "    <tr>\n",
       "      <th id=\"T_8d31d_level0_row2\" class=\"row_heading level0 row2\" >installment</th>\n",
       "      <td id=\"T_8d31d_row2_col0\" class=\"data row2 col0\" >0.058770</td>\n",
       "      <td id=\"T_8d31d_row2_col1\" class=\"data row2 col1\" >0.276140</td>\n",
       "      <td id=\"T_8d31d_row2_col2\" class=\"data row2 col2\" >1.000000</td>\n",
       "      <td id=\"T_8d31d_row2_col3\" class=\"data row2 col3\" >0.448102</td>\n",
       "      <td id=\"T_8d31d_row2_col4\" class=\"data row2 col4\" >0.050202</td>\n",
       "      <td id=\"T_8d31d_row2_col5\" class=\"data row2 col5\" >0.086039</td>\n",
       "      <td id=\"T_8d31d_row2_col6\" class=\"data row2 col6\" >0.183297</td>\n",
       "      <td id=\"T_8d31d_row2_col7\" class=\"data row2 col7\" >0.233625</td>\n",
       "      <td id=\"T_8d31d_row2_col8\" class=\"data row2 col8\" >0.081356</td>\n",
       "      <td id=\"T_8d31d_row2_col9\" class=\"data row2 col9\" >0.010419</td>\n",
       "      <td id=\"T_8d31d_row2_col10\" class=\"data row2 col10\" >0.004368</td>\n",
       "      <td id=\"T_8d31d_row2_col11\" class=\"data row2 col11\" >0.032760</td>\n",
       "      <td id=\"T_8d31d_row2_col12\" class=\"data row2 col12\" >0.049955</td>\n",
       "    </tr>\n",
       "    <tr>\n",
       "      <th id=\"T_8d31d_level0_row3\" class=\"row_heading level0 row3\" >log.annual.inc</th>\n",
       "      <td id=\"T_8d31d_row3_col0\" class=\"data row3 col0\" >0.034906</td>\n",
       "      <td id=\"T_8d31d_row3_col1\" class=\"data row3 col1\" >0.056383</td>\n",
       "      <td id=\"T_8d31d_row3_col2\" class=\"data row3 col2\" >0.448102</td>\n",
       "      <td id=\"T_8d31d_row3_col3\" class=\"data row3 col3\" >1.000000</td>\n",
       "      <td id=\"T_8d31d_row3_col4\" class=\"data row3 col4\" >0.054065</td>\n",
       "      <td id=\"T_8d31d_row3_col5\" class=\"data row3 col5\" >0.114576</td>\n",
       "      <td id=\"T_8d31d_row3_col6\" class=\"data row3 col6\" >0.336896</td>\n",
       "      <td id=\"T_8d31d_row3_col7\" class=\"data row3 col7\" >0.372140</td>\n",
       "      <td id=\"T_8d31d_row3_col8\" class=\"data row3 col8\" >0.054881</td>\n",
       "      <td id=\"T_8d31d_row3_col9\" class=\"data row3 col9\" >0.029171</td>\n",
       "      <td id=\"T_8d31d_row3_col10\" class=\"data row3 col10\" >0.029203</td>\n",
       "      <td id=\"T_8d31d_row3_col11\" class=\"data row3 col11\" >0.016506</td>\n",
       "      <td id=\"T_8d31d_row3_col12\" class=\"data row3 col12\" >0.033439</td>\n",
       "    </tr>\n",
       "    <tr>\n",
       "      <th id=\"T_8d31d_level0_row4\" class=\"row_heading level0 row4\" >dti</th>\n",
       "      <td id=\"T_8d31d_row4_col0\" class=\"data row4 col0\" >0.090901</td>\n",
       "      <td id=\"T_8d31d_row4_col1\" class=\"data row4 col1\" >0.220006</td>\n",
       "      <td id=\"T_8d31d_row4_col2\" class=\"data row4 col2\" >0.050202</td>\n",
       "      <td id=\"T_8d31d_row4_col3\" class=\"data row4 col3\" >0.054065</td>\n",
       "      <td id=\"T_8d31d_row4_col4\" class=\"data row4 col4\" >1.000000</td>\n",
       "      <td id=\"T_8d31d_row4_col5\" class=\"data row4 col5\" >0.241191</td>\n",
       "      <td id=\"T_8d31d_row4_col6\" class=\"data row4 col6\" >0.060101</td>\n",
       "      <td id=\"T_8d31d_row4_col7\" class=\"data row4 col7\" >0.188748</td>\n",
       "      <td id=\"T_8d31d_row4_col8\" class=\"data row4 col8\" >0.337109</td>\n",
       "      <td id=\"T_8d31d_row4_col9\" class=\"data row4 col9\" >0.029189</td>\n",
       "      <td id=\"T_8d31d_row4_col10\" class=\"data row4 col10\" >0.021792</td>\n",
       "      <td id=\"T_8d31d_row4_col11\" class=\"data row4 col11\" >0.006209</td>\n",
       "      <td id=\"T_8d31d_row4_col12\" class=\"data row4 col12\" >0.037362</td>\n",
       "    </tr>\n",
       "    <tr>\n",
       "      <th id=\"T_8d31d_level0_row5\" class=\"row_heading level0 row5\" >fico</th>\n",
       "      <td id=\"T_8d31d_row5_col0\" class=\"data row5 col0\" >0.348319</td>\n",
       "      <td id=\"T_8d31d_row5_col1\" class=\"data row5 col1\" >0.714821</td>\n",
       "      <td id=\"T_8d31d_row5_col2\" class=\"data row5 col2\" >0.086039</td>\n",
       "      <td id=\"T_8d31d_row5_col3\" class=\"data row5 col3\" >0.114576</td>\n",
       "      <td id=\"T_8d31d_row5_col4\" class=\"data row5 col4\" >0.241191</td>\n",
       "      <td id=\"T_8d31d_row5_col5\" class=\"data row5 col5\" >1.000000</td>\n",
       "      <td id=\"T_8d31d_row5_col6\" class=\"data row5 col6\" >0.263880</td>\n",
       "      <td id=\"T_8d31d_row5_col7\" class=\"data row5 col7\" >0.015553</td>\n",
       "      <td id=\"T_8d31d_row5_col8\" class=\"data row5 col8\" >0.541289</td>\n",
       "      <td id=\"T_8d31d_row5_col9\" class=\"data row5 col9\" >0.185293</td>\n",
       "      <td id=\"T_8d31d_row5_col10\" class=\"data row5 col10\" >0.216340</td>\n",
       "      <td id=\"T_8d31d_row5_col11\" class=\"data row5 col11\" >0.147592</td>\n",
       "      <td id=\"T_8d31d_row5_col12\" class=\"data row5 col12\" >0.149666</td>\n",
       "    </tr>\n",
       "    <tr>\n",
       "      <th id=\"T_8d31d_level0_row6\" class=\"row_heading level0 row6\" >days.with.cr.line</th>\n",
       "      <td id=\"T_8d31d_row6_col0\" class=\"data row6 col0\" >0.099026</td>\n",
       "      <td id=\"T_8d31d_row6_col1\" class=\"data row6 col1\" >0.124022</td>\n",
       "      <td id=\"T_8d31d_row6_col2\" class=\"data row6 col2\" >0.183297</td>\n",
       "      <td id=\"T_8d31d_row6_col3\" class=\"data row6 col3\" >0.336896</td>\n",
       "      <td id=\"T_8d31d_row6_col4\" class=\"data row6 col4\" >0.060101</td>\n",
       "      <td id=\"T_8d31d_row6_col5\" class=\"data row6 col5\" >0.263880</td>\n",
       "      <td id=\"T_8d31d_row6_col6\" class=\"data row6 col6\" >1.000000</td>\n",
       "      <td id=\"T_8d31d_row6_col7\" class=\"data row6 col7\" >0.229344</td>\n",
       "      <td id=\"T_8d31d_row6_col8\" class=\"data row6 col8\" >0.024239</td>\n",
       "      <td id=\"T_8d31d_row6_col9\" class=\"data row6 col9\" >0.041736</td>\n",
       "      <td id=\"T_8d31d_row6_col10\" class=\"data row6 col10\" >0.081374</td>\n",
       "      <td id=\"T_8d31d_row6_col11\" class=\"data row6 col11\" >0.071826</td>\n",
       "      <td id=\"T_8d31d_row6_col12\" class=\"data row6 col12\" >0.029237</td>\n",
       "    </tr>\n",
       "    <tr>\n",
       "      <th id=\"T_8d31d_level0_row7\" class=\"row_heading level0 row7\" >revol.bal</th>\n",
       "      <td id=\"T_8d31d_row7_col0\" class=\"data row7 col0\" >0.187518</td>\n",
       "      <td id=\"T_8d31d_row7_col1\" class=\"data row7 col1\" >0.092527</td>\n",
       "      <td id=\"T_8d31d_row7_col2\" class=\"data row7 col2\" >0.233625</td>\n",
       "      <td id=\"T_8d31d_row7_col3\" class=\"data row7 col3\" >0.372140</td>\n",
       "      <td id=\"T_8d31d_row7_col4\" class=\"data row7 col4\" >0.188748</td>\n",
       "      <td id=\"T_8d31d_row7_col5\" class=\"data row7 col5\" >0.015553</td>\n",
       "      <td id=\"T_8d31d_row7_col6\" class=\"data row7 col6\" >0.229344</td>\n",
       "      <td id=\"T_8d31d_row7_col7\" class=\"data row7 col7\" >1.000000</td>\n",
       "      <td id=\"T_8d31d_row7_col8\" class=\"data row7 col8\" >0.203779</td>\n",
       "      <td id=\"T_8d31d_row7_col9\" class=\"data row7 col9\" >0.022394</td>\n",
       "      <td id=\"T_8d31d_row7_col10\" class=\"data row7 col10\" >0.033243</td>\n",
       "      <td id=\"T_8d31d_row7_col11\" class=\"data row7 col11\" >0.031010</td>\n",
       "      <td id=\"T_8d31d_row7_col12\" class=\"data row7 col12\" >0.053699</td>\n",
       "    </tr>\n",
       "    <tr>\n",
       "      <th id=\"T_8d31d_level0_row8\" class=\"row_heading level0 row8\" >revol.util</th>\n",
       "      <td id=\"T_8d31d_row8_col0\" class=\"data row8 col0\" >0.104095</td>\n",
       "      <td id=\"T_8d31d_row8_col1\" class=\"data row8 col1\" >0.464837</td>\n",
       "      <td id=\"T_8d31d_row8_col2\" class=\"data row8 col2\" >0.081356</td>\n",
       "      <td id=\"T_8d31d_row8_col3\" class=\"data row8 col3\" >0.054881</td>\n",
       "      <td id=\"T_8d31d_row8_col4\" class=\"data row8 col4\" >0.337109</td>\n",
       "      <td id=\"T_8d31d_row8_col5\" class=\"data row8 col5\" >0.541289</td>\n",
       "      <td id=\"T_8d31d_row8_col6\" class=\"data row8 col6\" >0.024239</td>\n",
       "      <td id=\"T_8d31d_row8_col7\" class=\"data row8 col7\" >0.203779</td>\n",
       "      <td id=\"T_8d31d_row8_col8\" class=\"data row8 col8\" >1.000000</td>\n",
       "      <td id=\"T_8d31d_row8_col9\" class=\"data row8 col9\" >0.013880</td>\n",
       "      <td id=\"T_8d31d_row8_col10\" class=\"data row8 col10\" >0.042740</td>\n",
       "      <td id=\"T_8d31d_row8_col11\" class=\"data row8 col11\" >0.066717</td>\n",
       "      <td id=\"T_8d31d_row8_col12\" class=\"data row8 col12\" >0.082088</td>\n",
       "    </tr>\n",
       "    <tr>\n",
       "      <th id=\"T_8d31d_level0_row9\" class=\"row_heading level0 row9\" >inq.last.6mths</th>\n",
       "      <td id=\"T_8d31d_row9_col0\" class=\"data row9 col0\" >0.535511</td>\n",
       "      <td id=\"T_8d31d_row9_col1\" class=\"data row9 col1\" >0.202780</td>\n",
       "      <td id=\"T_8d31d_row9_col2\" class=\"data row9 col2\" >0.010419</td>\n",
       "      <td id=\"T_8d31d_row9_col3\" class=\"data row9 col3\" >0.029171</td>\n",
       "      <td id=\"T_8d31d_row9_col4\" class=\"data row9 col4\" >0.029189</td>\n",
       "      <td id=\"T_8d31d_row9_col5\" class=\"data row9 col5\" >0.185293</td>\n",
       "      <td id=\"T_8d31d_row9_col6\" class=\"data row9 col6\" >0.041736</td>\n",
       "      <td id=\"T_8d31d_row9_col7\" class=\"data row9 col7\" >0.022394</td>\n",
       "      <td id=\"T_8d31d_row9_col8\" class=\"data row9 col8\" >0.013880</td>\n",
       "      <td id=\"T_8d31d_row9_col9\" class=\"data row9 col9\" >1.000000</td>\n",
       "      <td id=\"T_8d31d_row9_col10\" class=\"data row9 col10\" >0.021245</td>\n",
       "      <td id=\"T_8d31d_row9_col11\" class=\"data row9 col11\" >0.072673</td>\n",
       "      <td id=\"T_8d31d_row9_col12\" class=\"data row9 col12\" >0.149452</td>\n",
       "    </tr>\n",
       "    <tr>\n",
       "      <th id=\"T_8d31d_level0_row10\" class=\"row_heading level0 row10\" >delinq.2yrs</th>\n",
       "      <td id=\"T_8d31d_row10_col0\" class=\"data row10 col0\" >0.076318</td>\n",
       "      <td id=\"T_8d31d_row10_col1\" class=\"data row10 col1\" >0.156079</td>\n",
       "      <td id=\"T_8d31d_row10_col2\" class=\"data row10 col2\" >0.004368</td>\n",
       "      <td id=\"T_8d31d_row10_col3\" class=\"data row10 col3\" >0.029203</td>\n",
       "      <td id=\"T_8d31d_row10_col4\" class=\"data row10 col4\" >0.021792</td>\n",
       "      <td id=\"T_8d31d_row10_col5\" class=\"data row10 col5\" >0.216340</td>\n",
       "      <td id=\"T_8d31d_row10_col6\" class=\"data row10 col6\" >0.081374</td>\n",
       "      <td id=\"T_8d31d_row10_col7\" class=\"data row10 col7\" >0.033243</td>\n",
       "      <td id=\"T_8d31d_row10_col8\" class=\"data row10 col8\" >0.042740</td>\n",
       "      <td id=\"T_8d31d_row10_col9\" class=\"data row10 col9\" >0.021245</td>\n",
       "      <td id=\"T_8d31d_row10_col10\" class=\"data row10 col10\" >1.000000</td>\n",
       "      <td id=\"T_8d31d_row10_col11\" class=\"data row10 col11\" >0.009184</td>\n",
       "      <td id=\"T_8d31d_row10_col12\" class=\"data row10 col12\" >0.008881</td>\n",
       "    </tr>\n",
       "    <tr>\n",
       "      <th id=\"T_8d31d_level0_row11\" class=\"row_heading level0 row11\" >pub.rec</th>\n",
       "      <td id=\"T_8d31d_row11_col0\" class=\"data row11 col0\" >0.054243</td>\n",
       "      <td id=\"T_8d31d_row11_col1\" class=\"data row11 col1\" >0.098162</td>\n",
       "      <td id=\"T_8d31d_row11_col2\" class=\"data row11 col2\" >0.032760</td>\n",
       "      <td id=\"T_8d31d_row11_col3\" class=\"data row11 col3\" >0.016506</td>\n",
       "      <td id=\"T_8d31d_row11_col4\" class=\"data row11 col4\" >0.006209</td>\n",
       "      <td id=\"T_8d31d_row11_col5\" class=\"data row11 col5\" >0.147592</td>\n",
       "      <td id=\"T_8d31d_row11_col6\" class=\"data row11 col6\" >0.071826</td>\n",
       "      <td id=\"T_8d31d_row11_col7\" class=\"data row11 col7\" >0.031010</td>\n",
       "      <td id=\"T_8d31d_row11_col8\" class=\"data row11 col8\" >0.066717</td>\n",
       "      <td id=\"T_8d31d_row11_col9\" class=\"data row11 col9\" >0.072673</td>\n",
       "      <td id=\"T_8d31d_row11_col10\" class=\"data row11 col10\" >0.009184</td>\n",
       "      <td id=\"T_8d31d_row11_col11\" class=\"data row11 col11\" >1.000000</td>\n",
       "      <td id=\"T_8d31d_row11_col12\" class=\"data row11 col12\" >0.048634</td>\n",
       "    </tr>\n",
       "    <tr>\n",
       "      <th id=\"T_8d31d_level0_row12\" class=\"row_heading level0 row12\" >not.fully.paid</th>\n",
       "      <td id=\"T_8d31d_row12_col0\" class=\"data row12 col0\" >0.158119</td>\n",
       "      <td id=\"T_8d31d_row12_col1\" class=\"data row12 col1\" >0.159552</td>\n",
       "      <td id=\"T_8d31d_row12_col2\" class=\"data row12 col2\" >0.049955</td>\n",
       "      <td id=\"T_8d31d_row12_col3\" class=\"data row12 col3\" >0.033439</td>\n",
       "      <td id=\"T_8d31d_row12_col4\" class=\"data row12 col4\" >0.037362</td>\n",
       "      <td id=\"T_8d31d_row12_col5\" class=\"data row12 col5\" >0.149666</td>\n",
       "      <td id=\"T_8d31d_row12_col6\" class=\"data row12 col6\" >0.029237</td>\n",
       "      <td id=\"T_8d31d_row12_col7\" class=\"data row12 col7\" >0.053699</td>\n",
       "      <td id=\"T_8d31d_row12_col8\" class=\"data row12 col8\" >0.082088</td>\n",
       "      <td id=\"T_8d31d_row12_col9\" class=\"data row12 col9\" >0.149452</td>\n",
       "      <td id=\"T_8d31d_row12_col10\" class=\"data row12 col10\" >0.008881</td>\n",
       "      <td id=\"T_8d31d_row12_col11\" class=\"data row12 col11\" >0.048634</td>\n",
       "      <td id=\"T_8d31d_row12_col12\" class=\"data row12 col12\" >1.000000</td>\n",
       "    </tr>\n",
       "  </tbody>\n",
       "</table>\n"
      ],
      "text/plain": [
       "<pandas.io.formats.style.Styler at 0x202b1aa51d0>"
      ]
     },
     "execution_count": 88,
     "metadata": {},
     "output_type": "execute_result"
    }
   ],
   "source": [
    "corr_matrix.style.background_gradient()"
   ]
  },
  {
   "cell_type": "code",
   "execution_count": 89,
   "metadata": {},
   "outputs": [
    {
     "data": {
      "text/html": [
       "<style type=\"text/css\">\n",
       "#T_50f32_row0_col0, #T_50f32_row1_col1, #T_50f32_row2_col2, #T_50f32_row3_col3, #T_50f32_row4_col4, #T_50f32_row5_col5, #T_50f32_row6_col6, #T_50f32_row7_col7, #T_50f32_row8_col8 {\n",
       "  background-color: #023858;\n",
       "  color: #f1f1f1;\n",
       "}\n",
       "#T_50f32_row0_col1, #T_50f32_row2_col4 {\n",
       "  background-color: #d7d6e9;\n",
       "  color: #000000;\n",
       "}\n",
       "#T_50f32_row0_col2, #T_50f32_row6_col7 {\n",
       "  background-color: #f8f1f8;\n",
       "  color: #000000;\n",
       "}\n",
       "#T_50f32_row0_col3 {\n",
       "  background-color: #b3c3de;\n",
       "  color: #000000;\n",
       "}\n",
       "#T_50f32_row0_col4, #T_50f32_row6_col3 {\n",
       "  background-color: #e1dfed;\n",
       "  color: #000000;\n",
       "}\n",
       "#T_50f32_row0_col5 {\n",
       "  background-color: #f1ebf5;\n",
       "  color: #000000;\n",
       "}\n",
       "#T_50f32_row0_col6 {\n",
       "  background-color: #65a3cb;\n",
       "  color: #f1f1f1;\n",
       "}\n",
       "#T_50f32_row0_col7 {\n",
       "  background-color: #fbf4f9;\n",
       "  color: #000000;\n",
       "}\n",
       "#T_50f32_row0_col8, #T_50f32_row1_col8 {\n",
       "  background-color: #eee8f3;\n",
       "  color: #000000;\n",
       "}\n",
       "#T_50f32_row1_col0 {\n",
       "  background-color: #d0d1e6;\n",
       "  color: #000000;\n",
       "}\n",
       "#T_50f32_row1_col2 {\n",
       "  background-color: #cacee5;\n",
       "  color: #000000;\n",
       "}\n",
       "#T_50f32_row1_col3 {\n",
       "  background-color: #157ab5;\n",
       "  color: #f1f1f1;\n",
       "}\n",
       "#T_50f32_row1_col4 {\n",
       "  background-color: #f3edf5;\n",
       "  color: #000000;\n",
       "}\n",
       "#T_50f32_row1_col5 {\n",
       "  background-color: #84b0d3;\n",
       "  color: #f1f1f1;\n",
       "}\n",
       "#T_50f32_row1_col6, #T_50f32_row4_col5 {\n",
       "  background-color: #dddbec;\n",
       "  color: #000000;\n",
       "}\n",
       "#T_50f32_row1_col7, #T_50f32_row2_col5, #T_50f32_row8_col5 {\n",
       "  background-color: #f5eef6;\n",
       "  color: #000000;\n",
       "}\n",
       "#T_50f32_row2_col0, #T_50f32_row4_col8, #T_50f32_row6_col4, #T_50f32_row7_col1 {\n",
       "  background-color: #fef6fb;\n",
       "  color: #000000;\n",
       "}\n",
       "#T_50f32_row2_col1 {\n",
       "  background-color: #dbdaeb;\n",
       "  color: #000000;\n",
       "}\n",
       "#T_50f32_row2_col3, #T_50f32_row5_col2, #T_50f32_row8_col1 {\n",
       "  background-color: #f4eef6;\n",
       "  color: #000000;\n",
       "}\n",
       "#T_50f32_row2_col6, #T_50f32_row2_col7, #T_50f32_row2_col8, #T_50f32_row3_col4, #T_50f32_row4_col1, #T_50f32_row4_col3, #T_50f32_row4_col7, #T_50f32_row5_col6, #T_50f32_row6_col2, #T_50f32_row6_col5, #T_50f32_row7_col0, #T_50f32_row7_col8 {\n",
       "  background-color: #fff7fb;\n",
       "  color: #000000;\n",
       "}\n",
       "#T_50f32_row3_col0 {\n",
       "  background-color: #bcc7e1;\n",
       "  color: #000000;\n",
       "}\n",
       "#T_50f32_row3_col1 {\n",
       "  background-color: #1e80b8;\n",
       "  color: #f1f1f1;\n",
       "}\n",
       "#T_50f32_row3_col2 {\n",
       "  background-color: #f4edf6;\n",
       "  color: #000000;\n",
       "}\n",
       "#T_50f32_row3_col5, #T_50f32_row5_col3 {\n",
       "  background-color: #63a2cb;\n",
       "  color: #f1f1f1;\n",
       "}\n",
       "#T_50f32_row3_col6 {\n",
       "  background-color: #e0deed;\n",
       "  color: #000000;\n",
       "}\n",
       "#T_50f32_row3_col7 {\n",
       "  background-color: #ede8f3;\n",
       "  color: #000000;\n",
       "}\n",
       "#T_50f32_row3_col8, #T_50f32_row6_col8 {\n",
       "  background-color: #efe9f3;\n",
       "  color: #000000;\n",
       "}\n",
       "#T_50f32_row4_col0 {\n",
       "  background-color: #e8e4f0;\n",
       "  color: #000000;\n",
       "}\n",
       "#T_50f32_row4_col2 {\n",
       "  background-color: #d6d6e9;\n",
       "  color: #000000;\n",
       "}\n",
       "#T_50f32_row4_col6, #T_50f32_row7_col4, #T_50f32_row8_col7 {\n",
       "  background-color: #fdf5fa;\n",
       "  color: #000000;\n",
       "}\n",
       "#T_50f32_row5_col0, #T_50f32_row7_col5 {\n",
       "  background-color: #f7f0f7;\n",
       "  color: #000000;\n",
       "}\n",
       "#T_50f32_row5_col1 {\n",
       "  background-color: #97b7d7;\n",
       "  color: #000000;\n",
       "}\n",
       "#T_50f32_row5_col4 {\n",
       "  background-color: #dedcec;\n",
       "  color: #000000;\n",
       "}\n",
       "#T_50f32_row5_col7, #T_50f32_row5_col8, #T_50f32_row8_col4 {\n",
       "  background-color: #faf2f8;\n",
       "  color: #000000;\n",
       "}\n",
       "#T_50f32_row6_col0 {\n",
       "  background-color: #6fa7ce;\n",
       "  color: #f1f1f1;\n",
       "}\n",
       "#T_50f32_row6_col1 {\n",
       "  background-color: #ede7f2;\n",
       "  color: #000000;\n",
       "}\n",
       "#T_50f32_row7_col2 {\n",
       "  background-color: #fcf4fa;\n",
       "  color: #000000;\n",
       "}\n",
       "#T_50f32_row7_col3, #T_50f32_row8_col3 {\n",
       "  background-color: #eae6f1;\n",
       "  color: #000000;\n",
       "}\n",
       "#T_50f32_row7_col6 {\n",
       "  background-color: #f5eff6;\n",
       "  color: #000000;\n",
       "}\n",
       "#T_50f32_row8_col0 {\n",
       "  background-color: #eee9f3;\n",
       "  color: #000000;\n",
       "}\n",
       "#T_50f32_row8_col2 {\n",
       "  background-color: #f9f2f8;\n",
       "  color: #000000;\n",
       "}\n",
       "#T_50f32_row8_col6 {\n",
       "  background-color: #e9e5f1;\n",
       "  color: #000000;\n",
       "}\n",
       "</style>\n",
       "<table id=\"T_50f32\">\n",
       "  <thead>\n",
       "    <tr>\n",
       "      <th class=\"blank level0\" >&nbsp;</th>\n",
       "      <th id=\"T_50f32_level0_col0\" class=\"col_heading level0 col0\" >credit.policy</th>\n",
       "      <th id=\"T_50f32_level0_col1\" class=\"col_heading level0 col1\" >int.rate</th>\n",
       "      <th id=\"T_50f32_level0_col2\" class=\"col_heading level0 col2\" >installment</th>\n",
       "      <th id=\"T_50f32_level0_col3\" class=\"col_heading level0 col3\" >fico</th>\n",
       "      <th id=\"T_50f32_level0_col4\" class=\"col_heading level0 col4\" >revol.bal</th>\n",
       "      <th id=\"T_50f32_level0_col5\" class=\"col_heading level0 col5\" >revol.util</th>\n",
       "      <th id=\"T_50f32_level0_col6\" class=\"col_heading level0 col6\" >inq.last.6mths</th>\n",
       "      <th id=\"T_50f32_level0_col7\" class=\"col_heading level0 col7\" >pub.rec</th>\n",
       "      <th id=\"T_50f32_level0_col8\" class=\"col_heading level0 col8\" >not.fully.paid</th>\n",
       "    </tr>\n",
       "  </thead>\n",
       "  <tbody>\n",
       "    <tr>\n",
       "      <th id=\"T_50f32_level0_row0\" class=\"row_heading level0 row0\" >credit.policy</th>\n",
       "      <td id=\"T_50f32_row0_col0\" class=\"data row0 col0\" >1.000000</td>\n",
       "      <td id=\"T_50f32_row0_col1\" class=\"data row0 col1\" >0.294089</td>\n",
       "      <td id=\"T_50f32_row0_col2\" class=\"data row0 col2\" >0.058770</td>\n",
       "      <td id=\"T_50f32_row0_col3\" class=\"data row0 col3\" >0.348319</td>\n",
       "      <td id=\"T_50f32_row0_col4\" class=\"data row0 col4\" >0.187518</td>\n",
       "      <td id=\"T_50f32_row0_col5\" class=\"data row0 col5\" >0.104095</td>\n",
       "      <td id=\"T_50f32_row0_col6\" class=\"data row0 col6\" >0.535511</td>\n",
       "      <td id=\"T_50f32_row0_col7\" class=\"data row0 col7\" >0.054243</td>\n",
       "      <td id=\"T_50f32_row0_col8\" class=\"data row0 col8\" >0.158119</td>\n",
       "    </tr>\n",
       "    <tr>\n",
       "      <th id=\"T_50f32_level0_row1\" class=\"row_heading level0 row1\" >int.rate</th>\n",
       "      <td id=\"T_50f32_row1_col0\" class=\"data row1 col0\" >0.294089</td>\n",
       "      <td id=\"T_50f32_row1_col1\" class=\"data row1 col1\" >1.000000</td>\n",
       "      <td id=\"T_50f32_row1_col2\" class=\"data row1 col2\" >0.276140</td>\n",
       "      <td id=\"T_50f32_row1_col3\" class=\"data row1 col3\" >0.714821</td>\n",
       "      <td id=\"T_50f32_row1_col4\" class=\"data row1 col4\" >0.092527</td>\n",
       "      <td id=\"T_50f32_row1_col5\" class=\"data row1 col5\" >0.464837</td>\n",
       "      <td id=\"T_50f32_row1_col6\" class=\"data row1 col6\" >0.202780</td>\n",
       "      <td id=\"T_50f32_row1_col7\" class=\"data row1 col7\" >0.098162</td>\n",
       "      <td id=\"T_50f32_row1_col8\" class=\"data row1 col8\" >0.159552</td>\n",
       "    </tr>\n",
       "    <tr>\n",
       "      <th id=\"T_50f32_level0_row2\" class=\"row_heading level0 row2\" >installment</th>\n",
       "      <td id=\"T_50f32_row2_col0\" class=\"data row2 col0\" >0.058770</td>\n",
       "      <td id=\"T_50f32_row2_col1\" class=\"data row2 col1\" >0.276140</td>\n",
       "      <td id=\"T_50f32_row2_col2\" class=\"data row2 col2\" >1.000000</td>\n",
       "      <td id=\"T_50f32_row2_col3\" class=\"data row2 col3\" >0.086039</td>\n",
       "      <td id=\"T_50f32_row2_col4\" class=\"data row2 col4\" >0.233625</td>\n",
       "      <td id=\"T_50f32_row2_col5\" class=\"data row2 col5\" >0.081356</td>\n",
       "      <td id=\"T_50f32_row2_col6\" class=\"data row2 col6\" >0.010419</td>\n",
       "      <td id=\"T_50f32_row2_col7\" class=\"data row2 col7\" >0.032760</td>\n",
       "      <td id=\"T_50f32_row2_col8\" class=\"data row2 col8\" >0.049955</td>\n",
       "    </tr>\n",
       "    <tr>\n",
       "      <th id=\"T_50f32_level0_row3\" class=\"row_heading level0 row3\" >fico</th>\n",
       "      <td id=\"T_50f32_row3_col0\" class=\"data row3 col0\" >0.348319</td>\n",
       "      <td id=\"T_50f32_row3_col1\" class=\"data row3 col1\" >0.714821</td>\n",
       "      <td id=\"T_50f32_row3_col2\" class=\"data row3 col2\" >0.086039</td>\n",
       "      <td id=\"T_50f32_row3_col3\" class=\"data row3 col3\" >1.000000</td>\n",
       "      <td id=\"T_50f32_row3_col4\" class=\"data row3 col4\" >0.015553</td>\n",
       "      <td id=\"T_50f32_row3_col5\" class=\"data row3 col5\" >0.541289</td>\n",
       "      <td id=\"T_50f32_row3_col6\" class=\"data row3 col6\" >0.185293</td>\n",
       "      <td id=\"T_50f32_row3_col7\" class=\"data row3 col7\" >0.147592</td>\n",
       "      <td id=\"T_50f32_row3_col8\" class=\"data row3 col8\" >0.149666</td>\n",
       "    </tr>\n",
       "    <tr>\n",
       "      <th id=\"T_50f32_level0_row4\" class=\"row_heading level0 row4\" >revol.bal</th>\n",
       "      <td id=\"T_50f32_row4_col0\" class=\"data row4 col0\" >0.187518</td>\n",
       "      <td id=\"T_50f32_row4_col1\" class=\"data row4 col1\" >0.092527</td>\n",
       "      <td id=\"T_50f32_row4_col2\" class=\"data row4 col2\" >0.233625</td>\n",
       "      <td id=\"T_50f32_row4_col3\" class=\"data row4 col3\" >0.015553</td>\n",
       "      <td id=\"T_50f32_row4_col4\" class=\"data row4 col4\" >1.000000</td>\n",
       "      <td id=\"T_50f32_row4_col5\" class=\"data row4 col5\" >0.203779</td>\n",
       "      <td id=\"T_50f32_row4_col6\" class=\"data row4 col6\" >0.022394</td>\n",
       "      <td id=\"T_50f32_row4_col7\" class=\"data row4 col7\" >0.031010</td>\n",
       "      <td id=\"T_50f32_row4_col8\" class=\"data row4 col8\" >0.053699</td>\n",
       "    </tr>\n",
       "    <tr>\n",
       "      <th id=\"T_50f32_level0_row5\" class=\"row_heading level0 row5\" >revol.util</th>\n",
       "      <td id=\"T_50f32_row5_col0\" class=\"data row5 col0\" >0.104095</td>\n",
       "      <td id=\"T_50f32_row5_col1\" class=\"data row5 col1\" >0.464837</td>\n",
       "      <td id=\"T_50f32_row5_col2\" class=\"data row5 col2\" >0.081356</td>\n",
       "      <td id=\"T_50f32_row5_col3\" class=\"data row5 col3\" >0.541289</td>\n",
       "      <td id=\"T_50f32_row5_col4\" class=\"data row5 col4\" >0.203779</td>\n",
       "      <td id=\"T_50f32_row5_col5\" class=\"data row5 col5\" >1.000000</td>\n",
       "      <td id=\"T_50f32_row5_col6\" class=\"data row5 col6\" >0.013880</td>\n",
       "      <td id=\"T_50f32_row5_col7\" class=\"data row5 col7\" >0.066717</td>\n",
       "      <td id=\"T_50f32_row5_col8\" class=\"data row5 col8\" >0.082088</td>\n",
       "    </tr>\n",
       "    <tr>\n",
       "      <th id=\"T_50f32_level0_row6\" class=\"row_heading level0 row6\" >inq.last.6mths</th>\n",
       "      <td id=\"T_50f32_row6_col0\" class=\"data row6 col0\" >0.535511</td>\n",
       "      <td id=\"T_50f32_row6_col1\" class=\"data row6 col1\" >0.202780</td>\n",
       "      <td id=\"T_50f32_row6_col2\" class=\"data row6 col2\" >0.010419</td>\n",
       "      <td id=\"T_50f32_row6_col3\" class=\"data row6 col3\" >0.185293</td>\n",
       "      <td id=\"T_50f32_row6_col4\" class=\"data row6 col4\" >0.022394</td>\n",
       "      <td id=\"T_50f32_row6_col5\" class=\"data row6 col5\" >0.013880</td>\n",
       "      <td id=\"T_50f32_row6_col6\" class=\"data row6 col6\" >1.000000</td>\n",
       "      <td id=\"T_50f32_row6_col7\" class=\"data row6 col7\" >0.072673</td>\n",
       "      <td id=\"T_50f32_row6_col8\" class=\"data row6 col8\" >0.149452</td>\n",
       "    </tr>\n",
       "    <tr>\n",
       "      <th id=\"T_50f32_level0_row7\" class=\"row_heading level0 row7\" >pub.rec</th>\n",
       "      <td id=\"T_50f32_row7_col0\" class=\"data row7 col0\" >0.054243</td>\n",
       "      <td id=\"T_50f32_row7_col1\" class=\"data row7 col1\" >0.098162</td>\n",
       "      <td id=\"T_50f32_row7_col2\" class=\"data row7 col2\" >0.032760</td>\n",
       "      <td id=\"T_50f32_row7_col3\" class=\"data row7 col3\" >0.147592</td>\n",
       "      <td id=\"T_50f32_row7_col4\" class=\"data row7 col4\" >0.031010</td>\n",
       "      <td id=\"T_50f32_row7_col5\" class=\"data row7 col5\" >0.066717</td>\n",
       "      <td id=\"T_50f32_row7_col6\" class=\"data row7 col6\" >0.072673</td>\n",
       "      <td id=\"T_50f32_row7_col7\" class=\"data row7 col7\" >1.000000</td>\n",
       "      <td id=\"T_50f32_row7_col8\" class=\"data row7 col8\" >0.048634</td>\n",
       "    </tr>\n",
       "    <tr>\n",
       "      <th id=\"T_50f32_level0_row8\" class=\"row_heading level0 row8\" >not.fully.paid</th>\n",
       "      <td id=\"T_50f32_row8_col0\" class=\"data row8 col0\" >0.158119</td>\n",
       "      <td id=\"T_50f32_row8_col1\" class=\"data row8 col1\" >0.159552</td>\n",
       "      <td id=\"T_50f32_row8_col2\" class=\"data row8 col2\" >0.049955</td>\n",
       "      <td id=\"T_50f32_row8_col3\" class=\"data row8 col3\" >0.149666</td>\n",
       "      <td id=\"T_50f32_row8_col4\" class=\"data row8 col4\" >0.053699</td>\n",
       "      <td id=\"T_50f32_row8_col5\" class=\"data row8 col5\" >0.082088</td>\n",
       "      <td id=\"T_50f32_row8_col6\" class=\"data row8 col6\" >0.149452</td>\n",
       "      <td id=\"T_50f32_row8_col7\" class=\"data row8 col7\" >0.048634</td>\n",
       "      <td id=\"T_50f32_row8_col8\" class=\"data row8 col8\" >1.000000</td>\n",
       "    </tr>\n",
       "  </tbody>\n",
       "</table>\n"
      ],
      "text/plain": [
       "<pandas.io.formats.style.Styler at 0x202ab5f7290>"
      ]
     },
     "execution_count": 89,
     "metadata": {},
     "output_type": "execute_result"
    }
   ],
   "source": [
    "# Borramos los datos con una correlación muy baja\n",
    "loan_data_copy=loan_data.copy()\n",
    "a_borrar=target_corr[target_corr < 0.04].index.to_list()\n",
    "loan_data_copy=loan_data_copy.drop(columns=a_borrar)\n",
    "corr_matrix = loan_data_copy.corr(numeric_only=True).abs()\n",
    "corr_matrix.style.background_gradient()"
   ]
  },
  {
   "cell_type": "code",
   "execution_count": 90,
   "metadata": {},
   "outputs": [
    {
     "data": {
      "text/plain": [
       "<Figure size 640x480 with 0 Axes>"
      ]
     },
     "metadata": {},
     "output_type": "display_data"
    },
    {
     "data": {
      "image/png": "[encoded data removed]",
      "text/plain": [
       "<Figure size 1600x1000 with 9 Axes>"
      ]
     },
     "metadata": {},
     "output_type": "display_data"
    }
   ],
   "source": [
    "plt.tight_layout()\n",
    "plt.rc('font', size=14)\n",
    "plt.rc('axes', labelsize=14, titlesize=14)\n",
    "plt.rc('legend', fontsize=14)\n",
    "plt.rc('xtick', labelsize=8)\n",
    "plt.rc('ytick', labelsize=10)\n",
    "loan_data_copy.hist(bins=40, figsize=(16, 10))\n",
    "plt.show()"
   ]
  },
  {
   "cell_type": "code",
   "execution_count": 91,
   "metadata": {},
   "outputs": [
    {
     "data": {
      "image/png": "[encoded data removed]",
      "text/plain": [
       "<Figure size 640x480 with 1 Axes>"
      ]
     },
     "metadata": {},
     "output_type": "display_data"
    }
   ],
   "source": [
    "loan_data_copy[\"purpose\"].value_counts().sort_index().plot.bar(rot=90, grid=True)\n",
    "plt.xlabel(\"Proposito\")\n",
    "plt.ylabel(\"Ocurrencias\")\n",
    "plt.show()"
   ]
  },
  {
   "cell_type": "code",
   "execution_count": 92,
   "metadata": {},
   "outputs": [
    {
     "data": {
      "text/plain": [
       "<Axes: xlabel='purpose', ylabel='count'>"
      ]
     },
     "execution_count": 92,
     "metadata": {},
     "output_type": "execute_result"
    },
    {
     "data": {
      "image/png": "[encoded data removed]",
      "text/plain": [
       "<Figure size 1000x800 with 1 Axes>"
      ]
     },
     "metadata": {},
     "output_type": "display_data"
    }
   ],
   "source": [
    "plt.figure(figsize=(10,8))\n",
    "plt.tight_layout()\n",
    "sns.countplot(loan_data_copy,x='purpose',legend=True,hue='not.fully.paid')"
   ]
  },
  {
   "cell_type": "code",
   "execution_count": 93,
   "metadata": {},
   "outputs": [
    {
     "name": "stdout",
     "output_type": "stream",
     "text": [
      "              purpose  not.fully.paid\n",
      "0           all_other        0.166023\n",
      "1         credit_card        0.115689\n",
      "2  debt_consolidation        0.152388\n",
      "3         educational        0.201166\n",
      "4    home_improvement        0.170111\n",
      "5      major_purchase        0.112128\n",
      "6      small_business        0.277868\n",
      "not.fully.paid    0.160054\n",
      "dtype: float64\n"
     ]
    }
   ],
   "source": [
    "\"\"\"\n",
    "Parece ser que la variable de proposito no afecta demasiado \n",
    "\"\"\"\n",
    "print(loan_data_copy[['purpose', 'not.fully.paid']].groupby('purpose', as_index=False).mean())\n",
    "print(loan_data_copy[['not.fully.paid']].mean())"
   ]
  },
  {
   "cell_type": "markdown",
   "metadata": {},
   "source": [
    "#### DIVIDIR LOS DATOS"
   ]
  },
  {
   "cell_type": "code",
   "execution_count": 94,
   "metadata": {},
   "outputs": [
    {
     "name": "stdout",
     "output_type": "stream",
     "text": [
      "<class 'pandas.core.frame.DataFrame'>\n",
      "Index: 8141 entries, 843 to 2191\n",
      "Data columns (total 14 columns):\n",
      " #   Column             Non-Null Count  Dtype  \n",
      "---  ------             --------------  -----  \n",
      " 0   credit.policy      8141 non-null   int64  \n",
      " 1   purpose            8141 non-null   object \n",
      " 2   int.rate           8141 non-null   float64\n",
      " 3   installment        8141 non-null   float64\n",
      " 4   log.annual.inc     8141 non-null   float64\n",
      " 5   dti                8141 non-null   float64\n",
      " 6   fico               8141 non-null   int64  \n",
      " 7   days.with.cr.line  8141 non-null   float64\n",
      " 8   revol.bal          8141 non-null   int64  \n",
      " 9   revol.util         8141 non-null   float64\n",
      " 10  inq.last.6mths     8141 non-null   int64  \n",
      " 11  delinq.2yrs        8141 non-null   int64  \n",
      " 12  pub.rec            8141 non-null   int64  \n",
      " 13  not.fully.paid     8141 non-null   int64  \n",
      "dtypes: float64(6), int64(7), object(1)\n",
      "memory usage: 954.0+ KB\n"
     ]
    }
   ],
   "source": [
    "df_loan_train, df_loan_test = train_test_split(loan_data, test_size=0.15, random_state=17)\n",
    "df_loan_train.info()"
   ]
  },
  {
   "cell_type": "markdown",
   "metadata": {},
   "source": [
    "#### PREPARAR LOS DATOS"
   ]
  },
  {
   "cell_type": "code",
   "execution_count": 95,
   "metadata": {},
   "outputs": [
    {
     "data": {
      "text/html": [
       "<div>\n",
       "<style scoped>\n",
       "    .dataframe tbody tr th:only-of-type {\n",
       "        vertical-align: middle;\n",
       "    }\n",
       "\n",
       "    .dataframe tbody tr th {\n",
       "        vertical-align: top;\n",
       "    }\n",
       "\n",
       "    .dataframe thead th {\n",
       "        text-align: right;\n",
       "    }\n",
       "</style>\n",
       "<table border=\"1\" class=\"dataframe\">\n",
       "  <thead>\n",
       "    <tr style=\"text-align: right;\">\n",
       "      <th></th>\n",
       "      <th>revol.util</th>\n",
       "      <th>revol.bal</th>\n",
       "      <th>installment</th>\n",
       "      <th>int.rate</th>\n",
       "      <th>pub.rec</th>\n",
       "      <th>inq.last.6mths</th>\n",
       "      <th>fico</th>\n",
       "      <th>credit.policy</th>\n",
       "      <th>purpose_all_other</th>\n",
       "      <th>purpose_credit_card</th>\n",
       "      <th>purpose_debt_consolidation</th>\n",
       "      <th>purpose_educational</th>\n",
       "      <th>purpose_home_improvement</th>\n",
       "      <th>purpose_major_purchase</th>\n",
       "      <th>purpose_small_business</th>\n",
       "      <th>not.fully.paid</th>\n",
       "    </tr>\n",
       "  </thead>\n",
       "  <tbody>\n",
       "    <tr>\n",
       "      <th>0</th>\n",
       "      <td>0.341989</td>\n",
       "      <td>0.845291</td>\n",
       "      <td>2.068832</td>\n",
       "      <td>-0.083624</td>\n",
       "      <td>-0.247147</td>\n",
       "      <td>-1.085294</td>\n",
       "      <td>0.699516</td>\n",
       "      <td>0.492222</td>\n",
       "      <td>0.0</td>\n",
       "      <td>0.0</td>\n",
       "      <td>1.0</td>\n",
       "      <td>0.0</td>\n",
       "      <td>0.0</td>\n",
       "      <td>0.0</td>\n",
       "      <td>0.0</td>\n",
       "      <td>0.0</td>\n",
       "    </tr>\n",
       "    <tr>\n",
       "      <th>1</th>\n",
       "      <td>0.938342</td>\n",
       "      <td>1.021277</td>\n",
       "      <td>-0.314902</td>\n",
       "      <td>-0.537299</td>\n",
       "      <td>-0.247147</td>\n",
       "      <td>-1.085294</td>\n",
       "      <td>-0.088694</td>\n",
       "      <td>0.492222</td>\n",
       "      <td>0.0</td>\n",
       "      <td>1.0</td>\n",
       "      <td>0.0</td>\n",
       "      <td>0.0</td>\n",
       "      <td>0.0</td>\n",
       "      <td>0.0</td>\n",
       "      <td>0.0</td>\n",
       "      <td>0.0</td>\n",
       "    </tr>\n",
       "    <tr>\n",
       "      <th>2</th>\n",
       "      <td>-0.493928</td>\n",
       "      <td>-0.596517</td>\n",
       "      <td>0.389855</td>\n",
       "      <td>0.525051</td>\n",
       "      <td>-0.247147</td>\n",
       "      <td>0.089698</td>\n",
       "      <td>-0.758405</td>\n",
       "      <td>0.492222</td>\n",
       "      <td>0.0</td>\n",
       "      <td>0.0</td>\n",
       "      <td>1.0</td>\n",
       "      <td>0.0</td>\n",
       "      <td>0.0</td>\n",
       "      <td>0.0</td>\n",
       "      <td>0.0</td>\n",
       "      <td>0.0</td>\n",
       "    </tr>\n",
       "    <tr>\n",
       "      <th>3</th>\n",
       "      <td>0.860050</td>\n",
       "      <td>1.022840</td>\n",
       "      <td>-0.726905</td>\n",
       "      <td>-0.789782</td>\n",
       "      <td>-0.247147</td>\n",
       "      <td>0.089698</td>\n",
       "      <td>0.043819</td>\n",
       "      <td>0.492222</td>\n",
       "      <td>0.0</td>\n",
       "      <td>0.0</td>\n",
       "      <td>1.0</td>\n",
       "      <td>0.0</td>\n",
       "      <td>0.0</td>\n",
       "      <td>0.0</td>\n",
       "      <td>0.0</td>\n",
       "      <td>0.0</td>\n",
       "    </tr>\n",
       "    <tr>\n",
       "      <th>4</th>\n",
       "      <td>-0.019401</td>\n",
       "      <td>-0.471460</td>\n",
       "      <td>-1.179077</td>\n",
       "      <td>0.764050</td>\n",
       "      <td>-0.247147</td>\n",
       "      <td>-1.085294</td>\n",
       "      <td>-1.166135</td>\n",
       "      <td>0.492222</td>\n",
       "      <td>0.0</td>\n",
       "      <td>1.0</td>\n",
       "      <td>0.0</td>\n",
       "      <td>0.0</td>\n",
       "      <td>0.0</td>\n",
       "      <td>0.0</td>\n",
       "      <td>0.0</td>\n",
       "      <td>0.0</td>\n",
       "    </tr>\n",
       "  </tbody>\n",
       "</table>\n",
       "</div>"
      ],
      "text/plain": [
       "   revol.util  revol.bal  installment  int.rate   pub.rec  inq.last.6mths  \\\n",
       "0    0.341989   0.845291     2.068832 -0.083624 -0.247147       -1.085294   \n",
       "1    0.938342   1.021277    -0.314902 -0.537299 -0.247147       -1.085294   \n",
       "2   -0.493928  -0.596517     0.389855  0.525051 -0.247147        0.089698   \n",
       "3    0.860050   1.022840    -0.726905 -0.789782 -0.247147        0.089698   \n",
       "4   -0.019401  -0.471460    -1.179077  0.764050 -0.247147       -1.085294   \n",
       "\n",
       "       fico  credit.policy  purpose_all_other  purpose_credit_card  \\\n",
       "0  0.699516       0.492222                0.0                  0.0   \n",
       "1 -0.088694       0.492222                0.0                  1.0   \n",
       "2 -0.758405       0.492222                0.0                  0.0   \n",
       "3  0.043819       0.492222                0.0                  0.0   \n",
       "4 -1.166135       0.492222                0.0                  1.0   \n",
       "\n",
       "   purpose_debt_consolidation  purpose_educational  purpose_home_improvement  \\\n",
       "0                         1.0                  0.0                       0.0   \n",
       "1                         0.0                  0.0                       0.0   \n",
       "2                         1.0                  0.0                       0.0   \n",
       "3                         1.0                  0.0                       0.0   \n",
       "4                         0.0                  0.0                       0.0   \n",
       "\n",
       "   purpose_major_purchase  purpose_small_business  not.fully.paid  \n",
       "0                     0.0                     0.0             0.0  \n",
       "1                     0.0                     0.0             0.0  \n",
       "2                     0.0                     0.0             0.0  \n",
       "3                     0.0                     0.0             0.0  \n",
       "4                     0.0                     0.0             0.0  "
      ]
     },
     "execution_count": 95,
     "metadata": {},
     "output_type": "execute_result"
    }
   ],
   "source": [
    "\n",
    "imputer_moda=SimpleImputer(strategy='most_frequent')\n",
    "imputer_media=SimpleImputer(strategy='mean')\n",
    "\n",
    "pipeline_media = make_pipeline(\n",
    "    imputer_media,\n",
    "    FunctionTransformer(np.sqrt, feature_names_out=\"one-to-one\"),\n",
    "    StandardScaler()\n",
    ")\n",
    "pipeline_moda = make_pipeline(\n",
    "    imputer_moda,\n",
    "    FunctionTransformer(np.sqrt, feature_names_out=\"one-to-one\"),\n",
    "    StandardScaler()\n",
    ")\n",
    "\n",
    "purpose_pipeline = make_pipeline(\n",
    "    imputer_moda,\n",
    "    OneHotEncoder(sparse_output=False, handle_unknown='ignore')\n",
    ")\n",
    "\n",
    "\n",
    "#'dti', 'log.annual.inc', 'days.with.cr.line', 'delinq.2yrs'\n",
    "transformar = ColumnTransformer([\n",
    "        (\"pipeline_media\", pipeline_media, [\"revol.util\", \"revol.bal\", \"installment\", \"int.rate\"]),\n",
    "        (\"pipeline_moda\", pipeline_moda, [\"pub.rec\", \"inq.last.6mths\", \"fico\", \"credit.policy\"]),\n",
    "        (\"purpose\", purpose_pipeline, [\"purpose\"]),\n",
    "        (\"drop_columns\", 'drop', [\"dti\", \"log.annual.inc\", \"delinq.2yrs\", \"days.with.cr.line\"])\n",
    "    ], \n",
    "    remainder='passthrough',\n",
    "    verbose_feature_names_out=False\n",
    ")\n",
    "\n",
    "pipeline=make_pipeline(transformar)\n",
    "\n",
    "prep_array = pipeline.fit_transform(loan_data)\n",
    "\n",
    "feature_names = pipeline.get_feature_names_out()\n",
    "\n",
    "df_loan_adapt = pd.DataFrame(prep_array, columns=feature_names)\n",
    "\n",
    "df_loan_adapt.head()"
   ]
  },
  {
   "cell_type": "markdown",
   "metadata": {},
   "source": [
    "### ENTRENAMIENTO Y EVALUACIÓN DEL MODELO"
   ]
  },
  {
   "cell_type": "markdown",
   "metadata": {},
   "source": [
    "Usa evaluación cruzada con los siguientes algoritmos:\n",
    "- Regresión logisitca\n",
    "- SGDClassifier\n",
    "- K vecinos mas cercanos\n",
    "- Random Forest\n",
    "\n",
    " y evalua los resultados en el conjunto de entrenamiento con las siguientes métricas: exactitud, prescisión, sensibilidad, f1, curva de roc y área bajo la curva de roc"
   ]
  },
  {
   "cell_type": "code",
   "execution_count": 96,
   "metadata": {},
   "outputs": [
    {
     "name": "stdout",
     "output_type": "stream",
     "text": [
      "LogisticRegression\n",
      "exactitud: 0.8405601277484338\n",
      "precision: 0.6666666666666666\n",
      "sensibilidad: 0.0243531202435312\n",
      "f1: 0.04698972099853157\n",
      "El modelo soporta evaluación cruzada\n"
     ]
    },
    {
     "data": {
      "image/png": "[encoded data removed]",
      "text/plain": [
       "<Figure size 800x600 with 1 Axes>"
      ]
     },
     "metadata": {},
     "output_type": "display_data"
    },
    {
     "name": "stdout",
     "output_type": "stream",
     "text": [
      "Área bajo la curva ROC: 0.51\n",
      "\n",
      "------------------\n",
      "SGDClassifier\n",
      "exactitud: 0.8385947672276133\n",
      "precision: 1.0\n",
      "sensibilidad: 0.0\n",
      "f1: 0.0\n",
      "El modelo soporta evaluación cruzada\n"
     ]
    },
    {
     "data": {
      "image/png": "[encoded data removed]",
      "text/plain": [
       "<Figure size 800x600 with 1 Axes>"
      ]
     },
     "metadata": {},
     "output_type": "display_data"
    },
    {
     "name": "stdout",
     "output_type": "stream",
     "text": [
      "Área bajo la curva ROC: 0.50\n",
      "\n",
      "------------------\n",
      "KNeighborsClassifier\n",
      "exactitud: 0.8548089915243827\n",
      "precision: 0.6633663366336634\n",
      "sensibilidad: 0.2039573820395738\n",
      "f1: 0.3119906868451688\n",
      "El modelo no soporta decision_function. Omitimos calculo roc.\n",
      "------------------\n",
      "RandomForestClassifier\n",
      "exactitud: 1.0\n",
      "precision: 1.0\n",
      "sensibilidad: 1.0\n",
      "f1: 1.0\n",
      "El modelo no soporta decision_function. Omitimos calculo roc.\n",
      "------------------\n"
     ]
    }
   ],
   "source": [
    "\n",
    "df_loan_train_y=df_loan_train['not.fully.paid'].copy()\n",
    "df_loan_train_x=df_loan_train.drop('not.fully.paid',axis=1)\n",
    "\n",
    "modelo_LR=make_pipeline(transformar,LogisticRegression(random_state=17,max_iter=1000))\n",
    "modelo_SDG=make_pipeline(transformar,SGDClassifier(random_state=17))\n",
    "modelo_KNN=make_pipeline(transformar,KNeighborsClassifier())\n",
    "modelo_RF=make_pipeline(transformar,RandomForestClassifier(random_state=17))\n",
    "\n",
    "modelos=[modelo_LR,modelo_SDG,modelo_KNN,modelo_RF]\n",
    "\n",
    "for modelo in modelos:\n",
    "    modelo.fit(df_loan_train_x,df_loan_train_y)\n",
    "    predicciones = modelo.predict(df_loan_train_x)\n",
    "    exactitud=accuracy_score(df_loan_train_y,predicciones)\n",
    "    precision=precision_score(df_loan_train_y,predicciones,zero_division=1)\n",
    "    sensibilidad=recall_score(df_loan_train_y,predicciones,zero_division=1)\n",
    "    f1=f1_score(df_loan_train_y,predicciones,zero_division=1)\n",
    "    roc_auc=roc_auc_score(df_loan_train_y,predicciones)\n",
    "\n",
    "    \n",
    "\n",
    "    print(modelo.steps[-1][1].__class__.__name__)\n",
    "    print(\"exactitud:\",exactitud)\n",
    "    print(\"precision:\",precision)\n",
    "    print(\"sensibilidad:\",sensibilidad)\n",
    "    print(\"f1:\",f1)\n",
    "    \n",
    "    try:\n",
    "        modelo_crossval = cross_val_predict(modelo, df_loan_train_x, df_loan_train_y, cv=3, method='decision_function')\n",
    "        print(\"El modelo soporta evaluación cruzada\")\n",
    "        fpr, tpr, thresholds = roc_curve(df_loan_train_y, modelo_crossval)\n",
    "\n",
    "        plt.figure(figsize=(8, 6))\n",
    "        plt.plot(fpr, tpr, label=f'ROC {modelo.steps[-1][1].__class__.__name__} (AUC = {roc_auc:.2f})', lw=2)\n",
    "        plt.plot([0, 1], [0, 1], color='gray', linestyle='--', lw=1)  # Línea de referencia\n",
    "        plt.xlabel('Tasa de Falsos Positivos (FPR)')\n",
    "        plt.ylabel('Tasa de Verdaderos Positivos (TPR)')\n",
    "        plt.title(f'Curva ROC - {modelo.steps[-1][1].__class__.__name__}')\n",
    "        plt.legend(loc='lower right')\n",
    "        plt.grid(alpha=0.3)\n",
    "        plt.show()\n",
    "\n",
    "        print(f'Área bajo la curva ROC: {roc_auc:.2f}')\n",
    "        print(\"\")\n",
    "\n",
    "    except:\n",
    "        print(\"El modelo no soporta decision_function. Omitimos calculo roc.\")\n",
    "    print(\"------------------\")\n",
    "\n",
    "\n"
   ]
  },
  {
   "cell_type": "code",
   "execution_count": 97,
   "metadata": {},
   "outputs": [
    {
     "data": {
      "text/plain": [
       "'\\nA vista de estos resultados el modelo RandomForest parece ser el mejor (Perfecto aparentemente),\\nnos vamos con el LogisticRegresion que este si es posible optimizarlo\\n'"
      ]
     },
     "execution_count": 97,
     "metadata": {},
     "output_type": "execute_result"
    }
   ],
   "source": [
    "\"\"\"\n",
    "A vista de estos resultados el modelo RandomForest parece ser el mejor (Perfecto aparentemente),\n",
    "nos vamos con el LogisticRegresion que este si es posible optimizarlo\n",
    "\"\"\""
   ]
  },
  {
   "cell_type": "markdown",
   "metadata": {},
   "source": [
    "### OPMITZACIÓN DEL MODELO"
   ]
  },
  {
   "cell_type": "markdown",
   "metadata": {},
   "source": [
    "#### OPTIMIZACIÓN"
   ]
  },
  {
   "cell_type": "markdown",
   "metadata": {},
   "source": [
    "Usa búsqueda exhaustiva o búsqueda aleatoria para optimizar el mejor modelo del apartado anterior"
   ]
  },
  {
   "cell_type": "code",
   "execution_count": 98,
   "metadata": {},
   "outputs": [
    {
     "name": "stdout",
     "output_type": "stream",
     "text": [
      "Fitting 5 folds for each of 18 candidates, totalling 90 fits\n",
      "Mejores hiperparámetros GridSearch: {'classifier__C': 0.1, 'classifier__max_iter': 5000, 'classifier__random_state': 17, 'classifier__solver': 'liblinear'}\n"
     ]
    }
   ],
   "source": [
    "full_pieline=Pipeline([\n",
    "    ('preprocessing',transformar),\n",
    "    ('classifier',LogisticRegression())\n",
    "])\n",
    "param_dist = {\n",
    "    'classifier__C': [0.001, 0.01, 0.1, 1, 10, 100],            # Inverso de la fuerza de regularización\n",
    "    'classifier__solver': ['lbfgs', 'saga', 'liblinear'],       # Algoritmos de optimización\n",
    "    'classifier__max_iter': [5000],                             # Número máximo de iteraciones\n",
    "    'classifier__random_state': [17]                            # Fijar la semilla para reproducibilidad\n",
    "}\n",
    "\n",
    "# Configurar la búsqueda aleatoria\n",
    "grid_search = GridSearchCV(\n",
    "    estimator=full_pieline,\n",
    "    param_grid=param_dist,\n",
    "    scoring=\"accuracy\",  # Métrica de evaluación\n",
    "    cv=5,  # Validación cruzada con 5 folds\n",
    "    verbose=1,  # Mostrar progreso\n",
    "    n_jobs=-1  # Usar todos los núcleos disponibles \n",
    ")\n",
    "\n",
    "# Realizar la búsqueda en el conjunto de entrenamiento\n",
    "grid_search.fit(df_loan_train_x, df_loan_train_y)\n",
    "\n",
    "# Mostrar los mejores hiperparámetros encontrados\n",
    "print(\"Mejores hiperparámetros GridSearch:\", grid_search.best_params_)\n"
   ]
  },
  {
   "cell_type": "markdown",
   "metadata": {},
   "source": [
    "#### EVALUACIÓN EN EL CONJUNTO DE PRUEBA"
   ]
  },
  {
   "cell_type": "markdown",
   "metadata": {},
   "source": [
    "Evalúa el conjunto de pruebas con diferentes métricas"
   ]
  },
  {
   "cell_type": "code",
   "execution_count": 99,
   "metadata": {},
   "outputs": [
    {
     "name": "stdout",
     "output_type": "stream",
     "text": [
      "Exactitud del conjunto de prueba: 0.8469032707028532\n",
      "Precisión del conjunto de prueba: 0.4444444444444444\n",
      "Sensibilidad edel conjunto de prueba: 0.0136986301369863\n",
      "F1 del conjunto de prueba: 0.026549707602339184\n",
      "Área bajo la curva ROC del conjunto de prueba: 0.661909260633871\n"
     ]
    },
    {
     "data": {
      "image/png": "[encoded data removed]",
      "text/plain": [
       "<Figure size 800x600 with 1 Axes>"
      ]
     },
     "metadata": {},
     "output_type": "display_data"
    }
   ],
   "source": [
    "df_loan_test_y=df_loan_test['not.fully.paid'].copy()\n",
    "df_loan_test_x=df_loan_test.drop('not.fully.paid',axis=1)\n",
    "\n",
    "best_model = grid_search.best_estimator_\n",
    "\n",
    "scoring = ['accuracy', 'precision', 'recall', 'f1', 'roc_auc']\n",
    "cv_results = cross_validate(best_model, df_loan_test_x, df_loan_test_y, cv=3, scoring=scoring, return_train_score=False)\n",
    "\n",
    "print(\"Exactitud del conjunto de prueba:\", np.mean(cv_results['test_accuracy']))\n",
    "print(\"Precisión del conjunto de prueba:\", np.mean(cv_results['test_precision']))\n",
    "print(\"Sensibilidad edel conjunto de prueba:\", np.mean(cv_results['test_recall']))\n",
    "print(\"F1 del conjunto de prueba:\",np.mean(cv_results['test_f1']))\n",
    "\n",
    "\n",
    "if hasattr(best_model, 'predict_proba'):\n",
    "    print(\"Área bajo la curva ROC del conjunto de prueba:\", np.mean(cv_results['test_roc_auc']))\n",
    "    y_train_proba = cross_val_predict(best_model, df_loan_test_x, df_loan_test_y, cv=3, method='predict_proba')[:, 1]\n",
    "    fpr, tpr, thresholds = roc_curve(df_loan_test_y, y_train_proba)\n",
    "    roc_auc = roc_auc_score(df_loan_test_y, y_train_proba)\n",
    "\n",
    "    # Graficar la curva ROC\n",
    "    plt.figure(figsize=(8, 6))\n",
    "    plt.plot(fpr, tpr, label=f'ROC (AUC = {roc_auc:.2f})', lw=2)\n",
    "    plt.plot([0, 1], [0, 1], color='gray', linestyle='--', lw=1)  # Línea de referencia\n",
    "    plt.xlabel('Tasa de Falsos Positivos (FPR)')\n",
    "    plt.ylabel('Tasa de Verdaderos Positivos (TPR)')\n",
    "    plt.title('Curva ROC')\n",
    "    plt.legend(loc='lower right')\n",
    "    plt.grid(alpha=0.3)\n",
    "    plt.tight_layout()\n",
    "    plt.show()\n",
    "\n",
    "else:\n",
    "    print(\"El modelo no soporta el cálculo de la curva ROC.\")\n"
   ]
  },
  {
   "cell_type": "markdown",
   "metadata": {},
   "source": [
    "### PRESENTACIÓN DE LA SOLUCIÓN"
   ]
  },
  {
   "cell_type": "markdown",
   "metadata": {},
   "source": [
    "Guarda mejor modelo (pipeline de preparación de los datos + modelo) y  haz un script de python que te pida los datos necesarios ('int_rate', 'installment', 'fico',  'revol_bal', 'revol_util', 'inq_last_6mths', 'pub_rec' y 'purpose') y prediga la solución."
   ]
  },
  {
   "cell_type": "code",
   "execution_count": 100,
   "metadata": {},
   "outputs": [
    {
     "data": {
      "text/plain": [
       "['./solucion1/modelo_prestamos.pkl']"
      ]
     },
     "execution_count": 100,
     "metadata": {},
     "output_type": "execute_result"
    }
   ],
   "source": [
    "joblib.dump(best_model, \"./solucion1/modelo_prestamos.pkl\")"
   ]
  },
  {
   "cell_type": "markdown",
   "metadata": {},
   "source": [
    "## EJERCICIO 2"
   ]
  },
  {
   "cell_type": "markdown",
   "metadata": {},
   "source": [
    "Vamos a trabajar conun conjunto de datos digits.\n",
    "\n",
    "Crea un clasificador que nos diga de que número se trata."
   ]
  },
  {
   "cell_type": "markdown",
   "metadata": {},
   "source": [
    "### RECOPILACIÓN Y PREPARACIÓN DE LOS DATOS"
   ]
  },
  {
   "cell_type": "markdown",
   "metadata": {},
   "source": [
    "#### OBTENER LOS DATOS"
   ]
  },
  {
   "cell_type": "code",
   "execution_count": 101,
   "metadata": {},
   "outputs": [],
   "source": [
    "# Cargar el conjunto de datos\n",
    "digits = load_digits()\n",
    "x_digits = digits.data\n",
    "y_digits = digits.target"
   ]
  },
  {
   "cell_type": "markdown",
   "metadata": {},
   "source": [
    "#### EXPLORAR LOS DATOS"
   ]
  },
  {
   "cell_type": "code",
   "execution_count": 102,
   "metadata": {},
   "outputs": [
    {
     "name": "stdout",
     "output_type": "stream",
     "text": [
      "x_digits\n",
      "Tipo: <class 'numpy.ndarray'>\n",
      "Forma: (1797, 64)\n",
      "[[ 0.  0.  5. ...  0.  0.  0.]\n",
      " [ 0.  0.  0. ... 10.  0.  0.]\n",
      " [ 0.  0.  0. ... 16.  9.  0.]\n",
      " ...\n",
      " [ 0.  0.  1. ...  6.  0.  0.]\n",
      " [ 0.  0.  2. ... 12.  0.  0.]\n",
      " [ 0.  0. 10. ... 12.  1.  0.]]\n",
      "y_digits\n",
      "Tipo: <class 'numpy.ndarray'>\n",
      "Forma: (1797,)\n",
      "[0 1 2 ... 8 9 8]\n",
      "[[ 0.  0.  5. ...  0.  0.  0.]\n",
      " [ 0.  0.  0. ...  0.  0.  1.]\n",
      " [ 0.  0.  0. ...  9.  0.  2.]\n",
      " ...\n",
      " [ 0.  0.  1. ...  0.  0.  8.]\n",
      " [ 0.  0.  2. ...  0.  0.  9.]\n",
      " [ 0.  0. 10. ...  1.  0.  8.]]\n"
     ]
    }
   ],
   "source": [
    "print(\"x_digits\")\n",
    "print(\"Tipo:\",type(x_digits))\n",
    "print(\"Forma:\",(x_digits.shape))\n",
    "print(x_digits)\n",
    "print(\"y_digits\")\n",
    "print(\"Tipo:\",type(y_digits))\n",
    "print(\"Forma:\",(y_digits.shape))\n",
    "print(y_digits)\n",
    "digits=np.column_stack((x_digits,y_digits))\n",
    "print(digits)"
   ]
  },
  {
   "cell_type": "code",
   "execution_count": 103,
   "metadata": {},
   "outputs": [
    {
     "data": {
      "text/plain": [
       "numpy.ndarray"
      ]
     },
     "execution_count": 103,
     "metadata": {},
     "output_type": "execute_result"
    }
   ],
   "source": [
    "type(y_digits)"
   ]
  },
  {
   "cell_type": "code",
   "execution_count": 104,
   "metadata": {},
   "outputs": [
    {
     "data": {
      "text/html": [
       "<div>\n",
       "<style scoped>\n",
       "    .dataframe tbody tr th:only-of-type {\n",
       "        vertical-align: middle;\n",
       "    }\n",
       "\n",
       "    .dataframe tbody tr th {\n",
       "        vertical-align: top;\n",
       "    }\n",
       "\n",
       "    .dataframe thead th {\n",
       "        text-align: right;\n",
       "    }\n",
       "</style>\n",
       "<table border=\"1\" class=\"dataframe\">\n",
       "  <thead>\n",
       "    <tr style=\"text-align: right;\">\n",
       "      <th></th>\n",
       "      <th>0</th>\n",
       "      <th>1</th>\n",
       "      <th>2</th>\n",
       "      <th>3</th>\n",
       "      <th>4</th>\n",
       "      <th>5</th>\n",
       "      <th>6</th>\n",
       "      <th>7</th>\n",
       "      <th>8</th>\n",
       "      <th>9</th>\n",
       "      <th>...</th>\n",
       "      <th>55</th>\n",
       "      <th>56</th>\n",
       "      <th>57</th>\n",
       "      <th>58</th>\n",
       "      <th>59</th>\n",
       "      <th>60</th>\n",
       "      <th>61</th>\n",
       "      <th>62</th>\n",
       "      <th>63</th>\n",
       "      <th>numero</th>\n",
       "    </tr>\n",
       "  </thead>\n",
       "  <tbody>\n",
       "    <tr>\n",
       "      <th>0</th>\n",
       "      <td>0.0</td>\n",
       "      <td>0.0</td>\n",
       "      <td>5.0</td>\n",
       "      <td>13.0</td>\n",
       "      <td>9.0</td>\n",
       "      <td>1.0</td>\n",
       "      <td>0.0</td>\n",
       "      <td>0.0</td>\n",
       "      <td>0.0</td>\n",
       "      <td>0.0</td>\n",
       "      <td>...</td>\n",
       "      <td>0.0</td>\n",
       "      <td>0.0</td>\n",
       "      <td>0.0</td>\n",
       "      <td>6.0</td>\n",
       "      <td>13.0</td>\n",
       "      <td>10.0</td>\n",
       "      <td>0.0</td>\n",
       "      <td>0.0</td>\n",
       "      <td>0.0</td>\n",
       "      <td>0.0</td>\n",
       "    </tr>\n",
       "    <tr>\n",
       "      <th>1</th>\n",
       "      <td>0.0</td>\n",
       "      <td>0.0</td>\n",
       "      <td>0.0</td>\n",
       "      <td>12.0</td>\n",
       "      <td>13.0</td>\n",
       "      <td>5.0</td>\n",
       "      <td>0.0</td>\n",
       "      <td>0.0</td>\n",
       "      <td>0.0</td>\n",
       "      <td>0.0</td>\n",
       "      <td>...</td>\n",
       "      <td>0.0</td>\n",
       "      <td>0.0</td>\n",
       "      <td>0.0</td>\n",
       "      <td>0.0</td>\n",
       "      <td>11.0</td>\n",
       "      <td>16.0</td>\n",
       "      <td>10.0</td>\n",
       "      <td>0.0</td>\n",
       "      <td>0.0</td>\n",
       "      <td>1.0</td>\n",
       "    </tr>\n",
       "    <tr>\n",
       "      <th>2</th>\n",
       "      <td>0.0</td>\n",
       "      <td>0.0</td>\n",
       "      <td>0.0</td>\n",
       "      <td>4.0</td>\n",
       "      <td>15.0</td>\n",
       "      <td>12.0</td>\n",
       "      <td>0.0</td>\n",
       "      <td>0.0</td>\n",
       "      <td>0.0</td>\n",
       "      <td>0.0</td>\n",
       "      <td>...</td>\n",
       "      <td>0.0</td>\n",
       "      <td>0.0</td>\n",
       "      <td>0.0</td>\n",
       "      <td>0.0</td>\n",
       "      <td>3.0</td>\n",
       "      <td>11.0</td>\n",
       "      <td>16.0</td>\n",
       "      <td>9.0</td>\n",
       "      <td>0.0</td>\n",
       "      <td>2.0</td>\n",
       "    </tr>\n",
       "    <tr>\n",
       "      <th>3</th>\n",
       "      <td>0.0</td>\n",
       "      <td>0.0</td>\n",
       "      <td>7.0</td>\n",
       "      <td>15.0</td>\n",
       "      <td>13.0</td>\n",
       "      <td>1.0</td>\n",
       "      <td>0.0</td>\n",
       "      <td>0.0</td>\n",
       "      <td>0.0</td>\n",
       "      <td>8.0</td>\n",
       "      <td>...</td>\n",
       "      <td>0.0</td>\n",
       "      <td>0.0</td>\n",
       "      <td>0.0</td>\n",
       "      <td>7.0</td>\n",
       "      <td>13.0</td>\n",
       "      <td>13.0</td>\n",
       "      <td>9.0</td>\n",
       "      <td>0.0</td>\n",
       "      <td>0.0</td>\n",
       "      <td>3.0</td>\n",
       "    </tr>\n",
       "    <tr>\n",
       "      <th>4</th>\n",
       "      <td>0.0</td>\n",
       "      <td>0.0</td>\n",
       "      <td>0.0</td>\n",
       "      <td>1.0</td>\n",
       "      <td>11.0</td>\n",
       "      <td>0.0</td>\n",
       "      <td>0.0</td>\n",
       "      <td>0.0</td>\n",
       "      <td>0.0</td>\n",
       "      <td>0.0</td>\n",
       "      <td>...</td>\n",
       "      <td>0.0</td>\n",
       "      <td>0.0</td>\n",
       "      <td>0.0</td>\n",
       "      <td>0.0</td>\n",
       "      <td>2.0</td>\n",
       "      <td>16.0</td>\n",
       "      <td>4.0</td>\n",
       "      <td>0.0</td>\n",
       "      <td>0.0</td>\n",
       "      <td>4.0</td>\n",
       "    </tr>\n",
       "  </tbody>\n",
       "</table>\n",
       "<p>5 rows × 65 columns</p>\n",
       "</div>"
      ],
      "text/plain": [
       "     0    1    2     3     4     5    6    7    8    9  ...   55   56   57  \\\n",
       "0  0.0  0.0  5.0  13.0   9.0   1.0  0.0  0.0  0.0  0.0  ...  0.0  0.0  0.0   \n",
       "1  0.0  0.0  0.0  12.0  13.0   5.0  0.0  0.0  0.0  0.0  ...  0.0  0.0  0.0   \n",
       "2  0.0  0.0  0.0   4.0  15.0  12.0  0.0  0.0  0.0  0.0  ...  0.0  0.0  0.0   \n",
       "3  0.0  0.0  7.0  15.0  13.0   1.0  0.0  0.0  0.0  8.0  ...  0.0  0.0  0.0   \n",
       "4  0.0  0.0  0.0   1.0  11.0   0.0  0.0  0.0  0.0  0.0  ...  0.0  0.0  0.0   \n",
       "\n",
       "    58    59    60    61   62   63  numero  \n",
       "0  6.0  13.0  10.0   0.0  0.0  0.0     0.0  \n",
       "1  0.0  11.0  16.0  10.0  0.0  0.0     1.0  \n",
       "2  0.0   3.0  11.0  16.0  9.0  0.0     2.0  \n",
       "3  7.0  13.0  13.0   9.0  0.0  0.0     3.0  \n",
       "4  0.0   2.0  16.0   4.0  0.0  0.0     4.0  \n",
       "\n",
       "[5 rows x 65 columns]"
      ]
     },
     "execution_count": 104,
     "metadata": {},
     "output_type": "execute_result"
    }
   ],
   "source": [
    "\n",
    "df_digits = pd.DataFrame(data=digits)\n",
    "df_digits['numero']=df_digits[64]\n",
    "df_digits=df_digits.drop(columns=64)\n",
    "df_digits.head()"
   ]
  },
  {
   "cell_type": "code",
   "execution_count": 105,
   "metadata": {},
   "outputs": [
    {
     "data": {
      "image/png": "[encoded data removed]",
      "text/plain": [
       "<Figure size 640x480 with 1 Axes>"
      ]
     },
     "metadata": {},
     "output_type": "display_data"
    },
    {
     "name": "stdout",
     "output_type": "stream",
     "text": [
      "0\n"
     ]
    }
   ],
   "source": [
    "def plot_digit(image_data):\n",
    "    image = image_data.reshape(8, 8)\n",
    "    plt.imshow(image, cmap=\"binary\")\n",
    "    plt.axis(\"off\")\n",
    "\n",
    "num=0\n",
    "\n",
    "digito = df_digits.loc[:, df_digits.columns != 'numero'].iloc[num]\n",
    "plot_digit(np.array(digito))\n",
    "plt.show()\n",
    "print(int(df_digits.loc[:,'numero'].iloc[num]))"
   ]
  },
  {
   "cell_type": "markdown",
   "metadata": {},
   "source": [
    "#### DIVIDIR LOS DATOS"
   ]
  },
  {
   "cell_type": "code",
   "execution_count": 106,
   "metadata": {},
   "outputs": [],
   "source": [
    "df_digits_train, df_digits_test = train_test_split(df_digits, test_size=0.15, random_state=17)\n",
    "\n",
    "df_digits_train_y = df_digits_train['numero'].copy()\n",
    "df_digits_train_x = df_digits_train.drop('numero',axis=1)\n",
    "\n",
    "df_digits_test_y = df_digits_test['numero'].copy()\n",
    "df_digits_test_x = df_digits_test.drop('numero',axis=1)"
   ]
  },
  {
   "cell_type": "markdown",
   "metadata": {},
   "source": [
    "#### PREPARAR LOS DATOS"
   ]
  },
  {
   "cell_type": "code",
   "execution_count": 107,
   "metadata": {},
   "outputs": [],
   "source": [
    "preprocessing = ColumnTransformer([\n",
    "    (\"scaler\", StandardScaler(), slice(0, df_digits_train_x.shape[1]))  # Aplica a todas las características\n",
    "])"
   ]
  },
  {
   "cell_type": "markdown",
   "metadata": {},
   "source": [
    "### ENTRENAMIENTO Y EVALUACIÓN DEL MODELO"
   ]
  },
  {
   "cell_type": "markdown",
   "metadata": {},
   "source": [
    "Usa evaluación cruzada con los siguientes algoritmos, evalua los resultados en el conjunto de entrenamiento (exactitud) y calcula la matriz de confusión:\n",
    "- Regresión logistica\n",
    "- Maquinas de vectores de sorpote\n",
    "- Random forest"
   ]
  },
  {
   "cell_type": "code",
   "execution_count": 108,
   "metadata": {},
   "outputs": [
    {
     "name": "stdout",
     "output_type": "stream",
     "text": [
      "LogisticRegression\n",
      "exactitud: 0.9993451211525868\n"
     ]
    },
    {
     "data": {
      "image/png": "[encoded data removed]",
      "text/plain": [
       "<Figure size 640x480 with 2 Axes>"
      ]
     },
     "metadata": {},
     "output_type": "display_data"
    },
    {
     "name": "stdout",
     "output_type": "stream",
     "text": [
      "------------------\n",
      "SVC\n",
      "exactitud: 0.9967256057629339\n"
     ]
    },
    {
     "data": {
      "image/png": "[encoded data removed]",
      "text/plain": [
       "<Figure size 640x480 with 2 Axes>"
      ]
     },
     "metadata": {},
     "output_type": "display_data"
    },
    {
     "name": "stdout",
     "output_type": "stream",
     "text": [
      "------------------\n",
      "RandomForestClassifier\n",
      "exactitud: 1.0\n"
     ]
    },
    {
     "data": {
      "image/png": "[encoded data removed]",
      "text/plain": [
       "<Figure size 640x480 with 2 Axes>"
      ]
     },
     "metadata": {},
     "output_type": "display_data"
    },
    {
     "name": "stdout",
     "output_type": "stream",
     "text": [
      "------------------\n"
     ]
    }
   ],
   "source": [
    "modelo_LR=make_pipeline(preprocessing,LogisticRegression(random_state=17, max_iter=1000))\n",
    "modelo_SVC=make_pipeline(preprocessing,SVC(random_state=17, max_iter=1000))\n",
    "modelo_RF=make_pipeline(preprocessing,RandomForestClassifier(random_state=17))\n",
    "\n",
    "modelos=[modelo_LR,modelo_SVC,modelo_RF]\n",
    "\n",
    "for modelo in modelos:\n",
    "    modelo.fit(df_digits_train_x,df_digits_train_y)\n",
    "    \n",
    "    predicciones = modelo.predict(df_digits_train_x)\n",
    "    \n",
    "    exactitud=accuracy_score(df_digits_train_y,predicciones)\n",
    "    \n",
    "    \n",
    "\n",
    "    print(modelo.steps[-1][1].__class__.__name__)\n",
    "    print(\"exactitud:\",exactitud)\n",
    "    \n",
    "    ConfusionMatrixDisplay.from_predictions(\n",
    "        df_digits_train_y, predicciones, normalize=\"true\", values_format=\".0%\"\n",
    "    )\n",
    "    plt.show()\n",
    "    print(\"------------------\")\n"
   ]
  },
  {
   "cell_type": "code",
   "execution_count": null,
   "metadata": {},
   "outputs": [
    {
     "data": {
      "text/plain": [
       "'\\nRF vuelve a ser perfecto\\n'"
      ]
     },
     "execution_count": 54,
     "metadata": {},
     "output_type": "execute_result"
    }
   ],
   "source": [
    "\"\"\"\n",
    "RF vuelve a ser perfecto, asi que una vez más vamos con LR\n",
    "\"\"\""
   ]
  },
  {
   "cell_type": "markdown",
   "metadata": {},
   "source": [
    "### OPMITZACIÓN DEL MODELO"
   ]
  },
  {
   "cell_type": "markdown",
   "metadata": {},
   "source": [
    "#### OPTIMIZACIÓN"
   ]
  },
  {
   "cell_type": "markdown",
   "metadata": {},
   "source": [
    "Usa búsqueda exhaustiva o búsqueda aleatoria para optimizar el mejor modelo del apartado anterior"
   ]
  },
  {
   "cell_type": "code",
   "execution_count": 114,
   "metadata": {},
   "outputs": [
    {
     "name": "stdout",
     "output_type": "stream",
     "text": [
      "Fitting 5 folds for each of 18 candidates, totalling 90 fits\n",
      "Mejores hiperparámetros GridSearch: {'classifier__C': 1, 'classifier__max_iter': 5000, 'classifier__random_state': 17, 'classifier__solver': 'lbfgs'}\n"
     ]
    }
   ],
   "source": [
    "full_pieline=Pipeline([\n",
    "    ('preprocessing',preprocessing),\n",
    "    ('classifier',LogisticRegression())\n",
    "])\n",
    "param_dist = {\n",
    "    'classifier__C': [0.001, 0.01, 0.1, 1, 10, 100],            # Inverso de la fuerza de regularización\n",
    "    'classifier__solver': ['lbfgs', 'saga', 'liblinear'],       # Algoritmos de optimización\n",
    "    'classifier__max_iter': [5000],                             # Número máximo de iteraciones\n",
    "    'classifier__random_state': [17]                            # Fijar la semilla para reproducibilidad\n",
    "}\n",
    "\n",
    "# Configurar la búsqueda aleatoria\n",
    "grid_search = GridSearchCV(\n",
    "    estimator=full_pieline,\n",
    "    param_grid=param_dist,\n",
    "    scoring=\"accuracy\",  # Métrica de evaluación\n",
    "    cv=5,  # Validación cruzada con 5 folds\n",
    "    verbose=1,  # Mostrar progreso\n",
    "    n_jobs=-1  # Usar todos los núcleos disponibles \n",
    ")\n",
    "\n",
    "# Realizar la búsqueda en el conjunto de entrenamiento\n",
    "grid_search.fit(df_digits_train_x, df_digits_train_y)\n",
    "\n",
    "# Mostrar los mejores hiperparámetros encontrados\n",
    "print(\"Mejores hiperparámetros GridSearch:\", grid_search.best_params_)"
   ]
  },
  {
   "cell_type": "markdown",
   "metadata": {},
   "source": [
    "#### EVALUACIÓN EN EL CONJUNTO DE PRUEBA"
   ]
  },
  {
   "cell_type": "code",
   "execution_count": null,
   "metadata": {},
   "outputs": [
    {
     "name": "stdout",
     "output_type": "stream",
     "text": [
      "Exactitud del conjunto de prueba: 0.9481481481481482\n"
     ]
    }
   ],
   "source": [
    "best_model = grid_search.best_estimator_\n",
    "\n",
    "scoring = ['accuracy']\n",
    "cv_results = cross_validate(best_model, df_digits_test_x, df_digits_test_y, cv=3, scoring=scoring, return_train_score=False)\n",
    "\n",
    "print(\"Exactitud del conjunto de prueba:\", np.mean(cv_results['test_accuracy']))\n"
   ]
  },
  {
   "cell_type": "markdown",
   "metadata": {},
   "source": [
    "### PRESENTACIÓN DE LA SOLUCIÓN"
   ]
  },
  {
   "cell_type": "markdown",
   "metadata": {},
   "source": [
    "Simplemente guarda el modelo"
   ]
  },
  {
   "cell_type": "code",
   "execution_count": 115,
   "metadata": {},
   "outputs": [
    {
     "data": {
      "text/plain": [
       "['./solucion2/modelo_numeros.pkl']"
      ]
     },
     "execution_count": 115,
     "metadata": {},
     "output_type": "execute_result"
    }
   ],
   "source": [
    "joblib.dump(best_model, \"./solucion2/modelo_numeros.pkl\")"
   ]
  },
  {
   "cell_type": "markdown",
   "metadata": {},
   "source": [
    "## EJERCICIO 3"
   ]
  },
  {
   "cell_type": "markdown",
   "metadata": {},
   "source": [
    "Vamos a trabajar con un conjunto de datos donde cada instancia (en este caso, cada película) pueda tener múltiples etiquetas (géneros en este caso).\n",
    "\n",
    "Tienes los datos en el fichero tmdb_5000_movies.csv\n",
    "\n",
    "Crea un clasificador que te diga los generos que le corresponden a cada película."
   ]
  },
  {
   "cell_type": "markdown",
   "metadata": {},
   "source": [
    "### RECOPILACIÓN Y PREPARACIÓN DE LOS DATOS"
   ]
  },
  {
   "cell_type": "markdown",
   "metadata": {},
   "source": [
    "#### OBTENER LOS DATOS"
   ]
  },
  {
   "cell_type": "code",
   "execution_count": 119,
   "metadata": {},
   "outputs": [],
   "source": [
    "# Cargar los datos\n",
    "data = pd.read_csv(\"Datos/tmdb_5000_movies.csv\")\n",
    "\n",
    "# Preprocesamiento de datos\n",
    "# Transformar géneros en listas de palabras separadas\n",
    "data[\"genres\"] = data[\"genres\"].apply(lambda x: [genre[\"name\"] for genre in eval(x)])\n",
    "\n",
    "# Dividir los datos en características (X) y etiquetas (y)\n",
    "x = data[\"overview\"]\n",
    "y = data[\"genres\"]"
   ]
  },
  {
   "cell_type": "markdown",
   "metadata": {},
   "source": [
    "#### EXPLORAR LOS DATOS"
   ]
  },
  {
   "cell_type": "code",
   "execution_count": 121,
   "metadata": {},
   "outputs": [
    {
     "name": "stdout",
     "output_type": "stream",
     "text": [
      "0       [Action, Adventure, Fantasy, Science Fiction]\n",
      "1                        [Adventure, Fantasy, Action]\n",
      "2                          [Action, Adventure, Crime]\n",
      "3                    [Action, Crime, Drama, Thriller]\n",
      "4                [Action, Adventure, Science Fiction]\n",
      "                            ...                      \n",
      "4798                        [Action, Crime, Thriller]\n",
      "4799                                [Comedy, Romance]\n",
      "4800               [Comedy, Drama, Romance, TV Movie]\n",
      "4801                                               []\n",
      "4802                                    [Documentary]\n",
      "Name: genres, Length: 4803, dtype: object \n",
      " 0       In the 22nd century, a paraplegic Marine is di...\n",
      "1       Captain Barbossa, long believed to be dead, ha...\n",
      "2       A cryptic message from Bond’s past sends him o...\n",
      "3       Following the death of District Attorney Harve...\n",
      "4       John Carter is a war-weary, former military ca...\n",
      "                              ...                        \n",
      "4798    El Mariachi just wants to play his guitar and ...\n",
      "4799    A newlywed couple's honeymoon is upended by th...\n",
      "4800    \"Signed, Sealed, Delivered\" introduces a dedic...\n",
      "4801    When ambitious New York attorney Sam is sent t...\n",
      "4802    Ever since the second grade when he first saw ...\n",
      "Name: overview, Length: 4803, dtype: object\n"
     ]
    }
   ],
   "source": [
    "print(y,\"\\n\",x)\n"
   ]
  },
  {
   "cell_type": "code",
   "execution_count": 122,
   "metadata": {},
   "outputs": [
    {
     "name": "stdout",
     "output_type": "stream",
     "text": [
      "<class 'pandas.core.series.Series'>\n",
      "RangeIndex: 4803 entries, 0 to 4802\n",
      "Series name: overview\n",
      "Non-Null Count  Dtype \n",
      "--------------  ----- \n",
      "4800 non-null   object\n",
      "dtypes: object(1)\n",
      "memory usage: 37.7+ KB\n"
     ]
    }
   ],
   "source": [
    "x.info()"
   ]
  },
  {
   "cell_type": "code",
   "execution_count": null,
   "metadata": {},
   "outputs": [],
   "source": [
    "# Habrá que borrar los 3 valores nulos"
   ]
  },
  {
   "cell_type": "code",
   "execution_count": 123,
   "metadata": {},
   "outputs": [
    {
     "name": "stdout",
     "output_type": "stream",
     "text": [
      "<class 'pandas.core.series.Series'>\n",
      "RangeIndex: 4803 entries, 0 to 4802\n",
      "Series name: genres\n",
      "Non-Null Count  Dtype \n",
      "--------------  ----- \n",
      "4803 non-null   object\n",
      "dtypes: object(1)\n",
      "memory usage: 37.7+ KB\n"
     ]
    }
   ],
   "source": [
    "y.info()"
   ]
  },
  {
   "cell_type": "code",
   "execution_count": 124,
   "metadata": {},
   "outputs": [
    {
     "name": "stdout",
     "output_type": "stream",
     "text": [
      "In the 22nd century, a paraplegic Marine is dispatched to the moon Pandora on a unique mission, but becomes torn between following orders and protecting an alien civilization.\n"
     ]
    }
   ],
   "source": [
    "print(x[0])"
   ]
  },
  {
   "cell_type": "code",
   "execution_count": 125,
   "metadata": {},
   "outputs": [
    {
     "name": "stdout",
     "output_type": "stream",
     "text": [
      "['Action', 'Adventure', 'Fantasy', 'Science Fiction']\n"
     ]
    }
   ],
   "source": [
    "print(y[0])"
   ]
  },
  {
   "cell_type": "code",
   "execution_count": 126,
   "metadata": {},
   "outputs": [
    {
     "name": "stdout",
     "output_type": "stream",
     "text": [
      "Géneros únicos: {'TV Movie', 'Adventure', 'Family', 'Comedy', 'Animation', 'Fantasy', 'Thriller', 'Drama', 'Western', 'Horror', 'Mystery', 'Documentary', 'Science Fiction', 'War', 'Foreign', 'Crime', 'History', 'Romance', 'Music', 'Action'}\n",
      "Cantidad de géneros únicos:20\n"
     ]
    }
   ],
   "source": [
    "unique_genres = set(genre for genres_list in y for genre in genres_list)\n",
    "\n",
    "# Mostrar el resultado\n",
    "print(\"Géneros únicos:\", unique_genres)\n",
    "print(f\"Cantidad de géneros únicos:{len(unique_genres)}\")"
   ]
  },
  {
   "cell_type": "markdown",
   "metadata": {},
   "source": [
    "#### DIVIDIR LOS DATOS"
   ]
  },
  {
   "cell_type": "code",
   "execution_count": 131,
   "metadata": {},
   "outputs": [],
   "source": [
    "x_train, x_test, y_train, y_test = train_test_split(x,y, test_size=0.15, random_state=17)"
   ]
  },
  {
   "cell_type": "markdown",
   "metadata": {},
   "source": [
    "#### PREPARAR LOS DATOS"
   ]
  },
  {
   "cell_type": "markdown",
   "metadata": {},
   "source": [
    "Tienes aquí las transformaciones que hay que hacer a los datos pero busca en internet que estamos haciendo exactamente y explicalo (igual hay que hacer algo con los datos que faltan)"
   ]
  },
  {
   "cell_type": "code",
   "execution_count": null,
   "metadata": {},
   "outputs": [
    {
     "data": {
      "text/plain": [
       "''"
      ]
     },
     "execution_count": 128,
     "metadata": {},
     "output_type": "execute_result"
    }
   ],
   "source": [
    "\"\"\" \n",
    "TfidfVectorizer() es un conversor de documentos de texto a matrices númericas basandose en el concepto TF-IDF\n",
    "Se usa para poder entrenar a los modelos de procesamiento de lenguaje natural.\n",
    "\n",
    "TF-IDF:\n",
    "TF (Team Frecuency): Mide cuántas veces aparece una palabra en un documento en relación con la longitud del mismo.\n",
    "IDF (Inverse Document Frequency): Mide cuán común o raro es un término en todos los documentos. Si una palabra aparece en muchos documentos, su peso será menor. \n",
    "\n",
    "TF-IDF(t,d)=TF(t,d).log(N/(1+DF(t)))\n",
    "t: termino (o palabra)\n",
    "d: documento\n",
    "N: numero de documetos\n",
    "DF(t): numero de documentos que contienen el termino t\n",
    "\n",
    "MultiLabelBinarizer(): Transforma etiquetas multilabel (es decir, donde un solo ejemplo puede pertenecer a múltiples categorías o clases)\n",
    "en un formato binario adecuado para algoritmos de aprendizaje automático.\n",
    "\"\"\""
   ]
  },
  {
   "cell_type": "code",
   "execution_count": 134,
   "metadata": {},
   "outputs": [],
   "source": [
    "# Eliminar filas con NaN en X_train y X_test\n",
    "x_train = x_train.dropna()\n",
    "x_test = x_test.dropna()\n",
    "# Eliminar filas con NaN en y_train y y_test\n",
    "y_train = y_train.loc[x_train.index]\n",
    "y_test = y_test.loc[x_test.index]\n",
    "\n",
    "tfidf_vectorizer = TfidfVectorizer()\n",
    "X_train_tfidf = tfidf_vectorizer.fit_transform(x_train)\n",
    "X_test_tfidf = tfidf_vectorizer.transform(x_test)\n",
    "\n",
    "mlb = MultiLabelBinarizer()\n",
    "y_train_transformed = mlb.fit_transform(y_train)\n",
    "y_test_transformed = mlb.transform(y_test)\n"
   ]
  },
  {
   "cell_type": "markdown",
   "metadata": {},
   "source": [
    "### ENTRENAMIENTO Y EVALUACIÓN DEL MODELO"
   ]
  },
  {
   "cell_type": "markdown",
   "metadata": {},
   "source": [
    "Crea un modelo Random Forest y evalúa el modelo en el conjunto de entrenamiento (accuracy), no hace falta usar validación cruzada."
   ]
  },
  {
   "cell_type": "code",
   "execution_count": null,
   "metadata": {},
   "outputs": [],
   "source": [
    "# Crear el modelo\n",
    "model= RandomForestClassifier()\n",
    "\n",
    "# Entrenar el modelo con todo el conjunto de entrenamiento\n",
    "model.fit(X_train_tfidf, y_train_transformed)\n",
    "\n",
    "# Evaluar en el conjunto de prueba\n",
    "y_predicciones = model.predict(X_train_tfidf)\n",
    "precision_entrenamiento = accuracy_score(y_train_transformed, y_predicciones)\n",
    "print(\"Exactitud en el conjunto de entrenamiento:\", acc_test)"
   ]
  },
  {
   "cell_type": "markdown",
   "metadata": {},
   "source": [
    "#### EVALUACIÓN EN EL CONJUNTO DE PRUEBA"
   ]
  },
  {
   "cell_type": "markdown",
   "metadata": {},
   "source": [
    "Evalúa el modelo en el conjuno de prueba y muestra las primeras 25 predicciones y sus correspondientes valores reales (con texto, para lo cual tendras que aplicar mlb.inverse_transform a las predicciones).\n",
    "\n",
    "¿Qué puedes deducir del resultado?"
   ]
  },
  {
   "cell_type": "code",
   "execution_count": null,
   "metadata": {},
   "outputs": [],
   "source": []
  }
 ],
 "metadata": {
  "kernelspec": {
   "display_name": "Python 3",
   "language": "python",
   "name": "python3"
  },
  "language_info": {
   "codemirror_mode": {
    "name": "ipython",
    "version": 3
   },
   "file_extension": ".py",
   "mimetype": "text/x-python",
   "name": "python",
   "nbconvert_exporter": "python",
   "pygments_lexer": "ipython3",
   "version": "3.11.4"
  },
  "nav_menu": {},
  "toc": {
   "navigate_menu": true,
   "number_sections": true,
   "sideBar": true,
   "threshold": 6,
   "toc_cell": false,
   "toc_section_display": "block",
   "toc_window_display": false
  }
 },
 "nbformat": 4,
 "nbformat_minor": 4
}

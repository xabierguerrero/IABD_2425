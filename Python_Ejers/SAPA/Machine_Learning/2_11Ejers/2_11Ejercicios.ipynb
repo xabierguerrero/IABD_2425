{
 "cells": [
  {
   "cell_type": "markdown",
   "metadata": {},
   "source": [
    "# EJERCICIOS"
   ]
  },
  {
   "cell_type": "code",
   "execution_count": 142,
   "metadata": {},
   "outputs": [],
   "source": [
    "import numpy as np\n",
    "import joblib\n",
    "import seaborn as sns\n",
    "import pandas as pd\n",
    "import matplotlib.pyplot as plt\n",
    "import warnings\n",
    "from sklearn.datasets import load_diabetes, load_iris\n",
    "from sklearn.model_selection import train_test_split, cross_val_score, GridSearchCV, cross_val_predict,RandomizedSearchCV\n",
    "from sklearn.linear_model import LinearRegression, Ridge, Lasso, LogisticRegression,SGDRegressor\n",
    "from sklearn.ensemble import RandomForestRegressor\n",
    "from sklearn.svm import SVR\n",
    "from sklearn.metrics import confusion_matrix, precision_score, recall_score, f1_score, accuracy_score, root_mean_squared_error,mean_squared_error,ConfusionMatrixDisplay,roc_auc_score\n",
    "from sklearn.preprocessing import StandardScaler,FunctionTransformer,OneHotEncoder\n",
    "from sklearn.pipeline import make_pipeline\n",
    "from sklearn.exceptions import ConvergenceWarning\n",
    "from sklearn.impute import SimpleImputer\n",
    "from sklearn.compose import ColumnTransformer\n",
    "from scipy.stats import uniform\n",
    "\n",
    "\n"
   ]
  },
  {
   "cell_type": "code",
   "execution_count": 44,
   "metadata": {},
   "outputs": [],
   "source": [
    "warnings.filterwarnings(\"ignore\", category=FutureWarning)\n",
    "warnings.filterwarnings(\"ignore\", category=UserWarning)"
   ]
  },
  {
   "cell_type": "markdown",
   "metadata": {},
   "source": [
    "## EJERCICIO 1"
   ]
  },
  {
   "cell_type": "markdown",
   "metadata": {},
   "source": [
    "Imagina que estás usando regresión polinomial. Trazas las curvas de aprendizaje y te das cuenta de que hay un espacio grande entre el error de entrenamiento y el error de validación. ¿Qué está pasando? Piensa en tres formas de poder arreglarlo"
   ]
  },
  {
   "cell_type": "code",
   "execution_count": 4,
   "metadata": {},
   "outputs": [],
   "source": [
    "# Seguramente el modelo haya cogido un polinomio de grado demasiado alto para ajustar la curva lo mejor posible a los datos\n",
    "# de entrenamiento, es decir está sobreajustado a los datos de entrenamiento y no generaliza bien, tambien puede deberse a \n",
    "# un volumen de datos más pequeño del necesario o que los datos tengan demasiado ruido y que el modelo no sea capaz de ignorar esos puntos\n",
    "# # erraticos. \n",
    "\n",
    "# 1º: Disminuir el grado del polinomio: para que sea menos flexible y generalice mejor.\n",
    "# 2º: Conseguir más datos, en caso de que no fuera factible tratar de sintetizar más datos.\n",
    "# 3: Introducir términos de penalización como Ridge Regression o Lasso Regression\n",
    "\n"
   ]
  },
  {
   "cell_type": "markdown",
   "metadata": {},
   "source": [
    "## EJERCICIO 2"
   ]
  },
  {
   "cell_type": "markdown",
   "metadata": {},
   "source": [
    "Imagina que estás utilizando regresión de Ridge y observas que el error de entrenamiento y el error de validación son casi iguales y bastante altos. ¿Deberías incrementar el hiperparámetro de regularización o reducirlo (α)?"
   ]
  },
  {
   "cell_type": "code",
   "execution_count": 5,
   "metadata": {},
   "outputs": [],
   "source": [
    "# Si sus resultados son malos tanto con el conjunto de validación como en el de entrenamiento quiere decir que el modelo está subajustado,\n",
    "# es demasiado simple y no puede capturar bien la relación entre los datos. Habria que reducir α para que no penalice tanto al modelo \n",
    "# y este pueda generalizar mejor."
   ]
  },
  {
   "cell_type": "markdown",
   "metadata": {},
   "source": [
    "## EJERCICIO 3"
   ]
  },
  {
   "cell_type": "markdown",
   "metadata": {},
   "source": [
    "Ejercicio de Regresión con el Conjunto de Datos de Diabetes\n",
    "\n",
    "* Objetivo: El objetivo de este ejercicio es desarrollar un modelo de regresión que pueda predecir la progresión de la diabetes un año después del inicio basándose en diversas mediciones clínicas.\n",
    "\n",
    "* Datos: Utilizarás el conjunto de datos de diabetes proporcionado por Scikit-Learn, que contiene diez variables base (edad, sexo, índice de masa corporal, presión arterial y seis mediciones de suero sanguíneo) para 442 pacientes."
   ]
  },
  {
   "cell_type": "markdown",
   "metadata": {},
   "source": [
    "### RECOPILACIÓN Y PREPARACIÓN DE LOS DATOS"
   ]
  },
  {
   "cell_type": "markdown",
   "metadata": {},
   "source": [
    "#### OBTENER LOS DATOS"
   ]
  },
  {
   "cell_type": "code",
   "execution_count": 16,
   "metadata": {},
   "outputs": [],
   "source": [
    "dataset = load_diabetes(as_frame=True)\n",
    "X, y = dataset.data, dataset.target"
   ]
  },
  {
   "cell_type": "markdown",
   "metadata": {},
   "source": [
    "#### EXPLORAR LOS DATOS"
   ]
  },
  {
   "cell_type": "code",
   "execution_count": 17,
   "metadata": {},
   "outputs": [],
   "source": [
    "data_diabetes=np.column_stack((X,y))\n",
    "df_diabetes = pd.DataFrame(data=data_diabetes)\n",
    "column_names = list(X.columns) + ['resultado']\n",
    "df_diabetes = pd.DataFrame(data=data_diabetes, columns=column_names)"
   ]
  },
  {
   "cell_type": "markdown",
   "metadata": {},
   "source": [
    "Muestra los primero datos de X e y"
   ]
  },
  {
   "cell_type": "code",
   "execution_count": 21,
   "metadata": {},
   "outputs": [
    {
     "data": {
      "text/html": [
       "<div>\n",
       "<style scoped>\n",
       "    .dataframe tbody tr th:only-of-type {\n",
       "        vertical-align: middle;\n",
       "    }\n",
       "\n",
       "    .dataframe tbody tr th {\n",
       "        vertical-align: top;\n",
       "    }\n",
       "\n",
       "    .dataframe thead th {\n",
       "        text-align: right;\n",
       "    }\n",
       "</style>\n",
       "<table border=\"1\" class=\"dataframe\">\n",
       "  <thead>\n",
       "    <tr style=\"text-align: right;\">\n",
       "      <th></th>\n",
       "      <th>age</th>\n",
       "      <th>sex</th>\n",
       "      <th>bmi</th>\n",
       "      <th>bp</th>\n",
       "      <th>s1</th>\n",
       "      <th>s2</th>\n",
       "      <th>s3</th>\n",
       "      <th>s4</th>\n",
       "      <th>s5</th>\n",
       "      <th>s6</th>\n",
       "      <th>resultado</th>\n",
       "    </tr>\n",
       "  </thead>\n",
       "  <tbody>\n",
       "    <tr>\n",
       "      <th>0</th>\n",
       "      <td>0.038076</td>\n",
       "      <td>0.050680</td>\n",
       "      <td>0.061696</td>\n",
       "      <td>0.021872</td>\n",
       "      <td>-0.044223</td>\n",
       "      <td>-0.034821</td>\n",
       "      <td>-0.043401</td>\n",
       "      <td>-0.002592</td>\n",
       "      <td>0.019907</td>\n",
       "      <td>-0.017646</td>\n",
       "      <td>151.0</td>\n",
       "    </tr>\n",
       "    <tr>\n",
       "      <th>1</th>\n",
       "      <td>-0.001882</td>\n",
       "      <td>-0.044642</td>\n",
       "      <td>-0.051474</td>\n",
       "      <td>-0.026328</td>\n",
       "      <td>-0.008449</td>\n",
       "      <td>-0.019163</td>\n",
       "      <td>0.074412</td>\n",
       "      <td>-0.039493</td>\n",
       "      <td>-0.068332</td>\n",
       "      <td>-0.092204</td>\n",
       "      <td>75.0</td>\n",
       "    </tr>\n",
       "    <tr>\n",
       "      <th>2</th>\n",
       "      <td>0.085299</td>\n",
       "      <td>0.050680</td>\n",
       "      <td>0.044451</td>\n",
       "      <td>-0.005670</td>\n",
       "      <td>-0.045599</td>\n",
       "      <td>-0.034194</td>\n",
       "      <td>-0.032356</td>\n",
       "      <td>-0.002592</td>\n",
       "      <td>0.002861</td>\n",
       "      <td>-0.025930</td>\n",
       "      <td>141.0</td>\n",
       "    </tr>\n",
       "    <tr>\n",
       "      <th>3</th>\n",
       "      <td>-0.089063</td>\n",
       "      <td>-0.044642</td>\n",
       "      <td>-0.011595</td>\n",
       "      <td>-0.036656</td>\n",
       "      <td>0.012191</td>\n",
       "      <td>0.024991</td>\n",
       "      <td>-0.036038</td>\n",
       "      <td>0.034309</td>\n",
       "      <td>0.022688</td>\n",
       "      <td>-0.009362</td>\n",
       "      <td>206.0</td>\n",
       "    </tr>\n",
       "    <tr>\n",
       "      <th>4</th>\n",
       "      <td>0.005383</td>\n",
       "      <td>-0.044642</td>\n",
       "      <td>-0.036385</td>\n",
       "      <td>0.021872</td>\n",
       "      <td>0.003935</td>\n",
       "      <td>0.015596</td>\n",
       "      <td>0.008142</td>\n",
       "      <td>-0.002592</td>\n",
       "      <td>-0.031988</td>\n",
       "      <td>-0.046641</td>\n",
       "      <td>135.0</td>\n",
       "    </tr>\n",
       "  </tbody>\n",
       "</table>\n",
       "</div>"
      ],
      "text/plain": [
       "        age       sex       bmi        bp        s1        s2        s3  \\\n",
       "0  0.038076  0.050680  0.061696  0.021872 -0.044223 -0.034821 -0.043401   \n",
       "1 -0.001882 -0.044642 -0.051474 -0.026328 -0.008449 -0.019163  0.074412   \n",
       "2  0.085299  0.050680  0.044451 -0.005670 -0.045599 -0.034194 -0.032356   \n",
       "3 -0.089063 -0.044642 -0.011595 -0.036656  0.012191  0.024991 -0.036038   \n",
       "4  0.005383 -0.044642 -0.036385  0.021872  0.003935  0.015596  0.008142   \n",
       "\n",
       "         s4        s5        s6  resultado  \n",
       "0 -0.002592  0.019907 -0.017646      151.0  \n",
       "1 -0.039493 -0.068332 -0.092204       75.0  \n",
       "2 -0.002592  0.002861 -0.025930      141.0  \n",
       "3  0.034309  0.022688 -0.009362      206.0  \n",
       "4 -0.002592 -0.031988 -0.046641      135.0  "
      ]
     },
     "execution_count": 21,
     "metadata": {},
     "output_type": "execute_result"
    }
   ],
   "source": [
    "df_diabetes.head()"
   ]
  },
  {
   "cell_type": "markdown",
   "metadata": {},
   "source": [
    "Usa .describe y .info para ver un poco de información"
   ]
  },
  {
   "cell_type": "code",
   "execution_count": 22,
   "metadata": {},
   "outputs": [
    {
     "name": "stdout",
     "output_type": "stream",
     "text": [
      "<class 'pandas.core.frame.DataFrame'>\n",
      "RangeIndex: 442 entries, 0 to 441\n",
      "Data columns (total 11 columns):\n",
      " #   Column     Non-Null Count  Dtype  \n",
      "---  ------     --------------  -----  \n",
      " 0   age        442 non-null    float64\n",
      " 1   sex        442 non-null    float64\n",
      " 2   bmi        442 non-null    float64\n",
      " 3   bp         442 non-null    float64\n",
      " 4   s1         442 non-null    float64\n",
      " 5   s2         442 non-null    float64\n",
      " 6   s3         442 non-null    float64\n",
      " 7   s4         442 non-null    float64\n",
      " 8   s5         442 non-null    float64\n",
      " 9   s6         442 non-null    float64\n",
      " 10  resultado  442 non-null    float64\n",
      "dtypes: float64(11)\n",
      "memory usage: 38.1 KB\n"
     ]
    }
   ],
   "source": [
    "df_diabetes.info()"
   ]
  },
  {
   "cell_type": "code",
   "execution_count": 24,
   "metadata": {},
   "outputs": [
    {
     "data": {
      "text/html": [
       "<div>\n",
       "<style scoped>\n",
       "    .dataframe tbody tr th:only-of-type {\n",
       "        vertical-align: middle;\n",
       "    }\n",
       "\n",
       "    .dataframe tbody tr th {\n",
       "        vertical-align: top;\n",
       "    }\n",
       "\n",
       "    .dataframe thead th {\n",
       "        text-align: right;\n",
       "    }\n",
       "</style>\n",
       "<table border=\"1\" class=\"dataframe\">\n",
       "  <thead>\n",
       "    <tr style=\"text-align: right;\">\n",
       "      <th></th>\n",
       "      <th>age</th>\n",
       "      <th>sex</th>\n",
       "      <th>bmi</th>\n",
       "      <th>bp</th>\n",
       "      <th>s1</th>\n",
       "      <th>s2</th>\n",
       "      <th>s3</th>\n",
       "      <th>s4</th>\n",
       "      <th>s5</th>\n",
       "      <th>s6</th>\n",
       "      <th>resultado</th>\n",
       "    </tr>\n",
       "  </thead>\n",
       "  <tbody>\n",
       "    <tr>\n",
       "      <th>count</th>\n",
       "      <td>4.420000e+02</td>\n",
       "      <td>4.420000e+02</td>\n",
       "      <td>4.420000e+02</td>\n",
       "      <td>4.420000e+02</td>\n",
       "      <td>4.420000e+02</td>\n",
       "      <td>4.420000e+02</td>\n",
       "      <td>4.420000e+02</td>\n",
       "      <td>4.420000e+02</td>\n",
       "      <td>4.420000e+02</td>\n",
       "      <td>4.420000e+02</td>\n",
       "      <td>442.000000</td>\n",
       "    </tr>\n",
       "    <tr>\n",
       "      <th>mean</th>\n",
       "      <td>-2.511817e-19</td>\n",
       "      <td>1.230790e-17</td>\n",
       "      <td>-2.245564e-16</td>\n",
       "      <td>-4.797570e-17</td>\n",
       "      <td>-1.381499e-17</td>\n",
       "      <td>3.918434e-17</td>\n",
       "      <td>-5.777179e-18</td>\n",
       "      <td>-9.042540e-18</td>\n",
       "      <td>9.293722e-17</td>\n",
       "      <td>1.130318e-17</td>\n",
       "      <td>152.133484</td>\n",
       "    </tr>\n",
       "    <tr>\n",
       "      <th>std</th>\n",
       "      <td>4.761905e-02</td>\n",
       "      <td>4.761905e-02</td>\n",
       "      <td>4.761905e-02</td>\n",
       "      <td>4.761905e-02</td>\n",
       "      <td>4.761905e-02</td>\n",
       "      <td>4.761905e-02</td>\n",
       "      <td>4.761905e-02</td>\n",
       "      <td>4.761905e-02</td>\n",
       "      <td>4.761905e-02</td>\n",
       "      <td>4.761905e-02</td>\n",
       "      <td>77.093005</td>\n",
       "    </tr>\n",
       "    <tr>\n",
       "      <th>min</th>\n",
       "      <td>-1.072256e-01</td>\n",
       "      <td>-4.464164e-02</td>\n",
       "      <td>-9.027530e-02</td>\n",
       "      <td>-1.123988e-01</td>\n",
       "      <td>-1.267807e-01</td>\n",
       "      <td>-1.156131e-01</td>\n",
       "      <td>-1.023071e-01</td>\n",
       "      <td>-7.639450e-02</td>\n",
       "      <td>-1.260971e-01</td>\n",
       "      <td>-1.377672e-01</td>\n",
       "      <td>25.000000</td>\n",
       "    </tr>\n",
       "    <tr>\n",
       "      <th>25%</th>\n",
       "      <td>-3.729927e-02</td>\n",
       "      <td>-4.464164e-02</td>\n",
       "      <td>-3.422907e-02</td>\n",
       "      <td>-3.665608e-02</td>\n",
       "      <td>-3.424784e-02</td>\n",
       "      <td>-3.035840e-02</td>\n",
       "      <td>-3.511716e-02</td>\n",
       "      <td>-3.949338e-02</td>\n",
       "      <td>-3.324559e-02</td>\n",
       "      <td>-3.317903e-02</td>\n",
       "      <td>87.000000</td>\n",
       "    </tr>\n",
       "    <tr>\n",
       "      <th>50%</th>\n",
       "      <td>5.383060e-03</td>\n",
       "      <td>-4.464164e-02</td>\n",
       "      <td>-7.283766e-03</td>\n",
       "      <td>-5.670422e-03</td>\n",
       "      <td>-4.320866e-03</td>\n",
       "      <td>-3.819065e-03</td>\n",
       "      <td>-6.584468e-03</td>\n",
       "      <td>-2.592262e-03</td>\n",
       "      <td>-1.947171e-03</td>\n",
       "      <td>-1.077698e-03</td>\n",
       "      <td>140.500000</td>\n",
       "    </tr>\n",
       "    <tr>\n",
       "      <th>75%</th>\n",
       "      <td>3.807591e-02</td>\n",
       "      <td>5.068012e-02</td>\n",
       "      <td>3.124802e-02</td>\n",
       "      <td>3.564379e-02</td>\n",
       "      <td>2.835801e-02</td>\n",
       "      <td>2.984439e-02</td>\n",
       "      <td>2.931150e-02</td>\n",
       "      <td>3.430886e-02</td>\n",
       "      <td>3.243232e-02</td>\n",
       "      <td>2.791705e-02</td>\n",
       "      <td>211.500000</td>\n",
       "    </tr>\n",
       "    <tr>\n",
       "      <th>max</th>\n",
       "      <td>1.107267e-01</td>\n",
       "      <td>5.068012e-02</td>\n",
       "      <td>1.705552e-01</td>\n",
       "      <td>1.320436e-01</td>\n",
       "      <td>1.539137e-01</td>\n",
       "      <td>1.987880e-01</td>\n",
       "      <td>1.811791e-01</td>\n",
       "      <td>1.852344e-01</td>\n",
       "      <td>1.335973e-01</td>\n",
       "      <td>1.356118e-01</td>\n",
       "      <td>346.000000</td>\n",
       "    </tr>\n",
       "  </tbody>\n",
       "</table>\n",
       "</div>"
      ],
      "text/plain": [
       "                age           sex           bmi            bp            s1  \\\n",
       "count  4.420000e+02  4.420000e+02  4.420000e+02  4.420000e+02  4.420000e+02   \n",
       "mean  -2.511817e-19  1.230790e-17 -2.245564e-16 -4.797570e-17 -1.381499e-17   \n",
       "std    4.761905e-02  4.761905e-02  4.761905e-02  4.761905e-02  4.761905e-02   \n",
       "min   -1.072256e-01 -4.464164e-02 -9.027530e-02 -1.123988e-01 -1.267807e-01   \n",
       "25%   -3.729927e-02 -4.464164e-02 -3.422907e-02 -3.665608e-02 -3.424784e-02   \n",
       "50%    5.383060e-03 -4.464164e-02 -7.283766e-03 -5.670422e-03 -4.320866e-03   \n",
       "75%    3.807591e-02  5.068012e-02  3.124802e-02  3.564379e-02  2.835801e-02   \n",
       "max    1.107267e-01  5.068012e-02  1.705552e-01  1.320436e-01  1.539137e-01   \n",
       "\n",
       "                 s2            s3            s4            s5            s6  \\\n",
       "count  4.420000e+02  4.420000e+02  4.420000e+02  4.420000e+02  4.420000e+02   \n",
       "mean   3.918434e-17 -5.777179e-18 -9.042540e-18  9.293722e-17  1.130318e-17   \n",
       "std    4.761905e-02  4.761905e-02  4.761905e-02  4.761905e-02  4.761905e-02   \n",
       "min   -1.156131e-01 -1.023071e-01 -7.639450e-02 -1.260971e-01 -1.377672e-01   \n",
       "25%   -3.035840e-02 -3.511716e-02 -3.949338e-02 -3.324559e-02 -3.317903e-02   \n",
       "50%   -3.819065e-03 -6.584468e-03 -2.592262e-03 -1.947171e-03 -1.077698e-03   \n",
       "75%    2.984439e-02  2.931150e-02  3.430886e-02  3.243232e-02  2.791705e-02   \n",
       "max    1.987880e-01  1.811791e-01  1.852344e-01  1.335973e-01  1.356118e-01   \n",
       "\n",
       "        resultado  \n",
       "count  442.000000  \n",
       "mean   152.133484  \n",
       "std     77.093005  \n",
       "min     25.000000  \n",
       "25%     87.000000  \n",
       "50%    140.500000  \n",
       "75%    211.500000  \n",
       "max    346.000000  "
      ]
     },
     "execution_count": 24,
     "metadata": {},
     "output_type": "execute_result"
    }
   ],
   "source": [
    "df_diabetes.describe()"
   ]
  },
  {
   "cell_type": "markdown",
   "metadata": {},
   "source": [
    "Representa cada una de la características"
   ]
  },
  {
   "cell_type": "code",
   "execution_count": 25,
   "metadata": {},
   "outputs": [
    {
     "data": {
      "text/plain": [
       "<Figure size 640x480 with 0 Axes>"
      ]
     },
     "metadata": {},
     "output_type": "display_data"
    },
    {
     "data": {
      "image/png": "[encoded data removed]",
      "text/plain": [
       "<Figure size 1600x1000 with 12 Axes>"
      ]
     },
     "metadata": {},
     "output_type": "display_data"
    }
   ],
   "source": [
    "plt.tight_layout()\n",
    "plt.rc('font', size=14)\n",
    "plt.rc('axes', labelsize=14, titlesize=14)\n",
    "plt.rc('legend', fontsize=14)\n",
    "plt.rc('xtick', labelsize=8)\n",
    "plt.rc('ytick', labelsize=10)\n",
    "df_diabetes.hist(bins=40, figsize=(16, 10))\n",
    "plt.show()"
   ]
  },
  {
   "cell_type": "markdown",
   "metadata": {},
   "source": [
    "Muestra la matriz de correlaciones"
   ]
  },
  {
   "cell_type": "code",
   "execution_count": 26,
   "metadata": {},
   "outputs": [
    {
     "data": {
      "text/plain": [
       "resultado    1.000000\n",
       "bmi          0.586450\n",
       "s5           0.565883\n",
       "bp           0.441482\n",
       "s4           0.430453\n",
       "s3           0.394789\n",
       "s6           0.382483\n",
       "s1           0.212022\n",
       "age          0.187889\n",
       "s2           0.174054\n",
       "sex          0.043062\n",
       "Name: resultado, dtype: float64"
      ]
     },
     "execution_count": 26,
     "metadata": {},
     "output_type": "execute_result"
    }
   ],
   "source": [
    "corr_matrix = df_diabetes.corr(numeric_only=True).abs()\n",
    "target_corr=corr_matrix['resultado'].sort_values(ascending=False)\n",
    "target_corr"
   ]
  },
  {
   "cell_type": "code",
   "execution_count": null,
   "metadata": {},
   "outputs": [],
   "source": [
    "# a la vista de estos resultados el sexo parece ser muy poco relevante, borraremos esa columna cuando tengamos que tranformar los datos."
   ]
  },
  {
   "cell_type": "code",
   "execution_count": 27,
   "metadata": {},
   "outputs": [
    {
     "data": {
      "text/html": [
       "<style type=\"text/css\">\n",
       "#T_41618_row0_col0, #T_41618_row1_col1, #T_41618_row2_col2, #T_41618_row3_col3, #T_41618_row4_col4, #T_41618_row5_col5, #T_41618_row6_col6, #T_41618_row7_col7, #T_41618_row8_col8, #T_41618_row9_col9, #T_41618_row10_col10 {\n",
       "  background-color: #023858;\n",
       "  color: #f1f1f1;\n",
       "}\n",
       "#T_41618_row0_col1, #T_41618_row0_col8 {\n",
       "  background-color: #e8e4f0;\n",
       "  color: #000000;\n",
       "}\n",
       "#T_41618_row0_col2, #T_41618_row1_col0 {\n",
       "  background-color: #efe9f3;\n",
       "  color: #000000;\n",
       "}\n",
       "#T_41618_row0_col3, #T_41618_row5_col2 {\n",
       "  background-color: #dedcec;\n",
       "  color: #000000;\n",
       "}\n",
       "#T_41618_row0_col4, #T_41618_row9_col6 {\n",
       "  background-color: #d4d4e8;\n",
       "  color: #000000;\n",
       "}\n",
       "#T_41618_row0_col5, #T_41618_row6_col9 {\n",
       "  background-color: #f2ecf5;\n",
       "  color: #000000;\n",
       "}\n",
       "#T_41618_row0_col6 {\n",
       "  background-color: #fbf4f9;\n",
       "  color: #000000;\n",
       "}\n",
       "#T_41618_row0_col7, #T_41618_row1_col2, #T_41618_row1_col4, #T_41618_row1_col5, #T_41618_row1_col8, #T_41618_row1_col9, #T_41618_row1_col10, #T_41618_row4_col1, #T_41618_row4_col6, #T_41618_row6_col0, #T_41618_row6_col3 {\n",
       "  background-color: #fff7fb;\n",
       "  color: #000000;\n",
       "}\n",
       "#T_41618_row0_col9, #T_41618_row2_col0, #T_41618_row8_col1 {\n",
       "  background-color: #ede8f3;\n",
       "  color: #000000;\n",
       "}\n",
       "#T_41618_row0_col10, #T_41618_row4_col9 {\n",
       "  background-color: #e7e3f0;\n",
       "  color: #000000;\n",
       "}\n",
       "#T_41618_row1_col3, #T_41618_row4_col3 {\n",
       "  background-color: #f4edf6;\n",
       "  color: #000000;\n",
       "}\n",
       "#T_41618_row1_col6 {\n",
       "  background-color: #b0c2de;\n",
       "  color: #000000;\n",
       "}\n",
       "#T_41618_row1_col7 {\n",
       "  background-color: #e4e1ef;\n",
       "  color: #000000;\n",
       "}\n",
       "#T_41618_row2_col1 {\n",
       "  background-color: #f7f0f7;\n",
       "  color: #000000;\n",
       "}\n",
       "#T_41618_row2_col3, #T_41618_row2_col7, #T_41618_row7_col9 {\n",
       "  background-color: #cccfe5;\n",
       "  color: #000000;\n",
       "}\n",
       "#T_41618_row2_col4, #T_41618_row10_col9 {\n",
       "  background-color: #d7d6e9;\n",
       "  color: #000000;\n",
       "}\n",
       "#T_41618_row2_col5, #T_41618_row5_col10, #T_41618_row7_col0 {\n",
       "  background-color: #e9e5f1;\n",
       "  color: #000000;\n",
       "}\n",
       "#T_41618_row2_col6 {\n",
       "  background-color: #b4c4df;\n",
       "  color: #000000;\n",
       "}\n",
       "#T_41618_row2_col8 {\n",
       "  background-color: #afc1dd;\n",
       "  color: #000000;\n",
       "}\n",
       "#T_41618_row2_col9, #T_41618_row3_col9 {\n",
       "  background-color: #d5d5e8;\n",
       "  color: #000000;\n",
       "}\n",
       "#T_41618_row2_col10 {\n",
       "  background-color: #529bc7;\n",
       "  color: #f1f1f1;\n",
       "}\n",
       "#T_41618_row3_col0, #T_41618_row10_col7 {\n",
       "  background-color: #c5cce3;\n",
       "  color: #000000;\n",
       "}\n",
       "#T_41618_row3_col1, #T_41618_row3_col4, #T_41618_row8_col0 {\n",
       "  background-color: #d9d8ea;\n",
       "  color: #000000;\n",
       "}\n",
       "#T_41618_row3_col2 {\n",
       "  background-color: #b3c3de;\n",
       "  color: #000000;\n",
       "}\n",
       "#T_41618_row3_col5 {\n",
       "  background-color: #f8f1f8;\n",
       "  color: #000000;\n",
       "}\n",
       "#T_41618_row3_col6 {\n",
       "  background-color: #eae6f1;\n",
       "  color: #000000;\n",
       "}\n",
       "#T_41618_row3_col7 {\n",
       "  background-color: #f5eef6;\n",
       "  color: #000000;\n",
       "}\n",
       "#T_41618_row3_col8 {\n",
       "  background-color: #c4cbe3;\n",
       "  color: #000000;\n",
       "}\n",
       "#T_41618_row3_col10 {\n",
       "  background-color: #96b6d7;\n",
       "  color: #000000;\n",
       "}\n",
       "#T_41618_row4_col0 {\n",
       "  background-color: #dbdaeb;\n",
       "  color: #000000;\n",
       "}\n",
       "#T_41618_row4_col2, #T_41618_row4_col10, #T_41618_row9_col1 {\n",
       "  background-color: #e0deed;\n",
       "  color: #000000;\n",
       "}\n",
       "#T_41618_row4_col5 {\n",
       "  background-color: #04588a;\n",
       "  color: #f1f1f1;\n",
       "}\n",
       "#T_41618_row4_col7 {\n",
       "  background-color: #93b5d6;\n",
       "  color: #000000;\n",
       "}\n",
       "#T_41618_row4_col8 {\n",
       "  background-color: #8fb4d6;\n",
       "  color: #000000;\n",
       "}\n",
       "#T_41618_row5_col0, #T_41618_row5_col6 {\n",
       "  background-color: #e6e2ef;\n",
       "  color: #000000;\n",
       "}\n",
       "#T_41618_row5_col1 {\n",
       "  background-color: #eee9f3;\n",
       "  color: #000000;\n",
       "}\n",
       "#T_41618_row5_col3, #T_41618_row10_col1 {\n",
       "  background-color: #fef6fa;\n",
       "  color: #000000;\n",
       "}\n",
       "#T_41618_row5_col4 {\n",
       "  background-color: #045585;\n",
       "  color: #f1f1f1;\n",
       "}\n",
       "#T_41618_row5_col7 {\n",
       "  background-color: #509ac6;\n",
       "  color: #f1f1f1;\n",
       "}\n",
       "#T_41618_row5_col8 {\n",
       "  background-color: #dcdaeb;\n",
       "  color: #000000;\n",
       "}\n",
       "#T_41618_row5_col9 {\n",
       "  background-color: #f0eaf4;\n",
       "  color: #000000;\n",
       "}\n",
       "#T_41618_row6_col1, #T_41618_row7_col2 {\n",
       "  background-color: #acc0dd;\n",
       "  color: #000000;\n",
       "}\n",
       "#T_41618_row6_col2, #T_41618_row7_col1 {\n",
       "  background-color: #bdc8e1;\n",
       "  color: #000000;\n",
       "}\n",
       "#T_41618_row6_col4 {\n",
       "  background-color: #fdf5fa;\n",
       "  color: #000000;\n",
       "}\n",
       "#T_41618_row6_col5 {\n",
       "  background-color: #f5eff6;\n",
       "  color: #000000;\n",
       "}\n",
       "#T_41618_row6_col7 {\n",
       "  background-color: #2484ba;\n",
       "  color: #f1f1f1;\n",
       "}\n",
       "#T_41618_row6_col8 {\n",
       "  background-color: #c2cbe2;\n",
       "  color: #000000;\n",
       "}\n",
       "#T_41618_row6_col10, #T_41618_row9_col8 {\n",
       "  background-color: #a8bedc;\n",
       "  color: #000000;\n",
       "}\n",
       "#T_41618_row7_col3 {\n",
       "  background-color: #f1ebf4;\n",
       "  color: #000000;\n",
       "}\n",
       "#T_41618_row7_col4 {\n",
       "  background-color: #67a4cc;\n",
       "  color: #f1f1f1;\n",
       "}\n",
       "#T_41618_row7_col5 {\n",
       "  background-color: #4094c3;\n",
       "  color: #f1f1f1;\n",
       "}\n",
       "#T_41618_row7_col6 {\n",
       "  background-color: #0f76b3;\n",
       "  color: #f1f1f1;\n",
       "}\n",
       "#T_41618_row7_col8 {\n",
       "  background-color: #5c9fc9;\n",
       "  color: #f1f1f1;\n",
       "}\n",
       "#T_41618_row7_col10 {\n",
       "  background-color: #9ab8d8;\n",
       "  color: #000000;\n",
       "}\n",
       "#T_41618_row8_col2 {\n",
       "  background-color: #9fbad9;\n",
       "  color: #000000;\n",
       "}\n",
       "#T_41618_row8_col3 {\n",
       "  background-color: #cdd0e5;\n",
       "  color: #000000;\n",
       "}\n",
       "#T_41618_row8_col4 {\n",
       "  background-color: #75a9cf;\n",
       "  color: #f1f1f1;\n",
       "}\n",
       "#T_41618_row8_col5 {\n",
       "  background-color: #dad9ea;\n",
       "  color: #000000;\n",
       "}\n",
       "#T_41618_row8_col6 {\n",
       "  background-color: #a9bfdc;\n",
       "  color: #000000;\n",
       "}\n",
       "#T_41618_row8_col7 {\n",
       "  background-color: #69a5cc;\n",
       "  color: #f1f1f1;\n",
       "}\n",
       "#T_41618_row8_col9 {\n",
       "  background-color: #b8c6e0;\n",
       "  color: #000000;\n",
       "}\n",
       "#T_41618_row8_col10, #T_41618_row10_col2 {\n",
       "  background-color: #5ea0ca;\n",
       "  color: #f1f1f1;\n",
       "}\n",
       "#T_41618_row9_col0 {\n",
       "  background-color: #d2d2e7;\n",
       "  color: #000000;\n",
       "}\n",
       "#T_41618_row9_col2 {\n",
       "  background-color: #b5c4df;\n",
       "  color: #000000;\n",
       "}\n",
       "#T_41618_row9_col3 {\n",
       "  background-color: #ced0e6;\n",
       "  color: #000000;\n",
       "}\n",
       "#T_41618_row9_col4 {\n",
       "  background-color: #bfc9e1;\n",
       "  color: #000000;\n",
       "}\n",
       "#T_41618_row9_col5 {\n",
       "  background-color: #e1dfed;\n",
       "  color: #000000;\n",
       "}\n",
       "#T_41618_row9_col7 {\n",
       "  background-color: #cacee5;\n",
       "  color: #000000;\n",
       "}\n",
       "#T_41618_row9_col10 {\n",
       "  background-color: #adc1dd;\n",
       "  color: #000000;\n",
       "}\n",
       "#T_41618_row10_col0 {\n",
       "  background-color: #ede7f2;\n",
       "  color: #000000;\n",
       "}\n",
       "#T_41618_row10_col3 {\n",
       "  background-color: #b9c6e0;\n",
       "  color: #000000;\n",
       "}\n",
       "#T_41618_row10_col4 {\n",
       "  background-color: #e0dded;\n",
       "  color: #000000;\n",
       "}\n",
       "#T_41618_row10_col5 {\n",
       "  background-color: #faf2f8;\n",
       "  color: #000000;\n",
       "}\n",
       "#T_41618_row10_col6 {\n",
       "  background-color: #abbfdc;\n",
       "  color: #000000;\n",
       "}\n",
       "#T_41618_row10_col8 {\n",
       "  background-color: #78abd0;\n",
       "  color: #f1f1f1;\n",
       "}\n",
       "</style>\n",
       "<table id=\"T_41618\">\n",
       "  <thead>\n",
       "    <tr>\n",
       "      <th class=\"blank level0\" >&nbsp;</th>\n",
       "      <th id=\"T_41618_level0_col0\" class=\"col_heading level0 col0\" >age</th>\n",
       "      <th id=\"T_41618_level0_col1\" class=\"col_heading level0 col1\" >sex</th>\n",
       "      <th id=\"T_41618_level0_col2\" class=\"col_heading level0 col2\" >bmi</th>\n",
       "      <th id=\"T_41618_level0_col3\" class=\"col_heading level0 col3\" >bp</th>\n",
       "      <th id=\"T_41618_level0_col4\" class=\"col_heading level0 col4\" >s1</th>\n",
       "      <th id=\"T_41618_level0_col5\" class=\"col_heading level0 col5\" >s2</th>\n",
       "      <th id=\"T_41618_level0_col6\" class=\"col_heading level0 col6\" >s3</th>\n",
       "      <th id=\"T_41618_level0_col7\" class=\"col_heading level0 col7\" >s4</th>\n",
       "      <th id=\"T_41618_level0_col8\" class=\"col_heading level0 col8\" >s5</th>\n",
       "      <th id=\"T_41618_level0_col9\" class=\"col_heading level0 col9\" >s6</th>\n",
       "      <th id=\"T_41618_level0_col10\" class=\"col_heading level0 col10\" >resultado</th>\n",
       "    </tr>\n",
       "  </thead>\n",
       "  <tbody>\n",
       "    <tr>\n",
       "      <th id=\"T_41618_level0_row0\" class=\"row_heading level0 row0\" >age</th>\n",
       "      <td id=\"T_41618_row0_col0\" class=\"data row0 col0\" >1.000000</td>\n",
       "      <td id=\"T_41618_row0_col1\" class=\"data row0 col1\" >0.173737</td>\n",
       "      <td id=\"T_41618_row0_col2\" class=\"data row0 col2\" >0.185085</td>\n",
       "      <td id=\"T_41618_row0_col3\" class=\"data row0 col3\" >0.335428</td>\n",
       "      <td id=\"T_41618_row0_col4\" class=\"data row0 col4\" >0.260061</td>\n",
       "      <td id=\"T_41618_row0_col5\" class=\"data row0 col5\" >0.219243</td>\n",
       "      <td id=\"T_41618_row0_col6\" class=\"data row0 col6\" >0.075181</td>\n",
       "      <td id=\"T_41618_row0_col7\" class=\"data row0 col7\" >0.203841</td>\n",
       "      <td id=\"T_41618_row0_col8\" class=\"data row0 col8\" >0.270774</td>\n",
       "      <td id=\"T_41618_row0_col9\" class=\"data row0 col9\" >0.301731</td>\n",
       "      <td id=\"T_41618_row0_col10\" class=\"data row0 col10\" >0.187889</td>\n",
       "    </tr>\n",
       "    <tr>\n",
       "      <th id=\"T_41618_level0_row1\" class=\"row_heading level0 row1\" >sex</th>\n",
       "      <td id=\"T_41618_row1_col0\" class=\"data row1 col0\" >0.173737</td>\n",
       "      <td id=\"T_41618_row1_col1\" class=\"data row1 col1\" >1.000000</td>\n",
       "      <td id=\"T_41618_row1_col2\" class=\"data row1 col2\" >0.088161</td>\n",
       "      <td id=\"T_41618_row1_col3\" class=\"data row1 col3\" >0.241010</td>\n",
       "      <td id=\"T_41618_row1_col4\" class=\"data row1 col4\" >0.035277</td>\n",
       "      <td id=\"T_41618_row1_col5\" class=\"data row1 col5\" >0.142637</td>\n",
       "      <td id=\"T_41618_row1_col6\" class=\"data row1 col6\" >0.379090</td>\n",
       "      <td id=\"T_41618_row1_col7\" class=\"data row1 col7\" >0.332115</td>\n",
       "      <td id=\"T_41618_row1_col8\" class=\"data row1 col8\" >0.149916</td>\n",
       "      <td id=\"T_41618_row1_col9\" class=\"data row1 col9\" >0.208133</td>\n",
       "      <td id=\"T_41618_row1_col10\" class=\"data row1 col10\" >0.043062</td>\n",
       "    </tr>\n",
       "    <tr>\n",
       "      <th id=\"T_41618_level0_row2\" class=\"row_heading level0 row2\" >bmi</th>\n",
       "      <td id=\"T_41618_row2_col0\" class=\"data row2 col0\" >0.185085</td>\n",
       "      <td id=\"T_41618_row2_col1\" class=\"data row2 col1\" >0.088161</td>\n",
       "      <td id=\"T_41618_row2_col2\" class=\"data row2 col2\" >1.000000</td>\n",
       "      <td id=\"T_41618_row2_col3\" class=\"data row2 col3\" >0.395411</td>\n",
       "      <td id=\"T_41618_row2_col4\" class=\"data row2 col4\" >0.249777</td>\n",
       "      <td id=\"T_41618_row2_col5\" class=\"data row2 col5\" >0.261170</td>\n",
       "      <td id=\"T_41618_row2_col6\" class=\"data row2 col6\" >0.366811</td>\n",
       "      <td id=\"T_41618_row2_col7\" class=\"data row2 col7\" >0.413807</td>\n",
       "      <td id=\"T_41618_row2_col8\" class=\"data row2 col8\" >0.446157</td>\n",
       "      <td id=\"T_41618_row2_col9\" class=\"data row2 col9\" >0.388680</td>\n",
       "      <td id=\"T_41618_row2_col10\" class=\"data row2 col10\" >0.586450</td>\n",
       "    </tr>\n",
       "    <tr>\n",
       "      <th id=\"T_41618_level0_row3\" class=\"row_heading level0 row3\" >bp</th>\n",
       "      <td id=\"T_41618_row3_col0\" class=\"data row3 col0\" >0.335428</td>\n",
       "      <td id=\"T_41618_row3_col1\" class=\"data row3 col1\" >0.241010</td>\n",
       "      <td id=\"T_41618_row3_col2\" class=\"data row3 col2\" >0.395411</td>\n",
       "      <td id=\"T_41618_row3_col3\" class=\"data row3 col3\" >1.000000</td>\n",
       "      <td id=\"T_41618_row3_col4\" class=\"data row3 col4\" >0.242464</td>\n",
       "      <td id=\"T_41618_row3_col5\" class=\"data row3 col5\" >0.185548</td>\n",
       "      <td id=\"T_41618_row3_col6\" class=\"data row3 col6\" >0.178762</td>\n",
       "      <td id=\"T_41618_row3_col7\" class=\"data row3 col7\" >0.257650</td>\n",
       "      <td id=\"T_41618_row3_col8\" class=\"data row3 col8\" >0.393480</td>\n",
       "      <td id=\"T_41618_row3_col9\" class=\"data row3 col9\" >0.390430</td>\n",
       "      <td id=\"T_41618_row3_col10\" class=\"data row3 col10\" >0.441482</td>\n",
       "    </tr>\n",
       "    <tr>\n",
       "      <th id=\"T_41618_level0_row4\" class=\"row_heading level0 row4\" >s1</th>\n",
       "      <td id=\"T_41618_row4_col0\" class=\"data row4 col0\" >0.260061</td>\n",
       "      <td id=\"T_41618_row4_col1\" class=\"data row4 col1\" >0.035277</td>\n",
       "      <td id=\"T_41618_row4_col2\" class=\"data row4 col2\" >0.249777</td>\n",
       "      <td id=\"T_41618_row4_col3\" class=\"data row4 col3\" >0.242464</td>\n",
       "      <td id=\"T_41618_row4_col4\" class=\"data row4 col4\" >1.000000</td>\n",
       "      <td id=\"T_41618_row4_col5\" class=\"data row4 col5\" >0.896663</td>\n",
       "      <td id=\"T_41618_row4_col6\" class=\"data row4 col6\" >0.051519</td>\n",
       "      <td id=\"T_41618_row4_col7\" class=\"data row4 col7\" >0.542207</td>\n",
       "      <td id=\"T_41618_row4_col8\" class=\"data row4 col8\" >0.515503</td>\n",
       "      <td id=\"T_41618_row4_col9\" class=\"data row4 col9\" >0.325717</td>\n",
       "      <td id=\"T_41618_row4_col10\" class=\"data row4 col10\" >0.212022</td>\n",
       "    </tr>\n",
       "    <tr>\n",
       "      <th id=\"T_41618_level0_row5\" class=\"row_heading level0 row5\" >s2</th>\n",
       "      <td id=\"T_41618_row5_col0\" class=\"data row5 col0\" >0.219243</td>\n",
       "      <td id=\"T_41618_row5_col1\" class=\"data row5 col1\" >0.142637</td>\n",
       "      <td id=\"T_41618_row5_col2\" class=\"data row5 col2\" >0.261170</td>\n",
       "      <td id=\"T_41618_row5_col3\" class=\"data row5 col3\" >0.185548</td>\n",
       "      <td id=\"T_41618_row5_col4\" class=\"data row5 col4\" >0.896663</td>\n",
       "      <td id=\"T_41618_row5_col5\" class=\"data row5 col5\" >1.000000</td>\n",
       "      <td id=\"T_41618_row5_col6\" class=\"data row5 col6\" >0.196455</td>\n",
       "      <td id=\"T_41618_row5_col7\" class=\"data row5 col7\" >0.659817</td>\n",
       "      <td id=\"T_41618_row5_col8\" class=\"data row5 col8\" >0.318357</td>\n",
       "      <td id=\"T_41618_row5_col9\" class=\"data row5 col9\" >0.290600</td>\n",
       "      <td id=\"T_41618_row5_col10\" class=\"data row5 col10\" >0.174054</td>\n",
       "    </tr>\n",
       "    <tr>\n",
       "      <th id=\"T_41618_level0_row6\" class=\"row_heading level0 row6\" >s3</th>\n",
       "      <td id=\"T_41618_row6_col0\" class=\"data row6 col0\" >0.075181</td>\n",
       "      <td id=\"T_41618_row6_col1\" class=\"data row6 col1\" >0.379090</td>\n",
       "      <td id=\"T_41618_row6_col2\" class=\"data row6 col2\" >0.366811</td>\n",
       "      <td id=\"T_41618_row6_col3\" class=\"data row6 col3\" >0.178762</td>\n",
       "      <td id=\"T_41618_row6_col4\" class=\"data row6 col4\" >0.051519</td>\n",
       "      <td id=\"T_41618_row6_col5\" class=\"data row6 col5\" >0.196455</td>\n",
       "      <td id=\"T_41618_row6_col6\" class=\"data row6 col6\" >1.000000</td>\n",
       "      <td id=\"T_41618_row6_col7\" class=\"data row6 col7\" >0.738493</td>\n",
       "      <td id=\"T_41618_row6_col8\" class=\"data row6 col8\" >0.398577</td>\n",
       "      <td id=\"T_41618_row6_col9\" class=\"data row6 col9\" >0.273697</td>\n",
       "      <td id=\"T_41618_row6_col10\" class=\"data row6 col10\" >0.394789</td>\n",
       "    </tr>\n",
       "    <tr>\n",
       "      <th id=\"T_41618_level0_row7\" class=\"row_heading level0 row7\" >s4</th>\n",
       "      <td id=\"T_41618_row7_col0\" class=\"data row7 col0\" >0.203841</td>\n",
       "      <td id=\"T_41618_row7_col1\" class=\"data row7 col1\" >0.332115</td>\n",
       "      <td id=\"T_41618_row7_col2\" class=\"data row7 col2\" >0.413807</td>\n",
       "      <td id=\"T_41618_row7_col3\" class=\"data row7 col3\" >0.257650</td>\n",
       "      <td id=\"T_41618_row7_col4\" class=\"data row7 col4\" >0.542207</td>\n",
       "      <td id=\"T_41618_row7_col5\" class=\"data row7 col5\" >0.659817</td>\n",
       "      <td id=\"T_41618_row7_col6\" class=\"data row7 col6\" >0.738493</td>\n",
       "      <td id=\"T_41618_row7_col7\" class=\"data row7 col7\" >1.000000</td>\n",
       "      <td id=\"T_41618_row7_col8\" class=\"data row7 col8\" >0.617859</td>\n",
       "      <td id=\"T_41618_row7_col9\" class=\"data row7 col9\" >0.417212</td>\n",
       "      <td id=\"T_41618_row7_col10\" class=\"data row7 col10\" >0.430453</td>\n",
       "    </tr>\n",
       "    <tr>\n",
       "      <th id=\"T_41618_level0_row8\" class=\"row_heading level0 row8\" >s5</th>\n",
       "      <td id=\"T_41618_row8_col0\" class=\"data row8 col0\" >0.270774</td>\n",
       "      <td id=\"T_41618_row8_col1\" class=\"data row8 col1\" >0.149916</td>\n",
       "      <td id=\"T_41618_row8_col2\" class=\"data row8 col2\" >0.446157</td>\n",
       "      <td id=\"T_41618_row8_col3\" class=\"data row8 col3\" >0.393480</td>\n",
       "      <td id=\"T_41618_row8_col4\" class=\"data row8 col4\" >0.515503</td>\n",
       "      <td id=\"T_41618_row8_col5\" class=\"data row8 col5\" >0.318357</td>\n",
       "      <td id=\"T_41618_row8_col6\" class=\"data row8 col6\" >0.398577</td>\n",
       "      <td id=\"T_41618_row8_col7\" class=\"data row8 col7\" >0.617859</td>\n",
       "      <td id=\"T_41618_row8_col8\" class=\"data row8 col8\" >1.000000</td>\n",
       "      <td id=\"T_41618_row8_col9\" class=\"data row8 col9\" >0.464669</td>\n",
       "      <td id=\"T_41618_row8_col10\" class=\"data row8 col10\" >0.565883</td>\n",
       "    </tr>\n",
       "    <tr>\n",
       "      <th id=\"T_41618_level0_row9\" class=\"row_heading level0 row9\" >s6</th>\n",
       "      <td id=\"T_41618_row9_col0\" class=\"data row9 col0\" >0.301731</td>\n",
       "      <td id=\"T_41618_row9_col1\" class=\"data row9 col1\" >0.208133</td>\n",
       "      <td id=\"T_41618_row9_col2\" class=\"data row9 col2\" >0.388680</td>\n",
       "      <td id=\"T_41618_row9_col3\" class=\"data row9 col3\" >0.390430</td>\n",
       "      <td id=\"T_41618_row9_col4\" class=\"data row9 col4\" >0.325717</td>\n",
       "      <td id=\"T_41618_row9_col5\" class=\"data row9 col5\" >0.290600</td>\n",
       "      <td id=\"T_41618_row9_col6\" class=\"data row9 col6\" >0.273697</td>\n",
       "      <td id=\"T_41618_row9_col7\" class=\"data row9 col7\" >0.417212</td>\n",
       "      <td id=\"T_41618_row9_col8\" class=\"data row9 col8\" >0.464669</td>\n",
       "      <td id=\"T_41618_row9_col9\" class=\"data row9 col9\" >1.000000</td>\n",
       "      <td id=\"T_41618_row9_col10\" class=\"data row9 col10\" >0.382483</td>\n",
       "    </tr>\n",
       "    <tr>\n",
       "      <th id=\"T_41618_level0_row10\" class=\"row_heading level0 row10\" >resultado</th>\n",
       "      <td id=\"T_41618_row10_col0\" class=\"data row10 col0\" >0.187889</td>\n",
       "      <td id=\"T_41618_row10_col1\" class=\"data row10 col1\" >0.043062</td>\n",
       "      <td id=\"T_41618_row10_col2\" class=\"data row10 col2\" >0.586450</td>\n",
       "      <td id=\"T_41618_row10_col3\" class=\"data row10 col3\" >0.441482</td>\n",
       "      <td id=\"T_41618_row10_col4\" class=\"data row10 col4\" >0.212022</td>\n",
       "      <td id=\"T_41618_row10_col5\" class=\"data row10 col5\" >0.174054</td>\n",
       "      <td id=\"T_41618_row10_col6\" class=\"data row10 col6\" >0.394789</td>\n",
       "      <td id=\"T_41618_row10_col7\" class=\"data row10 col7\" >0.430453</td>\n",
       "      <td id=\"T_41618_row10_col8\" class=\"data row10 col8\" >0.565883</td>\n",
       "      <td id=\"T_41618_row10_col9\" class=\"data row10 col9\" >0.382483</td>\n",
       "      <td id=\"T_41618_row10_col10\" class=\"data row10 col10\" >1.000000</td>\n",
       "    </tr>\n",
       "  </tbody>\n",
       "</table>\n"
      ],
      "text/plain": [
       "<pandas.io.formats.style.Styler at 0x1eb54beee10>"
      ]
     },
     "execution_count": 27,
     "metadata": {},
     "output_type": "execute_result"
    }
   ],
   "source": [
    "corr_matrix.style.background_gradient()"
   ]
  },
  {
   "cell_type": "markdown",
   "metadata": {},
   "source": [
    "#### DIVIDIR LOS DATOS"
   ]
  },
  {
   "cell_type": "code",
   "execution_count": 15,
   "metadata": {},
   "outputs": [],
   "source": [
    "df_diabetes_train, df_diabetes_test = train_test_split(df_diabetes, test_size=0.15, random_state=17)\n"
   ]
  },
  {
   "cell_type": "markdown",
   "metadata": {},
   "source": [
    "#### PREPARAR LOS DATOS"
   ]
  },
  {
   "cell_type": "code",
   "execution_count": 42,
   "metadata": {},
   "outputs": [
    {
     "data": {
      "text/html": [
       "<div>\n",
       "<style scoped>\n",
       "    .dataframe tbody tr th:only-of-type {\n",
       "        vertical-align: middle;\n",
       "    }\n",
       "\n",
       "    .dataframe tbody tr th {\n",
       "        vertical-align: top;\n",
       "    }\n",
       "\n",
       "    .dataframe thead th {\n",
       "        text-align: right;\n",
       "    }\n",
       "</style>\n",
       "<table border=\"1\" class=\"dataframe\">\n",
       "  <thead>\n",
       "    <tr style=\"text-align: right;\">\n",
       "      <th></th>\n",
       "      <th>age</th>\n",
       "      <th>bmi</th>\n",
       "      <th>bp</th>\n",
       "      <th>s1</th>\n",
       "      <th>s2</th>\n",
       "      <th>s3</th>\n",
       "      <th>s4</th>\n",
       "      <th>s5</th>\n",
       "      <th>s6</th>\n",
       "      <th>resultado</th>\n",
       "    </tr>\n",
       "  </thead>\n",
       "  <tbody>\n",
       "    <tr>\n",
       "      <th>0</th>\n",
       "      <td>0.038076</td>\n",
       "      <td>0.061696</td>\n",
       "      <td>0.021872</td>\n",
       "      <td>-0.044223</td>\n",
       "      <td>-0.034821</td>\n",
       "      <td>-0.043401</td>\n",
       "      <td>-0.002592</td>\n",
       "      <td>0.019907</td>\n",
       "      <td>-0.017646</td>\n",
       "      <td>151.0</td>\n",
       "    </tr>\n",
       "    <tr>\n",
       "      <th>1</th>\n",
       "      <td>-0.001882</td>\n",
       "      <td>-0.051474</td>\n",
       "      <td>-0.026328</td>\n",
       "      <td>-0.008449</td>\n",
       "      <td>-0.019163</td>\n",
       "      <td>0.074412</td>\n",
       "      <td>-0.039493</td>\n",
       "      <td>-0.068332</td>\n",
       "      <td>-0.092204</td>\n",
       "      <td>75.0</td>\n",
       "    </tr>\n",
       "    <tr>\n",
       "      <th>2</th>\n",
       "      <td>0.085299</td>\n",
       "      <td>0.044451</td>\n",
       "      <td>-0.005670</td>\n",
       "      <td>-0.045599</td>\n",
       "      <td>-0.034194</td>\n",
       "      <td>-0.032356</td>\n",
       "      <td>-0.002592</td>\n",
       "      <td>0.002861</td>\n",
       "      <td>-0.025930</td>\n",
       "      <td>141.0</td>\n",
       "    </tr>\n",
       "    <tr>\n",
       "      <th>3</th>\n",
       "      <td>-0.089063</td>\n",
       "      <td>-0.011595</td>\n",
       "      <td>-0.036656</td>\n",
       "      <td>0.012191</td>\n",
       "      <td>0.024991</td>\n",
       "      <td>-0.036038</td>\n",
       "      <td>0.034309</td>\n",
       "      <td>0.022688</td>\n",
       "      <td>-0.009362</td>\n",
       "      <td>206.0</td>\n",
       "    </tr>\n",
       "    <tr>\n",
       "      <th>4</th>\n",
       "      <td>0.005383</td>\n",
       "      <td>-0.036385</td>\n",
       "      <td>0.021872</td>\n",
       "      <td>0.003935</td>\n",
       "      <td>0.015596</td>\n",
       "      <td>0.008142</td>\n",
       "      <td>-0.002592</td>\n",
       "      <td>-0.031988</td>\n",
       "      <td>-0.046641</td>\n",
       "      <td>135.0</td>\n",
       "    </tr>\n",
       "  </tbody>\n",
       "</table>\n",
       "</div>"
      ],
      "text/plain": [
       "        age       bmi        bp        s1        s2        s3        s4  \\\n",
       "0  0.038076  0.061696  0.021872 -0.044223 -0.034821 -0.043401 -0.002592   \n",
       "1 -0.001882 -0.051474 -0.026328 -0.008449 -0.019163  0.074412 -0.039493   \n",
       "2  0.085299  0.044451 -0.005670 -0.045599 -0.034194 -0.032356 -0.002592   \n",
       "3 -0.089063 -0.011595 -0.036656  0.012191  0.024991 -0.036038  0.034309   \n",
       "4  0.005383 -0.036385  0.021872  0.003935  0.015596  0.008142 -0.002592   \n",
       "\n",
       "         s5        s6  resultado  \n",
       "0  0.019907 -0.017646      151.0  \n",
       "1 -0.068332 -0.092204       75.0  \n",
       "2  0.002861 -0.025930      141.0  \n",
       "3  0.022688 -0.009362      206.0  \n",
       "4 -0.031988 -0.046641      135.0  "
      ]
     },
     "execution_count": 42,
     "metadata": {},
     "output_type": "execute_result"
    }
   ],
   "source": [
    "\n",
    "# age\tsex\tbmi\tbp\ts1\ts2\ts3\ts4\ts5\ts6\tresultado\n",
    "transformar = ColumnTransformer([\n",
    "        (\"pipeline_general\", SimpleImputer(strategy='mean'), [\"age\", \"bmi\", \"bp\", \"s1\",\"s2\",\"s3\",\"s4\",\"s5\",\"s6\"]),\n",
    "        (\"drop_columns\", 'drop', [\"sex\"])\n",
    "    ], \n",
    "    remainder='passthrough',\n",
    "    verbose_feature_names_out=False\n",
    ")\n",
    "\n",
    "pipeline=make_pipeline(transformar)\n",
    "\n",
    "prep_array = pipeline.fit_transform(df_diabetes)\n",
    "\n",
    "feature_names = pipeline.get_feature_names_out()\n",
    "\n",
    "df_diabetes_adapt = pd.DataFrame(prep_array, columns=feature_names)\n",
    "df_diabetes_adapt.head()"
   ]
  },
  {
   "cell_type": "markdown",
   "metadata": {},
   "source": [
    "### ENTRENAMIENTO Y EVALUACIÓN DEL MODELO"
   ]
  },
  {
   "cell_type": "markdown",
   "metadata": {},
   "source": [
    "Crea y entrena el modelo con diferentes algoritmos y muestra los resultados obtenidos con validación cruzada y utilizando la métrica RMSE para medir el error"
   ]
  },
  {
   "cell_type": "code",
   "execution_count": 57,
   "metadata": {},
   "outputs": [
    {
     "name": "stdout",
     "output_type": "stream",
     "text": [
      "LogisticRegression\n",
      "RSME en el conjunto de entrenamiento: 72.42953357114303\n",
      "RMSE relativo al rango: 0.2256371762340904\n",
      "RMSE relativo al promedio: 0.4760919923032169\n",
      "------------------\n",
      "LinearRegression\n",
      "RSME en el conjunto de entrenamiento: 55.98938151628621\n",
      "RMSE relativo al rango: 0.17442174927191964\n",
      "RMSE relativo al promedio: 0.36802799741532205\n",
      "------------------\n",
      "Ridge\n",
      "RSME en el conjunto de entrenamiento: 59.70478472170645\n",
      "RMSE relativo al rango: 0.18599621408631295\n",
      "RMSE relativo al promedio: 0.39244999251958196\n",
      "------------------\n",
      "Lasso\n",
      "RSME en el conjunto de entrenamiento: 61.7910016878746\n",
      "RMSE relativo al rango: 0.19249533236098004\n",
      "RMSE relativo al promedio: 0.4061630615237359\n",
      "------------------\n"
     ]
    }
   ],
   "source": [
    "df_diabetes_train_y = df_diabetes_train['resultado'].copy()\n",
    "df_diabetes_train_x = df_diabetes_train.drop('resultado',axis=1)\n",
    "\n",
    "df_diabetes_test_y = df_diabetes_test['resultado'].copy()\n",
    "df_diabetes_test_x = df_diabetes_test.drop('resultado',axis=1)\n",
    "\n",
    "\n",
    "rango_y = y.max() - y.min()\n",
    "promedio_y = y.mean()\n",
    "modelo_LogR=make_pipeline(transformar,LogisticRegression(random_state=17, max_iter=1000))\n",
    "modelo_LinR=make_pipeline(transformar,LinearRegression())\n",
    "modelo_Ridge=make_pipeline(transformar,Ridge())\n",
    "modelo_Lasso=make_pipeline(transformar,Lasso())\n",
    "\n",
    "modelos=[modelo_LogR,modelo_LinR,modelo_Ridge,modelo_Lasso]\n",
    "\n",
    "for modelo in modelos:\n",
    "    \n",
    "    \n",
    "    print(modelo.steps[-1][1].__class__.__name__)\n",
    "    y_predicciones = cross_val_predict(modelo, df_diabetes_train_x, df_diabetes_train_y, cv=5)\n",
    "    rmse = np.sqrt(mean_squared_error(df_diabetes_train_y, y_predicciones))\n",
    "    print(\"RSME en el conjunto de entrenamiento:\",rmse)\n",
    "    print(\"RMSE relativo al rango:\", rmse / rango_y)\n",
    "    print(\"RMSE relativo al promedio:\", rmse / promedio_y)\n",
    "    print(\"------------------\")"
   ]
  },
  {
   "cell_type": "markdown",
   "metadata": {},
   "source": [
    "Calcula el máximo de y (del dataset original) y el mínimo de y (del dataset original) para ver con prespectiva si RMSE es aceptable o no."
   ]
  },
  {
   "cell_type": "code",
   "execution_count": 58,
   "metadata": {},
   "outputs": [
    {
     "name": "stdout",
     "output_type": "stream",
     "text": [
      "Máximo original: 346.0 \n",
      "Mínimo original 25.0\n"
     ]
    }
   ],
   "source": [
    "print(\"Máximo original: {} \\nMínimo original {}\".format(max(y),min(y)))\n",
    "\n",
    "\n",
    "\n"
   ]
  },
  {
   "cell_type": "code",
   "execution_count": null,
   "metadata": {},
   "outputs": [],
   "source": [
    "# Un RSME relativo al rango de 0.17 es más alto de lo deseado pero no exageradamente alto, parace ser un modelo con el que si podemos trabajar."
   ]
  },
  {
   "cell_type": "markdown",
   "metadata": {},
   "source": [
    "### OPTIMIZACIÓN DEL MODELO"
   ]
  },
  {
   "cell_type": "markdown",
   "metadata": {},
   "source": [
    "Vamos a suponer que el mejor modelo que has obtenido es con Ridge y vamoas a aplicar búsqueda exhaustiva para el parámetro alpha."
   ]
  },
  {
   "cell_type": "code",
   "execution_count": 67,
   "metadata": {},
   "outputs": [
    {
     "name": "stdout",
     "output_type": "stream",
     "text": [
      "Mejores hiperparámetros: {'ridge__alpha': 0.0655128556859551}\n"
     ]
    }
   ],
   "source": [
    "alpha_values = np.logspace(-2, 3, num=50)\n",
    "grid_search = GridSearchCV(\n",
    "    estimator=modelo_Ridge,\n",
    "    param_grid={'ridge__alpha': alpha_values},\n",
    "    cv=5,\n",
    "    scoring='neg_mean_squared_error',\n",
    "    n_jobs=-1\n",
    ")\n",
    "\n",
    "grid_search.fit(df_diabetes_train_x, df_diabetes_train_y)\n",
    "print(\"Mejores hiperparámetros:\", grid_search.best_params_)"
   ]
  },
  {
   "cell_type": "markdown",
   "metadata": {},
   "source": [
    "Evalúa este mejor modelo en el conjunto de pruebas"
   ]
  },
  {
   "cell_type": "code",
   "execution_count": 72,
   "metadata": {},
   "outputs": [
    {
     "name": "stdout",
     "output_type": "stream",
     "text": [
      "RMSE con el modelo óptimo: 55.314788453465255\n"
     ]
    }
   ],
   "source": [
    "best_model = grid_search.best_estimator_\n",
    "\n",
    "# Realizar validación cruzada y obtener los resultados de MSE\n",
    "y_predicciones = best_model.predict(df_diabetes_test_x)\n",
    "\n",
    "# Mostrar el RMSE\n",
    "rmse_opti = np.sqrt(mean_squared_error(df_diabetes_test_y, y_predicciones))\n",
    "print(\"RMSE con el modelo óptimo:\",rmse_opti)"
   ]
  },
  {
   "cell_type": "markdown",
   "metadata": {},
   "source": [
    "### PRESENTACIÓN DEL MODELO"
   ]
  },
  {
   "cell_type": "markdown",
   "metadata": {},
   "source": [
    "Guarda el modelo en un archivo"
   ]
  },
  {
   "cell_type": "code",
   "execution_count": 73,
   "metadata": {},
   "outputs": [
    {
     "data": {
      "text/plain": [
       "['./solucion1/modelo_diabetes.pkl']"
      ]
     },
     "execution_count": 73,
     "metadata": {},
     "output_type": "execute_result"
    }
   ],
   "source": [
    "joblib.dump(best_model, \"./solucion1/modelo_diabetes.pkl\")"
   ]
  },
  {
   "cell_type": "markdown",
   "metadata": {},
   "source": [
    "Opcional: hacer un script de Python que pida los datos y te prediga el resultado"
   ]
  },
  {
   "cell_type": "markdown",
   "metadata": {},
   "source": [
    "## EJERCICIO 4"
   ]
  },
  {
   "cell_type": "markdown",
   "metadata": {},
   "source": [
    "Usa regresión logística para crear un modelo que deduzca el tipo de flor iris"
   ]
  },
  {
   "cell_type": "markdown",
   "metadata": {},
   "source": [
    "### RECOPILACIÓN Y PREPARACIÓN DE LOS DATOS"
   ]
  },
  {
   "cell_type": "markdown",
   "metadata": {},
   "source": [
    "#### OBTENER LOS DATOS"
   ]
  },
  {
   "cell_type": "code",
   "execution_count": null,
   "metadata": {},
   "outputs": [
    {
     "name": "stdout",
     "output_type": "stream",
     "text": [
      "<class 'pandas.core.series.Series'>\n",
      "RangeIndex: 150 entries, 0 to 149\n",
      "Series name: target\n",
      "Non-Null Count  Dtype\n",
      "--------------  -----\n",
      "150 non-null    int32\n",
      "dtypes: int32(1)\n",
      "memory usage: 732.0 bytes\n"
     ]
    }
   ],
   "source": [
    "iris = load_iris(as_frame=True)\n",
    "X = iris.data\n",
    "y = iris.target\n"
   ]
  },
  {
   "cell_type": "code",
   "execution_count": null,
   "metadata": {},
   "outputs": [],
   "source": [
    "data_iris=np.column_stack((X,y))\n",
    "df_iris = pd.DataFrame(data=data_diabetes)\n",
    "column_names = list(X.columns) + ['resultado']\n",
    "df_iris = pd.DataFrame(data=data_iris, columns=column_names)"
   ]
  },
  {
   "cell_type": "markdown",
   "metadata": {},
   "source": [
    "#### EXPLORAR LOS DATOS"
   ]
  },
  {
   "cell_type": "markdown",
   "metadata": {},
   "source": [
    "Visualiza los datos"
   ]
  },
  {
   "cell_type": "code",
   "execution_count": 86,
   "metadata": {},
   "outputs": [
    {
     "name": "stdout",
     "output_type": "stream",
     "text": [
      "<class 'pandas.core.frame.DataFrame'>\n",
      "RangeIndex: 150 entries, 0 to 149\n",
      "Data columns (total 5 columns):\n",
      " #   Column             Non-Null Count  Dtype  \n",
      "---  ------             --------------  -----  \n",
      " 0   sepal length (cm)  150 non-null    float64\n",
      " 1   sepal width (cm)   150 non-null    float64\n",
      " 2   petal length (cm)  150 non-null    float64\n",
      " 3   petal width (cm)   150 non-null    float64\n",
      " 4   resultado          150 non-null    float64\n",
      "dtypes: float64(5)\n",
      "memory usage: 6.0 KB\n"
     ]
    }
   ],
   "source": [
    "df_iris.info()"
   ]
  },
  {
   "cell_type": "code",
   "execution_count": 87,
   "metadata": {},
   "outputs": [
    {
     "data": {
      "text/html": [
       "<div>\n",
       "<style scoped>\n",
       "    .dataframe tbody tr th:only-of-type {\n",
       "        vertical-align: middle;\n",
       "    }\n",
       "\n",
       "    .dataframe tbody tr th {\n",
       "        vertical-align: top;\n",
       "    }\n",
       "\n",
       "    .dataframe thead th {\n",
       "        text-align: right;\n",
       "    }\n",
       "</style>\n",
       "<table border=\"1\" class=\"dataframe\">\n",
       "  <thead>\n",
       "    <tr style=\"text-align: right;\">\n",
       "      <th></th>\n",
       "      <th>sepal length (cm)</th>\n",
       "      <th>sepal width (cm)</th>\n",
       "      <th>petal length (cm)</th>\n",
       "      <th>petal width (cm)</th>\n",
       "      <th>resultado</th>\n",
       "    </tr>\n",
       "  </thead>\n",
       "  <tbody>\n",
       "    <tr>\n",
       "      <th>count</th>\n",
       "      <td>150.000000</td>\n",
       "      <td>150.000000</td>\n",
       "      <td>150.000000</td>\n",
       "      <td>150.000000</td>\n",
       "      <td>150.000000</td>\n",
       "    </tr>\n",
       "    <tr>\n",
       "      <th>mean</th>\n",
       "      <td>5.843333</td>\n",
       "      <td>3.057333</td>\n",
       "      <td>3.758000</td>\n",
       "      <td>1.199333</td>\n",
       "      <td>1.000000</td>\n",
       "    </tr>\n",
       "    <tr>\n",
       "      <th>std</th>\n",
       "      <td>0.828066</td>\n",
       "      <td>0.435866</td>\n",
       "      <td>1.765298</td>\n",
       "      <td>0.762238</td>\n",
       "      <td>0.819232</td>\n",
       "    </tr>\n",
       "    <tr>\n",
       "      <th>min</th>\n",
       "      <td>4.300000</td>\n",
       "      <td>2.000000</td>\n",
       "      <td>1.000000</td>\n",
       "      <td>0.100000</td>\n",
       "      <td>0.000000</td>\n",
       "    </tr>\n",
       "    <tr>\n",
       "      <th>25%</th>\n",
       "      <td>5.100000</td>\n",
       "      <td>2.800000</td>\n",
       "      <td>1.600000</td>\n",
       "      <td>0.300000</td>\n",
       "      <td>0.000000</td>\n",
       "    </tr>\n",
       "    <tr>\n",
       "      <th>50%</th>\n",
       "      <td>5.800000</td>\n",
       "      <td>3.000000</td>\n",
       "      <td>4.350000</td>\n",
       "      <td>1.300000</td>\n",
       "      <td>1.000000</td>\n",
       "    </tr>\n",
       "    <tr>\n",
       "      <th>75%</th>\n",
       "      <td>6.400000</td>\n",
       "      <td>3.300000</td>\n",
       "      <td>5.100000</td>\n",
       "      <td>1.800000</td>\n",
       "      <td>2.000000</td>\n",
       "    </tr>\n",
       "    <tr>\n",
       "      <th>max</th>\n",
       "      <td>7.900000</td>\n",
       "      <td>4.400000</td>\n",
       "      <td>6.900000</td>\n",
       "      <td>2.500000</td>\n",
       "      <td>2.000000</td>\n",
       "    </tr>\n",
       "  </tbody>\n",
       "</table>\n",
       "</div>"
      ],
      "text/plain": [
       "       sepal length (cm)  sepal width (cm)  petal length (cm)  \\\n",
       "count         150.000000        150.000000         150.000000   \n",
       "mean            5.843333          3.057333           3.758000   \n",
       "std             0.828066          0.435866           1.765298   \n",
       "min             4.300000          2.000000           1.000000   \n",
       "25%             5.100000          2.800000           1.600000   \n",
       "50%             5.800000          3.000000           4.350000   \n",
       "75%             6.400000          3.300000           5.100000   \n",
       "max             7.900000          4.400000           6.900000   \n",
       "\n",
       "       petal width (cm)   resultado  \n",
       "count        150.000000  150.000000  \n",
       "mean           1.199333    1.000000  \n",
       "std            0.762238    0.819232  \n",
       "min            0.100000    0.000000  \n",
       "25%            0.300000    0.000000  \n",
       "50%            1.300000    1.000000  \n",
       "75%            1.800000    2.000000  \n",
       "max            2.500000    2.000000  "
      ]
     },
     "execution_count": 87,
     "metadata": {},
     "output_type": "execute_result"
    }
   ],
   "source": [
    "df_iris.describe()"
   ]
  },
  {
   "cell_type": "code",
   "execution_count": 88,
   "metadata": {},
   "outputs": [
    {
     "data": {
      "text/html": [
       "<div>\n",
       "<style scoped>\n",
       "    .dataframe tbody tr th:only-of-type {\n",
       "        vertical-align: middle;\n",
       "    }\n",
       "\n",
       "    .dataframe tbody tr th {\n",
       "        vertical-align: top;\n",
       "    }\n",
       "\n",
       "    .dataframe thead th {\n",
       "        text-align: right;\n",
       "    }\n",
       "</style>\n",
       "<table border=\"1\" class=\"dataframe\">\n",
       "  <thead>\n",
       "    <tr style=\"text-align: right;\">\n",
       "      <th></th>\n",
       "      <th>sepal length (cm)</th>\n",
       "      <th>sepal width (cm)</th>\n",
       "      <th>petal length (cm)</th>\n",
       "      <th>petal width (cm)</th>\n",
       "      <th>resultado</th>\n",
       "    </tr>\n",
       "  </thead>\n",
       "  <tbody>\n",
       "    <tr>\n",
       "      <th>0</th>\n",
       "      <td>5.1</td>\n",
       "      <td>3.5</td>\n",
       "      <td>1.4</td>\n",
       "      <td>0.2</td>\n",
       "      <td>0.0</td>\n",
       "    </tr>\n",
       "    <tr>\n",
       "      <th>1</th>\n",
       "      <td>4.9</td>\n",
       "      <td>3.0</td>\n",
       "      <td>1.4</td>\n",
       "      <td>0.2</td>\n",
       "      <td>0.0</td>\n",
       "    </tr>\n",
       "    <tr>\n",
       "      <th>2</th>\n",
       "      <td>4.7</td>\n",
       "      <td>3.2</td>\n",
       "      <td>1.3</td>\n",
       "      <td>0.2</td>\n",
       "      <td>0.0</td>\n",
       "    </tr>\n",
       "    <tr>\n",
       "      <th>3</th>\n",
       "      <td>4.6</td>\n",
       "      <td>3.1</td>\n",
       "      <td>1.5</td>\n",
       "      <td>0.2</td>\n",
       "      <td>0.0</td>\n",
       "    </tr>\n",
       "    <tr>\n",
       "      <th>4</th>\n",
       "      <td>5.0</td>\n",
       "      <td>3.6</td>\n",
       "      <td>1.4</td>\n",
       "      <td>0.2</td>\n",
       "      <td>0.0</td>\n",
       "    </tr>\n",
       "  </tbody>\n",
       "</table>\n",
       "</div>"
      ],
      "text/plain": [
       "   sepal length (cm)  sepal width (cm)  petal length (cm)  petal width (cm)  \\\n",
       "0                5.1               3.5                1.4               0.2   \n",
       "1                4.9               3.0                1.4               0.2   \n",
       "2                4.7               3.2                1.3               0.2   \n",
       "3                4.6               3.1                1.5               0.2   \n",
       "4                5.0               3.6                1.4               0.2   \n",
       "\n",
       "   resultado  \n",
       "0        0.0  \n",
       "1        0.0  \n",
       "2        0.0  \n",
       "3        0.0  \n",
       "4        0.0  "
      ]
     },
     "execution_count": 88,
     "metadata": {},
     "output_type": "execute_result"
    }
   ],
   "source": [
    "df_iris.head()"
   ]
  },
  {
   "cell_type": "code",
   "execution_count": 94,
   "metadata": {},
   "outputs": [
    {
     "data": {
      "image/png": "[encoded data removed]",
      "text/plain": [
       "<Figure size 1000x1000 with 5 Axes>"
      ]
     },
     "metadata": {},
     "output_type": "display_data"
    }
   ],
   "source": [
    "Xs=['sepal length (cm)','sepal width (cm)','petal length (cm)','petal width (cm)','resultado']\n",
    "plt.figure(figsize=(10,10))\n",
    "for contador in range(5):\n",
    "    plt.subplot(3,2,contador+1)\n",
    "    plt.xlabel(Xs[contador],fontsize=8)\n",
    "    if contador<5:\n",
    "        sns.histplot(df_iris,x=Xs[contador],legend=None)\n",
    "    else:\n",
    "        sns.countplot(df_iris,x=Xs[contador],legend=None)\n",
    "\n",
    "\n",
    "plt.tight_layout()\n",
    "plt.show()\n"
   ]
  },
  {
   "cell_type": "markdown",
   "metadata": {},
   "source": [
    "Representa la matriz de correlaciones"
   ]
  },
  {
   "cell_type": "code",
   "execution_count": 89,
   "metadata": {},
   "outputs": [
    {
     "data": {
      "text/plain": [
       "resultado            1.000000\n",
       "petal width (cm)     0.956547\n",
       "petal length (cm)    0.949035\n",
       "sepal length (cm)    0.782561\n",
       "sepal width (cm)     0.426658\n",
       "Name: resultado, dtype: float64"
      ]
     },
     "execution_count": 89,
     "metadata": {},
     "output_type": "execute_result"
    }
   ],
   "source": [
    "corr_matrix = df_iris.corr(numeric_only=True).abs()\n",
    "target_corr=corr_matrix['resultado'].sort_values(ascending=False)\n",
    "target_corr"
   ]
  },
  {
   "cell_type": "code",
   "execution_count": 90,
   "metadata": {},
   "outputs": [
    {
     "data": {
      "text/html": [
       "<style type=\"text/css\">\n",
       "#T_31b2f_row0_col0, #T_31b2f_row1_col1, #T_31b2f_row2_col2, #T_31b2f_row3_col3, #T_31b2f_row4_col4 {\n",
       "  background-color: #023858;\n",
       "  color: #f1f1f1;\n",
       "}\n",
       "#T_31b2f_row0_col1, #T_31b2f_row1_col0, #T_31b2f_row1_col2, #T_31b2f_row1_col3, #T_31b2f_row1_col4 {\n",
       "  background-color: #fff7fb;\n",
       "  color: #000000;\n",
       "}\n",
       "#T_31b2f_row0_col2 {\n",
       "  background-color: #056ba9;\n",
       "  color: #f1f1f1;\n",
       "}\n",
       "#T_31b2f_row0_col3 {\n",
       "  background-color: #1379b5;\n",
       "  color: #f1f1f1;\n",
       "}\n",
       "#T_31b2f_row0_col4 {\n",
       "  background-color: #3991c1;\n",
       "  color: #f1f1f1;\n",
       "}\n",
       "#T_31b2f_row2_col0 {\n",
       "  background-color: #045e93;\n",
       "  color: #f1f1f1;\n",
       "}\n",
       "#T_31b2f_row2_col1 {\n",
       "  background-color: #adc1dd;\n",
       "  color: #000000;\n",
       "}\n",
       "#T_31b2f_row2_col3 {\n",
       "  background-color: #03476f;\n",
       "  color: #f1f1f1;\n",
       "}\n",
       "#T_31b2f_row2_col4, #T_31b2f_row4_col2 {\n",
       "  background-color: #034f7d;\n",
       "  color: #f1f1f1;\n",
       "}\n",
       "#T_31b2f_row3_col0 {\n",
       "  background-color: #0568a3;\n",
       "  color: #f1f1f1;\n",
       "}\n",
       "#T_31b2f_row3_col1 {\n",
       "  background-color: #c5cce3;\n",
       "  color: #000000;\n",
       "}\n",
       "#T_31b2f_row3_col2 {\n",
       "  background-color: #034973;\n",
       "  color: #f1f1f1;\n",
       "}\n",
       "#T_31b2f_row3_col4 {\n",
       "  background-color: #034c78;\n",
       "  color: #f1f1f1;\n",
       "}\n",
       "#T_31b2f_row4_col0 {\n",
       "  background-color: #056faf;\n",
       "  color: #f1f1f1;\n",
       "}\n",
       "#T_31b2f_row4_col1 {\n",
       "  background-color: #afc1dd;\n",
       "  color: #000000;\n",
       "}\n",
       "#T_31b2f_row4_col3 {\n",
       "  background-color: #034a74;\n",
       "  color: #f1f1f1;\n",
       "}\n",
       "</style>\n",
       "<table id=\"T_31b2f\">\n",
       "  <thead>\n",
       "    <tr>\n",
       "      <th class=\"blank level0\" >&nbsp;</th>\n",
       "      <th id=\"T_31b2f_level0_col0\" class=\"col_heading level0 col0\" >sepal length (cm)</th>\n",
       "      <th id=\"T_31b2f_level0_col1\" class=\"col_heading level0 col1\" >sepal width (cm)</th>\n",
       "      <th id=\"T_31b2f_level0_col2\" class=\"col_heading level0 col2\" >petal length (cm)</th>\n",
       "      <th id=\"T_31b2f_level0_col3\" class=\"col_heading level0 col3\" >petal width (cm)</th>\n",
       "      <th id=\"T_31b2f_level0_col4\" class=\"col_heading level0 col4\" >resultado</th>\n",
       "    </tr>\n",
       "  </thead>\n",
       "  <tbody>\n",
       "    <tr>\n",
       "      <th id=\"T_31b2f_level0_row0\" class=\"row_heading level0 row0\" >sepal length (cm)</th>\n",
       "      <td id=\"T_31b2f_row0_col0\" class=\"data row0 col0\" >1.000000</td>\n",
       "      <td id=\"T_31b2f_row0_col1\" class=\"data row0 col1\" >0.117570</td>\n",
       "      <td id=\"T_31b2f_row0_col2\" class=\"data row0 col2\" >0.871754</td>\n",
       "      <td id=\"T_31b2f_row0_col3\" class=\"data row0 col3\" >0.817941</td>\n",
       "      <td id=\"T_31b2f_row0_col4\" class=\"data row0 col4\" >0.782561</td>\n",
       "    </tr>\n",
       "    <tr>\n",
       "      <th id=\"T_31b2f_level0_row1\" class=\"row_heading level0 row1\" >sepal width (cm)</th>\n",
       "      <td id=\"T_31b2f_row1_col0\" class=\"data row1 col0\" >0.117570</td>\n",
       "      <td id=\"T_31b2f_row1_col1\" class=\"data row1 col1\" >1.000000</td>\n",
       "      <td id=\"T_31b2f_row1_col2\" class=\"data row1 col2\" >0.428440</td>\n",
       "      <td id=\"T_31b2f_row1_col3\" class=\"data row1 col3\" >0.366126</td>\n",
       "      <td id=\"T_31b2f_row1_col4\" class=\"data row1 col4\" >0.426658</td>\n",
       "    </tr>\n",
       "    <tr>\n",
       "      <th id=\"T_31b2f_level0_row2\" class=\"row_heading level0 row2\" >petal length (cm)</th>\n",
       "      <td id=\"T_31b2f_row2_col0\" class=\"data row2 col0\" >0.871754</td>\n",
       "      <td id=\"T_31b2f_row2_col1\" class=\"data row2 col1\" >0.428440</td>\n",
       "      <td id=\"T_31b2f_row2_col2\" class=\"data row2 col2\" >1.000000</td>\n",
       "      <td id=\"T_31b2f_row2_col3\" class=\"data row2 col3\" >0.962865</td>\n",
       "      <td id=\"T_31b2f_row2_col4\" class=\"data row2 col4\" >0.949035</td>\n",
       "    </tr>\n",
       "    <tr>\n",
       "      <th id=\"T_31b2f_level0_row3\" class=\"row_heading level0 row3\" >petal width (cm)</th>\n",
       "      <td id=\"T_31b2f_row3_col0\" class=\"data row3 col0\" >0.817941</td>\n",
       "      <td id=\"T_31b2f_row3_col1\" class=\"data row3 col1\" >0.366126</td>\n",
       "      <td id=\"T_31b2f_row3_col2\" class=\"data row3 col2\" >0.962865</td>\n",
       "      <td id=\"T_31b2f_row3_col3\" class=\"data row3 col3\" >1.000000</td>\n",
       "      <td id=\"T_31b2f_row3_col4\" class=\"data row3 col4\" >0.956547</td>\n",
       "    </tr>\n",
       "    <tr>\n",
       "      <th id=\"T_31b2f_level0_row4\" class=\"row_heading level0 row4\" >resultado</th>\n",
       "      <td id=\"T_31b2f_row4_col0\" class=\"data row4 col0\" >0.782561</td>\n",
       "      <td id=\"T_31b2f_row4_col1\" class=\"data row4 col1\" >0.426658</td>\n",
       "      <td id=\"T_31b2f_row4_col2\" class=\"data row4 col2\" >0.949035</td>\n",
       "      <td id=\"T_31b2f_row4_col3\" class=\"data row4 col3\" >0.956547</td>\n",
       "      <td id=\"T_31b2f_row4_col4\" class=\"data row4 col4\" >1.000000</td>\n",
       "    </tr>\n",
       "  </tbody>\n",
       "</table>\n"
      ],
      "text/plain": [
       "<pandas.io.formats.style.Styler at 0x1eb54e27e90>"
      ]
     },
     "execution_count": 90,
     "metadata": {},
     "output_type": "execute_result"
    }
   ],
   "source": [
    "corr_matrix.style.background_gradient()"
   ]
  },
  {
   "cell_type": "markdown",
   "metadata": {},
   "source": [
    "#### DIVIDIR LOS DATOS"
   ]
  },
  {
   "cell_type": "code",
   "execution_count": 92,
   "metadata": {},
   "outputs": [],
   "source": [
    "df_iris_train, df_iris_test = train_test_split(df_iris, test_size=0.15, random_state=17)\n",
    "\n",
    "df_iris_train_y = df_iris_train['resultado'].copy()\n",
    "df_iris_train_x = df_iris_train.drop('resultado',axis=1)\n",
    "\n",
    "df_iris_test_y = df_iris_test['resultado'].copy()\n",
    "df_iris_test_x = df_iris_test.drop('resultado',axis=1)\n"
   ]
  },
  {
   "cell_type": "markdown",
   "metadata": {},
   "source": [
    "#### PREPARAR LOS DATOS"
   ]
  },
  {
   "cell_type": "markdown",
   "metadata": {},
   "source": [
    "Solo hay que estandarizar las columnas y por lo tanto se puede hacer directamente en la pipeline que define el modelo en el siguiente punto"
   ]
  },
  {
   "cell_type": "markdown",
   "metadata": {},
   "source": [
    "### SELECCIÓN Y ENTRENAMIENTO DEL MODELO"
   ]
  },
  {
   "cell_type": "markdown",
   "metadata": {},
   "source": [
    "Crear y entrenar el modelo con regresión logística y validacion cruzada ¿cuál es la exactitud en el conjunto de entrenamiento?"
   ]
  },
  {
   "cell_type": "code",
   "execution_count": 106,
   "metadata": {},
   "outputs": [
    {
     "name": "stdout",
     "output_type": "stream",
     "text": [
      "Exactitud del modelo con el conjunto de entrenamiento: 0.9606299212598425\n"
     ]
    }
   ],
   "source": [
    "modelo_LogR = make_pipeline(StandardScaler(),LogisticRegression())\n",
    "modelo_LogR.fit(df_iris_train_x, df_iris_train_y)\n",
    "predicciones_train_iris = cross_val_predict(modelo_LogR, df_iris_train_x, df_iris_train_y, cv=5)\n",
    "exactitud_train_iris = accuracy_score(df_iris_train_y, predicciones_train_iris)\n",
    "print(\"Exactitud del modelo con el conjunto de entrenamiento:\",exactitud_train_iris)"
   ]
  },
  {
   "cell_type": "markdown",
   "metadata": {},
   "source": [
    "Calcula matriz de confusion, precision, recall y f1 en el conjunto de entrenamiento"
   ]
  },
  {
   "cell_type": "code",
   "execution_count": 107,
   "metadata": {},
   "outputs": [
    {
     "name": "stdout",
     "output_type": "stream",
     "text": [
      "Precisión en el conjunto de entrenamiento: 0.9602428515471995\n",
      "Sensibilidad en el conjunto de entrenamiento: 0.958869395711501\n",
      "F1 en el conjunto de entrenamiento: 0.9594627594627595\n"
     ]
    },
    {
     "data": {
      "image/png": "[encoded data removed]",
      "text/plain": [
       "<Figure size 400x300 with 2 Axes>"
      ]
     },
     "metadata": {},
     "output_type": "display_data"
    }
   ],
   "source": [
    "matrix = confusion_matrix(df_iris_train_y,predicciones_train_iris)\n",
    "\n",
    "# Calcular la precision con la media macro dado a que tenemos datos balanceados\n",
    "precission_train_iris = precision_score(df_iris_train_y, predicciones_train_iris, average='macro')\n",
    "\n",
    "# Calcular la sensibildiad o recall\n",
    "sensibilidad_train_iris = recall_score(df_iris_train_y, predicciones_train_iris, average='macro')\n",
    "\n",
    "# Calcular el F-1\n",
    "f1_train_iris = f1_score(df_iris_train_y, predicciones_train_iris, average='macro')\n",
    "\n",
    "# Enseñar resultado\n",
    "\n",
    "print(\"Precisión en el conjunto de entrenamiento:\",precission_train_iris)\n",
    "print(\"Sensibilidad en el conjunto de entrenamiento:\",sensibilidad_train_iris)\n",
    "print(\"F1 en el conjunto de entrenamiento:\",f1_train_iris)\n",
    "\n",
    "\n",
    "# Crear el gráfico con Seaborn\n",
    "plt.figure(figsize=(4, 3))\n",
    "sns.heatmap(matrix, annot=True, fmt='d', xticklabels=['Clase 0', 'Clase 1', 'Clase 2'], yticklabels=['Clase 0', 'Clase 1', 'Clase 2'])\n",
    "plt.title('Matriz de Confusión')\n",
    "plt.xlabel('Predicción')\n",
    "plt.ylabel('Valor real')\n",
    "plt.show()\n",
    "\n"
   ]
  },
  {
   "cell_type": "markdown",
   "metadata": {},
   "source": [
    "¿Qué podemos deducir?"
   ]
  },
  {
   "cell_type": "code",
   "execution_count": null,
   "metadata": {},
   "outputs": [],
   "source": [
    "# Hay 0 problemas con las clase 0 (¿mas bien clase 0 problemas?)\n",
    "# Confundo muy rara vez la clase 1 con la dos"
   ]
  },
  {
   "cell_type": "markdown",
   "metadata": {},
   "source": [
    "### OPTIMIZACIÓN DEL MODELO"
   ]
  },
  {
   "cell_type": "markdown",
   "metadata": {},
   "source": [
    "Aplica búsqueda exhaustiva con los hiperparámetros de LogisticRegression (C y solver) y guarda el mejor modelo en una variable."
   ]
  },
  {
   "cell_type": "code",
   "execution_count": 108,
   "metadata": {},
   "outputs": [
    {
     "name": "stdout",
     "output_type": "stream",
     "text": [
      "Fitting 5 folds for each of 18 candidates, totalling 90 fits\n",
      "Mejores hiperparámetros: {'logisticregression__C': 10, 'logisticregression__max_iter': 5000, 'logisticregression__random_state': 17, 'logisticregression__solver': 'lbfgs'}\n"
     ]
    }
   ],
   "source": [
    "param_grid = {\n",
    "    'logisticregression__C': [0.001, 0.01, 0.1, 1, 10, 100],            # Inverso de la fuerza de regularización\n",
    "    'logisticregression__solver': ['lbfgs', 'saga', 'liblinear'],       # Algoritmos de optimización\n",
    "    'logisticregression__max_iter': [5000],                             # Número máximo de iteraciones\n",
    "    'logisticregression__random_state': [17]                            # Fijar la semilla para reproducibilidad\n",
    "}\n",
    "\n",
    "# Configurar la búsqueda en rejilla\n",
    "grid_search = GridSearchCV(\n",
    "    estimator=modelo_LogR,\n",
    "    param_grid=param_grid,   # Usamos param_grid en lugar de param_distributions\n",
    "    scoring=\"accuracy\",      # Métrica de evaluación\n",
    "    cv=5,                    # Validación cruzada con 5 folds\n",
    "    verbose=1,               # Mostrar progreso\n",
    "    n_jobs=-1,               # Usar todos los núcleos disponibles\n",
    ")\n",
    "\n",
    "# Realizar la búsqueda en rejilla en el conjunto de entrenamiento\n",
    "grid_search.fit(df_iris_train_x, df_iris_train_y)\n",
    "\n",
    "# Mostrar los mejores hiperparámetros encontrados\n",
    "print(\"Mejores hiperparámetros:\", grid_search.best_params_)"
   ]
  },
  {
   "cell_type": "markdown",
   "metadata": {},
   "source": [
    "### EVALUACIÓN DEL MODELO"
   ]
  },
  {
   "cell_type": "markdown",
   "metadata": {},
   "source": [
    "Evalua este mejor modelo en el conjunto de pruebas (exactitud, matriz de confusión, precision, recall y f1)"
   ]
  },
  {
   "cell_type": "code",
   "execution_count": 112,
   "metadata": {},
   "outputs": [
    {
     "name": "stdout",
     "output_type": "stream",
     "text": [
      "Exactitud del modelo con el conjunto de prueba: 0.9565217391304348\n",
      "Precisión en el conjunto de prueba: 0.9444444444444445\n",
      "Sensibilidad en el conjunto de prueba: 0.9552042160737813\n",
      "F1 en el conjunto de prueba: 0.9552042160737813\n"
     ]
    },
    {
     "data": {
      "image/png": "[encoded data removed]",
      "text/plain": [
       "<Figure size 400x300 with 2 Axes>"
      ]
     },
     "metadata": {},
     "output_type": "display_data"
    }
   ],
   "source": [
    "best_model = grid_search.best_estimator_\n",
    "y_predicciones_iris_opti = best_model.predict(df_iris_test_x)\n",
    "\n",
    "\n",
    "exactitud_test_iris = accuracy_score(df_iris_test_y, y_predicciones_iris_opti)\n",
    "precission_test_iris = precision_score(df_iris_test_y, y_predicciones_iris_opti, average='macro')\n",
    "sensibilidad_test_iris = recall_score(df_iris_test_y, y_predicciones_iris_opti, average='macro')\n",
    "f1_test_iris = f1_score(df_iris_test_y, y_predicciones_iris_opti, average='macro')\n",
    "\n",
    "matrix_test = confusion_matrix(df_iris_test_y,y_predicciones_iris_opti)\n",
    "\n",
    "print(\"Exactitud del modelo con el conjunto de prueba:\",exactitud_test_iris)\n",
    "print(\"Precisión en el conjunto de prueba:\",precission_test_iris)\n",
    "print(\"Sensibilidad en el conjunto de prueba:\",f1_test_iris)\n",
    "print(\"F1 en el conjunto de prueba:\",f1_train_iris)\n",
    "\n",
    "\n",
    "# Crear el gráfico con Seaborn\n",
    "plt.figure(figsize=(4, 3))\n",
    "sns.heatmap(matrix_test, annot=True, fmt='d', xticklabels=['Clase 0', 'Clase 1', 'Clase 2'], yticklabels=['Clase 0', 'Clase 1', 'Clase 2'])\n",
    "plt.title('Matriz de Confusión')\n",
    "plt.xlabel('Predicción')\n",
    "plt.ylabel('Valor real')\n",
    "plt.show()\n"
   ]
  },
  {
   "cell_type": "markdown",
   "metadata": {},
   "source": [
    "### PRESENTACIÓN DEL MODELO"
   ]
  },
  {
   "cell_type": "markdown",
   "metadata": {},
   "source": [
    "Guarda el modelo en un archivo"
   ]
  },
  {
   "cell_type": "code",
   "execution_count": 113,
   "metadata": {},
   "outputs": [
    {
     "data": {
      "text/plain": [
       "['./solucion2/modelo_iris.pkl']"
      ]
     },
     "execution_count": 113,
     "metadata": {},
     "output_type": "execute_result"
    }
   ],
   "source": [
    "joblib.dump(best_model, \"./solucion2/modelo_iris.pkl\")"
   ]
  },
  {
   "cell_type": "markdown",
   "metadata": {},
   "source": [
    "## EJERCICIO 5"
   ]
  },
  {
   "cell_type": "markdown",
   "metadata": {},
   "source": [
    "Intenta predecir las emisiones de CO2 con el menor error posible (sigue todos los pasos incluido crear un script para que haga predicciones).\n",
    "\n",
    "Prueba diferentes modelos para intentar construir el mejor modelo posible (explica todos los pasos que das hasta llegar a la solución, quiero ver también los modelos que pruebas y luego los rechazas)\n",
    "\n",
    "Dataset: https://www.kaggle.com/datasets/midhundasl/co2-emission-of-cars-dataset"
   ]
  },
  {
   "cell_type": "code",
   "execution_count": 127,
   "metadata": {},
   "outputs": [
    {
     "name": "stdout",
     "output_type": "stream",
     "text": [
      "<class 'pandas.core.frame.DataFrame'>\n",
      "RangeIndex: 36 entries, 0 to 35\n",
      "Data columns (total 6 columns):\n",
      " #   Column      Non-Null Count  Dtype  \n",
      "---  ------      --------------  -----  \n",
      " 0   Car         36 non-null     object \n",
      " 1   Model       36 non-null     object \n",
      " 2   Volume      36 non-null     int64  \n",
      " 3   Weight      36 non-null     int64  \n",
      " 4   CO2         36 non-null     int64  \n",
      " 5   Unnamed: 5  0 non-null      float64\n",
      "dtypes: float64(1), int64(3), object(2)\n",
      "memory usage: 1.8+ KB\n"
     ]
    }
   ],
   "source": [
    "data_co2 = pd.read_csv(\"./Datos/CO2.csv\")\n",
    "df_co2= pd.DataFrame(data=data_co2)\n",
    "df_co2.info()\n"
   ]
  },
  {
   "cell_type": "code",
   "execution_count": 128,
   "metadata": {},
   "outputs": [
    {
     "name": "stdout",
     "output_type": "stream",
     "text": [
      "<class 'pandas.core.frame.DataFrame'>\n",
      "RangeIndex: 36 entries, 0 to 35\n",
      "Data columns (total 5 columns):\n",
      " #   Column  Non-Null Count  Dtype \n",
      "---  ------  --------------  ----- \n",
      " 0   Car     36 non-null     object\n",
      " 1   Model   36 non-null     object\n",
      " 2   Volume  36 non-null     int64 \n",
      " 3   Weight  36 non-null     int64 \n",
      " 4   CO2     36 non-null     int64 \n",
      "dtypes: int64(3), object(2)\n",
      "memory usage: 1.5+ KB\n"
     ]
    }
   ],
   "source": [
    "df_co2=df_co2.drop('Unnamed: 5',axis=1)\n",
    "df_co2.info()"
   ]
  },
  {
   "cell_type": "code",
   "execution_count": 129,
   "metadata": {},
   "outputs": [
    {
     "data": {
      "text/html": [
       "<div>\n",
       "<style scoped>\n",
       "    .dataframe tbody tr th:only-of-type {\n",
       "        vertical-align: middle;\n",
       "    }\n",
       "\n",
       "    .dataframe tbody tr th {\n",
       "        vertical-align: top;\n",
       "    }\n",
       "\n",
       "    .dataframe thead th {\n",
       "        text-align: right;\n",
       "    }\n",
       "</style>\n",
       "<table border=\"1\" class=\"dataframe\">\n",
       "  <thead>\n",
       "    <tr style=\"text-align: right;\">\n",
       "      <th></th>\n",
       "      <th>Volume</th>\n",
       "      <th>Weight</th>\n",
       "      <th>CO2</th>\n",
       "    </tr>\n",
       "  </thead>\n",
       "  <tbody>\n",
       "    <tr>\n",
       "      <th>count</th>\n",
       "      <td>36.000000</td>\n",
       "      <td>36.000000</td>\n",
       "      <td>36.000000</td>\n",
       "    </tr>\n",
       "    <tr>\n",
       "      <th>mean</th>\n",
       "      <td>1611.111111</td>\n",
       "      <td>1292.277778</td>\n",
       "      <td>102.027778</td>\n",
       "    </tr>\n",
       "    <tr>\n",
       "      <th>std</th>\n",
       "      <td>388.975047</td>\n",
       "      <td>242.123889</td>\n",
       "      <td>7.454571</td>\n",
       "    </tr>\n",
       "    <tr>\n",
       "      <th>min</th>\n",
       "      <td>900.000000</td>\n",
       "      <td>790.000000</td>\n",
       "      <td>90.000000</td>\n",
       "    </tr>\n",
       "    <tr>\n",
       "      <th>25%</th>\n",
       "      <td>1475.000000</td>\n",
       "      <td>1117.250000</td>\n",
       "      <td>97.750000</td>\n",
       "    </tr>\n",
       "    <tr>\n",
       "      <th>50%</th>\n",
       "      <td>1600.000000</td>\n",
       "      <td>1329.000000</td>\n",
       "      <td>99.000000</td>\n",
       "    </tr>\n",
       "    <tr>\n",
       "      <th>75%</th>\n",
       "      <td>2000.000000</td>\n",
       "      <td>1418.250000</td>\n",
       "      <td>105.000000</td>\n",
       "    </tr>\n",
       "    <tr>\n",
       "      <th>max</th>\n",
       "      <td>2500.000000</td>\n",
       "      <td>1746.000000</td>\n",
       "      <td>120.000000</td>\n",
       "    </tr>\n",
       "  </tbody>\n",
       "</table>\n",
       "</div>"
      ],
      "text/plain": [
       "            Volume       Weight         CO2\n",
       "count    36.000000    36.000000   36.000000\n",
       "mean   1611.111111  1292.277778  102.027778\n",
       "std     388.975047   242.123889    7.454571\n",
       "min     900.000000   790.000000   90.000000\n",
       "25%    1475.000000  1117.250000   97.750000\n",
       "50%    1600.000000  1329.000000   99.000000\n",
       "75%    2000.000000  1418.250000  105.000000\n",
       "max    2500.000000  1746.000000  120.000000"
      ]
     },
     "execution_count": 129,
     "metadata": {},
     "output_type": "execute_result"
    }
   ],
   "source": [
    "df_co2.describe()"
   ]
  },
  {
   "cell_type": "code",
   "execution_count": 130,
   "metadata": {},
   "outputs": [
    {
     "data": {
      "text/html": [
       "<div>\n",
       "<style scoped>\n",
       "    .dataframe tbody tr th:only-of-type {\n",
       "        vertical-align: middle;\n",
       "    }\n",
       "\n",
       "    .dataframe tbody tr th {\n",
       "        vertical-align: top;\n",
       "    }\n",
       "\n",
       "    .dataframe thead th {\n",
       "        text-align: right;\n",
       "    }\n",
       "</style>\n",
       "<table border=\"1\" class=\"dataframe\">\n",
       "  <thead>\n",
       "    <tr style=\"text-align: right;\">\n",
       "      <th></th>\n",
       "      <th>Car</th>\n",
       "      <th>Model</th>\n",
       "    </tr>\n",
       "  </thead>\n",
       "  <tbody>\n",
       "    <tr>\n",
       "      <th>count</th>\n",
       "      <td>36</td>\n",
       "      <td>36</td>\n",
       "    </tr>\n",
       "    <tr>\n",
       "      <th>unique</th>\n",
       "      <td>17</td>\n",
       "      <td>35</td>\n",
       "    </tr>\n",
       "    <tr>\n",
       "      <th>top</th>\n",
       "      <td>Mercedes</td>\n",
       "      <td>Fiesta</td>\n",
       "    </tr>\n",
       "    <tr>\n",
       "      <th>freq</th>\n",
       "      <td>5</td>\n",
       "      <td>2</td>\n",
       "    </tr>\n",
       "  </tbody>\n",
       "</table>\n",
       "</div>"
      ],
      "text/plain": [
       "             Car   Model\n",
       "count         36      36\n",
       "unique        17      35\n",
       "top     Mercedes  Fiesta\n",
       "freq           5       2"
      ]
     },
     "execution_count": 130,
     "metadata": {},
     "output_type": "execute_result"
    }
   ],
   "source": [
    "df_co2.describe(include=\"object\")"
   ]
  },
  {
   "cell_type": "code",
   "execution_count": 123,
   "metadata": {},
   "outputs": [
    {
     "data": {
      "text/html": [
       "<div>\n",
       "<style scoped>\n",
       "    .dataframe tbody tr th:only-of-type {\n",
       "        vertical-align: middle;\n",
       "    }\n",
       "\n",
       "    .dataframe tbody tr th {\n",
       "        vertical-align: top;\n",
       "    }\n",
       "\n",
       "    .dataframe thead th {\n",
       "        text-align: right;\n",
       "    }\n",
       "</style>\n",
       "<table border=\"1\" class=\"dataframe\">\n",
       "  <thead>\n",
       "    <tr style=\"text-align: right;\">\n",
       "      <th></th>\n",
       "      <th>Car</th>\n",
       "      <th>Model</th>\n",
       "      <th>Volume</th>\n",
       "      <th>Weight</th>\n",
       "      <th>CO2</th>\n",
       "    </tr>\n",
       "  </thead>\n",
       "  <tbody>\n",
       "    <tr>\n",
       "      <th>0</th>\n",
       "      <td>Toyota</td>\n",
       "      <td>Aygo</td>\n",
       "      <td>1000</td>\n",
       "      <td>790</td>\n",
       "      <td>99</td>\n",
       "    </tr>\n",
       "    <tr>\n",
       "      <th>1</th>\n",
       "      <td>Mitsubishi</td>\n",
       "      <td>Space Star</td>\n",
       "      <td>1200</td>\n",
       "      <td>1160</td>\n",
       "      <td>95</td>\n",
       "    </tr>\n",
       "    <tr>\n",
       "      <th>2</th>\n",
       "      <td>Skoda</td>\n",
       "      <td>Citigo</td>\n",
       "      <td>1000</td>\n",
       "      <td>929</td>\n",
       "      <td>95</td>\n",
       "    </tr>\n",
       "    <tr>\n",
       "      <th>3</th>\n",
       "      <td>Fiat</td>\n",
       "      <td>500</td>\n",
       "      <td>900</td>\n",
       "      <td>865</td>\n",
       "      <td>90</td>\n",
       "    </tr>\n",
       "    <tr>\n",
       "      <th>4</th>\n",
       "      <td>Mini</td>\n",
       "      <td>Cooper</td>\n",
       "      <td>1500</td>\n",
       "      <td>1140</td>\n",
       "      <td>105</td>\n",
       "    </tr>\n",
       "    <tr>\n",
       "      <th>5</th>\n",
       "      <td>VW</td>\n",
       "      <td>Up!</td>\n",
       "      <td>1000</td>\n",
       "      <td>929</td>\n",
       "      <td>105</td>\n",
       "    </tr>\n",
       "    <tr>\n",
       "      <th>6</th>\n",
       "      <td>Skoda</td>\n",
       "      <td>Fabia</td>\n",
       "      <td>1400</td>\n",
       "      <td>1109</td>\n",
       "      <td>90</td>\n",
       "    </tr>\n",
       "    <tr>\n",
       "      <th>7</th>\n",
       "      <td>Mercedes</td>\n",
       "      <td>A-Class</td>\n",
       "      <td>1500</td>\n",
       "      <td>1365</td>\n",
       "      <td>92</td>\n",
       "    </tr>\n",
       "  </tbody>\n",
       "</table>\n",
       "</div>"
      ],
      "text/plain": [
       "          Car       Model  Volume  Weight  CO2\n",
       "0      Toyota        Aygo    1000     790   99\n",
       "1  Mitsubishi  Space Star    1200    1160   95\n",
       "2       Skoda      Citigo    1000     929   95\n",
       "3        Fiat         500     900     865   90\n",
       "4        Mini      Cooper    1500    1140  105\n",
       "5          VW         Up!    1000     929  105\n",
       "6       Skoda       Fabia    1400    1109   90\n",
       "7    Mercedes     A-Class    1500    1365   92"
      ]
     },
     "execution_count": 123,
     "metadata": {},
     "output_type": "execute_result"
    }
   ],
   "source": [
    "df_co2.head(8)"
   ]
  },
  {
   "cell_type": "code",
   "execution_count": 125,
   "metadata": {},
   "outputs": [
    {
     "data": {
      "text/plain": [
       "CO2       1.000000\n",
       "Volume    0.592082\n",
       "Weight    0.552150\n",
       "Name: CO2, dtype: float64"
      ]
     },
     "execution_count": 125,
     "metadata": {},
     "output_type": "execute_result"
    }
   ],
   "source": [
    "corr_matrix = df_co2.corr(numeric_only=True).abs()\n",
    "target_corr=corr_matrix['CO2'].sort_values(ascending=False)\n",
    "target_corr"
   ]
  },
  {
   "cell_type": "code",
   "execution_count": 131,
   "metadata": {},
   "outputs": [
    {
     "data": {
      "text/html": [
       "<style type=\"text/css\">\n",
       "#T_754f3_row0_col0, #T_754f3_row1_col1, #T_754f3_row2_col2 {\n",
       "  background-color: #023858;\n",
       "  color: #f1f1f1;\n",
       "}\n",
       "#T_754f3_row0_col1 {\n",
       "  background-color: #88b1d4;\n",
       "  color: #000000;\n",
       "}\n",
       "#T_754f3_row0_col2 {\n",
       "  background-color: #f2ecf5;\n",
       "  color: #000000;\n",
       "}\n",
       "#T_754f3_row1_col0 {\n",
       "  background-color: #9ebad9;\n",
       "  color: #000000;\n",
       "}\n",
       "#T_754f3_row1_col2, #T_754f3_row2_col0, #T_754f3_row2_col1 {\n",
       "  background-color: #fff7fb;\n",
       "  color: #000000;\n",
       "}\n",
       "</style>\n",
       "<table id=\"T_754f3\">\n",
       "  <thead>\n",
       "    <tr>\n",
       "      <th class=\"blank level0\" >&nbsp;</th>\n",
       "      <th id=\"T_754f3_level0_col0\" class=\"col_heading level0 col0\" >Volume</th>\n",
       "      <th id=\"T_754f3_level0_col1\" class=\"col_heading level0 col1\" >Weight</th>\n",
       "      <th id=\"T_754f3_level0_col2\" class=\"col_heading level0 col2\" >CO2</th>\n",
       "    </tr>\n",
       "  </thead>\n",
       "  <tbody>\n",
       "    <tr>\n",
       "      <th id=\"T_754f3_level0_row0\" class=\"row_heading level0 row0\" >Volume</th>\n",
       "      <td id=\"T_754f3_row0_col0\" class=\"data row0 col0\" >1.000000</td>\n",
       "      <td id=\"T_754f3_row0_col1\" class=\"data row0 col1\" >0.753537</td>\n",
       "      <td id=\"T_754f3_row0_col2\" class=\"data row0 col2\" >0.592082</td>\n",
       "    </tr>\n",
       "    <tr>\n",
       "      <th id=\"T_754f3_level0_row1\" class=\"row_heading level0 row1\" >Weight</th>\n",
       "      <td id=\"T_754f3_row1_col0\" class=\"data row1 col0\" >0.753537</td>\n",
       "      <td id=\"T_754f3_row1_col1\" class=\"data row1 col1\" >1.000000</td>\n",
       "      <td id=\"T_754f3_row1_col2\" class=\"data row1 col2\" >0.552150</td>\n",
       "    </tr>\n",
       "    <tr>\n",
       "      <th id=\"T_754f3_level0_row2\" class=\"row_heading level0 row2\" >CO2</th>\n",
       "      <td id=\"T_754f3_row2_col0\" class=\"data row2 col0\" >0.592082</td>\n",
       "      <td id=\"T_754f3_row2_col1\" class=\"data row2 col1\" >0.552150</td>\n",
       "      <td id=\"T_754f3_row2_col2\" class=\"data row2 col2\" >1.000000</td>\n",
       "    </tr>\n",
       "  </tbody>\n",
       "</table>\n"
      ],
      "text/plain": [
       "<pandas.io.formats.style.Styler at 0x1eb5cf2cb90>"
      ]
     },
     "execution_count": 131,
     "metadata": {},
     "output_type": "execute_result"
    }
   ],
   "source": [
    "corr_matrix.style.background_gradient()"
   ]
  },
  {
   "cell_type": "code",
   "execution_count": 132,
   "metadata": {},
   "outputs": [
    {
     "data": {
      "text/plain": [
       "Car\n",
       "Mercedes      5\n",
       "Ford          5\n",
       "Skoda         4\n",
       "Audi          3\n",
       "BMW           3\n",
       "Opel          3\n",
       "Volvo         3\n",
       "VW            1\n",
       "Mitsubishi    1\n",
       "Hyundai       1\n",
       "Suzuki        1\n",
       "Honda         1\n",
       "Hundai        1\n",
       "Mini          1\n",
       "Fiat          1\n",
       "Mazda         1\n",
       "Toyota        1\n",
       "Name: count, dtype: int64"
      ]
     },
     "execution_count": 132,
     "metadata": {},
     "output_type": "execute_result"
    }
   ],
   "source": [
    "df_co2[\"Car\"].value_counts()"
   ]
  },
  {
   "cell_type": "code",
   "execution_count": 133,
   "metadata": {},
   "outputs": [
    {
     "data": {
      "text/plain": [
       "Model\n",
       "Fiesta        2\n",
       "Aygo          1\n",
       "A6            1\n",
       "Insignia      1\n",
       "C-Class       1\n",
       "Octavia       1\n",
       "S60           1\n",
       "CLA           1\n",
       "A4            1\n",
       "V70           1\n",
       "Focus         1\n",
       "5             1\n",
       "E-Class       1\n",
       "XC70          1\n",
       "B-Max         1\n",
       "2             1\n",
       "Zafira        1\n",
       "Mondeo        1\n",
       "Rapid         1\n",
       "Space Star    1\n",
       "3             1\n",
       "1             1\n",
       "Astra         1\n",
       "I30           1\n",
       "Civic         1\n",
       "Swift         1\n",
       "I20           1\n",
       "A1            1\n",
       "A-Class       1\n",
       "Fabia         1\n",
       "Up!           1\n",
       "Cooper        1\n",
       "500           1\n",
       "Citigo        1\n",
       "SLK           1\n",
       "Name: count, dtype: int64"
      ]
     },
     "execution_count": 133,
     "metadata": {},
     "output_type": "execute_result"
    }
   ],
   "source": [
    "df_co2[\"Model\"].value_counts()"
   ]
  },
  {
   "cell_type": "code",
   "execution_count": 136,
   "metadata": {},
   "outputs": [
    {
     "data": {
      "image/png": "[encoded data removed]",
      "text/plain": [
       "<Figure size 640x480 with 1 Axes>"
      ]
     },
     "metadata": {},
     "output_type": "display_data"
    },
    {
     "data": {
      "image/png": "[encoded data removed]",
      "text/plain": [
       "<Figure size 640x480 with 1 Axes>"
      ]
     },
     "metadata": {},
     "output_type": "display_data"
    }
   ],
   "source": [
    "sns.histplot(df_co2,x=\"Volume\",legend=None)\n",
    "plt.show()\n",
    "sns.histplot(df_co2,x=\"Weight\",legend=None)\n",
    "plt.show()"
   ]
  },
  {
   "cell_type": "code",
   "execution_count": 137,
   "metadata": {},
   "outputs": [],
   "source": [
    "# Separamos los datos\n",
    "df_co2_train, df_co2_test = train_test_split(df_co2, test_size=0.15, random_state=17)\n",
    "\n",
    "df_co2_train_y = df_co2_train['CO2'].copy()\n",
    "df_co2_train_x = df_co2_train.drop('CO2',axis=1)\n",
    "\n",
    "df_co2_test_y = df_co2_test['CO2'].copy()\n",
    "df_co2_test_x = df_co2_test.drop('CO2',axis=1)"
   ]
  },
  {
   "cell_type": "code",
   "execution_count": 139,
   "metadata": {},
   "outputs": [],
   "source": [
    "preprocessing = ColumnTransformer([\n",
    "    (\"scaler\",StandardScaler(),[\"Volume\",\"Weight\"]),\n",
    "    (\"encoder\",OneHotEncoder(handle_unknown=\"ignore\"),[\"Car\",\"Model\"])\n",
    "])"
   ]
  },
  {
   "cell_type": "code",
   "execution_count": 161,
   "metadata": {},
   "outputs": [
    {
     "name": "stdout",
     "output_type": "stream",
     "text": [
      "LogisticRegression\n",
      "RMSE en el conjunto de entrenamiento: 5.750362307426087\n",
      "LinearRegression\n",
      "RMSE en el conjunto de entrenamiento: 6.692144577626143\n",
      "Ridge\n",
      "RMSE en el conjunto de entrenamiento: 6.427248925567717\n",
      "Lasso\n",
      "RMSE en el conjunto de entrenamiento: 6.246703272023338\n",
      "SGDRegressor\n",
      "RMSE en el conjunto de entrenamiento: 58.575012318074414\n",
      "SVR\n",
      "RMSE en el conjunto de entrenamiento: 7.032949793254897\n",
      "RandomForestRegressor\n",
      "RMSE en el conjunto de entrenamiento: 6.242429548394333\n"
     ]
    }
   ],
   "source": [
    "# Modelos a probar\n",
    "modelo_LogR=make_pipeline(preprocessing,LogisticRegression(random_state=17, max_iter=1000))\n",
    "modelo_LinR=make_pipeline(preprocessing,LinearRegression())\n",
    "modelo_Ridge=make_pipeline(preprocessing,Ridge())\n",
    "modelo_Lasso=make_pipeline(preprocessing,Lasso())\n",
    "modelo_SDG=make_pipeline(preprocessing,SGDRegressor(random_state=17))\n",
    "modelo_SVR=make_pipeline(preprocessing,SVR())\n",
    "modelo_RF=make_pipeline(preprocessing,RandomForestRegressor(random_state=17))\n",
    "\n",
    "modelos=[modelo_LogR,modelo_LinR,modelo_Ridge,modelo_Lasso,modelo_SDG,modelo_SVR,modelo_RF]\n",
    "\n",
    "for modelo in modelos:\n",
    "    modelo.fit(df_co2_train_x,df_co2_train_y)\n",
    "    y_predicciones = cross_val_predict(modelo, df_co2_train_x, df_co2_train_y, cv=5)\n",
    "\n",
    "   \n",
    "\n",
    "    print(modelo.steps[-1][1].__class__.__name__)\n",
    "    rmse_train = np.sqrt(mean_squared_error(df_co2_train_y, y_predicciones)) \n",
    "    print(\"RMSE en el conjunto de entrenamiento:\",rmse_train)\n",
    "    \n",
    "    "
   ]
  },
  {
   "cell_type": "code",
   "execution_count": null,
   "metadata": {},
   "outputs": [],
   "source": [
    "# SDG está un bastante perdido\n",
    "# Regrsion logistica parece ser el mejor modelo para este caso"
   ]
  },
  {
   "cell_type": "code",
   "execution_count": 160,
   "metadata": {},
   "outputs": [
    {
     "name": "stdout",
     "output_type": "stream",
     "text": [
      "Fitting 5 folds for each of 18 candidates, totalling 90 fits\n",
      "Mejores hiperparámetros: {'logisticregression__C': 0.001, 'logisticregression__max_iter': 5000, 'logisticregression__random_state': 17, 'logisticregression__solver': 'lbfgs'}\n"
     ]
    }
   ],
   "source": [
    "# Optimizacion del modelo\n",
    "param_grid = {\n",
    "    'logisticregression__C': [0.001, 0.01, 0.1, 1, 10, 100],            # Inverso de la fuerza de regularización\n",
    "    'logisticregression__solver': ['lbfgs', 'saga', 'liblinear'],       # Algoritmos de optimización\n",
    "    'logisticregression__max_iter': [5000],                             # Número máximo de iteraciones\n",
    "    'logisticregression__random_state': [17]                            # Fijar la semilla para reproducibilidad\n",
    "}\n",
    "\n",
    "# Configurar la búsqueda en rejilla\n",
    "grid_search = GridSearchCV(\n",
    "    estimator=modelo_LogR,\n",
    "    param_grid=param_grid,   # Usamos param_grid en lugar de param_distributions\n",
    "    scoring=\"accuracy\",      # Métrica de evaluación\n",
    "    cv=5,                    # Validación cruzada con 5 folds\n",
    "    verbose=1,               # Mostrar progreso\n",
    "    n_jobs=-1,               # Usar todos los núcleos disponibles\n",
    ")\n",
    "\n",
    "# Realizar la búsqueda en rejilla en el conjunto de entrenamiento\n",
    "grid_search.fit(df_co2_train_x, df_co2_train_y)\n",
    "\n",
    "# Mostrar los mejores hiperparámetros encontrados\n",
    "print(\"Mejores hiperparámetros:\", grid_search.best_params_)\n"
   ]
  },
  {
   "cell_type": "code",
   "execution_count": 162,
   "metadata": {},
   "outputs": [
    {
     "name": "stdout",
     "output_type": "stream",
     "text": [
      "RMSE en el conjunto de entrenamiento: 11.269427669584644\n"
     ]
    }
   ],
   "source": [
    "best_model = grid_search.best_estimator_\n",
    "y_predicciones_CO2_opti = best_model.predict(df_co2_test_x)\n",
    "\n",
    "rmse_test = np.sqrt(mean_squared_error(df_co2_test_y, y_predicciones_CO2_opti)) \n",
    "print(\"RMSE en el conjunto de entrenamiento:\",rmse_test)\n",
    "\n"
   ]
  },
  {
   "cell_type": "code",
   "execution_count": null,
   "metadata": {},
   "outputs": [],
   "source": [
    "# No es un modelo especialmente preciso, pero tambien es cierto que tampoco tenemos un volumen de datos precisamente extenso."
   ]
  },
  {
   "cell_type": "code",
   "execution_count": 163,
   "metadata": {},
   "outputs": [
    {
     "data": {
      "text/plain": [
       "['./solucion_ejer5/modelo2_11CO2.pkl']"
      ]
     },
     "execution_count": 163,
     "metadata": {},
     "output_type": "execute_result"
    }
   ],
   "source": [
    "# Guardamos el modelo\n",
    "joblib.dump(best_model, \"./solucion_ejer5/modelo2_11CO2.pkl\")"
   ]
  }
 ],
 "metadata": {
  "kernelspec": {
   "display_name": "base",
   "language": "python",
   "name": "python3"
  },
  "language_info": {
   "codemirror_mode": {
    "name": "ipython",
    "version": 3
   },
   "file_extension": ".py",
   "mimetype": "text/x-python",
   "name": "python",
   "nbconvert_exporter": "python",
   "pygments_lexer": "ipython3",
   "version": "3.12.4"
  },
  "nav_menu": {},
  "toc": {
   "navigate_menu": true,
   "number_sections": true,
   "sideBar": true,
   "threshold": 6,
   "toc_cell": false,
   "toc_section_display": "block",
   "toc_window_display": false
  }
 },
 "nbformat": 4,
 "nbformat_minor": 4
}
